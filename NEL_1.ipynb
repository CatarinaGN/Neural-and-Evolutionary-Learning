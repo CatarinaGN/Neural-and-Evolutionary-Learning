{
 "cells": [
  {
   "cell_type": "markdown",
   "id": "843c7148",
   "metadata": {},
   "source": [
    "<div style=\"display: flex; flex-direction: column; align-items: center; max-width: 100%; padding: 20px 0; margin: auto;\">\n",
    "    <img src=\"https://media.licdn.com/dms/image/v2/D4D3DAQFGx0XnuUvugA/image-scale_191_1128/image-scale_191_1128/0/1662458005755/nova_ims_information_management_school_cover?e=2147483647&v=beta&t=J3Q4LlZi36_4UAFhj2019QdtfXLn0kQwaX25jgaBhOQ\" \n",
    "         alt=\"Logo\" \n",
    "         style=\"width: 100%; max-width: 800px; height: auto; max-height: 150px; object-fit: cover; border: 3px solid hsla(120, 71.40%, 43.90%, 0.30); border-radius: 5px;\">\n",
    "    <div style=\"text-align: center; padding: 10px 0; max-width: 800px;\">\n",
    "        <h5 style=\"margin: 10px 0;\">This analysis is conducted as part of the <b><i>Neural and Evolutionary Learning</i></b> course, a component of the Master's program in Data Science and Advanced Analytics at the <b><u>Nova Information Management School</u></b>.</h5>\n",
    "    </div>\n",
    "    <h1 style=\"color: hsla(120, 71.40%, 43.90%, 0.30); margin: 10px 0;\"><b>Predict the Crude Protein Weight</b></h1>\n",
    "</div>"
   ]
  },
  {
   "cell_type": "markdown",
   "id": "487dd71d",
   "metadata": {},
   "source": [
    "<div style=\"text-align: center; margin: 20px 0;\">\n",
    "    <h3 style=\"margin-bottom: 15px;\"><u>Group 22</u></h3>\n",
    "    <table style=\"margin: 0 auto; border-collapse: collapse; width: 80%; max-width: 500px;\">\n",
    "        <thead>\n",
    "            <tr>\n",
    "                <th style=\"border-bottom: 1px solid #ddd; padding: 8px;\">Student Name</th>\n",
    "                <th style=\"border-bottom: 1px solid #ddd; padding: 8px;\">Student ID</th>\n",
    "            </tr>\n",
    "        </thead>\n",
    "        <tbody>\n",
    "            <tr>\n",
    "                <td style=\"border-bottom: 1px solid #ddd; padding: 8px;\">Catarina Nunes</td>\n",
    "                <td style=\"border-bottom: 1px solid #ddd; padding: 8px;\">20230083</td>\n",
    "            </tr>\n",
    "            <tr>\n",
    "                <td style=\"border-bottom: 1px solid #ddd; padding: 8px;\"></td>\n",
    "                <td style=\"border-bottom: 1px solid #ddd; padding: 8px;\"></td>\n",
    "            </tr>\n",
    "            <tr>\n",
    "                <td style=\"padding: 8px;\"></td>\n",
    "                <td style=\"padding: 8px;\"></td>\n",
    "            </tr>\n",
    "        </tbody>\n",
    "    </table>\n",
    "</div>"
   ]
  },
  {
   "cell_type": "markdown",
   "id": "a6b8d4b7",
   "metadata": {},
   "source": [
    "<a id=\"idx\"></a>\n",
    "<div style=\"background-color: hsla(120, 71.40%, 43.90%, 0.30); padding: 10px; border-radius: 8px; text-align: center; margin-top: 20px; margin-bottom: 20px;\">\n",
    "    <h1 style=\"color: white; margin: 0;\">Index</h1>\n",
    "</div>\n",
    "\n",
    "1. [Preprocessing the data](#preprocessing)\n",
    "2. [Choosing the method and parameters](#method-selection)\n",
    "3. [Estimating the predictive error](#error-estimation)\n",
    "4. [Inducing the final model](#model-induction)\n",
    "5. [Testing the final model](#final-testing)"
   ]
  },
  {
   "cell_type": "code",
   "execution_count": 1,
   "id": "04f00958",
   "metadata": {},
   "outputs": [],
   "source": [
    "import pandas as pd\n",
    "import numpy as np\n",
    "import matplotlib as plt"
   ]
  },
  {
   "cell_type": "markdown",
   "id": "9fc75bc9",
   "metadata": {},
   "source": [
    "<a id=\"preprocessing\"></a> \n",
    "<div style=\"background-color: hsla(120, 71.40%, 43.90%, 0.30); padding: 10px; border-radius: 8px; text-align: center; margin-top: 20px; margin-bottom: 20px;\">\n",
    "    <h3 style=\"color: white; margin: 0;\">Preprocessing the data</h3>\n",
    "</div>\n",
    "\n",
    "[Back to Index](#idx)"
   ]
  },
  {
   "cell_type": "code",
   "execution_count": null,
   "id": "e956dc3a",
   "metadata": {},
   "outputs": [],
   "source": []
  },
  {
   "cell_type": "code",
   "execution_count": null,
   "id": "8b2a4775",
   "metadata": {},
   "outputs": [],
   "source": []
  },
  {
   "cell_type": "markdown",
   "id": "2835d4e3",
   "metadata": {},
   "source": [
    "<a id=\"method-selection\"></a> \n",
    "<div style=\"background-color: hsla(120, 71.40%, 43.90%, 0.30); padding: 10px; border-radius: 8px; text-align: center; margin-top: 20px; margin-bottom: 20px;\">\n",
    "    <h3 style=\"color: white; margin: 0;\">Choosing the method and parameters</h3>\n",
    "</div>\n",
    "\n",
    "[Back to Index](#idx)"
   ]
  },
  {
   "cell_type": "markdown",
   "id": "d499e9e5",
   "metadata": {},
   "source": [
    "## <a id=\"error-estimation\"></a> \n",
    "<div style=\"background-color: hsla(120, 71.40%, 43.90%, 0.30); padding: 10px; border-radius: 8px; text-align: center; margin-top: 20px; margin-bottom: 20px;\">\n",
    "    <h3 style=\"color: white; margin: 0;\">Estimating the predictive error</h3>\n",
    "</div>\n",
    "\n",
    "[Back to Index](#idx)"
   ]
  },
  {
   "cell_type": "markdown",
   "id": "5b7375ef",
   "metadata": {},
   "source": []
  },
  {
   "cell_type": "markdown",
   "id": "24b86538",
   "metadata": {},
   "source": [
    "<a id=\"final-testing\"></a> \n",
    "<div style=\"background-color: hsla(120, 71.40%, 43.90%, 0.30); padding: 10px; border-radius: 8px; text-align: center; margin-top: 20px; margin-bottom: 20px;\">\n",
    "    <h3 style=\"color: white; margin: 0;\">Testing the final model</h3>\n",
    "</div>\n",
    "\n",
    "[Back to Index](#idx)"
   ]
  },
  {
   "cell_type": "code",
   "execution_count": null,
   "id": "c1bf334e",
   "metadata": {},
   "outputs": [],
   "source": []
  },
  {
   "cell_type": "code",
   "execution_count": null,
   "id": "c6ba6852",
   "metadata": {},
   "outputs": [],
   "source": []
  },
  {
   "cell_type": "code",
   "execution_count": null,
   "id": "13bf0e6c",
   "metadata": {},
   "outputs": [],
   "source": []
  },
  {
   "cell_type": "code",
   "execution_count": null,
   "id": "e2e56d19",
   "metadata": {},
   "outputs": [],
   "source": []
  },
  {
   "cell_type": "markdown",
   "id": "c8a55bb7",
   "metadata": {},
   "source": [
    "usar isto para justificar o uso de rmse:\n",
    "\n",
    "\n",
    "MAE is not very sensitive to outliers in comparison to MSE since it doesn’t\n",
    "punish huge errors.\n",
    "\n",
    "\n",
    "• MSE is more accurate than MAE as it highlights large errors over small ones.\n",
    "\n",
    "• MSE is differentiable which helps find the minimum and maximum values\n",
    "using mathematical methods more effectively.\n",
    "But…\n",
    "\n",
    "• MSE “squares” all the values, and so errors are extremized (each error point\n",
    "has a large impact).\n",
    "\n",
    "When to use MAE:\n",
    "• when outliers in the data are comparatively\n",
    "low, as it is not very sensitive to the outlier\n",
    "\n",
    "It is used when the performance is measured\n",
    "on continuous variable data as it gives a linear\n",
    "value, which averages the weighted individual\n",
    "differences equally.\n",
    "When to use MSE:\n",
    "• when the dataset contains outliers, or\n",
    "unexpected values (too high or too low\n",
    "values).\n",
    "\n",
    "\n",
    "When to use RMSE:\n",
    "• RMSE assigns a higher weight to larger\n",
    "errors as errors are squared before they are\n",
    "averaged.\n",
    "This indicates that RMSE is much more useful\n",
    "when large errors are present and they\n",
    "drastically affect the model’s performance.\n",
    "\n",
    "\n",
    "\n"
   ]
  },
  {
   "cell_type": "markdown",
   "id": "04ea1e40",
   "metadata": {},
   "source": []
  }
 ],
 "metadata": {
  "kernelspec": {
   "display_name": "base",
   "language": "python",
   "name": "python3"
  },
  "language_info": {
   "codemirror_mode": {
    "name": "ipython",
    "version": 3
   },
   "file_extension": ".py",
   "mimetype": "text/x-python",
   "name": "python",
   "nbconvert_exporter": "python",
   "pygments_lexer": "ipython3",
   "version": "3.12.3"
  }
 },
 "nbformat": 4,
 "nbformat_minor": 5
}
