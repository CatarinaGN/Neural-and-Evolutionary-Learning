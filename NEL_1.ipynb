{
 "cells": [
  {
   "cell_type": "markdown",
   "id": "843c7148",
   "metadata": {},
   "source": [
    "<div style=\"display: flex; flex-direction: column; align-items: center; max-width: 100%; padding: 20px 0; margin: auto;\">\n",
    "    <img src=\"https://media.licdn.com/dms/image/v2/D4D3DAQFGx0XnuUvugA/image-scale_191_1128/image-scale_191_1128/0/1662458005755/nova_ims_information_management_school_cover?e=2147483647&v=beta&t=J3Q4LlZi36_4UAFhj2019QdtfXLn0kQwaX25jgaBhOQ\" \n",
    "         alt=\"Logo\" \n",
    "         style=\"width: 100%; max-width: 800px; height: auto; max-height: 150px; object-fit: cover; border: 3px solid hsla(120, 71.40%, 43.90%, 0.30); border-radius: 5px;\">\n",
    "    <div style=\"text-align: center; padding: 10px 0; max-width: 800px;\">\n",
    "        <h5 style=\"margin: 10px 0;\">This analysis is conducted as part of the <b><i>Neural and Evolutionary Learning</i></b> course, a component of the Master's program in Data Science and Advanced Analytics at the <b><u>Nova Information Management School</u></b>.</h5>\n",
    "    </div>\n",
    "    <h1 style=\"color: hsla(120, 71.40%, 43.90%, 0.30); margin: 10px 0;\"><b>Predict the Crude Protein Weight</b></h1>\n",
    "</div>"
   ]
  },
  {
   "cell_type": "markdown",
   "id": "487dd71d",
   "metadata": {},
   "source": [
    "<div style=\"text-align: center; margin: 20px 0;\">\n",
    "    <h3 style=\"margin-bottom: 15px;\"><u>Group 22</u></h3>\n",
    "    <table style=\"margin: 0 auto; border-collapse: collapse; width: 80%; max-width: 500px;\">\n",
    "        <thead>\n",
    "            <tr>\n",
    "                <th style=\"border-bottom: 1px solid #ddd; padding: 8px;\">Student Name</th>\n",
    "                <th style=\"border-bottom: 1px solid #ddd; padding: 8px;\">Student ID</th>\n",
    "            </tr>\n",
    "        </thead>\n",
    "        <tbody>\n",
    "            <tr>\n",
    "                <td style=\"border-bottom: 1px solid #ddd; padding: 8px;\">Catarina Nunes</td>\n",
    "                <td style=\"border-bottom: 1px solid #ddd; padding: 8px;\">20230083</td>\n",
    "            </tr>\n",
    "            <tr>\n",
    "                <td style=\"border-bottom: 1px solid #ddd; padding: 8px;\"></td>\n",
    "                <td style=\"border-bottom: 1px solid #ddd; padding: 8px;\"></td>\n",
    "            </tr>\n",
    "            <tr>\n",
    "                <td style=\"padding: 8px;\"></td>\n",
    "                <td style=\"padding: 8px;\"></td>\n",
    "            </tr>\n",
    "        </tbody>\n",
    "    </table>\n",
    "</div>"
   ]
  },
  {
   "cell_type": "markdown",
   "id": "a6b8d4b7",
   "metadata": {},
   "source": [
    "<a id=\"idx\"></a>\n",
    "<div style=\"background-color: hsla(120, 71.40%, 43.90%, 0.30); padding: 10px; border-radius: 8px; text-align: center; margin-top: 20px; margin-bottom: 20px;\">\n",
    "    <h1 style=\"color: white; margin: 0;\">Index</h1>\n",
    "</div>\n",
    "\n",
    "1. [Preprocessing the data](#preprocessing)\n",
    "2. [Choosing the method and parameters](#method-selection)\n",
    "3. [Estimating the predictive error](#error-estimation)\n",
    "4. [Inducing the final model](#model-induction)\n",
    "5. [Testing the final model](#final-testing)"
   ]
  },
  {
   "cell_type": "markdown",
   "id": "1051ba14",
   "metadata": {},
   "source": [
    "#### Metadata"
   ]
  },
  {
   "cell_type": "markdown",
   "id": "b2dd9eb1",
   "metadata": {},
   "source": [
    "|Feature |Definition|\n",
    "|----|-----|\n",
    "|wing_tag |Chicken unique ID|\n",
    "|weight |The chicken total weight|\n",
    "|hot_carcass_weight |The weight of the carcass immediately after slaughter|\n",
    "|carcass_weight_with_head_and_legs |The weight of the carcass including the head and legs|\n",
    "|cold_carcass_weight| The weight of the carcass after cooling|\n",
    "|breast_weight |The weight of the breast meat of the chicken|\n",
    "|thigh_weight |The weight of the thigh meat of the chicken|\n",
    "|spleen |The weight of the chicken’s spleen|\n",
    "|liver |The weight of the chicken’s liver|\n",
    "|heart |The weight of the chicken’s heart|\n",
    "|intestine |The weight of the chicken’s intestine|\n",
    "|empty_muscular_stomach| Indicates the presence or absence of the empty muscular stomach of the chicken|\n",
    "|glandular_stomach |The weight of the chicken’s glandular stomach|\n",
    "|crude_protein| The weight of crude protein in the carcass|\n",
    "|ether_extract |The weight of ether extract, which measures the total fat in the carcass|"
   ]
  },
  {
   "cell_type": "markdown",
   "id": "9c90016a",
   "metadata": {},
   "source": [
    "#### Imports & Settings"
   ]
  },
  {
   "cell_type": "code",
   "execution_count": 60,
   "id": "f7c3813b",
   "metadata": {},
   "outputs": [],
   "source": [
    "#pip install gsgp_slim"
   ]
  },
  {
   "cell_type": "code",
   "execution_count": 66,
   "id": "93ed8397",
   "metadata": {},
   "outputs": [],
   "source": [
    "# pip install slim_gsgp"
   ]
  },
  {
   "cell_type": "code",
   "execution_count": 62,
   "id": "6bdef737",
   "metadata": {},
   "outputs": [],
   "source": [
    "#pip install -r requirements.txt"
   ]
  },
  {
   "cell_type": "code",
   "execution_count": 148,
   "id": "04f00958",
   "metadata": {},
   "outputs": [],
   "source": [
    "# Imports\n",
    "import numpy as np\n",
    "import pandas as pd\n",
    "\n",
    "import os\n",
    "import pickle\n",
    "import datetime\n",
    "import torch\n",
    "import random\n",
    "\n",
    "#import scikit_posthocs as sp\n",
    "import matplotlib.pyplot as plt\n",
    "import seaborn as sns\n",
    "import plotly.express as px\n",
    "import plotly.graph_objects as go\n",
    "from plotly.subplots import make_subplots\n",
    "\n",
    "from sklearn.datasets import fetch_openml\n",
    "from sklearn.model_selection import GridSearchCV, cross_val_score, KFold\n",
    "from sklearn.preprocessing import RobustScaler\n",
    "from sklearn.pipeline import Pipeline\n",
    "from sklearn.metrics import mean_squared_error, make_scorer\n",
    "from scipy.stats import wilcoxon, friedmanchisquare\n",
    "#import scikit_posthocs as sp\n",
    "\n",
    "import warnings\n",
    "warnings.filterwarnings('ignore')"
   ]
  },
  {
   "cell_type": "code",
   "execution_count": 65,
   "id": "162a1266",
   "metadata": {},
   "outputs": [],
   "source": [
    "from slim.main_gp import gp  # import the slim library\n",
    "from slim.datasets.data_loader import load_ppb  # import the loader for the dataset PPB\n",
    "from slim.evaluators.fitness_functions import rmse  # import the rmse fitness metric\n",
    "from slim.utils.utils import train_test_split  # import the train-test split function"
   ]
  },
  {
   "cell_type": "code",
   "execution_count": 14,
   "id": "efdc1f21",
   "metadata": {},
   "outputs": [],
   "source": [
    "seed = 1111\n",
    "np.random.seed(seed)\n",
    "random.seed(seed)"
   ]
  },
  {
   "cell_type": "code",
   "execution_count": 15,
   "id": "3c8e08c1",
   "metadata": {},
   "outputs": [],
   "source": [
    "train_color = 'blue'\n",
    "test_color = 'orange'"
   ]
  },
  {
   "cell_type": "code",
   "execution_count": 24,
   "id": "249987e7",
   "metadata": {},
   "outputs": [],
   "source": [
    "#! ls"
   ]
  },
  {
   "cell_type": "markdown",
   "id": "bc9b75e4",
   "metadata": {},
   "source": [
    "#### Helpfull Functions"
   ]
  },
  {
   "cell_type": "code",
   "execution_count": 35,
   "id": "c5cbfb01",
   "metadata": {},
   "outputs": [],
   "source": [
    "def plot_boxplots(df_clients, columns):\n",
    "    \"\"\"\n",
    "    Plot multiple boxplots horizontally with scrolling enabled.\n",
    "    \"\"\"\n",
    "    n_cols = len(columns)\n",
    "    \n",
    "    fig = make_subplots(\n",
    "        rows=1,\n",
    "        cols=n_cols,\n",
    "        shared_yaxes=False,\n",
    "        horizontal_spacing=0.05,  # space between boxplots\n",
    "        subplot_titles=[col.replace(\"_\", \" \").title() for col in columns]\n",
    "    )\n",
    "\n",
    "    for idx, column in enumerate(columns, start=1):\n",
    "        fig.add_trace(\n",
    "            go.Box(\n",
    "                y=df_clients[column],\n",
    "                name=column.replace(\"_\", \" \").title(),\n",
    "                boxpoints='outliers',  # only show outliers\n",
    "                whiskerwidth=0.2,\n",
    "                marker_color='mediumseagreen',\n",
    "                line_color='seagreen',\n",
    "                fillcolor='rgba(60,179,113,0.3)',\n",
    "                marker_size=4\n",
    "            ),\n",
    "            row=1,\n",
    "            col=idx\n",
    "        )\n",
    "\n",
    "    fig.update_layout(\n",
    "        title='Outliers Analysis',\n",
    "        title_font_size=24,\n",
    "        plot_bgcolor='white',\n",
    "        height=600,\n",
    "        width=300 * n_cols,  # make width proportional to number of boxplots\n",
    "        showlegend=False\n",
    "    )\n",
    "\n",
    "    fig.update_yaxes(zeroline=False)\n",
    "\n",
    "    fig.show()"
   ]
  },
  {
   "cell_type": "markdown",
   "id": "9fc75bc9",
   "metadata": {},
   "source": [
    "### <a id=\"preprocessing\"></a> \n",
    "<div style=\"background-color: hsla(120, 71.40%, 43.90%, 0.30); padding: 10px; border-radius: 8px; text-align: center; margin-top: 20px; margin-bottom: 20px;\">\n",
    "    <h3 style=\"color: white; margin: 0;\">Preprocessing the data</h3>\n",
    "</div>\n",
    "\n",
    "[Back to Index](#idx)"
   ]
  },
  {
   "cell_type": "markdown",
   "id": "1fc3fc36",
   "metadata": {},
   "source": [
    "#### Data Loading"
   ]
  },
  {
   "cell_type": "code",
   "execution_count": 127,
   "id": "e956dc3a",
   "metadata": {},
   "outputs": [
    {
     "name": "stderr",
     "output_type": "stream",
     "text": [
      "c:\\Users\\catar\\anaconda3\\Lib\\site-packages\\openpyxl\\packaging\\core.py:99: DeprecationWarning:\n",
      "\n",
      "datetime.datetime.utcnow() is deprecated and scheduled for removal in a future version. Use timezone-aware objects to represent datetimes in UTC: datetime.datetime.now(datetime.UTC).\n",
      "\n",
      "c:\\Users\\catar\\anaconda3\\Lib\\site-packages\\openpyxl\\packaging\\core.py:99: DeprecationWarning:\n",
      "\n",
      "datetime.datetime.utcnow() is deprecated and scheduled for removal in a future version. Use timezone-aware objects to represent datetimes in UTC: datetime.datetime.now(datetime.UTC).\n",
      "\n"
     ]
    }
   ],
   "source": [
    "df = pd.read_excel(r\"data\\sustavianfeed.xlsx\")"
   ]
  },
  {
   "cell_type": "code",
   "execution_count": 128,
   "id": "8b2a4775",
   "metadata": {},
   "outputs": [
    {
     "data": {
      "text/html": [
       "<div>\n",
       "<style scoped>\n",
       "    .dataframe tbody tr th:only-of-type {\n",
       "        vertical-align: middle;\n",
       "    }\n",
       "\n",
       "    .dataframe tbody tr th {\n",
       "        vertical-align: top;\n",
       "    }\n",
       "\n",
       "    .dataframe thead th {\n",
       "        text-align: right;\n",
       "    }\n",
       "</style>\n",
       "<table border=\"1\" class=\"dataframe\">\n",
       "  <thead>\n",
       "    <tr style=\"text-align: right;\">\n",
       "      <th></th>\n",
       "      <th>WING TAG</th>\n",
       "      <th>WEIGHT</th>\n",
       "      <th>HOT CARCASS WEIGHT</th>\n",
       "      <th>CARCASS WEIGHT WITH HEAD AND LEGS</th>\n",
       "      <th>COLD CARCASS WEIGHT</th>\n",
       "      <th>BREAST WEIGHT (2)</th>\n",
       "      <th>THIGH WEIGHT (2)</th>\n",
       "      <th>SPLEEN</th>\n",
       "      <th>LIVER</th>\n",
       "      <th>HEART</th>\n",
       "      <th>INTESTINE</th>\n",
       "      <th>EMPTY MUSCULAR STOMACH</th>\n",
       "      <th>GLANDULAR STOMACH</th>\n",
       "      <th>CRUDE PROTEIN</th>\n",
       "      <th>ETHER EXTRACT</th>\n",
       "    </tr>\n",
       "  </thead>\n",
       "  <tbody>\n",
       "    <tr>\n",
       "      <th>0</th>\n",
       "      <td>G403</td>\n",
       "      <td>2223.3</td>\n",
       "      <td>1429.6</td>\n",
       "      <td>1725.6</td>\n",
       "      <td>1394.0</td>\n",
       "      <td>214.0</td>\n",
       "      <td>489.4</td>\n",
       "      <td>3.716</td>\n",
       "      <td>38.636</td>\n",
       "      <td>9.305</td>\n",
       "      <td>123.171</td>\n",
       "      <td>/</td>\n",
       "      <td>13.170</td>\n",
       "      <td>86.105469</td>\n",
       "      <td>0.38</td>\n",
       "    </tr>\n",
       "    <tr>\n",
       "      <th>1</th>\n",
       "      <td>G439</td>\n",
       "      <td>2201.9</td>\n",
       "      <td>1450.2</td>\n",
       "      <td>1769.8</td>\n",
       "      <td>1405.4</td>\n",
       "      <td>236.0</td>\n",
       "      <td>538.7</td>\n",
       "      <td>3.494</td>\n",
       "      <td>34.725</td>\n",
       "      <td>10.084</td>\n",
       "      <td>71.800</td>\n",
       "      <td>45.273</td>\n",
       "      <td>9.781</td>\n",
       "      <td>86.143472</td>\n",
       "      <td>1.66</td>\n",
       "    </tr>\n",
       "    <tr>\n",
       "      <th>2</th>\n",
       "      <td>G454</td>\n",
       "      <td>2159.9</td>\n",
       "      <td>1398.4</td>\n",
       "      <td>1724.9</td>\n",
       "      <td>1461.7</td>\n",
       "      <td>241.8</td>\n",
       "      <td>512.1</td>\n",
       "      <td>4.023</td>\n",
       "      <td>31.932</td>\n",
       "      <td>10.635</td>\n",
       "      <td>61.380</td>\n",
       "      <td>/</td>\n",
       "      <td>6.217</td>\n",
       "      <td>86.416898</td>\n",
       "      <td>0.98</td>\n",
       "    </tr>\n",
       "    <tr>\n",
       "      <th>3</th>\n",
       "      <td>G465</td>\n",
       "      <td>2198.7</td>\n",
       "      <td>1473.9</td>\n",
       "      <td>1800.4</td>\n",
       "      <td>1425.1</td>\n",
       "      <td>227.7</td>\n",
       "      <td>549.9</td>\n",
       "      <td>3.087</td>\n",
       "      <td>32.326</td>\n",
       "      <td>11.927</td>\n",
       "      <td>64.879</td>\n",
       "      <td>35.861</td>\n",
       "      <td>8.358</td>\n",
       "      <td>85.959935</td>\n",
       "      <td>1.10</td>\n",
       "    </tr>\n",
       "    <tr>\n",
       "      <th>4</th>\n",
       "      <td>G428</td>\n",
       "      <td>2003.2</td>\n",
       "      <td>1291.2</td>\n",
       "      <td>1581.6</td>\n",
       "      <td>1260.1</td>\n",
       "      <td>224.7</td>\n",
       "      <td>473.2</td>\n",
       "      <td>3.723</td>\n",
       "      <td>30.105</td>\n",
       "      <td>9.855</td>\n",
       "      <td>68.562</td>\n",
       "      <td>36.526</td>\n",
       "      <td>7.572</td>\n",
       "      <td>81.693637</td>\n",
       "      <td>6.34</td>\n",
       "    </tr>\n",
       "  </tbody>\n",
       "</table>\n",
       "</div>"
      ],
      "text/plain": [
       "  WING TAG  WEIGHT  HOT CARCASS WEIGHT  CARCASS WEIGHT WITH HEAD AND LEGS  \\\n",
       "0     G403  2223.3              1429.6                             1725.6   \n",
       "1     G439  2201.9              1450.2                             1769.8   \n",
       "2     G454  2159.9              1398.4                             1724.9   \n",
       "3     G465  2198.7              1473.9                             1800.4   \n",
       "4     G428  2003.2              1291.2                             1581.6   \n",
       "\n",
       "   COLD CARCASS WEIGHT  BREAST WEIGHT (2)  THIGH WEIGHT (2)  SPLEEN   LIVER  \\\n",
       "0               1394.0              214.0             489.4   3.716  38.636   \n",
       "1               1405.4              236.0             538.7   3.494  34.725   \n",
       "2               1461.7              241.8             512.1   4.023  31.932   \n",
       "3               1425.1              227.7             549.9   3.087  32.326   \n",
       "4               1260.1              224.7             473.2   3.723  30.105   \n",
       "\n",
       "    HEART  INTESTINE EMPTY MUSCULAR STOMACH  GLANDULAR STOMACH  CRUDE PROTEIN  \\\n",
       "0   9.305    123.171                      /             13.170      86.105469   \n",
       "1  10.084     71.800                 45.273              9.781      86.143472   \n",
       "2  10.635     61.380                      /              6.217      86.416898   \n",
       "3  11.927     64.879                 35.861              8.358      85.959935   \n",
       "4   9.855     68.562                 36.526              7.572      81.693637   \n",
       "\n",
       "   ETHER EXTRACT  \n",
       "0           0.38  \n",
       "1           1.66  \n",
       "2           0.98  \n",
       "3           1.10  \n",
       "4           6.34  "
      ]
     },
     "execution_count": 128,
     "metadata": {},
     "output_type": "execute_result"
    }
   ],
   "source": [
    "df.head()"
   ]
  },
  {
   "cell_type": "markdown",
   "id": "f66f636e",
   "metadata": {},
   "source": [
    "lets rename the columns according to the metadata:"
   ]
  },
  {
   "cell_type": "code",
   "execution_count": 129,
   "id": "72e69326",
   "metadata": {},
   "outputs": [],
   "source": [
    "# column name mapping\n",
    "column_mapping = {\n",
    "    'WING TAG': 'wing_tag',\n",
    "    'WEIGHT': 'weight',\n",
    "    'HOT CARCASS WEIGHT': 'hot_carcass_weight',\n",
    "    'CARCASS WEIGHT WITH HEAD AND LEGS': 'carcass_weight_with_head_and_legs',\n",
    "    'COLD CARCASS WEIGHT': 'cold_carcass_weight',\n",
    "    'BREAST WEIGHT (2)': 'breast_weight',\n",
    "    'THIGH WEIGHT (2)': 'thigh_weight',\n",
    "    'SPLEEN': 'spleen',\n",
    "    'LIVER': 'liver',\n",
    "    'HEART': 'heart',\n",
    "    'INTESTINE': 'intestine',\n",
    "    'EMPTY MUSCULAR STOMACH': 'empty_muscular_stomach',\n",
    "    'GLANDULAR STOMACH': 'glandular_stomach',\n",
    "    'CRUDE PROTEIN': 'crude_protein',\n",
    "    'ETHER EXTRACT': 'ether_extract'\n",
    "}\n",
    "\n",
    "df = df.rename(columns=column_mapping)"
   ]
  },
  {
   "cell_type": "markdown",
   "id": "b5673d90",
   "metadata": {},
   "source": [
    "#### Descriptive Summary"
   ]
  },
  {
   "cell_type": "code",
   "execution_count": 130,
   "id": "d6e50c13",
   "metadata": {},
   "outputs": [
    {
     "data": {
      "text/html": [
       "<div>\n",
       "<style scoped>\n",
       "    .dataframe tbody tr th:only-of-type {\n",
       "        vertical-align: middle;\n",
       "    }\n",
       "\n",
       "    .dataframe tbody tr th {\n",
       "        vertical-align: top;\n",
       "    }\n",
       "\n",
       "    .dataframe thead th {\n",
       "        text-align: right;\n",
       "    }\n",
       "</style>\n",
       "<table border=\"1\" class=\"dataframe\">\n",
       "  <thead>\n",
       "    <tr style=\"text-align: right;\">\n",
       "      <th></th>\n",
       "      <th>count</th>\n",
       "      <th>mean</th>\n",
       "      <th>std</th>\n",
       "      <th>min</th>\n",
       "      <th>25%</th>\n",
       "      <th>50%</th>\n",
       "      <th>75%</th>\n",
       "      <th>max</th>\n",
       "    </tr>\n",
       "  </thead>\n",
       "  <tbody>\n",
       "    <tr>\n",
       "      <th>weight</th>\n",
       "      <td>96.0</td>\n",
       "      <td>2339.682292</td>\n",
       "      <td>200.943424</td>\n",
       "      <td>1968.400000</td>\n",
       "      <td>2201.775000</td>\n",
       "      <td>2299.500000</td>\n",
       "      <td>2473.800000</td>\n",
       "      <td>2890.500000</td>\n",
       "    </tr>\n",
       "    <tr>\n",
       "      <th>hot_carcass_weight</th>\n",
       "      <td>96.0</td>\n",
       "      <td>1521.955208</td>\n",
       "      <td>144.126939</td>\n",
       "      <td>1284.900000</td>\n",
       "      <td>1425.775000</td>\n",
       "      <td>1493.050000</td>\n",
       "      <td>1608.400000</td>\n",
       "      <td>1929.400000</td>\n",
       "    </tr>\n",
       "    <tr>\n",
       "      <th>carcass_weight_with_head_and_legs</th>\n",
       "      <td>96.0</td>\n",
       "      <td>1833.378125</td>\n",
       "      <td>154.000550</td>\n",
       "      <td>1554.400000</td>\n",
       "      <td>1723.800000</td>\n",
       "      <td>1809.400000</td>\n",
       "      <td>1922.725000</td>\n",
       "      <td>2262.800000</td>\n",
       "    </tr>\n",
       "    <tr>\n",
       "      <th>cold_carcass_weight</th>\n",
       "      <td>96.0</td>\n",
       "      <td>1481.479167</td>\n",
       "      <td>142.830115</td>\n",
       "      <td>1252.600000</td>\n",
       "      <td>1380.825000</td>\n",
       "      <td>1452.800000</td>\n",
       "      <td>1573.700000</td>\n",
       "      <td>1891.700000</td>\n",
       "    </tr>\n",
       "    <tr>\n",
       "      <th>breast_weight</th>\n",
       "      <td>96.0</td>\n",
       "      <td>234.116667</td>\n",
       "      <td>37.818405</td>\n",
       "      <td>177.100000</td>\n",
       "      <td>218.775000</td>\n",
       "      <td>231.550000</td>\n",
       "      <td>243.275000</td>\n",
       "      <td>533.200000</td>\n",
       "    </tr>\n",
       "    <tr>\n",
       "      <th>thigh_weight</th>\n",
       "      <td>96.0</td>\n",
       "      <td>542.205208</td>\n",
       "      <td>60.994468</td>\n",
       "      <td>177.800000</td>\n",
       "      <td>508.225000</td>\n",
       "      <td>538.100000</td>\n",
       "      <td>573.850000</td>\n",
       "      <td>690.600000</td>\n",
       "    </tr>\n",
       "    <tr>\n",
       "      <th>spleen</th>\n",
       "      <td>96.0</td>\n",
       "      <td>4.219917</td>\n",
       "      <td>0.998836</td>\n",
       "      <td>2.464000</td>\n",
       "      <td>3.534250</td>\n",
       "      <td>4.048000</td>\n",
       "      <td>4.817000</td>\n",
       "      <td>7.758000</td>\n",
       "    </tr>\n",
       "    <tr>\n",
       "      <th>liver</th>\n",
       "      <td>96.0</td>\n",
       "      <td>36.781427</td>\n",
       "      <td>5.438894</td>\n",
       "      <td>25.916000</td>\n",
       "      <td>33.053000</td>\n",
       "      <td>35.936000</td>\n",
       "      <td>40.485000</td>\n",
       "      <td>53.133000</td>\n",
       "    </tr>\n",
       "    <tr>\n",
       "      <th>heart</th>\n",
       "      <td>96.0</td>\n",
       "      <td>12.059240</td>\n",
       "      <td>1.932239</td>\n",
       "      <td>8.561000</td>\n",
       "      <td>10.584250</td>\n",
       "      <td>11.679000</td>\n",
       "      <td>13.449750</td>\n",
       "      <td>17.194000</td>\n",
       "    </tr>\n",
       "    <tr>\n",
       "      <th>intestine</th>\n",
       "      <td>96.0</td>\n",
       "      <td>69.149156</td>\n",
       "      <td>11.727467</td>\n",
       "      <td>44.133000</td>\n",
       "      <td>62.274250</td>\n",
       "      <td>68.019500</td>\n",
       "      <td>75.103000</td>\n",
       "      <td>123.171000</td>\n",
       "    </tr>\n",
       "    <tr>\n",
       "      <th>glandular_stomach</th>\n",
       "      <td>96.0</td>\n",
       "      <td>8.184677</td>\n",
       "      <td>1.697425</td>\n",
       "      <td>5.425000</td>\n",
       "      <td>7.012750</td>\n",
       "      <td>7.809500</td>\n",
       "      <td>9.016750</td>\n",
       "      <td>13.170000</td>\n",
       "    </tr>\n",
       "    <tr>\n",
       "      <th>crude_protein</th>\n",
       "      <td>96.0</td>\n",
       "      <td>87.313708</td>\n",
       "      <td>2.043895</td>\n",
       "      <td>73.837184</td>\n",
       "      <td>86.544416</td>\n",
       "      <td>87.574947</td>\n",
       "      <td>88.508026</td>\n",
       "      <td>91.211353</td>\n",
       "    </tr>\n",
       "    <tr>\n",
       "      <th>ether_extract</th>\n",
       "      <td>96.0</td>\n",
       "      <td>2.090417</td>\n",
       "      <td>1.351645</td>\n",
       "      <td>0.320000</td>\n",
       "      <td>1.130000</td>\n",
       "      <td>1.710000</td>\n",
       "      <td>2.527500</td>\n",
       "      <td>6.680000</td>\n",
       "    </tr>\n",
       "  </tbody>\n",
       "</table>\n",
       "</div>"
      ],
      "text/plain": [
       "                                   count         mean         std  \\\n",
       "weight                              96.0  2339.682292  200.943424   \n",
       "hot_carcass_weight                  96.0  1521.955208  144.126939   \n",
       "carcass_weight_with_head_and_legs   96.0  1833.378125  154.000550   \n",
       "cold_carcass_weight                 96.0  1481.479167  142.830115   \n",
       "breast_weight                       96.0   234.116667   37.818405   \n",
       "thigh_weight                        96.0   542.205208   60.994468   \n",
       "spleen                              96.0     4.219917    0.998836   \n",
       "liver                               96.0    36.781427    5.438894   \n",
       "heart                               96.0    12.059240    1.932239   \n",
       "intestine                           96.0    69.149156   11.727467   \n",
       "glandular_stomach                   96.0     8.184677    1.697425   \n",
       "crude_protein                       96.0    87.313708    2.043895   \n",
       "ether_extract                       96.0     2.090417    1.351645   \n",
       "\n",
       "                                           min          25%          50%  \\\n",
       "weight                             1968.400000  2201.775000  2299.500000   \n",
       "hot_carcass_weight                 1284.900000  1425.775000  1493.050000   \n",
       "carcass_weight_with_head_and_legs  1554.400000  1723.800000  1809.400000   \n",
       "cold_carcass_weight                1252.600000  1380.825000  1452.800000   \n",
       "breast_weight                       177.100000   218.775000   231.550000   \n",
       "thigh_weight                        177.800000   508.225000   538.100000   \n",
       "spleen                                2.464000     3.534250     4.048000   \n",
       "liver                                25.916000    33.053000    35.936000   \n",
       "heart                                 8.561000    10.584250    11.679000   \n",
       "intestine                            44.133000    62.274250    68.019500   \n",
       "glandular_stomach                     5.425000     7.012750     7.809500   \n",
       "crude_protein                        73.837184    86.544416    87.574947   \n",
       "ether_extract                         0.320000     1.130000     1.710000   \n",
       "\n",
       "                                           75%          max  \n",
       "weight                             2473.800000  2890.500000  \n",
       "hot_carcass_weight                 1608.400000  1929.400000  \n",
       "carcass_weight_with_head_and_legs  1922.725000  2262.800000  \n",
       "cold_carcass_weight                1573.700000  1891.700000  \n",
       "breast_weight                       243.275000   533.200000  \n",
       "thigh_weight                        573.850000   690.600000  \n",
       "spleen                                4.817000     7.758000  \n",
       "liver                                40.485000    53.133000  \n",
       "heart                                13.449750    17.194000  \n",
       "intestine                            75.103000   123.171000  \n",
       "glandular_stomach                     9.016750    13.170000  \n",
       "crude_protein                        88.508026    91.211353  \n",
       "ether_extract                         2.527500     6.680000  "
      ]
     },
     "execution_count": 130,
     "metadata": {},
     "output_type": "execute_result"
    }
   ],
   "source": [
    "df.describe().T"
   ]
  },
  {
   "cell_type": "code",
   "execution_count": 131,
   "id": "0a12b2c4",
   "metadata": {},
   "outputs": [
    {
     "data": {
      "text/html": [
       "<div>\n",
       "<style scoped>\n",
       "    .dataframe tbody tr th:only-of-type {\n",
       "        vertical-align: middle;\n",
       "    }\n",
       "\n",
       "    .dataframe tbody tr th {\n",
       "        vertical-align: top;\n",
       "    }\n",
       "\n",
       "    .dataframe thead th {\n",
       "        text-align: right;\n",
       "    }\n",
       "</style>\n",
       "<table border=\"1\" class=\"dataframe\">\n",
       "  <thead>\n",
       "    <tr style=\"text-align: right;\">\n",
       "      <th></th>\n",
       "      <th>count</th>\n",
       "      <th>unique</th>\n",
       "      <th>top</th>\n",
       "      <th>freq</th>\n",
       "    </tr>\n",
       "  </thead>\n",
       "  <tbody>\n",
       "    <tr>\n",
       "      <th>wing_tag</th>\n",
       "      <td>96</td>\n",
       "      <td>96</td>\n",
       "      <td>G403</td>\n",
       "      <td>1</td>\n",
       "    </tr>\n",
       "    <tr>\n",
       "      <th>empty_muscular_stomach</th>\n",
       "      <td>96</td>\n",
       "      <td>91</td>\n",
       "      <td>/</td>\n",
       "      <td>5</td>\n",
       "    </tr>\n",
       "  </tbody>\n",
       "</table>\n",
       "</div>"
      ],
      "text/plain": [
       "                       count unique   top freq\n",
       "wing_tag                  96     96  G403    1\n",
       "empty_muscular_stomach    96     91     /    5"
      ]
     },
     "execution_count": 131,
     "metadata": {},
     "output_type": "execute_result"
    }
   ],
   "source": [
    "df.describe(include='O').T"
   ]
  },
  {
   "cell_type": "code",
   "execution_count": 132,
   "id": "0578a0a6",
   "metadata": {},
   "outputs": [
    {
     "data": {
      "text/plain": [
       "wing_tag                             0\n",
       "weight                               0\n",
       "hot_carcass_weight                   0\n",
       "carcass_weight_with_head_and_legs    0\n",
       "cold_carcass_weight                  0\n",
       "breast_weight                        0\n",
       "thigh_weight                         0\n",
       "spleen                               0\n",
       "liver                                0\n",
       "heart                                0\n",
       "intestine                            0\n",
       "empty_muscular_stomach               0\n",
       "glandular_stomach                    0\n",
       "crude_protein                        0\n",
       "ether_extract                        0\n",
       "dtype: int64"
      ]
     },
     "execution_count": 132,
     "metadata": {},
     "output_type": "execute_result"
    }
   ],
   "source": [
    "df.isna().sum()"
   ]
  },
  {
   "cell_type": "markdown",
   "id": "9f617eff",
   "metadata": {},
   "source": [
    "- no missing values\n",
    "- `wing_tag` uniquely represents each chicken so can be placed as index."
   ]
  },
  {
   "cell_type": "code",
   "execution_count": 133,
   "id": "505e4797",
   "metadata": {},
   "outputs": [],
   "source": [
    "df.set_index('wing_tag', inplace = True)"
   ]
  },
  {
   "cell_type": "code",
   "execution_count": 134,
   "id": "e1659a62",
   "metadata": {},
   "outputs": [
    {
     "data": {
      "text/plain": [
       "0"
      ]
     },
     "execution_count": 134,
     "metadata": {},
     "output_type": "execute_result"
    }
   ],
   "source": [
    "df.duplicated().sum()"
   ]
  },
  {
   "cell_type": "markdown",
   "id": "a9c57940",
   "metadata": {},
   "source": [
    "#### Data Types"
   ]
  },
  {
   "cell_type": "code",
   "execution_count": 135,
   "id": "240b8c76",
   "metadata": {},
   "outputs": [
    {
     "name": "stdout",
     "output_type": "stream",
     "text": [
      "<class 'pandas.core.frame.DataFrame'>\n",
      "Index: 96 entries, G403 to V428\n",
      "Data columns (total 14 columns):\n",
      " #   Column                             Non-Null Count  Dtype  \n",
      "---  ------                             --------------  -----  \n",
      " 0   weight                             96 non-null     float64\n",
      " 1   hot_carcass_weight                 96 non-null     float64\n",
      " 2   carcass_weight_with_head_and_legs  96 non-null     float64\n",
      " 3   cold_carcass_weight                96 non-null     float64\n",
      " 4   breast_weight                      96 non-null     float64\n",
      " 5   thigh_weight                       96 non-null     float64\n",
      " 6   spleen                             96 non-null     float64\n",
      " 7   liver                              96 non-null     float64\n",
      " 8   heart                              96 non-null     float64\n",
      " 9   intestine                          96 non-null     float64\n",
      " 10  empty_muscular_stomach             96 non-null     object \n",
      " 11  glandular_stomach                  96 non-null     float64\n",
      " 12  crude_protein                      96 non-null     float64\n",
      " 13  ether_extract                      96 non-null     float64\n",
      "dtypes: float64(13), object(1)\n",
      "memory usage: 11.2+ KB\n"
     ]
    }
   ],
   "source": [
    "df.info()"
   ]
  },
  {
   "cell_type": "code",
   "execution_count": 136,
   "id": "7b568cd4",
   "metadata": {},
   "outputs": [
    {
     "data": {
      "text/plain": [
       "array(['/', 45.273, 35.861, 36.526, 40.993, 40.949, 45.323, 42.091,\n",
       "       49.148, 46.807, 31.103, 49.057, 39.621, 43.128, 53.485, 38.836,\n",
       "       44.487, 47.665, 50.006, 43.695, 59.547, 61.306, 61.702, 60.063,\n",
       "       45.428, 53.456, 43.586, 49.648, 63.571, 47.523, 63.86, 64.538,\n",
       "       42.852, 50.119, 32.665, 35.164, 46.656, 44.855, 44.962, 51.851,\n",
       "       45.507, 50.136, 43.821, 66.616, 29.712, 40.936, 52.518, 35.408,\n",
       "       51.944, 41.483, 56.23, 55.663, 42.66, 32.12, 43.964, 75.767,\n",
       "       45.327, 42.129, 47.964, 44.811, 32.599, 32.947, 38.155, 48.009,\n",
       "       56.347, 59.583, 51.322, 58.708, 41.917, 40.425, 51.903, 56.698,\n",
       "       40.7, 45.321, 55.671, 68.602, 44.006, 54.71, 45.636, 34.692,\n",
       "       48.933, 45.045, 48.02, 42.632, 45.366, 52.457, 49.281, 54.021,\n",
       "       42.173, 49.7, 46.816], dtype=object)"
      ]
     },
     "execution_count": 136,
     "metadata": {},
     "output_type": "execute_result"
    }
   ],
   "source": [
    "df['empty_muscular_stomach'].unique()"
   ]
  },
  {
   "cell_type": "markdown",
   "id": "c221bf9e",
   "metadata": {},
   "source": [
    "The metadata for the column `empty_muscular_stomach` specifies that it should be a binary flag, '_Indicates the presence or absence of the empty muscular stomach of the chicken_'. However, the data contains a '/' that represents 'yes' for an empty stomach, and other values that indicate that the stomach is not empty, such as percentages or grams. We will evaluate whether it is more valuable to maintain this column as a float or a binary flag, based on its correlation with the target variable. Ultimately, we plan to adhere to the guidance provided in the metadata, but lets see:"
   ]
  },
  {
   "cell_type": "code",
   "execution_count": 137,
   "id": "88304528",
   "metadata": {},
   "outputs": [],
   "source": [
    "df['empty_muscular_stomach_bin'] = np.where(\n",
    "    df['empty_muscular_stomach'] == '/', 1, 0\n",
    ").astype(int)"
   ]
  },
  {
   "cell_type": "code",
   "execution_count": 138,
   "id": "11b8b022",
   "metadata": {},
   "outputs": [],
   "source": [
    "df['empty_muscular_stomach_float'] = df['empty_muscular_stomach'].replace('/', 0).astype(float)"
   ]
  },
  {
   "cell_type": "markdown",
   "id": "3ee6172b",
   "metadata": {},
   "source": [
    "#### Outliers"
   ]
  },
  {
   "cell_type": "code",
   "execution_count": 139,
   "id": "972eb1aa",
   "metadata": {},
   "outputs": [
    {
     "data": {
      "application/vnd.plotly.v1+json": {
       "config": {
        "plotlyServerURL": "https://plot.ly"
       },
       "data": [
        {
         "boxpoints": "outliers",
         "fillcolor": "rgba(60,179,113,0.3)",
         "line": {
          "color": "seagreen"
         },
         "marker": {
          "color": "mediumseagreen",
          "size": 4
         },
         "name": "Weight",
         "type": "box",
         "whiskerwidth": 0.2,
         "xaxis": "x",
         "y": [
          2223.3,
          2201.9,
          2159.9,
          2198.7,
          2003.2,
          2090.6,
          2063.6,
          2251.6,
          2235.9,
          2278.4,
          2085.1,
          2059,
          2141.5,
          2106.3,
          1968.4,
          2213.2,
          2234.6,
          2262.3,
          2118.3,
          2163.6,
          2177,
          2347.2,
          2226.1,
          2260.9,
          2116.7,
          2308.2,
          2136.2,
          2374.1,
          2221.1,
          2271.1,
          2145,
          2395.6,
          2259.3,
          2337.4,
          2268.4,
          2310.8,
          2230.9,
          2412.1,
          2086.4,
          2368.8,
          2023.8,
          2258,
          2195,
          2201.4,
          2308.2,
          2314.4,
          2139.1,
          2379.7,
          2295,
          2593,
          2206.7,
          2480.6,
          2226.9,
          2416.7,
          2494.3,
          2572.4,
          2573.5,
          2587,
          2197.2,
          2418,
          2300.3,
          2303.9,
          2602.3,
          2519.9,
          2374.8,
          2298.7,
          2212.2,
          2653,
          2036.6,
          2406.6,
          2467.4,
          2575.7,
          2364,
          2521.5,
          2645.5,
          2890.5,
          2145.3,
          2777.8,
          2419.6,
          2362.3,
          2721.5,
          2633.4,
          2475.6,
          2824.3,
          2261.7,
          2473.2,
          2615.2,
          2459.9,
          2230.6,
          2703.6,
          2544.6,
          2633.1,
          2346.2,
          2648.2,
          2262.6,
          2704.3
         ],
         "yaxis": "y"
        },
        {
         "boxpoints": "outliers",
         "fillcolor": "rgba(60,179,113,0.3)",
         "line": {
          "color": "seagreen"
         },
         "marker": {
          "color": "mediumseagreen",
          "size": 4
         },
         "name": "Hot Carcass Weight",
         "type": "box",
         "whiskerwidth": 0.2,
         "xaxis": "x2",
         "y": [
          1429.6,
          1450.2,
          1398.4,
          1473.9,
          1291.2,
          1486.7,
          1333.3,
          1428.8,
          1442.5,
          1448.3,
          1357.8,
          1366.1,
          1306.5,
          1324.6,
          1333.5,
          1425.4,
          1419.1,
          1485.5,
          1407.8,
          1450.3,
          1472.5,
          1521.6,
          1462.6,
          1471.6,
          1334.9,
          1472.6,
          1450.5,
          1564.9,
          1404.7,
          1510.4,
          1360.8,
          1576.8,
          1481.2,
          1461.6,
          1442.7,
          1501.4,
          1495.6,
          1514.6,
          1284.9,
          1597.8,
          1339.8,
          1490.5,
          1419.1,
          1435.4,
          1566.8,
          1532.6,
          1310.2,
          1523.7,
          1556.3,
          1693.1,
          1397.7,
          1630.5,
          1443.7,
          1573.2,
          1575.3,
          1622.9,
          1718.5,
          1718.5,
          1391.6,
          1572.4,
          1394.1,
          1456.4,
          1720.5,
          1651.8,
          1561.5,
          1520.1,
          1372.9,
          1744.8,
          1292.1,
          1425.9,
          1607.8,
          1830.7,
          1530.5,
          1678.2,
          1633.3,
          1929.4,
          1392.6,
          1808.8,
          1592.2,
          1501.9,
          1780.9,
          1738.9,
          1656.7,
          1892.8,
          1431.5,
          1610.2,
          1744.8,
          1560.3,
          1447.8,
          1817.2,
          1674.9,
          1683.2,
          1547.8,
          1722.9,
          1498.5,
          1698.8
         ],
         "yaxis": "y2"
        },
        {
         "boxpoints": "outliers",
         "fillcolor": "rgba(60,179,113,0.3)",
         "line": {
          "color": "seagreen"
         },
         "marker": {
          "color": "mediumseagreen",
          "size": 4
         },
         "name": "Carcass Weight With Head And Legs",
         "type": "box",
         "whiskerwidth": 0.2,
         "xaxis": "x3",
         "y": [
          1725.6,
          1769.8,
          1724.9,
          1800.4,
          1581.6,
          1679.8,
          1596.4,
          1749.9,
          1741.1,
          1755.8,
          1667.8,
          1644.4,
          1636.1,
          1654.8,
          1598.1,
          1765.8,
          1717.8,
          1781.4,
          1714.5,
          1740.2,
          1742.7,
          1888.7,
          1720.5,
          1758.6,
          1662,
          1804.9,
          1699.9,
          1892.8,
          1740.2,
          1834.4,
          1669.2,
          1904.9,
          1741.2,
          1780.7,
          1744.8,
          1852.4,
          1801.3,
          1852.6,
          1599.8,
          1908.6,
          1645.6,
          1837.4,
          1745.9,
          1746.6,
          1865.1,
          1880.8,
          1669.2,
          1852.6,
          1833.3,
          2031.7,
          1688.2,
          1941.7,
          1706.7,
          1877.5,
          1887.4,
          1945.8,
          2010.2,
          2030.9,
          1694.4,
          1887.1,
          1668.1,
          1774.5,
          2053.1,
          1958.9,
          1894.8,
          1842.1,
          1658.4,
          2037.1,
          1554.4,
          1753.3,
          1906.6,
          2114.8,
          1847.5,
          2031,
          2011.1,
          2262.8,
          1696.3,
          2158.6,
          1882.5,
          1826.5,
          2117.8,
          2033.9,
          1964.4,
          2226.2,
          1740,
          1944.4,
          2032.9,
          1916.4,
          1760.4,
          2142.2,
          2012.5,
          2034.1,
          1819.5,
          2050,
          1813.9,
          2038.8
         ],
         "yaxis": "y3"
        },
        {
         "boxpoints": "outliers",
         "fillcolor": "rgba(60,179,113,0.3)",
         "line": {
          "color": "seagreen"
         },
         "marker": {
          "color": "mediumseagreen",
          "size": 4
         },
         "name": "Cold Carcass Weight",
         "type": "box",
         "whiskerwidth": 0.2,
         "xaxis": "x4",
         "y": [
          1394,
          1405.4,
          1461.7,
          1425.1,
          1260.1,
          1344.7,
          1293.6,
          1381.5,
          1401.7,
          1407.7,
          1308.2,
          1327.6,
          1300.5,
          1281.7,
          1418.5,
          1378.8,
          1378.2,
          1443.5,
          1372.7,
          1407.2,
          1436.7,
          1471.9,
          1425.2,
          1425.7,
          1270.5,
          1429.6,
          1303.9,
          1519.6,
          1364.7,
          1445.9,
          1322.7,
          1533.9,
          1422.7,
          1426.2,
          1396,
          1463.2,
          1360.5,
          1474,
          1252.6,
          1549.1,
          1303.6,
          1460.5,
          1387.2,
          1399.6,
          1527.5,
          1495.7,
          1266,
          1481,
          1519.5,
          1656,
          1367.1,
          1596,
          1413.8,
          1534.6,
          1543.3,
          1578,
          1684.9,
          1677.7,
          1362.8,
          1526.5,
          1357.8,
          1421,
          1687.6,
          1616.7,
          1529.3,
          1484.6,
          1340,
          1697.1,
          1266.6,
          1383.3,
          1573.7,
          1771.9,
          1495.8,
          1639.3,
          1599.1,
          1891.7,
          1362,
          1760,
          1550.6,
          1459.7,
          1752.4,
          1676.8,
          1617.7,
          1844.3,
          1398.1,
          1573.7,
          1715,
          1514.6,
          1420.2,
          1768.4,
          1642.9,
          1637.2,
          1511.2,
          1669.8,
          1468,
          1655.6
         ],
         "yaxis": "y4"
        },
        {
         "boxpoints": "outliers",
         "fillcolor": "rgba(60,179,113,0.3)",
         "line": {
          "color": "seagreen"
         },
         "marker": {
          "color": "mediumseagreen",
          "size": 4
         },
         "name": "Breast Weight",
         "type": "box",
         "whiskerwidth": 0.2,
         "xaxis": "x5",
         "y": [
          214,
          236,
          241.8,
          227.7,
          224.7,
          230.2,
          205.7,
          241.5,
          229.9,
          253.8,
          229.7,
          228,
          207.4,
          210.4,
          239.2,
          224.6,
          230.7,
          277.7,
          228.3,
          235.4,
          256.4,
          242.2,
          248,
          232.8,
          199.1,
          228.3,
          234.6,
          248.4,
          241.5,
          236.8,
          215.4,
          271.2,
          227.9,
          221.3,
          219.9,
          244,
          215.1,
          238.8,
          209.8,
          247.8,
          209.4,
          242.2,
          227.1,
          239.2,
          268.7,
          239.1,
          195.8,
          237.3,
          245.2,
          256.9,
          186.2,
          207.3,
          220.2,
          220.4,
          237.1,
          229,
          243.8,
          243.1,
          177.1,
          234.8,
          210.4,
          188,
          268.1,
          242.4,
          228.5,
          225.4,
          192,
          257.6,
          189.8,
          195.7,
          212.6,
          287,
          221.9,
          235,
          236,
          275.4,
          186.6,
          248.9,
          233.8,
          196.8,
          244.2,
          232.4,
          229.5,
          273.6,
          533.2,
          226.9,
          267,
          234.8,
          205.3,
          259.4,
          228.4,
          213.8,
          228,
          253.1,
          212.1,
          245.7
         ],
         "yaxis": "y5"
        },
        {
         "boxpoints": "outliers",
         "fillcolor": "rgba(60,179,113,0.3)",
         "line": {
          "color": "seagreen"
         },
         "marker": {
          "color": "mediumseagreen",
          "size": 4
         },
         "name": "Thigh Weight",
         "type": "box",
         "whiskerwidth": 0.2,
         "xaxis": "x6",
         "y": [
          489.4,
          538.7,
          512.1,
          549.9,
          473.2,
          523.5,
          487.8,
          510.7,
          506.7,
          537.5,
          498.6,
          506.2,
          470.7,
          495.3,
          511.3,
          516.6,
          532.8,
          524.2,
          507.6,
          485.8,
          529.4,
          549.2,
          519.4,
          545,
          490,
          542.6,
          481.4,
          565.8,
          503.2,
          556.8,
          508.4,
          574,
          497,
          515.7,
          526.2,
          569.4,
          500.1,
          553.7,
          468.1,
          573.8,
          490.9,
          565,
          513.5,
          517,
          557.9,
          571.3,
          495.4,
          531.2,
          591.9,
          604.3,
          510.9,
          604.2,
          526.6,
          565.4,
          545.6,
          610.8,
          614.3,
          593.6,
          522.2,
          554.3,
          487.5,
          533.8,
          582.5,
          555.8,
          563.1,
          563.4,
          482.1,
          610.5,
          444.9,
          525,
          528.3,
          634.8,
          552.1,
          608.5,
          580.9,
          665.1,
          507.7,
          637,
          537.3,
          555.1,
          587.6,
          559.5,
          598.7,
          690.6,
          177.8,
          575.8,
          650.5,
          569.1,
          505.8,
          628.3,
          614.1,
          610.9,
          528.2,
          610,
          548.4,
          606.9
         ],
         "yaxis": "y6"
        },
        {
         "boxpoints": "outliers",
         "fillcolor": "rgba(60,179,113,0.3)",
         "line": {
          "color": "seagreen"
         },
         "marker": {
          "color": "mediumseagreen",
          "size": 4
         },
         "name": "Spleen",
         "type": "box",
         "whiskerwidth": 0.2,
         "xaxis": "x7",
         "y": [
          3.716,
          3.494,
          4.023,
          3.087,
          3.723,
          3.794,
          3.745,
          2.542,
          4.294,
          4.457,
          3.677,
          3.754,
          5.79,
          3.343,
          2.661,
          7.758,
          4.1,
          5.581,
          4.404,
          4.701,
          2.865,
          3.725,
          4.366,
          4.292,
          3.248,
          4.933,
          4.403,
          4.019,
          4.718,
          4.014,
          4.796,
          5.11,
          4.433,
          2.464,
          4.728,
          3.829,
          4.073,
          6.666,
          3.262,
          5.388,
          2.649,
          4.722,
          5.711,
          3.063,
          3.496,
          3.485,
          5.09,
          4.377,
          3.86,
          4.893,
          4.417,
          3.628,
          3.57,
          4.582,
          3.547,
          3.101,
          4.471,
          4.688,
          2.917,
          5.96,
          3.304,
          3.995,
          3.258,
          2.997,
          5.113,
          3.664,
          3.124,
          5.952,
          3.794,
          3.873,
          3.663,
          4.946,
          4.187,
          4.733,
          6.043,
          3.638,
          4.557,
          4.968,
          4.88,
          3.957,
          5.415,
          3.406,
          4.008,
          6.59,
          3.225,
          4.295,
          5.108,
          2.967,
          2.959,
          4.976,
          4.899,
          4.777,
          3.673,
          5.176,
          2.829,
          5.96
         ],
         "yaxis": "y7"
        },
        {
         "boxpoints": "outliers",
         "fillcolor": "rgba(60,179,113,0.3)",
         "line": {
          "color": "seagreen"
         },
         "marker": {
          "color": "mediumseagreen",
          "size": 4
         },
         "name": "Liver",
         "type": "box",
         "whiskerwidth": 0.2,
         "xaxis": "x8",
         "y": [
          38.636,
          34.725,
          31.932,
          32.326,
          30.105,
          25.916,
          32.193,
          33.326,
          34.976,
          36.808,
          29.986,
          35.883,
          49.603,
          33.504,
          36.056,
          36.687,
          33.731,
          31.624,
          34.423,
          32.43,
          30.874,
          31.388,
          26.827,
          33.316,
          38.367,
          44.37,
          35.35,
          32.123,
          34.387,
          29.016,
          29.238,
          32.316,
          34.959,
          34.926,
          35.989,
          33.687,
          34.564,
          37.79,
          36.798,
          34.287,
          36.906,
          30.864,
          29.52,
          33.208,
          43.004,
          30.388,
          38.268,
          37.679,
          32.052,
          42.89,
          34.082,
          36.009,
          35.255,
          41.09,
          40.86,
          43.263,
          38.17,
          43.069,
          41.955,
          40.922,
          33.573,
          41.659,
          40.34,
          34.739,
          35.849,
          29.157,
          43.689,
          44.001,
          32.442,
          53.133,
          39.768,
          34.897,
          47.639,
          39.233,
          51.161,
          38.77,
          32.588,
          44.706,
          36.563,
          42.504,
          36.965,
          36.364,
          41.204,
          36.965,
          43.454,
          38.853,
          36.165,
          41.033,
          30.909,
          34.663,
          40.36,
          45.992,
          35.09,
          50.505,
          30.266,
          40.922
         ],
         "yaxis": "y8"
        },
        {
         "boxpoints": "outliers",
         "fillcolor": "rgba(60,179,113,0.3)",
         "line": {
          "color": "seagreen"
         },
         "marker": {
          "color": "mediumseagreen",
          "size": 4
         },
         "name": "Heart",
         "type": "box",
         "whiskerwidth": 0.2,
         "xaxis": "x9",
         "y": [
          9.305,
          10.084,
          10.635,
          11.927,
          9.855,
          14.799,
          10.954,
          11.547,
          10.466,
          9.801,
          8.765,
          14.2,
          10.871,
          11.431,
          9.066,
          13.392,
          10.601,
          12.192,
          11.429,
          13.155,
          10.05,
          10,
          12.972,
          11.04,
          10.083,
          13.613,
          11.075,
          14.1,
          10.3,
          11.284,
          9.356,
          13.29,
          9.551,
          11.573,
          11.977,
          12.023,
          10.898,
          14.102,
          9.498,
          14.385,
          10.13,
          13.795,
          11.82,
          14.592,
          10.534,
          13.455,
          10.248,
          13.055,
          11.476,
          14.129,
          13.904,
          13.231,
          9.451,
          11.533,
          14.354,
          9.923,
          10.662,
          13.447,
          10.429,
          16.19,
          14.471,
          12.55,
          15.335,
          10.852,
          11.512,
          12.625,
          15.169,
          11.252,
          10.026,
          8.561,
          12.103,
          17.083,
          12.888,
          12.279,
          11.569,
          12.36,
          12.021,
          14.185,
          10.697,
          10.362,
          11.603,
          14.053,
          13.448,
          14.265,
          13.066,
          12.781,
          11.755,
          11.098,
          8.821,
          13.985,
          14.096,
          12.796,
          11.504,
          17.194,
          11.129,
          16.19
         ],
         "yaxis": "y9"
        },
        {
         "boxpoints": "outliers",
         "fillcolor": "rgba(60,179,113,0.3)",
         "line": {
          "color": "seagreen"
         },
         "marker": {
          "color": "mediumseagreen",
          "size": 4
         },
         "name": "Intestine",
         "type": "box",
         "whiskerwidth": 0.2,
         "xaxis": "x10",
         "y": [
          123.171,
          71.8,
          61.38,
          64.879,
          68.562,
          58.011,
          72.148,
          72.605,
          82.072,
          87.439,
          54.074,
          56.671,
          104.403,
          61.847,
          62.338,
          76.261,
          68.477,
          65.48,
          57.655,
          64.903,
          66.687,
          64.748,
          72.052,
          64.971,
          73.434,
          77.686,
          64.431,
          66.168,
          50.568,
          53.15,
          62.789,
          56.131,
          72.468,
          85.991,
          79.361,
          67.207,
          64.891,
          68.686,
          69.725,
          57.47,
          93.602,
          52.861,
          60.434,
          65.833,
          63.424,
          66.629,
          68.054,
          72.512,
          53.684,
          86.202,
          70.526,
          68.339,
          62.557,
          61.451,
          80.102,
          76.682,
          64.2,
          81.521,
          75.748,
          72.783,
          44.133,
          67.985,
          60.697,
          69.4,
          61.281,
          50.05,
          56.349,
          76.283,
          60.47,
          78.876,
          69,
          68.516,
          85.77,
          62.282,
          88.831,
          80.954,
          47.955,
          80.961,
          66.436,
          68.32,
          78.162,
          78.271,
          61.12,
          70.521,
          82.294,
          67.503,
          70.848,
          67.694,
          62.251,
          66.565,
          67.968,
          74.888,
          68.455,
          81.502,
          53.011,
          72.783
         ],
         "yaxis": "y10"
        },
        {
         "boxpoints": "outliers",
         "fillcolor": "rgba(60,179,113,0.3)",
         "line": {
          "color": "seagreen"
         },
         "marker": {
          "color": "mediumseagreen",
          "size": 4
         },
         "name": "Empty Muscular Stomach",
         "type": "box",
         "whiskerwidth": 0.2,
         "xaxis": "x11",
         "y": [
          "/",
          45.273,
          "/",
          35.861,
          36.526,
          40.993,
          40.949,
          45.323,
          42.091,
          49.148,
          46.807,
          31.103,
          "/",
          49.057,
          39.621,
          43.128,
          53.485,
          38.836,
          44.487,
          47.665,
          50.006,
          43.695,
          59.547,
          61.306,
          "/",
          61.702,
          60.063,
          45.428,
          53.456,
          43.586,
          49.648,
          63.571,
          47.523,
          63.86,
          64.538,
          42.852,
          "/",
          50.119,
          32.665,
          35.164,
          46.656,
          44.855,
          44.962,
          51.851,
          45.507,
          50.136,
          43.821,
          66.616,
          29.712,
          40.936,
          52.518,
          35.408,
          51.944,
          41.483,
          56.23,
          55.663,
          42.66,
          32.12,
          43.964,
          75.767,
          45.327,
          42.129,
          47.964,
          44.811,
          32.599,
          32.947,
          38.155,
          48.009,
          56.347,
          59.583,
          51.322,
          58.708,
          41.917,
          40.425,
          51.903,
          56.698,
          40.7,
          45.321,
          55.671,
          68.602,
          44.006,
          54.71,
          45.636,
          34.692,
          48.933,
          45.045,
          48.02,
          42.632,
          45.366,
          52.457,
          49.281,
          54.021,
          42.173,
          49.7,
          46.816,
          75.767
         ],
         "yaxis": "y11"
        },
        {
         "boxpoints": "outliers",
         "fillcolor": "rgba(60,179,113,0.3)",
         "line": {
          "color": "seagreen"
         },
         "marker": {
          "color": "mediumseagreen",
          "size": 4
         },
         "name": "Glandular Stomach",
         "type": "box",
         "whiskerwidth": 0.2,
         "xaxis": "x12",
         "y": [
          13.17,
          9.781,
          6.217,
          8.358,
          7.572,
          8.435,
          6.689,
          8.589,
          11.836,
          11.169,
          7.655,
          6.423,
          9.647,
          7.177,
          10.339,
          7.239,
          6.138,
          9.662,
          7.518,
          10.858,
          8.451,
          8.157,
          8.708,
          6.798,
          6.353,
          10.498,
          8.072,
          12.254,
          8.355,
          6.745,
          6.699,
          6.518,
          8.732,
          11.23,
          7.715,
          7.882,
          13.056,
          10.406,
          7.75,
          9.172,
          8.1,
          7.501,
          9.356,
          7.745,
          7.952,
          8.796,
          10.598,
          10.119,
          7.782,
          7.589,
          8.664,
          6.604,
          6.312,
          6.562,
          11.57,
          6.992,
          7.248,
          12.371,
          7.172,
          7.42,
          7.095,
          8.356,
          7.264,
          7.903,
          6.19,
          5.497,
          6.147,
          6.786,
          6.541,
          7.017,
          7,
          9.849,
          7.195,
          8.269,
          6.261,
          9.55,
          5.58,
          7.097,
          7.488,
          9.263,
          8.109,
          8.837,
          6.94,
          8.105,
          7.635,
          8.965,
          9.31,
          7.432,
          6.322,
          8.013,
          9.366,
          7.857,
          7.837,
          7.332,
          5.425,
          7.42
         ],
         "yaxis": "y12"
        },
        {
         "boxpoints": "outliers",
         "fillcolor": "rgba(60,179,113,0.3)",
         "line": {
          "color": "seagreen"
         },
         "marker": {
          "color": "mediumseagreen",
          "size": 4
         },
         "name": "Crude Protein",
         "type": "box",
         "whiskerwidth": 0.2,
         "xaxis": "x13",
         "y": [
          86.10546875,
          86.14347234814144,
          86.41689847009737,
          85.95993515516443,
          81.69363716424483,
          87.53306565895136,
          86.84098639455785,
          88.24679943100998,
          87.53988149498633,
          88.1923837784372,
          87.7861952861953,
          86.24641833810888,
          86.16107382550335,
          86.51153846153846,
          86.83657786885246,
          84.99508116084604,
          86.38116154221572,
          88.51024208566109,
          85.01293103448275,
          85.97842750766536,
          88.96623952686053,
          84.7507422068283,
          87.11337209302327,
          87.26570107108083,
          85.50974173085638,
          87.16265060240966,
          84.83712628290942,
          86.89855875831486,
          87.4808784965035,
          88.20945945945947,
          83.46470588235294,
          86.33735236220474,
          86.58724513987673,
          87.89680703378066,
          88.5642471799902,
          87.4187935034803,
          87.97644412878789,
          84.67418689876318,
          73.83718395815173,
          85.94251652502362,
          86.55537459283387,
          87.64780405405406,
          87.59956759217114,
          86.17280138339922,
          88.35386890093643,
          87.2642087212151,
          86.71974522292994,
          85.26993355481729,
          87.75864029104139,
          87.8977272727273,
          88.16909225456341,
          88.43750000000003,
          87.1275684931507,
          87.5949679329058,
          87.93792517006803,
          86.5773663560569,
          87.36281234688879,
          88.58175473579264,
          89.53041035661946,
          87.14756944444446,
          87.9669373549884,
          87.80427223050175,
          86.04511100614079,
          88.7218837863168,
          88.39171974522293,
          89.00959759481961,
          85.0284935579782,
          87.27863385464582,
          87.55492515692902,
          87.45037807183365,
          88.33066896212493,
          89.0777330809276,
          86.8685160126297,
          89.4475806451613,
          88.60882614495333,
          87.66685144124169,
          87.6940133037694,
          89.01065022421525,
          89.62450155073105,
          89.48600705156457,
          88.98426237385873,
          88.4305993690852,
          88.63668224299066,
          90.24053627760254,
          86.5773663560569,
          87.43846694796063,
          88.90925480769234,
          88.72571170356983,
          88.84212344541686,
          88.83152173913044,
          87.82095369096746,
          88.99912587412588,
          88.50728754940712,
          90.3755868544601,
          91.21135265700484,
          88.8250448028674
         ],
         "yaxis": "y13"
        },
        {
         "boxpoints": "outliers",
         "fillcolor": "rgba(60,179,113,0.3)",
         "line": {
          "color": "seagreen"
         },
         "marker": {
          "color": "mediumseagreen",
          "size": 4
         },
         "name": "Ether Extract",
         "type": "box",
         "whiskerwidth": 0.2,
         "xaxis": "x14",
         "y": [
          0.38,
          1.66,
          0.98,
          1.1,
          6.34,
          1.93,
          3.21,
          0.85,
          0.96,
          1.45,
          2.07,
          0.81,
          2.35,
          3.08,
          1.71,
          3.48,
          2.79,
          2.28,
          5.73,
          3.12,
          1.02,
          4.31,
          2.96,
          0.93,
          4.17,
          1.36,
          3.72,
          2.11,
          1.25,
          1.62,
          6.68,
          3.89,
          1.17,
          2.2,
          1.41,
          1.78,
          2.05,
          5.74,
          3.76,
          3.59,
          4.04,
          2.44,
          2.27,
          3.88,
          0.82,
          1.82,
          1.13,
          5.31,
          0.96,
          1.15,
          0.93,
          0.91,
          1.17,
          2.09,
          1.85,
          2.87,
          1.02,
          1.54,
          0.77,
          1.67,
          0.94,
          1.78,
          4.71,
          0.78,
          1.69,
          1.64,
          2.86,
          2.31,
          1.19,
          2.91,
          1.17,
          0.99,
          1.3,
          0.68,
          1.7,
          1.89,
          1.97,
          1.71,
          1.87,
          0.57,
          1.71,
          1.15,
          1.58,
          0.32,
          3.98,
          1.94,
          0.6,
          1.6,
          1.8,
          0.48,
          2.39,
          1.07,
          1.13,
          1.91,
          2.21,
          1.51
         ],
         "yaxis": "y14"
        },
        {
         "boxpoints": "outliers",
         "fillcolor": "rgba(60,179,113,0.3)",
         "line": {
          "color": "seagreen"
         },
         "marker": {
          "color": "mediumseagreen",
          "size": 4
         },
         "name": "Empty Muscular Stomach Bin",
         "type": "box",
         "whiskerwidth": 0.2,
         "xaxis": "x15",
         "y": [
          1,
          0,
          1,
          0,
          0,
          0,
          0,
          0,
          0,
          0,
          0,
          0,
          1,
          0,
          0,
          0,
          0,
          0,
          0,
          0,
          0,
          0,
          0,
          0,
          1,
          0,
          0,
          0,
          0,
          0,
          0,
          0,
          0,
          0,
          0,
          0,
          1,
          0,
          0,
          0,
          0,
          0,
          0,
          0,
          0,
          0,
          0,
          0,
          0,
          0,
          0,
          0,
          0,
          0,
          0,
          0,
          0,
          0,
          0,
          0,
          0,
          0,
          0,
          0,
          0,
          0,
          0,
          0,
          0,
          0,
          0,
          0,
          0,
          0,
          0,
          0,
          0,
          0,
          0,
          0,
          0,
          0,
          0,
          0,
          0,
          0,
          0,
          0,
          0,
          0,
          0,
          0,
          0,
          0,
          0,
          0
         ],
         "yaxis": "y15"
        },
        {
         "boxpoints": "outliers",
         "fillcolor": "rgba(60,179,113,0.3)",
         "line": {
          "color": "seagreen"
         },
         "marker": {
          "color": "mediumseagreen",
          "size": 4
         },
         "name": "Empty Muscular Stomach Float",
         "type": "box",
         "whiskerwidth": 0.2,
         "xaxis": "x16",
         "y": [
          0,
          45.273,
          0,
          35.861,
          36.526,
          40.993,
          40.949,
          45.323,
          42.091,
          49.148,
          46.807,
          31.103,
          0,
          49.057,
          39.621,
          43.128,
          53.485,
          38.836,
          44.487,
          47.665,
          50.006,
          43.695,
          59.547,
          61.306,
          0,
          61.702,
          60.063,
          45.428,
          53.456,
          43.586,
          49.648,
          63.571,
          47.523,
          63.86,
          64.538,
          42.852,
          0,
          50.119,
          32.665,
          35.164,
          46.656,
          44.855,
          44.962,
          51.851,
          45.507,
          50.136,
          43.821,
          66.616,
          29.712,
          40.936,
          52.518,
          35.408,
          51.944,
          41.483,
          56.23,
          55.663,
          42.66,
          32.12,
          43.964,
          75.767,
          45.327,
          42.129,
          47.964,
          44.811,
          32.599,
          32.947,
          38.155,
          48.009,
          56.347,
          59.583,
          51.322,
          58.708,
          41.917,
          40.425,
          51.903,
          56.698,
          40.7,
          45.321,
          55.671,
          68.602,
          44.006,
          54.71,
          45.636,
          34.692,
          48.933,
          45.045,
          48.02,
          42.632,
          45.366,
          52.457,
          49.281,
          54.021,
          42.173,
          49.7,
          46.816,
          75.767
         ],
         "yaxis": "y16"
        }
       ],
       "layout": {
        "annotations": [
         {
          "font": {
           "size": 16
          },
          "showarrow": false,
          "text": "Weight",
          "x": 0.0078125,
          "xanchor": "center",
          "xref": "paper",
          "y": 1,
          "yanchor": "bottom",
          "yref": "paper"
         },
         {
          "font": {
           "size": 16
          },
          "showarrow": false,
          "text": "Hot Carcass Weight",
          "x": 0.0734375,
          "xanchor": "center",
          "xref": "paper",
          "y": 1,
          "yanchor": "bottom",
          "yref": "paper"
         },
         {
          "font": {
           "size": 16
          },
          "showarrow": false,
          "text": "Carcass Weight With Head And Legs",
          "x": 0.1390625,
          "xanchor": "center",
          "xref": "paper",
          "y": 1,
          "yanchor": "bottom",
          "yref": "paper"
         },
         {
          "font": {
           "size": 16
          },
          "showarrow": false,
          "text": "Cold Carcass Weight",
          "x": 0.20468750000000002,
          "xanchor": "center",
          "xref": "paper",
          "y": 1,
          "yanchor": "bottom",
          "yref": "paper"
         },
         {
          "font": {
           "size": 16
          },
          "showarrow": false,
          "text": "Breast Weight",
          "x": 0.2703125,
          "xanchor": "center",
          "xref": "paper",
          "y": 1,
          "yanchor": "bottom",
          "yref": "paper"
         },
         {
          "font": {
           "size": 16
          },
          "showarrow": false,
          "text": "Thigh Weight",
          "x": 0.3359375,
          "xanchor": "center",
          "xref": "paper",
          "y": 1,
          "yanchor": "bottom",
          "yref": "paper"
         },
         {
          "font": {
           "size": 16
          },
          "showarrow": false,
          "text": "Spleen",
          "x": 0.40156250000000004,
          "xanchor": "center",
          "xref": "paper",
          "y": 1,
          "yanchor": "bottom",
          "yref": "paper"
         },
         {
          "font": {
           "size": 16
          },
          "showarrow": false,
          "text": "Liver",
          "x": 0.46718750000000003,
          "xanchor": "center",
          "xref": "paper",
          "y": 1,
          "yanchor": "bottom",
          "yref": "paper"
         },
         {
          "font": {
           "size": 16
          },
          "showarrow": false,
          "text": "Heart",
          "x": 0.5328125,
          "xanchor": "center",
          "xref": "paper",
          "y": 1,
          "yanchor": "bottom",
          "yref": "paper"
         },
         {
          "font": {
           "size": 16
          },
          "showarrow": false,
          "text": "Intestine",
          "x": 0.5984375,
          "xanchor": "center",
          "xref": "paper",
          "y": 1,
          "yanchor": "bottom",
          "yref": "paper"
         },
         {
          "font": {
           "size": 16
          },
          "showarrow": false,
          "text": "Empty Muscular Stomach",
          "x": 0.6640625,
          "xanchor": "center",
          "xref": "paper",
          "y": 1,
          "yanchor": "bottom",
          "yref": "paper"
         },
         {
          "font": {
           "size": 16
          },
          "showarrow": false,
          "text": "Glandular Stomach",
          "x": 0.7296875,
          "xanchor": "center",
          "xref": "paper",
          "y": 1,
          "yanchor": "bottom",
          "yref": "paper"
         },
         {
          "font": {
           "size": 16
          },
          "showarrow": false,
          "text": "Crude Protein",
          "x": 0.7953125000000001,
          "xanchor": "center",
          "xref": "paper",
          "y": 1,
          "yanchor": "bottom",
          "yref": "paper"
         },
         {
          "font": {
           "size": 16
          },
          "showarrow": false,
          "text": "Ether Extract",
          "x": 0.8609375,
          "xanchor": "center",
          "xref": "paper",
          "y": 1,
          "yanchor": "bottom",
          "yref": "paper"
         },
         {
          "font": {
           "size": 16
          },
          "showarrow": false,
          "text": "Empty Muscular Stomach Bin",
          "x": 0.9265625000000001,
          "xanchor": "center",
          "xref": "paper",
          "y": 1,
          "yanchor": "bottom",
          "yref": "paper"
         },
         {
          "font": {
           "size": 16
          },
          "showarrow": false,
          "text": "Empty Muscular Stomach Float",
          "x": 0.9921875,
          "xanchor": "center",
          "xref": "paper",
          "y": 1,
          "yanchor": "bottom",
          "yref": "paper"
         }
        ],
        "height": 600,
        "plot_bgcolor": "white",
        "showlegend": false,
        "template": {
         "data": {
          "bar": [
           {
            "error_x": {
             "color": "#2a3f5f"
            },
            "error_y": {
             "color": "#2a3f5f"
            },
            "marker": {
             "line": {
              "color": "#E5ECF6",
              "width": 0.5
             },
             "pattern": {
              "fillmode": "overlay",
              "size": 10,
              "solidity": 0.2
             }
            },
            "type": "bar"
           }
          ],
          "barpolar": [
           {
            "marker": {
             "line": {
              "color": "#E5ECF6",
              "width": 0.5
             },
             "pattern": {
              "fillmode": "overlay",
              "size": 10,
              "solidity": 0.2
             }
            },
            "type": "barpolar"
           }
          ],
          "carpet": [
           {
            "aaxis": {
             "endlinecolor": "#2a3f5f",
             "gridcolor": "white",
             "linecolor": "white",
             "minorgridcolor": "white",
             "startlinecolor": "#2a3f5f"
            },
            "baxis": {
             "endlinecolor": "#2a3f5f",
             "gridcolor": "white",
             "linecolor": "white",
             "minorgridcolor": "white",
             "startlinecolor": "#2a3f5f"
            },
            "type": "carpet"
           }
          ],
          "choropleth": [
           {
            "colorbar": {
             "outlinewidth": 0,
             "ticks": ""
            },
            "type": "choropleth"
           }
          ],
          "contour": [
           {
            "colorbar": {
             "outlinewidth": 0,
             "ticks": ""
            },
            "colorscale": [
             [
              0,
              "#0d0887"
             ],
             [
              0.1111111111111111,
              "#46039f"
             ],
             [
              0.2222222222222222,
              "#7201a8"
             ],
             [
              0.3333333333333333,
              "#9c179e"
             ],
             [
              0.4444444444444444,
              "#bd3786"
             ],
             [
              0.5555555555555556,
              "#d8576b"
             ],
             [
              0.6666666666666666,
              "#ed7953"
             ],
             [
              0.7777777777777778,
              "#fb9f3a"
             ],
             [
              0.8888888888888888,
              "#fdca26"
             ],
             [
              1,
              "#f0f921"
             ]
            ],
            "type": "contour"
           }
          ],
          "contourcarpet": [
           {
            "colorbar": {
             "outlinewidth": 0,
             "ticks": ""
            },
            "type": "contourcarpet"
           }
          ],
          "heatmap": [
           {
            "colorbar": {
             "outlinewidth": 0,
             "ticks": ""
            },
            "colorscale": [
             [
              0,
              "#0d0887"
             ],
             [
              0.1111111111111111,
              "#46039f"
             ],
             [
              0.2222222222222222,
              "#7201a8"
             ],
             [
              0.3333333333333333,
              "#9c179e"
             ],
             [
              0.4444444444444444,
              "#bd3786"
             ],
             [
              0.5555555555555556,
              "#d8576b"
             ],
             [
              0.6666666666666666,
              "#ed7953"
             ],
             [
              0.7777777777777778,
              "#fb9f3a"
             ],
             [
              0.8888888888888888,
              "#fdca26"
             ],
             [
              1,
              "#f0f921"
             ]
            ],
            "type": "heatmap"
           }
          ],
          "heatmapgl": [
           {
            "colorbar": {
             "outlinewidth": 0,
             "ticks": ""
            },
            "colorscale": [
             [
              0,
              "#0d0887"
             ],
             [
              0.1111111111111111,
              "#46039f"
             ],
             [
              0.2222222222222222,
              "#7201a8"
             ],
             [
              0.3333333333333333,
              "#9c179e"
             ],
             [
              0.4444444444444444,
              "#bd3786"
             ],
             [
              0.5555555555555556,
              "#d8576b"
             ],
             [
              0.6666666666666666,
              "#ed7953"
             ],
             [
              0.7777777777777778,
              "#fb9f3a"
             ],
             [
              0.8888888888888888,
              "#fdca26"
             ],
             [
              1,
              "#f0f921"
             ]
            ],
            "type": "heatmapgl"
           }
          ],
          "histogram": [
           {
            "marker": {
             "pattern": {
              "fillmode": "overlay",
              "size": 10,
              "solidity": 0.2
             }
            },
            "type": "histogram"
           }
          ],
          "histogram2d": [
           {
            "colorbar": {
             "outlinewidth": 0,
             "ticks": ""
            },
            "colorscale": [
             [
              0,
              "#0d0887"
             ],
             [
              0.1111111111111111,
              "#46039f"
             ],
             [
              0.2222222222222222,
              "#7201a8"
             ],
             [
              0.3333333333333333,
              "#9c179e"
             ],
             [
              0.4444444444444444,
              "#bd3786"
             ],
             [
              0.5555555555555556,
              "#d8576b"
             ],
             [
              0.6666666666666666,
              "#ed7953"
             ],
             [
              0.7777777777777778,
              "#fb9f3a"
             ],
             [
              0.8888888888888888,
              "#fdca26"
             ],
             [
              1,
              "#f0f921"
             ]
            ],
            "type": "histogram2d"
           }
          ],
          "histogram2dcontour": [
           {
            "colorbar": {
             "outlinewidth": 0,
             "ticks": ""
            },
            "colorscale": [
             [
              0,
              "#0d0887"
             ],
             [
              0.1111111111111111,
              "#46039f"
             ],
             [
              0.2222222222222222,
              "#7201a8"
             ],
             [
              0.3333333333333333,
              "#9c179e"
             ],
             [
              0.4444444444444444,
              "#bd3786"
             ],
             [
              0.5555555555555556,
              "#d8576b"
             ],
             [
              0.6666666666666666,
              "#ed7953"
             ],
             [
              0.7777777777777778,
              "#fb9f3a"
             ],
             [
              0.8888888888888888,
              "#fdca26"
             ],
             [
              1,
              "#f0f921"
             ]
            ],
            "type": "histogram2dcontour"
           }
          ],
          "mesh3d": [
           {
            "colorbar": {
             "outlinewidth": 0,
             "ticks": ""
            },
            "type": "mesh3d"
           }
          ],
          "parcoords": [
           {
            "line": {
             "colorbar": {
              "outlinewidth": 0,
              "ticks": ""
             }
            },
            "type": "parcoords"
           }
          ],
          "pie": [
           {
            "automargin": true,
            "type": "pie"
           }
          ],
          "scatter": [
           {
            "fillpattern": {
             "fillmode": "overlay",
             "size": 10,
             "solidity": 0.2
            },
            "type": "scatter"
           }
          ],
          "scatter3d": [
           {
            "line": {
             "colorbar": {
              "outlinewidth": 0,
              "ticks": ""
             }
            },
            "marker": {
             "colorbar": {
              "outlinewidth": 0,
              "ticks": ""
             }
            },
            "type": "scatter3d"
           }
          ],
          "scattercarpet": [
           {
            "marker": {
             "colorbar": {
              "outlinewidth": 0,
              "ticks": ""
             }
            },
            "type": "scattercarpet"
           }
          ],
          "scattergeo": [
           {
            "marker": {
             "colorbar": {
              "outlinewidth": 0,
              "ticks": ""
             }
            },
            "type": "scattergeo"
           }
          ],
          "scattergl": [
           {
            "marker": {
             "colorbar": {
              "outlinewidth": 0,
              "ticks": ""
             }
            },
            "type": "scattergl"
           }
          ],
          "scattermapbox": [
           {
            "marker": {
             "colorbar": {
              "outlinewidth": 0,
              "ticks": ""
             }
            },
            "type": "scattermapbox"
           }
          ],
          "scatterpolar": [
           {
            "marker": {
             "colorbar": {
              "outlinewidth": 0,
              "ticks": ""
             }
            },
            "type": "scatterpolar"
           }
          ],
          "scatterpolargl": [
           {
            "marker": {
             "colorbar": {
              "outlinewidth": 0,
              "ticks": ""
             }
            },
            "type": "scatterpolargl"
           }
          ],
          "scatterternary": [
           {
            "marker": {
             "colorbar": {
              "outlinewidth": 0,
              "ticks": ""
             }
            },
            "type": "scatterternary"
           }
          ],
          "surface": [
           {
            "colorbar": {
             "outlinewidth": 0,
             "ticks": ""
            },
            "colorscale": [
             [
              0,
              "#0d0887"
             ],
             [
              0.1111111111111111,
              "#46039f"
             ],
             [
              0.2222222222222222,
              "#7201a8"
             ],
             [
              0.3333333333333333,
              "#9c179e"
             ],
             [
              0.4444444444444444,
              "#bd3786"
             ],
             [
              0.5555555555555556,
              "#d8576b"
             ],
             [
              0.6666666666666666,
              "#ed7953"
             ],
             [
              0.7777777777777778,
              "#fb9f3a"
             ],
             [
              0.8888888888888888,
              "#fdca26"
             ],
             [
              1,
              "#f0f921"
             ]
            ],
            "type": "surface"
           }
          ],
          "table": [
           {
            "cells": {
             "fill": {
              "color": "#EBF0F8"
             },
             "line": {
              "color": "white"
             }
            },
            "header": {
             "fill": {
              "color": "#C8D4E3"
             },
             "line": {
              "color": "white"
             }
            },
            "type": "table"
           }
          ]
         },
         "layout": {
          "annotationdefaults": {
           "arrowcolor": "#2a3f5f",
           "arrowhead": 0,
           "arrowwidth": 1
          },
          "autotypenumbers": "strict",
          "coloraxis": {
           "colorbar": {
            "outlinewidth": 0,
            "ticks": ""
           }
          },
          "colorscale": {
           "diverging": [
            [
             0,
             "#8e0152"
            ],
            [
             0.1,
             "#c51b7d"
            ],
            [
             0.2,
             "#de77ae"
            ],
            [
             0.3,
             "#f1b6da"
            ],
            [
             0.4,
             "#fde0ef"
            ],
            [
             0.5,
             "#f7f7f7"
            ],
            [
             0.6,
             "#e6f5d0"
            ],
            [
             0.7,
             "#b8e186"
            ],
            [
             0.8,
             "#7fbc41"
            ],
            [
             0.9,
             "#4d9221"
            ],
            [
             1,
             "#276419"
            ]
           ],
           "sequential": [
            [
             0,
             "#0d0887"
            ],
            [
             0.1111111111111111,
             "#46039f"
            ],
            [
             0.2222222222222222,
             "#7201a8"
            ],
            [
             0.3333333333333333,
             "#9c179e"
            ],
            [
             0.4444444444444444,
             "#bd3786"
            ],
            [
             0.5555555555555556,
             "#d8576b"
            ],
            [
             0.6666666666666666,
             "#ed7953"
            ],
            [
             0.7777777777777778,
             "#fb9f3a"
            ],
            [
             0.8888888888888888,
             "#fdca26"
            ],
            [
             1,
             "#f0f921"
            ]
           ],
           "sequentialminus": [
            [
             0,
             "#0d0887"
            ],
            [
             0.1111111111111111,
             "#46039f"
            ],
            [
             0.2222222222222222,
             "#7201a8"
            ],
            [
             0.3333333333333333,
             "#9c179e"
            ],
            [
             0.4444444444444444,
             "#bd3786"
            ],
            [
             0.5555555555555556,
             "#d8576b"
            ],
            [
             0.6666666666666666,
             "#ed7953"
            ],
            [
             0.7777777777777778,
             "#fb9f3a"
            ],
            [
             0.8888888888888888,
             "#fdca26"
            ],
            [
             1,
             "#f0f921"
            ]
           ]
          },
          "colorway": [
           "#636efa",
           "#EF553B",
           "#00cc96",
           "#ab63fa",
           "#FFA15A",
           "#19d3f3",
           "#FF6692",
           "#B6E880",
           "#FF97FF",
           "#FECB52"
          ],
          "font": {
           "color": "#2a3f5f"
          },
          "geo": {
           "bgcolor": "white",
           "lakecolor": "white",
           "landcolor": "#E5ECF6",
           "showlakes": true,
           "showland": true,
           "subunitcolor": "white"
          },
          "hoverlabel": {
           "align": "left"
          },
          "hovermode": "closest",
          "mapbox": {
           "style": "light"
          },
          "paper_bgcolor": "white",
          "plot_bgcolor": "#E5ECF6",
          "polar": {
           "angularaxis": {
            "gridcolor": "white",
            "linecolor": "white",
            "ticks": ""
           },
           "bgcolor": "#E5ECF6",
           "radialaxis": {
            "gridcolor": "white",
            "linecolor": "white",
            "ticks": ""
           }
          },
          "scene": {
           "xaxis": {
            "backgroundcolor": "#E5ECF6",
            "gridcolor": "white",
            "gridwidth": 2,
            "linecolor": "white",
            "showbackground": true,
            "ticks": "",
            "zerolinecolor": "white"
           },
           "yaxis": {
            "backgroundcolor": "#E5ECF6",
            "gridcolor": "white",
            "gridwidth": 2,
            "linecolor": "white",
            "showbackground": true,
            "ticks": "",
            "zerolinecolor": "white"
           },
           "zaxis": {
            "backgroundcolor": "#E5ECF6",
            "gridcolor": "white",
            "gridwidth": 2,
            "linecolor": "white",
            "showbackground": true,
            "ticks": "",
            "zerolinecolor": "white"
           }
          },
          "shapedefaults": {
           "line": {
            "color": "#2a3f5f"
           }
          },
          "ternary": {
           "aaxis": {
            "gridcolor": "white",
            "linecolor": "white",
            "ticks": ""
           },
           "baxis": {
            "gridcolor": "white",
            "linecolor": "white",
            "ticks": ""
           },
           "bgcolor": "#E5ECF6",
           "caxis": {
            "gridcolor": "white",
            "linecolor": "white",
            "ticks": ""
           }
          },
          "title": {
           "x": 0.05
          },
          "xaxis": {
           "automargin": true,
           "gridcolor": "white",
           "linecolor": "white",
           "ticks": "",
           "title": {
            "standoff": 15
           },
           "zerolinecolor": "white",
           "zerolinewidth": 2
          },
          "yaxis": {
           "automargin": true,
           "gridcolor": "white",
           "linecolor": "white",
           "ticks": "",
           "title": {
            "standoff": 15
           },
           "zerolinecolor": "white",
           "zerolinewidth": 2
          }
         }
        },
        "title": {
         "font": {
          "size": 24
         },
         "text": "Outliers Analysis"
        },
        "width": 4800,
        "xaxis": {
         "anchor": "y",
         "domain": [
          0,
          0.015625
         ]
        },
        "xaxis10": {
         "anchor": "y10",
         "domain": [
          0.590625,
          0.60625
         ]
        },
        "xaxis11": {
         "anchor": "y11",
         "domain": [
          0.65625,
          0.671875
         ]
        },
        "xaxis12": {
         "anchor": "y12",
         "domain": [
          0.721875,
          0.7375
         ]
        },
        "xaxis13": {
         "anchor": "y13",
         "domain": [
          0.7875000000000001,
          0.8031250000000001
         ]
        },
        "xaxis14": {
         "anchor": "y14",
         "domain": [
          0.853125,
          0.86875
         ]
        },
        "xaxis15": {
         "anchor": "y15",
         "domain": [
          0.9187500000000001,
          0.9343750000000001
         ]
        },
        "xaxis16": {
         "anchor": "y16",
         "domain": [
          0.984375,
          1
         ]
        },
        "xaxis2": {
         "anchor": "y2",
         "domain": [
          0.065625,
          0.08125
         ]
        },
        "xaxis3": {
         "anchor": "y3",
         "domain": [
          0.13125,
          0.146875
         ]
        },
        "xaxis4": {
         "anchor": "y4",
         "domain": [
          0.19687500000000002,
          0.21250000000000002
         ]
        },
        "xaxis5": {
         "anchor": "y5",
         "domain": [
          0.2625,
          0.278125
         ]
        },
        "xaxis6": {
         "anchor": "y6",
         "domain": [
          0.328125,
          0.34375
         ]
        },
        "xaxis7": {
         "anchor": "y7",
         "domain": [
          0.39375000000000004,
          0.40937500000000004
         ]
        },
        "xaxis8": {
         "anchor": "y8",
         "domain": [
          0.45937500000000003,
          0.47500000000000003
         ]
        },
        "xaxis9": {
         "anchor": "y9",
         "domain": [
          0.525,
          0.540625
         ]
        },
        "yaxis": {
         "anchor": "x",
         "domain": [
          0,
          1
         ],
         "zeroline": false
        },
        "yaxis10": {
         "anchor": "x10",
         "domain": [
          0,
          1
         ],
         "zeroline": false
        },
        "yaxis11": {
         "anchor": "x11",
         "domain": [
          0,
          1
         ],
         "zeroline": false
        },
        "yaxis12": {
         "anchor": "x12",
         "domain": [
          0,
          1
         ],
         "zeroline": false
        },
        "yaxis13": {
         "anchor": "x13",
         "domain": [
          0,
          1
         ],
         "zeroline": false
        },
        "yaxis14": {
         "anchor": "x14",
         "domain": [
          0,
          1
         ],
         "zeroline": false
        },
        "yaxis15": {
         "anchor": "x15",
         "domain": [
          0,
          1
         ],
         "zeroline": false
        },
        "yaxis16": {
         "anchor": "x16",
         "domain": [
          0,
          1
         ],
         "zeroline": false
        },
        "yaxis2": {
         "anchor": "x2",
         "domain": [
          0,
          1
         ],
         "zeroline": false
        },
        "yaxis3": {
         "anchor": "x3",
         "domain": [
          0,
          1
         ],
         "zeroline": false
        },
        "yaxis4": {
         "anchor": "x4",
         "domain": [
          0,
          1
         ],
         "zeroline": false
        },
        "yaxis5": {
         "anchor": "x5",
         "domain": [
          0,
          1
         ],
         "zeroline": false
        },
        "yaxis6": {
         "anchor": "x6",
         "domain": [
          0,
          1
         ],
         "zeroline": false
        },
        "yaxis7": {
         "anchor": "x7",
         "domain": [
          0,
          1
         ],
         "zeroline": false
        },
        "yaxis8": {
         "anchor": "x8",
         "domain": [
          0,
          1
         ],
         "zeroline": false
        },
        "yaxis9": {
         "anchor": "x9",
         "domain": [
          0,
          1
         ],
         "zeroline": false
        }
       }
      }
     },
     "metadata": {},
     "output_type": "display_data"
    }
   ],
   "source": [
    "plot_boxplots(df, df.columns)"
   ]
  },
  {
   "cell_type": "markdown",
   "id": "a703ba75",
   "metadata": {},
   "source": [
    "Given the presence of outliers and the small size of the dataset, the best approach is to incorporate the Robust Scaler into the model's pipeline."
   ]
  },
  {
   "cell_type": "markdown",
   "id": "9236cefb",
   "metadata": {},
   "source": [
    "#### Correlations"
   ]
  },
  {
   "cell_type": "code",
   "execution_count": 140,
   "id": "24949271",
   "metadata": {},
   "outputs": [
    {
     "data": {
      "image/png": "[encoded data removed]",
      "text/plain": [
       "<Figure size 2000x1500 with 9 Axes>"
      ]
     },
     "metadata": {},
     "output_type": "display_data"
    },
    {
     "name": "stdout",
     "output_type": "stream",
     "text": [
      "Correlations with crude_protein:\n"
     ]
    },
    {
     "data": {
      "text/html": [
       "<style type=\"text/css\">\n",
       "#T_52e78_row0_col0 {\n",
       "  background-color: #d4efec;\n",
       "  color: #000000;\n",
       "}\n",
       "#T_52e78_row0_col1 {\n",
       "  background-color: #d8f0ef;\n",
       "  color: #000000;\n",
       "}\n",
       "#T_52e78_row1_col0 {\n",
       "  background-color: #208843;\n",
       "  color: #f1f1f1;\n",
       "}\n",
       "#T_52e78_row1_col1 {\n",
       "  background-color: #2b9452;\n",
       "  color: #f1f1f1;\n",
       "}\n",
       "#T_52e78_row2_col0, #T_52e78_row3_col0 {\n",
       "  background-color: #218944;\n",
       "  color: #f1f1f1;\n",
       "}\n",
       "#T_52e78_row2_col1, #T_52e78_row3_col1 {\n",
       "  background-color: #27904c;\n",
       "  color: #f1f1f1;\n",
       "}\n",
       "#T_52e78_row4_col0 {\n",
       "  background-color: #238b45;\n",
       "  color: #f1f1f1;\n",
       "}\n",
       "#T_52e78_row4_col1 {\n",
       "  background-color: #29924f;\n",
       "  color: #f1f1f1;\n",
       "}\n",
       "#T_52e78_row5_col0 {\n",
       "  background-color: #248c47;\n",
       "  color: #f1f1f1;\n",
       "}\n",
       "#T_52e78_row5_col1 {\n",
       "  background-color: #319c5c;\n",
       "  color: #f1f1f1;\n",
       "}\n",
       "#T_52e78_row6_col0 {\n",
       "  background-color: #8dd3c0;\n",
       "  color: #000000;\n",
       "}\n",
       "#T_52e78_row6_col1 {\n",
       "  background-color: #7acbb3;\n",
       "  color: #000000;\n",
       "}\n",
       "#T_52e78_row7_col0 {\n",
       "  background-color: #4fb688;\n",
       "  color: #f1f1f1;\n",
       "}\n",
       "#T_52e78_row7_col1 {\n",
       "  background-color: #47b17e;\n",
       "  color: #f1f1f1;\n",
       "}\n",
       "#T_52e78_row8_col0 {\n",
       "  background-color: #51b689;\n",
       "  color: #f1f1f1;\n",
       "}\n",
       "#T_52e78_row8_col1 {\n",
       "  background-color: #54b88e;\n",
       "  color: #f1f1f1;\n",
       "}\n",
       "#T_52e78_row9_col0 {\n",
       "  background-color: #52b78b;\n",
       "  color: #f1f1f1;\n",
       "}\n",
       "#T_52e78_row9_col1 {\n",
       "  background-color: #5dbd99;\n",
       "  color: #000000;\n",
       "}\n",
       "#T_52e78_row10_col0 {\n",
       "  background-color: #55b98f;\n",
       "  color: #f1f1f1;\n",
       "}\n",
       "#T_52e78_row10_col1 {\n",
       "  background-color: #4db585;\n",
       "  color: #f1f1f1;\n",
       "}\n",
       "#T_52e78_row11_col0 {\n",
       "  background-color: #59bb93;\n",
       "  color: #f1f1f1;\n",
       "}\n",
       "#T_52e78_row11_col1 {\n",
       "  background-color: #5cbd98;\n",
       "  color: #f1f1f1;\n",
       "}\n",
       "#T_52e78_row12_col0 {\n",
       "  background-color: #5bbc96;\n",
       "  color: #f1f1f1;\n",
       "}\n",
       "#T_52e78_row12_col1 {\n",
       "  background-color: #67c2a5;\n",
       "  color: #000000;\n",
       "}\n",
       "#T_52e78_row13_col0 {\n",
       "  background-color: #6dc5a9;\n",
       "  color: #000000;\n",
       "}\n",
       "#T_52e78_row13_col1 {\n",
       "  background-color: #6ac4a7;\n",
       "  color: #000000;\n",
       "}\n",
       "</style>\n",
       "<table id=\"T_52e78\">\n",
       "  <thead>\n",
       "    <tr>\n",
       "      <th class=\"blank level0\" >&nbsp;</th>\n",
       "      <th id=\"T_52e78_level0_col0\" class=\"col_heading level0 col0\" >spearman</th>\n",
       "      <th id=\"T_52e78_level0_col1\" class=\"col_heading level0 col1\" >pearson</th>\n",
       "    </tr>\n",
       "    <tr>\n",
       "      <th class=\"index_name level0\" >feature</th>\n",
       "      <th class=\"blank col0\" >&nbsp;</th>\n",
       "      <th class=\"blank col1\" >&nbsp;</th>\n",
       "    </tr>\n",
       "  </thead>\n",
       "  <tbody>\n",
       "    <tr>\n",
       "      <th id=\"T_52e78_level0_row0\" class=\"row_heading level0 row0\" >ether_extract</th>\n",
       "      <td id=\"T_52e78_row0_col0\" class=\"data row0 col0\" >-0.582762</td>\n",
       "      <td id=\"T_52e78_row0_col1\" class=\"data row0 col1\" >-0.612023</td>\n",
       "    </tr>\n",
       "    <tr>\n",
       "      <th id=\"T_52e78_level0_row1\" class=\"row_heading level0 row1\" >weight</th>\n",
       "      <td id=\"T_52e78_row1_col0\" class=\"data row1 col0\" >0.519340</td>\n",
       "      <td id=\"T_52e78_row1_col1\" class=\"data row1 col1\" >0.435335</td>\n",
       "    </tr>\n",
       "    <tr>\n",
       "      <th id=\"T_52e78_level0_row2\" class=\"row_heading level0 row2\" >cold_carcass_weight</th>\n",
       "      <td id=\"T_52e78_row2_col0\" class=\"data row2 col0\" >0.509838</td>\n",
       "      <td id=\"T_52e78_row2_col1\" class=\"data row2 col1\" >0.467681</td>\n",
       "    </tr>\n",
       "    <tr>\n",
       "      <th id=\"T_52e78_level0_row3\" class=\"row_heading level0 row3\" >hot_carcass_weight</th>\n",
       "      <td id=\"T_52e78_row3_col0\" class=\"data row3 col0\" >0.508193</td>\n",
       "      <td id=\"T_52e78_row3_col1\" class=\"data row3 col1\" >0.466773</td>\n",
       "    </tr>\n",
       "    <tr>\n",
       "      <th id=\"T_52e78_level0_row4\" class=\"row_heading level0 row4\" >carcass_weight_with_head_and_legs</th>\n",
       "      <td id=\"T_52e78_row4_col0\" class=\"data row4 col0\" >0.498589</td>\n",
       "      <td id=\"T_52e78_row4_col1\" class=\"data row4 col1\" >0.446827</td>\n",
       "    </tr>\n",
       "    <tr>\n",
       "      <th id=\"T_52e78_level0_row5\" class=\"row_heading level0 row5\" >thigh_weight</th>\n",
       "      <td id=\"T_52e78_row5_col0\" class=\"data row5 col0\" >0.485786</td>\n",
       "      <td id=\"T_52e78_row5_col1\" class=\"data row5 col1\" >0.379469</td>\n",
       "    </tr>\n",
       "    <tr>\n",
       "      <th id=\"T_52e78_level0_row6\" class=\"row_heading level0 row6\" >empty_muscular_stomach_bin</th>\n",
       "      <td id=\"T_52e78_row6_col0\" class=\"data row6 col0\" >-0.190323</td>\n",
       "      <td id=\"T_52e78_row6_col1\" class=\"data row6 col1\" >-0.101427</td>\n",
       "    </tr>\n",
       "    <tr>\n",
       "      <th id=\"T_52e78_level0_row7\" class=\"row_heading level0 row7\" >heart</th>\n",
       "      <td id=\"T_52e78_row7_col0\" class=\"data row7 col0\" >0.153040</td>\n",
       "      <td id=\"T_52e78_row7_col1\" class=\"data row7 col1\" >0.205162</td>\n",
       "    </tr>\n",
       "    <tr>\n",
       "      <th id=\"T_52e78_level0_row8\" class=\"row_heading level0 row8\" >liver</th>\n",
       "      <td id=\"T_52e78_row8_col0\" class=\"data row8 col0\" >0.145050</td>\n",
       "      <td id=\"T_52e78_row8_col1\" class=\"data row8 col1\" >0.123440</td>\n",
       "    </tr>\n",
       "    <tr>\n",
       "      <th id=\"T_52e78_level0_row9\" class=\"row_heading level0 row9\" >breast_weight</th>\n",
       "      <td id=\"T_52e78_row9_col0\" class=\"data row9 col0\" >0.134438</td>\n",
       "      <td id=\"T_52e78_row9_col1\" class=\"data row9 col1\" >0.059441</td>\n",
       "    </tr>\n",
       "    <tr>\n",
       "      <th id=\"T_52e78_level0_row10\" class=\"row_heading level0 row10\" >empty_muscular_stomach_float</th>\n",
       "      <td id=\"T_52e78_row10_col0\" class=\"data row10 col0\" >0.113200</td>\n",
       "      <td id=\"T_52e78_row10_col1\" class=\"data row10 col1\" >0.170888</td>\n",
       "    </tr>\n",
       "    <tr>\n",
       "      <th id=\"T_52e78_level0_row11\" class=\"row_heading level0 row11\" >spleen</th>\n",
       "      <td id=\"T_52e78_row11_col0\" class=\"data row11 col0\" >0.090275</td>\n",
       "      <td id=\"T_52e78_row11_col1\" class=\"data row11 col1\" >0.068333</td>\n",
       "    </tr>\n",
       "    <tr>\n",
       "      <th id=\"T_52e78_level0_row12\" class=\"row_heading level0 row12\" >intestine</th>\n",
       "      <td id=\"T_52e78_row12_col0\" class=\"data row12 col0\" >0.073427</td>\n",
       "      <td id=\"T_52e78_row12_col1\" class=\"data row12 col1\" >-0.007255</td>\n",
       "    </tr>\n",
       "    <tr>\n",
       "      <th id=\"T_52e78_level0_row13\" class=\"row_heading level0 row13\" >glandular_stomach</th>\n",
       "      <td id=\"T_52e78_row13_col0\" class=\"data row13 col0\" >-0.032895</td>\n",
       "      <td id=\"T_52e78_row13_col1\" class=\"data row13 col1\" >-0.021580</td>\n",
       "    </tr>\n",
       "  </tbody>\n",
       "</table>\n"
      ],
      "text/plain": [
       "<pandas.io.formats.style.Styler at 0x203e10e83b0>"
      ]
     },
     "metadata": {},
     "output_type": "display_data"
    }
   ],
   "source": [
    "#code adapted from previous work\n",
    "\n",
    "# correlations with crude_protein\n",
    "target = 'crude_protein'\n",
    "numeric_cols = df.select_dtypes(include=['number']).columns\n",
    "features = [col for col in numeric_cols if col != target] \n",
    "\n",
    "# both correlation types\n",
    "corr_data = df[features + [target]]  # Note: target needs to be in a list\n",
    "spearman_corr = corr_data.corr(method='spearman')[target]\n",
    "pearson_corr = corr_data.corr(method='pearson')[target]\n",
    "\n",
    "# Combine into a DataFrame for easier analysis\n",
    "corr_df = pd.DataFrame({\n",
    "    'feature': features,\n",
    "    'spearman': spearman_corr[features],\n",
    "    'pearson': pearson_corr[features]\n",
    "}).sort_values(by='spearman', key=abs, ascending=False)\n",
    "\n",
    "# Set threshold (adjust as needed)\n",
    "threshold = 0.15\n",
    "significant_features = corr_df[(abs(corr_df['spearman']) >= threshold) | \n",
    "                             (abs(corr_df['pearson']) >= threshold)]\n",
    "\n",
    "# Plot settings\n",
    "num_features = len(significant_features)\n",
    "num_cols = 3\n",
    "num_rows = (num_features + num_cols - 1) // num_cols\n",
    "fig, axes = plt.subplots(num_rows, num_cols, figsize=(20, 5*num_rows))\n",
    "if num_features > 0:  # Only proceed if there are significant features\n",
    "    if num_rows == 1:\n",
    "        axes = axes.reshape(1, -1)  # Ensure axes is always 2D\n",
    "\n",
    "    # Plot each significant feature against target\n",
    "    for i, (_, row) in enumerate(significant_features.iterrows()):\n",
    "        ax = axes[i//num_cols, i%num_cols]\n",
    "        feature = row['feature']\n",
    "        \n",
    "        # Scatterplot\n",
    "        sns.scatterplot(x=df[feature], y=df[target], ax=ax, color='mediumseagreen', alpha=0.6)\n",
    "        \n",
    "        # Regression line if possible\n",
    "        if df[feature].nunique() > 1:\n",
    "            try:\n",
    "                sns.regplot(x=df[feature], y=df[target], ax=ax, \n",
    "                            scatter=False, color='red', line_kws={'linewidth':2})\n",
    "            except:\n",
    "                pass\n",
    "        \n",
    "        # Add correlation info to title\n",
    "        ax.set_title(f\"{feature}\\nSpearman: {row['spearman']:.2f} | Pearson: {row['pearson']:.2f}\")\n",
    "        ax.set_xlabel('')\n",
    "        ax.set_ylabel('crude_protein')\n",
    "\n",
    "    # Hide empty subplots\n",
    "    for j in range(i+1, num_rows*num_cols):\n",
    "        fig.delaxes(axes.flatten()[j])\n",
    "\n",
    "    plt.tight_layout()\n",
    "    plt.show()\n",
    "\n",
    "    # Show correlation table\n",
    "    corr_df = corr_df.set_index('feature')\n",
    "    print(\"Correlations with crude_protein:\")\n",
    "    display(corr_df.style.background_gradient(cmap='BuGn', vmin=-1, vmax=1))\n",
    "else:\n",
    "    print(f\"No features found with correlation >= {threshold}\")"
   ]
  },
  {
   "cell_type": "code",
   "execution_count": 141,
   "id": "abd66ccc",
   "metadata": {},
   "outputs": [
    {
     "data": {
      "image/png": "[encoded data removed]",
      "text/plain": [
       "<Figure size 1200x800 with 2 Axes>"
      ]
     },
     "metadata": {},
     "output_type": "display_data"
    }
   ],
   "source": [
    "corr = df[features].corr().round(2)\n",
    "fig = plt.figure(figsize=(12, 8))\n",
    "\n",
    "# annotation matrix - values above |0.3| will appear in the plot\n",
    "mask_annot = np.absolute(corr.values) >= 0.3\n",
    "annot = np.where(mask_annot, corr.values, np.full(corr.shape, ''))\n",
    "sns.heatmap(data = corr, annot = annot, cmap = 'BuGn', fmt = 's', vmin = -1, vmax = 1, center = 0, square = True, linewidths = 0, annot_kws = {'size': 12})\n",
    "\n",
    "fig.subplots_adjust(top = 0.95)\n",
    "fig.suptitle('Final Correlation matrix');"
   ]
  },
  {
   "cell_type": "code",
   "execution_count": 142,
   "id": "a799e53b",
   "metadata": {},
   "outputs": [
    {
     "ename": "SyntaxError",
     "evalue": "invalid syntax (3105232982.py, line 1)",
     "output_type": "error",
     "traceback": [
      "\u001b[1;36m  Cell \u001b[1;32mIn[142], line 1\u001b[1;36m\u001b[0m\n\u001b[1;33m    temos muitas corr, é para dar drop ou temos de usar todas\u001b[0m\n\u001b[1;37m          ^\u001b[0m\n\u001b[1;31mSyntaxError\u001b[0m\u001b[1;31m:\u001b[0m invalid syntax\n"
     ]
    }
   ],
   "source": [
    "temos muitas corr, é para dar drop ou temos de usar todas "
   ]
  },
  {
   "cell_type": "markdown",
   "id": "2b9dd0d4",
   "metadata": {},
   "source": [
    "We are going to keep `empty_muscular_stomach_bin` since it has a better correlation witht the target."
   ]
  },
  {
   "cell_type": "code",
   "execution_count": 143,
   "id": "7e57862a",
   "metadata": {},
   "outputs": [],
   "source": [
    "df['empty_muscular_stomach'] = df['empty_muscular_stomach_bin'] "
   ]
  },
  {
   "cell_type": "code",
   "execution_count": 145,
   "id": "ca4bc978",
   "metadata": {},
   "outputs": [],
   "source": [
    "df = df.drop(columns=['empty_muscular_stomach_float', 'empty_muscular_stomach_bin'])"
   ]
  },
  {
   "cell_type": "markdown",
   "id": "d8214f95",
   "metadata": {},
   "source": [
    "### <a id=\"method-selection\"></a> \n",
    "<div style=\"background-color: hsla(120, 71.40%, 43.90%, 0.30); padding: 10px; border-radius: 8px; text-align: center; margin-top: 20px; margin-bottom: 20px;\">\n",
    "    <h3 style=\"color: white; margin: 0;\">Choosing the method and parameters for each model</h3>\n",
    "</div>\n",
    "\n",
    "[Back to Index](#idx)"
   ]
  },
  {
   "cell_type": "markdown",
   "id": "da7aae71",
   "metadata": {},
   "source": [
    "- [1. Nested cross-validation vs. Monte Carlo cross-validation](#method) \n",
    "- [2. Genetic Programming (GP)](#gp) - Delivery 1 (Done)\n",
    "- [3. Geometric Semantic Geometric Programming (GSGP)](#gsgp) - Delivery 2 (Done)\n",
    "- [4. Semantic Learning algorithm with Inflate and deflate Mutations (SLIM)](#slim)\n",
    "- [5. Neural Network (NN)](#nn)\n",
    "- [6. NeuroEvolution of Augmenting Topologies (NEAT)](#neat)"
   ]
  },
  {
   "cell_type": "markdown",
   "id": "6b4f622f",
   "metadata": {},
   "source": [
    "#### <a id=\"method\"></a> \n",
    "<div style=\"background-color: hsla(120, 71.40%, 43.90%, 0.30); padding: 10px; border-radius: 8px; text-align: left; margin-top: 20px; margin-bottom: 20px;\">\n",
    "    <h4 style=\"color: white; margin: 0;\">1. Nested cross-validation vs. Monte Carlo cross-validatio</h4>\n",
    "</div>\n",
    "\n",
    "[Back to Index](#idx)"
   ]
  },
  {
   "cell_type": "markdown",
   "id": "e3c7d5c0",
   "metadata": {},
   "source": [
    "#### Dataset Partition Strategy Justification\n",
    "\n",
    "In this project, we opted for **nested cross-validation (nested CV)** as our dataset partitioning strategy for both model selection (hyperparameter tuning) and performance evaluation.\n",
    "\n",
    "This decision was based on the following considerations:\n",
    "\n",
    "1. **Final Comparative Evaluation Across Algorithms**  \n",
    "   At the end of the project, _\"the same partitions should be used across all the algorithms to be studied\"_, we will compare Genetic Programming (GP) and Geometric Semantic Genetic Programming (GSGP) and other machine learning algorithms.  \n",
    "   To ensure a **fair and unbiased comparison**, the **same dataset partitions** must be used across all algorithms (are all evaluated under the same conditions basically) - Nested CV provides a systematic and reproducible way to maintain this consistency.\n",
    "\n",
    "2. **Separation of Concerns: Tuning vs. Evaluation**  \n",
    "   Nested CV explicitly separates the hyperparameter optimization (inner loop) from the model evaluation (outer loop).  \n",
    "   This avoids **information leakage** and reduces the risk of **overfitting during model selection**, which is particularly relevant for algorithms like GP that are prone to overfitting and premature convergence.\n",
    "   \"the advantage of doing several iterations in cross-validation is that it allows us to obtain an error estimate that is not dependent on a single data splitting and a particular choice of the training data\"_ (Vanneschi & Silva, Sec. 5.3, p.130). Nested CV extends this robustness by adding an inner loop for model selection, which further reduces the risk of biased or optimistic performance estimation.\n",
    "\n",
    "3. **Avoiding Pitfalls of Monte Carlo CV in This Context**\n",
    "   Although Monte Carlo cross-validation (or repeated random subsampling) can be viewd as an alternative (Vanneschi & Silva, p.130-131), it comes with a notable limitation: _\"some observations may never be selected for the test set, while others will be selected more than once\"_. In this project, where a **comparative and reproducible evaluation across multiple algorithms is required**, this irregularity makes Monte Carlo CV less appropriate than nested CV.  Using a **K-Fold outer loop** (e.g., `K=10`) ensures that every instance in the dataset is used for testing exactly once, and for training K-1 times, and combined with an **inner K-Fold** (e.g., `K=5`) for tuning, this strategy enables robust **statistical comparisons** (e.g., Wilcoxon tests, Friedman + Nemenyi post-hoc), which are essential to draw valid conclusions about performance differences between models.\n",
    "\n",
    "   The  different CV strategies may be appropriate for different phases: _\"it may make sense to use 5-fold or 10-fold cross-validation for choosing the method and parameters (...) and then use Monte Carlo (...) for a thorough estimation of the error\"_ (p.131).  \n",
    "   However, since our pipeline includes both tuning and evaluation as part of the **same CV process**, and comparison across methods is the final goal, we apply nested CV consistently for both.\n",
    "\n",
    "4. Despite the relatively small size of our dataset (96 instances), we argue that nested cross-validation remains a justified choice. As pointed out by Vanneschi & Silva (Section 5.3), the reliability of performance estimation is a crucial concern when data is scarce. Nested CV is particularly effective in avoiding overfitting during hyperparameter tuning, which becomes even more critical under these circumstances.\n",
    "\n",
    "The training and test sets generated in each fold still preserve enough data to fit and evaluate meaningful models. Moreover, since the dataset is small, the computational overhead introduced by nested CV is negligible.\n",
    "\n",
    "In summary, while some may consider using Monte Carlo cross-validation to reduce computational cost or avoid small folds, the benefits of using nested cross-validation — particularly in terms of fair model selection and unbiased generalization error estimation — outweigh the drawbacks, especially when working with limited data.\n"
   ]
  },
  {
   "cell_type": "code",
   "execution_count": 72,
   "id": "5f4ef174",
   "metadata": {},
   "outputs": [],
   "source": [
    "target = 'crude_protein'\n",
    "X = df.drop(columns=[target])\n",
    "y = df[target]"
   ]
  },
  {
   "cell_type": "code",
   "execution_count": 155,
   "id": "f0e81992",
   "metadata": {},
   "outputs": [],
   "source": [
    "def nested_cv_generator(X, y, k_outer=5, k_inner=3, random_state=None, scaler_cls=RobustScaler):\n",
    "    \"\"\"\n",
    "    Gera folds para nested cross-validation com scaling aplicado dentro dos folds (sem leakage).\n",
    "    Yields: dict com os conjuntos: X_train, X_val, X_test, y_train, y_val, y_test, e os índices usados\n",
    "    \"\"\"\n",
    "    outer_cv = KFold(n_splits=k_outer, shuffle=True, random_state=random_state)\n",
    "\n",
    "    for outer_train_idx, outer_test_idx in outer_cv.split(X): #does not reuse the outer test set during training or validation\n",
    "        X_outer_train, X_test = X[outer_train_idx], X[outer_test_idx]\n",
    "        y_outer_train, y_test = y[outer_train_idx], y[outer_test_idx]\n",
    "\n",
    "        inner_cv = KFold(n_splits=k_inner, shuffle=True, random_state=random_state)\n",
    "\n",
    "        for inner_train_idx, inner_val_idx in inner_cv.split(X_outer_train):\n",
    "            X_train, X_val = X_outer_train[inner_train_idx], X_outer_train[inner_val_idx]\n",
    "            y_train, y_val = y_outer_train[inner_train_idx], y_outer_train[inner_val_idx]\n",
    "\n",
    "            # Scaling (fit on train only!)\n",
    "            scaler = scaler_cls()\n",
    "            X_train_scaled = scaler.fit_transform(X_train)\n",
    "            X_val_scaled = scaler.transform(X_val)\n",
    "            X_test_scaled = scaler.transform(X_test)\n",
    "\n",
    "            yield {\n",
    "                'X_train': X_train_scaled,\n",
    "                'X_val': X_val_scaled,\n",
    "                'X_test': X_test_scaled,\n",
    "                'y_train': y_train,\n",
    "                'y_val': y_val,\n",
    "                'y_test': y_test,\n",
    "                'indices': {\n",
    "                    'outer_train': outer_train_idx,\n",
    "                    'outer_test': outer_test_idx,\n",
    "                    'inner_train': inner_train_idx,\n",
    "                    'inner_val': inner_val_idx,\n",
    "                }\n",
    "            }"
   ]
  },
  {
   "cell_type": "markdown",
   "id": "dfb3099b",
   "metadata": {},
   "source": [
    "#### <a id=\"gp\"></a> \n",
    "<div style=\"background-color: hsla(120, 71.40%, 43.90%, 0.30); padding: 10px; border-radius: 8px; text-align: left; margin-top: 20px; margin-bottom: 20px;\">\n",
    "    <h4 style=\"color: white; margin: 0;\">2. Genetic Programming (GP)</h4>\n",
    "</div>\n",
    "\n",
    "[Back to Index](#idx)"
   ]
  },
  {
   "cell_type": "code",
   "execution_count": null,
   "id": "e6e03fda",
   "metadata": {},
   "outputs": [],
   "source": [
    "import torch\n",
    "import itertools"
   ]
  },
  {
   "cell_type": "code",
   "execution_count": 154,
   "id": "4f815ced",
   "metadata": {},
   "outputs": [],
   "source": [
    "#os.makedirs(\"logs\", exist_ok=True)"
   ]
  },
  {
   "cell_type": "code",
   "execution_count": 156,
   "id": "8c0da07b",
   "metadata": {},
   "outputs": [],
   "source": [
    "def cross_val_gp_slim(X, y, cv=10, random_state=42, run_name=\"default\", **gp_config):\n",
    "    X = X.values\n",
    "    y = y.values\n",
    "    scores = []  # Test scores across folds\n",
    "\n",
    "    log_dir = \"./logs\"\n",
    "    os.makedirs(log_dir, exist_ok=True)  # Create log folder if missing\n",
    "\n",
    "    for fold_idx, fold_data in enumerate(nested_cv_generator(X, y, k_outer=cv, k_inner=3, random_state=random_state)):\n",
    "        X_train = fold_data['X_train']\n",
    "        X_val = fold_data['X_val']\n",
    "        X_test = fold_data['X_test']\n",
    "        y_train = fold_data['y_train']\n",
    "        y_val = fold_data['y_val']\n",
    "        y_test = fold_data['y_test']\n",
    "\n",
    "        print(f\"[Fold {fold_idx+1}] Train: {len(X_train)}, Val: {len(X_val)}, Test: {len(X_test)}\")\n",
    "\n",
    "        # Convert to tensors\n",
    "        X_train_tensor = torch.tensor(X_train, dtype=torch.float32)\n",
    "        y_train_tensor = torch.tensor(y_train, dtype=torch.float32)\n",
    "        X_val_tensor = torch.tensor(X_val, dtype=torch.float32)\n",
    "        y_val_tensor = torch.tensor(y_val, dtype=torch.float32)\n",
    "        X_test_tensor = torch.tensor(X_test, dtype=torch.float32)\n",
    "        y_test_tensor = torch.tensor(y_test, dtype=torch.float32)\n",
    "\n",
    "        # Prepare GP instance\n",
    "        model = gp(\n",
    "            # --- Problem instance ---\n",
    "            X_train=X_train_tensor, y_train=y_train_tensor,\n",
    "            X_test=X_val_tensor, y_test=y_val_tensor,\n",
    "            fitness_function='rmse',\n",
    "            minimization=True,\n",
    "\n",
    "            # --- Search space ---\n",
    "            initializer=gp_config['initializer'],\n",
    "            tree_constants=gp_config['sspace']['constant_set'],\n",
    "            tree_functions=gp_config['sspace']['function_set'],\n",
    "            prob_const=gp_config['sspace']['p_constants'],\n",
    "            init_depth=gp_config['sspace']['max_init_depth'],\n",
    "            max_depth=gp_config['sspace']['max_depth'],\n",
    "\n",
    "            # --- GP parameters ---\n",
    "            pop_size=gp_config['pop_size'],\n",
    "            p_xo=gp_config['xo_prob'],\n",
    "            elitism=gp_config['has_elitism'],\n",
    "            n_elites=1,\n",
    "            tournament_size=int(1 / gp_config['selection_pressure']),\n",
    "\n",
    "            # --- Solve settings ---\n",
    "            n_iter=gp_config['generations'],\n",
    "            test_elite=True,\n",
    "            log_level=2,\n",
    "            log_path=f\"{log_dir}/gp_{run_name}_fold{fold_idx+1}.csv\",\n",
    "            verbose=1,\n",
    "            n_jobs=1,\n",
    "            seed=gp_config['seed']\n",
    "        )\n",
    "\n",
    "        # Final model evaluation (on outer test set)\n",
    "        with torch.no_grad():\n",
    "            y_pred = model.predict(X_test_tensor)\n",
    "            test_rmse = torch.sqrt(torch.mean((y_pred - y_test_tensor) ** 2)).item()\n",
    "\n",
    "        print(f\"[Fold {fold_idx+1}] Test RMSE: {test_rmse:.4f}\")\n",
    "        scores.append(test_rmse)\n",
    "\n",
    "    return np.array(scores)"
   ]
  },
  {
   "cell_type": "markdown",
   "id": "a1ee57c8",
   "metadata": {},
   "source": [
    "- Dataset size: 96 samples\n",
    "- Nested CV: test set = ~19 samples (outer fold), train+val = ~77 samples\n",
    "- GP can overfit easily on small data if trees get too big or the population too complex\n",
    "\n",
    "| **Parameter**        | **Test Values**                                | **Why ??**                                                                                             |\n",
    "| -------------------- | ----------------------------------------------------- | ----------------------------------------------------------------------------------------------------------------------------------------------- |\n",
    "| `init_depth`         | `[2, 3]`                                              | Smaller initial trees (shallow depth) reduce the risk of overfitting early on. With 96 entries, you want simplicity and better generalization.  |\n",
    "| `max_depth`          | `[6, 10]`                                             | Limits the model's complexity. Deep trees overfit easily on small datasets. Capping depth avoids bloated or overly specific programs.           |\n",
    "| `tree_constants`     | `[random.uniform(-1, 1) for _ in range(9)] + [-1]`    | Constants allow models to fine-tune predictions. Using a limited, balanced range prevents excessive reliance on constants (avoids \"bloat\").     |\n",
    "| `p_constants`        | `[0.1, 0.2]`                                          | High constant probability makes the tree more about constants than structure. This is dangerous for small data — prefer 10–20% range.           |\n",
    "| `tree_functions`     | `['add', 'subtract', 'multiply', 'protected_divide']` | Basic arithmetic gives expressive power. `protected_divide` avoids runtime errors. Don’t add too many functions — it increases search space.    |\n",
    "| `pop_size`           | `[20, 30, 50]`                                        | Small datasets don’t need huge populations. Lower sizes = faster runs and still enough diversity. 20–50 is a good starting point.               |\n",
    "| `p_xo`               | `[0.7, 0.9]`                                          | Crossover (recombination) promotes diversity and generalization. On small data, too much crossover (close to 1.0) might disrupt good solutions. |\n",
    "| `selection_pressure` | `[0.33, 0.5] → tournament_size = 3 or 2`              | Lower pressure encourages exploring a diverse set of solutions. This helps prevent premature convergence — which is a risk with small datasets. |\n",
    "| `initializer`        | `\"grow\", \"rhh\"`                                       | `grow` creates variable-sized trees. `rhh` mixes it with `full`, adding diversity. Avoid `full` alone — it tends to create deep, overfit trees. |\n",
    "| `elitism`            | `[True]`                                              | Keep the best solution in each generation. With few samples, losing the best-performing individual can seriously hurt performance.              |\n",
    "| `n_iter`             | `30`                                                  | Reasonable trade-off between computation and convergence. Too many iterations with small data can lead to overfitting.                          |\n",
    "\n"
   ]
  },
  {
   "cell_type": "markdown",
   "id": "53cdc0dd",
   "metadata": {},
   "source": [
    "Running the full CV 3 times with different seeds to mitigate randomness from GP (e.g., in init, selection, mutation), and get statistically more reliable average performance (like doing 30 folds total) -> common trick in evolutionary algorithms due to their stochastic nature."
   ]
  },
  {
   "cell_type": "code",
   "execution_count": null,
   "id": "86725a86",
   "metadata": {},
   "outputs": [],
   "source": [
    "# Results collector\n",
    "results_gp_nested_small = []\n",
    "\n",
    "# Run 1\n",
    "run_1 = cross_val_gp_slim(\n",
    "    X=train,\n",
    "    y=target,\n",
    "    cv=10,\n",
    "    run_name=\"nested_gp_run1\",\n",
    "    random_state=42,\n",
    "    **gp_config\n",
    ")\n",
    "results_gp_nested_small.append(run_1)\n",
    "print(\"Run 1 mean:\", np.mean(run_1))\n",
    "del run_1; gc.collect()\n",
    "\n",
    "# Run 2\n",
    "gp_config['seed'] = 25\n",
    "run_2 = cross_val_gp_slim(\n",
    "    X=train,\n",
    "    y=target,\n",
    "    cv=10,\n",
    "    run_name=\"nested_gp_run2\",\n",
    "    random_state=25,\n",
    "    **gp_config\n",
    ")\n",
    "results_gp_nested_small.append(run_2)\n",
    "print(\"Run 2 mean:\", np.mean(run_2))\n",
    "del run_2; gc.collect()\n",
    "\n",
    "# Run 3\n",
    "gp_config['seed'] = 63\n",
    "run_3 = cross_val_gp_slim(\n",
    "    X=train,\n",
    "    y=target,\n",
    "    cv=10,\n",
    "    run_name=\"nested_gp_run3\",\n",
    "    random_state=63,\n",
    "    **gp_config\n",
    ")\n",
    "results_gp_nested_small.append(run_3)\n",
    "print(\"Run 3 mean:\", np.mean(run_3))\n",
    "del run_3; gc.collect()\n",
    "\n",
    "# Flatten all scores\n",
    "results_gp_nested_small = list(itertools.chain.from_iterable(results_gp_nested_small))\n",
    "print(\"All scores:\", results_gp_nested_small)\n",
    "print(\"Mean of all:\", np.mean(results_gp_nested_small))\n"
   ]
  },
  {
   "cell_type": "markdown",
   "id": "829a3370",
   "metadata": {},
   "source": [
    "#### <a id=\"gsgp\"></a> \n",
    "<div style=\"background-color: hsla(120, 71.40%, 43.90%, 0.30); padding: 10px; border-radius: 8px; text-align: left; margin-top: 20px; margin-bottom: 20px;\">\n",
    "    <h4 style=\"color: white; margin: 0;\">3. Geometric Semantic Geometric Programming (GSGP)</h4>\n",
    "</div>\n",
    "\n",
    "[Back to Index](#idx)"
   ]
  },
  {
   "cell_type": "markdown",
   "id": "b7d2fac0",
   "metadata": {},
   "source": [
    "We are going to keep `empty_muscular_stomach_bin` since it has a better correlation witht the target."
   ]
  },
  {
   "cell_type": "code",
   "execution_count": null,
   "id": "4596fd6c",
   "metadata": {},
   "outputs": [],
   "source": []
  },
  {
   "cell_type": "markdown",
   "id": "d499e9e5",
   "metadata": {},
   "source": [
    "## <a id=\"error-estimation\"></a> \n",
    "<div style=\"background-color: hsla(120, 71.40%, 43.90%, 0.30); padding: 10px; border-radius: 8px; text-align: center; margin-top: 20px; margin-bottom: 20px;\">\n",
    "    <h3 style=\"color: white; margin: 0;\">Estimating the predictive error</h3>\n",
    "</div>\n",
    "\n",
    "[Back to Index](#idx)"
   ]
  },
  {
   "cell_type": "markdown",
   "id": "95933b18",
   "metadata": {},
   "source": [
    "usar isto para justificar o uso de rmse:\n",
    "\n",
    "\n",
    "MAE is not very sensitive to outliers in comparison to MSE since it doesn’t\n",
    "punish huge errors.\n",
    "\n",
    "\n",
    "• MSE is more accurate than MAE as it highlights large errors over small ones.\n",
    "\n",
    "• MSE is differentiable which helps find the minimum and maximum values\n",
    "using mathematical methods more effectively.\n",
    "But…\n",
    "\n",
    "• MSE “squares” all the values, and so errors are extremized (each error point\n",
    "has a large impact).\n",
    "\n",
    "When to use MAE:\n",
    "• when outliers in the data are comparatively\n",
    "low, as it is not very sensitive to the outlier\n",
    "\n",
    "It is used when the performance is measured\n",
    "on continuous variable data as it gives a linear\n",
    "value, which averages the weighted individual\n",
    "differences equally.\n",
    "When to use MSE:\n",
    "• when the dataset contains outliers, or\n",
    "unexpected values (too high or too low\n",
    "values).\n",
    "\n",
    "\n",
    "When to use RMSE:\n",
    "• RMSE assigns a higher weight to larger\n",
    "errors as errors are squared before they are\n",
    "averaged.\n",
    "This indicates that RMSE is much more useful\n",
    "when large errors are present and they\n",
    "drastically affect the model’s performance.\n",
    "\n",
    "\n",
    "\n"
   ]
  },
  {
   "cell_type": "markdown",
   "id": "5b7375ef",
   "metadata": {},
   "source": []
  },
  {
   "cell_type": "markdown",
   "id": "24b86538",
   "metadata": {},
   "source": [
    "<a id=\"final-testing\"></a> \n",
    "<div style=\"background-color: hsla(120, 71.40%, 43.90%, 0.30); padding: 10px; border-radius: 8px; text-align: center; margin-top: 20px; margin-bottom: 20px;\">\n",
    "    <h3 style=\"color: white; margin: 0;\">Testing the final model</h3>\n",
    "</div>\n",
    "\n",
    "[Back to Index](#idx)"
   ]
  },
  {
   "cell_type": "code",
   "execution_count": null,
   "id": "c1bf334e",
   "metadata": {},
   "outputs": [],
   "source": []
  },
  {
   "cell_type": "code",
   "execution_count": null,
   "id": "c6ba6852",
   "metadata": {},
   "outputs": [],
   "source": []
  },
  {
   "cell_type": "code",
   "execution_count": null,
   "id": "13bf0e6c",
   "metadata": {},
   "outputs": [],
   "source": []
  },
  {
   "cell_type": "code",
   "execution_count": null,
   "id": "e2e56d19",
   "metadata": {},
   "outputs": [],
   "source": []
  },
  {
   "cell_type": "markdown",
   "id": "04ea1e40",
   "metadata": {},
   "source": []
  }
 ],
 "metadata": {
  "kernelspec": {
   "display_name": "base",
   "language": "python",
   "name": "python3"
  },
  "language_info": {
   "codemirror_mode": {
    "name": "ipython",
    "version": 3
   },
   "file_extension": ".py",
   "mimetype": "text/x-python",
   "name": "python",
   "nbconvert_exporter": "python",
   "pygments_lexer": "ipython3",
   "version": "3.12.3"
  }
 },
 "nbformat": 4,
 "nbformat_minor": 5
}
