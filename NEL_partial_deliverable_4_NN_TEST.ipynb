{
 "cells": [
  {
   "cell_type": "markdown",
   "id": "843c7148",
   "metadata": {},
   "source": [
    "<div style=\"display: flex; flex-direction: column; align-items: center; max-width: 100%; padding: 20px 0; margin: auto;\">\n",
    "    <img src=\"https://media.licdn.com/dms/image/v2/D4D3DAQFGx0XnuUvugA/image-scale_191_1128/image-scale_191_1128/0/1662458005755/nova_ims_information_management_school_cover?e=2147483647&v=beta&t=J3Q4LlZi36_4UAFhj2019QdtfXLn0kQwaX25jgaBhOQ\" \n",
    "         alt=\"Logo\" \n",
    "         style=\"width: 100%; max-width: 800px; height: auto; max-height: 150px; object-fit: cover; border: 3px solid hsla(120, 71.40%, 43.90%, 0.30); border-radius: 5px;\">\n",
    "    <div style=\"text-align: center; padding: 10px 0; max-width: 800px;\">\n",
    "        <h5 style=\"margin: 10px 0;\">This analysis is conducted as part of the <b><i>Neural and Evolutionary Learning</i></b> course, a component of the Master's program in Data Science and Advanced Analytics at the <b><u>Nova Information Management School</u></b>.</h5>\n",
    "    </div>\n",
    "    <h1 style=\"color: hsla(120, 71.40%, 43.90%, 0.30); margin: 10px 0;\"><b>Predict the Crude Protein Weight</b></h1>\n",
    "</div>"
   ]
  },
  {
   "cell_type": "markdown",
   "id": "487dd71d",
   "metadata": {},
   "source": [
    "<div style=\"text-align: center; margin: 20px 0;\">\n",
    "    <h3 style=\"margin-bottom: 15px;\"><u>Group 22</u></h3>\n",
    "    <table style=\"margin: 0 auto; border-collapse: collapse; width: 80%; max-width: 500px;\">\n",
    "        <thead>\n",
    "            <tr>\n",
    "                <th style=\"border-bottom: 1px solid #ddd; padding: 8px;\">Student Name</th>\n",
    "                <th style=\"border-bottom: 1px solid #ddd; padding: 8px;\">Student ID</th>\n",
    "            </tr>\n",
    "        </thead>\n",
    "        <tbody>\n",
    "            <tr>\n",
    "                <td style=\"border-bottom: 1px solid #ddd; padding: 8px;\">Catarina Nunes</td>\n",
    "                <td style=\"border-bottom: 1px solid #ddd; padding: 8px;\">20230083</td>\n",
    "            </tr>\n",
    "            <tr>\n",
    "                <td style=\"border-bottom: 1px solid #ddd; padding: 8px;\">Sofia Jacinto</td>\n",
    "                <td style=\"border-bottom: 1px solid #ddd; padding: 8px;\">20240598</td>\n",
    "            </tr>\n",
    "            <tr>\n",
    "                <td style=\"padding: 8px;\">José Cavaco</td>\n",
    "                <td style=\"padding: 8px;\"> 20240513</td>\n",
    "            </tr>\n",
    "        </tbody>\n",
    "    </table>\n",
    "</div>"
   ]
  },
  {
   "cell_type": "markdown",
   "id": "a6b8d4b7",
   "metadata": {},
   "source": [
    "<a id=\"idx\"></a>\n",
    "<div style=\"background-color: hsla(120, 71.40%, 43.90%, 0.30); padding: 10px; border-radius: 8px; text-align: center; margin-top: 20px; margin-bottom: 20px;\">\n",
    "    <h1 style=\"color: white; margin: 0;\">Index</h1>\n",
    "</div>\n",
    "\n",
    "1. [Preprocessing the data](#preprocessing)\n",
    "2. [Choosing the method and parameters](#method-selection)\n",
    "3. [Estimating the predictive error](#error-estimation)\n",
    "4. [Inducing the final model](#model-induction)\n",
    "5. [Testing the final model](#final-testing)"
   ]
  },
  {
   "cell_type": "markdown",
   "id": "1051ba14",
   "metadata": {},
   "source": [
    "#### Metadata"
   ]
  },
  {
   "cell_type": "markdown",
   "id": "b2dd9eb1",
   "metadata": {},
   "source": [
    "|Feature |Definition|\n",
    "|----|-----|\n",
    "|wing_tag |Chicken unique ID|\n",
    "|weight |The chicken total weight|\n",
    "|hot_carcass_weight |The weight of the carcass immediately after slaughter|\n",
    "|carcass_weight_with_head_and_legs |The weight of the carcass including the head and legs|\n",
    "|cold_carcass_weight| The weight of the carcass after cooling|\n",
    "|breast_weight |The weight of the breast meat of the chicken|\n",
    "|thigh_weight |The weight of the thigh meat of the chicken|\n",
    "|spleen |The weight of the chicken’s spleen|\n",
    "|liver |The weight of the chicken’s liver|\n",
    "|heart |The weight of the chicken’s heart|\n",
    "|intestine |The weight of the chicken’s intestine|\n",
    "|empty_muscular_stomach| Indicates the presence or absence of the empty muscular stomach of the chicken|\n",
    "|glandular_stomach |The weight of the chicken’s glandular stomach|\n",
    "|crude_protein| The weight of crude protein in the carcass|\n",
    "|ether_extract |The weight of ether extract, which measures the total fat in the carcass|"
   ]
  },
  {
   "cell_type": "markdown",
   "id": "9c90016a",
   "metadata": {},
   "source": [
    "#### Imports & Settings"
   ]
  },
  {
   "cell_type": "code",
   "execution_count": 1,
   "id": "6bdef737",
   "metadata": {},
   "outputs": [],
   "source": [
    "#pip install -r requirements.txt"
   ]
  },
  {
   "cell_type": "code",
   "execution_count": 2,
   "id": "04f00958",
   "metadata": {},
   "outputs": [],
   "source": [
    "# Imports\n",
    "import numpy as np\n",
    "import pandas as pd\n",
    "\n",
    "import os\n",
    "import pickle\n",
    "import datetime\n",
    "import torch\n",
    "import random\n",
    "import matplotlib.pyplot as plt\n",
    "import seaborn as sns\n",
    "import plotly.express as px\n",
    "import plotly.graph_objects as go\n",
    "from plotly.subplots import make_subplots\n",
    "\n",
    "from itertools import product\n",
    "import gc\n",
    "\n",
    "from sklearn.datasets import fetch_openml\n",
    "from sklearn.model_selection import GridSearchCV, cross_val_score, KFold\n",
    "from sklearn.preprocessing import RobustScaler\n",
    "from sklearn.pipeline import Pipeline\n",
    "from sklearn.metrics import mean_squared_error, make_scorer\n",
    "from scipy.stats import wilcoxon, friedmanchisquare\n",
    "\n",
    "from collections import Counter\n",
    "from sklearn.metrics import mean_squared_error\n",
    "import scikit_posthocs as sp\n",
    "\n",
    "import warnings\n",
    "warnings.filterwarnings('ignore')"
   ]
  },
  {
   "cell_type": "code",
   "execution_count": 3,
   "id": "162a1266",
   "metadata": {},
   "outputs": [
    {
     "name": "stderr",
     "output_type": "stream",
     "text": [
      "C:\\Users\\JAC\\AppData\\Local\\Temp\\ipykernel_9832\\2942353660.py:1: DeprecationWarning: The `gsgp_slim` package is deprecated. Please use the `slim_gsgp` package instead: https://pypi.org/project/slim_gsgp/\n",
      "  from slim.main_gp import gp\n"
     ]
    }
   ],
   "source": [
    "from slim.main_gp import gp\n",
    "from slim_gsgp.main_gsgp import gsgp\n",
    "from slim_gsgp.main_slim import slim\n",
    "from slim_gsgp.datasets.data_loader import *\n",
    "from slim.evaluators.fitness_functions import rmse\n",
    "from slim.utils.utils import train_test_split"
   ]
  },
  {
   "cell_type": "code",
   "execution_count": 4,
   "id": "efdc1f21",
   "metadata": {},
   "outputs": [],
   "source": [
    "seed = 42\n",
    "np.random.seed(seed)\n",
    "random.seed(seed)"
   ]
  },
  {
   "cell_type": "code",
   "execution_count": 5,
   "id": "3c8e08c1",
   "metadata": {},
   "outputs": [],
   "source": [
    "train_color = 'blue'\n",
    "test_color = 'orange'"
   ]
  },
  {
   "cell_type": "code",
   "execution_count": 6,
   "id": "249987e7",
   "metadata": {},
   "outputs": [],
   "source": [
    "#! ls"
   ]
  },
  {
   "cell_type": "markdown",
   "id": "bc9b75e4",
   "metadata": {},
   "source": [
    "#### Helpfull Functions"
   ]
  },
  {
   "cell_type": "code",
   "execution_count": 7,
   "id": "c5cbfb01",
   "metadata": {},
   "outputs": [],
   "source": [
    "def plot_boxplots(df_clients, columns):\n",
    "    \"\"\"\n",
    "    Plot multiple boxplots horizontally with scrolling enabled.\n",
    "    \"\"\"\n",
    "    n_cols = len(columns)\n",
    "    \n",
    "    fig = make_subplots(\n",
    "        rows=1,\n",
    "        cols=n_cols,\n",
    "        shared_yaxes=False,\n",
    "        horizontal_spacing=0.05,  # space between boxplots\n",
    "        subplot_titles=[col.replace(\"_\", \" \").title() for col in columns]\n",
    "    )\n",
    "\n",
    "    for idx, column in enumerate(columns, start=1):\n",
    "        fig.add_trace(\n",
    "            go.Box(\n",
    "                y=df_clients[column],\n",
    "                name=column.replace(\"_\", \" \").title(),\n",
    "                boxpoints='outliers',  # only show outliers\n",
    "                whiskerwidth=0.2,\n",
    "                marker_color='mediumseagreen',\n",
    "                line_color='seagreen',\n",
    "                fillcolor='rgba(60,179,113,0.3)',\n",
    "                marker_size=4\n",
    "            ),\n",
    "            row=1,\n",
    "            col=idx\n",
    "        )\n",
    "\n",
    "    fig.update_layout(\n",
    "        title='Outliers Analysis',\n",
    "        title_font_size=24,\n",
    "        plot_bgcolor='white',\n",
    "        height=600,\n",
    "        width=300 * n_cols,  # make width proportional to number of boxplots\n",
    "        showlegend=False\n",
    "    )\n",
    "\n",
    "    fig.update_yaxes(zeroline=False)\n",
    "\n",
    "    fig.show()"
   ]
  },
  {
   "cell_type": "markdown",
   "id": "9fc75bc9",
   "metadata": {},
   "source": [
    "### <a id=\"preprocessing\"></a> \n",
    "<div style=\"background-color: hsla(120, 71.40%, 43.90%, 0.30); padding: 10px; border-radius: 8px; text-align: center; margin-top: 20px; margin-bottom: 20px;\">\n",
    "    <h3 style=\"color: white; margin: 0;\">Preprocessing the data</h3>\n",
    "</div>\n",
    "\n",
    "[Back to Index](#idx)"
   ]
  },
  {
   "cell_type": "markdown",
   "id": "1fc3fc36",
   "metadata": {},
   "source": [
    "#### Data Loading"
   ]
  },
  {
   "cell_type": "code",
   "execution_count": 8,
   "id": "e956dc3a",
   "metadata": {},
   "outputs": [],
   "source": [
    "df = pd.read_excel(r\"data\\sustavianfeed.xlsx\")"
   ]
  },
  {
   "cell_type": "code",
   "execution_count": 9,
   "id": "8b2a4775",
   "metadata": {},
   "outputs": [
    {
     "data": {
      "application/vnd.microsoft.datawrangler.viewer.v0+json": {
       "columns": [
        {
         "name": "index",
         "rawType": "int64",
         "type": "integer"
        },
        {
         "name": "WING TAG",
         "rawType": "object",
         "type": "string"
        },
        {
         "name": "WEIGHT",
         "rawType": "float64",
         "type": "float"
        },
        {
         "name": "HOT CARCASS WEIGHT",
         "rawType": "float64",
         "type": "float"
        },
        {
         "name": "CARCASS WEIGHT WITH HEAD AND LEGS",
         "rawType": "float64",
         "type": "float"
        },
        {
         "name": "COLD CARCASS WEIGHT",
         "rawType": "float64",
         "type": "float"
        },
        {
         "name": "BREAST WEIGHT (2)",
         "rawType": "float64",
         "type": "float"
        },
        {
         "name": "THIGH WEIGHT (2)",
         "rawType": "float64",
         "type": "float"
        },
        {
         "name": "SPLEEN",
         "rawType": "float64",
         "type": "float"
        },
        {
         "name": "LIVER",
         "rawType": "float64",
         "type": "float"
        },
        {
         "name": "HEART",
         "rawType": "float64",
         "type": "float"
        },
        {
         "name": "INTESTINE",
         "rawType": "float64",
         "type": "float"
        },
        {
         "name": "EMPTY MUSCULAR STOMACH",
         "rawType": "object",
         "type": "unknown"
        },
        {
         "name": "GLANDULAR STOMACH",
         "rawType": "float64",
         "type": "float"
        },
        {
         "name": "CRUDE PROTEIN",
         "rawType": "float64",
         "type": "float"
        },
        {
         "name": "ETHER EXTRACT",
         "rawType": "float64",
         "type": "float"
        }
       ],
       "ref": "a02fca9b-37b0-47bb-86dd-d0ed228397d5",
       "rows": [
        [
         "0",
         "G403",
         "2223.3",
         "1429.6",
         "1725.6",
         "1394.0",
         "214.0",
         "489.4",
         "3.716",
         "38.636",
         "9.305",
         "123.171",
         "/",
         "13.17",
         "86.10546875",
         "0.38"
        ],
        [
         "1",
         "G439",
         "2201.9",
         "1450.2",
         "1769.8",
         "1405.4",
         "236.0",
         "538.7",
         "3.494",
         "34.725",
         "10.084",
         "71.8",
         "45.273",
         "9.781",
         "86.14347234814144",
         "1.66"
        ],
        [
         "2",
         "G454",
         "2159.9",
         "1398.4",
         "1724.9",
         "1461.7",
         "241.8",
         "512.1",
         "4.023",
         "31.932",
         "10.635",
         "61.38",
         "/",
         "6.217",
         "86.41689847009737",
         "0.98"
        ],
        [
         "3",
         "G465",
         "2198.7",
         "1473.9",
         "1800.4",
         "1425.1",
         "227.7",
         "549.9",
         "3.087",
         "32.326",
         "11.927",
         "64.879",
         "35.861",
         "8.358",
         "85.95993515516443",
         "1.1"
        ],
        [
         "4",
         "G428",
         "2003.2",
         "1291.2",
         "1581.6",
         "1260.1",
         "224.7",
         "473.2",
         "3.723",
         "30.105",
         "9.855",
         "68.562",
         "36.526",
         "7.572",
         "81.69363716424483",
         "6.34"
        ]
       ],
       "shape": {
        "columns": 15,
        "rows": 5
       }
      },
      "text/html": [
       "<div>\n",
       "<style scoped>\n",
       "    .dataframe tbody tr th:only-of-type {\n",
       "        vertical-align: middle;\n",
       "    }\n",
       "\n",
       "    .dataframe tbody tr th {\n",
       "        vertical-align: top;\n",
       "    }\n",
       "\n",
       "    .dataframe thead th {\n",
       "        text-align: right;\n",
       "    }\n",
       "</style>\n",
       "<table border=\"1\" class=\"dataframe\">\n",
       "  <thead>\n",
       "    <tr style=\"text-align: right;\">\n",
       "      <th></th>\n",
       "      <th>WING TAG</th>\n",
       "      <th>WEIGHT</th>\n",
       "      <th>HOT CARCASS WEIGHT</th>\n",
       "      <th>CARCASS WEIGHT WITH HEAD AND LEGS</th>\n",
       "      <th>COLD CARCASS WEIGHT</th>\n",
       "      <th>BREAST WEIGHT (2)</th>\n",
       "      <th>THIGH WEIGHT (2)</th>\n",
       "      <th>SPLEEN</th>\n",
       "      <th>LIVER</th>\n",
       "      <th>HEART</th>\n",
       "      <th>INTESTINE</th>\n",
       "      <th>EMPTY MUSCULAR STOMACH</th>\n",
       "      <th>GLANDULAR STOMACH</th>\n",
       "      <th>CRUDE PROTEIN</th>\n",
       "      <th>ETHER EXTRACT</th>\n",
       "    </tr>\n",
       "  </thead>\n",
       "  <tbody>\n",
       "    <tr>\n",
       "      <th>0</th>\n",
       "      <td>G403</td>\n",
       "      <td>2223.3</td>\n",
       "      <td>1429.6</td>\n",
       "      <td>1725.6</td>\n",
       "      <td>1394.0</td>\n",
       "      <td>214.0</td>\n",
       "      <td>489.4</td>\n",
       "      <td>3.716</td>\n",
       "      <td>38.636</td>\n",
       "      <td>9.305</td>\n",
       "      <td>123.171</td>\n",
       "      <td>/</td>\n",
       "      <td>13.170</td>\n",
       "      <td>86.105469</td>\n",
       "      <td>0.38</td>\n",
       "    </tr>\n",
       "    <tr>\n",
       "      <th>1</th>\n",
       "      <td>G439</td>\n",
       "      <td>2201.9</td>\n",
       "      <td>1450.2</td>\n",
       "      <td>1769.8</td>\n",
       "      <td>1405.4</td>\n",
       "      <td>236.0</td>\n",
       "      <td>538.7</td>\n",
       "      <td>3.494</td>\n",
       "      <td>34.725</td>\n",
       "      <td>10.084</td>\n",
       "      <td>71.800</td>\n",
       "      <td>45.273</td>\n",
       "      <td>9.781</td>\n",
       "      <td>86.143472</td>\n",
       "      <td>1.66</td>\n",
       "    </tr>\n",
       "    <tr>\n",
       "      <th>2</th>\n",
       "      <td>G454</td>\n",
       "      <td>2159.9</td>\n",
       "      <td>1398.4</td>\n",
       "      <td>1724.9</td>\n",
       "      <td>1461.7</td>\n",
       "      <td>241.8</td>\n",
       "      <td>512.1</td>\n",
       "      <td>4.023</td>\n",
       "      <td>31.932</td>\n",
       "      <td>10.635</td>\n",
       "      <td>61.380</td>\n",
       "      <td>/</td>\n",
       "      <td>6.217</td>\n",
       "      <td>86.416898</td>\n",
       "      <td>0.98</td>\n",
       "    </tr>\n",
       "    <tr>\n",
       "      <th>3</th>\n",
       "      <td>G465</td>\n",
       "      <td>2198.7</td>\n",
       "      <td>1473.9</td>\n",
       "      <td>1800.4</td>\n",
       "      <td>1425.1</td>\n",
       "      <td>227.7</td>\n",
       "      <td>549.9</td>\n",
       "      <td>3.087</td>\n",
       "      <td>32.326</td>\n",
       "      <td>11.927</td>\n",
       "      <td>64.879</td>\n",
       "      <td>35.861</td>\n",
       "      <td>8.358</td>\n",
       "      <td>85.959935</td>\n",
       "      <td>1.10</td>\n",
       "    </tr>\n",
       "    <tr>\n",
       "      <th>4</th>\n",
       "      <td>G428</td>\n",
       "      <td>2003.2</td>\n",
       "      <td>1291.2</td>\n",
       "      <td>1581.6</td>\n",
       "      <td>1260.1</td>\n",
       "      <td>224.7</td>\n",
       "      <td>473.2</td>\n",
       "      <td>3.723</td>\n",
       "      <td>30.105</td>\n",
       "      <td>9.855</td>\n",
       "      <td>68.562</td>\n",
       "      <td>36.526</td>\n",
       "      <td>7.572</td>\n",
       "      <td>81.693637</td>\n",
       "      <td>6.34</td>\n",
       "    </tr>\n",
       "  </tbody>\n",
       "</table>\n",
       "</div>"
      ],
      "text/plain": [
       "  WING TAG  WEIGHT  HOT CARCASS WEIGHT  CARCASS WEIGHT WITH HEAD AND LEGS  \\\n",
       "0     G403  2223.3              1429.6                             1725.6   \n",
       "1     G439  2201.9              1450.2                             1769.8   \n",
       "2     G454  2159.9              1398.4                             1724.9   \n",
       "3     G465  2198.7              1473.9                             1800.4   \n",
       "4     G428  2003.2              1291.2                             1581.6   \n",
       "\n",
       "   COLD CARCASS WEIGHT  BREAST WEIGHT (2)  THIGH WEIGHT (2)  SPLEEN   LIVER  \\\n",
       "0               1394.0              214.0             489.4   3.716  38.636   \n",
       "1               1405.4              236.0             538.7   3.494  34.725   \n",
       "2               1461.7              241.8             512.1   4.023  31.932   \n",
       "3               1425.1              227.7             549.9   3.087  32.326   \n",
       "4               1260.1              224.7             473.2   3.723  30.105   \n",
       "\n",
       "    HEART  INTESTINE EMPTY MUSCULAR STOMACH  GLANDULAR STOMACH  CRUDE PROTEIN  \\\n",
       "0   9.305    123.171                      /             13.170      86.105469   \n",
       "1  10.084     71.800                 45.273              9.781      86.143472   \n",
       "2  10.635     61.380                      /              6.217      86.416898   \n",
       "3  11.927     64.879                 35.861              8.358      85.959935   \n",
       "4   9.855     68.562                 36.526              7.572      81.693637   \n",
       "\n",
       "   ETHER EXTRACT  \n",
       "0           0.38  \n",
       "1           1.66  \n",
       "2           0.98  \n",
       "3           1.10  \n",
       "4           6.34  "
      ]
     },
     "execution_count": 9,
     "metadata": {},
     "output_type": "execute_result"
    }
   ],
   "source": [
    "df.head()"
   ]
  },
  {
   "cell_type": "markdown",
   "id": "f66f636e",
   "metadata": {},
   "source": [
    "lets rename the columns according to the metadata:"
   ]
  },
  {
   "cell_type": "code",
   "execution_count": 10,
   "id": "72e69326",
   "metadata": {},
   "outputs": [],
   "source": [
    "# column name mapping\n",
    "column_mapping = {\n",
    "    'WING TAG': 'wing_tag',\n",
    "    'WEIGHT': 'weight',\n",
    "    'HOT CARCASS WEIGHT': 'hot_carcass_weight',\n",
    "    'CARCASS WEIGHT WITH HEAD AND LEGS': 'carcass_weight_with_head_and_legs',\n",
    "    'COLD CARCASS WEIGHT': 'cold_carcass_weight',\n",
    "    'BREAST WEIGHT (2)': 'breast_weight',\n",
    "    'THIGH WEIGHT (2)': 'thigh_weight',\n",
    "    'SPLEEN': 'spleen',\n",
    "    'LIVER': 'liver',\n",
    "    'HEART': 'heart',\n",
    "    'INTESTINE': 'intestine',\n",
    "    'EMPTY MUSCULAR STOMACH': 'empty_muscular_stomach',\n",
    "    'GLANDULAR STOMACH': 'glandular_stomach',\n",
    "    'CRUDE PROTEIN': 'crude_protein',\n",
    "    'ETHER EXTRACT': 'ether_extract'\n",
    "}\n",
    "\n",
    "df = df.rename(columns=column_mapping)"
   ]
  },
  {
   "cell_type": "markdown",
   "id": "b5673d90",
   "metadata": {},
   "source": [
    "#### Descriptive Summary"
   ]
  },
  {
   "cell_type": "code",
   "execution_count": 11,
   "id": "d6e50c13",
   "metadata": {},
   "outputs": [
    {
     "data": {
      "application/vnd.microsoft.datawrangler.viewer.v0+json": {
       "columns": [
        {
         "name": "index",
         "rawType": "object",
         "type": "string"
        },
        {
         "name": "count",
         "rawType": "float64",
         "type": "float"
        },
        {
         "name": "mean",
         "rawType": "float64",
         "type": "float"
        },
        {
         "name": "std",
         "rawType": "float64",
         "type": "float"
        },
        {
         "name": "min",
         "rawType": "float64",
         "type": "float"
        },
        {
         "name": "25%",
         "rawType": "float64",
         "type": "float"
        },
        {
         "name": "50%",
         "rawType": "float64",
         "type": "float"
        },
        {
         "name": "75%",
         "rawType": "float64",
         "type": "float"
        },
        {
         "name": "max",
         "rawType": "float64",
         "type": "float"
        }
       ],
       "ref": "eb78ce8e-3c56-4ea1-a9cf-544dc9813cbf",
       "rows": [
        [
         "weight",
         "96.0",
         "2339.6822916666665",
         "200.94342382335103",
         "1968.4",
         "2201.775",
         "2299.5",
         "2473.7999999999997",
         "2890.5"
        ],
        [
         "hot_carcass_weight",
         "96.0",
         "1521.9552083333335",
         "144.12693883831543",
         "1284.9",
         "1425.775",
         "1493.05",
         "1608.4",
         "1929.4"
        ],
        [
         "carcass_weight_with_head_and_legs",
         "96.0",
         "1833.3781250000002",
         "154.00054969356782",
         "1554.4",
         "1723.8000000000002",
         "1809.4",
         "1922.7250000000001",
         "2262.8"
        ],
        [
         "cold_carcass_weight",
         "96.0",
         "1481.4791666666667",
         "142.83011470508126",
         "1252.6",
         "1380.825",
         "1452.8000000000002",
         "1573.7",
         "1891.7"
        ],
        [
         "breast_weight",
         "96.0",
         "234.11666666666667",
         "37.81840450492651",
         "177.1",
         "218.775",
         "231.55",
         "243.275",
         "533.2"
        ],
        [
         "thigh_weight",
         "96.0",
         "542.2052083333334",
         "60.99446803180151",
         "177.8",
         "508.22499999999997",
         "538.1",
         "573.8499999999999",
         "690.6"
        ],
        [
         "spleen",
         "96.0",
         "4.219916666666666",
         "0.9988355079440382",
         "2.464",
         "3.53425",
         "4.048",
         "4.817",
         "7.758"
        ],
        [
         "liver",
         "96.0",
         "36.781427083333334",
         "5.438893904084758",
         "25.916",
         "33.053",
         "35.936",
         "40.485",
         "53.133"
        ],
        [
         "heart",
         "96.0",
         "12.059239583333332",
         "1.9322394411110355",
         "8.561",
         "10.58425",
         "11.679",
         "13.44975",
         "17.194"
        ],
        [
         "intestine",
         "96.0",
         "69.14915624999999",
         "11.727467094347919",
         "44.133",
         "62.274249999999995",
         "68.0195",
         "75.10300000000001",
         "123.171"
        ],
        [
         "glandular_stomach",
         "96.0",
         "8.184677083333334",
         "1.6974253475239103",
         "5.425",
         "7.0127500000000005",
         "7.8095",
         "9.01675",
         "13.17"
        ],
        [
         "crude_protein",
         "96.0",
         "87.31370775773779",
         "2.04389540426506",
         "73.83718395815173",
         "86.54441556001002",
         "87.57494654491741",
         "88.50802618347062",
         "91.21135265700484"
        ],
        [
         "ether_extract",
         "96.0",
         "2.0904166666666666",
         "1.3516445473778005",
         "0.32",
         "1.13",
         "1.71",
         "2.5275",
         "6.68"
        ]
       ],
       "shape": {
        "columns": 8,
        "rows": 13
       }
      },
      "text/html": [
       "<div>\n",
       "<style scoped>\n",
       "    .dataframe tbody tr th:only-of-type {\n",
       "        vertical-align: middle;\n",
       "    }\n",
       "\n",
       "    .dataframe tbody tr th {\n",
       "        vertical-align: top;\n",
       "    }\n",
       "\n",
       "    .dataframe thead th {\n",
       "        text-align: right;\n",
       "    }\n",
       "</style>\n",
       "<table border=\"1\" class=\"dataframe\">\n",
       "  <thead>\n",
       "    <tr style=\"text-align: right;\">\n",
       "      <th></th>\n",
       "      <th>count</th>\n",
       "      <th>mean</th>\n",
       "      <th>std</th>\n",
       "      <th>min</th>\n",
       "      <th>25%</th>\n",
       "      <th>50%</th>\n",
       "      <th>75%</th>\n",
       "      <th>max</th>\n",
       "    </tr>\n",
       "  </thead>\n",
       "  <tbody>\n",
       "    <tr>\n",
       "      <th>weight</th>\n",
       "      <td>96.0</td>\n",
       "      <td>2339.682292</td>\n",
       "      <td>200.943424</td>\n",
       "      <td>1968.400000</td>\n",
       "      <td>2201.775000</td>\n",
       "      <td>2299.500000</td>\n",
       "      <td>2473.800000</td>\n",
       "      <td>2890.500000</td>\n",
       "    </tr>\n",
       "    <tr>\n",
       "      <th>hot_carcass_weight</th>\n",
       "      <td>96.0</td>\n",
       "      <td>1521.955208</td>\n",
       "      <td>144.126939</td>\n",
       "      <td>1284.900000</td>\n",
       "      <td>1425.775000</td>\n",
       "      <td>1493.050000</td>\n",
       "      <td>1608.400000</td>\n",
       "      <td>1929.400000</td>\n",
       "    </tr>\n",
       "    <tr>\n",
       "      <th>carcass_weight_with_head_and_legs</th>\n",
       "      <td>96.0</td>\n",
       "      <td>1833.378125</td>\n",
       "      <td>154.000550</td>\n",
       "      <td>1554.400000</td>\n",
       "      <td>1723.800000</td>\n",
       "      <td>1809.400000</td>\n",
       "      <td>1922.725000</td>\n",
       "      <td>2262.800000</td>\n",
       "    </tr>\n",
       "    <tr>\n",
       "      <th>cold_carcass_weight</th>\n",
       "      <td>96.0</td>\n",
       "      <td>1481.479167</td>\n",
       "      <td>142.830115</td>\n",
       "      <td>1252.600000</td>\n",
       "      <td>1380.825000</td>\n",
       "      <td>1452.800000</td>\n",
       "      <td>1573.700000</td>\n",
       "      <td>1891.700000</td>\n",
       "    </tr>\n",
       "    <tr>\n",
       "      <th>breast_weight</th>\n",
       "      <td>96.0</td>\n",
       "      <td>234.116667</td>\n",
       "      <td>37.818405</td>\n",
       "      <td>177.100000</td>\n",
       "      <td>218.775000</td>\n",
       "      <td>231.550000</td>\n",
       "      <td>243.275000</td>\n",
       "      <td>533.200000</td>\n",
       "    </tr>\n",
       "    <tr>\n",
       "      <th>thigh_weight</th>\n",
       "      <td>96.0</td>\n",
       "      <td>542.205208</td>\n",
       "      <td>60.994468</td>\n",
       "      <td>177.800000</td>\n",
       "      <td>508.225000</td>\n",
       "      <td>538.100000</td>\n",
       "      <td>573.850000</td>\n",
       "      <td>690.600000</td>\n",
       "    </tr>\n",
       "    <tr>\n",
       "      <th>spleen</th>\n",
       "      <td>96.0</td>\n",
       "      <td>4.219917</td>\n",
       "      <td>0.998836</td>\n",
       "      <td>2.464000</td>\n",
       "      <td>3.534250</td>\n",
       "      <td>4.048000</td>\n",
       "      <td>4.817000</td>\n",
       "      <td>7.758000</td>\n",
       "    </tr>\n",
       "    <tr>\n",
       "      <th>liver</th>\n",
       "      <td>96.0</td>\n",
       "      <td>36.781427</td>\n",
       "      <td>5.438894</td>\n",
       "      <td>25.916000</td>\n",
       "      <td>33.053000</td>\n",
       "      <td>35.936000</td>\n",
       "      <td>40.485000</td>\n",
       "      <td>53.133000</td>\n",
       "    </tr>\n",
       "    <tr>\n",
       "      <th>heart</th>\n",
       "      <td>96.0</td>\n",
       "      <td>12.059240</td>\n",
       "      <td>1.932239</td>\n",
       "      <td>8.561000</td>\n",
       "      <td>10.584250</td>\n",
       "      <td>11.679000</td>\n",
       "      <td>13.449750</td>\n",
       "      <td>17.194000</td>\n",
       "    </tr>\n",
       "    <tr>\n",
       "      <th>intestine</th>\n",
       "      <td>96.0</td>\n",
       "      <td>69.149156</td>\n",
       "      <td>11.727467</td>\n",
       "      <td>44.133000</td>\n",
       "      <td>62.274250</td>\n",
       "      <td>68.019500</td>\n",
       "      <td>75.103000</td>\n",
       "      <td>123.171000</td>\n",
       "    </tr>\n",
       "    <tr>\n",
       "      <th>glandular_stomach</th>\n",
       "      <td>96.0</td>\n",
       "      <td>8.184677</td>\n",
       "      <td>1.697425</td>\n",
       "      <td>5.425000</td>\n",
       "      <td>7.012750</td>\n",
       "      <td>7.809500</td>\n",
       "      <td>9.016750</td>\n",
       "      <td>13.170000</td>\n",
       "    </tr>\n",
       "    <tr>\n",
       "      <th>crude_protein</th>\n",
       "      <td>96.0</td>\n",
       "      <td>87.313708</td>\n",
       "      <td>2.043895</td>\n",
       "      <td>73.837184</td>\n",
       "      <td>86.544416</td>\n",
       "      <td>87.574947</td>\n",
       "      <td>88.508026</td>\n",
       "      <td>91.211353</td>\n",
       "    </tr>\n",
       "    <tr>\n",
       "      <th>ether_extract</th>\n",
       "      <td>96.0</td>\n",
       "      <td>2.090417</td>\n",
       "      <td>1.351645</td>\n",
       "      <td>0.320000</td>\n",
       "      <td>1.130000</td>\n",
       "      <td>1.710000</td>\n",
       "      <td>2.527500</td>\n",
       "      <td>6.680000</td>\n",
       "    </tr>\n",
       "  </tbody>\n",
       "</table>\n",
       "</div>"
      ],
      "text/plain": [
       "                                   count         mean         std  \\\n",
       "weight                              96.0  2339.682292  200.943424   \n",
       "hot_carcass_weight                  96.0  1521.955208  144.126939   \n",
       "carcass_weight_with_head_and_legs   96.0  1833.378125  154.000550   \n",
       "cold_carcass_weight                 96.0  1481.479167  142.830115   \n",
       "breast_weight                       96.0   234.116667   37.818405   \n",
       "thigh_weight                        96.0   542.205208   60.994468   \n",
       "spleen                              96.0     4.219917    0.998836   \n",
       "liver                               96.0    36.781427    5.438894   \n",
       "heart                               96.0    12.059240    1.932239   \n",
       "intestine                           96.0    69.149156   11.727467   \n",
       "glandular_stomach                   96.0     8.184677    1.697425   \n",
       "crude_protein                       96.0    87.313708    2.043895   \n",
       "ether_extract                       96.0     2.090417    1.351645   \n",
       "\n",
       "                                           min          25%          50%  \\\n",
       "weight                             1968.400000  2201.775000  2299.500000   \n",
       "hot_carcass_weight                 1284.900000  1425.775000  1493.050000   \n",
       "carcass_weight_with_head_and_legs  1554.400000  1723.800000  1809.400000   \n",
       "cold_carcass_weight                1252.600000  1380.825000  1452.800000   \n",
       "breast_weight                       177.100000   218.775000   231.550000   \n",
       "thigh_weight                        177.800000   508.225000   538.100000   \n",
       "spleen                                2.464000     3.534250     4.048000   \n",
       "liver                                25.916000    33.053000    35.936000   \n",
       "heart                                 8.561000    10.584250    11.679000   \n",
       "intestine                            44.133000    62.274250    68.019500   \n",
       "glandular_stomach                     5.425000     7.012750     7.809500   \n",
       "crude_protein                        73.837184    86.544416    87.574947   \n",
       "ether_extract                         0.320000     1.130000     1.710000   \n",
       "\n",
       "                                           75%          max  \n",
       "weight                             2473.800000  2890.500000  \n",
       "hot_carcass_weight                 1608.400000  1929.400000  \n",
       "carcass_weight_with_head_and_legs  1922.725000  2262.800000  \n",
       "cold_carcass_weight                1573.700000  1891.700000  \n",
       "breast_weight                       243.275000   533.200000  \n",
       "thigh_weight                        573.850000   690.600000  \n",
       "spleen                                4.817000     7.758000  \n",
       "liver                                40.485000    53.133000  \n",
       "heart                                13.449750    17.194000  \n",
       "intestine                            75.103000   123.171000  \n",
       "glandular_stomach                     9.016750    13.170000  \n",
       "crude_protein                        88.508026    91.211353  \n",
       "ether_extract                         2.527500     6.680000  "
      ]
     },
     "execution_count": 11,
     "metadata": {},
     "output_type": "execute_result"
    }
   ],
   "source": [
    "df.describe().T"
   ]
  },
  {
   "cell_type": "code",
   "execution_count": 12,
   "id": "0a12b2c4",
   "metadata": {},
   "outputs": [
    {
     "data": {
      "application/vnd.microsoft.datawrangler.viewer.v0+json": {
       "columns": [
        {
         "name": "index",
         "rawType": "object",
         "type": "string"
        },
        {
         "name": "count",
         "rawType": "object",
         "type": "unknown"
        },
        {
         "name": "unique",
         "rawType": "object",
         "type": "unknown"
        },
        {
         "name": "top",
         "rawType": "object",
         "type": "string"
        },
        {
         "name": "freq",
         "rawType": "object",
         "type": "unknown"
        }
       ],
       "ref": "06b86645-da31-48c9-9c26-faa2c183791d",
       "rows": [
        [
         "wing_tag",
         "96",
         "96",
         "G403",
         "1"
        ],
        [
         "empty_muscular_stomach",
         "96",
         "91",
         "/",
         "5"
        ]
       ],
       "shape": {
        "columns": 4,
        "rows": 2
       }
      },
      "text/html": [
       "<div>\n",
       "<style scoped>\n",
       "    .dataframe tbody tr th:only-of-type {\n",
       "        vertical-align: middle;\n",
       "    }\n",
       "\n",
       "    .dataframe tbody tr th {\n",
       "        vertical-align: top;\n",
       "    }\n",
       "\n",
       "    .dataframe thead th {\n",
       "        text-align: right;\n",
       "    }\n",
       "</style>\n",
       "<table border=\"1\" class=\"dataframe\">\n",
       "  <thead>\n",
       "    <tr style=\"text-align: right;\">\n",
       "      <th></th>\n",
       "      <th>count</th>\n",
       "      <th>unique</th>\n",
       "      <th>top</th>\n",
       "      <th>freq</th>\n",
       "    </tr>\n",
       "  </thead>\n",
       "  <tbody>\n",
       "    <tr>\n",
       "      <th>wing_tag</th>\n",
       "      <td>96</td>\n",
       "      <td>96</td>\n",
       "      <td>G403</td>\n",
       "      <td>1</td>\n",
       "    </tr>\n",
       "    <tr>\n",
       "      <th>empty_muscular_stomach</th>\n",
       "      <td>96</td>\n",
       "      <td>91</td>\n",
       "      <td>/</td>\n",
       "      <td>5</td>\n",
       "    </tr>\n",
       "  </tbody>\n",
       "</table>\n",
       "</div>"
      ],
      "text/plain": [
       "                       count unique   top freq\n",
       "wing_tag                  96     96  G403    1\n",
       "empty_muscular_stomach    96     91     /    5"
      ]
     },
     "execution_count": 12,
     "metadata": {},
     "output_type": "execute_result"
    }
   ],
   "source": [
    "df.describe(include='O').T"
   ]
  },
  {
   "cell_type": "code",
   "execution_count": 13,
   "id": "0578a0a6",
   "metadata": {},
   "outputs": [
    {
     "data": {
      "application/vnd.microsoft.datawrangler.viewer.v0+json": {
       "columns": [
        {
         "name": "index",
         "rawType": "object",
         "type": "string"
        },
        {
         "name": "0",
         "rawType": "int64",
         "type": "integer"
        }
       ],
       "ref": "7b9ba7fc-ab22-44e4-9b1b-a1e3bd57dc90",
       "rows": [
        [
         "wing_tag",
         "0"
        ],
        [
         "weight",
         "0"
        ],
        [
         "hot_carcass_weight",
         "0"
        ],
        [
         "carcass_weight_with_head_and_legs",
         "0"
        ],
        [
         "cold_carcass_weight",
         "0"
        ],
        [
         "breast_weight",
         "0"
        ],
        [
         "thigh_weight",
         "0"
        ],
        [
         "spleen",
         "0"
        ],
        [
         "liver",
         "0"
        ],
        [
         "heart",
         "0"
        ],
        [
         "intestine",
         "0"
        ],
        [
         "empty_muscular_stomach",
         "0"
        ],
        [
         "glandular_stomach",
         "0"
        ],
        [
         "crude_protein",
         "0"
        ],
        [
         "ether_extract",
         "0"
        ]
       ],
       "shape": {
        "columns": 1,
        "rows": 15
       }
      },
      "text/plain": [
       "wing_tag                             0\n",
       "weight                               0\n",
       "hot_carcass_weight                   0\n",
       "carcass_weight_with_head_and_legs    0\n",
       "cold_carcass_weight                  0\n",
       "breast_weight                        0\n",
       "thigh_weight                         0\n",
       "spleen                               0\n",
       "liver                                0\n",
       "heart                                0\n",
       "intestine                            0\n",
       "empty_muscular_stomach               0\n",
       "glandular_stomach                    0\n",
       "crude_protein                        0\n",
       "ether_extract                        0\n",
       "dtype: int64"
      ]
     },
     "execution_count": 13,
     "metadata": {},
     "output_type": "execute_result"
    }
   ],
   "source": [
    "df.isna().sum()"
   ]
  },
  {
   "cell_type": "markdown",
   "id": "9f617eff",
   "metadata": {},
   "source": [
    "- no missing values\n",
    "- `wing_tag` uniquely represents each chicken so can be placed as index."
   ]
  },
  {
   "cell_type": "code",
   "execution_count": 14,
   "id": "505e4797",
   "metadata": {},
   "outputs": [],
   "source": [
    "df.set_index('wing_tag', inplace = True)"
   ]
  },
  {
   "cell_type": "code",
   "execution_count": 15,
   "id": "e1659a62",
   "metadata": {},
   "outputs": [
    {
     "data": {
      "text/plain": [
       "0"
      ]
     },
     "execution_count": 15,
     "metadata": {},
     "output_type": "execute_result"
    }
   ],
   "source": [
    "df.duplicated().sum()"
   ]
  },
  {
   "cell_type": "markdown",
   "id": "a9c57940",
   "metadata": {},
   "source": [
    "#### Data Types"
   ]
  },
  {
   "cell_type": "code",
   "execution_count": 16,
   "id": "240b8c76",
   "metadata": {},
   "outputs": [
    {
     "name": "stdout",
     "output_type": "stream",
     "text": [
      "<class 'pandas.core.frame.DataFrame'>\n",
      "Index: 96 entries, G403 to V428\n",
      "Data columns (total 14 columns):\n",
      " #   Column                             Non-Null Count  Dtype  \n",
      "---  ------                             --------------  -----  \n",
      " 0   weight                             96 non-null     float64\n",
      " 1   hot_carcass_weight                 96 non-null     float64\n",
      " 2   carcass_weight_with_head_and_legs  96 non-null     float64\n",
      " 3   cold_carcass_weight                96 non-null     float64\n",
      " 4   breast_weight                      96 non-null     float64\n",
      " 5   thigh_weight                       96 non-null     float64\n",
      " 6   spleen                             96 non-null     float64\n",
      " 7   liver                              96 non-null     float64\n",
      " 8   heart                              96 non-null     float64\n",
      " 9   intestine                          96 non-null     float64\n",
      " 10  empty_muscular_stomach             96 non-null     object \n",
      " 11  glandular_stomach                  96 non-null     float64\n",
      " 12  crude_protein                      96 non-null     float64\n",
      " 13  ether_extract                      96 non-null     float64\n",
      "dtypes: float64(13), object(1)\n",
      "memory usage: 11.2+ KB\n"
     ]
    }
   ],
   "source": [
    "df.info()"
   ]
  },
  {
   "cell_type": "code",
   "execution_count": 17,
   "id": "7b568cd4",
   "metadata": {},
   "outputs": [
    {
     "data": {
      "text/plain": [
       "array(['/', 45.273, 35.861, 36.526, 40.993, 40.949, 45.323, 42.091,\n",
       "       49.148, 46.807, 31.103, 49.057, 39.621, 43.128, 53.485, 38.836,\n",
       "       44.487, 47.665, 50.006, 43.695, 59.547, 61.306, 61.702, 60.063,\n",
       "       45.428, 53.456, 43.586, 49.648, 63.571, 47.523, 63.86, 64.538,\n",
       "       42.852, 50.119, 32.665, 35.164, 46.656, 44.855, 44.962, 51.851,\n",
       "       45.507, 50.136, 43.821, 66.616, 29.712, 40.936, 52.518, 35.408,\n",
       "       51.944, 41.483, 56.23, 55.663, 42.66, 32.12, 43.964, 75.767,\n",
       "       45.327, 42.129, 47.964, 44.811, 32.599, 32.947, 38.155, 48.009,\n",
       "       56.347, 59.583, 51.322, 58.708, 41.917, 40.425, 51.903, 56.698,\n",
       "       40.7, 45.321, 55.671, 68.602, 44.006, 54.71, 45.636, 34.692,\n",
       "       48.933, 45.045, 48.02, 42.632, 45.366, 52.457, 49.281, 54.021,\n",
       "       42.173, 49.7, 46.816], dtype=object)"
      ]
     },
     "execution_count": 17,
     "metadata": {},
     "output_type": "execute_result"
    }
   ],
   "source": [
    "df['empty_muscular_stomach'].unique()"
   ]
  },
  {
   "cell_type": "markdown",
   "id": "c221bf9e",
   "metadata": {},
   "source": [
    "The metadata for the column `empty_muscular_stomach` specifies that it should be a binary flag, '_Indicates the presence or absence of the empty muscular stomach of the chicken_'. However, the data contains a '/' that represents 'yes' for an empty stomach, and other values that indicate that the stomach is not empty, such as percentages or grams. We will evaluate whether it is more valuable to maintain this column as a float or a binary flag, based on its correlation with the target variable. Ultimately, we plan to adhere to the guidance provided in the metadata, but lets see:"
   ]
  },
  {
   "cell_type": "code",
   "execution_count": 18,
   "id": "88304528",
   "metadata": {},
   "outputs": [],
   "source": [
    "df['empty_muscular_stomach_bin'] = np.where(\n",
    "    df['empty_muscular_stomach'] == '/', 1, 0\n",
    ").astype(int)"
   ]
  },
  {
   "cell_type": "code",
   "execution_count": 19,
   "id": "11b8b022",
   "metadata": {},
   "outputs": [],
   "source": [
    "df['empty_muscular_stomach_float'] = df['empty_muscular_stomach'].replace('/', 0).astype(float)"
   ]
  },
  {
   "cell_type": "markdown",
   "id": "3ee6172b",
   "metadata": {},
   "source": [
    "#### Outliers"
   ]
  },
  {
   "cell_type": "code",
   "execution_count": 20,
   "id": "972eb1aa",
   "metadata": {},
   "outputs": [
    {
     "data": {
      "application/vnd.plotly.v1+json": {
       "config": {
        "plotlyServerURL": "https://plot.ly"
       },
       "data": [
        {
         "boxpoints": "outliers",
         "fillcolor": "rgba(60,179,113,0.3)",
         "line": {
          "color": "seagreen"
         },
         "marker": {
          "color": "mediumseagreen",
          "size": 4
         },
         "name": "Weight",
         "type": "box",
         "whiskerwidth": 0.2,
         "xaxis": "x",
         "y": {
          "bdata": "mpmZmZleoUDNzMzMzDOhQM3MzMzM36BAZmZmZmYtoUDNzMzMzEyfQDMzMzMzVaBAMzMzMzMfoEAzMzMzM5ehQM3MzMzMd6FAzczMzMzMoUAzMzMzM0qgQAAAAAAAFqBAAAAAAAC7oECamZmZmXSgQJqZmZmZwZ5AZmZmZmZKoUAzMzMzM3WhQJqZmZmZrKFAmpmZmZmMoEAzMzMzM+egQAAAAAAAAqFAZmZmZmZWokAzMzMzM2ShQM3MzMzMqaFAZmZmZmaJoEBmZmZmZgiiQGZmZmZmsKBAMzMzMzOMokAzMzMzM1qhQDMzMzMzvqFAAAAAAADCoEAzMzMzM7eiQJqZmZmZpqFAzczMzMxCokDNzMzMzLihQJqZmZmZDaJAzczMzMxtoUAzMzMzM9iiQM3MzMzMTKBAmpmZmZmBokAzMzMzM5+fQAAAAAAApKFAAAAAAAAmoUDNzMzMzDKhQGZmZmZmCKJAzczMzMwUokAzMzMzM7agQGZmZmZml6JAAAAAAADuoUAAAAAAAEKkQGZmZmZmPaFAMzMzMzNho0DNzMzMzGWhQGZmZmZm4aJAmpmZmZl8o0DNzMzMzBikQAAAAAAAG6RAAAAAAAA2pEBmZmZmZiqhQAAAAAAA5KJAmpmZmZn4oUDNzMzMzP+hQJqZmZmZVKRAzczMzMyvo0CamZmZmY2iQGZmZmZm9aFAZmZmZmZIoUAAAAAAALqkQGZmZmZm0p9AMzMzMzPNokDNzMzMzEajQGZmZmZmH6RAAAAAAAB4okAAAAAAALOjQAAAAAAAq6RAAAAAAACVpkCamZmZmcKgQJqZmZmZs6VAMzMzMzPnokCamZmZmXSiQAAAAAAAQ6VAzczMzMySpEAzMzMzM1ejQJqZmZmZEKZAZmZmZmaroUBmZmZmZlKjQGZmZmZmbqRAzczMzMw3o0AzMzMzM22hQDMzMzMzH6VAMzMzMzPho0AzMzMzM5KkQGZmZmZmVKJAZmZmZmawpEAzMzMzM62hQJqZmZmZIKVA",
          "dtype": "f8"
         },
         "yaxis": "y"
        },
        {
         "boxpoints": "outliers",
         "fillcolor": "rgba(60,179,113,0.3)",
         "line": {
          "color": "seagreen"
         },
         "marker": {
          "color": "mediumseagreen",
          "size": 4
         },
         "name": "Hot Carcass Weight",
         "type": "box",
         "whiskerwidth": 0.2,
         "xaxis": "x2",
         "y": {
          "bdata": "ZmZmZmZWlkDNzMzMzKiWQJqZmZmZ2ZVAmpmZmZkHl0DNzMzMzCyUQM3MzMzMOpdAMzMzMzPVlEAzMzMzM1OWQAAAAAAAipZAMzMzMzOhlkAzMzMzMzeVQGZmZmZmWJVAAAAAAABqlEBmZmZmZrKUQAAAAAAA1pRAmpmZmZlFlkBmZmZmZiyWQAAAAAAANpdAMzMzMzP/lUAzMzMzM6mWQAAAAAAAApdAZmZmZmbGl0BmZmZmZtqWQGZmZmZm/pZAmpmZmZnblEBmZmZmZgKXQAAAAAAAqpZAmpmZmZlzmEDNzMzMzPKVQJqZmZmZmZdAMzMzMzNDlUAzMzMzM6OYQM3MzMzMJJdAZmZmZmbWlkDNzMzMzIqWQJqZmZmZdZdAZmZmZmZel0BmZmZmZqqXQJqZmZmZE5RAMzMzMzP3mEAzMzMzM++UQAAAAAAASpdAZmZmZmYslkCamZmZmW2WQDMzMzMze5hAZmZmZmbyl0DNzMzMzHiUQM3MzMzMzpdAMzMzMzNRmEBmZmZmZnSaQM3MzMzM1pVAAAAAAAB6mUDNzMzMzI6WQM3MzMzMlJhAMzMzMzOdmECamZmZmVuZQAAAAAAA2ppAAAAAAADamkBmZmZmZr6VQJqZmZmZkZhAZmZmZmbIlUCamZmZmcGWQAAAAAAA4ppAMzMzMzPPmUAAAAAAAGaYQGZmZmZmwJdAmpmZmZlzlUAzMzMzM0ObQGZmZmZmMJRAmpmZmZlHlkAzMzMzMx+ZQM3MzMzMmpxAAAAAAADql0DNzMzMzDiaQDMzMzMzhZlAmpmZmZklnkBmZmZmZsKVQDMzMzMzQ5xAzczMzMzgmECamZmZmXeXQJqZmZmZ05tAmpmZmZkrm0DNzMzMzOKZQDMzMzMzk51AAAAAAABelkDNzMzMzCiZQDMzMzMzQ5tAMzMzMzNhmEAzMzMzM5+WQM3MzMzMZJxAmpmZmZkrmkDNzMzMzEyaQDMzMzMzL5hAmpmZmZnrmkAAAAAAAGqXQDMzMzMzi5pA",
          "dtype": "f8"
         },
         "yaxis": "y2"
        },
        {
         "boxpoints": "outliers",
         "fillcolor": "rgba(60,179,113,0.3)",
         "line": {
          "color": "seagreen"
         },
         "marker": {
          "color": "mediumseagreen",
          "size": 4
         },
         "name": "Carcass Weight With Head And Legs",
         "type": "box",
         "whiskerwidth": 0.2,
         "xaxis": "x3",
         "y": {
          "bdata": "ZmZmZmb2mkAzMzMzM6ebQJqZmZmZ85pAmpmZmZkhnEBmZmZmZraYQDMzMzMzP5pAmpmZmZnxmECamZmZmVebQGZmZmZmNJtAMzMzMzNvm0AzMzMzMw+aQJqZmZmZsZlAZmZmZmaQmUAzMzMzM9uZQGZmZmZm+JhAMzMzMzOXm0AzMzMzM9eaQJqZmZmZ1ZtAAAAAAADKmkDNzMzMzDCbQM3MzMzMOptAzczMzMyCnUAAAAAAAOKaQGZmZmZmeptAAAAAAAD4mUCamZmZmTOcQJqZmZmZj5pAMzMzMzOTnUDNzMzMzDCbQJqZmZmZqZxAzczMzMwUmkCamZmZmcOdQM3MzMzMNJtAzczMzMzSm0AzMzMzM0ObQJqZmZmZ8ZxAMzMzMzMlnEBmZmZmZvKcQDMzMzMz/5hAZmZmZmbSnUBmZmZmZraZQJqZmZmZtZxAmpmZmZlHm0BmZmZmZkqbQGZmZmZmJJ1AMzMzMzNjnUDNzMzMzBSaQGZmZmZm8pxAMzMzMzOlnEDNzMzMzL6fQM3MzMzMYJpAzczMzMxWnkDNzMzMzKqaQAAAAAAAVp1AmpmZmZl9nUAzMzMzM2eeQM3MzMzMaJ9AmpmZmZm7n0CamZmZmXmaQGZmZmZmfJ1AZmZmZmYQmkAAAAAAALqbQDMzMzMzCqBAmpmZmZmbnkAzMzMzM5udQGZmZmZmyJxAmpmZmZnpmUBmZmZmZtSfQJqZmZmZSZhAMzMzMzNlm0BmZmZmZsqdQJqZmZmZhaBAAAAAAADenEAAAAAAALyfQGZmZmZmbJ9AmpmZmZmtoUAzMzMzM4GaQDMzMzMz3aBAAAAAAABqnUAAAAAAAIqcQJqZmZmZi6BAmpmZmZnHn0CamZmZmbGeQGZmZmZmZKFAAAAAAAAwm0CamZmZmWGeQJqZmZmZw59AmpmZmZnxnUCamZmZmYGbQGZmZmZmvKBAAAAAAAByn0BmZmZmZsifQAAAAAAAbpxAAAAAAAAEoECamZmZmVecQDMzMzMz259A",
          "dtype": "f8"
         },
         "yaxis": "y3"
        },
        {
         "boxpoints": "outliers",
         "fillcolor": "rgba(60,179,113,0.3)",
         "line": {
          "color": "seagreen"
         },
         "marker": {
          "color": "mediumseagreen",
          "size": 4
         },
         "name": "Cold Carcass Weight",
         "type": "box",
         "whiskerwidth": 0.2,
         "xaxis": "x4",
         "y": {
          "bdata": "AAAAAADIlUCamZmZmfWVQM3MzMzM1pZAZmZmZmZElkBmZmZmZrCTQM3MzMzMApVAZmZmZmY2lEAAAAAAAJaVQM3MzMzM5pVAzczMzMz+lUDNzMzMzHCUQGZmZmZmvpRAAAAAAABSlEDNzMzMzAaUQAAAAAAAKpZAMzMzMzOLlUDNzMzMzIiVQAAAAAAAjpZAzczMzMxylUDNzMzMzPyVQM3MzMzMcpZAmpmZmZn/lkDNzMzMzESWQM3MzMzMRpZAAAAAAADak0BmZmZmZlaWQJqZmZmZX5RAZmZmZma+l0DNzMzMzFKVQJqZmZmZl5ZAzczMzMyqlECamZmZmfeXQM3MzMzMOpZAzczMzMxIlkAAAAAAANCVQM3MzMzM3JZAAAAAAABClUAAAAAAAAiXQGZmZmZmkpNAZmZmZmY0mEBmZmZmZl6UQAAAAAAA0pZAzczMzMyslUBmZmZmZt6VQAAAAAAA3pdAzczMzMxel0AAAAAAAMiTQAAAAAAAJJdAAAAAAAC+l0AAAAAAAOCZQGZmZmZmXJVAAAAAAADwmEAzMzMzMxeWQGZmZmZm+pdAMzMzMzMdmEAAAAAAAKiYQJqZmZmZU5pAzczMzMw2mkAzMzMzM0uVQAAAAAAA2pdAMzMzMzM3lUAAAAAAADSWQGZmZmZmXppAzczMzMxCmUAzMzMzM+WXQGZmZmZmMpdAAAAAAADwlEBmZmZmZoSaQGZmZmZmypNAMzMzMzOdlUDNzMzMzJaYQJqZmZmZr5tAMzMzMzNfl0AzMzMzM52ZQGZmZmZm/JhAzczMzMyOnUAAAAAAAEiVQAAAAAAAgJtAZmZmZmY6mEDNzMzMzM6WQJqZmZmZYZtAMzMzMzMzmkDNzMzMzEaZQDMzMzMz0ZxAZmZmZmbYlUDNzMzMzJaYQAAAAAAAzJpAZmZmZmaql0DNzMzMzDCWQJqZmZmZoZtAmpmZmZmrmUDNzMzMzJSZQM3MzMzMnJdAMzMzMzMXmkAAAAAAAPCWQGZmZmZm3plA",
          "dtype": "f8"
         },
         "yaxis": "y4"
        },
        {
         "boxpoints": "outliers",
         "fillcolor": "rgba(60,179,113,0.3)",
         "line": {
          "color": "seagreen"
         },
         "marker": {
          "color": "mediumseagreen",
          "size": 4
         },
         "name": "Breast Weight",
         "type": "box",
         "whiskerwidth": 0.2,
         "xaxis": "x5",
         "y": {
          "bdata": "AAAAAADAakAAAAAAAIBtQJqZmZmZOW5AZmZmZmZ2bEBmZmZmZhZsQGZmZmZmxmxAZmZmZma2aUAAAAAAADBuQM3MzMzMvGxAmpmZmZm5b0BmZmZmZrZsQAAAAAAAgGxAzczMzMzsaUDNzMzMzExqQGZmZmZm5m1AMzMzMzMTbEBmZmZmZtZsQDMzMzMzW3FAmpmZmZmJbEDNzMzMzGxtQGZmZmZmBnBAZmZmZmZGbkAAAAAAAABvQJqZmZmZGW1AMzMzMzPjaECamZmZmYlsQDMzMzMzU21AzczMzMwMb0AAAAAAADBuQJqZmZmZmW1AzczMzMzsakAzMzMzM/NwQM3MzMzMfGxAmpmZmZmpa0DNzMzMzHxrQAAAAAAAgG5AMzMzMzPjakCamZmZmdltQJqZmZmZOWpAmpmZmZn5bkDNzMzMzCxqQGZmZmZmRm5AMzMzMzNjbEBmZmZmZuZtQDMzMzMzy3BAMzMzMzPjbUCamZmZmXloQJqZmZmZqW1AZmZmZmambkBmZmZmZg5wQGZmZmZmRmdAmpmZmZnpaUBmZmZmZoZrQM3MzMzMjGtAMzMzMzOjbUAAAAAAAKBsQJqZmZmZeW5AMzMzMzNjbkAzMzMzMyNmQJqZmZmZWW1AzczMzMxMakAAAAAAAIBnQJqZmZmZwXBAzczMzMxMbkAAAAAAAJBsQM3MzMzMLGxAAAAAAAAAaECamZmZmRlwQJqZmZmZuWdAZmZmZmZ2aEAzMzMzM5NqQAAAAAAA8HFAzczMzMy8a0AAAAAAAGBtQAAAAAAAgG1AZmZmZmY2cUAzMzMzM1NnQM3MzMzMHG9AmpmZmZk5bUCamZmZmZloQGZmZmZmhm5AzczMzMwMbUAAAAAAALBsQJqZmZmZGXFAmpmZmZmpgEDNzMzMzFxsQAAAAAAAsHBAmpmZmZlZbUCamZmZmalpQGZmZmZmNnBAzczMzMyMbECamZmZmblqQAAAAAAAgGxAMzMzMzOjb0AzMzMzM4NqQGZmZmZmtm5A",
          "dtype": "f8"
         },
         "yaxis": "y5"
        },
        {
         "boxpoints": "outliers",
         "fillcolor": "rgba(60,179,113,0.3)",
         "line": {
          "color": "seagreen"
         },
         "marker": {
          "color": "mediumseagreen",
          "size": 4
         },
         "name": "Thigh Weight",
         "type": "box",
         "whiskerwidth": 0.2,
         "xaxis": "x6",
         "y": {
          "bdata": "ZmZmZmaWfkCamZmZmdWAQM3MzMzMAIBAMzMzMzMvgUAzMzMzM5N9QAAAAAAAXIBAzczMzMx8fkAzMzMzM+t/QDMzMzMzq39AAAAAAADMgECamZmZmSl/QDMzMzMzo39AMzMzMzNrfUDNzMzMzPR+QM3MzMzM9H9AzczMzMwkgEBmZmZmZqaAQJqZmZmZYYBAmpmZmZm5f0DNzMzMzFx+QDMzMzMzi4BAmpmZmZkpgUAzMzMzMzuAQAAAAAAACIFAAAAAAACgfkDNzMzMzPSAQGZmZmZmFn5AZmZmZmaugUAzMzMzM3N/QGZmZmZmZoFAZmZmZmbGf0AAAAAAAPCBQAAAAAAAEH9AmpmZmZkdgECamZmZmXGAQDMzMzMzy4FAmpmZmZlBf0CamZmZmU2BQJqZmZmZQX1AZmZmZmbugUBmZmZmZq5+QAAAAAAAqIFAAAAAAAAMgEAAAAAAACiAQDMzMzMzb4FAZmZmZmbagUBmZmZmZvZ+QJqZmZmZmYBAMzMzMzN/gkBmZmZmZuKCQGZmZmZm7n9AmpmZmZnhgkDNzMzMzHSAQDMzMzMzq4FAzczMzMwMgUBmZmZmZhaDQGZmZmZmMoNAzczMzMyMgkCamZmZmVGAQGZmZmZmUoFAAAAAAAB4fkBmZmZmZq6AQAAAAAAANIJAZmZmZmZegUDNzMzMzJiBQDMzMzMzm4FAmpmZmZkhfkAAAAAAABSDQGZmZmZmzntAAAAAAABogEBmZmZmZoKAQGZmZmZm1oNAzczMzMxAgUAAAAAAAASDQDMzMzMzJ4JAzczMzMzIhEAzMzMzM7t/QAAAAAAA6INAZmZmZmbKgEDNzMzMzFiBQM3MzMzMXIJAAAAAAAB8gUCamZmZmbWCQM3MzMzMlIVAmpmZmZk5ZkBmZmZmZv6BQAAAAAAAVIRAzczMzMzIgUDNzMzMzJx/QGZmZmZmooNAzczMzMwwg0AzMzMzMxeDQJqZmZmZgYBAAAAAAAAQg0AzMzMzMyOBQDMzMzMz94JA",
          "dtype": "f8"
         },
         "yaxis": "y6"
        },
        {
         "boxpoints": "outliers",
         "fillcolor": "rgba(60,179,113,0.3)",
         "line": {
          "color": "seagreen"
         },
         "marker": {
          "color": "mediumseagreen",
          "size": 4
         },
         "name": "Spleen",
         "type": "box",
         "whiskerwidth": 0.2,
         "xaxis": "x7",
         "y": {
          "bdata": "7nw/NV66DUDByqFFtvMLQGQ730+NFxBAGQRWDi2yCEBiEFg5tMgNQCcxCKwcWg5A9ihcj8L1DUC8dJMYBFYEQJMYBFYOLRFAhxbZzvfTEUDRItv5fmoNQNV46SYxCA5AKVyPwvUoF0BYObTIdr4KQH0/NV66SQVA1XjpJjEIH0BmZmZmZmYQQG3n+6nxUhZABFYOLbKdEUDn+6nx0s0SQOxRuB6F6wZAzczMzMzMDUAQWDm0yHYRQF66SQwCKxFAlkOLbOf7CUAIrBxaZLsTQOkmMQisnBFA+n5qvHQTEECsHFpkO98SQHWTGARWDhBAyXa+nxovE0BxPQrXo3AUQAisHFpkuxFAg8DKoUW2A0C28/3UeOkSQG8Sg8DKoQ5AmG4Sg8BKEEBEi2zn+6kaQH9qvHSTGApAWmQ730+NFUD+1HjpJjEFQBfZzvdT4xJA8tJNYhDYFkAbL90kBoEIQCuHFtnO9wtA4XoUrkfhC0Bcj8L1KFwUQDVeukkMghFA4XoUrkfhDkDfT42XbpITQF66SQwCqxFAoBov3SQGDUCPwvUoXI8MQIcW2c73UxJAx0s3iUFgDEACK4cW2c4IQPyp8dJN4hFAjZduEoPAEkC8dJMYBFYHQNejcD0K1xdAO99PjZduCkD2KFyPwvUPQKrx0k1iEApAYOXQItv5B0DByqFFtnMUQB1aZDvfTw1Ay6FFtvP9CEACK4cW2c4XQCcxCKwcWg5AlkOLbOf7DkDn+6nx0k0NQGIQWDm0yBNAc2iR7Xy/EEA730+Nl+4SQHnpJjEILBhAtMh2vp8aDUDufD81XjoSQKwcWmQ73xNAhetRuB6FE0AOLbKd76cPQClcj8L1qBVAc2iR7Xw/C0DVeOkmMQgQQFyPwvUoXBpAzczMzMzMCUCuR+F6FC4RQDvfT42XbhRAI9v5fmq8B0B56SYxCKwHQIGVQ4ts5xNAf2q8dJOYE0DP91PjpRsTQPyp8dJNYg1ATmIQWDm0FEBvEoPAyqEGQNejcD0K1xdA",
          "dtype": "f8"
         },
         "yaxis": "y7"
        },
        {
         "boxpoints": "outliers",
         "fillcolor": "rgba(60,179,113,0.3)",
         "line": {
          "color": "seagreen"
         },
         "marker": {
          "color": "mediumseagreen",
          "size": 4
         },
         "name": "Liver",
         "type": "box",
         "whiskerwidth": 0.2,
         "xaxis": "x8",
         "y": {
          "bdata": "xSCwcmhRQ0DNzMzMzFxBQDvfT42X7j9AfT81XropQEB7FK5H4Ro+QNEi2/l+6jlAYhBYObQYQEB9PzVeuqlAQLByaJHtfEFAgZVDi2xnQkAj2/l+avw9QBsv3SQG8UFAd76fGi/NSECNl24Sg8BAQLpJDAIrB0JADi2yne9XQkAhsHJokd1AQDm0yHa+nz9AoBov3SQ2QUDXo3A9CjdAQDm0yHa+3z5AF9nO91NjP0DByqFFttM6QJzEILByqEBA5dAi2/kuQ0CPwvUoXC9GQM3MzMzMrEFAObTIdr4PQECoxks3iTFBQGq8dJMYBD1AsHJoke08PUCcxCCwcihAQJhuEoPAekFASgwCK4d2QUA730+Nl/5BQA4tsp3v10BA1XjpJjFIQUCF61G4HuVCQKAaL90kZkJA2/l+arwkQUCHFtnO93NCQHe+nxov3T5AhetRuB6FPUC0yHa+n5pAQI2XbhKDgEVAF9nO91NjPkD8qfHSTSJDQPT91Hjp1kJALbKd76cGQEBSuB6F63FFQNEi2/l+CkFA/tR46SYBQkBxPQrXo6BBQOxRuB6Fi0RArkfhehRuRECLbOf7qaFFQPYoXI/CFUNARrbz/dSIRUAK16NwPfpEQLx0kxgEdkRA001iEFjJQEAxCKwcWtREQOxRuB6FK0RAO99PjZdeQUDpJjEIrOxBQNV46SYxKD1A1XjpJjHYRUDjpZvEIABGQH9qvHSTOEBAGy/dJAaRSkD8qfHSTeJDQIlBYOXQckFAbxKDwMrRR0Dn+6nx0p1DQPhT46WblElAw/UoXI9iQ0AlBoGVQ0tAQO58PzVeWkZA8tJNYhBIQkCNl24Sg0BFQOxRuB6Fe0JAO99PjZcuQkAnMQisHJpEQOxRuB6Fe0JAJzEIrBy6RUB3vp8aL21DQIXrUbgeFUJATmIQWDmEREBiEFg5tOg+QL6fGi/dVEFArkfhehQuREDl0CLb+f5GQOxRuB6Fi0FAcT0K16NASUBqvHSTGEQ+QLx0kxgEdkRA",
          "dtype": "f8"
         },
         "yaxis": "y8"
        },
        {
         "boxpoints": "outliers",
         "fillcolor": "rgba(60,179,113,0.3)",
         "line": {
          "color": "seagreen"
         },
         "marker": {
          "color": "mediumseagreen",
          "size": 4
         },
         "name": "Heart",
         "type": "box",
         "whiskerwidth": 0.2,
         "xaxis": "x9",
         "y": {
          "bdata": "XI/C9SicIkBeukkMAiskQIXrUbgeRSVAtMh2vp/aJ0D2KFyPwrUjQAwCK4cWmS1AnMQgsHLoJUDy0k1iEBgnQDvfT42X7iRAJzEIrByaI0BI4XoUrochQGZmZmZmZixAy6FFtvO9JUDpJjEIrNwmQG8Sg8DKISJAYhBYObTIKkDByqFFtjMlQPyp8dJNYihAz/dT46XbJkCPwvUoXE8qQJqZmZmZGSRAAAAAAAAAJECLbOf7qfEpQBSuR+F6FCZA0SLb+X4qJEBg5dAi2zkrQGZmZmZmJiZAMzMzMzMzLECamZmZmZkkQMUgsHJokSZAg8DKoUW2IkAUrkfhepQqQCcxCKwcGiNATDeJQWAlJ0BOYhBYOfQnQLKd76fGCyhAsp3vp8bLJUBOYhBYOTQsQOXQItv5/iJAhetRuB7FLEDD9Shcj0IkQNejcD0KlytApHA9CtejJ0DJdr6fGi8tQMUgsHJoESVAKVyPwvXoKkDl0CLb+X4kQFyPwvUoHCpAwcqhRbbzJkA1XrpJDEIsQAIrhxbZzitAg8DKoUV2KkD0/dR46eYiQDeJQWDlECdAaJHtfD+1LEB/arx0k9gjQG3n+6nxUiVAvp8aL93kKkDP91PjpdskQHE9CtejMDBA/tR46SbxLECamZmZmRkpQOxRuB6Fqy5ATmIQWDm0JUCgGi/dJAYnQAAAAAAAQClASgwCK4dWLkAbL90kBoEmQFpkO99PDSRArBxaZDsfIUDb+X5qvDQoQGiR7Xw/FTFALbKd76fGKUACK4cW2Y4oQBfZzvdTIydAuB6F61G4KECYbhKDwAooQB+F61G4XixAvp8aL91kJUDTTWIQWLkkQNv5fmq8NCdAQmDl0CIbLEBMN4lBYOUqQEjhehSuhyxAbxKDwMohKkAdWmQ7348pQMP1KFyPgidAGQRWDi0yJkAxCKwcWqQhQLgehetR+CtA/tR46SYxLEBkO99PjZcpQDVeukkMAidAi2zn+6kxMUA1XrpJDEImQHE9CtejMDBA",
          "dtype": "f8"
         },
         "yaxis": "y9"
        },
        {
         "boxpoints": "outliers",
         "fillcolor": "rgba(60,179,113,0.3)",
         "line": {
          "color": "seagreen"
         },
         "marker": {
          "color": "mediumseagreen",
          "size": 4
         },
         "name": "Intestine",
         "type": "box",
         "whiskerwidth": 0.2,
         "xaxis": "x10",
         "y": {
          "bdata": "bef7qfHKXkAzMzMzM/NRQHE9CtejsE5Ax0s3iUE4UECHFtnO9yNRQMUgsHJoAU1AtvP91HgJUkAfhetRuCZSQPhT46WbhFRAarx0kxjcVUC28/3UeAlLQNnO91PjVUxAbxKDwMoZWkAj2/l+auxOQCUGgZVDK09AYhBYObQQU0BKDAIrhx5RQB+F61G4XlBApHA9CtfTTEBvEoPAyjlQQIcW2c73q1BAHVpkO98vUEAX2c73UwNSQKAaL90kPlBAsp3vp8ZbUkCWQ4ts52tTQN0kBoGVG1BAmG4Sg8CKUEBiEFg5tEhJQDMzMzMzk0pAokW28/1kT0BU46WbxBBMQMuhRbbzHVJAgZVDi2x/VUDJdr6fGtdTQGiR7Xw/zVBAGy/dJAY5UECWQ4ts5ytRQGZmZmZmblFAXI/C9Si8TEBKDAIrh2ZXQJHtfD81bkpAZDvfT403TkBaZDvfT3VQQIPAyqFFtk9Ax0s3iUGoUED6fmq8dANRQFTjpZvEIFJAZDvfT43XSkCwcmiR7YxVQIts5/upoVFABFYOLbIVUUCe76fGS0dPQH0/NV66uU5ASgwCK4cGVEDP91PjpStTQM3MzMzMDFBA001iEFhhVEAdWmQ73+9SQCcxCKwcMlJAGy/dJAYRRkDXo3A9Cv9QQPCnxks3WU5AmpmZmZlZUUCHFtnO96NOQGZmZmZmBklA6SYxCKwsTEAnMQisHBJTQFyPwvUoPE5A8tJNYhC4U0AAAAAAAEBRQBsv3SQGIVFA4XoUrkdxVUBqvHSTGCRPQHe+nxovNVZAkxgEVg49VEAK16NwPfpHQC/dJAaBPVRAlkOLbOebUEAUrkfhehRRQO58PzVeilNA001iEFiRU0CPwvUoXI9OQNNNYhBYoVFAiUFg5dCSVEDVeOkmMeBQQIPAyqFFtlFAI9v5fmrsUEDjpZvEICBPQFyPwvUopFBAy6FFtvP9UEBGtvP91LhSQIXrUbgeHVFA46WbxCBgVEDFILByaIFKQCcxCKwcMlJA",
          "dtype": "f8"
         },
         "yaxis": "y10"
        },
        {
         "boxpoints": "outliers",
         "fillcolor": "rgba(60,179,113,0.3)",
         "line": {
          "color": "seagreen"
         },
         "marker": {
          "color": "mediumseagreen",
          "size": 4
         },
         "name": "Empty Muscular Stomach",
         "type": "box",
         "whiskerwidth": 0.2,
         "xaxis": "x11",
         "y": [
          "/",
          45.273,
          "/",
          35.861,
          36.526,
          40.993,
          40.949,
          45.323,
          42.091,
          49.148,
          46.807,
          31.103,
          "/",
          49.057,
          39.621,
          43.128,
          53.485,
          38.836,
          44.487,
          47.665,
          50.006,
          43.695,
          59.547,
          61.306,
          "/",
          61.702,
          60.063,
          45.428,
          53.456,
          43.586,
          49.648,
          63.571,
          47.523,
          63.86,
          64.538,
          42.852,
          "/",
          50.119,
          32.665,
          35.164,
          46.656,
          44.855,
          44.962,
          51.851,
          45.507,
          50.136,
          43.821,
          66.616,
          29.712,
          40.936,
          52.518,
          35.408,
          51.944,
          41.483,
          56.23,
          55.663,
          42.66,
          32.12,
          43.964,
          75.767,
          45.327,
          42.129,
          47.964,
          44.811,
          32.599,
          32.947,
          38.155,
          48.009,
          56.347,
          59.583,
          51.322,
          58.708,
          41.917,
          40.425,
          51.903,
          56.698,
          40.7,
          45.321,
          55.671,
          68.602,
          44.006,
          54.71,
          45.636,
          34.692,
          48.933,
          45.045,
          48.02,
          42.632,
          45.366,
          52.457,
          49.281,
          54.021,
          42.173,
          49.7,
          46.816,
          75.767
         ],
         "yaxis": "y11"
        },
        {
         "boxpoints": "outliers",
         "fillcolor": "rgba(60,179,113,0.3)",
         "line": {
          "color": "seagreen"
         },
         "marker": {
          "color": "mediumseagreen",
          "size": 4
         },
         "name": "Glandular Stomach",
         "type": "box",
         "whiskerwidth": 0.2,
         "xaxis": "x12",
         "y": {
          "bdata": "16NwPQpXKkAdWmQ7348jQJHtfD813hhAnu+nxku3IEB9PzVeukkeQB+F61G43iBAqMZLN4nBGkAhsHJokS0hQHnpJjEIrCdASgwCK4dWJkAfhetRuJ4eQP7UeOkmsRlAJQaBlUNLI0Boke18P7UcQCGwcmiRrSRA2/l+arz0HEBaZDvfT40YQG3n+6nxUiNA30+Nl24SHkCe76fGS7clQPT91Hjp5iBAqvHSTWJQIEDRItv5fmohQP7UeOkmMRtAtvP91HhpGUDl0CLb+f4kQL6fGi/dJCBANV66SQyCKED2KFyPwrUgQHsUrkfh+hpAsp3vp8bLGkDfT42XbhIaQBBYObTIdiFA9ihcj8J1JkBcj8L1KNweQLpJDAIrhx9A6SYxCKwcKkAdWmQ7388kQAAAAAAAAB9A8tJNYhBYIkAzMzMzMzMgQBsv3SQGAR5Ag8DKoUW2IkB7FK5H4foeQAIrhxbZzh9AZDvfT42XIUAZBFYOLTIlQLByaJHtPCRAVOOlm8QgH0BCYOXQIlseQIcW2c73UyFA0SLb+X5qGkBzaJHtfD8ZQHNoke18PxpApHA9CtcjJ0ArhxbZzvcbQMuhRbbz/RxAy6FFtvO9KEDjpZvEILAcQK5H4XoUrh1A4XoUrkdhHECDwMqhRbYgQHWTGARWDh1A6SYxCKycH0DD9Shcj8IYQLByaJHt/BVASgwCK4eWGEC+nxov3SQbQESLbOf7KRpAxSCwcmgRHEAAAAAAAAAcQKabxCCwsiNASOF6FK7HHEB9PzVeuokgQCUGgZVDCxlAmpmZmZkZI0BSuB6F61EWQBfZzvdTYxxAwcqhRbbzHUAtsp3vp4YiQCuHFtnONyBABoGVQ4usIUDD9Shcj8IbQPYoXI/CNSBACtejcD2KHkCuR+F6FO4hQB+F61G4niJA7nw/NV66HUB9PzVeukkZQC2yne+nBiBACKwcWmS7IkAhsHJokW0fQAwCK4cWWR9AhxbZzvdTHUAzMzMzM7MVQK5H4XoUrh1A",
          "dtype": "f8"
         },
         "yaxis": "y12"
        },
        {
         "boxpoints": "outliers",
         "fillcolor": "rgba(60,179,113,0.3)",
         "line": {
          "color": "seagreen"
         },
         "marker": {
          "color": "mediumseagreen",
          "size": 4
         },
         "name": "Crude Protein",
         "type": "box",
         "whiskerwidth": 0.2,
         "xaxis": "x13",
         "y": {
          "bdata": "AAAAAMCGVUB2yaSmLolVQIW063aumlVAkG3ck299VUAx7iGNZGxUQEb0bL8d4lVAcUCZuNK1VUD+NtePyw9WQKQrHWuN4lVAzCoNBFAMVkCanggGUfJVQP3Ta1HFj1VA0zGXCE+KVUAMvdALvaBVQNbR5n2KtVVAxKzkaK8/VUDOk2HzZJhVQEO9a86nIFZAPY2w3NNAVUB9u2iOnn5VQPz9T97WPVZAfIMKKQwwVUAZ9AV9QcdVQHqzED8B0VVA0NvHm59gVUCMgRLeaMpVQPTtHXqTNVVAyh+Y/IG5VUBC9Zm2xt5VQNcNpshnDVZAvr29vb3dVEB0uVwul5VVQFqgo2yVpVVASTpUSWX5VUDDOjSgHCRWQGlORIPN2lVA+eCDD37+VUAXZc7gJStVQNc/BmyUdVJAoLrUMFJ8VUANUOBBi6NVQDiYIp916VVAdQfAUF/mVUDOmYgtD4tVQPslv8mlFlZA9Tuyy+jQVUDte0ROEK5VQCGCY5dGUVVA2NwBkI3wVUDTRRdddPlVQNXWUWjSClZAAgAAAAAcVkBEhQoVKshVQPJ/YfQT5lVAZeJK9wb8VUDORASS86RVQDseR1E411VAcSE3eDslVkD6yEc+8mFWQMhxHMdxyVVALj03TeL9VUCBxTsyefNVQB4ERhnjglVAkm8NWDMuVkCEu7HvERlWQLb3Oj+dQFZAb+qk1tJBVUDIUBcj1dFVQDgvzuSD41VAHFeM/tLcVUA/iCauKRVWQLAZLJT5RFZAAJMvxJW3VUCVUkoppVxWQI5h7wH3JlZAG9uqsa3qVUBsq8a2auxVQMYsR36uQFZAPCxa1fdnVkAYBlK9Gl9WQAWanCf+PlZAjPmn8I4bVkCv5eBmvyhWQH1zRfJkj1ZAzkQEkvOkVUCLd6zXD9xVQD2xEzsxOlZACkqAD3IuVkCoULxZ5TVWQJze9KY3NVZAFo9ZgYr0VUBRfaat8T9WQMiXMmZ3IFZArC1ynQmYVkCLcEvNhs1WQDeDt4jNNFZA",
          "dtype": "f8"
         },
         "yaxis": "y13"
        },
        {
         "boxpoints": "outliers",
         "fillcolor": "rgba(60,179,113,0.3)",
         "line": {
          "color": "seagreen"
         },
         "marker": {
          "color": "mediumseagreen",
          "size": 4
         },
         "name": "Ether Extract",
         "type": "box",
         "whiskerwidth": 0.2,
         "xaxis": "x14",
         "y": {
          "bdata": "UrgehetR2D+PwvUoXI/6P1yPwvUoXO8/mpmZmZmZ8T9cj8L1KFwZQOF6FK5H4f4/rkfhehSuCUAzMzMzMzPrP7gehetRuO4/MzMzMzMz9z+PwvUoXI8AQOxRuB6F6+k/zczMzMzMAkCkcD0K16MIQFyPwvUoXPs/16NwPQrXC0BSuB6F61EGQD0K16NwPQJA7FG4HoXrFkD2KFyPwvUIQFK4HoXrUfA/PQrXo3A9EUCuR+F6FK4HQMP1KFyPwu0/rkfhehSuEEDD9Shcj8L1P8P1KFyPwg1A4XoUrkfhAEAAAAAAAAD0P+xRuB6F6/k/uB6F61G4GkAfhetRuB4PQLgehetRuPI/mpmZmZmZAUCPwvUoXI/2P3sUrkfhevw/ZmZmZmZmAED2KFyPwvUWQBSuR+F6FA5AuB6F61G4DEApXI/C9SgQQIXrUbgehQNAKVyPwvUoAkAK16NwPQoPQD0K16NwPeo/H4XrUbge/T8UrkfhehTyPz0K16NwPRVAuB6F61G47j9mZmZmZmbyP8P1KFyPwu0/H4XrUbge7T+4HoXrUbjyP7gehetRuABAmpmZmZmZ/T/2KFyPwvUGQFK4HoXrUfA/pHA9Ctej+D+kcD0K16PoP7gehetRuPo/FK5H4XoU7j97FK5H4Xr8P9ejcD0K1xJA9ihcj8L16D8K16NwPQr7Pz0K16NwPfo/4XoUrkfhBkB7FK5H4XoCQArXo3A9CvM/SOF6FK5HB0C4HoXrUbjyP65H4XoUru8/zczMzMzM9D/D9Shcj8LlPzMzMzMzM/s/PQrXo3A9/j+F61G4HoX/P1yPwvUoXPs/7FG4HoXr/T89CtejcD3iP1yPwvUoXPs/ZmZmZmZm8j9I4XoUrkf5P3sUrkfhetQ/16NwPQrXD0AK16NwPQr/PzMzMzMzM+M/mpmZmZmZ+T/NzMzMzMz8P7gehetRuN4/H4XrUbgeA0AfhetRuB7xPxSuR+F6FPI/j8L1KFyP/j+uR+F6FK4BQClcj8L1KPg/",
          "dtype": "f8"
         },
         "yaxis": "y14"
        },
        {
         "boxpoints": "outliers",
         "fillcolor": "rgba(60,179,113,0.3)",
         "line": {
          "color": "seagreen"
         },
         "marker": {
          "color": "mediumseagreen",
          "size": 4
         },
         "name": "Empty Muscular Stomach Bin",
         "type": "box",
         "whiskerwidth": 0.2,
         "xaxis": "x15",
         "y": {
          "bdata": "AQAAAAAAAAABAAAAAAAAAAAAAAAAAAAAAAAAAAAAAAAAAAAAAAAAAAAAAAAAAAAAAQAAAAAAAAAAAAAAAAAAAAAAAAAAAAAAAAAAAAAAAAAAAAAAAAAAAAAAAAAAAAAAAQAAAAAAAAAAAAAAAAAAAAAAAAAAAAAAAAAAAAAAAAAAAAAAAAAAAAAAAAAAAAAAAQAAAAAAAAAAAAAAAAAAAAAAAAAAAAAAAAAAAAAAAAAAAAAAAAAAAAAAAAAAAAAAAAAAAAAAAAAAAAAAAAAAAAAAAAAAAAAAAAAAAAAAAAAAAAAAAAAAAAAAAAAAAAAAAAAAAAAAAAAAAAAAAAAAAAAAAAAAAAAAAAAAAAAAAAAAAAAAAAAAAAAAAAAAAAAAAAAAAAAAAAAAAAAAAAAAAAAAAAAAAAAAAAAAAAAAAAAAAAAAAAAAAAAAAAAAAAAAAAAAAAAAAAAAAAAAAAAAAAAAAAAAAAAAAAAAAAAAAAAAAAAAAAAAAAAAAAAAAAAA",
          "dtype": "i4"
         },
         "yaxis": "y15"
        },
        {
         "boxpoints": "outliers",
         "fillcolor": "rgba(60,179,113,0.3)",
         "line": {
          "color": "seagreen"
         },
         "marker": {
          "color": "mediumseagreen",
          "size": 4
         },
         "name": "Empty Muscular Stomach Float",
         "type": "box",
         "whiskerwidth": 0.2,
         "xaxis": "x16",
         "y": {
          "bdata": "AAAAAAAAAABt5/up8aJGQAAAAAAAAAAAke18PzXuQUAX2c73U0NCQMl2vp8af0RAtvP91Hh5REDTTWIQWKlGQM/3U+OlC0VAbef7qfGSSECe76fGS2dHQO58PzVeGj9AAAAAAAAAAACe76fGS4dIQHNoke18z0NAqvHSTWKQRUCuR+F6FL5KQF66SQwCa0NAdZMYBFY+RkCF61G4HtVHQFTjpZvEAElAKVyPwvXYRUC8dJMYBMZNQLpJDAIrp05AAAAAAAAAAABg5dAi29lOQPLSTWIQCE5AEFg5tMi2RkDufD81XrpKQF66SQwCy0VAbef7qfHSSEAMAiuHFslPQG3n+6nxwkdArkfhehTuT0DfT42XbiJQQJMYBFYObUVAAAAAAAAAAACsHFpkOw9JQIXrUbgeVUBAokW28/2UQUCHFtnO91NHQD0K16NwbUZAQmDl0CJ7RkCwcmiR7exJQDeJQWDlwEZAxSCwcmgRSUAMAiuHFulFQIGVQ4tsp1BAg8DKoUW2PUArhxbZzndEQPyp8dJNQkpATmIQWDm0QUBGtvP91PhJQOf7qfHSvURAPQrXo3AdTEC+nxov3dRLQBSuR+F6VEVAj8L1KFwPQEAIrBxaZPtFQAwCK4cW8VJAYOXQItupRkCNl24SgxBFQAisHFpk+0dAK4cW2c5nRkDpJjEIrExAQPCnxks3eUBApHA9CtcTQ0D+1HjpJgFIQCPb+X5qLExAtMh2vp/KTUDwp8ZLN6lJQLTIdr6fWk1ATDeJQWD1REBmZmZmZjZEQN0kBoGV80lA001iEFhZTECamZmZmVlEQAwCK4cWqUZA2c73U+PVS0BKDAIrhyZRQFTjpZvEAEZAexSuR+FaS0DFILByaNFGQH9qvHSTWEFAgZVDi2x3SED2KFyPwoVGQMP1KFyPAkhAN4lBYOVQRUACK4cW2a5GQNEi2/l+OkpAhxbZzvejSECmm8QgsAJLQKAaL90kFkVAmpmZmZnZSECcxCCwcmhHQAwCK4cW8VJA",
          "dtype": "f8"
         },
         "yaxis": "y16"
        }
       ],
       "layout": {
        "annotations": [
         {
          "font": {
           "size": 16
          },
          "showarrow": false,
          "text": "Weight",
          "x": 0.0078125,
          "xanchor": "center",
          "xref": "paper",
          "y": 1,
          "yanchor": "bottom",
          "yref": "paper"
         },
         {
          "font": {
           "size": 16
          },
          "showarrow": false,
          "text": "Hot Carcass Weight",
          "x": 0.0734375,
          "xanchor": "center",
          "xref": "paper",
          "y": 1,
          "yanchor": "bottom",
          "yref": "paper"
         },
         {
          "font": {
           "size": 16
          },
          "showarrow": false,
          "text": "Carcass Weight With Head And Legs",
          "x": 0.1390625,
          "xanchor": "center",
          "xref": "paper",
          "y": 1,
          "yanchor": "bottom",
          "yref": "paper"
         },
         {
          "font": {
           "size": 16
          },
          "showarrow": false,
          "text": "Cold Carcass Weight",
          "x": 0.20468750000000002,
          "xanchor": "center",
          "xref": "paper",
          "y": 1,
          "yanchor": "bottom",
          "yref": "paper"
         },
         {
          "font": {
           "size": 16
          },
          "showarrow": false,
          "text": "Breast Weight",
          "x": 0.2703125,
          "xanchor": "center",
          "xref": "paper",
          "y": 1,
          "yanchor": "bottom",
          "yref": "paper"
         },
         {
          "font": {
           "size": 16
          },
          "showarrow": false,
          "text": "Thigh Weight",
          "x": 0.3359375,
          "xanchor": "center",
          "xref": "paper",
          "y": 1,
          "yanchor": "bottom",
          "yref": "paper"
         },
         {
          "font": {
           "size": 16
          },
          "showarrow": false,
          "text": "Spleen",
          "x": 0.40156250000000004,
          "xanchor": "center",
          "xref": "paper",
          "y": 1,
          "yanchor": "bottom",
          "yref": "paper"
         },
         {
          "font": {
           "size": 16
          },
          "showarrow": false,
          "text": "Liver",
          "x": 0.46718750000000003,
          "xanchor": "center",
          "xref": "paper",
          "y": 1,
          "yanchor": "bottom",
          "yref": "paper"
         },
         {
          "font": {
           "size": 16
          },
          "showarrow": false,
          "text": "Heart",
          "x": 0.5328125,
          "xanchor": "center",
          "xref": "paper",
          "y": 1,
          "yanchor": "bottom",
          "yref": "paper"
         },
         {
          "font": {
           "size": 16
          },
          "showarrow": false,
          "text": "Intestine",
          "x": 0.5984375,
          "xanchor": "center",
          "xref": "paper",
          "y": 1,
          "yanchor": "bottom",
          "yref": "paper"
         },
         {
          "font": {
           "size": 16
          },
          "showarrow": false,
          "text": "Empty Muscular Stomach",
          "x": 0.6640625,
          "xanchor": "center",
          "xref": "paper",
          "y": 1,
          "yanchor": "bottom",
          "yref": "paper"
         },
         {
          "font": {
           "size": 16
          },
          "showarrow": false,
          "text": "Glandular Stomach",
          "x": 0.7296875,
          "xanchor": "center",
          "xref": "paper",
          "y": 1,
          "yanchor": "bottom",
          "yref": "paper"
         },
         {
          "font": {
           "size": 16
          },
          "showarrow": false,
          "text": "Crude Protein",
          "x": 0.7953125000000001,
          "xanchor": "center",
          "xref": "paper",
          "y": 1,
          "yanchor": "bottom",
          "yref": "paper"
         },
         {
          "font": {
           "size": 16
          },
          "showarrow": false,
          "text": "Ether Extract",
          "x": 0.8609375,
          "xanchor": "center",
          "xref": "paper",
          "y": 1,
          "yanchor": "bottom",
          "yref": "paper"
         },
         {
          "font": {
           "size": 16
          },
          "showarrow": false,
          "text": "Empty Muscular Stomach Bin",
          "x": 0.9265625000000001,
          "xanchor": "center",
          "xref": "paper",
          "y": 1,
          "yanchor": "bottom",
          "yref": "paper"
         },
         {
          "font": {
           "size": 16
          },
          "showarrow": false,
          "text": "Empty Muscular Stomach Float",
          "x": 0.9921875,
          "xanchor": "center",
          "xref": "paper",
          "y": 1,
          "yanchor": "bottom",
          "yref": "paper"
         }
        ],
        "height": 600,
        "plot_bgcolor": "white",
        "showlegend": false,
        "template": {
         "data": {
          "bar": [
           {
            "error_x": {
             "color": "#2a3f5f"
            },
            "error_y": {
             "color": "#2a3f5f"
            },
            "marker": {
             "line": {
              "color": "#E5ECF6",
              "width": 0.5
             },
             "pattern": {
              "fillmode": "overlay",
              "size": 10,
              "solidity": 0.2
             }
            },
            "type": "bar"
           }
          ],
          "barpolar": [
           {
            "marker": {
             "line": {
              "color": "#E5ECF6",
              "width": 0.5
             },
             "pattern": {
              "fillmode": "overlay",
              "size": 10,
              "solidity": 0.2
             }
            },
            "type": "barpolar"
           }
          ],
          "carpet": [
           {
            "aaxis": {
             "endlinecolor": "#2a3f5f",
             "gridcolor": "white",
             "linecolor": "white",
             "minorgridcolor": "white",
             "startlinecolor": "#2a3f5f"
            },
            "baxis": {
             "endlinecolor": "#2a3f5f",
             "gridcolor": "white",
             "linecolor": "white",
             "minorgridcolor": "white",
             "startlinecolor": "#2a3f5f"
            },
            "type": "carpet"
           }
          ],
          "choropleth": [
           {
            "colorbar": {
             "outlinewidth": 0,
             "ticks": ""
            },
            "type": "choropleth"
           }
          ],
          "contour": [
           {
            "colorbar": {
             "outlinewidth": 0,
             "ticks": ""
            },
            "colorscale": [
             [
              0,
              "#0d0887"
             ],
             [
              0.1111111111111111,
              "#46039f"
             ],
             [
              0.2222222222222222,
              "#7201a8"
             ],
             [
              0.3333333333333333,
              "#9c179e"
             ],
             [
              0.4444444444444444,
              "#bd3786"
             ],
             [
              0.5555555555555556,
              "#d8576b"
             ],
             [
              0.6666666666666666,
              "#ed7953"
             ],
             [
              0.7777777777777778,
              "#fb9f3a"
             ],
             [
              0.8888888888888888,
              "#fdca26"
             ],
             [
              1,
              "#f0f921"
             ]
            ],
            "type": "contour"
           }
          ],
          "contourcarpet": [
           {
            "colorbar": {
             "outlinewidth": 0,
             "ticks": ""
            },
            "type": "contourcarpet"
           }
          ],
          "heatmap": [
           {
            "colorbar": {
             "outlinewidth": 0,
             "ticks": ""
            },
            "colorscale": [
             [
              0,
              "#0d0887"
             ],
             [
              0.1111111111111111,
              "#46039f"
             ],
             [
              0.2222222222222222,
              "#7201a8"
             ],
             [
              0.3333333333333333,
              "#9c179e"
             ],
             [
              0.4444444444444444,
              "#bd3786"
             ],
             [
              0.5555555555555556,
              "#d8576b"
             ],
             [
              0.6666666666666666,
              "#ed7953"
             ],
             [
              0.7777777777777778,
              "#fb9f3a"
             ],
             [
              0.8888888888888888,
              "#fdca26"
             ],
             [
              1,
              "#f0f921"
             ]
            ],
            "type": "heatmap"
           }
          ],
          "histogram": [
           {
            "marker": {
             "pattern": {
              "fillmode": "overlay",
              "size": 10,
              "solidity": 0.2
             }
            },
            "type": "histogram"
           }
          ],
          "histogram2d": [
           {
            "colorbar": {
             "outlinewidth": 0,
             "ticks": ""
            },
            "colorscale": [
             [
              0,
              "#0d0887"
             ],
             [
              0.1111111111111111,
              "#46039f"
             ],
             [
              0.2222222222222222,
              "#7201a8"
             ],
             [
              0.3333333333333333,
              "#9c179e"
             ],
             [
              0.4444444444444444,
              "#bd3786"
             ],
             [
              0.5555555555555556,
              "#d8576b"
             ],
             [
              0.6666666666666666,
              "#ed7953"
             ],
             [
              0.7777777777777778,
              "#fb9f3a"
             ],
             [
              0.8888888888888888,
              "#fdca26"
             ],
             [
              1,
              "#f0f921"
             ]
            ],
            "type": "histogram2d"
           }
          ],
          "histogram2dcontour": [
           {
            "colorbar": {
             "outlinewidth": 0,
             "ticks": ""
            },
            "colorscale": [
             [
              0,
              "#0d0887"
             ],
             [
              0.1111111111111111,
              "#46039f"
             ],
             [
              0.2222222222222222,
              "#7201a8"
             ],
             [
              0.3333333333333333,
              "#9c179e"
             ],
             [
              0.4444444444444444,
              "#bd3786"
             ],
             [
              0.5555555555555556,
              "#d8576b"
             ],
             [
              0.6666666666666666,
              "#ed7953"
             ],
             [
              0.7777777777777778,
              "#fb9f3a"
             ],
             [
              0.8888888888888888,
              "#fdca26"
             ],
             [
              1,
              "#f0f921"
             ]
            ],
            "type": "histogram2dcontour"
           }
          ],
          "mesh3d": [
           {
            "colorbar": {
             "outlinewidth": 0,
             "ticks": ""
            },
            "type": "mesh3d"
           }
          ],
          "parcoords": [
           {
            "line": {
             "colorbar": {
              "outlinewidth": 0,
              "ticks": ""
             }
            },
            "type": "parcoords"
           }
          ],
          "pie": [
           {
            "automargin": true,
            "type": "pie"
           }
          ],
          "scatter": [
           {
            "fillpattern": {
             "fillmode": "overlay",
             "size": 10,
             "solidity": 0.2
            },
            "type": "scatter"
           }
          ],
          "scatter3d": [
           {
            "line": {
             "colorbar": {
              "outlinewidth": 0,
              "ticks": ""
             }
            },
            "marker": {
             "colorbar": {
              "outlinewidth": 0,
              "ticks": ""
             }
            },
            "type": "scatter3d"
           }
          ],
          "scattercarpet": [
           {
            "marker": {
             "colorbar": {
              "outlinewidth": 0,
              "ticks": ""
             }
            },
            "type": "scattercarpet"
           }
          ],
          "scattergeo": [
           {
            "marker": {
             "colorbar": {
              "outlinewidth": 0,
              "ticks": ""
             }
            },
            "type": "scattergeo"
           }
          ],
          "scattergl": [
           {
            "marker": {
             "colorbar": {
              "outlinewidth": 0,
              "ticks": ""
             }
            },
            "type": "scattergl"
           }
          ],
          "scattermap": [
           {
            "marker": {
             "colorbar": {
              "outlinewidth": 0,
              "ticks": ""
             }
            },
            "type": "scattermap"
           }
          ],
          "scattermapbox": [
           {
            "marker": {
             "colorbar": {
              "outlinewidth": 0,
              "ticks": ""
             }
            },
            "type": "scattermapbox"
           }
          ],
          "scatterpolar": [
           {
            "marker": {
             "colorbar": {
              "outlinewidth": 0,
              "ticks": ""
             }
            },
            "type": "scatterpolar"
           }
          ],
          "scatterpolargl": [
           {
            "marker": {
             "colorbar": {
              "outlinewidth": 0,
              "ticks": ""
             }
            },
            "type": "scatterpolargl"
           }
          ],
          "scatterternary": [
           {
            "marker": {
             "colorbar": {
              "outlinewidth": 0,
              "ticks": ""
             }
            },
            "type": "scatterternary"
           }
          ],
          "surface": [
           {
            "colorbar": {
             "outlinewidth": 0,
             "ticks": ""
            },
            "colorscale": [
             [
              0,
              "#0d0887"
             ],
             [
              0.1111111111111111,
              "#46039f"
             ],
             [
              0.2222222222222222,
              "#7201a8"
             ],
             [
              0.3333333333333333,
              "#9c179e"
             ],
             [
              0.4444444444444444,
              "#bd3786"
             ],
             [
              0.5555555555555556,
              "#d8576b"
             ],
             [
              0.6666666666666666,
              "#ed7953"
             ],
             [
              0.7777777777777778,
              "#fb9f3a"
             ],
             [
              0.8888888888888888,
              "#fdca26"
             ],
             [
              1,
              "#f0f921"
             ]
            ],
            "type": "surface"
           }
          ],
          "table": [
           {
            "cells": {
             "fill": {
              "color": "#EBF0F8"
             },
             "line": {
              "color": "white"
             }
            },
            "header": {
             "fill": {
              "color": "#C8D4E3"
             },
             "line": {
              "color": "white"
             }
            },
            "type": "table"
           }
          ]
         },
         "layout": {
          "annotationdefaults": {
           "arrowcolor": "#2a3f5f",
           "arrowhead": 0,
           "arrowwidth": 1
          },
          "autotypenumbers": "strict",
          "coloraxis": {
           "colorbar": {
            "outlinewidth": 0,
            "ticks": ""
           }
          },
          "colorscale": {
           "diverging": [
            [
             0,
             "#8e0152"
            ],
            [
             0.1,
             "#c51b7d"
            ],
            [
             0.2,
             "#de77ae"
            ],
            [
             0.3,
             "#f1b6da"
            ],
            [
             0.4,
             "#fde0ef"
            ],
            [
             0.5,
             "#f7f7f7"
            ],
            [
             0.6,
             "#e6f5d0"
            ],
            [
             0.7,
             "#b8e186"
            ],
            [
             0.8,
             "#7fbc41"
            ],
            [
             0.9,
             "#4d9221"
            ],
            [
             1,
             "#276419"
            ]
           ],
           "sequential": [
            [
             0,
             "#0d0887"
            ],
            [
             0.1111111111111111,
             "#46039f"
            ],
            [
             0.2222222222222222,
             "#7201a8"
            ],
            [
             0.3333333333333333,
             "#9c179e"
            ],
            [
             0.4444444444444444,
             "#bd3786"
            ],
            [
             0.5555555555555556,
             "#d8576b"
            ],
            [
             0.6666666666666666,
             "#ed7953"
            ],
            [
             0.7777777777777778,
             "#fb9f3a"
            ],
            [
             0.8888888888888888,
             "#fdca26"
            ],
            [
             1,
             "#f0f921"
            ]
           ],
           "sequentialminus": [
            [
             0,
             "#0d0887"
            ],
            [
             0.1111111111111111,
             "#46039f"
            ],
            [
             0.2222222222222222,
             "#7201a8"
            ],
            [
             0.3333333333333333,
             "#9c179e"
            ],
            [
             0.4444444444444444,
             "#bd3786"
            ],
            [
             0.5555555555555556,
             "#d8576b"
            ],
            [
             0.6666666666666666,
             "#ed7953"
            ],
            [
             0.7777777777777778,
             "#fb9f3a"
            ],
            [
             0.8888888888888888,
             "#fdca26"
            ],
            [
             1,
             "#f0f921"
            ]
           ]
          },
          "colorway": [
           "#636efa",
           "#EF553B",
           "#00cc96",
           "#ab63fa",
           "#FFA15A",
           "#19d3f3",
           "#FF6692",
           "#B6E880",
           "#FF97FF",
           "#FECB52"
          ],
          "font": {
           "color": "#2a3f5f"
          },
          "geo": {
           "bgcolor": "white",
           "lakecolor": "white",
           "landcolor": "#E5ECF6",
           "showlakes": true,
           "showland": true,
           "subunitcolor": "white"
          },
          "hoverlabel": {
           "align": "left"
          },
          "hovermode": "closest",
          "mapbox": {
           "style": "light"
          },
          "paper_bgcolor": "white",
          "plot_bgcolor": "#E5ECF6",
          "polar": {
           "angularaxis": {
            "gridcolor": "white",
            "linecolor": "white",
            "ticks": ""
           },
           "bgcolor": "#E5ECF6",
           "radialaxis": {
            "gridcolor": "white",
            "linecolor": "white",
            "ticks": ""
           }
          },
          "scene": {
           "xaxis": {
            "backgroundcolor": "#E5ECF6",
            "gridcolor": "white",
            "gridwidth": 2,
            "linecolor": "white",
            "showbackground": true,
            "ticks": "",
            "zerolinecolor": "white"
           },
           "yaxis": {
            "backgroundcolor": "#E5ECF6",
            "gridcolor": "white",
            "gridwidth": 2,
            "linecolor": "white",
            "showbackground": true,
            "ticks": "",
            "zerolinecolor": "white"
           },
           "zaxis": {
            "backgroundcolor": "#E5ECF6",
            "gridcolor": "white",
            "gridwidth": 2,
            "linecolor": "white",
            "showbackground": true,
            "ticks": "",
            "zerolinecolor": "white"
           }
          },
          "shapedefaults": {
           "line": {
            "color": "#2a3f5f"
           }
          },
          "ternary": {
           "aaxis": {
            "gridcolor": "white",
            "linecolor": "white",
            "ticks": ""
           },
           "baxis": {
            "gridcolor": "white",
            "linecolor": "white",
            "ticks": ""
           },
           "bgcolor": "#E5ECF6",
           "caxis": {
            "gridcolor": "white",
            "linecolor": "white",
            "ticks": ""
           }
          },
          "title": {
           "x": 0.05
          },
          "xaxis": {
           "automargin": true,
           "gridcolor": "white",
           "linecolor": "white",
           "ticks": "",
           "title": {
            "standoff": 15
           },
           "zerolinecolor": "white",
           "zerolinewidth": 2
          },
          "yaxis": {
           "automargin": true,
           "gridcolor": "white",
           "linecolor": "white",
           "ticks": "",
           "title": {
            "standoff": 15
           },
           "zerolinecolor": "white",
           "zerolinewidth": 2
          }
         }
        },
        "title": {
         "font": {
          "size": 24
         },
         "text": "Outliers Analysis"
        },
        "width": 4800,
        "xaxis": {
         "anchor": "y",
         "domain": [
          0,
          0.015625
         ]
        },
        "xaxis10": {
         "anchor": "y10",
         "domain": [
          0.590625,
          0.60625
         ]
        },
        "xaxis11": {
         "anchor": "y11",
         "domain": [
          0.65625,
          0.671875
         ]
        },
        "xaxis12": {
         "anchor": "y12",
         "domain": [
          0.721875,
          0.7375
         ]
        },
        "xaxis13": {
         "anchor": "y13",
         "domain": [
          0.7875000000000001,
          0.8031250000000001
         ]
        },
        "xaxis14": {
         "anchor": "y14",
         "domain": [
          0.853125,
          0.86875
         ]
        },
        "xaxis15": {
         "anchor": "y15",
         "domain": [
          0.9187500000000001,
          0.9343750000000001
         ]
        },
        "xaxis16": {
         "anchor": "y16",
         "domain": [
          0.984375,
          1
         ]
        },
        "xaxis2": {
         "anchor": "y2",
         "domain": [
          0.065625,
          0.08125
         ]
        },
        "xaxis3": {
         "anchor": "y3",
         "domain": [
          0.13125,
          0.146875
         ]
        },
        "xaxis4": {
         "anchor": "y4",
         "domain": [
          0.19687500000000002,
          0.21250000000000002
         ]
        },
        "xaxis5": {
         "anchor": "y5",
         "domain": [
          0.2625,
          0.278125
         ]
        },
        "xaxis6": {
         "anchor": "y6",
         "domain": [
          0.328125,
          0.34375
         ]
        },
        "xaxis7": {
         "anchor": "y7",
         "domain": [
          0.39375000000000004,
          0.40937500000000004
         ]
        },
        "xaxis8": {
         "anchor": "y8",
         "domain": [
          0.45937500000000003,
          0.47500000000000003
         ]
        },
        "xaxis9": {
         "anchor": "y9",
         "domain": [
          0.525,
          0.540625
         ]
        },
        "yaxis": {
         "anchor": "x",
         "domain": [
          0,
          1
         ],
         "zeroline": false
        },
        "yaxis10": {
         "anchor": "x10",
         "domain": [
          0,
          1
         ],
         "zeroline": false
        },
        "yaxis11": {
         "anchor": "x11",
         "domain": [
          0,
          1
         ],
         "zeroline": false
        },
        "yaxis12": {
         "anchor": "x12",
         "domain": [
          0,
          1
         ],
         "zeroline": false
        },
        "yaxis13": {
         "anchor": "x13",
         "domain": [
          0,
          1
         ],
         "zeroline": false
        },
        "yaxis14": {
         "anchor": "x14",
         "domain": [
          0,
          1
         ],
         "zeroline": false
        },
        "yaxis15": {
         "anchor": "x15",
         "domain": [
          0,
          1
         ],
         "zeroline": false
        },
        "yaxis16": {
         "anchor": "x16",
         "domain": [
          0,
          1
         ],
         "zeroline": false
        },
        "yaxis2": {
         "anchor": "x2",
         "domain": [
          0,
          1
         ],
         "zeroline": false
        },
        "yaxis3": {
         "anchor": "x3",
         "domain": [
          0,
          1
         ],
         "zeroline": false
        },
        "yaxis4": {
         "anchor": "x4",
         "domain": [
          0,
          1
         ],
         "zeroline": false
        },
        "yaxis5": {
         "anchor": "x5",
         "domain": [
          0,
          1
         ],
         "zeroline": false
        },
        "yaxis6": {
         "anchor": "x6",
         "domain": [
          0,
          1
         ],
         "zeroline": false
        },
        "yaxis7": {
         "anchor": "x7",
         "domain": [
          0,
          1
         ],
         "zeroline": false
        },
        "yaxis8": {
         "anchor": "x8",
         "domain": [
          0,
          1
         ],
         "zeroline": false
        },
        "yaxis9": {
         "anchor": "x9",
         "domain": [
          0,
          1
         ],
         "zeroline": false
        }
       }
      }
     },
     "metadata": {},
     "output_type": "display_data"
    }
   ],
   "source": [
    "plot_boxplots(df, df.columns)"
   ]
  },
  {
   "cell_type": "markdown",
   "id": "a703ba75",
   "metadata": {},
   "source": [
    "Given the presence of outliers and the small size of the dataset, the best approach is to incorporate the Robust Scaler into the model's pipeline."
   ]
  },
  {
   "cell_type": "markdown",
   "id": "9236cefb",
   "metadata": {},
   "source": [
    "#### Correlations"
   ]
  },
  {
   "cell_type": "code",
   "execution_count": 21,
   "id": "24949271",
   "metadata": {},
   "outputs": [
    {
     "name": "stderr",
     "output_type": "stream",
     "text": [
      "c:\\Users\\JAC\\Anaconda3\\lib\\site-packages\\seaborn\\_oldcore.py:1498: DeprecationWarning:\n",
      "\n",
      "is_categorical_dtype is deprecated and will be removed in a future version. Use isinstance(dtype, pd.CategoricalDtype) instead\n",
      "\n",
      "c:\\Users\\JAC\\Anaconda3\\lib\\site-packages\\seaborn\\_oldcore.py:1498: DeprecationWarning:\n",
      "\n",
      "is_categorical_dtype is deprecated and will be removed in a future version. Use isinstance(dtype, pd.CategoricalDtype) instead\n",
      "\n",
      "c:\\Users\\JAC\\Anaconda3\\lib\\site-packages\\seaborn\\_oldcore.py:1498: DeprecationWarning:\n",
      "\n",
      "is_categorical_dtype is deprecated and will be removed in a future version. Use isinstance(dtype, pd.CategoricalDtype) instead\n",
      "\n",
      "c:\\Users\\JAC\\Anaconda3\\lib\\site-packages\\seaborn\\_oldcore.py:1498: DeprecationWarning:\n",
      "\n",
      "is_categorical_dtype is deprecated and will be removed in a future version. Use isinstance(dtype, pd.CategoricalDtype) instead\n",
      "\n",
      "c:\\Users\\JAC\\Anaconda3\\lib\\site-packages\\seaborn\\_oldcore.py:1498: DeprecationWarning:\n",
      "\n",
      "is_categorical_dtype is deprecated and will be removed in a future version. Use isinstance(dtype, pd.CategoricalDtype) instead\n",
      "\n",
      "c:\\Users\\JAC\\Anaconda3\\lib\\site-packages\\seaborn\\_oldcore.py:1498: DeprecationWarning:\n",
      "\n",
      "is_categorical_dtype is deprecated and will be removed in a future version. Use isinstance(dtype, pd.CategoricalDtype) instead\n",
      "\n",
      "c:\\Users\\JAC\\Anaconda3\\lib\\site-packages\\seaborn\\_oldcore.py:1498: DeprecationWarning:\n",
      "\n",
      "is_categorical_dtype is deprecated and will be removed in a future version. Use isinstance(dtype, pd.CategoricalDtype) instead\n",
      "\n",
      "c:\\Users\\JAC\\Anaconda3\\lib\\site-packages\\seaborn\\_oldcore.py:1498: DeprecationWarning:\n",
      "\n",
      "is_categorical_dtype is deprecated and will be removed in a future version. Use isinstance(dtype, pd.CategoricalDtype) instead\n",
      "\n",
      "c:\\Users\\JAC\\Anaconda3\\lib\\site-packages\\seaborn\\_oldcore.py:1498: DeprecationWarning:\n",
      "\n",
      "is_categorical_dtype is deprecated and will be removed in a future version. Use isinstance(dtype, pd.CategoricalDtype) instead\n",
      "\n",
      "c:\\Users\\JAC\\Anaconda3\\lib\\site-packages\\seaborn\\_oldcore.py:1498: DeprecationWarning:\n",
      "\n",
      "is_categorical_dtype is deprecated and will be removed in a future version. Use isinstance(dtype, pd.CategoricalDtype) instead\n",
      "\n",
      "c:\\Users\\JAC\\Anaconda3\\lib\\site-packages\\seaborn\\_oldcore.py:1498: DeprecationWarning:\n",
      "\n",
      "is_categorical_dtype is deprecated and will be removed in a future version. Use isinstance(dtype, pd.CategoricalDtype) instead\n",
      "\n",
      "c:\\Users\\JAC\\Anaconda3\\lib\\site-packages\\seaborn\\_oldcore.py:1498: DeprecationWarning:\n",
      "\n",
      "is_categorical_dtype is deprecated and will be removed in a future version. Use isinstance(dtype, pd.CategoricalDtype) instead\n",
      "\n",
      "c:\\Users\\JAC\\Anaconda3\\lib\\site-packages\\seaborn\\_oldcore.py:1498: DeprecationWarning:\n",
      "\n",
      "is_categorical_dtype is deprecated and will be removed in a future version. Use isinstance(dtype, pd.CategoricalDtype) instead\n",
      "\n",
      "c:\\Users\\JAC\\Anaconda3\\lib\\site-packages\\seaborn\\_oldcore.py:1498: DeprecationWarning:\n",
      "\n",
      "is_categorical_dtype is deprecated and will be removed in a future version. Use isinstance(dtype, pd.CategoricalDtype) instead\n",
      "\n",
      "c:\\Users\\JAC\\Anaconda3\\lib\\site-packages\\seaborn\\_oldcore.py:1498: DeprecationWarning:\n",
      "\n",
      "is_categorical_dtype is deprecated and will be removed in a future version. Use isinstance(dtype, pd.CategoricalDtype) instead\n",
      "\n",
      "c:\\Users\\JAC\\Anaconda3\\lib\\site-packages\\seaborn\\_oldcore.py:1498: DeprecationWarning:\n",
      "\n",
      "is_categorical_dtype is deprecated and will be removed in a future version. Use isinstance(dtype, pd.CategoricalDtype) instead\n",
      "\n",
      "c:\\Users\\JAC\\Anaconda3\\lib\\site-packages\\seaborn\\_oldcore.py:1498: DeprecationWarning:\n",
      "\n",
      "is_categorical_dtype is deprecated and will be removed in a future version. Use isinstance(dtype, pd.CategoricalDtype) instead\n",
      "\n",
      "c:\\Users\\JAC\\Anaconda3\\lib\\site-packages\\seaborn\\_oldcore.py:1498: DeprecationWarning:\n",
      "\n",
      "is_categorical_dtype is deprecated and will be removed in a future version. Use isinstance(dtype, pd.CategoricalDtype) instead\n",
      "\n"
     ]
    },
    {
     "data": {
      "image/png": "[encoded data removed]",
      "text/plain": [
       "<Figure size 2000x1500 with 9 Axes>"
      ]
     },
     "metadata": {},
     "output_type": "display_data"
    },
    {
     "name": "stdout",
     "output_type": "stream",
     "text": [
      "Correlations with crude_protein:\n"
     ]
    },
    {
     "data": {
      "text/html": [
       "<style type=\"text/css\">\n",
       "#T_45507_row0_col0 {\n",
       "  background-color: #d4efec;\n",
       "  color: #000000;\n",
       "}\n",
       "#T_45507_row0_col1 {\n",
       "  background-color: #d8f0ef;\n",
       "  color: #000000;\n",
       "}\n",
       "#T_45507_row1_col0 {\n",
       "  background-color: #208843;\n",
       "  color: #f1f1f1;\n",
       "}\n",
       "#T_45507_row1_col1 {\n",
       "  background-color: #2b9452;\n",
       "  color: #f1f1f1;\n",
       "}\n",
       "#T_45507_row2_col0, #T_45507_row3_col0 {\n",
       "  background-color: #218944;\n",
       "  color: #f1f1f1;\n",
       "}\n",
       "#T_45507_row2_col1, #T_45507_row3_col1 {\n",
       "  background-color: #27904c;\n",
       "  color: #f1f1f1;\n",
       "}\n",
       "#T_45507_row4_col0 {\n",
       "  background-color: #238b45;\n",
       "  color: #f1f1f1;\n",
       "}\n",
       "#T_45507_row4_col1 {\n",
       "  background-color: #29924f;\n",
       "  color: #f1f1f1;\n",
       "}\n",
       "#T_45507_row5_col0 {\n",
       "  background-color: #248c47;\n",
       "  color: #f1f1f1;\n",
       "}\n",
       "#T_45507_row5_col1 {\n",
       "  background-color: #319c5c;\n",
       "  color: #f1f1f1;\n",
       "}\n",
       "#T_45507_row6_col0 {\n",
       "  background-color: #8dd3c0;\n",
       "  color: #000000;\n",
       "}\n",
       "#T_45507_row6_col1 {\n",
       "  background-color: #7acbb3;\n",
       "  color: #000000;\n",
       "}\n",
       "#T_45507_row7_col0 {\n",
       "  background-color: #4fb688;\n",
       "  color: #f1f1f1;\n",
       "}\n",
       "#T_45507_row7_col1 {\n",
       "  background-color: #47b17e;\n",
       "  color: #f1f1f1;\n",
       "}\n",
       "#T_45507_row8_col0 {\n",
       "  background-color: #51b689;\n",
       "  color: #f1f1f1;\n",
       "}\n",
       "#T_45507_row8_col1 {\n",
       "  background-color: #54b88e;\n",
       "  color: #f1f1f1;\n",
       "}\n",
       "#T_45507_row9_col0 {\n",
       "  background-color: #52b78b;\n",
       "  color: #f1f1f1;\n",
       "}\n",
       "#T_45507_row9_col1 {\n",
       "  background-color: #5dbd99;\n",
       "  color: #000000;\n",
       "}\n",
       "#T_45507_row10_col0 {\n",
       "  background-color: #55b98f;\n",
       "  color: #f1f1f1;\n",
       "}\n",
       "#T_45507_row10_col1 {\n",
       "  background-color: #4db585;\n",
       "  color: #f1f1f1;\n",
       "}\n",
       "#T_45507_row11_col0 {\n",
       "  background-color: #59bb93;\n",
       "  color: #f1f1f1;\n",
       "}\n",
       "#T_45507_row11_col1 {\n",
       "  background-color: #5cbd98;\n",
       "  color: #f1f1f1;\n",
       "}\n",
       "#T_45507_row12_col0 {\n",
       "  background-color: #5bbc96;\n",
       "  color: #f1f1f1;\n",
       "}\n",
       "#T_45507_row12_col1 {\n",
       "  background-color: #67c2a5;\n",
       "  color: #000000;\n",
       "}\n",
       "#T_45507_row13_col0 {\n",
       "  background-color: #6dc5a9;\n",
       "  color: #000000;\n",
       "}\n",
       "#T_45507_row13_col1 {\n",
       "  background-color: #6ac4a7;\n",
       "  color: #000000;\n",
       "}\n",
       "</style>\n",
       "<table id=\"T_45507\">\n",
       "  <thead>\n",
       "    <tr>\n",
       "      <th class=\"blank level0\" >&nbsp;</th>\n",
       "      <th id=\"T_45507_level0_col0\" class=\"col_heading level0 col0\" >spearman</th>\n",
       "      <th id=\"T_45507_level0_col1\" class=\"col_heading level0 col1\" >pearson</th>\n",
       "    </tr>\n",
       "    <tr>\n",
       "      <th class=\"index_name level0\" >feature</th>\n",
       "      <th class=\"blank col0\" >&nbsp;</th>\n",
       "      <th class=\"blank col1\" >&nbsp;</th>\n",
       "    </tr>\n",
       "  </thead>\n",
       "  <tbody>\n",
       "    <tr>\n",
       "      <th id=\"T_45507_level0_row0\" class=\"row_heading level0 row0\" >ether_extract</th>\n",
       "      <td id=\"T_45507_row0_col0\" class=\"data row0 col0\" >-0.582762</td>\n",
       "      <td id=\"T_45507_row0_col1\" class=\"data row0 col1\" >-0.612023</td>\n",
       "    </tr>\n",
       "    <tr>\n",
       "      <th id=\"T_45507_level0_row1\" class=\"row_heading level0 row1\" >weight</th>\n",
       "      <td id=\"T_45507_row1_col0\" class=\"data row1 col0\" >0.519340</td>\n",
       "      <td id=\"T_45507_row1_col1\" class=\"data row1 col1\" >0.435335</td>\n",
       "    </tr>\n",
       "    <tr>\n",
       "      <th id=\"T_45507_level0_row2\" class=\"row_heading level0 row2\" >cold_carcass_weight</th>\n",
       "      <td id=\"T_45507_row2_col0\" class=\"data row2 col0\" >0.509838</td>\n",
       "      <td id=\"T_45507_row2_col1\" class=\"data row2 col1\" >0.467681</td>\n",
       "    </tr>\n",
       "    <tr>\n",
       "      <th id=\"T_45507_level0_row3\" class=\"row_heading level0 row3\" >hot_carcass_weight</th>\n",
       "      <td id=\"T_45507_row3_col0\" class=\"data row3 col0\" >0.508193</td>\n",
       "      <td id=\"T_45507_row3_col1\" class=\"data row3 col1\" >0.466773</td>\n",
       "    </tr>\n",
       "    <tr>\n",
       "      <th id=\"T_45507_level0_row4\" class=\"row_heading level0 row4\" >carcass_weight_with_head_and_legs</th>\n",
       "      <td id=\"T_45507_row4_col0\" class=\"data row4 col0\" >0.498589</td>\n",
       "      <td id=\"T_45507_row4_col1\" class=\"data row4 col1\" >0.446827</td>\n",
       "    </tr>\n",
       "    <tr>\n",
       "      <th id=\"T_45507_level0_row5\" class=\"row_heading level0 row5\" >thigh_weight</th>\n",
       "      <td id=\"T_45507_row5_col0\" class=\"data row5 col0\" >0.485786</td>\n",
       "      <td id=\"T_45507_row5_col1\" class=\"data row5 col1\" >0.379469</td>\n",
       "    </tr>\n",
       "    <tr>\n",
       "      <th id=\"T_45507_level0_row6\" class=\"row_heading level0 row6\" >empty_muscular_stomach_bin</th>\n",
       "      <td id=\"T_45507_row6_col0\" class=\"data row6 col0\" >-0.190323</td>\n",
       "      <td id=\"T_45507_row6_col1\" class=\"data row6 col1\" >-0.101427</td>\n",
       "    </tr>\n",
       "    <tr>\n",
       "      <th id=\"T_45507_level0_row7\" class=\"row_heading level0 row7\" >heart</th>\n",
       "      <td id=\"T_45507_row7_col0\" class=\"data row7 col0\" >0.153040</td>\n",
       "      <td id=\"T_45507_row7_col1\" class=\"data row7 col1\" >0.205162</td>\n",
       "    </tr>\n",
       "    <tr>\n",
       "      <th id=\"T_45507_level0_row8\" class=\"row_heading level0 row8\" >liver</th>\n",
       "      <td id=\"T_45507_row8_col0\" class=\"data row8 col0\" >0.145050</td>\n",
       "      <td id=\"T_45507_row8_col1\" class=\"data row8 col1\" >0.123440</td>\n",
       "    </tr>\n",
       "    <tr>\n",
       "      <th id=\"T_45507_level0_row9\" class=\"row_heading level0 row9\" >breast_weight</th>\n",
       "      <td id=\"T_45507_row9_col0\" class=\"data row9 col0\" >0.134438</td>\n",
       "      <td id=\"T_45507_row9_col1\" class=\"data row9 col1\" >0.059441</td>\n",
       "    </tr>\n",
       "    <tr>\n",
       "      <th id=\"T_45507_level0_row10\" class=\"row_heading level0 row10\" >empty_muscular_stomach_float</th>\n",
       "      <td id=\"T_45507_row10_col0\" class=\"data row10 col0\" >0.113200</td>\n",
       "      <td id=\"T_45507_row10_col1\" class=\"data row10 col1\" >0.170888</td>\n",
       "    </tr>\n",
       "    <tr>\n",
       "      <th id=\"T_45507_level0_row11\" class=\"row_heading level0 row11\" >spleen</th>\n",
       "      <td id=\"T_45507_row11_col0\" class=\"data row11 col0\" >0.090275</td>\n",
       "      <td id=\"T_45507_row11_col1\" class=\"data row11 col1\" >0.068333</td>\n",
       "    </tr>\n",
       "    <tr>\n",
       "      <th id=\"T_45507_level0_row12\" class=\"row_heading level0 row12\" >intestine</th>\n",
       "      <td id=\"T_45507_row12_col0\" class=\"data row12 col0\" >0.073427</td>\n",
       "      <td id=\"T_45507_row12_col1\" class=\"data row12 col1\" >-0.007255</td>\n",
       "    </tr>\n",
       "    <tr>\n",
       "      <th id=\"T_45507_level0_row13\" class=\"row_heading level0 row13\" >glandular_stomach</th>\n",
       "      <td id=\"T_45507_row13_col0\" class=\"data row13 col0\" >-0.032895</td>\n",
       "      <td id=\"T_45507_row13_col1\" class=\"data row13 col1\" >-0.021580</td>\n",
       "    </tr>\n",
       "  </tbody>\n",
       "</table>\n"
      ],
      "text/plain": [
       "<pandas.io.formats.style.Styler at 0x1dd39bfef50>"
      ]
     },
     "metadata": {},
     "output_type": "display_data"
    }
   ],
   "source": [
    "#code adapted from previous work\n",
    "\n",
    "# correlations with crude_protein\n",
    "target = 'crude_protein'\n",
    "numeric_cols = df.select_dtypes(include=['number']).columns\n",
    "features = [col for col in numeric_cols if col != target] \n",
    "\n",
    "# both correlation types\n",
    "corr_data = df[features + [target]]  # Note: target needs to be in a list\n",
    "spearman_corr = corr_data.corr(method='spearman')[target]\n",
    "pearson_corr = corr_data.corr(method='pearson')[target]\n",
    "\n",
    "# Combine into a DataFrame for easier analysis\n",
    "corr_df = pd.DataFrame({\n",
    "    'feature': features,\n",
    "    'spearman': spearman_corr[features],\n",
    "    'pearson': pearson_corr[features]\n",
    "}).sort_values(by='spearman', key=abs, ascending=False)\n",
    "\n",
    "# Set threshold (adjust as needed)\n",
    "threshold = 0.15\n",
    "significant_features = corr_df[(abs(corr_df['spearman']) >= threshold) | \n",
    "                             (abs(corr_df['pearson']) >= threshold)]\n",
    "\n",
    "# Plot settings\n",
    "num_features = len(significant_features)\n",
    "num_cols = 3\n",
    "num_rows = (num_features + num_cols - 1) // num_cols\n",
    "fig, axes = plt.subplots(num_rows, num_cols, figsize=(20, 5*num_rows))\n",
    "if num_features > 0:  # Only proceed if there are significant features\n",
    "    if num_rows == 1:\n",
    "        axes = axes.reshape(1, -1)  # Ensure axes is always 2D\n",
    "\n",
    "    # Plot each significant feature against target\n",
    "    for i, (_, row) in enumerate(significant_features.iterrows()):\n",
    "        ax = axes[i//num_cols, i%num_cols]\n",
    "        feature = row['feature']\n",
    "        \n",
    "        # Scatterplot\n",
    "        sns.scatterplot(x=df[feature], y=df[target], ax=ax, color='mediumseagreen', alpha=0.6)\n",
    "        \n",
    "        # Regression line if possible\n",
    "        if df[feature].nunique() > 1:\n",
    "            try:\n",
    "                sns.regplot(x=df[feature], y=df[target], ax=ax, \n",
    "                            scatter=False, color='red', line_kws={'linewidth':2})\n",
    "            except:\n",
    "                pass\n",
    "        \n",
    "        # Add correlation info to title\n",
    "        ax.set_title(f\"{feature}\\nSpearman: {row['spearman']:.2f} | Pearson: {row['pearson']:.2f}\")\n",
    "        ax.set_xlabel('')\n",
    "        ax.set_ylabel('crude_protein')\n",
    "\n",
    "    # Hide empty subplots\n",
    "    for j in range(i+1, num_rows*num_cols):\n",
    "        fig.delaxes(axes.flatten()[j])\n",
    "\n",
    "    plt.tight_layout()\n",
    "    plt.show()\n",
    "\n",
    "    # Show correlation table\n",
    "    corr_df = corr_df.set_index('feature')\n",
    "    print(\"Correlations with crude_protein:\")\n",
    "    display(corr_df.style.background_gradient(cmap='BuGn', vmin=-1, vmax=1))\n",
    "else:\n",
    "    print(f\"No features found with correlation >= {threshold}\")"
   ]
  },
  {
   "cell_type": "markdown",
   "id": "2b3ab7b6",
   "metadata": {},
   "source": [
    "When  picking features for modeling, it's crucial to give a special focus on those that have the strongest correlation with the target variable, since they tend to boost predictive performance the most.\n",
    "\n",
    "In this scenario, features like ether_extract, weight, cold_carcass_weight, hot_carcass_weight, carcass_weight_with_head_and_legs, and thigh_weight stand out with the highest correlation to the target, making them key candidates for inclusion. \n",
    "\n",
    "But just because a feature has a high correlation doesn’t mean thy are useless, features that might seem less significant on their own—like heart, liver, or breast_weight—can still bring value when paired with others, especially in non-linear models or when considering interaction effects. So, while the strongest features lay a solid groundwork, it’s wise not to overlook the weaker ones too quickly without doing some additional testing in the modeling process."
   ]
  },
  {
   "cell_type": "code",
   "execution_count": 22,
   "id": "abd66ccc",
   "metadata": {},
   "outputs": [
    {
     "data": {
      "image/png": "[encoded data removed]",
      "text/plain": [
       "<Figure size 1200x800 with 2 Axes>"
      ]
     },
     "metadata": {},
     "output_type": "display_data"
    }
   ],
   "source": [
    "corr = df[features].corr().round(2)\n",
    "fig = plt.figure(figsize=(12, 8))\n",
    "\n",
    "# annotation matrix - values above |0.3| will appear in the plot\n",
    "mask_annot = np.absolute(corr.values) >= 0.3\n",
    "annot = np.where(mask_annot, corr.values, np.full(corr.shape, ''))\n",
    "sns.heatmap(data = corr, annot = annot, cmap = 'BuGn', fmt = 's', vmin = -1, vmax = 1, center = 0, square = True, linewidths = 0, annot_kws = {'size': 12})\n",
    "\n",
    "fig.subplots_adjust(top = 0.95)\n",
    "fig.suptitle('Final Correlation matrix');"
   ]
  },
  {
   "cell_type": "markdown",
   "id": "2790f27e",
   "metadata": {},
   "source": [
    "The correlation matrix reveals some strong linear relationships among various variables, which points to possible redundancy in the dataset:\n",
    "\n",
    "- For example, weight, hot_carcass_weight, carcass_weight_with_head_and_legs, and cold_carcass_weight are all highly correlated with each other, with values ranging from 0.94 to 0.98, very high. This indicates that including all four in a model or analysis could lead to multicollinearity issues.\n",
    "\n",
    "- So, to simplify, we might want to keep just one representative variable—like hot_carcass_weight—and leave the others out.. Similarly, thigh_weight has a strong correlation with the carcass weights (up to 0.77), suggesting it could also be somewhat redundant if we already have carcass weight in the mix.\n",
    "\n"
   ]
  },
  {
   "cell_type": "markdown",
   "id": "2b9dd0d4",
   "metadata": {},
   "source": [
    "We are going to keep `empty_muscular_stomach_bin` since it has a better correlation witht the target."
   ]
  },
  {
   "cell_type": "code",
   "execution_count": 23,
   "id": "7e57862a",
   "metadata": {},
   "outputs": [],
   "source": [
    "df['empty_muscular_stomach'] = df['empty_muscular_stomach_bin'] "
   ]
  },
  {
   "cell_type": "code",
   "execution_count": 24,
   "id": "ca4bc978",
   "metadata": {},
   "outputs": [],
   "source": [
    "df = df.drop(columns=['empty_muscular_stomach_float', 'empty_muscular_stomach_bin'])"
   ]
  },
  {
   "cell_type": "markdown",
   "id": "ff3534d5",
   "metadata": {},
   "source": [
    "`IMPORTANT:`the project description spcifically says \"predict the crude protein weight using the remaining features in the dataset, excluding the animal ID.\" so we corrected the `empty_muscular_stomach` but we will not perform feature selection at this stage, basically we ll have this initial approach were we will test the models with all the features. If futher instructions state otherwise we will follow the analysis above."
   ]
  },
  {
   "cell_type": "markdown",
   "id": "d8214f95",
   "metadata": {},
   "source": [
    "### <a id=\"method-selection\"></a> \n",
    "<div style=\"background-color: hsla(120, 71.40%, 43.90%, 0.30); padding: 10px; border-radius: 8px; text-align: center; margin-top: 20px; margin-bottom: 20px;\">\n",
    "    <h3 style=\"color: white; margin: 0;\">Choosing the method and parameters for each model</h3>\n",
    "</div>\n",
    "\n",
    "[Back to Index](#idx)"
   ]
  },
  {
   "cell_type": "markdown",
   "id": "da7aae71",
   "metadata": {},
   "source": [
    "- [1. Nested cross-validation vs. Monte Carlo cross-validation](#method) \n",
    "- [2. Genetic Programming (GP)](#gp) - Delivery 1 (Done)\n",
    "- [3. Geometric Semantic Geometric Programming (GSGP)](#gsgp) - Delivery 2 (Done)\n",
    "- [4. Semantic Learning algorithm with Inflate and deflate Mutations (SLIM)](#slim) - Delivery 3 (Done)\n",
    "- [5. Neural Network (NN)](#nn)\n",
    "- [6. NeuroEvolution of Augmenting Topologies (NEAT)](#neat)"
   ]
  },
  {
   "cell_type": "markdown",
   "id": "6b4f622f",
   "metadata": {},
   "source": [
    "#### <a id=\"method\"></a> \n",
    "<div style=\"background-color: hsla(120, 71.40%, 43.90%, 0.30); padding: 10px; border-radius: 8px; text-align: left; margin-top: 20px; margin-bottom: 20px;\">\n",
    "    <h4 style=\"color: white; margin: 0;\">1. Nested cross-validation vs. Monte Carlo cross-validatio</h4>\n",
    "</div>\n",
    "\n",
    "[Back to Index](#idx)"
   ]
  },
  {
   "cell_type": "markdown",
   "id": "e3c7d5c0",
   "metadata": {},
   "source": [
    "In this project, we opted for **nested cross-validation (nested CV)** as our dataset partitioning strategy for both model selection (hyperparameter tuning) and performance evaluation.\n",
    "\n",
    "This decision was based on the following considerations:\n",
    "\n",
    "1. **Final Comparative Evaluation Across Algorithms**  \n",
    "   At the end of the project, _\"the same partitions should be used across all the algorithms to be studied\"_, we will compare Genetic Programming (GP) and Geometric Semantic Genetic Programming (GSGP) and other machine learning algorithms.  \n",
    "   To ensure a **fair and unbiased comparison**, the **same dataset partitions** must be used across all algorithms (are all evaluated under the same conditions basically) - Nested CV provides a systematic and reproducible way to maintain this consistency.\n",
    "\n",
    "2. **Separation of Concerns: Tuning vs. Evaluation**  \n",
    "   Nested CV explicitly separates the hyperparameter optimization (inner loop) from the model evaluation (outer loop).  \n",
    "   This avoids **information leakage** and reduces the risk of **overfitting during model selection**, which is particularly relevant for algorithms like GP that are prone to overfitting and premature convergence.\n",
    "   \"the advantage of doing several iterations in cross-validation is that it allows us to obtain an error estimate that is not dependent on a single data splitting and a particular choice of the training data\"_ (Vanneschi & Silva, Sec. 5.3, p.130). Nested CV extends this robustness by adding an inner loop for model selection, which further reduces the risk of biased or optimistic performance estimation.\n",
    "\n",
    "3. **Avoiding Pitfalls of Monte Carlo CV in This Context**\n",
    "   Although Monte Carlo cross-validation (or repeated random subsampling) can be viewd as an alternative (Vanneschi & Silva, p.130-131), it comes with a notable limitation: _\"some observations may never be selected for the test set, while others will be selected more than once\"_. In this project, where a **comparative and reproducible evaluation across multiple algorithms is required**, this irregularity makes Monte Carlo CV less appropriate than nested CV.  Using a **K-Fold outer loop** (e.g., `K=10`) ensures that every instance in the dataset is used for testing exactly once, and for training K-1 times, and combined with an **inner K-Fold** (e.g., `K=5`) for tuning, this strategy enables robust **statistical comparisons** (e.g., Wilcoxon tests, Friedman + Nemenyi post-hoc), which are essential to draw valid conclusions about performance differences between models.\n",
    "\n",
    "   The  different CV strategies may be appropriate for different phases: _\"it may make sense to use 5-fold or 10-fold cross-validation for choosing the method and parameters (...) and then use Monte Carlo (...) for a thorough estimation of the error\"_ (p.131).  \n",
    "   However, since our pipeline includes both tuning and evaluation as part of the **same CV process**, and comparison across methods is the final goal, we apply nested CV consistently for both.\n",
    "\n",
    "4. Despite the relatively small size of our dataset (96 instances), we argue that nested cross-validation remains a justified choice. As pointed out by Vanneschi & Silva (Section 5.3), the reliability of performance estimation is a crucial concern when data is scarce. Nested CV is particularly effective in avoiding overfitting during hyperparameter tuning, which becomes even more critical under these circumstances.\n",
    "\n",
    "The training and test sets generated in each fold still preserve enough data to fit and evaluate meaningful models. Moreover, since the dataset is small, the computational overhead introduced by nested CV is negligible.\n",
    "\n",
    "In summary, while some may consider using Monte Carlo cross-validation to reduce computational cost or avoid small folds, the benefits of using nested cross-validation — particularly in terms of fair model selection and unbiased generalization error estimation — outweigh the drawbacks, especially when working with limited data.\n"
   ]
  },
  {
   "cell_type": "code",
   "execution_count": 25,
   "id": "5f4ef174",
   "metadata": {},
   "outputs": [],
   "source": [
    "target = 'crude_protein'\n",
    "X = df.drop(columns=[target])\n",
    "y = df[target]"
   ]
  },
  {
   "cell_type": "code",
   "execution_count": 26,
   "id": "b0b16aec",
   "metadata": {},
   "outputs": [
    {
     "name": "stdout",
     "output_type": "stream",
     "text": [
      "Total Instances:\t96\n",
      "--\n",
      "Outer Train set:\t77\n",
      "Test set:\t\t19\n",
      "--\n",
      "Inner Train set:\t52\n",
      "Validation set:\t\t25\n",
      "\n"
     ]
    }
   ],
   "source": [
    "k_outer = 5\n",
    "k_inner = 3\n",
    "# https://scikit-learn.org/stable/modules/generated/sklearn.model_selection.KFold.html\n",
    "outer_cv = KFold(n_splits=k_outer, shuffle=True, random_state=seed)\n",
    "inner_cv = KFold(n_splits=k_inner, shuffle=True, random_state=seed)\n",
    "\n",
    "total_instances = X.shape[0]\n",
    "outer_test_size = total_instances // k_outer\n",
    "outer_train_size = total_instances - outer_test_size\n",
    "inner_val_size = outer_train_size // k_inner\n",
    "inner_train_size = outer_train_size - inner_val_size\n",
    "\n",
    "print(f'Total Instances:\\t{total_instances}\\n--')\n",
    "print(f'Outer Train set:\\t{outer_train_size}')\n",
    "print(f'Test set:\\t\\t{outer_test_size}\\n--')\n",
    "print(f'Inner Train set:\\t{inner_train_size}')\n",
    "print(f'Validation set:\\t\\t{inner_val_size}\\n')"
   ]
  },
  {
   "cell_type": "markdown",
   "id": "43374ba8",
   "metadata": {},
   "source": [
    "- Dataset size: 96 samples -> GP can overfit easily on small data if trees get too big or the population too complex"
   ]
  },
  {
   "cell_type": "code",
   "execution_count": 27,
   "id": "197d249a",
   "metadata": {},
   "outputs": [],
   "source": [
    "# ===================== Nested CV Generator =====================\n",
    "def nested_cv_generator(X, y, k_outer=10, k_inner=3, random_state=None):\n",
    "    \"\"\" https://machinelearningmastery.com/nested-cross-validation-for-machine-learning-with-python/\"\"\"\n",
    "    outer_cv = KFold(n_splits=k_outer, shuffle=True, random_state=random_state)\n",
    "    for outer_train_idx, outer_test_idx in outer_cv.split(X):\n",
    "        X_outer_train = X.iloc[outer_train_idx].reset_index(drop=True)\n",
    "        y_outer_train = y.iloc[outer_train_idx].reset_index(drop=True)\n",
    "        X_test = X.iloc[outer_test_idx].reset_index(drop=True)\n",
    "        y_test = y.iloc[outer_test_idx].reset_index(drop=True)\n",
    "\n",
    "        inner_cv = KFold(n_splits=k_inner, shuffle=True, random_state=random_state)\n",
    "        inner_splits = list(inner_cv.split(X_outer_train))\n",
    "\n",
    "        yield {\n",
    "            'X_outer_train': X_outer_train,\n",
    "            'y_outer_train': y_outer_train,\n",
    "            'X_test': X_test,\n",
    "            'y_test': y_test,\n",
    "            'inner_splits': inner_splits,\n",
    "        }"
   ]
  },
  {
   "cell_type": "markdown",
   "id": "dfb3099b",
   "metadata": {},
   "source": [
    "#### <a id=\"gp\"></a> \n",
    "<div style=\"background-color: hsla(120, 71.40%, 43.90%, 0.30); padding: 10px; border-radius: 8px; text-align: left; margin-top: 20px; margin-bottom: 20px;\">\n",
    "    <h4 style=\"color: white; margin: 0;\">2. Genetic Programming (GP)</h4>\n",
    "</div>\n",
    "\n",
    "[Back to Index](#idx)"
   ]
  },
  {
   "cell_type": "raw",
   "id": "8e6e92fa",
   "metadata": {
    "vscode": {
     "languageId": "raw"
    }
   },
   "source": [
    "# ========== Safe Inverse Transform ========== #\n",
    "def safe_inverse_transform(scaler, y):\n",
    "    if y.ndim == 1:\n",
    "        y = y.reshape(-1, 1)\n",
    "    return scaler.inverse_transform(y).flatten()"
   ]
  },
  {
   "cell_type": "markdown",
   "id": "6c5434d1",
   "metadata": {},
   "source": [
    "> since this delivery i about GP we will keep this massive code in here to be easier to evaluate but in the final project we will do it in python file and import the function (if its ok of course) to make the notebook cleaner"
   ]
  },
  {
   "cell_type": "raw",
   "id": "2b36b372",
   "metadata": {
    "vscode": {
     "languageId": "raw"
    }
   },
   "source": [
    "def nested_cv_gp_slim_gsgp(\n",
    "    X, y, param_grid, k_outer=5, k_inner=3, dataset_name=\"Chicken\", gp_class=None, seed=42, alpha_sig=0.05\n",
    "):\n",
    "    X = X.reset_index(drop=True)\n",
    "    y = y.reset_index(drop=True)\n",
    "    outer_scores = []\n",
    "    best_grid_models = []\n",
    "    validation_results = []  # This will store detailed results for analysis\n",
    "    detailed_results = []  # New: will store all fold results for all configs\n",
    "\n",
    "    os.makedirs(\"./log/GP/\", exist_ok=True)\n",
    "\n",
    "    keys, values = zip(*param_grid.items())\n",
    "    param_combos = [dict(zip(keys, v)) for v in product(*values)]\n",
    "\n",
    "    for fold_idx, fold_data in enumerate(nested_cv_generator(X, y, k_outer=k_outer, k_inner=k_inner, random_state=seed)):\n",
    "        print(f\"\\n========== OUTER FOLD {fold_idx+1}/{k_outer} ==========\")\n",
    "\n",
    "        best_config = None\n",
    "        best_val_score = float('inf')\n",
    "        all_inner_fold_scores = []  # will be list of [k_inner] RMSEs per config\n",
    "\n",
    "        # ============ Grid Search on Inner CV ============ #\n",
    "        for config_id, flat_config in enumerate(param_combos):\n",
    "            gp_config = {\n",
    "                'initializer': flat_config['initializer'],\n",
    "                'sspace': {\n",
    "                    'p_constants': flat_config['sspace.p_constants'],\n",
    "                    'max_init_depth': flat_config['sspace.max_init_depth'],\n",
    "                    'max_depth': flat_config['sspace.max_depth'],\n",
    "                    'tree_constants': flat_config['sspace.tree_constants'],\n",
    "                },\n",
    "                'pop_size': flat_config['pop_size'],\n",
    "                'xo_prob': flat_config['xo_prob'],\n",
    "                'generations': flat_config['generations'],\n",
    "                'seed': seed\n",
    "            }\n",
    "\n",
    "            inner_fold_rmses = []\n",
    "\n",
    "            for inner_fold_idx, (inner_train_idx, inner_val_idx) in enumerate(fold_data['inner_splits']):\n",
    "                X_train = fold_data['X_outer_train'].iloc[inner_train_idx]\n",
    "                y_train = fold_data['y_outer_train'].iloc[inner_train_idx]\n",
    "                X_val = fold_data['X_outer_train'].iloc[inner_val_idx]\n",
    "                y_val = fold_data['y_outer_train'].iloc[inner_val_idx]\n",
    "\n",
    "                # Scaling\n",
    "                x_scaler = RobustScaler()\n",
    "                y_scaler = RobustScaler()\n",
    "                X_train_scaled = x_scaler.fit_transform(X_train)\n",
    "                X_val_scaled = x_scaler.transform(X_val)\n",
    "                y_train_scaled = y_scaler.fit_transform(y_train.values.reshape(-1, 1)).flatten()\n",
    "                y_val_scaled = y_scaler.transform(y_val.values.reshape(-1, 1)).flatten()\n",
    "\n",
    "                # Tensors\n",
    "                X_train_tensor = torch.tensor(X_train_scaled, dtype=torch.float32)\n",
    "                y_train_tensor = torch.tensor(y_train_scaled, dtype=torch.float32)\n",
    "                X_val_tensor = torch.tensor(X_val_scaled, dtype=torch.float32)\n",
    "                y_val_tensor = torch.tensor(y_val_scaled, dtype=torch.float32)\n",
    "\n",
    "                # Model training\n",
    "                model = gp_class(\n",
    "                    X_train=X_train_tensor, y_train=y_train_tensor,\n",
    "                    X_test=X_val_tensor, y_test=y_val_tensor,\n",
    "                    dataset_name=dataset_name,\n",
    "                    fitness_function='rmse',\n",
    "                    minimization=True,\n",
    "                    initializer=gp_config['initializer'],\n",
    "                    tree_constants=gp_config['sspace']['tree_constants'],\n",
    "                    tree_functions=['add', 'subtract', 'multiply', 'divide'],\n",
    "                    prob_const=gp_config['sspace']['p_constants'],\n",
    "                    init_depth=gp_config['sspace']['max_init_depth'],\n",
    "                    max_depth=gp_config['sspace']['max_depth'],\n",
    "                    pop_size=gp_config['pop_size'],\n",
    "                    p_xo=gp_config['xo_prob'],\n",
    "                    elitism=True,\n",
    "                    n_elites=1,\n",
    "                    tournament_size=2,\n",
    "                    n_iter=gp_config['generations'],\n",
    "                    test_elite=True,\n",
    "                    log_level=0,\n",
    "                    verbose=0,\n",
    "                    n_jobs=1,\n",
    "                    seed=gp_config['seed']\n",
    "                )\n",
    "\n",
    "                # Evaluation\n",
    "                with torch.no_grad():\n",
    "                    y_pred = model.predict(X_val_tensor).numpy().reshape(-1, 1)\n",
    "                    y_true = y_val_tensor.numpy().reshape(-1, 1)\n",
    "                    rmse = np.sqrt(mean_squared_error(y_true, y_pred))\n",
    "                    inner_fold_rmses.append(rmse)\n",
    "                    \n",
    "                    # Store detailed results for this fold and config\n",
    "                    detailed_results.append({\n",
    "                        'outer_fold': fold_idx + 1,\n",
    "                        'inner_fold': inner_fold_idx + 1,\n",
    "                        'config_id': config_id,\n",
    "                        'config': str(flat_config),  # String representation\n",
    "                        'rmse': rmse\n",
    "                    })\n",
    "\n",
    "            avg_val_rmse = np.mean(inner_fold_rmses)\n",
    "            all_inner_fold_scores.append(inner_fold_rmses)\n",
    "\n",
    "            print(f\"  Config {config_id+1}/{len(param_combos)} | Inner Mean RMSE: {avg_val_rmse:.4f}\")\n",
    "\n",
    "            if avg_val_rmse < best_val_score:\n",
    "                best_val_score = avg_val_rmse\n",
    "                best_config = gp_config\n",
    "\n",
    "        print(f\"\\n✅ Best config for outer fold {fold_idx+1}:\")\n",
    "        print(best_config)\n",
    "        print(f\"Best inner RMSE: {best_val_score:.4f}\")\n",
    "        best_grid_models.append(best_config)\n",
    "\n",
    "        # Convert to DataFrame for statistical tests\n",
    "        df_inner_scores = pd.DataFrame(all_inner_fold_scores).T  # shape: (k_inner, n_configs)\n",
    "        validation_results.append(df_inner_scores)\n",
    "\n",
    "        # ============ Statistical Tests ============ #\n",
    "        print(\"\\nStatistical test on inner fold scores:\")\n",
    "        stat, p = friedmanchisquare(*[df_inner_scores[col] for col in df_inner_scores.columns])\n",
    "        print(f\"Friedman test statistic: {stat:.4f}, p-value: {p:.4f}\")\n",
    "        if p < alpha_sig:\n",
    "            posthoc_result = sp.posthoc_nemenyi_friedman(df_inner_scores.to_numpy())\n",
    "            significant_columns = posthoc_result.columns[posthoc_result.lt(0.05).any(axis=0)]\n",
    "            filtered_result = posthoc_result[posthoc_result < alpha_sig]\n",
    "            filtered_result = filtered_result.dropna(how='all').dropna(axis=1, how='all').fillna('-')\n",
    "            print(\"P-values of significant differences:\")\n",
    "            print(filtered_result)\n",
    "        else:\n",
    "            print(\"No significant differences found between configs.\")\n",
    "\n",
    "        # ============ Boxplot ============ #\n",
    "        # Convert detailed results to DataFrame for this outer fold\n",
    "        df_fold_results = pd.DataFrame([r for r in detailed_results if r['outer_fold'] == fold_idx + 1])\n",
    "        \n",
    "        # Create labels for configurations\n",
    "        config_labels = {\n",
    "            i: f\"Config {i+1}<br>\" + \"<br>\".join(\n",
    "                [f\"{k}: {v}\"[:30] for k, v in param_combos[i].items()]  # Corta cada item em 30 chars\n",
    "            )\n",
    "            for i in range(len(param_combos))\n",
    "        }\n",
    "        df_fold_results['config_label'] = df_fold_results['config_id'].map(config_labels)\n",
    "\n",
    "        fig = go.Figure()\n",
    "        fig.add_trace(go.Box(\n",
    "            x=df_fold_results['config_label'],\n",
    "            y=df_fold_results['rmse'],\n",
    "            fillcolor='rgba(108, 140, 200, 0.3)',\n",
    "            line=dict(color='rgba(108, 140, 200, 1)'),\n",
    "            boxpoints='all',\n",
    "            jitter=0,\n",
    "            pointpos=0,\n",
    "            marker=dict(color='rgba(108, 140, 200, 1)')\n",
    "        ))\n",
    "        fig.update_layout(\n",
    "            title=f'Inner CV RMSEs - Outer Fold {fold_idx+1}',\n",
    "            yaxis_title='Validation RMSE',\n",
    "            width=200 * len(param_combos),\n",
    "            height=400,\n",
    "            plot_bgcolor='#f1f1f1',\n",
    "            xaxis_tickangle=-90,\n",
    "            margin=dict(l=50, r=50, t=50, b=20),\n",
    "            showlegend=False\n",
    "        )\n",
    "        fig.show()\n",
    "\n",
    "\n",
    "        # ============ Retrain on Outer Train, Evaluate on Outer Test ============ #\n",
    "        x_scaler = RobustScaler()\n",
    "        y_scaler = RobustScaler()\n",
    "        X_outer_train_scaled = x_scaler.fit_transform(fold_data['X_outer_train'])\n",
    "        X_test_scaled = x_scaler.transform(fold_data['X_test'])\n",
    "        y_outer_train_scaled = y_scaler.fit_transform(fold_data['y_outer_train'].values.reshape(-1, 1)).flatten()\n",
    "        y_test_scaled = y_scaler.transform(fold_data['y_test'].values.reshape(-1, 1)).flatten()\n",
    "\n",
    "        X_outer_train_tensor = torch.tensor(X_outer_train_scaled, dtype=torch.float32)\n",
    "        y_outer_train_tensor = torch.tensor(y_outer_train_scaled, dtype=torch.float32)\n",
    "        X_test_tensor = torch.tensor(X_test_scaled, dtype=torch.float32)\n",
    "        y_test_tensor = torch.tensor(y_test_scaled, dtype=torch.float32)\n",
    "\n",
    "        model = gp_class(\n",
    "            X_train=X_outer_train_tensor, y_train=y_outer_train_tensor,\n",
    "            X_test=X_test_tensor, y_test=y_test_tensor,\n",
    "            dataset_name=dataset_name,\n",
    "            fitness_function='rmse',\n",
    "            minimization=True,\n",
    "            initializer=best_config['initializer'],\n",
    "            tree_constants=best_config['sspace']['tree_constants'],\n",
    "            tree_functions=['add', 'subtract', 'multiply', 'divide'],\n",
    "            prob_const=best_config['sspace']['p_constants'],\n",
    "            init_depth=best_config['sspace']['max_init_depth'],\n",
    "            max_depth=best_config['sspace']['max_depth'],\n",
    "            pop_size=best_config['pop_size'],\n",
    "            p_xo=best_config['xo_prob'],\n",
    "            elitism=True,\n",
    "            n_elites=1,\n",
    "            tournament_size=2,\n",
    "            n_iter=best_config['generations'],\n",
    "            test_elite=True,\n",
    "            log_level=0,\n",
    "            verbose=0,\n",
    "            n_jobs=1,\n",
    "            seed=best_config['seed']\n",
    "        )\n",
    "\n",
    "        with torch.no_grad():\n",
    "            y_pred_scaled = model.predict(X_test_tensor).numpy()\n",
    "            y_pred_rescaled = safe_inverse_transform(y_scaler, y_pred_scaled)\n",
    "            test_rmse = np.sqrt(mean_squared_error(fold_data['y_test'], y_pred_rescaled))\n",
    "\n",
    "        print(f\"\\n[Outer Fold {fold_idx+1}] Test RMSE: {test_rmse:.4f}\")\n",
    "        outer_scores.append(test_rmse)\n",
    "        gc.collect()\n",
    "\n",
    "    print(f\"\\n================ Final Results ================\\nMean RMSE: {np.mean(outer_scores):.4f} ± {np.std(outer_scores):.4f}\")\n",
    "    df_all_results = pd.DataFrame(detailed_results)\n",
    "    return np.array(outer_scores), best_grid_models, df_all_results, validation_results"
   ]
  },
  {
   "cell_type": "markdown",
   "id": "b48e9c39",
   "metadata": {},
   "source": [
    "| **Parameter**        | **Test Values**                                | **Why ??**                                                                                             |\n",
    "| -------------------- | ----------------------------------------------------- | ----------------------------------------------------------------------------------------------------------------------------------------------- |\n",
    "| `init_depth`         | `[3, 5]`                                              | Smaller initial trees (shallow depth) reduce the risk of overfitting early on. With 96 entries, you want simplicity and better generalization.  |\n",
    "| `max_depth`          | `[10]`                                             | Limits the model's complexity. Deep trees overfit easily on small datasets. Capping depth avoids bloated or overly specific programs.           |\n",
    "| `tree_constants`     | `[random.uniform(0, 1) for _ in range(9)] + [-1.]`    | Constants allow models to fine-tune predictions. Using a limited, balanced range prevents excessive reliance on constants (avoids \"bloat\").     |\n",
    "| `p_constants`        | `[0.1, 0.5]`                                          | High constant probability makes the tree more about constants than structure. This is dangerous for small data — prefer 10–20% range.           |\n",
    "| `tree_functions`     | `['add', 'subtract', 'multiply', 'divide']` | Basic arithmetic gives expressive power. `protected_divide` avoids runtime errors. Don’t add too many functions — it increases search space.    |\n",
    "| `pop_size`           | `[20, 30, 50]`                                        | Small datasets don’t need huge populations. Lower sizes = faster runs and still enough diversity. 20–50 is a good starting point.               |\n",
    "| `p_xo`               | `[0.7, 0.9]`                                          | Crossover (recombination) promotes diversity and generalization. On small data, too much crossover (close to 1.0) might disrupt good solutions. |\n",
    "| `initializer`        | `\"grow\", \"rhh\"`                                       | `grow` creates variable-sized trees. `rhh` mixes it with `full`, adding diversity. `full` alone — it tends to create deep, overfit trees. |\n",
    "| `elitism`            | `[True]`                                              | Keep the best solution in each generation. With few samples, losing the best-performing individual can seriously hurt performance.              |\n",
    "| `n_iter`             | `30`                                                  | Reasonable trade-off between computation and convergence. Too many iterations with small data can lead to overfitting.                          |\n"
   ]
  },
  {
   "cell_type": "raw",
   "id": "7eb77adc",
   "metadata": {
    "vscode": {
     "languageId": "raw"
    }
   },
   "source": [
    "TREE_CONSTANTS = [random.uniform(0, 1) for _ in range(9)] + [-1.]\n",
    "param_grid = {\n",
    "    'initializer': ['grow', 'rhh'],\n",
    "    'sspace.p_constants': [0.1, 0.5], \n",
    "    'sspace.max_init_depth': [3, 5],\n",
    "    'sspace.max_depth': [10],\n",
    "    'sspace.tree_constants': [TREE_CONSTANTS],\n",
    "    'pop_size': [30, 50],\n",
    "    'xo_prob': [0.7, 0.9],\n",
    "    'generations': [30],\n",
    "}\n",
    "\n",
    "# Seeds to test\n",
    "seeds = [42, 123, 456]  # You can change these to any seeds you prefer\n",
    "\n",
    "# Store results from all seeds\n",
    "all_scores = []\n",
    "all_best_models = []\n",
    "all_results = []\n",
    "all_validation = []\n",
    "\n",
    "for seed in seeds:\n",
    "    print(f\"\\n=== Running with seed: {seed} ===\\n\")\n",
    "    \n",
    "    # Set random seeds for reproducibility\n",
    "    random.seed(seed)\n",
    "    np.random.seed(seed)\n",
    "    torch.manual_seed(seed)\n",
    "    \n",
    "    # Run the experiment\n",
    "    scores, best_models, df_results, val_results = nested_cv_gp_slim_gsgp(\n",
    "        X=X, y=y,\n",
    "        param_grid=param_grid,\n",
    "        gp_class=gp,\n",
    "        k_outer=5, k_inner=3,\n",
    "        seed=seed\n",
    "    )\n",
    "    \n",
    "    # Store results\n",
    "    all_scores.append(scores)\n",
    "    all_best_models.append(best_models)\n",
    "    all_results.append(df_results)\n",
    "    all_validation.append(val_results)"
   ]
  },
  {
   "cell_type": "markdown",
   "id": "7b0910e1",
   "metadata": {},
   "source": [
    "Running the full CV 3 times with different seeds to mitigate randomness from GP (e.g., in init, selection, mutation), and get statistically more reliable average performance (like doing 30 folds total) -> common trick in evolutionary algorithms due to their stochastic nature."
   ]
  },
  {
   "cell_type": "raw",
   "id": "1d95d1d5",
   "metadata": {
    "vscode": {
     "languageId": "raw"
    }
   },
   "source": [
    "def dict_to_hashable(d):\n",
    "    def make_hashable(value):\n",
    "        if isinstance(value, dict):\n",
    "            return tuple(sorted((k, make_hashable(v)) for k, v in value.items()))\n",
    "        elif isinstance(value, list):\n",
    "            return tuple(make_hashable(x) for x in value)\n",
    "        elif isinstance(value, set):\n",
    "            return tuple(sorted(make_hashable(x) for x in value))\n",
    "        else:\n",
    "            return value\n",
    "    \n",
    "    return tuple(sorted((k, make_hashable(v)) for k, v in d.items()))\n",
    "\n",
    "# Now process the results\n",
    "mean_scores = np.mean([scores for scores in all_scores], axis=0)\n",
    "std_scores = np.std([scores for scores in all_scores], axis=0)\n",
    "\n",
    "try:\n",
    "    all_configs_hashed = [dict_to_hashable(config) for seed_models in all_best_models for config in seed_models]\n",
    "    config_counts = Counter(all_configs_hashed)\n",
    "    \n",
    "    if config_counts:\n",
    "        most_common_config_hash = config_counts.most_common(1)[0][0]\n",
    "        best_config = dict((k, dict(v) if isinstance(v, tuple) else v) \n",
    "                        for k, v in most_common_config_hash)\n",
    "        \n",
    "        print(\"\\n=== Final Results ===\")\n",
    "        print(f\"Mean RMSE across seeds: {np.mean(mean_scores):.4f} ± {np.mean(std_scores):.4f}\")\n",
    "        print(\"\\nBest configuration found in most runs:\")\n",
    "        for k, v in best_config.items():\n",
    "            if isinstance(v, dict):\n",
    "                print(f\"  {k}:\")\n",
    "                for sub_k, sub_v in v.items():\n",
    "                    print(f\"    {sub_k}: {sub_v}\")\n",
    "            else:\n",
    "                print(f\"  {k}: {v}\")\n",
    "    else:\n",
    "        print(\"No valid configurations found in all_best_models\")\n",
    "except Exception as e:\n",
    "    print(f\"Error processing configurations: {str(e)}\")\n"
   ]
  },
  {
   "cell_type": "markdown",
   "id": "4d41f032",
   "metadata": {},
   "source": [
    "> Running GP with Best Config  "
   ]
  },
  {
   "cell_type": "raw",
   "id": "3f5d7f3b",
   "metadata": {
    "vscode": {
     "languageId": "raw"
    }
   },
   "source": [
    "# ========== Config from Best Run ==========\n",
    "best_config = {\n",
    "    'initializer': 'rhh',\n",
    "    'prob_const': 0.5,\n",
    "    'init_depth': 5,\n",
    "    'max_depth': 10,\n",
    "    'tree_constants': [\n",
    "        0.6394267984578837, 0.025010755222666936, 0.27502931836911926,\n",
    "        0.22321073814882275, 0.7364712141640124, 0.6766994874229113,\n",
    "        0.8921795677048454, 0.08693883262941615, 0.4219218196852704, -1.0\n",
    "    ],\n",
    "    'pop_size': 50,\n",
    "    'xo_prob': 0.9,\n",
    "    'generations': 30,\n",
    "    'seed': 456\n",
    "}"
   ]
  },
  {
   "cell_type": "raw",
   "id": "0a08147e",
   "metadata": {
    "vscode": {
     "languageId": "raw"
    }
   },
   "source": [
    "def evaluate_gp_with_best_config(X, y, best_config, gp_class, k_outer=5, seed=42, verbose=True):\n",
    "    \n",
    "    outer_cv = KFold(n_splits=k_outer, shuffle=True, random_state=seed)\n",
    "    outer_scores = []\n",
    "    models = []\n",
    "\n",
    "    for fold_idx, (train_idx, test_idx) in enumerate(outer_cv.split(X)):\n",
    "        print(f\"\\n=== Outer Fold {fold_idx+1}/{k_outer} ===\")\n",
    "\n",
    "        X_train, X_test = X.iloc[train_idx], X.iloc[test_idx]\n",
    "        y_train, y_test = y.iloc[train_idx], y.iloc[test_idx]\n",
    "\n",
    "        # Scaling\n",
    "        x_scaler = RobustScaler()\n",
    "        y_scaler = RobustScaler()\n",
    "        X_train_scaled = x_scaler.fit_transform(X_train)\n",
    "        y_train_scaled = y_scaler.fit_transform(y_train.values.reshape(-1, 1)).flatten()\n",
    "        X_test_scaled = x_scaler.transform(X_test)\n",
    "        y_test_scaled = y_scaler.transform(y_test.values.reshape(-1, 1)).flatten()\n",
    "\n",
    "        X_train_tensor = torch.tensor(X_train_scaled, dtype=torch.float32)\n",
    "        y_train_tensor = torch.tensor(y_train_scaled, dtype=torch.float32)\n",
    "        X_test_tensor = torch.tensor(X_test_scaled, dtype=torch.float32)\n",
    "        y_test_tensor = torch.tensor(y_test_scaled, dtype=torch.float32)\n",
    "\n",
    "        model = gp_class(\n",
    "            X_train=X_train_tensor, y_train=y_train_tensor,\n",
    "            X_test=X_test_tensor, y_test=y_test_tensor,\n",
    "            dataset_name=\"🐓 Chicken 🐓\",\n",
    "            fitness_function='rmse',\n",
    "            minimization=True,\n",
    "            initializer=best_config['initializer'],\n",
    "            tree_constants=best_config['tree_constants'],\n",
    "            tree_functions=['add', 'subtract', 'multiply', 'divide'],\n",
    "            prob_const=best_config['prob_const'],\n",
    "            init_depth=best_config['init_depth'],\n",
    "            max_depth=best_config['max_depth'],\n",
    "            pop_size=best_config['pop_size'],\n",
    "            p_xo=best_config['xo_prob'],\n",
    "            elitism=True,\n",
    "            n_elites=1,\n",
    "            tournament_size=2,\n",
    "            n_iter=best_config['generations'],\n",
    "            test_elite=True,\n",
    "            log_level=2,\n",
    "            log_path=f\"./log/GP/fold_{fold_idx+1}.csv\",\n",
    "            verbose=1 if verbose else 0,\n",
    "            n_jobs=1,\n",
    "            seed=best_config['seed']\n",
    "        )\n",
    "\n",
    "        models.append(model)\n",
    "\n",
    "        with torch.no_grad():\n",
    "            y_pred_scaled = model.predict(X_test_tensor).numpy()\n",
    "            y_pred_rescaled = safe_inverse_transform(y_scaler, y_pred_scaled)\n",
    "            rmse = np.sqrt(mean_squared_error(y_test, y_pred_rescaled))\n",
    "        print(f'Predicted Values: {y_pred_rescaled}')\n",
    "        print(f'Real Values: {y_test}')\n",
    "        print(f\"Fold {fold_idx+1} RMSE: {rmse:.4f}\")\n",
    "        outer_scores.append(rmse)\n",
    "\n",
    "    print(f\"\\n✅ Final RMSE across {k_outer} folds: {np.mean(outer_scores):.4f} ± {np.std(outer_scores):.4f}\")\n",
    "    return outer_scores, models"
   ]
  },
  {
   "cell_type": "raw",
   "id": "86f76a6d",
   "metadata": {
    "vscode": {
     "languageId": "raw"
    }
   },
   "source": [
    "outer_scores, models = evaluate_gp_with_best_config(X, y, best_config, gp_class=gp, k_outer=5)"
   ]
  },
  {
   "cell_type": "raw",
   "id": "540b4f6e",
   "metadata": {
    "vscode": {
     "languageId": "raw"
    }
   },
   "source": [
    "for fold_idx, model in enumerate(models, start=1):\n",
    "    print(f\"\\n=== Tree Representation (Fold {fold_idx}) ===\")\n",
    "    if hasattr(model, 'print_tree_representation'):\n",
    "        model.print_tree_representation()  # Direct print if available\n",
    "    else:\n",
    "        # Fallback for unsupported methods\n",
    "        print(\"No tree printing method found. Try manual inspection:\")\n",
    "        print(\"Model attributes:\", [attr for attr in dir(model) if not attr.startswith('_')])"
   ]
  },
  {
   "cell_type": "raw",
   "id": "ad25802f",
   "metadata": {
    "vscode": {
     "languageId": "raw"
    }
   },
   "source": [
    "LOG_DIR = \"log/GP/\"\n",
    "folds = [pd.read_csv(f\"{LOG_DIR}fold_{i}.csv\", header=None) for i in range(1, 6)]"
   ]
  },
  {
   "cell_type": "raw",
   "id": "f647c848",
   "metadata": {
    "vscode": {
     "languageId": "raw"
    }
   },
   "source": [
    "COLUMN_NAMES = [\n",
    "    \"Algorithm\",      # 0\n",
    "    \"Instance_ID\",    # 1\n",
    "    \"Dataset\",        # 2\n",
    "    \"Seed\",           # 3\n",
    "    \"Generation\",     # 4\n",
    "    \"Fitness\",        # 5 (Train RMSE)\n",
    "    \"Running_time\",   # 6\n",
    "    \"Population_nodes\", # 7\n",
    "    \"Test_fitness\",   # 8 (Test RMSE)\n",
    "    \"Elite_nodes\",    # 9 (Tree size)\n",
    "    \"Niche_entropy\",  # 10\n",
    "    \"SD_pop_fit\",     # 11 (Fitness diversity)\n",
    "    \"Log_level\"       # 12\n",
    "]\n",
    "\n",
    "# Load all folds with column names\n",
    "folds = []\n",
    "for i in range(1, 6):\n",
    "    df = pd.read_csv(f\"log/GP/fold_{i}.csv\", header=None)\n",
    "    df.columns = COLUMN_NAMES  # Assign column names\n",
    "    folds.append(df)"
   ]
  },
  {
   "cell_type": "raw",
   "id": "d5377274",
   "metadata": {
    "vscode": {
     "languageId": "raw"
    }
   },
   "source": [
    "folds[0].head()\n",
    "#folds[0]['Niche_entropy'].unique() --- always 0"
   ]
  },
  {
   "cell_type": "raw",
   "id": "8001c205",
   "metadata": {
    "vscode": {
     "languageId": "raw"
    }
   },
   "source": [
    "NUMERIC_COLS = [\"Generation\", \"Fitness\", \"Running_time\", \"Population_nodes\", \n",
    "                \"Test_fitness\", \"Elite_nodes\", \"Niche_entropy\", \"SD_pop_fit\"]\n",
    "numeric_folds = [df[NUMERIC_COLS] for df in folds]"
   ]
  },
  {
   "cell_type": "raw",
   "id": "bfd9b957",
   "metadata": {
    "vscode": {
     "languageId": "raw"
    }
   },
   "source": [
    "numeric_folds[0].head()"
   ]
  },
  {
   "cell_type": "raw",
   "id": "87bd8b79",
   "metadata": {
    "vscode": {
     "languageId": "raw"
    }
   },
   "source": [
    "all_data = np.stack([df.values for df in numeric_folds])\n",
    "\n",
    "#  mean and std across folds\n",
    "mean = np.mean(all_data, axis=0)  \n",
    "std = np.std(all_data, axis=0)\n",
    "mean_df = pd.DataFrame(mean, columns=NUMERIC_COLS)\n",
    "std_df = pd.DataFrame(std, columns=NUMERIC_COLS)"
   ]
  },
  {
   "cell_type": "raw",
   "id": "a1f87db4",
   "metadata": {
    "vscode": {
     "languageId": "raw"
    }
   },
   "source": [
    "fig = go.Figure()\n",
    "\n",
    "# Train Fitness (mean ± std)\n",
    "fig.add_trace(go.Scatter(\n",
    "    x=mean_df[\"Generation\"],\n",
    "    y=mean_df[\"Fitness\"],\n",
    "    mode='lines',\n",
    "    name='Train RMSE (mean)',\n",
    "    line=dict(color='blue', width=2)\n",
    "))\n",
    "# Add std as a shaded region (light blue)\n",
    "fig.add_trace(go.Scatter(\n",
    "    x=mean_df[\"Generation\"],\n",
    "    y=mean_df[\"Fitness\"] + std_df[\"Fitness\"],\n",
    "    mode='lines',\n",
    "    line=dict(width=0),\n",
    "    showlegend=False,\n",
    "    fillcolor='rgba(0, 100, 255, 0.2)',\n",
    "    fill='tonexty'\n",
    "))\n",
    "fig.add_trace(go.Scatter(\n",
    "    x=mean_df[\"Generation\"],\n",
    "    y=mean_df[\"Fitness\"] - std_df[\"Fitness\"],\n",
    "    mode='lines',\n",
    "    line=dict(width=0),\n",
    "    name='±1 std (Train)',\n",
    "    fillcolor='rgba(0, 100, 255, 0.2)'\n",
    "))\n",
    "\n",
    "# Test Fitness (mean ± std)\n",
    "fig.add_trace(go.Scatter(\n",
    "    x=mean_df[\"Generation\"],\n",
    "    y=mean_df[\"Test_fitness\"],\n",
    "    mode='lines',\n",
    "    name='Test RMSE (mean)',\n",
    "    line=dict(color='red', width=2)\n",
    "))\n",
    "# Add std as a shaded region (light red)\n",
    "fig.add_trace(go.Scatter(\n",
    "    x=mean_df[\"Generation\"],\n",
    "    y=mean_df[\"Test_fitness\"] + std_df[\"Test_fitness\"],\n",
    "    mode='lines',\n",
    "    line=dict(width=0),\n",
    "    showlegend=False,\n",
    "    fillcolor='rgba(255, 50, 50, 0.2)',\n",
    "    fill='tonexty'\n",
    "))\n",
    "fig.add_trace(go.Scatter(\n",
    "    x=mean_df[\"Generation\"],\n",
    "    y=mean_df[\"Test_fitness\"] - std_df[\"Test_fitness\"],\n",
    "    mode='lines',\n",
    "    line=dict(width=0),\n",
    "    name='±1 std (Test)',\n",
    "    fillcolor='rgba(255, 50, 50, 0.2)'\n",
    "))\n",
    "\n",
    "fig.update_layout(\n",
    "    title=f'GP Fitness Evolution (Chicken Datset, 5-fold mean ± std)',\n",
    "    xaxis_title='Generation',\n",
    "    yaxis_title='RMSE',\n",
    "    hovermode='x unified',\n",
    "    height=400,\n",
    "    width=800\n",
    ")\n",
    "fig.show()"
   ]
  },
  {
   "cell_type": "raw",
   "id": "91f099bc",
   "metadata": {
    "vscode": {
     "languageId": "raw"
    }
   },
   "source": [
    "fig = go.Figure()\n",
    "\n",
    "# Mean Size (Elite_nodes)\n",
    "fig.add_trace(go.Scatter(\n",
    "    x=mean_df[\"Generation\"],\n",
    "    y=mean_df[\"Elite_nodes\"],\n",
    "    mode='lines',\n",
    "    name='Size (mean)',\n",
    "    line=dict(color='green', width=2)\n",
    "))\n",
    "\n",
    "# Std as shaded region (light green)\n",
    "fig.add_trace(go.Scatter(\n",
    "    x=mean_df[\"Generation\"],\n",
    "    y=mean_df[\"Elite_nodes\"] + std_df[\"Elite_nodes\"],\n",
    "    mode='lines',\n",
    "    line=dict(width=0),\n",
    "    showlegend=False,\n",
    "    fillcolor='rgba(50, 200, 50, 0.2)',\n",
    "    fill='tonexty'\n",
    "))\n",
    "fig.add_trace(go.Scatter(\n",
    "    x=mean_df[\"Generation\"],\n",
    "    y=mean_df[\"Elite_nodes\"] - std_df[\"Elite_nodes\"],\n",
    "    mode='lines',\n",
    "    line=dict(width=0),\n",
    "    name='±1 std',\n",
    "    fillcolor='rgba(50, 200, 50, 0.2)'\n",
    "))\n",
    "\n",
    "fig.update_layout(\n",
    "    title=f'GP - Size Evolution (Chicken Dataset, 5-fold mean ± std)',\n",
    "    xaxis_title='Generation',\n",
    "    yaxis_title='Number of Nodes',\n",
    "    yaxis_range=[0, None],  # Start y-axis at 0\n",
    "    height=400,\n",
    "    width=800,\n",
    "    margin=dict(t=50),\n",
    "    hovermode='x unified'\n",
    ")\n",
    "fig.show()"
   ]
  },
  {
   "cell_type": "raw",
   "id": "6be50fce",
   "metadata": {
    "vscode": {
     "languageId": "raw"
    }
   },
   "source": [
    "fig = go.Figure()\n",
    "fig.add_trace(go.Scatter(\n",
    "    x=mean_df[\"Generation\"],\n",
    "    y=mean_df[\"Niche_entropy\"],\n",
    "    mode='lines',\n",
    "    name='Niche Entropy (mean)',\n",
    "    line=dict(color='purple', width=2)\n",
    "))\n",
    "# Add std as dashed lines (dark purple)\n",
    "fig.add_trace(go.Scatter(\n",
    "    x=mean_df[\"Generation\"],\n",
    "    y=mean_df[\"Niche_entropy\"] + std_df[\"Niche_entropy\"],\n",
    "    mode='lines',\n",
    "    line=dict(color='purple', width=1, dash='dash'),\n",
    "    name='+1 std',\n",
    "    opacity=0.6\n",
    "))\n",
    "fig.add_trace(go.Scatter(\n",
    "    x=mean_df[\"Generation\"],\n",
    "    y=mean_df[\"Niche_entropy\"] - std_df[\"Niche_entropy\"],\n",
    "    mode='lines',\n",
    "    line=dict(color='purple', width=1, dash='dash'),\n",
    "    name='-1 std',\n",
    "    opacity=0.6\n",
    "))\n",
    "\n",
    "fig.update_layout(\n",
    "    title=f'GP - Niche Entropy (Chicken Dataset, 5-fold mean)',\n",
    "    xaxis_title='Generation',\n",
    "    yaxis_title='Entropy',\n",
    "    yaxis_range=[0, None],\n",
    "    height=400,\n",
    "    width=800,\n",
    "    margin=dict(t=50)\n",
    ")\n",
    "fig.show()"
   ]
  },
  {
   "cell_type": "markdown",
   "id": "861765a7",
   "metadata": {},
   "source": [
    "Although the best-performing configuration was found after the tuning, we ended up testing it again this time with the verbose parameter so we can analyze the generations across folds more in depth - we used the **5-fold outer cross-validation** to get am unbiased estimate of how well the model would perform on completely unseen data (as we explained before) -> Again, this helps avoid the trap of getting overly optimistic results from a single lucky train-test split.\n",
    "\n",
    "---\n",
    "\n",
    "**Per fold Analysis: Overfitting, Bloat and Premature Convergence**\n",
    "\n",
    "- **Outer Fold 1**\n",
    "\n",
    "This fold showed some interesting early behavior. The algorithm converged too quickly, locking onto a solution by the second generation. Training fitness dropped from 1.03 to 0.94 right away, then had small variations for the rest of the 30 generations. That kind of 'stagnation' can mean the population lost diversity early on and didn’t explore better parts of the solution space.\n",
    "\n",
    "There was also a hint of overfitting between generations 5 and 7—training error kept going down, but test error briefly spiked above 1.12. but in generation 10, both errors settled around 0.73, showing the model found a decently generalizable solution.\n",
    "\n",
    "As for **bloat**, there wasn’t any. The tree sizes stayed small and consistent, growing from 5 to 7 nodes early on and holding steady -> That’s a good sign the model was penalizing complexity.\n",
    "\n",
    "\n",
    "- **Outer Fold 2**\n",
    "\n",
    "After the first generation, test fitness dropped and went around 0.4125.. by generation 11. We thibnk the model got stuck in a local minimum or converged too early, and the training fitness kept improving slightly, which again hints at some overfitting.\n",
    "\n",
    "Tree size didn’t grow—it stayed at 5 nodes during the plateau—so the model didn’t try to increase complexity to escape the stagnation. Still, it predicted reasonably well overall, with a final RMSE of 0.8379, which isn’t bad.\n",
    "\n",
    "\n",
    "- **Outer Fold 3**\n",
    "\n",
    "This one struggled, the training fitness got better (0.7010), the test fitness stayed high—around 1.6185. This shows overfitting as the model learned the training data but failed to generalize at all. On top of that, bloat became a problem bc the trees ballooned to 29 nodes by the end, the model added to much complexity and that extra complexity didn’t help. \n",
    "\n",
    "Outliers in the test data, like a very low crude protein value of 73.84, probably made things worse. Since we used the robust scaler this should had helped. This extra complexity can also indicate that we have too much features and the model tries too hard to learn all the patterns, a feature selection can maybe imporve this.\n",
    "\n",
    "- **Outer Fold 4**\n",
    "\n",
    "This fold saw a consistent reduction in training and test fitness at the beginning, so the model was learning at first. Training error declined from 0.998 to 0.857 and test error declined from 0.77 to 0.52 from generation 0 to generation 5 wich is a positive indicators of convergence. But after generation 6 train fitness fell into a stagnation phase and test started to get worse stabilizing at gen 12.Again, this suggests premature convergence the population could have lost diversity or wasn't under evolutionary pressure to escape the local optima.\n",
    "\n",
    "There is a faint sign of overfitting after generation 12 and the model still explores more extensive trees -> node size grows from 9 to 31, and this added complexity did not contribute to generalization as the test fitness actually get worse.5198. So this inconsistency among increased complexity and worsening test performance is evidence of mild overfitting.\n",
    "\n",
    "In terms of Bloat is obviasly more severe in this case. The early trees were tiny (5–11 nodes), but the model tried a 49-node tree in generation 8, and then stuck with bloated 31-node trees for no improvement in fitness. So, bloat without benefit, more complexity, but not better performance.\n",
    "\n",
    "- **Outer Fold 5**\n",
    "\n",
    "This fold showed early convergence, with improvements in training / test fitness over several generations. From generation 0 to 3, test fitness dropped from 0.8197 to 0.5241. But from generation 6 onwards, the model actually ceased to get better altogether —> a sure indication of premature convergence.\n",
    "\n",
    "Bloat was completely avoided here. The model continued to hold a very small 3-node tree from generation 1 to generation 30. Although this is excellent at controlling complexity, it is also indicative of lacking exploration, and the model might have only settled on very shallow solution that was \"good enough\" and never moved further beyond.\n",
    "\n",
    "Overfitting was small, good generalization with no significant gap between training and testing fitness.\n",
    "\n",
    "\n",
    "\n",
    "**Final notes for GP**: So this solution needs some improvment to generalize better and avoid overcomplicate the size of the solution, our best approach would be to perfom feature selecion to try to help the model not to focus in every patter and generalize better, at the same time avoiding multicollinearity and features that add noise moree noise than help to the prediction."
   ]
  },
  {
   "cell_type": "markdown",
   "id": "0750c571",
   "metadata": {},
   "source": [
    "#### <a id=\"gsgp\"></a> \n",
    "<div style=\"background-color: hsla(120, 71.40%, 43.90%, 0.30); padding: 10px; border-radius: 8px; text-align: left; margin-top: 20px; margin-bottom: 20px;\">\n",
    "    <h4 style=\"color: white; margin: 0;\">3. Geometric Semantic Geometric Programming (GSGP)</h4>\n",
    "</div>\n",
    "\n",
    "[Back to Index](#idx)"
   ]
  },
  {
   "cell_type": "raw",
   "id": "d6a8233d",
   "metadata": {},
   "source": [
    "# ========== Safe Inverse Transform ========== #\n",
    "def safe_inverse_transform(scaler, y):\n",
    "    if y.ndim == 1:\n",
    "        y = y.reshape(-1, 1)\n",
    "    return scaler.inverse_transform(y).flatten()"
   ]
  },
  {
   "cell_type": "markdown",
   "id": "649960c2",
   "metadata": {},
   "source": [
    "> since this delivery i about GSGP we will keep this massive code in here to be easier to evaluate but in the final project we will do it in python file and import the function (if its ok of course) to make the notebook cleaner"
   ]
  },
  {
   "cell_type": "raw",
   "id": "d52fc25e",
   "metadata": {},
   "source": [
    "def nested_cv_gp_slim_gsgp(\n",
    "    X, y, param_grid, k_outer=5, k_inner=3, dataset_name=\"Chicken\", gp_class=None, seed=42, alpha_sig=0.05\n",
    "):\n",
    "    X = X.reset_index(drop=True)\n",
    "    y = y.reset_index(drop=True)\n",
    "    outer_scores = []\n",
    "    best_grid_models = []\n",
    "    validation_results = []  # This will store detailed results for analysis\n",
    "    detailed_results = []  # New: will store all fold results for all configs\n",
    "\n",
    "    os.makedirs(\"./log/GSGP/\", exist_ok=True)\n",
    "\n",
    "    keys, values = zip(*param_grid.items())\n",
    "    param_combos = [dict(zip(keys, v)) for v in product(*values)]\n",
    "\n",
    "    for fold_idx, fold_data in enumerate(nested_cv_generator(X, y, k_outer=k_outer, k_inner=k_inner, random_state=seed)):\n",
    "        print(f\"\\n========== OUTER FOLD {fold_idx+1}/{k_outer} ==========\")\n",
    "\n",
    "        best_config = None\n",
    "        best_val_score = float('inf')\n",
    "        all_inner_fold_scores = []  # will be list of [k_inner] RMSEs per config\n",
    "\n",
    "        # ============ Grid Search on Inner CV ============ #\n",
    "        for config_id, flat_config in enumerate(param_combos):\n",
    "            gp_config = {\n",
    "                'initializer': flat_config['initializer'],\n",
    "                'sspace': {\n",
    "                    'p_constants': flat_config['sspace.p_constants'],\n",
    "                    'max_init_depth': flat_config['sspace.max_init_depth'],\n",
    "                    #'max_depth': flat_config['sspace.max_depth'],\n",
    "                    'tree_constants': flat_config['sspace.tree_constants'],\n",
    "                },\n",
    "                'pop_size': flat_config['pop_size'],\n",
    "                'xo_prob': flat_config['xo_prob'],\n",
    "                'generations': flat_config['generations'],\n",
    "                'ms_lower': flat_config['ms_lower'],\n",
    "                'ms_upper': flat_config['ms_upper'],\n",
    "                'reconstruct': flat_config['reconstruct'],\n",
    "                'seed': seed\n",
    "            }\n",
    "\n",
    "            inner_fold_rmses = []\n",
    "\n",
    "            for inner_fold_idx, (inner_train_idx, inner_val_idx) in enumerate(fold_data['inner_splits']):\n",
    "                X_train = fold_data['X_outer_train'].iloc[inner_train_idx]\n",
    "                y_train = fold_data['y_outer_train'].iloc[inner_train_idx]\n",
    "                X_val = fold_data['X_outer_train'].iloc[inner_val_idx]\n",
    "                y_val = fold_data['y_outer_train'].iloc[inner_val_idx]\n",
    "\n",
    "                # Scaling\n",
    "                x_scaler = RobustScaler()\n",
    "                y_scaler = RobustScaler()\n",
    "                X_train_scaled = x_scaler.fit_transform(X_train)\n",
    "                X_val_scaled = x_scaler.transform(X_val)\n",
    "                y_train_scaled = y_scaler.fit_transform(y_train.values.reshape(-1, 1)).flatten()\n",
    "                y_val_scaled = y_scaler.transform(y_val.values.reshape(-1, 1)).flatten()\n",
    "\n",
    "                # Tensors\n",
    "                X_train_tensor = torch.tensor(X_train_scaled, dtype=torch.float32)\n",
    "                y_train_tensor = torch.tensor(y_train_scaled, dtype=torch.float32)\n",
    "                X_val_tensor = torch.tensor(X_val_scaled, dtype=torch.float32)\n",
    "                y_val_tensor = torch.tensor(y_val_scaled, dtype=torch.float32)\n",
    "\n",
    "                # Model training\n",
    "                model = gp_class(\n",
    "                    # Problem Instance\n",
    "                    X_train=X_train_tensor, y_train=y_train_tensor,\n",
    "                    X_test=X_val_tensor, y_test=y_val_tensor,\n",
    "                    dataset_name=dataset_name,\n",
    "                    fitness_function='rmse',\n",
    "                    minimization=True,\n",
    "\n",
    "                    # Search Space\n",
    "                    tree_constants=gp_config['sspace']['tree_constants'],\n",
    "                    tree_functions=['add', 'subtract', 'multiply', 'divide'],\n",
    "                    prob_const=gp_config['sspace']['p_constants'],\n",
    "                    init_depth=gp_config['sspace']['max_init_depth'],\n",
    "                    #max_depth=gp_config['sspace']['max_depth'],\n",
    "\n",
    "                    # GSGP instance\n",
    "                    pop_size=gp_config['pop_size'],\n",
    "                    p_xo=gp_config['xo_prob'],\n",
    "                    initializer=gp_config['initializer'],\n",
    "                    tournament_size=2,\n",
    "                    ms_lower = gp_config['ms_lower'], #`ms_lower`: lower bound for generating the random number used as mutation step.\n",
    "                    ms_upper = gp_config['ms_upper'], #`ms_upper`: upper bound for generating the random number used as mutation step.\n",
    "                    reconstruct = gp_config['reconstruct'],\n",
    "\n",
    "                    # Solve settings\n",
    "                    n_iter=gp_config['generations'],\n",
    "                    elitism=True,\n",
    "                    n_elites=1,\n",
    "                    test_elite=True,\n",
    "                    log_level=0,\n",
    "                    verbose=0,\n",
    "                    n_jobs=1,\n",
    "                    seed=gp_config['seed']\n",
    "                )\n",
    "\n",
    "                # Evaluation\n",
    "                with torch.no_grad():\n",
    "                    y_pred_scaled = model.predict(X_val_tensor).numpy()\n",
    "                    y_true_scaled = y_val_tensor.numpy()\n",
    "\n",
    "                    # Inverse transform to original scale\n",
    "                    y_pred = safe_inverse_transform(y_scaler, y_pred_scaled)\n",
    "                    y_true = safe_inverse_transform(y_scaler, y_true_scaled)\n",
    "\n",
    "                    rmse = np.sqrt(mean_squared_error(y_true, y_pred))\n",
    "                    inner_fold_rmses.append(rmse)\n",
    "                    \n",
    "                    # Store detailed results for this fold and config\n",
    "                    detailed_results.append({\n",
    "                        'outer_fold': fold_idx + 1,\n",
    "                        'inner_fold': inner_fold_idx + 1,\n",
    "                        'config_id': config_id,\n",
    "                        'config': str(flat_config),  # String representation\n",
    "                        'rmse': rmse\n",
    "                    })\n",
    "\n",
    "            avg_val_rmse = np.mean(inner_fold_rmses)\n",
    "            all_inner_fold_scores.append(inner_fold_rmses)\n",
    "\n",
    "            print(f\"  Config {config_id+1}/{len(param_combos)} | Inner Mean RMSE: {avg_val_rmse:.4f}\")\n",
    "\n",
    "            if avg_val_rmse < best_val_score:\n",
    "                best_val_score = avg_val_rmse\n",
    "                best_config = gp_config\n",
    "\n",
    "        print(f\"\\n✅ Best config for outer fold {fold_idx+1}:\")\n",
    "        print(best_config)\n",
    "        print(f\"Best inner RMSE: {best_val_score:.4f}\")\n",
    "        best_grid_models.append(best_config)\n",
    "\n",
    "        # Convert to DataFrame for statistical tests\n",
    "        df_inner_scores = pd.DataFrame(all_inner_fold_scores).T  # shape: (k_inner, n_configs)\n",
    "        validation_results.append(df_inner_scores)\n",
    "\n",
    "        # ============ Statistical Tests ============ #\n",
    "        print(\"\\nStatistical test on inner fold scores:\")\n",
    "        stat, p = friedmanchisquare(*[df_inner_scores[col] for col in df_inner_scores.columns])\n",
    "        print(f\"Friedman test statistic: {stat:.4f}, p-value: {p:.4f}\")\n",
    "        if p < alpha_sig:\n",
    "            posthoc_result = sp.posthoc_nemenyi_friedman(df_inner_scores.to_numpy())\n",
    "            significant_columns = posthoc_result.columns[posthoc_result.lt(0.05).any(axis=0)]\n",
    "            filtered_result = posthoc_result[posthoc_result < alpha_sig]\n",
    "            filtered_result = filtered_result.dropna(how='all').dropna(axis=1, how='all').fillna('-')\n",
    "            print(\"P-values of significant differences:\")\n",
    "            print(filtered_result)\n",
    "        else:\n",
    "            print(\"No significant differences found between configs.\")\n",
    "\n",
    "        # ============ Boxplot ============ #\n",
    "        # Convert detailed results to DataFrame for this outer fold\n",
    "        df_fold_results = pd.DataFrame([r for r in detailed_results if r['outer_fold'] == fold_idx + 1])\n",
    "        \n",
    "        # Create labels for configurations\n",
    "        config_labels = {\n",
    "            i: f\"Config {i+1}<br>\" + \"<br>\".join(\n",
    "                [f\"{k}: {v}\"[:30] for k, v in param_combos[i].items()]  # Corta cada item em 30 chars\n",
    "            )\n",
    "            for i in range(len(param_combos))\n",
    "        }\n",
    "        df_fold_results['config_label'] = df_fold_results['config_id'].map(config_labels)\n",
    "\n",
    "        fig = go.Figure()\n",
    "        fig.add_trace(go.Box(\n",
    "            x=df_fold_results['config_label'],\n",
    "            y=df_fold_results['rmse'],\n",
    "            fillcolor='rgba(108, 140, 200, 0.3)',\n",
    "            line=dict(color='rgba(108, 140, 200, 1)'),\n",
    "            boxpoints='all',\n",
    "            jitter=0,\n",
    "            pointpos=0,\n",
    "            marker=dict(color='rgba(108, 140, 200, 1)')\n",
    "        ))\n",
    "        fig.update_layout(\n",
    "            title=f'Inner CV RMSEs - Outer Fold {fold_idx+1}',\n",
    "            yaxis_title='Validation RMSE',\n",
    "            width=200 * len(param_combos),\n",
    "            height=400,\n",
    "            plot_bgcolor='#f1f1f1',\n",
    "            xaxis_tickangle=-90,\n",
    "            margin=dict(l=50, r=50, t=50, b=20),\n",
    "            showlegend=False\n",
    "        )\n",
    "        fig.show()\n",
    "\n",
    "\n",
    "        # ============ Retrain on Outer Train, Evaluate on Outer Test ============ #\n",
    "        x_scaler = RobustScaler()\n",
    "        y_scaler = RobustScaler()\n",
    "        X_outer_train_scaled = x_scaler.fit_transform(fold_data['X_outer_train'])\n",
    "        X_test_scaled = x_scaler.transform(fold_data['X_test'])\n",
    "        y_outer_train_scaled = y_scaler.fit_transform(fold_data['y_outer_train'].values.reshape(-1, 1)).flatten()\n",
    "        y_test_scaled = y_scaler.transform(fold_data['y_test'].values.reshape(-1, 1)).flatten()\n",
    "\n",
    "        X_outer_train_tensor = torch.tensor(X_outer_train_scaled, dtype=torch.float32)\n",
    "        y_outer_train_tensor = torch.tensor(y_outer_train_scaled, dtype=torch.float32)\n",
    "        X_test_tensor = torch.tensor(X_test_scaled, dtype=torch.float32)\n",
    "        y_test_tensor = torch.tensor(y_test_scaled, dtype=torch.float32)\n",
    "\n",
    "        model = gp_class(\n",
    "            # Problem Instance\n",
    "            X_train=X_outer_train_tensor, y_train=y_outer_train_tensor,\n",
    "            X_test=X_test_tensor, y_test=y_test_tensor,\n",
    "            dataset_name=dataset_name,\n",
    "            fitness_function='rmse',\n",
    "            minimization=True,\n",
    "            \n",
    "            # Search Space\n",
    "            tree_constants=best_config['sspace']['tree_constants'],\n",
    "            tree_functions=['add', 'subtract', 'multiply', 'divide'],\n",
    "            prob_const=best_config['sspace']['p_constants'],\n",
    "            init_depth=best_config['sspace']['max_init_depth'],\n",
    "            #max_depth=best_config['sspace']['max_depth'],\n",
    "\n",
    "            # GSGP instance\n",
    "            pop_size=best_config['pop_size'],\n",
    "            p_xo=best_config['xo_prob'],\n",
    "            initializer=best_config['initializer'],\n",
    "            tournament_size=2,\n",
    "            ms_lower = best_config['ms_lower'], #`ms_lower`: lower bound for generating the random number used as mutation step.\n",
    "            ms_upper = best_config['ms_upper'], #`ms_upper`: upper bound for generating the random number used as mutation step.\n",
    "            reconstruct = best_config['reconstruct'],\n",
    "\n",
    "            # Solve settings\n",
    "            n_iter=best_config['generations'],\n",
    "            elitism=True,\n",
    "            n_elites=1,\n",
    "            test_elite=True,\n",
    "            log_level=0,\n",
    "            verbose=0,\n",
    "            n_jobs=1,\n",
    "            seed=best_config['seed']\n",
    "        )\n",
    "\n",
    "        with torch.no_grad():\n",
    "            y_pred_scaled = model.predict(X_test_tensor).numpy()\n",
    "            y_pred_rescaled = safe_inverse_transform(y_scaler, y_pred_scaled)\n",
    "            test_rmse = np.sqrt(mean_squared_error(fold_data['y_test'], y_pred_rescaled))\n",
    "\n",
    "        print(f\"\\n[Outer Fold {fold_idx+1}] Test RMSE: {test_rmse:.4f}\")\n",
    "        outer_scores.append(test_rmse)\n",
    "        gc.collect()\n",
    "\n",
    "    print(f\"\\n================ Final Results ================\\nMean RMSE: {np.mean(outer_scores):.4f} ± {np.std(outer_scores):.4f}\")\n",
    "    df_all_results = pd.DataFrame(detailed_results)\n",
    "    return np.array(outer_scores), best_grid_models, df_all_results, validation_results"
   ]
  },
  {
   "cell_type": "markdown",
   "id": "812a2ee5",
   "metadata": {},
   "source": [
    "| **Parameter**        | **Test Values**                                | **Why ??**                                                                                             |\n",
    "| -------------------- | ----------------------------------------------------- | ----------------------------------------------------------------------------------------------------------------------------------------------- |\n",
    "| `init_depth`         | `[3, 5]`                                              | Smaller initial trees (shallow depth) reduce the risk of overfitting early on. With 96 entries, you want simplicity and better generalization.  |\n",
    "| `tree_constants`     | `[random.uniform(0, 1) for _ in range(9)] + [-1.]`    | Constants allow models to fine-tune predictions. Using a limited, balanced range prevents excessive reliance on constants (avoids \"bloat\").     |\n",
    "| `p_constants`        | `[0.1, 0.5]`                                          | High constant probability makes the tree more about constants than structure. This is dangerous for small data — prefer 10–20% range.           |\n",
    "| `tree_functions`     | `['add', 'subtract', 'multiply', 'divide']` | Basic arithmetic gives expressive power. `protected_divide` avoids runtime errors. Don’t add too many functions — it increases search space.    |\n",
    "| `pop_size`           | `[20, 30, 50]`                                        | Small datasets don’t need huge populations. Lower sizes = faster runs and still enough diversity. 20–50 is a good starting point.               |\n",
    "| `p_xo`               | `[0.7, 0.9]`                                          | Crossover (recombination) promotes diversity and generalization. On small data, too much crossover (close to 1.0) might disrupt good solutions. |\n",
    "| `initializer`        | `\"grow\", \"rhh\"`                                       | `grow` creates variable-sized trees. `rhh` mixes it with `full`, adding diversity. `full` alone — it tends to create deep, overfit trees. |\n",
    "| `elitism`            | `[True]`                                              | Keep the best solution in each generation. With few samples, losing the best-performing individual can seriously hurt performance.              |\n",
    "| `n_iter`             | `[10, 15]`                                                  | Has to be lower than in regular GP, given that there is no maximum depth GSGP tends to bloat very quickly                        |\n",
    "| `reconstruct`             | `True`                                                  | GSGP requires this parameter to store the trees' structure to construct the new generation                        |"
   ]
  },
  {
   "cell_type": "raw",
   "id": "063d545e",
   "metadata": {},
   "source": [
    "TREE_CONSTANTS = [random.uniform(0, 1) for _ in range(9)] + [-1.]\n",
    "\n",
    "param_grid = {\n",
    "    'initializer': ['grow', 'rhh'],\n",
    "    'sspace.p_constants': [0.1, 0.5], \n",
    "    'sspace.max_init_depth': [3, 5],\n",
    "    'sspace.tree_constants': [TREE_CONSTANTS],\n",
    "    'pop_size': [30, 50],\n",
    "    'xo_prob': [0.7, 0.9],\n",
    "    'generations': [10],\n",
    "    'ms_lower': [0],\n",
    "    'ms_upper': [1],\n",
    "    'reconstruct': [True]\n",
    "}\n",
    "\n",
    "# Seeds to test\n",
    "seeds = [42, 123, 456]  # You can change these to any seeds you prefer\n",
    "\n",
    "# Store results from all seeds\n",
    "all_scores = []\n",
    "all_best_models = []\n",
    "all_results = []\n",
    "all_validation = []\n",
    "\n",
    "for seed in seeds:\n",
    "    print(f\"\\n=== Running with seed: {seed} ===\\n\")\n",
    "    \n",
    "    # Set random seeds for reproducibility\n",
    "    random.seed(seed)\n",
    "    np.random.seed(seed)\n",
    "    torch.manual_seed(seed)\n",
    "    \n",
    "    # Run the experiment\n",
    "    scores, best_models, df_results, val_results = nested_cv_gp_slim_gsgp(\n",
    "        X=X, y=y,\n",
    "        param_grid=param_grid,\n",
    "        gp_class=gsgp,\n",
    "        k_outer=5, k_inner=3,\n",
    "        seed=seed\n",
    "    )\n",
    "    \n",
    "    # Store results\n",
    "    all_scores.append(scores)\n",
    "    all_best_models.append(best_models)\n",
    "    all_results.append(df_results)\n",
    "    all_validation.append(val_results)"
   ]
  },
  {
   "cell_type": "markdown",
   "id": "43b98bba",
   "metadata": {},
   "source": [
    "Running the full CV 3 times with different seeds to mitigate randomness from GP (e.g., in init, selection, mutation), and get statistically more reliable average performance (like doing 30 folds total) -> common trick in evolutionary algorithms due to their stochastic nature."
   ]
  },
  {
   "cell_type": "raw",
   "id": "4e55d88a",
   "metadata": {},
   "source": [
    "def dict_to_hashable(d):\n",
    "    def make_hashable(value):\n",
    "        if isinstance(value, dict):\n",
    "            return tuple(sorted((k, make_hashable(v)) for k, v in value.items()))\n",
    "        elif isinstance(value, list):\n",
    "            return tuple(make_hashable(x) for x in value)\n",
    "        elif isinstance(value, set):\n",
    "            return tuple(sorted(make_hashable(x) for x in value))\n",
    "        else:\n",
    "            return value\n",
    "    \n",
    "    return tuple(sorted((k, make_hashable(v)) for k, v in d.items()))\n",
    "\n",
    "# Now process the results\n",
    "mean_scores = np.mean([scores for scores in all_scores], axis=0)\n",
    "std_scores = np.std([scores for scores in all_scores], axis=0)\n",
    "\n",
    "try:\n",
    "    all_configs_hashed = [dict_to_hashable(config) for seed_models in all_best_models for config in seed_models]\n",
    "    config_counts = Counter(all_configs_hashed)\n",
    "    \n",
    "    if config_counts:\n",
    "        most_common_config_hash = config_counts.most_common(1)[0][0]\n",
    "        best_config = dict((k, dict(v) if isinstance(v, tuple) else v) \n",
    "                        for k, v in most_common_config_hash)\n",
    "        \n",
    "        print(\"\\n=== Final Results ===\")\n",
    "        print(f\"Mean RMSE across seeds: {np.mean(mean_scores):.4f} ± {np.mean(std_scores):.4f}\")\n",
    "        print(\"\\nBest configuration found in most runs:\")\n",
    "        for k, v in best_config.items():\n",
    "            if isinstance(v, dict):\n",
    "                print(f\"  {k}:\")\n",
    "                for sub_k, sub_v in v.items():\n",
    "                    print(f\"    {sub_k}: {sub_v}\")\n",
    "            else:\n",
    "                print(f\"  {k}: {v}\")\n",
    "    else:\n",
    "        print(\"No valid configurations found in all_best_models\")\n",
    "except Exception as e:\n",
    "    print(f\"Error processing configurations: {str(e)}\")"
   ]
  },
  {
   "cell_type": "markdown",
   "id": "8fcac268",
   "metadata": {},
   "source": [
    "> GSGP best configuration"
   ]
  },
  {
   "cell_type": "raw",
   "id": "3ca6c582",
   "metadata": {},
   "source": [
    "# ========== Config from Best Run ==========\n",
    "best_config = {\n",
    "    'initializer': 'grow',\n",
    "    'prob_const': 0.1,\n",
    "    'init_depth': 5,\n",
    "    'tree_constants': [0.6394267984578837, 0.025010755222666936, 0.27502931836911926,\n",
    "                       0.22321073814882275, 0.7364712141640124, 0.6766994874229113,\n",
    "                       0.8921795677048454, 0.08693883262941615, 0.4219218196852704, -1.0],\n",
    "    'pop_size': 30,\n",
    "    'xo_prob': 0.9,\n",
    "    'generations': 10,\n",
    "    'ms_lower': 0,\n",
    "    'ms_upper': 1,\n",
    "    'reconstruct': True,\n",
    "    'seed': 123\n",
    "}"
   ]
  },
  {
   "cell_type": "raw",
   "id": "191c9a6a",
   "metadata": {},
   "source": [
    "def evaluate_gp_with_best_config(X, y, best_config, gp_class, k_outer=5, seed=42, verbose=True):\n",
    "    \n",
    "    outer_cv = KFold(n_splits=k_outer, shuffle=True, random_state=seed)\n",
    "    outer_scores = []\n",
    "    models = []\n",
    "\n",
    "    for fold_idx, (train_idx, test_idx) in enumerate(outer_cv.split(X)):\n",
    "        print(f\"\\n=== Outer Fold {fold_idx+1}/{k_outer} ===\")\n",
    "\n",
    "        X_train, X_test = X.iloc[train_idx], X.iloc[test_idx]\n",
    "        y_train, y_test = y.iloc[train_idx], y.iloc[test_idx]\n",
    "\n",
    "        # Scaling\n",
    "        x_scaler = RobustScaler()\n",
    "        y_scaler = RobustScaler()\n",
    "        X_train_scaled = x_scaler.fit_transform(X_train)\n",
    "        y_train_scaled = y_scaler.fit_transform(y_train.values.reshape(-1, 1)).flatten()\n",
    "        X_test_scaled = x_scaler.transform(X_test)\n",
    "        y_test_scaled = y_scaler.transform(y_test.values.reshape(-1, 1)).flatten()\n",
    "\n",
    "        X_train_tensor = torch.tensor(X_train_scaled, dtype=torch.float32)\n",
    "        y_train_tensor = torch.tensor(y_train_scaled, dtype=torch.float32)\n",
    "        X_test_tensor = torch.tensor(X_test_scaled, dtype=torch.float32)\n",
    "        y_test_tensor = torch.tensor(y_test_scaled, dtype=torch.float32)\n",
    "\n",
    "        model = gp_class(\n",
    "            # Problem Instance\n",
    "            X_train=X_train_tensor, y_train=y_train_tensor,\n",
    "            X_test=X_test_tensor, y_test=y_test_tensor,\n",
    "            dataset_name=\"🐓 Chicken 🐓\",\n",
    "            fitness_function='rmse',\n",
    "            minimization=True,\n",
    "\n",
    "            # Search Space\n",
    "            tree_constants=best_config['tree_constants'],\n",
    "            tree_functions=['add', 'subtract', 'multiply', 'divide'],\n",
    "            prob_const=best_config['prob_const'],\n",
    "            init_depth=best_config['init_depth'],\n",
    "            #max_depth=best_config['max_depth'],\n",
    "\n",
    "            # GSGP instance\n",
    "            pop_size=best_config['pop_size'],\n",
    "            p_xo=best_config['xo_prob'],\n",
    "            initializer=best_config['initializer'],\n",
    "            tournament_size=2,\n",
    "            ms_lower = best_config['ms_lower'], #`ms_lower`: lower bound for generating the random number used as mutation step.\n",
    "            ms_upper = best_config['ms_upper'], #`ms_upper`: upper bound for generating the random number used as mutation step.\n",
    "            reconstruct = best_config['reconstruct'],\n",
    "\n",
    "            # Solve settings\n",
    "            n_iter=best_config['generations'],\n",
    "            elitism=True,\n",
    "            n_elites=1,\n",
    "            test_elite=True,\n",
    "            log_level=2,\n",
    "            log_path=f\"./log/GSGP/fold_{fold_idx+1}.csv\",\n",
    "            verbose=1 if verbose else 0,\n",
    "            n_jobs=1,\n",
    "            seed=best_config['seed']\n",
    "        )\n",
    "\n",
    "        models.append(model)\n",
    "\n",
    "        with torch.no_grad():\n",
    "            y_pred_scaled = model.predict(X_test_tensor).numpy()\n",
    "            y_pred_rescaled = safe_inverse_transform(y_scaler, y_pred_scaled)\n",
    "            rmse = np.sqrt(mean_squared_error(y_test, y_pred_rescaled))\n",
    "        print(f'Predicted Values: {y_pred_rescaled}')\n",
    "        print(f'Real Values: {y_test}')\n",
    "        print(f\"Fold {fold_idx+1} RMSE: {rmse:.4f}\")\n",
    "        outer_scores.append(rmse)\n",
    "\n",
    "    print(f\"\\n✅ Final RMSE across {k_outer} folds: {np.mean(outer_scores):.4f} ± {np.std(outer_scores):.4f}\")\n",
    "    return outer_scores, models"
   ]
  },
  {
   "cell_type": "raw",
   "id": "1c55ac33",
   "metadata": {},
   "source": [
    "outer_scores, models = evaluate_gp_with_best_config(X, y, best_config, gp_class=gsgp, k_outer=5)"
   ]
  },
  {
   "cell_type": "raw",
   "id": "0adf20b1",
   "metadata": {},
   "source": [
    "# Log level 2\n",
    "# -----------\n",
    "# 0  - Algorithm\n",
    "# 1  - Instance ID\n",
    "# 2  - Dataset\n",
    "# 3  - Seed\n",
    "# 4  - Generation\n",
    "# 5  - Fitness\n",
    "# 6  - Running time\n",
    "# 7  - Population nodes\n",
    "# 8  - Test fitness\n",
    "# 9  - Elite nodes\n",
    "# 10 - Genotype diversity: gsgp_pop_div_from_vectors (Calculate the diversity of a population from semantic vectors)\n",
    "# 11 - Phenotype diversity: sd(pop.fit)\n",
    "# 12 - Log level\n",
    "\n",
    "COLUMN_NAMES = [\n",
    "    \"Algorithm\",      # 0\n",
    "    \"Instance_ID\",    # 1\n",
    "    \"Dataset\",        # 2\n",
    "    \"Seed\",           # 3\n",
    "    \"Generation\",     # 4\n",
    "    \"Fitness\",        # 5 (Train RMSE)\n",
    "    \"Running_time\",   # 6\n",
    "    \"Population_nodes\", # 7\n",
    "    \"Test_fitness\",   # 8 (Test RMSE)\n",
    "    \"Elite_nodes\",    # 9 (Tree size)\n",
    "    \"Genotype_diversity\",  # 10\n",
    "    \"Phenotype_diversity\",     # 11 (Fitness diversity)\n",
    "    \"Log_level\"       # 12\n",
    "]\n",
    "\n",
    "# Load all folds with column names\n",
    "folds = []\n",
    "for i in range(1, 6):\n",
    "    df = pd.read_csv(f\"log/GSGP/fold_{i}.csv\", header=None)\n",
    "    df.columns = COLUMN_NAMES  # Assign column names\n",
    "    folds.append(df)"
   ]
  },
  {
   "cell_type": "raw",
   "id": "46990d38",
   "metadata": {},
   "source": [
    "folds[0].head()"
   ]
  },
  {
   "cell_type": "raw",
   "id": "5ca3a436",
   "metadata": {},
   "source": [
    "for fold_idx, model in enumerate(models, start=1):\n",
    "    print(f\"\\n=== Tree Representation (Fold {fold_idx}) ===\")\n",
    "    print(str(model.structure))\n",
    "    print(model.structure[1].structure)"
   ]
  },
  {
   "cell_type": "raw",
   "id": "5de1bdb4",
   "metadata": {},
   "source": [
    "NUMERIC_COLS = [\"Generation\", \"Fitness\", \"Running_time\", \"Population_nodes\", \n",
    "                \"Test_fitness\", \"Elite_nodes\", \"Genotype_diversity\", \"Phenotype_diversity\"]\n",
    "numeric_folds = [df[NUMERIC_COLS] for df in folds]"
   ]
  },
  {
   "cell_type": "raw",
   "id": "e89b7228",
   "metadata": {},
   "source": [
    "numeric_folds[0].head()"
   ]
  },
  {
   "cell_type": "raw",
   "id": "55baed18",
   "metadata": {},
   "source": [
    "# all_data = np.stack([df.values for df in numeric_folds])\n",
    "\n",
    "all_data = [df[NUMERIC_COLS].apply(pd.to_numeric, errors='coerce') for df in folds]\n",
    "\n",
    "#  mean and std across folds\n",
    "mean = np.mean(all_data, axis=0)  \n",
    "std = np.std(all_data, axis=0)\n",
    "mean_df = pd.DataFrame(mean, columns=NUMERIC_COLS)\n",
    "std_df = pd.DataFrame(std, columns=NUMERIC_COLS)"
   ]
  },
  {
   "cell_type": "raw",
   "id": "842a15ca",
   "metadata": {},
   "source": [
    "DATASET_NAME = 'Chicken Dataset'\n",
    "fig = go.Figure()\n",
    "\n",
    "# Train Fitness (mean ± std)\n",
    "fig.add_trace(go.Scatter(\n",
    "    x=mean_df[\"Generation\"],\n",
    "    y=mean_df[\"Fitness\"],\n",
    "    mode='lines',\n",
    "    name='Train RMSE (mean)',\n",
    "    line=dict(color='blue', width=2)\n",
    "))\n",
    "# Add std as a shaded region (light blue)\n",
    "fig.add_trace(go.Scatter(\n",
    "    x=mean_df[\"Generation\"],\n",
    "    y=mean_df[\"Fitness\"] + std_df[\"Fitness\"],\n",
    "    mode='lines',\n",
    "    line=dict(width=0),\n",
    "    showlegend=False,\n",
    "    fillcolor='rgba(0, 100, 255, 0.2)',\n",
    "    fill='tonexty'\n",
    "))\n",
    "fig.add_trace(go.Scatter(\n",
    "    x=mean_df[\"Generation\"],\n",
    "    y=mean_df[\"Fitness\"] - std_df[\"Fitness\"],\n",
    "    mode='lines',\n",
    "    line=dict(width=0),\n",
    "    name='±1 std (Train)',\n",
    "    fillcolor='rgba(0, 100, 255, 0.2)'\n",
    "))\n",
    "\n",
    "# Test Fitness (mean ± std)\n",
    "fig.add_trace(go.Scatter(\n",
    "    x=mean_df[\"Generation\"],\n",
    "    y=mean_df[\"Test_fitness\"],\n",
    "    mode='lines',\n",
    "    name='Test RMSE (mean)',\n",
    "    line=dict(color='red', width=2)\n",
    "))\n",
    "# Add std as a shaded region (light red)\n",
    "fig.add_trace(go.Scatter(\n",
    "    x=mean_df[\"Generation\"],\n",
    "    y=mean_df[\"Test_fitness\"] + std_df[\"Test_fitness\"],\n",
    "    mode='lines',\n",
    "    line=dict(width=0),\n",
    "    showlegend=False,\n",
    "    fillcolor='rgba(255, 50, 50, 0.2)',\n",
    "    fill='tonexty'\n",
    "))\n",
    "fig.add_trace(go.Scatter(\n",
    "    x=mean_df[\"Generation\"],\n",
    "    y=mean_df[\"Test_fitness\"] - std_df[\"Test_fitness\"],\n",
    "    mode='lines',\n",
    "    line=dict(width=0),\n",
    "    name='±1 std (Test)',\n",
    "    fillcolor='rgba(255, 50, 50, 0.2)'\n",
    "))\n",
    "\n",
    "fig.update_layout(\n",
    "    title=f'GSGP Fitness Evolution ({DATASET_NAME}, 5-fold mean ± std)',\n",
    "    xaxis_title='Generation',\n",
    "    yaxis_title='RMSE',\n",
    "    hovermode='x unified',\n",
    "    height=400,\n",
    "    width=800\n",
    ")\n",
    "fig.show()"
   ]
  },
  {
   "cell_type": "raw",
   "id": "28feb00c",
   "metadata": {},
   "source": [
    "fig = go.Figure()\n",
    "\n",
    "# Mean Size (Elite_nodes)\n",
    "fig.add_trace(go.Scatter(\n",
    "    x=mean_df[\"Generation\"],\n",
    "    y=mean_df[\"Elite_nodes\"],\n",
    "    mode='lines',\n",
    "    name='Size (mean)',\n",
    "    line=dict(color='green', width=2)\n",
    "))\n",
    "\n",
    "# Std as shaded region (light green)\n",
    "fig.add_trace(go.Scatter(\n",
    "    x=mean_df[\"Generation\"],\n",
    "    y=mean_df[\"Elite_nodes\"] + std_df[\"Elite_nodes\"],\n",
    "    mode='lines',\n",
    "    line=dict(width=0),\n",
    "    showlegend=False,\n",
    "    fillcolor='rgba(50, 200, 50, 0.2)',\n",
    "    fill='tonexty'\n",
    "))\n",
    "fig.add_trace(go.Scatter(\n",
    "    x=mean_df[\"Generation\"],\n",
    "    y=mean_df[\"Elite_nodes\"] - std_df[\"Elite_nodes\"],\n",
    "    mode='lines',\n",
    "    line=dict(width=0),\n",
    "    name='±1 std',\n",
    "    fillcolor='rgba(50, 200, 50, 0.2)'\n",
    "))\n",
    "\n",
    "fig.update_layout(\n",
    "    title=f'GSGP - Size Evolution ({DATASET_NAME}, 5-fold mean ± std)',\n",
    "    xaxis_title='Generation',\n",
    "    yaxis_title='Number of Nodes',\n",
    "    yaxis_range=[0, None],  # Start y-axis at 0\n",
    "    height=400,\n",
    "    width=800,\n",
    "    margin=dict(t=50),\n",
    "    hovermode='x unified'\n",
    ")\n",
    "fig.show()"
   ]
  },
  {
   "cell_type": "raw",
   "id": "33225fab",
   "metadata": {},
   "source": [
    "fig = go.Figure()\n",
    "\n",
    "# Mean Size (Elite_nodes)\n",
    "fig.add_trace(go.Scatter(\n",
    "    x=mean_df[\"Generation\"],\n",
    "    y=mean_df[\"Phenotype_diversity\"],\n",
    "    mode='lines',\n",
    "    name='Size (mean)',\n",
    "    line=dict(color='green', width=2)\n",
    "))\n",
    "\n",
    "# Std as shaded region (light green)\n",
    "fig.add_trace(go.Scatter(\n",
    "    x=mean_df[\"Generation\"],\n",
    "    y=mean_df[\"Phenotype_diversity\"] + std_df[\"Phenotype_diversity\"],\n",
    "    mode='lines',\n",
    "    line=dict(width=0),\n",
    "    showlegend=False,\n",
    "    fillcolor='rgba(50, 200, 50, 0.2)',\n",
    "    fill='tonexty'\n",
    "))\n",
    "fig.add_trace(go.Scatter(\n",
    "    x=mean_df[\"Generation\"],\n",
    "    y=mean_df[\"Phenotype_diversity\"] - std_df[\"Phenotype_diversity\"],\n",
    "    mode='lines',\n",
    "    line=dict(width=0),\n",
    "    name='±1 std',\n",
    "    fillcolor='rgba(50, 200, 50, 0.2)'\n",
    "))\n",
    "\n",
    "fig.update_layout(\n",
    "    title=f'GSGP - Population Fitness Diversity ({DATASET_NAME}, 5-fold mean ± std)',\n",
    "    xaxis_title='Generation',\n",
    "    yaxis_title='Fitness Standard Deviation',\n",
    "    yaxis_range=[0, None],  # Start y-axis at 0\n",
    "    height=400,\n",
    "    width=800,\n",
    "    margin=dict(t=50),\n",
    "    hovermode='x unified'\n",
    ")\n",
    "fig.show()"
   ]
  },
  {
   "cell_type": "markdown",
   "id": "da93d936",
   "metadata": {},
   "source": [
    "`Geral Notes:` We notice that using a large population size or a high number of iterations in GSGP lead to a significant bloating, doing some research lead to the conclusion that since its generation introduces new semantic components without reducing the complexity of the existing structure this is normal so to reduce the big node count we used a smaller initial population and generations. \n",
    "\n",
    "Also, like for GP, although the best-performing configuration was found after the tuning, we ended up testing it again this time with the verbose parameter so we can analyze the generations across folds more in depth - we used the **5-fold outer cross-validation** to get am unbiased estimate of how well the model would perform on completely unseen data (as we explained before) -> Again, this helps avoid the trap of getting overly optimistic results from a single lucky train-test split.\n",
    "\n",
    "---\n",
    "\n",
    "- **Outer Fold 1 and Outer Fold 2 (More bloat in this one beacause the model tried to excape local opt more than one time)**\n",
    "\n",
    "This fold initially performed quite well, showing promise in the early generations, it converged on generation 9. But, at the beginning, from generation 0 to 3, the test fitness drooped from 0.94 → 0.62 and training fitness from 0.94 → 0.83, and then in generation 4, the model began to overfit → the training fitness kept decreasing, but the test fitness did increase a bit 0.62 → 0.78 → 0.75.This suggests the model failed to generalize better despite training improvements.\n",
    "\n",
    "Bloat was significant but the gsgp model is also more prone to that, we did have imporvements with some adjustments we did during the tunning, specifically experimenting with poppulation and interaction sizes, but we can explore that further. The increased complexity started when the signs of overfitting appear so we conclude that the model tried to increase complexity to improve the test score but without benefit from it.\n",
    "\n",
    "Basically the model found a good region early but lacked mechanisms to control complexity or escape local optima.\n",
    "\n",
    "- **Outer Fold 3**\n",
    "\n",
    "This was the worst-performing fold in terms of rmse  so far, like in gp this fols with the low test value of 73 usually leads to problems, in this case the model converged early in gen 4/5 and then started to increase complexity / bloat to try to escape this lcocal optima, in the end did imporve a little bit but the trade off btw complexity and and the score was not worthed.\n",
    "\n",
    "Training fitness, on the other hand, kept improving (0.76 → 0.45), indicating overfitting.\n",
    "\n",
    "- **Outer Fold 4**\n",
    "\n",
    "Again, it converged early in generations 4/5 and like in the other folds it started to add complexity to escape this local opt leading it to bloat, it did converged again on generation 9 but the score is worse than in generation 5, and since the training kept decreasing we can conclude the existance of overfitting. \n",
    "\n",
    "In the end, this fold demonstrates one of the best trade-offs between accuracy and complexity.\n",
    "\n",
    "- **Outer Fold 5**\n",
    "\n",
    "Similar thing happen in this fold, but the model was able to escape the local optmia with the increased bloat.\n",
    "\n"
   ]
  },
  {
   "cell_type": "markdown",
   "id": "a9a27577",
   "metadata": {},
   "source": [
    "#### <a id=\"slim\"></a> \n",
    "<div style=\"background-color: hsla(120, 71.40%, 43.90%, 0.30); padding: 10px; border-radius: 8px; text-align: left; margin-top: 20px; margin-bottom: 20px;\">\n",
    "    <h4 style=\"color: white; margin: 0;\">4. Semantic Learning algorithm with Inflate and deflate Mutations (SLIM)</h4>\n",
    "</div>\n",
    "\n",
    "[Back to Index](#idx)"
   ]
  },
  {
   "cell_type": "raw",
   "id": "dbdfced1",
   "metadata": {
    "vscode": {
     "languageId": "raw"
    }
   },
   "source": [
    "# ========== Safe Inverse Transform ========== #\n",
    "def safe_inverse_transform(scaler, y):\n",
    "    if y.ndim == 1:\n",
    "        y = y.reshape(-1, 1)\n",
    "    return scaler.inverse_transform(y).flatten()"
   ]
  },
  {
   "cell_type": "raw",
   "id": "2ed82a4c",
   "metadata": {
    "vscode": {
     "languageId": "raw"
    }
   },
   "source": [
    "def nested_cv_gp_slim_gsgp(\n",
    "    X, y, param_grid, k_outer=5, k_inner=3, dataset_name=\"Chicken\", gp_class=None, seed=42, alpha_sig=0.05\n",
    "):\n",
    "    X = X.reset_index(drop=True)\n",
    "    y = y.reset_index(drop=True)\n",
    "    outer_scores = []\n",
    "    best_grid_models = []\n",
    "    validation_results = []  # Stores validation RMSEs for each inner fold and config\n",
    "    detailed_results = []  # Stores all inner fold results for all configs\n",
    "\n",
    "    os.makedirs(\"./log/SLIM/\", exist_ok=True)\n",
    "\n",
    "    # Generate all parameter combinations for grid search\n",
    "    keys, values = zip(*param_grid.items())\n",
    "    param_combos = [dict(zip(keys, v)) for v in product(*values)]\n",
    "\n",
    "    for fold_idx, fold_data in enumerate(nested_cv_generator(X, y, k_outer=k_outer, k_inner=k_inner, random_state=seed)):\n",
    "        print(f\"\\n========== OUTER FOLD {fold_idx+1}/{k_outer} ==========\")\n",
    "\n",
    "        best_config = None\n",
    "        best_val_score = float('inf')\n",
    "        all_inner_fold_scores = []  # RMSEs for each config across inner folds\n",
    "\n",
    "        # ============ Grid Search on Inner CV ============ #\n",
    "        for config_id, flat_config in enumerate(param_combos):\n",
    "            # Build configuration dictionary\n",
    "            gp_config = {\n",
    "                'initializer': flat_config['initializer'],\n",
    "                'sspace': {\n",
    "                    'p_constants': flat_config['sspace.p_constants'],\n",
    "                    'max_init_depth': flat_config['sspace.max_init_depth'],\n",
    "                    'tree_constants': flat_config['sspace.tree_constants'],\n",
    "                    'max_depth': flat_config['sspace.max_init_depth'] + 6\n",
    "                },\n",
    "                'pop_size': flat_config['pop_size'],\n",
    "                'generations': flat_config['generations'],\n",
    "                'ms_lower': flat_config['ms_lower'],\n",
    "                'ms_upper': flat_config['ms_upper'],\n",
    "                'reconstruct': flat_config['reconstruct'],\n",
    "                'slim_version': flat_config['slim_version'],\n",
    "                'p_inflate': flat_config['p_inflate'],\n",
    "                'copy_parent': flat_config['copy_parent'],\n",
    "                'seed': seed\n",
    "            }\n",
    "\n",
    "            inner_fold_rmses = []\n",
    "\n",
    "            # Perform inner CV\n",
    "            for inner_fold_idx, (inner_train_idx, inner_val_idx) in enumerate(fold_data['inner_splits']):\n",
    "                X_train = fold_data['X_outer_train'].iloc[inner_train_idx]\n",
    "                y_train = fold_data['y_outer_train'].iloc[inner_train_idx]\n",
    "                X_val = fold_data['X_outer_train'].iloc[inner_val_idx]\n",
    "                y_val = fold_data['y_outer_train'].iloc[inner_val_idx]\n",
    "\n",
    "                # Scale features and target\n",
    "                x_scaler = RobustScaler()\n",
    "                y_scaler = RobustScaler()\n",
    "                X_train_scaled = x_scaler.fit_transform(X_train)\n",
    "                X_val_scaled = x_scaler.transform(X_val)\n",
    "                y_train_scaled = y_scaler.fit_transform(y_train.values.reshape(-1, 1)).flatten()\n",
    "                y_val_scaled = y_scaler.transform(y_val.values.reshape(-1, 1)).flatten()\n",
    "\n",
    "                # Convert to tensors\n",
    "                X_train_tensor = torch.tensor(X_train_scaled, dtype=torch.float32)\n",
    "                y_train_tensor = torch.tensor(y_train_scaled, dtype=torch.float32)\n",
    "                X_val_tensor = torch.tensor(X_val_scaled, dtype=torch.float32)\n",
    "                y_val_tensor = torch.tensor(y_val_scaled, dtype=torch.float32)\n",
    "\n",
    "                # Train SLIM model with current configuration\n",
    "                model = gp_class(\n",
    "                    # Problem Instance\n",
    "                    X_train=X_train_tensor, y_train=y_train_tensor,\n",
    "                    X_test=X_val_tensor, y_test=y_val_tensor,\n",
    "                    dataset_name=dataset_name,\n",
    "                    fitness_function='rmse',\n",
    "                    minimization=True,\n",
    "\n",
    "                    # Search space\n",
    "                    init_depth=gp_config['sspace']['max_init_depth'],\n",
    "                    max_depth=gp_config['sspace']['max_depth'],\n",
    "                    tree_constants=gp_config['sspace']['tree_constants'],\n",
    "                    tree_functions=['add', 'subtract', 'multiply', 'divide'],\n",
    "                    prob_const=gp_config['sspace']['p_constants'],\n",
    "                    initializer=gp_config['initializer'],\n",
    "\n",
    "                    # SLIM instance\n",
    "                    pop_size=gp_config['pop_size'],\n",
    "                    tournament_size=2,\n",
    "                    ms_lower=gp_config['ms_lower'],\n",
    "                    ms_upper=gp_config['ms_upper'],\n",
    "                    reconstruct=gp_config['reconstruct'],\n",
    "                    slim_version=gp_config['slim_version'],\n",
    "                    p_inflate = gp_config['p_inflate'],\n",
    "                    copy_parent = gp_config['copy_parent'],\n",
    "\n",
    "                    # Solve settings\n",
    "                    n_iter=gp_config['generations'],\n",
    "                    elitism=True,\n",
    "                    n_elites=1,\n",
    "                    test_elite=True,\n",
    "                    log_path=\"./log/SLIM/\",\n",
    "                    log_level=0,\n",
    "                    verbose=0,\n",
    "                    n_jobs=1,\n",
    "                    seed=gp_config['seed']\n",
    "                )\n",
    "\n",
    "                # Evaluate on validation set\n",
    "                with torch.no_grad():\n",
    "                    y_pred_scaled = model.predict(X_val_tensor).numpy()\n",
    "                    y_true_scaled = y_val_tensor.numpy()\n",
    "\n",
    "                    y_pred = safe_inverse_transform(y_scaler, y_pred_scaled)\n",
    "                    y_true = safe_inverse_transform(y_scaler, y_true_scaled)\n",
    "\n",
    "                    rmse = np.sqrt(mean_squared_error(y_true, y_pred))\n",
    "                    inner_fold_rmses.append(rmse)\n",
    "\n",
    "                    # Save detailed result\n",
    "                    detailed_results.append({\n",
    "                        'outer_fold': fold_idx + 1,\n",
    "                        'inner_fold': inner_fold_idx + 1,\n",
    "                        'config_id': config_id,\n",
    "                        'config': str(flat_config),\n",
    "                        'rmse': rmse\n",
    "                    })\n",
    "\n",
    "            avg_val_rmse = np.mean(inner_fold_rmses)\n",
    "            all_inner_fold_scores.append(inner_fold_rmses)\n",
    "\n",
    "            print(f\"  Config {config_id+1}/{len(param_combos)} | Inner Mean RMSE: {avg_val_rmse:.4f}\")\n",
    "\n",
    "            # Update best configuration\n",
    "            if avg_val_rmse < best_val_score:\n",
    "                best_val_score = avg_val_rmse\n",
    "                best_config = gp_config\n",
    "\n",
    "        print(f\"\\n✅ Best config for outer fold {fold_idx+1}:\")\n",
    "        print(best_config)\n",
    "        print(f\"Best inner RMSE: {best_val_score:.4f}\")\n",
    "        best_grid_models.append(best_config)\n",
    "\n",
    "        # Save validation RMSEs\n",
    "        df_inner_scores = pd.DataFrame(all_inner_fold_scores).T\n",
    "        validation_results.append(df_inner_scores)\n",
    "\n",
    "        # ============ Friedman & Posthoc Tests ============ #\n",
    "        print(\"\\nStatistical test on inner fold scores:\")\n",
    "        stat, p = friedmanchisquare(*[df_inner_scores[col] for col in df_inner_scores.columns])\n",
    "        print(f\"Friedman test statistic: {stat:.4f}, p-value: {p:.4f}\")\n",
    "        if p < alpha_sig:\n",
    "            posthoc_result = sp.posthoc_nemenyi_friedman(df_inner_scores.to_numpy())\n",
    "            #print(\"\\nFull posthoc Nemenyi test p-values:\")\n",
    "            #print(posthoc_result.round(4))\n",
    "\n",
    "            significant_mask = posthoc_result < alpha_sig\n",
    "            if significant_mask.values.any():\n",
    "                 print(\"\\nSignificant pairwise differences (p < alpha):\")\n",
    "                 sig_table = posthoc_result.where(significant_mask).dropna(how='all').dropna(axis=1, how='all')\n",
    "                 display(sig_table.round(4))\n",
    "            else:\n",
    "                 print(\"Friedman test was significant, but no significant pairwise differences found.\")\n",
    "        else:\n",
    "            print(\"No significant differences found between configs.\")\n",
    "\n",
    "        # ============ Boxplot ============ #\n",
    "        df_fold_results = pd.DataFrame([r for r in detailed_results if r['outer_fold'] == fold_idx + 1])\n",
    "        config_labels = {\n",
    "            i: f\"Config {i+1}<br>\" + \"<br>\".join([f\"{k}: {v}\"[:30] for k, v in param_combos[i].items()])\n",
    "            for i in range(len(param_combos))\n",
    "        }\n",
    "        df_fold_results['config_label'] = df_fold_results['config_id'].map(config_labels)\n",
    "\n",
    "        fig = go.Figure()\n",
    "        fig.add_trace(go.Box(\n",
    "            x=df_fold_results['config_label'],\n",
    "            y=df_fold_results['rmse'],\n",
    "            fillcolor='rgba(108, 140, 200, 0.3)',\n",
    "            line=dict(color='rgba(108, 140, 200, 1)'),\n",
    "            boxpoints='all',\n",
    "            jitter=0,\n",
    "            pointpos=0,\n",
    "            marker=dict(color='rgba(108, 140, 200, 1)')\n",
    "        ))\n",
    "        fig.update_layout(\n",
    "            title=f'Inner CV RMSEs - Outer Fold {fold_idx+1}',\n",
    "            yaxis_title='Validation RMSE',\n",
    "            width=300 * len(param_combos),\n",
    "            height=400,\n",
    "            plot_bgcolor='#f1f1f1',\n",
    "            xaxis_tickangle=-90,\n",
    "            margin=dict(l=50, r=50, t=50, b=20),\n",
    "            showlegend=False\n",
    "        )\n",
    "        fig.show()\n",
    "\n",
    "        # ============ Retrain on Outer Train, Evaluate on Outer Test ============ #\n",
    "        x_scaler = RobustScaler()\n",
    "        y_scaler = RobustScaler()\n",
    "        X_outer_train_scaled = x_scaler.fit_transform(fold_data['X_outer_train'])\n",
    "        X_test_scaled = x_scaler.transform(fold_data['X_test'])\n",
    "        y_outer_train_scaled = y_scaler.fit_transform(fold_data['y_outer_train'].values.reshape(-1, 1)).flatten()\n",
    "        y_test_scaled = y_scaler.transform(fold_data['y_test'].values.reshape(-1, 1)).flatten()\n",
    "\n",
    "        X_outer_train_tensor = torch.tensor(X_outer_train_scaled, dtype=torch.float32)\n",
    "        y_outer_train_tensor = torch.tensor(y_outer_train_scaled, dtype=torch.float32)\n",
    "        X_test_tensor = torch.tensor(X_test_scaled, dtype=torch.float32)\n",
    "        y_test_tensor = torch.tensor(y_test_scaled, dtype=torch.float32)\n",
    "\n",
    "        model = gp_class(\n",
    "            # Problem Instance\n",
    "            X_train=X_outer_train_tensor, y_train=y_outer_train_tensor,\n",
    "            X_test=X_test_tensor, y_test=y_test_tensor,\n",
    "            dataset_name=dataset_name,\n",
    "            fitness_function='rmse',\n",
    "            minimization=True,\n",
    "\n",
    "            # Search space\n",
    "            init_depth=best_config['sspace']['max_init_depth'],\n",
    "            max_depth=best_config['sspace']['max_depth'],\n",
    "            tree_constants=best_config['sspace']['tree_constants'],\n",
    "            tree_functions=['add', 'subtract', 'multiply', 'divide'],\n",
    "            prob_const=best_config['sspace']['p_constants'],\n",
    "            initializer=best_config['initializer'],\n",
    "\n",
    "            # SLIM instance\n",
    "            pop_size=best_config['pop_size'],\n",
    "            tournament_size=2,\n",
    "            ms_lower=best_config['ms_lower'],\n",
    "            ms_upper=best_config['ms_upper'],\n",
    "            reconstruct=best_config['reconstruct'],\n",
    "            slim_version=best_config['slim_version'],\n",
    "            p_inflate=best_config['p_inflate'],\n",
    "            copy_parent=best_config['copy_parent'],\n",
    "\n",
    "            # Solve settings\n",
    "            n_iter=best_config['generations'],\n",
    "            elitism=True,\n",
    "            n_elites=1,\n",
    "            test_elite=True,\n",
    "            log_path=\"./log/SLIM/\",\n",
    "            log_level=0,\n",
    "            verbose=0,\n",
    "            n_jobs=1,\n",
    "            seed=best_config['seed']\n",
    "        )\n",
    "\n",
    "        with torch.no_grad():\n",
    "            y_pred_scaled = model.predict(X_test_tensor).numpy()\n",
    "            y_pred_rescaled = safe_inverse_transform(y_scaler, y_pred_scaled)\n",
    "            test_rmse = np.sqrt(mean_squared_error(fold_data['y_test'], y_pred_rescaled))\n",
    "\n",
    "        print(f\"\\n[Outer Fold {fold_idx+1}] Test RMSE: {test_rmse:.4f}\")\n",
    "        outer_scores.append(test_rmse)\n",
    "        gc.collect()\n",
    "\n",
    "    print(f\"\\n================ Final Results ================\\nMean RMSE: {np.mean(outer_scores):.4f} ± {np.std(outer_scores):.4f}\")\n",
    "    df_all_results = pd.DataFrame(detailed_results)\n",
    "    return np.array(outer_scores), best_grid_models, df_all_results, validation_results\n"
   ]
  },
  {
   "cell_type": "markdown",
   "id": "8f16757c",
   "metadata": {},
   "source": [
    "We already talked abou the other parameters above but for slim specific parameters:\n",
    "\n",
    "| **Parameter**  | **Test Values**                                                                | **Why?**                                                                                                                                    |\n",
    "| -------------- | ------------------------------------------------------------------------------ | ------------------------------------------------------------------------------------------------------------------------------------------- |\n",
    "| `slim_version` | `['SLIM+SIG2', 'SLIM+SIG1', 'SLIM+ABS', 'SLIM*SIG2', 'SLIM*SIG1', 'SLIM*ABS']` | These cover both the standard and modified variants of SLIM with different mutation strategies, giving a broad view of performance impacts. |\n",
    "| `p_inflate`    | `0.5`                                                                          | A balanced value to give equal chances to inflate and deflate mutations, supporting diverse structural exploration.                         |\n",
    "| `copy_parent`  | `True`, `False`                                                                | `True` helps preserve valid individuals when mutation fails (good for stability). `False` increases selection pressure by discarding them.  |\n",
    "\n",
    "\n"
   ]
  },
  {
   "cell_type": "raw",
   "id": "7fe63922",
   "metadata": {
    "vscode": {
     "languageId": "raw"
    }
   },
   "source": [
    "TREE_CONSTANTS = [random.uniform(0, 1) for _ in range(9)] + [-1.]\n",
    "SLIM_VERSIONS = ['SLIM+SIG2', 'SLIM+SIG1', 'SLIM+ABS', 'SLIM*SIG2', 'SLIM*SIG1','SLIM*ABS']\n",
    "\n",
    "\n",
    "# Grid of parameters to test\n",
    "param_grid = {\n",
    "    'initializer': ['grow', 'rhh'],                   \n",
    "    'sspace.p_constants': [0.1, 0.5],                \n",
    "    'sspace.max_init_depth': [3],                                          \n",
    "    'sspace.tree_constants': [TREE_CONSTANTS],        \n",
    "    'pop_size': [50],                                                                       \n",
    "    'generations': [30, 50],                         \n",
    "    'ms_lower': [0],                               \n",
    "    'ms_upper': [1],                               \n",
    "    'reconstruct': [True],                   \n",
    "    'slim_version': SLIM_VERSIONS,                                   \n",
    "    'p_inflate': [0.5],                               \n",
    "    'copy_parent': [True, False]                            \n",
    "\n",
    "}\n",
    "\n",
    "# Seeds to test for reproducibility and robustness\n",
    "seeds = [42, 123, 456]\n",
    "\n",
    "# Collecting results across seeds\n",
    "all_scores = []\n",
    "all_best_models = []\n",
    "all_results = []\n",
    "all_validation = []\n",
    "\n",
    "# Cross-validation loop with multiple seeds\n",
    "for seed in seeds:\n",
    "    print(f\"\\n=== Running with seed: {seed} ===\\n\")\n",
    "\n",
    "    # Ensuring reproducibility\n",
    "    random.seed(seed)\n",
    "    np.random.seed(seed)\n",
    "    torch.manual_seed(seed)\n",
    "\n",
    "    # Run nested cross-validation using SLIM-GSGP\n",
    "    scores, best_models, df_results, val_results = nested_cv_gp_slim_gsgp(\n",
    "        X=X, y=y,\n",
    "        param_grid=param_grid,\n",
    "        gp_class=slim,\n",
    "        k_outer=5, k_inner=3,\n",
    "        seed=seed\n",
    "    )\n",
    "\n",
    "    # Store results\n",
    "    all_scores.append(scores)\n",
    "    all_best_models.append(best_models)\n",
    "    all_results.append(df_results)\n",
    "    all_validation.append(val_results)"
   ]
  },
  {
   "cell_type": "markdown",
   "id": "2831cedf",
   "metadata": {},
   "source": [
    "> We originally tested over 300 parameter combinations during the tuning phase. However, since re-running all of them would be extremely time-consuming, we narrowed the parameter space to include only the most promising configurations. For example, we found that using 20 generations consistently produced suboptimal results across all folds, so we excluded it. Also, an initial tree depth of 3 performed better than depth 5 that often led to higher and more inconsistent boxplot distributions. We also tested a population size of 30, but it didn't offer any advantage and was removed as well. The final set of parameters reflects those that showed more consistent and efficient performance (in this way is more manageable to run this notebook again for the evaluation)."
   ]
  },
  {
   "cell_type": "raw",
   "id": "a1826fb5",
   "metadata": {
    "vscode": {
     "languageId": "raw"
    }
   },
   "source": [
    "def dict_to_hashable(d):\n",
    "    def make_hashable(value):\n",
    "        if isinstance(value, dict):\n",
    "            return tuple(sorted((k, make_hashable(v)) for k, v in value.items()))\n",
    "        elif isinstance(value, list):\n",
    "            return tuple(make_hashable(x) for x in value)\n",
    "        elif isinstance(value, set):\n",
    "            return tuple(sorted(make_hashable(x) for x in value))\n",
    "        else:\n",
    "            return value\n",
    "    \n",
    "    return tuple(sorted((k, make_hashable(v)) for k, v in d.items()))\n",
    "\n",
    "# Now process the results\n",
    "mean_scores = np.mean([scores for scores in all_scores], axis=0)\n",
    "std_scores = np.std([scores for scores in all_scores], axis=0)\n",
    "\n",
    "try:\n",
    "    all_configs_hashed = [dict_to_hashable(config) for seed_models in all_best_models for config in seed_models]\n",
    "    config_counts = Counter(all_configs_hashed)\n",
    "    \n",
    "    if config_counts:\n",
    "        most_common_config_hash = config_counts.most_common(1)[0][0]\n",
    "        best_config = dict((k, dict(v) if isinstance(v, tuple) else v) \n",
    "                        for k, v in most_common_config_hash)\n",
    "        \n",
    "        print(\"\\n=== Final Results ===\")\n",
    "        print(f\"Mean RMSE across seeds: {np.mean(mean_scores):.4f} ± {np.mean(std_scores):.4f}\")\n",
    "        print(\"\\nBest configuration found in most runs:\")\n",
    "        for k, v in best_config.items():\n",
    "            if isinstance(v, dict):\n",
    "                print(f\"  {k}:\")\n",
    "                for sub_k, sub_v in v.items():\n",
    "                    print(f\"    {sub_k}: {sub_v}\")\n",
    "            else:\n",
    "                print(f\"  {k}: {v}\")\n",
    "    else:\n",
    "        print(\"No valid configurations found in all_best_models\")\n",
    "except Exception as e:\n",
    "    print(f\"Error processing configurations: {str(e)}\")"
   ]
  },
  {
   "cell_type": "markdown",
   "id": "f9042f25",
   "metadata": {},
   "source": [
    "> SLIM best configuration"
   ]
  },
  {
   "cell_type": "raw",
   "id": "546b49a8",
   "metadata": {
    "vscode": {
     "languageId": "raw"
    }
   },
   "source": [
    "# ========== Config from Best Run ==========\n",
    "best_config = {\n",
    "    'initializer': 'grow',\n",
    "    'prob_const': 0.5,\n",
    "    'init_depth': 3,\n",
    "    'max_depth': 9,\n",
    "    'tree_constants': [0.6394267984578837, 0.025010755222666936, 0.27502931836911926,\n",
    "                       0.22321073814882275, 0.7364712141640124, 0.6766994874229113,\n",
    "                       0.8921795677048454, 0.08693883262941615, 0.4219218196852704, -1.0],\n",
    "    'pop_size': 50,\n",
    "    'generations': 50,\n",
    "    'ms_lower': 0,\n",
    "    'ms_upper': 1,\n",
    "    'reconstruct': True,\n",
    "    'slim_version': 'SLIM+ABS',\n",
    "    'p_inflate': 0.5,\n",
    "    'copy_parent': False,\n",
    "    'seed': 456\n",
    "}"
   ]
  },
  {
   "cell_type": "raw",
   "id": "60aede3a",
   "metadata": {
    "vscode": {
     "languageId": "raw"
    }
   },
   "source": [
    "def evaluate_gp_with_best_config(X, y, best_config, gp_class, k_outer=5, seed=42, verbose=True):\n",
    "    \n",
    "    outer_cv = KFold(n_splits=k_outer, shuffle=True, random_state=seed)\n",
    "    outer_scores = []\n",
    "    models = []\n",
    "\n",
    "    for fold_idx, (train_idx, test_idx) in enumerate(outer_cv.split(X)):\n",
    "        print(f\"\\n=== Outer Fold {fold_idx+1}/{k_outer} ===\")\n",
    "\n",
    "        X_train, X_test = X.iloc[train_idx], X.iloc[test_idx]\n",
    "        y_train, y_test = y.iloc[train_idx], y.iloc[test_idx]\n",
    "\n",
    "        # Scaling\n",
    "        x_scaler = RobustScaler()\n",
    "        y_scaler = RobustScaler()\n",
    "        X_train_scaled = x_scaler.fit_transform(X_train)\n",
    "        y_train_scaled = y_scaler.fit_transform(y_train.values.reshape(-1, 1)).flatten()\n",
    "        X_test_scaled = x_scaler.transform(X_test)\n",
    "        y_test_scaled = y_scaler.transform(y_test.values.reshape(-1, 1)).flatten()\n",
    "\n",
    "        X_train_tensor = torch.tensor(X_train_scaled, dtype=torch.float32)\n",
    "        y_train_tensor = torch.tensor(y_train_scaled, dtype=torch.float32)\n",
    "        X_test_tensor = torch.tensor(X_test_scaled, dtype=torch.float32)\n",
    "        y_test_tensor = torch.tensor(y_test_scaled, dtype=torch.float32)\n",
    "\n",
    "        model = gp_class(\n",
    "            # Problem Instance\n",
    "            X_train=X_train_tensor, y_train=y_train_tensor,\n",
    "            X_test=X_test_tensor, y_test=y_test_tensor,\n",
    "            dataset_name=\"🐓 Chicken 🐓\",\n",
    "            fitness_function='rmse',\n",
    "            minimization=True,\n",
    "\n",
    "            # Search Space\n",
    "            tree_constants=best_config['tree_constants'],\n",
    "            tree_functions=['add', 'subtract', 'multiply', 'divide'],\n",
    "            prob_const=best_config['prob_const'],\n",
    "            init_depth=best_config['init_depth'],\n",
    "            max_depth=best_config['max_depth'],\n",
    "\n",
    "            # GSGP instance\n",
    "            pop_size=best_config['pop_size'],\n",
    "            initializer=best_config['initializer'],\n",
    "            tournament_size=2,\n",
    "            ms_lower = best_config['ms_lower'], #`ms_lower`: lower bound for generating the random number used as mutation step.\n",
    "            ms_upper = best_config['ms_upper'], #`ms_upper`: upper bound for generating the random number used as mutation step.\n",
    "            reconstruct = best_config['reconstruct'],\n",
    "            slim_version=best_config['slim_version'],\n",
    "            p_inflate=best_config['p_inflate'],\n",
    "            copy_parent=best_config['copy_parent'],\n",
    "\n",
    "            # Solve settings\n",
    "            n_iter=best_config['generations'],\n",
    "            elitism=True,\n",
    "            n_elites=1,\n",
    "            test_elite=True,\n",
    "            log_level=2,\n",
    "            log_path=f\"./log/SLIM/fold_{fold_idx+1}.csv\",\n",
    "            verbose=1 if verbose else 0,\n",
    "            n_jobs=1,\n",
    "            seed=best_config['seed']\n",
    "        )\n",
    "\n",
    "        models.append(model)\n",
    "\n",
    "        with torch.no_grad():\n",
    "            y_pred_scaled = model.predict(X_test_tensor).numpy()\n",
    "            y_pred_rescaled = safe_inverse_transform(y_scaler, y_pred_scaled)\n",
    "            rmse = np.sqrt(mean_squared_error(y_test, y_pred_rescaled))\n",
    "        print(f'Predicted Values: {y_pred_rescaled}')\n",
    "        print(f'Real Values: {y_test}')\n",
    "        print(f\"Fold {fold_idx+1} RMSE: {rmse:.4f}\")\n",
    "        outer_scores.append(rmse)\n",
    "\n",
    "    print(f\"\\n✅ Final RMSE across {k_outer} folds: {np.mean(outer_scores):.4f} ± {np.std(outer_scores):.4f}\")\n",
    "    return outer_scores, models"
   ]
  },
  {
   "cell_type": "raw",
   "id": "417d8831",
   "metadata": {
    "vscode": {
     "languageId": "raw"
    }
   },
   "source": [
    "outer_scores, models = evaluate_gp_with_best_config(X, y, best_config, gp_class=slim, k_outer=5)"
   ]
  },
  {
   "cell_type": "raw",
   "id": "26f26728",
   "metadata": {
    "vscode": {
     "languageId": "raw"
    }
   },
   "source": [
    "# Log level 2\n",
    "# -----------\n",
    "# 0  - Algorithm\n",
    "# 1  - Instance ID\n",
    "# 2  - Dataset\n",
    "# 3  - Seed\n",
    "# 4  - Generation\n",
    "# 5  - Fitness\n",
    "# 6  - Running time\n",
    "# 7  - Population nodes\n",
    "# 8  - Test fitness\n",
    "# 9  - Elite nodes\n",
    "# 10 - Genotype diversity: gsgp_pop_div_from_vectors (Calculate the diversity of a population from semantic vectors)\n",
    "# 11 - Phenotype diversity: sd(pop.fit)\n",
    "# 12 - Log level\n",
    "\n",
    "COLUMN_NAMES = [\n",
    "    \"Algorithm\",      # 0\n",
    "    \"Instance_ID\",    # 1\n",
    "    \"Dataset\",        # 2\n",
    "    \"Seed\",           # 3\n",
    "    \"Generation\",     # 4\n",
    "    \"Fitness\",        # 5 (Train RMSE)\n",
    "    \"Running_time\",   # 6\n",
    "    \"Population_nodes\", # 7\n",
    "    \"Test_fitness\",   # 8 (Test RMSE)\n",
    "    \"Elite_nodes\",    # 9 (Tree size)\n",
    "    \"Genotype_diversity\",  # 10\n",
    "    \"Phenotype_diversity\",     # 11 (Fitness diversity)\n",
    "    \"Log_level\"       # 12\n",
    "]\n",
    "\n",
    "# Load all folds with column names\n",
    "folds = []\n",
    "for i in range(1, 6):\n",
    "    df = pd.read_csv(f\"log/SLIM/fold_{i}.csv\", header=None)\n",
    "    df.columns = COLUMN_NAMES  # Assign column names\n",
    "    folds.append(df)"
   ]
  },
  {
   "cell_type": "raw",
   "id": "28e4d4db",
   "metadata": {
    "vscode": {
     "languageId": "raw"
    }
   },
   "source": [
    "NUMERIC_COLS = [\"Generation\", \"Fitness\", \"Running_time\", \"Population_nodes\", \n",
    "                \"Test_fitness\", \"Elite_nodes\", \"Genotype_diversity\", \"Phenotype_diversity\"]\n",
    "numeric_folds = [df[NUMERIC_COLS] for df in folds]"
   ]
  },
  {
   "cell_type": "raw",
   "id": "aad252ca",
   "metadata": {
    "vscode": {
     "languageId": "raw"
    }
   },
   "source": [
    "numeric_folds[0].head()"
   ]
  },
  {
   "cell_type": "raw",
   "id": "05515f44",
   "metadata": {
    "vscode": {
     "languageId": "raw"
    }
   },
   "source": [
    "# all_data = np.stack([df.values for df in numeric_folds])\n",
    "\n",
    "all_data = [df[NUMERIC_COLS].apply(pd.to_numeric, errors='coerce') for df in folds]\n",
    "\n",
    "#  mean and std across folds\n",
    "mean = np.mean(all_data, axis=0)  \n",
    "std = np.std(all_data, axis=0)\n",
    "mean_df = pd.DataFrame(mean, columns=NUMERIC_COLS)\n",
    "std_df = pd.DataFrame(std, columns=NUMERIC_COLS)"
   ]
  },
  {
   "cell_type": "raw",
   "id": "12f4edce",
   "metadata": {
    "vscode": {
     "languageId": "raw"
    }
   },
   "source": [
    "DATASET_NAME = 'Chicken Dataset'\n",
    "fig = go.Figure()\n",
    "\n",
    "# Train Fitness (mean ± std)\n",
    "fig.add_trace(go.Scatter(\n",
    "    x=mean_df[\"Generation\"],\n",
    "    y=mean_df[\"Fitness\"],\n",
    "    mode='lines',\n",
    "    name='Train RMSE (mean)',\n",
    "    line=dict(color='blue', width=2)\n",
    "))\n",
    "# Add std as a shaded region (light blue)\n",
    "fig.add_trace(go.Scatter(\n",
    "    x=mean_df[\"Generation\"],\n",
    "    y=mean_df[\"Fitness\"] + std_df[\"Fitness\"],\n",
    "    mode='lines',\n",
    "    line=dict(width=0),\n",
    "    showlegend=False,\n",
    "    fillcolor='rgba(0, 100, 255, 0.2)',\n",
    "    fill='tonexty'\n",
    "))\n",
    "fig.add_trace(go.Scatter(\n",
    "    x=mean_df[\"Generation\"],\n",
    "    y=mean_df[\"Fitness\"] - std_df[\"Fitness\"],\n",
    "    mode='lines',\n",
    "    line=dict(width=0),\n",
    "    name='±1 std (Train)',\n",
    "    fillcolor='rgba(0, 100, 255, 0.2)'\n",
    "))\n",
    "\n",
    "# Test Fitness (mean ± std)\n",
    "fig.add_trace(go.Scatter(\n",
    "    x=mean_df[\"Generation\"],\n",
    "    y=mean_df[\"Test_fitness\"],\n",
    "    mode='lines',\n",
    "    name='Test RMSE (mean)',\n",
    "    line=dict(color='red', width=2)\n",
    "))\n",
    "# Add std as a shaded region (light red)\n",
    "fig.add_trace(go.Scatter(\n",
    "    x=mean_df[\"Generation\"],\n",
    "    y=mean_df[\"Test_fitness\"] + std_df[\"Test_fitness\"],\n",
    "    mode='lines',\n",
    "    line=dict(width=0),\n",
    "    showlegend=False,\n",
    "    fillcolor='rgba(255, 50, 50, 0.2)',\n",
    "    fill='tonexty'\n",
    "))\n",
    "fig.add_trace(go.Scatter(\n",
    "    x=mean_df[\"Generation\"],\n",
    "    y=mean_df[\"Test_fitness\"] - std_df[\"Test_fitness\"],\n",
    "    mode='lines',\n",
    "    line=dict(width=0),\n",
    "    name='±1 std (Test)',\n",
    "    fillcolor='rgba(255, 50, 50, 0.2)'\n",
    "))\n",
    "\n",
    "fig.update_layout(\n",
    "    title=f'SLIM Fitness Evolution ({DATASET_NAME}, 5-fold mean ± std)',\n",
    "    xaxis_title='Generation',\n",
    "    yaxis_title='RMSE',\n",
    "    hovermode='x unified',\n",
    "    height=400,\n",
    "    width=800\n",
    ")\n",
    "fig.show()"
   ]
  },
  {
   "cell_type": "raw",
   "id": "0b3db038",
   "metadata": {
    "vscode": {
     "languageId": "raw"
    }
   },
   "source": [
    "fig = go.Figure()\n",
    "\n",
    "# Mean Size (Elite_nodes)\n",
    "fig.add_trace(go.Scatter(\n",
    "    x=mean_df[\"Generation\"],\n",
    "    y=mean_df[\"Elite_nodes\"],\n",
    "    mode='lines',\n",
    "    name='Size (mean)',\n",
    "    line=dict(color='green', width=2)\n",
    "))\n",
    "\n",
    "# Std as shaded region (light green)\n",
    "fig.add_trace(go.Scatter(\n",
    "    x=mean_df[\"Generation\"],\n",
    "    y=mean_df[\"Elite_nodes\"] + std_df[\"Elite_nodes\"],\n",
    "    mode='lines',\n",
    "    line=dict(width=0),\n",
    "    showlegend=False,\n",
    "    fillcolor='rgba(50, 200, 50, 0.2)',\n",
    "    fill='tonexty'\n",
    "))\n",
    "fig.add_trace(go.Scatter(\n",
    "    x=mean_df[\"Generation\"],\n",
    "    y=mean_df[\"Elite_nodes\"] - std_df[\"Elite_nodes\"],\n",
    "    mode='lines',\n",
    "    line=dict(width=0),\n",
    "    name='±1 std',\n",
    "    fillcolor='rgba(50, 200, 50, 0.2)'\n",
    "))\n",
    "\n",
    "fig.update_layout(\n",
    "    title=f'SLIM - Size Evolution ({DATASET_NAME}, 5-fold mean ± std)',\n",
    "    xaxis_title='Generation',\n",
    "    yaxis_title='Number of Nodes',\n",
    "    yaxis_range=[0, None],  # Start y-axis at 0\n",
    "    height=400,\n",
    "    width=800,\n",
    "    margin=dict(t=50),\n",
    "    hovermode='x unified'\n",
    ")\n",
    "fig.show()"
   ]
  },
  {
   "cell_type": "markdown",
   "id": "dc1995ec",
   "metadata": {},
   "source": [
    "we can see that the size stabilized after the gen 30. "
   ]
  },
  {
   "cell_type": "raw",
   "id": "d2cce31b",
   "metadata": {
    "vscode": {
     "languageId": "raw"
    }
   },
   "source": [
    "fig = go.Figure()\n",
    "\n",
    "# Mean Size (Elite_nodes)\n",
    "fig.add_trace(go.Scatter(\n",
    "    x=mean_df[\"Generation\"],\n",
    "    y=mean_df[\"Phenotype_diversity\"],\n",
    "    mode='lines',\n",
    "    name='Size (mean)',\n",
    "    line=dict(color='green', width=2)\n",
    "))\n",
    "\n",
    "# Std as shaded region (light green)\n",
    "fig.add_trace(go.Scatter(\n",
    "    x=mean_df[\"Generation\"],\n",
    "    y=mean_df[\"Phenotype_diversity\"] + std_df[\"Phenotype_diversity\"],\n",
    "    mode='lines',\n",
    "    line=dict(width=0),\n",
    "    showlegend=False,\n",
    "    fillcolor='rgba(50, 200, 50, 0.2)',\n",
    "    fill='tonexty'\n",
    "))\n",
    "fig.add_trace(go.Scatter(\n",
    "    x=mean_df[\"Generation\"],\n",
    "    y=mean_df[\"Phenotype_diversity\"] - std_df[\"Phenotype_diversity\"],\n",
    "    mode='lines',\n",
    "    line=dict(width=0),\n",
    "    name='±1 std',\n",
    "    fillcolor='rgba(50, 200, 50, 0.2)'\n",
    "))\n",
    "\n",
    "fig.update_layout(\n",
    "    title=f'SLIM - Population Fitness Diversity ({DATASET_NAME}, 5-fold mean ± std)',\n",
    "    xaxis_title='Generation',\n",
    "    yaxis_title='Fitness Standard Deviation',\n",
    "    yaxis_range=[0, None],  # Start y-axis at 0\n",
    "    height=400,\n",
    "    width=800,\n",
    "    margin=dict(t=50),\n",
    "    hovermode='x unified'\n",
    ")\n",
    "fig.show()"
   ]
  },
  {
   "cell_type": "markdown",
   "id": "ec7aaf0c",
   "metadata": {},
   "source": [
    "Like for GP and GSGP, although the best-performing configuration was found after the tuning, we ended up testing it again this time with the verbose parameter so we can analyze the generations across folds more in depth - we used the **5-fold outer cross-validation** to get am unbiased estimate of how well the model would perform on completely unseen data (as we explained before) -> Again, this helps avoid the trap of getting overly optimistic results from a single lucky train-test split.\n",
    "\n",
    "---\n",
    "\n",
    "- **Outer Fold 1**\n",
    "\n",
    "The model tries to escape a local optima right after the generation 1, incresing the node count to 20, this lead to the increase of complexity without benefit in terms of test performance since, althought the train fitness kept decreasing, the test fitness gave us a hint of overfitting since it start increasing from 0.73 to 0.77, an later after a considerate bloat reaching 46 nodes it increased again when the model started o decrease the node count. The model gets stuck with no further improvement in test fitness and minimal changes in train fitness (at 0.7847) at generation 17, the node count stabilizes at 35 nodes, slightly lower than the peak we reffer but still significantly bloated compared to the starting point -> this plateau suggests early convergence and persistent overfitting. The fitness values remain constant for over 30 generations.\n",
    "\n",
    "As an overfitting evidence, tthe predicted values clustered tightly around the central values ~82–89, while the real values had more spread from 82 to 91, showing a loss of nuance in prediction — again a sign the model over-learned patterns from training data and failed to generalize well.\n",
    "\n",
    "The model found a moderately promising region by generation 3 but lacked mechanisms (like parsimony pressure or semantic simplification) to control bloat or escape its local optimum, and the small improvement in predictions in gen 17 did not justify the increasing complexity.\n",
    "\n",
    "\n",
    "- **Outer Fold 2**\n",
    "\n",
    "Similiar behaviour to fold 1 at the beginning, the model initially shows signs of overfitting early on, as it increases in complexity/ node count jumping from 5 to 31 by generation 13 without significant gains in test performance. After a brief improvement until generation 19, where test fitness reaches its best value, the model the model tries to escape this optima invreasing the complexity and enters a prolonged plateau with no further gains, in fact the worse performance is reached here, despite increasing complexity to 48 nodes. This extended stagnation over 15 generations shows a classic bloat and overfitting behavior, where additional structure only improves train fitness while test performance keps getting worse or has no improvements. It ended with a worse fitness when considering the test set.\n",
    "\n",
    "- **Outer Fold 3**\n",
    "\n",
    "This fold was very straightforward, at generation 14 it was able to reach the best test fitness with less complexity, but since it tried to escape the local optima it end up increasing the model complexity at generation 25, with a slight decrease in test fitness. So the early convergence made the model tried to escape the local minimum and this actually led to a decrease in generalization (overfitting sincce the trin score kept decreasing) and more complexity, wich is not good. This is also proven since we can see the predictions cannot reach the real value of 73 althought the predicted value was the lowest in this case (84).\n",
    "\n",
    "- **Outer Fold 4**\n",
    "\n",
    "Again, very similiar the model tries to escape the local optima after a early convergence at generation 5 -> 0.47, reaching the best test fitness at this stage with 33 nodes, althought the model is able to get back from the decrease in test fitness and increased bloating from generation 9 to 41, at generation 42 it goes back to 33 nodes but with a slightly higher rmse -> 0.49. the train fitness kept decreasing and converged on this same generation 42, indicating overfitting since the test did get worse from the local optima at the beginning.\n",
    "\n",
    "- **Outer Fold 5**\n",
    "\n",
    "This fold clearly illustrates the core issue with the model -> early convergence followed by unsuccessful attempts to escape a local optimum. After an initial phase where a decent test fitness is achieved with low complexity, the model begins to overfit, increasing node count significantly to improve training fitness while test performance stagnates or worsens. Despite stabilizing the node count in later generations, the model continues to focus on optimizing training fitness, which results in poor generalization. This persistent overfitting, combined with unnecessary bloat, mirrors the inefficiencies seen across the other folds.\n",
    "\n",
    "\n",
    "**Final notes**: \n",
    "\n",
    "Across all five folds, the model consistently exhibits early convergence followed by attempts to escape local optima through increased complexity (bloat). These attempts often result in overfitting, where training fitness improves at the cost of test performance. The model lacks mechanisms to effectively regulate complexity, such as parsimony pressure or semantic guidance, leading to unnecessarily bloat with minimal or negative gains in generalization. Predictions tend to cluster narrowly around central values, failing to capture the full range of real outputs, another indicator of overfitting. The folds collectively show that while the model can initially identify promising regions of the search space, its inability to control bloat or maintain generalization ultimately limits its performance.\n",
    "\n",
    "So this solution needs some improvment to generalize better and avoid improving the train fitness at the expense of the test fitness, our best approach would be to perfom feature selecion to try to help the model not to focus in every patter and generalize better, at the same time avoiding multicollinearity and features that add noise moree noise than help to the prediction. We tested with less generations and the problem still persisted. "
   ]
  },
  {
   "cell_type": "markdown",
   "id": "9ebf6281",
   "metadata": {},
   "source": [
    "#### <a id=\"gp\"></a> \n",
    "<div style=\"background-color: hsla(120, 71.40%, 43.90%, 0.30); padding: 10px; border-radius: 8px; text-align: left; margin-top: 20px; margin-bottom: 20px;\">\n",
    "    <h4 style=\"color: white; margin: 0;\">4. Neural Network (NN)</h4>\n",
    "</div>\n",
    "\n",
    "[Back to Index](#idx)"
   ]
  },
  {
   "cell_type": "code",
   "execution_count": 28,
   "id": "0da18538",
   "metadata": {},
   "outputs": [],
   "source": [
    "import torch.nn as nn\n",
    "import torch.optim as optim"
   ]
  },
  {
   "cell_type": "code",
   "execution_count": 29,
   "id": "8843c0b1",
   "metadata": {},
   "outputs": [],
   "source": [
    "class CustomNN(nn.Module):\n",
    "    def __init__(self, input_size, hidden_sizes, output_size):\n",
    "        super(CustomNN, self).__init__()\n",
    "        self.fc1 = nn.Linear(input_size, hidden_sizes[0])\n",
    "        self.fc2 = nn.Linear(hidden_sizes[0], hidden_sizes[1])\n",
    "        self.fc3 = nn.Linear(hidden_sizes[1], output_size)\n",
    "\n",
    "        # Initialize weights\n",
    "        self.apply(self._init_weights)\n",
    "        \n",
    "    def _init_weights(self, attribute):\n",
    "        if isinstance(attribute, nn.Linear):\n",
    "            torch.nn.init.xavier_uniform_(attribute.weight)\n",
    "            torch.nn.init.zeros_(attribute.bias)\n",
    "        \n",
    "    def forward(self, x):\n",
    "        x = torch.relu(self.fc1(x))\n",
    "        x = torch.relu(self.fc2(x))\n",
    "        x = self.fc3(x)\n",
    "        return x"
   ]
  },
  {
   "cell_type": "code",
   "execution_count": 30,
   "id": "19959c1c",
   "metadata": {},
   "outputs": [],
   "source": [
    "def rmse_loss(predictions, targets):\n",
    "    mse = torch.mean((predictions - targets) ** 2)\n",
    "    rmse = torch.sqrt(mse)\n",
    "    return rmse\n",
    "\n",
    "def nn_fitness(model, data, targets):\n",
    "    model.eval()\n",
    "    with torch.no_grad():\n",
    "        predictions = model(data)\n",
    "        loss = rmse_loss(predictions, targets)\n",
    "    return loss.item()"
   ]
  },
  {
   "cell_type": "code",
   "execution_count": 31,
   "id": "35340957",
   "metadata": {},
   "outputs": [],
   "source": [
    "def initialize_population(pop_size, input_size, hidden_sizes, output_size):\n",
    "    population = []\n",
    "    for _ in range(pop_size):\n",
    "        model = CustomNN(input_size, hidden_sizes, output_size)\n",
    "        population.append(model)\n",
    "    return population\n",
    "\n",
    "\n",
    "def elitist_select(population, fitness_values, num_parents):\n",
    "    selected = np.argsort(fitness_values)[:num_parents]\n",
    "    return [population[i] for i in selected]\n",
    "\n",
    "def tournament_selection(fitness_population, tournament_size):\n",
    "    i_best = random.sample(range(len(fitness_population)), 1)[0]\n",
    "    for _ in range(1, tournament_size):\n",
    "        i_selected = random.sample(range(len(fitness_population)), 1)[0]\n",
    "        if fitness_population[i_best] > fitness_population[i_selected]:\n",
    "            i_best = i_selected\n",
    "    return i_best\n",
    "\n",
    "def get_best(fitness_population):\n",
    "    return np.argsort(fitness_population)[0]\n",
    "\n",
    "def get_worst(fitness_population):\n",
    "    return (-np.array(fitness_population)).argsort()[0]\n",
    "\n",
    "def elitism(parents, fitness_parents, offspring, fitness_offspring):\n",
    "    i_best_parent = get_best(fitness_parents)\n",
    "    i_best_offspring = get_best(fitness_offspring)\n",
    "    if fitness_parents[i_best_parent] < fitness_offspring[i_best_offspring]:\n",
    "        i_worst = get_worst(fitness_offspring)\n",
    "        offspring[i_worst] = parents[i_best_parent]\n",
    "    return offspring\n",
    "\n",
    "def evolve(\n",
    "    population, generations,\n",
    "    data, targets, data_test, targets_test,\n",
    "    mutation_rate=0.01, mutation_noise=0.1, node_mutation_rate=0.2, \n",
    "    population_size=10,\n",
    "    tournament_size=2):\n",
    "\n",
    "    rmse_train_history = []\n",
    "    rmse_test_history = []\n",
    "    rmse_train_previous = 1e5\n",
    "    \n",
    "    for generation in tqdm(range(generations)):\n",
    "        \n",
    "        # Population\n",
    "        fitness_values = [nn_fitness(model, data, targets) for model in population]\n",
    "        next_population = []\n",
    "\n",
    "        while len(next_population) < population_size:\n",
    "            # Select parent 1\n",
    "            parent_1 = tournament_selection(fitness_population=fitness_values, tournament_size=tournament_size)\n",
    "            # fitness_values = [nn_fitness(model, data, targets) for model in population]\n",
    "            # print('fitness_values {}'.format(fitness_values))\n",
    "    \n",
    "            # Apply mutation adding offspring to next population\n",
    "            if random.random() < mutation_rate:\n",
    "                next_population.append(mutate(copy.deepcopy(population[parent_1]), mutation_noise, node_mutation_rate))\n",
    "                # print('Mutation')\n",
    "                # fitness_values = [nn_fitness(model, data, targets) for model in population]\n",
    "                # print('fitness_values {}'.format(fitness_values))\n",
    "                # i_elite = get_best(fitness_values)\n",
    "                # rmse_train = fitness_values[i_elite]\n",
    "                # print('fitness best pop {}'.format(fitness_values[get_best(fitness_values)]))\n",
    "                \n",
    "                # fitness_values = [nn_fitness(model, data, targets) for model in next_population]\n",
    "                # print('fitness best NEXT pop {}\\n'.format(fitness_values[get_best(fitness_values)]))\n",
    "                # print('fitness_values {}\\n'.format(fitness_values))\n",
    "        \n",
    "            else:\n",
    "                # Otherwise, apply XO adding offspring to next population\n",
    "                parent_2 = tournament_selection(fitness_population=fitness_values, tournament_size=tournament_size)\n",
    "                next_population.append(crossover(\n",
    "                    copy.deepcopy(population[parent_1]), copy.deepcopy(population[parent_2])\n",
    "                ))\n",
    "                # fitness_values = [nn_fitness(model, data, targets) for model in population]\n",
    "        \n",
    "        # Apply elitism and replace population\n",
    "        fitness_parents = copy.deepcopy(fitness_values)\n",
    "        fitness_offspring = [nn_fitness(model, data, targets) for model in next_population]\n",
    "        population = elitism(\n",
    "            parents=population, fitness_parents=fitness_parents,\n",
    "            offspring=next_population, fitness_offspring=fitness_offspring\n",
    "        )\n",
    "\n",
    "        # Log\n",
    "        fitness_values = [nn_fitness(model, data, targets) for model in population]\n",
    "        i_elite = get_best(fitness_values)\n",
    "        rmse_train = fitness_values[i_elite]\n",
    "        rmse_test = nn_fitness(population[i_elite], data_test, targets_test)\n",
    "        rmse_train_history.append(rmse_train)\n",
    "        rmse_test_history.append(rmse_test)\n",
    "        rmse_train_previous = rmse_train\n",
    "        \n",
    "    # Return\n",
    "    # fitness_values = [nn_fitness(model, data, targets) for model in population]\n",
    "    return (population[get_best(fitness_values)], rmse_train_history, rmse_test_history)\n",
    "    "
   ]
  },
  {
   "cell_type": "code",
   "execution_count": 32,
   "id": "4ca15402",
   "metadata": {},
   "outputs": [],
   "source": [
    "# 100% do chat\n",
    "\n",
    "def crossover(model1, model2):\n",
    "    child_model = CustomNN(model1.fc1.in_features, [model1.fc1.out_features, model1.fc2.out_features], model1.fc3.out_features)\n",
    "    \n",
    "    with torch.no_grad():\n",
    "        for child_param, param1, param2 in zip(child_model.parameters(), model1.parameters(), model2.parameters()):\n",
    "            child_param.copy_((param1 + param2) / 2.0)\n",
    "    \n",
    "    return child_model\n",
    "\n",
    "def mutate(model, mutation_noise=0.1, node_mutation_rate=0.2):\n",
    "    child_model = copy.deepcopy(model)\n",
    "    \n",
    "    with torch.no_grad():\n",
    "        for param in child_model.parameters():\n",
    "            if random.random() < node_mutation_rate:\n",
    "                noise = torch.randn_like(param) * mutation_noise\n",
    "                param.add_(noise)\n",
    "    \n",
    "    return child_model\n",
    "\n"
   ]
  },
  {
   "cell_type": "code",
   "execution_count": 33,
   "id": "bbfb37db",
   "metadata": {},
   "outputs": [],
   "source": [
    "from torch.utils.data import TensorDataset, DataLoader\n",
    "from torch.optim import Adam\n",
    "\n",
    "def nested_cv_nn(\n",
    "    X, y, param_grid, k_outer=5, k_inner=3, dataset_name=\"Chicken\", gp_class=None, seed=42, alpha_sig=0.05\n",
    "):\n",
    "    X = X.reset_index(drop=True)\n",
    "    y = y.reset_index(drop=True)\n",
    "    outer_scores = []\n",
    "    best_grid_models = []\n",
    "    validation_results = []  # This will store detailed results for analysis\n",
    "    detailed_results = []  # New: will store all fold results for all configs\n",
    "\n",
    "    os.makedirs(\"./log/GP/\", exist_ok=True)\n",
    "\n",
    "    keys, values = zip(*param_grid.items())\n",
    "    param_combos = [dict(zip(keys, v)) for v in product(*values)]\n",
    "\n",
    "    for fold_idx, fold_data in enumerate(nested_cv_generator(X, y, k_outer=k_outer, k_inner=k_inner, random_state=seed)):\n",
    "        print(f\"\\n========== OUTER FOLD {fold_idx+1}/{k_outer} ==========\")\n",
    "\n",
    "        best_config = None\n",
    "        best_val_score = float('inf')\n",
    "        all_inner_fold_scores = []  # will be list of [k_inner] RMSEs per config\n",
    "\n",
    "        # ============ Grid Search on Inner CV ============ #\n",
    "        for config_id, flat_config in enumerate(param_combos):\n",
    "            # gp_config = {\n",
    "            #     'initializer': flat_config['initializer'],\n",
    "            #     'sspace': {\n",
    "            #         'p_constants': flat_config['sspace.p_constants'],\n",
    "            #         'max_init_depth': flat_config['sspace.max_init_depth'],\n",
    "            #         'max_depth': flat_config['sspace.max_depth'],\n",
    "            #         'tree_constants': flat_config['sspace.tree_constants'],\n",
    "            #     },\n",
    "            #     'pop_size': flat_config['pop_size'],\n",
    "            #     'xo_prob': flat_config['xo_prob'],\n",
    "            #     'generations': flat_config['generations'],\n",
    "            #     'seed': seed\n",
    "            # }\n",
    "\n",
    "            inner_fold_rmses = []\n",
    "\n",
    "            for inner_fold_idx, (inner_train_idx, inner_val_idx) in enumerate(fold_data['inner_splits']):\n",
    "                X_train = fold_data['X_outer_train'].iloc[inner_train_idx]\n",
    "                y_train = fold_data['y_outer_train'].iloc[inner_train_idx]\n",
    "                X_val = fold_data['X_outer_train'].iloc[inner_val_idx]\n",
    "                y_val = fold_data['y_outer_train'].iloc[inner_val_idx]\n",
    "\n",
    "                # Scaling\n",
    "                x_scaler = RobustScaler()\n",
    "                y_scaler = RobustScaler()\n",
    "                X_train_scaled = x_scaler.fit_transform(X_train)\n",
    "                X_val_scaled = x_scaler.transform(X_val)\n",
    "                y_train_scaled = y_scaler.fit_transform(y_train.values.reshape(-1, 1)).flatten()\n",
    "                y_val_scaled = y_scaler.transform(y_val.values.reshape(-1, 1)).flatten()\n",
    "\n",
    "                # Tensors\n",
    "                X_train_tensor = torch.tensor(X_train_scaled, dtype=torch.float32)\n",
    "                y_train_tensor = torch.tensor(y_train_scaled, dtype=torch.float32)\n",
    "                X_val_tensor = torch.tensor(X_val_scaled, dtype=torch.float32)\n",
    "                y_val_tensor = torch.tensor(y_val_scaled, dtype=torch.float32)\n",
    "\n",
    "                # Model training\n",
    "                # model = gp_class(\n",
    "                #     X_train=X_train_tensor, y_train=y_train_tensor,\n",
    "                #     X_test=X_val_tensor, y_test=y_val_tensor,\n",
    "                #     dataset_name=dataset_name,\n",
    "                #     fitness_function='rmse',\n",
    "                #     minimization=True,\n",
    "                #     initializer=gp_config['initializer'],\n",
    "                #     tree_constants=gp_config['sspace']['tree_constants'],\n",
    "                #     tree_functions=['add', 'subtract', 'multiply', 'divide'],\n",
    "                #     prob_const=gp_config['sspace']['p_constants'],\n",
    "                #     init_depth=gp_config['sspace']['max_init_depth'],\n",
    "                #     max_depth=gp_config['sspace']['max_depth'],\n",
    "                #     pop_size=gp_config['pop_size'],\n",
    "                #     p_xo=gp_config['xo_prob'],\n",
    "                #     elitism=True,\n",
    "                #     n_elites=1,\n",
    "                #     tournament_size=2,\n",
    "                #     n_iter=gp_config['generations'],\n",
    "                #     test_elite=True,\n",
    "                #     log_level=0,\n",
    "                #     verbose=0,\n",
    "                #     n_jobs=1,\n",
    "                #     seed=gp_config['seed']\n",
    "                # )\n",
    "                model = CustomNN(X.shape[1], flat_config['hidden_sizes'], 1)\n",
    "                criterion = nn.MSELoss()\n",
    "                optimizer = optim.Adam(model.parameters(), lr=0.01)\n",
    "\n",
    "                for epoch in range(flat_config['generations']):\n",
    "                    model.train()\n",
    "                    optimizer.zero_grad()\n",
    "                    output = model(X_train_tensor).squeeze()\n",
    "                    loss = criterion(output, y_train_tensor)\n",
    "                    loss.backward()\n",
    "                    optimizer.step()\n",
    "\n",
    "                model.eval()\n",
    "\n",
    "                # Evaluation\n",
    "                with torch.no_grad():\n",
    "                    y_pred = model(X_val_tensor).squeeze().numpy().reshape(-1, 1)\n",
    "                    y_true = y_val_tensor.numpy().reshape(-1, 1)\n",
    "                    rmse = np.sqrt(mean_squared_error(y_true, y_pred))\n",
    "                    inner_fold_rmses.append(rmse)\n",
    "                    \n",
    "                    # Store detailed results for this fold and config\n",
    "                    detailed_results.append({\n",
    "                        'outer_fold': fold_idx + 1,\n",
    "                        'inner_fold': inner_fold_idx + 1,\n",
    "                        'config_id': config_id,\n",
    "                        'config': str(flat_config),  # String representation\n",
    "                        'rmse': rmse\n",
    "                    })\n",
    "\n",
    "            avg_val_rmse = np.mean(inner_fold_rmses)\n",
    "            all_inner_fold_scores.append(inner_fold_rmses)\n",
    "\n",
    "            print(f\"  Config {config_id+1}/{len(param_combos)} | Inner Mean RMSE: {avg_val_rmse:.4f}\")\n",
    "\n",
    "            if avg_val_rmse < best_val_score:\n",
    "                best_val_score = avg_val_rmse\n",
    "                best_config = flat_config\n",
    "\n",
    "        print(f\"\\n✅ Best config for outer fold {fold_idx+1}:\")\n",
    "        print(best_config)\n",
    "        print(f\"Best inner RMSE: {best_val_score:.4f}\")\n",
    "        best_grid_models.append(best_config)\n",
    "\n",
    "        # Convert to DataFrame for statistical tests\n",
    "        df_inner_scores = pd.DataFrame(all_inner_fold_scores).T  # shape: (k_inner, n_configs)\n",
    "        validation_results.append(df_inner_scores)\n",
    "\n",
    "        # ============ Statistical Tests ============ #\n",
    "        print(\"\\nStatistical test on inner fold scores:\")\n",
    "        stat, p = friedmanchisquare(*[df_inner_scores[col] for col in df_inner_scores.columns])\n",
    "        print(f\"Friedman test statistic: {stat:.4f}, p-value: {p:.4f}\")\n",
    "        if p < alpha_sig:\n",
    "            posthoc_result = sp.posthoc_nemenyi_friedman(df_inner_scores.to_numpy())\n",
    "            significant_columns = posthoc_result.columns[posthoc_result.lt(0.05).any(axis=0)]\n",
    "            filtered_result = posthoc_result[posthoc_result < alpha_sig]\n",
    "            filtered_result = filtered_result.dropna(how='all').dropna(axis=1, how='all').fillna('-')\n",
    "            print(\"P-values of significant differences:\")\n",
    "            print(filtered_result)\n",
    "        else:\n",
    "            print(\"No significant differences found between configs.\")\n",
    "\n",
    "        # ============ Boxplot ============ #\n",
    "        # Convert detailed results to DataFrame for this outer fold\n",
    "        df_fold_results = pd.DataFrame([r for r in detailed_results if r['outer_fold'] == fold_idx + 1])\n",
    "        \n",
    "        # Create labels for configurations\n",
    "        config_labels = {\n",
    "            i: f\"Config {i+1}<br>\" + \"<br>\".join(\n",
    "                [f\"{k}: {v}\"[:30] for k, v in param_combos[i].items()]  # Corta cada item em 30 chars\n",
    "            )\n",
    "            for i in range(len(param_combos))\n",
    "        }\n",
    "        df_fold_results['config_label'] = df_fold_results['config_id'].map(config_labels)\n",
    "\n",
    "        fig = go.Figure()\n",
    "        fig.add_trace(go.Box(\n",
    "            x=df_fold_results['config_label'],\n",
    "            y=df_fold_results['rmse'],\n",
    "            fillcolor='rgba(108, 140, 200, 0.3)',\n",
    "            line=dict(color='rgba(108, 140, 200, 1)'),\n",
    "            boxpoints='all',\n",
    "            jitter=0,\n",
    "            pointpos=0,\n",
    "            marker=dict(color='rgba(108, 140, 200, 1)')\n",
    "        ))\n",
    "        fig.update_layout(\n",
    "            title=f'Inner CV RMSEs - Outer Fold {fold_idx+1}',\n",
    "            yaxis_title='Validation RMSE',\n",
    "            width=200 * len(param_combos),\n",
    "            height=400,\n",
    "            plot_bgcolor='#f1f1f1',\n",
    "            xaxis_tickangle=-90,\n",
    "            margin=dict(l=50, r=50, t=50, b=20),\n",
    "            showlegend=False\n",
    "        )\n",
    "        fig.show()\n",
    "\n",
    "\n",
    "        # ============ Retrain on Outer Train, Evaluate on Outer Test ============ #\n",
    "        x_scaler = RobustScaler()\n",
    "        y_scaler = RobustScaler()\n",
    "        X_outer_train_scaled = x_scaler.fit_transform(fold_data['X_outer_train'])\n",
    "        X_test_scaled = x_scaler.transform(fold_data['X_test'])\n",
    "        y_outer_train_scaled = y_scaler.fit_transform(fold_data['y_outer_train'].values.reshape(-1, 1)).flatten()\n",
    "        y_test_scaled = y_scaler.transform(fold_data['y_test'].values.reshape(-1, 1)).flatten()\n",
    "\n",
    "        X_outer_train_tensor = torch.tensor(X_outer_train_scaled, dtype=torch.float32)\n",
    "        y_outer_train_tensor = torch.tensor(y_outer_train_scaled, dtype=torch.float32)\n",
    "        X_test_tensor = torch.tensor(X_test_scaled, dtype=torch.float32)\n",
    "        y_test_tensor = torch.tensor(y_test_scaled, dtype=torch.float32)\n",
    "\n",
    "        # model = gp_class(\n",
    "        #     X_train=X_outer_train_tensor, y_train=y_outer_train_tensor,\n",
    "        #     X_test=X_test_tensor, y_test=y_test_tensor,\n",
    "        #     dataset_name=dataset_name,\n",
    "        #     fitness_function='rmse',\n",
    "        #     minimization=True,\n",
    "        #     initializer=best_config['initializer'],\n",
    "        #     tree_constants=best_config['sspace']['tree_constants'],\n",
    "        #     tree_functions=['add', 'subtract', 'multiply', 'divide'],\n",
    "        #     prob_const=best_config['sspace']['p_constants'],\n",
    "        #     init_depth=best_config['sspace']['max_init_depth'],\n",
    "        #     max_depth=best_config['sspace']['max_depth'],\n",
    "        #     pop_size=best_config['pop_size'],\n",
    "        #     p_xo=best_config['xo_prob'],\n",
    "        #     elitism=True,\n",
    "        #     n_elites=1,\n",
    "        #     tournament_size=2,\n",
    "        #     n_iter=best_config['generations'],\n",
    "        #     test_elite=True,\n",
    "        #     log_level=0,\n",
    "        #     verbose=0,\n",
    "        #     n_jobs=1,\n",
    "        #     seed=best_config['seed']\n",
    "        # )\n",
    "\n",
    "        model = CustomNN(X.shape[1], best_config['hidden_sizes'], 1)\n",
    "        criterion = nn.MSELoss()\n",
    "        optimizer = optim.Adam(model.parameters(), lr=0.01)\n",
    "\n",
    "        for epoch in range(best_config['generations']):\n",
    "            model.train()\n",
    "            optimizer.zero_grad()\n",
    "            output = model(X_train_tensor).squeeze()\n",
    "            loss = criterion(output, y_train_tensor)\n",
    "            loss.backward()\n",
    "            optimizer.step()\n",
    "\n",
    "        with torch.no_grad():\n",
    "            y_pred_scaled = model(X_test_tensor).squeeze().numpy()\n",
    "            y_pred_rescaled = y_scaler.inverse_transform(y_pred_scaled.reshape(-1, 1)).flatten()\n",
    "            test_rmse = np.sqrt(mean_squared_error(fold_data['y_test'], y_pred_rescaled))\n",
    "\n",
    "        print(f\"\\n[Outer Fold {fold_idx+1}] Test RMSE: {test_rmse:.4f}\")\n",
    "        outer_scores.append(test_rmse)\n",
    "        gc.collect()\n",
    "\n",
    "    print(f\"\\n================ Final Results ================\\nMean RMSE: {np.mean(outer_scores):.4f} ± {np.std(outer_scores):.4f}\")\n",
    "    df_all_results = pd.DataFrame(detailed_results)\n",
    "    return np.array(outer_scores), best_grid_models, df_all_results, validation_results"
   ]
  },
  {
   "cell_type": "code",
   "execution_count": 34,
   "id": "5ee9e121",
   "metadata": {},
   "outputs": [
    {
     "name": "stdout",
     "output_type": "stream",
     "text": [
      "\n",
      "=== Running with seed: 42 ===\n",
      "\n",
      "\n",
      "========== OUTER FOLD 1/5 ==========\n",
      "  Config 1/4 | Inner Mean RMSE: 1.0860\n",
      "  Config 2/4 | Inner Mean RMSE: 1.2588\n",
      "  Config 3/4 | Inner Mean RMSE: 1.0382\n",
      "  Config 4/4 | Inner Mean RMSE: 1.0581\n",
      "\n",
      "✅ Best config for outer fold 1:\n",
      "{'input_size': 13, 'hidden_sizes': [5, 5], 'output_size': 1, 'population_size': 10, 'tournament_size': 3, 'generations': 50, 'mutation_rate': 0.5}\n",
      "Best inner RMSE: 1.0382\n",
      "\n",
      "Statistical test on inner fold scores:\n",
      "Friedman test statistic: 3.4000, p-value: 0.3340\n",
      "No significant differences found between configs.\n"
     ]
    },
    {
     "data": {
      "application/vnd.plotly.v1+json": {
       "config": {
        "plotlyServerURL": "https://plot.ly"
       },
       "data": [
        {
         "boxpoints": "all",
         "fillcolor": "rgba(108, 140, 200, 0.3)",
         "jitter": 0,
         "line": {
          "color": "rgba(108, 140, 200, 1)"
         },
         "marker": {
          "color": "rgba(108, 140, 200, 1)"
         },
         "pointpos": 0,
         "type": "box",
         "x": [
          "Config 1<br>input_size: 13<br>hidden_sizes: [5, 5]<br>output_size: 1<br>population_size: 10<br>tournament_size: 3<br>generations: 30<br>mutation_rate: 0.5",
          "Config 1<br>input_size: 13<br>hidden_sizes: [5, 5]<br>output_size: 1<br>population_size: 10<br>tournament_size: 3<br>generations: 30<br>mutation_rate: 0.5",
          "Config 1<br>input_size: 13<br>hidden_sizes: [5, 5]<br>output_size: 1<br>population_size: 10<br>tournament_size: 3<br>generations: 30<br>mutation_rate: 0.5",
          "Config 2<br>input_size: 13<br>hidden_sizes: [5, 5]<br>output_size: 1<br>population_size: 10<br>tournament_size: 3<br>generations: 30<br>mutation_rate: 0.7",
          "Config 2<br>input_size: 13<br>hidden_sizes: [5, 5]<br>output_size: 1<br>population_size: 10<br>tournament_size: 3<br>generations: 30<br>mutation_rate: 0.7",
          "Config 2<br>input_size: 13<br>hidden_sizes: [5, 5]<br>output_size: 1<br>population_size: 10<br>tournament_size: 3<br>generations: 30<br>mutation_rate: 0.7",
          "Config 3<br>input_size: 13<br>hidden_sizes: [5, 5]<br>output_size: 1<br>population_size: 10<br>tournament_size: 3<br>generations: 50<br>mutation_rate: 0.5",
          "Config 3<br>input_size: 13<br>hidden_sizes: [5, 5]<br>output_size: 1<br>population_size: 10<br>tournament_size: 3<br>generations: 50<br>mutation_rate: 0.5",
          "Config 3<br>input_size: 13<br>hidden_sizes: [5, 5]<br>output_size: 1<br>population_size: 10<br>tournament_size: 3<br>generations: 50<br>mutation_rate: 0.5",
          "Config 4<br>input_size: 13<br>hidden_sizes: [5, 5]<br>output_size: 1<br>population_size: 10<br>tournament_size: 3<br>generations: 50<br>mutation_rate: 0.7",
          "Config 4<br>input_size: 13<br>hidden_sizes: [5, 5]<br>output_size: 1<br>population_size: 10<br>tournament_size: 3<br>generations: 50<br>mutation_rate: 0.7",
          "Config 4<br>input_size: 13<br>hidden_sizes: [5, 5]<br>output_size: 1<br>population_size: 10<br>tournament_size: 3<br>generations: 50<br>mutation_rate: 0.7"
         ],
         "y": {
          "bdata": "tzxhc9hU/D/JsQaUe8PgP/q+SStT1O4/swTlGyl3/z+7IHGdFSruPzvrBgLBv+s/yuGkCE/m/D/bRJDbp8LhP9OzVTslG+g/vv7j2jM6+j/YHCGTSWLoP1DYlWFUveg/",
          "dtype": "f8"
         }
        }
       ],
       "layout": {
        "height": 400,
        "margin": {
         "b": 20,
         "l": 50,
         "r": 50,
         "t": 50
        },
        "plot_bgcolor": "#f1f1f1",
        "showlegend": false,
        "template": {
         "data": {
          "bar": [
           {
            "error_x": {
             "color": "#2a3f5f"
            },
            "error_y": {
             "color": "#2a3f5f"
            },
            "marker": {
             "line": {
              "color": "#E5ECF6",
              "width": 0.5
             },
             "pattern": {
              "fillmode": "overlay",
              "size": 10,
              "solidity": 0.2
             }
            },
            "type": "bar"
           }
          ],
          "barpolar": [
           {
            "marker": {
             "line": {
              "color": "#E5ECF6",
              "width": 0.5
             },
             "pattern": {
              "fillmode": "overlay",
              "size": 10,
              "solidity": 0.2
             }
            },
            "type": "barpolar"
           }
          ],
          "carpet": [
           {
            "aaxis": {
             "endlinecolor": "#2a3f5f",
             "gridcolor": "white",
             "linecolor": "white",
             "minorgridcolor": "white",
             "startlinecolor": "#2a3f5f"
            },
            "baxis": {
             "endlinecolor": "#2a3f5f",
             "gridcolor": "white",
             "linecolor": "white",
             "minorgridcolor": "white",
             "startlinecolor": "#2a3f5f"
            },
            "type": "carpet"
           }
          ],
          "choropleth": [
           {
            "colorbar": {
             "outlinewidth": 0,
             "ticks": ""
            },
            "type": "choropleth"
           }
          ],
          "contour": [
           {
            "colorbar": {
             "outlinewidth": 0,
             "ticks": ""
            },
            "colorscale": [
             [
              0,
              "#0d0887"
             ],
             [
              0.1111111111111111,
              "#46039f"
             ],
             [
              0.2222222222222222,
              "#7201a8"
             ],
             [
              0.3333333333333333,
              "#9c179e"
             ],
             [
              0.4444444444444444,
              "#bd3786"
             ],
             [
              0.5555555555555556,
              "#d8576b"
             ],
             [
              0.6666666666666666,
              "#ed7953"
             ],
             [
              0.7777777777777778,
              "#fb9f3a"
             ],
             [
              0.8888888888888888,
              "#fdca26"
             ],
             [
              1,
              "#f0f921"
             ]
            ],
            "type": "contour"
           }
          ],
          "contourcarpet": [
           {
            "colorbar": {
             "outlinewidth": 0,
             "ticks": ""
            },
            "type": "contourcarpet"
           }
          ],
          "heatmap": [
           {
            "colorbar": {
             "outlinewidth": 0,
             "ticks": ""
            },
            "colorscale": [
             [
              0,
              "#0d0887"
             ],
             [
              0.1111111111111111,
              "#46039f"
             ],
             [
              0.2222222222222222,
              "#7201a8"
             ],
             [
              0.3333333333333333,
              "#9c179e"
             ],
             [
              0.4444444444444444,
              "#bd3786"
             ],
             [
              0.5555555555555556,
              "#d8576b"
             ],
             [
              0.6666666666666666,
              "#ed7953"
             ],
             [
              0.7777777777777778,
              "#fb9f3a"
             ],
             [
              0.8888888888888888,
              "#fdca26"
             ],
             [
              1,
              "#f0f921"
             ]
            ],
            "type": "heatmap"
           }
          ],
          "histogram": [
           {
            "marker": {
             "pattern": {
              "fillmode": "overlay",
              "size": 10,
              "solidity": 0.2
             }
            },
            "type": "histogram"
           }
          ],
          "histogram2d": [
           {
            "colorbar": {
             "outlinewidth": 0,
             "ticks": ""
            },
            "colorscale": [
             [
              0,
              "#0d0887"
             ],
             [
              0.1111111111111111,
              "#46039f"
             ],
             [
              0.2222222222222222,
              "#7201a8"
             ],
             [
              0.3333333333333333,
              "#9c179e"
             ],
             [
              0.4444444444444444,
              "#bd3786"
             ],
             [
              0.5555555555555556,
              "#d8576b"
             ],
             [
              0.6666666666666666,
              "#ed7953"
             ],
             [
              0.7777777777777778,
              "#fb9f3a"
             ],
             [
              0.8888888888888888,
              "#fdca26"
             ],
             [
              1,
              "#f0f921"
             ]
            ],
            "type": "histogram2d"
           }
          ],
          "histogram2dcontour": [
           {
            "colorbar": {
             "outlinewidth": 0,
             "ticks": ""
            },
            "colorscale": [
             [
              0,
              "#0d0887"
             ],
             [
              0.1111111111111111,
              "#46039f"
             ],
             [
              0.2222222222222222,
              "#7201a8"
             ],
             [
              0.3333333333333333,
              "#9c179e"
             ],
             [
              0.4444444444444444,
              "#bd3786"
             ],
             [
              0.5555555555555556,
              "#d8576b"
             ],
             [
              0.6666666666666666,
              "#ed7953"
             ],
             [
              0.7777777777777778,
              "#fb9f3a"
             ],
             [
              0.8888888888888888,
              "#fdca26"
             ],
             [
              1,
              "#f0f921"
             ]
            ],
            "type": "histogram2dcontour"
           }
          ],
          "mesh3d": [
           {
            "colorbar": {
             "outlinewidth": 0,
             "ticks": ""
            },
            "type": "mesh3d"
           }
          ],
          "parcoords": [
           {
            "line": {
             "colorbar": {
              "outlinewidth": 0,
              "ticks": ""
             }
            },
            "type": "parcoords"
           }
          ],
          "pie": [
           {
            "automargin": true,
            "type": "pie"
           }
          ],
          "scatter": [
           {
            "fillpattern": {
             "fillmode": "overlay",
             "size": 10,
             "solidity": 0.2
            },
            "type": "scatter"
           }
          ],
          "scatter3d": [
           {
            "line": {
             "colorbar": {
              "outlinewidth": 0,
              "ticks": ""
             }
            },
            "marker": {
             "colorbar": {
              "outlinewidth": 0,
              "ticks": ""
             }
            },
            "type": "scatter3d"
           }
          ],
          "scattercarpet": [
           {
            "marker": {
             "colorbar": {
              "outlinewidth": 0,
              "ticks": ""
             }
            },
            "type": "scattercarpet"
           }
          ],
          "scattergeo": [
           {
            "marker": {
             "colorbar": {
              "outlinewidth": 0,
              "ticks": ""
             }
            },
            "type": "scattergeo"
           }
          ],
          "scattergl": [
           {
            "marker": {
             "colorbar": {
              "outlinewidth": 0,
              "ticks": ""
             }
            },
            "type": "scattergl"
           }
          ],
          "scattermap": [
           {
            "marker": {
             "colorbar": {
              "outlinewidth": 0,
              "ticks": ""
             }
            },
            "type": "scattermap"
           }
          ],
          "scattermapbox": [
           {
            "marker": {
             "colorbar": {
              "outlinewidth": 0,
              "ticks": ""
             }
            },
            "type": "scattermapbox"
           }
          ],
          "scatterpolar": [
           {
            "marker": {
             "colorbar": {
              "outlinewidth": 0,
              "ticks": ""
             }
            },
            "type": "scatterpolar"
           }
          ],
          "scatterpolargl": [
           {
            "marker": {
             "colorbar": {
              "outlinewidth": 0,
              "ticks": ""
             }
            },
            "type": "scatterpolargl"
           }
          ],
          "scatterternary": [
           {
            "marker": {
             "colorbar": {
              "outlinewidth": 0,
              "ticks": ""
             }
            },
            "type": "scatterternary"
           }
          ],
          "surface": [
           {
            "colorbar": {
             "outlinewidth": 0,
             "ticks": ""
            },
            "colorscale": [
             [
              0,
              "#0d0887"
             ],
             [
              0.1111111111111111,
              "#46039f"
             ],
             [
              0.2222222222222222,
              "#7201a8"
             ],
             [
              0.3333333333333333,
              "#9c179e"
             ],
             [
              0.4444444444444444,
              "#bd3786"
             ],
             [
              0.5555555555555556,
              "#d8576b"
             ],
             [
              0.6666666666666666,
              "#ed7953"
             ],
             [
              0.7777777777777778,
              "#fb9f3a"
             ],
             [
              0.8888888888888888,
              "#fdca26"
             ],
             [
              1,
              "#f0f921"
             ]
            ],
            "type": "surface"
           }
          ],
          "table": [
           {
            "cells": {
             "fill": {
              "color": "#EBF0F8"
             },
             "line": {
              "color": "white"
             }
            },
            "header": {
             "fill": {
              "color": "#C8D4E3"
             },
             "line": {
              "color": "white"
             }
            },
            "type": "table"
           }
          ]
         },
         "layout": {
          "annotationdefaults": {
           "arrowcolor": "#2a3f5f",
           "arrowhead": 0,
           "arrowwidth": 1
          },
          "autotypenumbers": "strict",
          "coloraxis": {
           "colorbar": {
            "outlinewidth": 0,
            "ticks": ""
           }
          },
          "colorscale": {
           "diverging": [
            [
             0,
             "#8e0152"
            ],
            [
             0.1,
             "#c51b7d"
            ],
            [
             0.2,
             "#de77ae"
            ],
            [
             0.3,
             "#f1b6da"
            ],
            [
             0.4,
             "#fde0ef"
            ],
            [
             0.5,
             "#f7f7f7"
            ],
            [
             0.6,
             "#e6f5d0"
            ],
            [
             0.7,
             "#b8e186"
            ],
            [
             0.8,
             "#7fbc41"
            ],
            [
             0.9,
             "#4d9221"
            ],
            [
             1,
             "#276419"
            ]
           ],
           "sequential": [
            [
             0,
             "#0d0887"
            ],
            [
             0.1111111111111111,
             "#46039f"
            ],
            [
             0.2222222222222222,
             "#7201a8"
            ],
            [
             0.3333333333333333,
             "#9c179e"
            ],
            [
             0.4444444444444444,
             "#bd3786"
            ],
            [
             0.5555555555555556,
             "#d8576b"
            ],
            [
             0.6666666666666666,
             "#ed7953"
            ],
            [
             0.7777777777777778,
             "#fb9f3a"
            ],
            [
             0.8888888888888888,
             "#fdca26"
            ],
            [
             1,
             "#f0f921"
            ]
           ],
           "sequentialminus": [
            [
             0,
             "#0d0887"
            ],
            [
             0.1111111111111111,
             "#46039f"
            ],
            [
             0.2222222222222222,
             "#7201a8"
            ],
            [
             0.3333333333333333,
             "#9c179e"
            ],
            [
             0.4444444444444444,
             "#bd3786"
            ],
            [
             0.5555555555555556,
             "#d8576b"
            ],
            [
             0.6666666666666666,
             "#ed7953"
            ],
            [
             0.7777777777777778,
             "#fb9f3a"
            ],
            [
             0.8888888888888888,
             "#fdca26"
            ],
            [
             1,
             "#f0f921"
            ]
           ]
          },
          "colorway": [
           "#636efa",
           "#EF553B",
           "#00cc96",
           "#ab63fa",
           "#FFA15A",
           "#19d3f3",
           "#FF6692",
           "#B6E880",
           "#FF97FF",
           "#FECB52"
          ],
          "font": {
           "color": "#2a3f5f"
          },
          "geo": {
           "bgcolor": "white",
           "lakecolor": "white",
           "landcolor": "#E5ECF6",
           "showlakes": true,
           "showland": true,
           "subunitcolor": "white"
          },
          "hoverlabel": {
           "align": "left"
          },
          "hovermode": "closest",
          "mapbox": {
           "style": "light"
          },
          "paper_bgcolor": "white",
          "plot_bgcolor": "#E5ECF6",
          "polar": {
           "angularaxis": {
            "gridcolor": "white",
            "linecolor": "white",
            "ticks": ""
           },
           "bgcolor": "#E5ECF6",
           "radialaxis": {
            "gridcolor": "white",
            "linecolor": "white",
            "ticks": ""
           }
          },
          "scene": {
           "xaxis": {
            "backgroundcolor": "#E5ECF6",
            "gridcolor": "white",
            "gridwidth": 2,
            "linecolor": "white",
            "showbackground": true,
            "ticks": "",
            "zerolinecolor": "white"
           },
           "yaxis": {
            "backgroundcolor": "#E5ECF6",
            "gridcolor": "white",
            "gridwidth": 2,
            "linecolor": "white",
            "showbackground": true,
            "ticks": "",
            "zerolinecolor": "white"
           },
           "zaxis": {
            "backgroundcolor": "#E5ECF6",
            "gridcolor": "white",
            "gridwidth": 2,
            "linecolor": "white",
            "showbackground": true,
            "ticks": "",
            "zerolinecolor": "white"
           }
          },
          "shapedefaults": {
           "line": {
            "color": "#2a3f5f"
           }
          },
          "ternary": {
           "aaxis": {
            "gridcolor": "white",
            "linecolor": "white",
            "ticks": ""
           },
           "baxis": {
            "gridcolor": "white",
            "linecolor": "white",
            "ticks": ""
           },
           "bgcolor": "#E5ECF6",
           "caxis": {
            "gridcolor": "white",
            "linecolor": "white",
            "ticks": ""
           }
          },
          "title": {
           "x": 0.05
          },
          "xaxis": {
           "automargin": true,
           "gridcolor": "white",
           "linecolor": "white",
           "ticks": "",
           "title": {
            "standoff": 15
           },
           "zerolinecolor": "white",
           "zerolinewidth": 2
          },
          "yaxis": {
           "automargin": true,
           "gridcolor": "white",
           "linecolor": "white",
           "ticks": "",
           "title": {
            "standoff": 15
           },
           "zerolinecolor": "white",
           "zerolinewidth": 2
          }
         }
        },
        "title": {
         "text": "Inner CV RMSEs - Outer Fold 1"
        },
        "width": 800,
        "xaxis": {
         "tickangle": -90
        },
        "yaxis": {
         "title": {
          "text": "Validation RMSE"
         }
        }
       }
      }
     },
     "metadata": {},
     "output_type": "display_data"
    },
    {
     "name": "stdout",
     "output_type": "stream",
     "text": [
      "\n",
      "[Outer Fold 1] Test RMSE: 1.8100\n",
      "\n",
      "========== OUTER FOLD 2/5 ==========\n",
      "  Config 1/4 | Inner Mean RMSE: 1.0951\n",
      "  Config 2/4 | Inner Mean RMSE: 1.0084\n",
      "  Config 3/4 | Inner Mean RMSE: 1.1272\n",
      "  Config 4/4 | Inner Mean RMSE: 0.9233\n",
      "\n",
      "✅ Best config for outer fold 2:\n",
      "{'input_size': 13, 'hidden_sizes': [5, 5], 'output_size': 1, 'population_size': 10, 'tournament_size': 3, 'generations': 50, 'mutation_rate': 0.7}\n",
      "Best inner RMSE: 0.9233\n",
      "\n",
      "Statistical test on inner fold scores:\n",
      "Friedman test statistic: 5.4000, p-value: 0.1447\n",
      "No significant differences found between configs.\n"
     ]
    },
    {
     "data": {
      "application/vnd.plotly.v1+json": {
       "config": {
        "plotlyServerURL": "https://plot.ly"
       },
       "data": [
        {
         "boxpoints": "all",
         "fillcolor": "rgba(108, 140, 200, 0.3)",
         "jitter": 0,
         "line": {
          "color": "rgba(108, 140, 200, 1)"
         },
         "marker": {
          "color": "rgba(108, 140, 200, 1)"
         },
         "pointpos": 0,
         "type": "box",
         "x": [
          "Config 1<br>input_size: 13<br>hidden_sizes: [5, 5]<br>output_size: 1<br>population_size: 10<br>tournament_size: 3<br>generations: 30<br>mutation_rate: 0.5",
          "Config 1<br>input_size: 13<br>hidden_sizes: [5, 5]<br>output_size: 1<br>population_size: 10<br>tournament_size: 3<br>generations: 30<br>mutation_rate: 0.5",
          "Config 1<br>input_size: 13<br>hidden_sizes: [5, 5]<br>output_size: 1<br>population_size: 10<br>tournament_size: 3<br>generations: 30<br>mutation_rate: 0.5",
          "Config 2<br>input_size: 13<br>hidden_sizes: [5, 5]<br>output_size: 1<br>population_size: 10<br>tournament_size: 3<br>generations: 30<br>mutation_rate: 0.7",
          "Config 2<br>input_size: 13<br>hidden_sizes: [5, 5]<br>output_size: 1<br>population_size: 10<br>tournament_size: 3<br>generations: 30<br>mutation_rate: 0.7",
          "Config 2<br>input_size: 13<br>hidden_sizes: [5, 5]<br>output_size: 1<br>population_size: 10<br>tournament_size: 3<br>generations: 30<br>mutation_rate: 0.7",
          "Config 3<br>input_size: 13<br>hidden_sizes: [5, 5]<br>output_size: 1<br>population_size: 10<br>tournament_size: 3<br>generations: 50<br>mutation_rate: 0.5",
          "Config 3<br>input_size: 13<br>hidden_sizes: [5, 5]<br>output_size: 1<br>population_size: 10<br>tournament_size: 3<br>generations: 50<br>mutation_rate: 0.5",
          "Config 3<br>input_size: 13<br>hidden_sizes: [5, 5]<br>output_size: 1<br>population_size: 10<br>tournament_size: 3<br>generations: 50<br>mutation_rate: 0.5",
          "Config 4<br>input_size: 13<br>hidden_sizes: [5, 5]<br>output_size: 1<br>population_size: 10<br>tournament_size: 3<br>generations: 50<br>mutation_rate: 0.7",
          "Config 4<br>input_size: 13<br>hidden_sizes: [5, 5]<br>output_size: 1<br>population_size: 10<br>tournament_size: 3<br>generations: 50<br>mutation_rate: 0.7",
          "Config 4<br>input_size: 13<br>hidden_sizes: [5, 5]<br>output_size: 1<br>population_size: 10<br>tournament_size: 3<br>generations: 50<br>mutation_rate: 0.7"
         ],
         "y": {
          "bdata": "qo1nEAA27z9AWMhoJYr4P2yhRCZ/1ug/T55vp8Ih8T/CEuHpSen1P2wYjTJOt+I/Xht1davP9T/rt73qCwf2P4UToVrqiOQ/rEx9Cvg07D8DKgdlKGb0P+4TIds2ouM/",
          "dtype": "f8"
         }
        }
       ],
       "layout": {
        "height": 400,
        "margin": {
         "b": 20,
         "l": 50,
         "r": 50,
         "t": 50
        },
        "plot_bgcolor": "#f1f1f1",
        "showlegend": false,
        "template": {
         "data": {
          "bar": [
           {
            "error_x": {
             "color": "#2a3f5f"
            },
            "error_y": {
             "color": "#2a3f5f"
            },
            "marker": {
             "line": {
              "color": "#E5ECF6",
              "width": 0.5
             },
             "pattern": {
              "fillmode": "overlay",
              "size": 10,
              "solidity": 0.2
             }
            },
            "type": "bar"
           }
          ],
          "barpolar": [
           {
            "marker": {
             "line": {
              "color": "#E5ECF6",
              "width": 0.5
             },
             "pattern": {
              "fillmode": "overlay",
              "size": 10,
              "solidity": 0.2
             }
            },
            "type": "barpolar"
           }
          ],
          "carpet": [
           {
            "aaxis": {
             "endlinecolor": "#2a3f5f",
             "gridcolor": "white",
             "linecolor": "white",
             "minorgridcolor": "white",
             "startlinecolor": "#2a3f5f"
            },
            "baxis": {
             "endlinecolor": "#2a3f5f",
             "gridcolor": "white",
             "linecolor": "white",
             "minorgridcolor": "white",
             "startlinecolor": "#2a3f5f"
            },
            "type": "carpet"
           }
          ],
          "choropleth": [
           {
            "colorbar": {
             "outlinewidth": 0,
             "ticks": ""
            },
            "type": "choropleth"
           }
          ],
          "contour": [
           {
            "colorbar": {
             "outlinewidth": 0,
             "ticks": ""
            },
            "colorscale": [
             [
              0,
              "#0d0887"
             ],
             [
              0.1111111111111111,
              "#46039f"
             ],
             [
              0.2222222222222222,
              "#7201a8"
             ],
             [
              0.3333333333333333,
              "#9c179e"
             ],
             [
              0.4444444444444444,
              "#bd3786"
             ],
             [
              0.5555555555555556,
              "#d8576b"
             ],
             [
              0.6666666666666666,
              "#ed7953"
             ],
             [
              0.7777777777777778,
              "#fb9f3a"
             ],
             [
              0.8888888888888888,
              "#fdca26"
             ],
             [
              1,
              "#f0f921"
             ]
            ],
            "type": "contour"
           }
          ],
          "contourcarpet": [
           {
            "colorbar": {
             "outlinewidth": 0,
             "ticks": ""
            },
            "type": "contourcarpet"
           }
          ],
          "heatmap": [
           {
            "colorbar": {
             "outlinewidth": 0,
             "ticks": ""
            },
            "colorscale": [
             [
              0,
              "#0d0887"
             ],
             [
              0.1111111111111111,
              "#46039f"
             ],
             [
              0.2222222222222222,
              "#7201a8"
             ],
             [
              0.3333333333333333,
              "#9c179e"
             ],
             [
              0.4444444444444444,
              "#bd3786"
             ],
             [
              0.5555555555555556,
              "#d8576b"
             ],
             [
              0.6666666666666666,
              "#ed7953"
             ],
             [
              0.7777777777777778,
              "#fb9f3a"
             ],
             [
              0.8888888888888888,
              "#fdca26"
             ],
             [
              1,
              "#f0f921"
             ]
            ],
            "type": "heatmap"
           }
          ],
          "histogram": [
           {
            "marker": {
             "pattern": {
              "fillmode": "overlay",
              "size": 10,
              "solidity": 0.2
             }
            },
            "type": "histogram"
           }
          ],
          "histogram2d": [
           {
            "colorbar": {
             "outlinewidth": 0,
             "ticks": ""
            },
            "colorscale": [
             [
              0,
              "#0d0887"
             ],
             [
              0.1111111111111111,
              "#46039f"
             ],
             [
              0.2222222222222222,
              "#7201a8"
             ],
             [
              0.3333333333333333,
              "#9c179e"
             ],
             [
              0.4444444444444444,
              "#bd3786"
             ],
             [
              0.5555555555555556,
              "#d8576b"
             ],
             [
              0.6666666666666666,
              "#ed7953"
             ],
             [
              0.7777777777777778,
              "#fb9f3a"
             ],
             [
              0.8888888888888888,
              "#fdca26"
             ],
             [
              1,
              "#f0f921"
             ]
            ],
            "type": "histogram2d"
           }
          ],
          "histogram2dcontour": [
           {
            "colorbar": {
             "outlinewidth": 0,
             "ticks": ""
            },
            "colorscale": [
             [
              0,
              "#0d0887"
             ],
             [
              0.1111111111111111,
              "#46039f"
             ],
             [
              0.2222222222222222,
              "#7201a8"
             ],
             [
              0.3333333333333333,
              "#9c179e"
             ],
             [
              0.4444444444444444,
              "#bd3786"
             ],
             [
              0.5555555555555556,
              "#d8576b"
             ],
             [
              0.6666666666666666,
              "#ed7953"
             ],
             [
              0.7777777777777778,
              "#fb9f3a"
             ],
             [
              0.8888888888888888,
              "#fdca26"
             ],
             [
              1,
              "#f0f921"
             ]
            ],
            "type": "histogram2dcontour"
           }
          ],
          "mesh3d": [
           {
            "colorbar": {
             "outlinewidth": 0,
             "ticks": ""
            },
            "type": "mesh3d"
           }
          ],
          "parcoords": [
           {
            "line": {
             "colorbar": {
              "outlinewidth": 0,
              "ticks": ""
             }
            },
            "type": "parcoords"
           }
          ],
          "pie": [
           {
            "automargin": true,
            "type": "pie"
           }
          ],
          "scatter": [
           {
            "fillpattern": {
             "fillmode": "overlay",
             "size": 10,
             "solidity": 0.2
            },
            "type": "scatter"
           }
          ],
          "scatter3d": [
           {
            "line": {
             "colorbar": {
              "outlinewidth": 0,
              "ticks": ""
             }
            },
            "marker": {
             "colorbar": {
              "outlinewidth": 0,
              "ticks": ""
             }
            },
            "type": "scatter3d"
           }
          ],
          "scattercarpet": [
           {
            "marker": {
             "colorbar": {
              "outlinewidth": 0,
              "ticks": ""
             }
            },
            "type": "scattercarpet"
           }
          ],
          "scattergeo": [
           {
            "marker": {
             "colorbar": {
              "outlinewidth": 0,
              "ticks": ""
             }
            },
            "type": "scattergeo"
           }
          ],
          "scattergl": [
           {
            "marker": {
             "colorbar": {
              "outlinewidth": 0,
              "ticks": ""
             }
            },
            "type": "scattergl"
           }
          ],
          "scattermap": [
           {
            "marker": {
             "colorbar": {
              "outlinewidth": 0,
              "ticks": ""
             }
            },
            "type": "scattermap"
           }
          ],
          "scattermapbox": [
           {
            "marker": {
             "colorbar": {
              "outlinewidth": 0,
              "ticks": ""
             }
            },
            "type": "scattermapbox"
           }
          ],
          "scatterpolar": [
           {
            "marker": {
             "colorbar": {
              "outlinewidth": 0,
              "ticks": ""
             }
            },
            "type": "scatterpolar"
           }
          ],
          "scatterpolargl": [
           {
            "marker": {
             "colorbar": {
              "outlinewidth": 0,
              "ticks": ""
             }
            },
            "type": "scatterpolargl"
           }
          ],
          "scatterternary": [
           {
            "marker": {
             "colorbar": {
              "outlinewidth": 0,
              "ticks": ""
             }
            },
            "type": "scatterternary"
           }
          ],
          "surface": [
           {
            "colorbar": {
             "outlinewidth": 0,
             "ticks": ""
            },
            "colorscale": [
             [
              0,
              "#0d0887"
             ],
             [
              0.1111111111111111,
              "#46039f"
             ],
             [
              0.2222222222222222,
              "#7201a8"
             ],
             [
              0.3333333333333333,
              "#9c179e"
             ],
             [
              0.4444444444444444,
              "#bd3786"
             ],
             [
              0.5555555555555556,
              "#d8576b"
             ],
             [
              0.6666666666666666,
              "#ed7953"
             ],
             [
              0.7777777777777778,
              "#fb9f3a"
             ],
             [
              0.8888888888888888,
              "#fdca26"
             ],
             [
              1,
              "#f0f921"
             ]
            ],
            "type": "surface"
           }
          ],
          "table": [
           {
            "cells": {
             "fill": {
              "color": "#EBF0F8"
             },
             "line": {
              "color": "white"
             }
            },
            "header": {
             "fill": {
              "color": "#C8D4E3"
             },
             "line": {
              "color": "white"
             }
            },
            "type": "table"
           }
          ]
         },
         "layout": {
          "annotationdefaults": {
           "arrowcolor": "#2a3f5f",
           "arrowhead": 0,
           "arrowwidth": 1
          },
          "autotypenumbers": "strict",
          "coloraxis": {
           "colorbar": {
            "outlinewidth": 0,
            "ticks": ""
           }
          },
          "colorscale": {
           "diverging": [
            [
             0,
             "#8e0152"
            ],
            [
             0.1,
             "#c51b7d"
            ],
            [
             0.2,
             "#de77ae"
            ],
            [
             0.3,
             "#f1b6da"
            ],
            [
             0.4,
             "#fde0ef"
            ],
            [
             0.5,
             "#f7f7f7"
            ],
            [
             0.6,
             "#e6f5d0"
            ],
            [
             0.7,
             "#b8e186"
            ],
            [
             0.8,
             "#7fbc41"
            ],
            [
             0.9,
             "#4d9221"
            ],
            [
             1,
             "#276419"
            ]
           ],
           "sequential": [
            [
             0,
             "#0d0887"
            ],
            [
             0.1111111111111111,
             "#46039f"
            ],
            [
             0.2222222222222222,
             "#7201a8"
            ],
            [
             0.3333333333333333,
             "#9c179e"
            ],
            [
             0.4444444444444444,
             "#bd3786"
            ],
            [
             0.5555555555555556,
             "#d8576b"
            ],
            [
             0.6666666666666666,
             "#ed7953"
            ],
            [
             0.7777777777777778,
             "#fb9f3a"
            ],
            [
             0.8888888888888888,
             "#fdca26"
            ],
            [
             1,
             "#f0f921"
            ]
           ],
           "sequentialminus": [
            [
             0,
             "#0d0887"
            ],
            [
             0.1111111111111111,
             "#46039f"
            ],
            [
             0.2222222222222222,
             "#7201a8"
            ],
            [
             0.3333333333333333,
             "#9c179e"
            ],
            [
             0.4444444444444444,
             "#bd3786"
            ],
            [
             0.5555555555555556,
             "#d8576b"
            ],
            [
             0.6666666666666666,
             "#ed7953"
            ],
            [
             0.7777777777777778,
             "#fb9f3a"
            ],
            [
             0.8888888888888888,
             "#fdca26"
            ],
            [
             1,
             "#f0f921"
            ]
           ]
          },
          "colorway": [
           "#636efa",
           "#EF553B",
           "#00cc96",
           "#ab63fa",
           "#FFA15A",
           "#19d3f3",
           "#FF6692",
           "#B6E880",
           "#FF97FF",
           "#FECB52"
          ],
          "font": {
           "color": "#2a3f5f"
          },
          "geo": {
           "bgcolor": "white",
           "lakecolor": "white",
           "landcolor": "#E5ECF6",
           "showlakes": true,
           "showland": true,
           "subunitcolor": "white"
          },
          "hoverlabel": {
           "align": "left"
          },
          "hovermode": "closest",
          "mapbox": {
           "style": "light"
          },
          "paper_bgcolor": "white",
          "plot_bgcolor": "#E5ECF6",
          "polar": {
           "angularaxis": {
            "gridcolor": "white",
            "linecolor": "white",
            "ticks": ""
           },
           "bgcolor": "#E5ECF6",
           "radialaxis": {
            "gridcolor": "white",
            "linecolor": "white",
            "ticks": ""
           }
          },
          "scene": {
           "xaxis": {
            "backgroundcolor": "#E5ECF6",
            "gridcolor": "white",
            "gridwidth": 2,
            "linecolor": "white",
            "showbackground": true,
            "ticks": "",
            "zerolinecolor": "white"
           },
           "yaxis": {
            "backgroundcolor": "#E5ECF6",
            "gridcolor": "white",
            "gridwidth": 2,
            "linecolor": "white",
            "showbackground": true,
            "ticks": "",
            "zerolinecolor": "white"
           },
           "zaxis": {
            "backgroundcolor": "#E5ECF6",
            "gridcolor": "white",
            "gridwidth": 2,
            "linecolor": "white",
            "showbackground": true,
            "ticks": "",
            "zerolinecolor": "white"
           }
          },
          "shapedefaults": {
           "line": {
            "color": "#2a3f5f"
           }
          },
          "ternary": {
           "aaxis": {
            "gridcolor": "white",
            "linecolor": "white",
            "ticks": ""
           },
           "baxis": {
            "gridcolor": "white",
            "linecolor": "white",
            "ticks": ""
           },
           "bgcolor": "#E5ECF6",
           "caxis": {
            "gridcolor": "white",
            "linecolor": "white",
            "ticks": ""
           }
          },
          "title": {
           "x": 0.05
          },
          "xaxis": {
           "automargin": true,
           "gridcolor": "white",
           "linecolor": "white",
           "ticks": "",
           "title": {
            "standoff": 15
           },
           "zerolinecolor": "white",
           "zerolinewidth": 2
          },
          "yaxis": {
           "automargin": true,
           "gridcolor": "white",
           "linecolor": "white",
           "ticks": "",
           "title": {
            "standoff": 15
           },
           "zerolinecolor": "white",
           "zerolinewidth": 2
          }
         }
        },
        "title": {
         "text": "Inner CV RMSEs - Outer Fold 2"
        },
        "width": 800,
        "xaxis": {
         "tickangle": -90
        },
        "yaxis": {
         "title": {
          "text": "Validation RMSE"
         }
        }
       }
      }
     },
     "metadata": {},
     "output_type": "display_data"
    },
    {
     "name": "stdout",
     "output_type": "stream",
     "text": [
      "\n",
      "[Outer Fold 2] Test RMSE: 1.1565\n",
      "\n",
      "========== OUTER FOLD 3/5 ==========\n",
      "  Config 1/4 | Inner Mean RMSE: 0.6878\n",
      "  Config 2/4 | Inner Mean RMSE: 0.6681\n",
      "  Config 3/4 | Inner Mean RMSE: 0.6611\n",
      "  Config 4/4 | Inner Mean RMSE: 0.5878\n",
      "\n",
      "✅ Best config for outer fold 3:\n",
      "{'input_size': 13, 'hidden_sizes': [5, 5], 'output_size': 1, 'population_size': 10, 'tournament_size': 3, 'generations': 50, 'mutation_rate': 0.7}\n",
      "Best inner RMSE: 0.5878\n",
      "\n",
      "Statistical test on inner fold scores:\n",
      "Friedman test statistic: 3.4000, p-value: 0.3340\n",
      "No significant differences found between configs.\n"
     ]
    },
    {
     "data": {
      "application/vnd.plotly.v1+json": {
       "config": {
        "plotlyServerURL": "https://plot.ly"
       },
       "data": [
        {
         "boxpoints": "all",
         "fillcolor": "rgba(108, 140, 200, 0.3)",
         "jitter": 0,
         "line": {
          "color": "rgba(108, 140, 200, 1)"
         },
         "marker": {
          "color": "rgba(108, 140, 200, 1)"
         },
         "pointpos": 0,
         "type": "box",
         "x": [
          "Config 1<br>input_size: 13<br>hidden_sizes: [5, 5]<br>output_size: 1<br>population_size: 10<br>tournament_size: 3<br>generations: 30<br>mutation_rate: 0.5",
          "Config 1<br>input_size: 13<br>hidden_sizes: [5, 5]<br>output_size: 1<br>population_size: 10<br>tournament_size: 3<br>generations: 30<br>mutation_rate: 0.5",
          "Config 1<br>input_size: 13<br>hidden_sizes: [5, 5]<br>output_size: 1<br>population_size: 10<br>tournament_size: 3<br>generations: 30<br>mutation_rate: 0.5",
          "Config 2<br>input_size: 13<br>hidden_sizes: [5, 5]<br>output_size: 1<br>population_size: 10<br>tournament_size: 3<br>generations: 30<br>mutation_rate: 0.7",
          "Config 2<br>input_size: 13<br>hidden_sizes: [5, 5]<br>output_size: 1<br>population_size: 10<br>tournament_size: 3<br>generations: 30<br>mutation_rate: 0.7",
          "Config 2<br>input_size: 13<br>hidden_sizes: [5, 5]<br>output_size: 1<br>population_size: 10<br>tournament_size: 3<br>generations: 30<br>mutation_rate: 0.7",
          "Config 3<br>input_size: 13<br>hidden_sizes: [5, 5]<br>output_size: 1<br>population_size: 10<br>tournament_size: 3<br>generations: 50<br>mutation_rate: 0.5",
          "Config 3<br>input_size: 13<br>hidden_sizes: [5, 5]<br>output_size: 1<br>population_size: 10<br>tournament_size: 3<br>generations: 50<br>mutation_rate: 0.5",
          "Config 3<br>input_size: 13<br>hidden_sizes: [5, 5]<br>output_size: 1<br>population_size: 10<br>tournament_size: 3<br>generations: 50<br>mutation_rate: 0.5",
          "Config 4<br>input_size: 13<br>hidden_sizes: [5, 5]<br>output_size: 1<br>population_size: 10<br>tournament_size: 3<br>generations: 50<br>mutation_rate: 0.7",
          "Config 4<br>input_size: 13<br>hidden_sizes: [5, 5]<br>output_size: 1<br>population_size: 10<br>tournament_size: 3<br>generations: 50<br>mutation_rate: 0.7",
          "Config 4<br>input_size: 13<br>hidden_sizes: [5, 5]<br>output_size: 1<br>population_size: 10<br>tournament_size: 3<br>generations: 50<br>mutation_rate: 0.7"
         ],
         "y": {
          "bdata": "DHug/ZyO3T9vWYoyAk7rP7OzhHes8uc/f7ByKRhv3z849WV0vtTmP8pO6Qhql+k/M+G7MmjC2T8j2sRgWdrqP/VWfLnLuuc/YS2yzlph3z/IkNI/wWLjP7Pm4jmrWeU/",
          "dtype": "f8"
         }
        }
       ],
       "layout": {
        "height": 400,
        "margin": {
         "b": 20,
         "l": 50,
         "r": 50,
         "t": 50
        },
        "plot_bgcolor": "#f1f1f1",
        "showlegend": false,
        "template": {
         "data": {
          "bar": [
           {
            "error_x": {
             "color": "#2a3f5f"
            },
            "error_y": {
             "color": "#2a3f5f"
            },
            "marker": {
             "line": {
              "color": "#E5ECF6",
              "width": 0.5
             },
             "pattern": {
              "fillmode": "overlay",
              "size": 10,
              "solidity": 0.2
             }
            },
            "type": "bar"
           }
          ],
          "barpolar": [
           {
            "marker": {
             "line": {
              "color": "#E5ECF6",
              "width": 0.5
             },
             "pattern": {
              "fillmode": "overlay",
              "size": 10,
              "solidity": 0.2
             }
            },
            "type": "barpolar"
           }
          ],
          "carpet": [
           {
            "aaxis": {
             "endlinecolor": "#2a3f5f",
             "gridcolor": "white",
             "linecolor": "white",
             "minorgridcolor": "white",
             "startlinecolor": "#2a3f5f"
            },
            "baxis": {
             "endlinecolor": "#2a3f5f",
             "gridcolor": "white",
             "linecolor": "white",
             "minorgridcolor": "white",
             "startlinecolor": "#2a3f5f"
            },
            "type": "carpet"
           }
          ],
          "choropleth": [
           {
            "colorbar": {
             "outlinewidth": 0,
             "ticks": ""
            },
            "type": "choropleth"
           }
          ],
          "contour": [
           {
            "colorbar": {
             "outlinewidth": 0,
             "ticks": ""
            },
            "colorscale": [
             [
              0,
              "#0d0887"
             ],
             [
              0.1111111111111111,
              "#46039f"
             ],
             [
              0.2222222222222222,
              "#7201a8"
             ],
             [
              0.3333333333333333,
              "#9c179e"
             ],
             [
              0.4444444444444444,
              "#bd3786"
             ],
             [
              0.5555555555555556,
              "#d8576b"
             ],
             [
              0.6666666666666666,
              "#ed7953"
             ],
             [
              0.7777777777777778,
              "#fb9f3a"
             ],
             [
              0.8888888888888888,
              "#fdca26"
             ],
             [
              1,
              "#f0f921"
             ]
            ],
            "type": "contour"
           }
          ],
          "contourcarpet": [
           {
            "colorbar": {
             "outlinewidth": 0,
             "ticks": ""
            },
            "type": "contourcarpet"
           }
          ],
          "heatmap": [
           {
            "colorbar": {
             "outlinewidth": 0,
             "ticks": ""
            },
            "colorscale": [
             [
              0,
              "#0d0887"
             ],
             [
              0.1111111111111111,
              "#46039f"
             ],
             [
              0.2222222222222222,
              "#7201a8"
             ],
             [
              0.3333333333333333,
              "#9c179e"
             ],
             [
              0.4444444444444444,
              "#bd3786"
             ],
             [
              0.5555555555555556,
              "#d8576b"
             ],
             [
              0.6666666666666666,
              "#ed7953"
             ],
             [
              0.7777777777777778,
              "#fb9f3a"
             ],
             [
              0.8888888888888888,
              "#fdca26"
             ],
             [
              1,
              "#f0f921"
             ]
            ],
            "type": "heatmap"
           }
          ],
          "histogram": [
           {
            "marker": {
             "pattern": {
              "fillmode": "overlay",
              "size": 10,
              "solidity": 0.2
             }
            },
            "type": "histogram"
           }
          ],
          "histogram2d": [
           {
            "colorbar": {
             "outlinewidth": 0,
             "ticks": ""
            },
            "colorscale": [
             [
              0,
              "#0d0887"
             ],
             [
              0.1111111111111111,
              "#46039f"
             ],
             [
              0.2222222222222222,
              "#7201a8"
             ],
             [
              0.3333333333333333,
              "#9c179e"
             ],
             [
              0.4444444444444444,
              "#bd3786"
             ],
             [
              0.5555555555555556,
              "#d8576b"
             ],
             [
              0.6666666666666666,
              "#ed7953"
             ],
             [
              0.7777777777777778,
              "#fb9f3a"
             ],
             [
              0.8888888888888888,
              "#fdca26"
             ],
             [
              1,
              "#f0f921"
             ]
            ],
            "type": "histogram2d"
           }
          ],
          "histogram2dcontour": [
           {
            "colorbar": {
             "outlinewidth": 0,
             "ticks": ""
            },
            "colorscale": [
             [
              0,
              "#0d0887"
             ],
             [
              0.1111111111111111,
              "#46039f"
             ],
             [
              0.2222222222222222,
              "#7201a8"
             ],
             [
              0.3333333333333333,
              "#9c179e"
             ],
             [
              0.4444444444444444,
              "#bd3786"
             ],
             [
              0.5555555555555556,
              "#d8576b"
             ],
             [
              0.6666666666666666,
              "#ed7953"
             ],
             [
              0.7777777777777778,
              "#fb9f3a"
             ],
             [
              0.8888888888888888,
              "#fdca26"
             ],
             [
              1,
              "#f0f921"
             ]
            ],
            "type": "histogram2dcontour"
           }
          ],
          "mesh3d": [
           {
            "colorbar": {
             "outlinewidth": 0,
             "ticks": ""
            },
            "type": "mesh3d"
           }
          ],
          "parcoords": [
           {
            "line": {
             "colorbar": {
              "outlinewidth": 0,
              "ticks": ""
             }
            },
            "type": "parcoords"
           }
          ],
          "pie": [
           {
            "automargin": true,
            "type": "pie"
           }
          ],
          "scatter": [
           {
            "fillpattern": {
             "fillmode": "overlay",
             "size": 10,
             "solidity": 0.2
            },
            "type": "scatter"
           }
          ],
          "scatter3d": [
           {
            "line": {
             "colorbar": {
              "outlinewidth": 0,
              "ticks": ""
             }
            },
            "marker": {
             "colorbar": {
              "outlinewidth": 0,
              "ticks": ""
             }
            },
            "type": "scatter3d"
           }
          ],
          "scattercarpet": [
           {
            "marker": {
             "colorbar": {
              "outlinewidth": 0,
              "ticks": ""
             }
            },
            "type": "scattercarpet"
           }
          ],
          "scattergeo": [
           {
            "marker": {
             "colorbar": {
              "outlinewidth": 0,
              "ticks": ""
             }
            },
            "type": "scattergeo"
           }
          ],
          "scattergl": [
           {
            "marker": {
             "colorbar": {
              "outlinewidth": 0,
              "ticks": ""
             }
            },
            "type": "scattergl"
           }
          ],
          "scattermap": [
           {
            "marker": {
             "colorbar": {
              "outlinewidth": 0,
              "ticks": ""
             }
            },
            "type": "scattermap"
           }
          ],
          "scattermapbox": [
           {
            "marker": {
             "colorbar": {
              "outlinewidth": 0,
              "ticks": ""
             }
            },
            "type": "scattermapbox"
           }
          ],
          "scatterpolar": [
           {
            "marker": {
             "colorbar": {
              "outlinewidth": 0,
              "ticks": ""
             }
            },
            "type": "scatterpolar"
           }
          ],
          "scatterpolargl": [
           {
            "marker": {
             "colorbar": {
              "outlinewidth": 0,
              "ticks": ""
             }
            },
            "type": "scatterpolargl"
           }
          ],
          "scatterternary": [
           {
            "marker": {
             "colorbar": {
              "outlinewidth": 0,
              "ticks": ""
             }
            },
            "type": "scatterternary"
           }
          ],
          "surface": [
           {
            "colorbar": {
             "outlinewidth": 0,
             "ticks": ""
            },
            "colorscale": [
             [
              0,
              "#0d0887"
             ],
             [
              0.1111111111111111,
              "#46039f"
             ],
             [
              0.2222222222222222,
              "#7201a8"
             ],
             [
              0.3333333333333333,
              "#9c179e"
             ],
             [
              0.4444444444444444,
              "#bd3786"
             ],
             [
              0.5555555555555556,
              "#d8576b"
             ],
             [
              0.6666666666666666,
              "#ed7953"
             ],
             [
              0.7777777777777778,
              "#fb9f3a"
             ],
             [
              0.8888888888888888,
              "#fdca26"
             ],
             [
              1,
              "#f0f921"
             ]
            ],
            "type": "surface"
           }
          ],
          "table": [
           {
            "cells": {
             "fill": {
              "color": "#EBF0F8"
             },
             "line": {
              "color": "white"
             }
            },
            "header": {
             "fill": {
              "color": "#C8D4E3"
             },
             "line": {
              "color": "white"
             }
            },
            "type": "table"
           }
          ]
         },
         "layout": {
          "annotationdefaults": {
           "arrowcolor": "#2a3f5f",
           "arrowhead": 0,
           "arrowwidth": 1
          },
          "autotypenumbers": "strict",
          "coloraxis": {
           "colorbar": {
            "outlinewidth": 0,
            "ticks": ""
           }
          },
          "colorscale": {
           "diverging": [
            [
             0,
             "#8e0152"
            ],
            [
             0.1,
             "#c51b7d"
            ],
            [
             0.2,
             "#de77ae"
            ],
            [
             0.3,
             "#f1b6da"
            ],
            [
             0.4,
             "#fde0ef"
            ],
            [
             0.5,
             "#f7f7f7"
            ],
            [
             0.6,
             "#e6f5d0"
            ],
            [
             0.7,
             "#b8e186"
            ],
            [
             0.8,
             "#7fbc41"
            ],
            [
             0.9,
             "#4d9221"
            ],
            [
             1,
             "#276419"
            ]
           ],
           "sequential": [
            [
             0,
             "#0d0887"
            ],
            [
             0.1111111111111111,
             "#46039f"
            ],
            [
             0.2222222222222222,
             "#7201a8"
            ],
            [
             0.3333333333333333,
             "#9c179e"
            ],
            [
             0.4444444444444444,
             "#bd3786"
            ],
            [
             0.5555555555555556,
             "#d8576b"
            ],
            [
             0.6666666666666666,
             "#ed7953"
            ],
            [
             0.7777777777777778,
             "#fb9f3a"
            ],
            [
             0.8888888888888888,
             "#fdca26"
            ],
            [
             1,
             "#f0f921"
            ]
           ],
           "sequentialminus": [
            [
             0,
             "#0d0887"
            ],
            [
             0.1111111111111111,
             "#46039f"
            ],
            [
             0.2222222222222222,
             "#7201a8"
            ],
            [
             0.3333333333333333,
             "#9c179e"
            ],
            [
             0.4444444444444444,
             "#bd3786"
            ],
            [
             0.5555555555555556,
             "#d8576b"
            ],
            [
             0.6666666666666666,
             "#ed7953"
            ],
            [
             0.7777777777777778,
             "#fb9f3a"
            ],
            [
             0.8888888888888888,
             "#fdca26"
            ],
            [
             1,
             "#f0f921"
            ]
           ]
          },
          "colorway": [
           "#636efa",
           "#EF553B",
           "#00cc96",
           "#ab63fa",
           "#FFA15A",
           "#19d3f3",
           "#FF6692",
           "#B6E880",
           "#FF97FF",
           "#FECB52"
          ],
          "font": {
           "color": "#2a3f5f"
          },
          "geo": {
           "bgcolor": "white",
           "lakecolor": "white",
           "landcolor": "#E5ECF6",
           "showlakes": true,
           "showland": true,
           "subunitcolor": "white"
          },
          "hoverlabel": {
           "align": "left"
          },
          "hovermode": "closest",
          "mapbox": {
           "style": "light"
          },
          "paper_bgcolor": "white",
          "plot_bgcolor": "#E5ECF6",
          "polar": {
           "angularaxis": {
            "gridcolor": "white",
            "linecolor": "white",
            "ticks": ""
           },
           "bgcolor": "#E5ECF6",
           "radialaxis": {
            "gridcolor": "white",
            "linecolor": "white",
            "ticks": ""
           }
          },
          "scene": {
           "xaxis": {
            "backgroundcolor": "#E5ECF6",
            "gridcolor": "white",
            "gridwidth": 2,
            "linecolor": "white",
            "showbackground": true,
            "ticks": "",
            "zerolinecolor": "white"
           },
           "yaxis": {
            "backgroundcolor": "#E5ECF6",
            "gridcolor": "white",
            "gridwidth": 2,
            "linecolor": "white",
            "showbackground": true,
            "ticks": "",
            "zerolinecolor": "white"
           },
           "zaxis": {
            "backgroundcolor": "#E5ECF6",
            "gridcolor": "white",
            "gridwidth": 2,
            "linecolor": "white",
            "showbackground": true,
            "ticks": "",
            "zerolinecolor": "white"
           }
          },
          "shapedefaults": {
           "line": {
            "color": "#2a3f5f"
           }
          },
          "ternary": {
           "aaxis": {
            "gridcolor": "white",
            "linecolor": "white",
            "ticks": ""
           },
           "baxis": {
            "gridcolor": "white",
            "linecolor": "white",
            "ticks": ""
           },
           "bgcolor": "#E5ECF6",
           "caxis": {
            "gridcolor": "white",
            "linecolor": "white",
            "ticks": ""
           }
          },
          "title": {
           "x": 0.05
          },
          "xaxis": {
           "automargin": true,
           "gridcolor": "white",
           "linecolor": "white",
           "ticks": "",
           "title": {
            "standoff": 15
           },
           "zerolinecolor": "white",
           "zerolinewidth": 2
          },
          "yaxis": {
           "automargin": true,
           "gridcolor": "white",
           "linecolor": "white",
           "ticks": "",
           "title": {
            "standoff": 15
           },
           "zerolinecolor": "white",
           "zerolinewidth": 2
          }
         }
        },
        "title": {
         "text": "Inner CV RMSEs - Outer Fold 3"
        },
        "width": 800,
        "xaxis": {
         "tickangle": -90
        },
        "yaxis": {
         "title": {
          "text": "Validation RMSE"
         }
        }
       }
      }
     },
     "metadata": {},
     "output_type": "display_data"
    },
    {
     "name": "stdout",
     "output_type": "stream",
     "text": [
      "\n",
      "[Outer Fold 3] Test RMSE: 3.2178\n",
      "\n",
      "========== OUTER FOLD 4/5 ==========\n",
      "  Config 1/4 | Inner Mean RMSE: 1.2584\n",
      "  Config 2/4 | Inner Mean RMSE: 0.9967\n",
      "  Config 3/4 | Inner Mean RMSE: 1.0340\n",
      "  Config 4/4 | Inner Mean RMSE: 1.0095\n",
      "\n",
      "✅ Best config for outer fold 4:\n",
      "{'input_size': 13, 'hidden_sizes': [5, 5], 'output_size': 1, 'population_size': 10, 'tournament_size': 3, 'generations': 30, 'mutation_rate': 0.7}\n",
      "Best inner RMSE: 0.9967\n",
      "\n",
      "Statistical test on inner fold scores:\n",
      "Friedman test statistic: 0.2000, p-value: 0.9776\n",
      "No significant differences found between configs.\n"
     ]
    },
    {
     "data": {
      "application/vnd.plotly.v1+json": {
       "config": {
        "plotlyServerURL": "https://plot.ly"
       },
       "data": [
        {
         "boxpoints": "all",
         "fillcolor": "rgba(108, 140, 200, 0.3)",
         "jitter": 0,
         "line": {
          "color": "rgba(108, 140, 200, 1)"
         },
         "marker": {
          "color": "rgba(108, 140, 200, 1)"
         },
         "pointpos": 0,
         "type": "box",
         "x": [
          "Config 1<br>input_size: 13<br>hidden_sizes: [5, 5]<br>output_size: 1<br>population_size: 10<br>tournament_size: 3<br>generations: 30<br>mutation_rate: 0.5",
          "Config 1<br>input_size: 13<br>hidden_sizes: [5, 5]<br>output_size: 1<br>population_size: 10<br>tournament_size: 3<br>generations: 30<br>mutation_rate: 0.5",
          "Config 1<br>input_size: 13<br>hidden_sizes: [5, 5]<br>output_size: 1<br>population_size: 10<br>tournament_size: 3<br>generations: 30<br>mutation_rate: 0.5",
          "Config 2<br>input_size: 13<br>hidden_sizes: [5, 5]<br>output_size: 1<br>population_size: 10<br>tournament_size: 3<br>generations: 30<br>mutation_rate: 0.7",
          "Config 2<br>input_size: 13<br>hidden_sizes: [5, 5]<br>output_size: 1<br>population_size: 10<br>tournament_size: 3<br>generations: 30<br>mutation_rate: 0.7",
          "Config 2<br>input_size: 13<br>hidden_sizes: [5, 5]<br>output_size: 1<br>population_size: 10<br>tournament_size: 3<br>generations: 30<br>mutation_rate: 0.7",
          "Config 3<br>input_size: 13<br>hidden_sizes: [5, 5]<br>output_size: 1<br>population_size: 10<br>tournament_size: 3<br>generations: 50<br>mutation_rate: 0.5",
          "Config 3<br>input_size: 13<br>hidden_sizes: [5, 5]<br>output_size: 1<br>population_size: 10<br>tournament_size: 3<br>generations: 50<br>mutation_rate: 0.5",
          "Config 3<br>input_size: 13<br>hidden_sizes: [5, 5]<br>output_size: 1<br>population_size: 10<br>tournament_size: 3<br>generations: 50<br>mutation_rate: 0.5",
          "Config 4<br>input_size: 13<br>hidden_sizes: [5, 5]<br>output_size: 1<br>population_size: 10<br>tournament_size: 3<br>generations: 50<br>mutation_rate: 0.7",
          "Config 4<br>input_size: 13<br>hidden_sizes: [5, 5]<br>output_size: 1<br>population_size: 10<br>tournament_size: 3<br>generations: 50<br>mutation_rate: 0.7",
          "Config 4<br>input_size: 13<br>hidden_sizes: [5, 5]<br>output_size: 1<br>population_size: 10<br>tournament_size: 3<br>generations: 50<br>mutation_rate: 0.7"
         ],
         "y": {
          "bdata": "mUHlHI+V+z9Z5Uu4lZvjP4daOYBPA/c/4ITeaJdI6T9crYfL+GLnPx7YFzWAgfc/RFKmeo0c7j8vqNWoeSboP6oGwP53gPY/j+BeXhY37T9O32aFbJHlP55pM7zqEPc/",
          "dtype": "f8"
         }
        }
       ],
       "layout": {
        "height": 400,
        "margin": {
         "b": 20,
         "l": 50,
         "r": 50,
         "t": 50
        },
        "plot_bgcolor": "#f1f1f1",
        "showlegend": false,
        "template": {
         "data": {
          "bar": [
           {
            "error_x": {
             "color": "#2a3f5f"
            },
            "error_y": {
             "color": "#2a3f5f"
            },
            "marker": {
             "line": {
              "color": "#E5ECF6",
              "width": 0.5
             },
             "pattern": {
              "fillmode": "overlay",
              "size": 10,
              "solidity": 0.2
             }
            },
            "type": "bar"
           }
          ],
          "barpolar": [
           {
            "marker": {
             "line": {
              "color": "#E5ECF6",
              "width": 0.5
             },
             "pattern": {
              "fillmode": "overlay",
              "size": 10,
              "solidity": 0.2
             }
            },
            "type": "barpolar"
           }
          ],
          "carpet": [
           {
            "aaxis": {
             "endlinecolor": "#2a3f5f",
             "gridcolor": "white",
             "linecolor": "white",
             "minorgridcolor": "white",
             "startlinecolor": "#2a3f5f"
            },
            "baxis": {
             "endlinecolor": "#2a3f5f",
             "gridcolor": "white",
             "linecolor": "white",
             "minorgridcolor": "white",
             "startlinecolor": "#2a3f5f"
            },
            "type": "carpet"
           }
          ],
          "choropleth": [
           {
            "colorbar": {
             "outlinewidth": 0,
             "ticks": ""
            },
            "type": "choropleth"
           }
          ],
          "contour": [
           {
            "colorbar": {
             "outlinewidth": 0,
             "ticks": ""
            },
            "colorscale": [
             [
              0,
              "#0d0887"
             ],
             [
              0.1111111111111111,
              "#46039f"
             ],
             [
              0.2222222222222222,
              "#7201a8"
             ],
             [
              0.3333333333333333,
              "#9c179e"
             ],
             [
              0.4444444444444444,
              "#bd3786"
             ],
             [
              0.5555555555555556,
              "#d8576b"
             ],
             [
              0.6666666666666666,
              "#ed7953"
             ],
             [
              0.7777777777777778,
              "#fb9f3a"
             ],
             [
              0.8888888888888888,
              "#fdca26"
             ],
             [
              1,
              "#f0f921"
             ]
            ],
            "type": "contour"
           }
          ],
          "contourcarpet": [
           {
            "colorbar": {
             "outlinewidth": 0,
             "ticks": ""
            },
            "type": "contourcarpet"
           }
          ],
          "heatmap": [
           {
            "colorbar": {
             "outlinewidth": 0,
             "ticks": ""
            },
            "colorscale": [
             [
              0,
              "#0d0887"
             ],
             [
              0.1111111111111111,
              "#46039f"
             ],
             [
              0.2222222222222222,
              "#7201a8"
             ],
             [
              0.3333333333333333,
              "#9c179e"
             ],
             [
              0.4444444444444444,
              "#bd3786"
             ],
             [
              0.5555555555555556,
              "#d8576b"
             ],
             [
              0.6666666666666666,
              "#ed7953"
             ],
             [
              0.7777777777777778,
              "#fb9f3a"
             ],
             [
              0.8888888888888888,
              "#fdca26"
             ],
             [
              1,
              "#f0f921"
             ]
            ],
            "type": "heatmap"
           }
          ],
          "histogram": [
           {
            "marker": {
             "pattern": {
              "fillmode": "overlay",
              "size": 10,
              "solidity": 0.2
             }
            },
            "type": "histogram"
           }
          ],
          "histogram2d": [
           {
            "colorbar": {
             "outlinewidth": 0,
             "ticks": ""
            },
            "colorscale": [
             [
              0,
              "#0d0887"
             ],
             [
              0.1111111111111111,
              "#46039f"
             ],
             [
              0.2222222222222222,
              "#7201a8"
             ],
             [
              0.3333333333333333,
              "#9c179e"
             ],
             [
              0.4444444444444444,
              "#bd3786"
             ],
             [
              0.5555555555555556,
              "#d8576b"
             ],
             [
              0.6666666666666666,
              "#ed7953"
             ],
             [
              0.7777777777777778,
              "#fb9f3a"
             ],
             [
              0.8888888888888888,
              "#fdca26"
             ],
             [
              1,
              "#f0f921"
             ]
            ],
            "type": "histogram2d"
           }
          ],
          "histogram2dcontour": [
           {
            "colorbar": {
             "outlinewidth": 0,
             "ticks": ""
            },
            "colorscale": [
             [
              0,
              "#0d0887"
             ],
             [
              0.1111111111111111,
              "#46039f"
             ],
             [
              0.2222222222222222,
              "#7201a8"
             ],
             [
              0.3333333333333333,
              "#9c179e"
             ],
             [
              0.4444444444444444,
              "#bd3786"
             ],
             [
              0.5555555555555556,
              "#d8576b"
             ],
             [
              0.6666666666666666,
              "#ed7953"
             ],
             [
              0.7777777777777778,
              "#fb9f3a"
             ],
             [
              0.8888888888888888,
              "#fdca26"
             ],
             [
              1,
              "#f0f921"
             ]
            ],
            "type": "histogram2dcontour"
           }
          ],
          "mesh3d": [
           {
            "colorbar": {
             "outlinewidth": 0,
             "ticks": ""
            },
            "type": "mesh3d"
           }
          ],
          "parcoords": [
           {
            "line": {
             "colorbar": {
              "outlinewidth": 0,
              "ticks": ""
             }
            },
            "type": "parcoords"
           }
          ],
          "pie": [
           {
            "automargin": true,
            "type": "pie"
           }
          ],
          "scatter": [
           {
            "fillpattern": {
             "fillmode": "overlay",
             "size": 10,
             "solidity": 0.2
            },
            "type": "scatter"
           }
          ],
          "scatter3d": [
           {
            "line": {
             "colorbar": {
              "outlinewidth": 0,
              "ticks": ""
             }
            },
            "marker": {
             "colorbar": {
              "outlinewidth": 0,
              "ticks": ""
             }
            },
            "type": "scatter3d"
           }
          ],
          "scattercarpet": [
           {
            "marker": {
             "colorbar": {
              "outlinewidth": 0,
              "ticks": ""
             }
            },
            "type": "scattercarpet"
           }
          ],
          "scattergeo": [
           {
            "marker": {
             "colorbar": {
              "outlinewidth": 0,
              "ticks": ""
             }
            },
            "type": "scattergeo"
           }
          ],
          "scattergl": [
           {
            "marker": {
             "colorbar": {
              "outlinewidth": 0,
              "ticks": ""
             }
            },
            "type": "scattergl"
           }
          ],
          "scattermap": [
           {
            "marker": {
             "colorbar": {
              "outlinewidth": 0,
              "ticks": ""
             }
            },
            "type": "scattermap"
           }
          ],
          "scattermapbox": [
           {
            "marker": {
             "colorbar": {
              "outlinewidth": 0,
              "ticks": ""
             }
            },
            "type": "scattermapbox"
           }
          ],
          "scatterpolar": [
           {
            "marker": {
             "colorbar": {
              "outlinewidth": 0,
              "ticks": ""
             }
            },
            "type": "scatterpolar"
           }
          ],
          "scatterpolargl": [
           {
            "marker": {
             "colorbar": {
              "outlinewidth": 0,
              "ticks": ""
             }
            },
            "type": "scatterpolargl"
           }
          ],
          "scatterternary": [
           {
            "marker": {
             "colorbar": {
              "outlinewidth": 0,
              "ticks": ""
             }
            },
            "type": "scatterternary"
           }
          ],
          "surface": [
           {
            "colorbar": {
             "outlinewidth": 0,
             "ticks": ""
            },
            "colorscale": [
             [
              0,
              "#0d0887"
             ],
             [
              0.1111111111111111,
              "#46039f"
             ],
             [
              0.2222222222222222,
              "#7201a8"
             ],
             [
              0.3333333333333333,
              "#9c179e"
             ],
             [
              0.4444444444444444,
              "#bd3786"
             ],
             [
              0.5555555555555556,
              "#d8576b"
             ],
             [
              0.6666666666666666,
              "#ed7953"
             ],
             [
              0.7777777777777778,
              "#fb9f3a"
             ],
             [
              0.8888888888888888,
              "#fdca26"
             ],
             [
              1,
              "#f0f921"
             ]
            ],
            "type": "surface"
           }
          ],
          "table": [
           {
            "cells": {
             "fill": {
              "color": "#EBF0F8"
             },
             "line": {
              "color": "white"
             }
            },
            "header": {
             "fill": {
              "color": "#C8D4E3"
             },
             "line": {
              "color": "white"
             }
            },
            "type": "table"
           }
          ]
         },
         "layout": {
          "annotationdefaults": {
           "arrowcolor": "#2a3f5f",
           "arrowhead": 0,
           "arrowwidth": 1
          },
          "autotypenumbers": "strict",
          "coloraxis": {
           "colorbar": {
            "outlinewidth": 0,
            "ticks": ""
           }
          },
          "colorscale": {
           "diverging": [
            [
             0,
             "#8e0152"
            ],
            [
             0.1,
             "#c51b7d"
            ],
            [
             0.2,
             "#de77ae"
            ],
            [
             0.3,
             "#f1b6da"
            ],
            [
             0.4,
             "#fde0ef"
            ],
            [
             0.5,
             "#f7f7f7"
            ],
            [
             0.6,
             "#e6f5d0"
            ],
            [
             0.7,
             "#b8e186"
            ],
            [
             0.8,
             "#7fbc41"
            ],
            [
             0.9,
             "#4d9221"
            ],
            [
             1,
             "#276419"
            ]
           ],
           "sequential": [
            [
             0,
             "#0d0887"
            ],
            [
             0.1111111111111111,
             "#46039f"
            ],
            [
             0.2222222222222222,
             "#7201a8"
            ],
            [
             0.3333333333333333,
             "#9c179e"
            ],
            [
             0.4444444444444444,
             "#bd3786"
            ],
            [
             0.5555555555555556,
             "#d8576b"
            ],
            [
             0.6666666666666666,
             "#ed7953"
            ],
            [
             0.7777777777777778,
             "#fb9f3a"
            ],
            [
             0.8888888888888888,
             "#fdca26"
            ],
            [
             1,
             "#f0f921"
            ]
           ],
           "sequentialminus": [
            [
             0,
             "#0d0887"
            ],
            [
             0.1111111111111111,
             "#46039f"
            ],
            [
             0.2222222222222222,
             "#7201a8"
            ],
            [
             0.3333333333333333,
             "#9c179e"
            ],
            [
             0.4444444444444444,
             "#bd3786"
            ],
            [
             0.5555555555555556,
             "#d8576b"
            ],
            [
             0.6666666666666666,
             "#ed7953"
            ],
            [
             0.7777777777777778,
             "#fb9f3a"
            ],
            [
             0.8888888888888888,
             "#fdca26"
            ],
            [
             1,
             "#f0f921"
            ]
           ]
          },
          "colorway": [
           "#636efa",
           "#EF553B",
           "#00cc96",
           "#ab63fa",
           "#FFA15A",
           "#19d3f3",
           "#FF6692",
           "#B6E880",
           "#FF97FF",
           "#FECB52"
          ],
          "font": {
           "color": "#2a3f5f"
          },
          "geo": {
           "bgcolor": "white",
           "lakecolor": "white",
           "landcolor": "#E5ECF6",
           "showlakes": true,
           "showland": true,
           "subunitcolor": "white"
          },
          "hoverlabel": {
           "align": "left"
          },
          "hovermode": "closest",
          "mapbox": {
           "style": "light"
          },
          "paper_bgcolor": "white",
          "plot_bgcolor": "#E5ECF6",
          "polar": {
           "angularaxis": {
            "gridcolor": "white",
            "linecolor": "white",
            "ticks": ""
           },
           "bgcolor": "#E5ECF6",
           "radialaxis": {
            "gridcolor": "white",
            "linecolor": "white",
            "ticks": ""
           }
          },
          "scene": {
           "xaxis": {
            "backgroundcolor": "#E5ECF6",
            "gridcolor": "white",
            "gridwidth": 2,
            "linecolor": "white",
            "showbackground": true,
            "ticks": "",
            "zerolinecolor": "white"
           },
           "yaxis": {
            "backgroundcolor": "#E5ECF6",
            "gridcolor": "white",
            "gridwidth": 2,
            "linecolor": "white",
            "showbackground": true,
            "ticks": "",
            "zerolinecolor": "white"
           },
           "zaxis": {
            "backgroundcolor": "#E5ECF6",
            "gridcolor": "white",
            "gridwidth": 2,
            "linecolor": "white",
            "showbackground": true,
            "ticks": "",
            "zerolinecolor": "white"
           }
          },
          "shapedefaults": {
           "line": {
            "color": "#2a3f5f"
           }
          },
          "ternary": {
           "aaxis": {
            "gridcolor": "white",
            "linecolor": "white",
            "ticks": ""
           },
           "baxis": {
            "gridcolor": "white",
            "linecolor": "white",
            "ticks": ""
           },
           "bgcolor": "#E5ECF6",
           "caxis": {
            "gridcolor": "white",
            "linecolor": "white",
            "ticks": ""
           }
          },
          "title": {
           "x": 0.05
          },
          "xaxis": {
           "automargin": true,
           "gridcolor": "white",
           "linecolor": "white",
           "ticks": "",
           "title": {
            "standoff": 15
           },
           "zerolinecolor": "white",
           "zerolinewidth": 2
          },
          "yaxis": {
           "automargin": true,
           "gridcolor": "white",
           "linecolor": "white",
           "ticks": "",
           "title": {
            "standoff": 15
           },
           "zerolinecolor": "white",
           "zerolinewidth": 2
          }
         }
        },
        "title": {
         "text": "Inner CV RMSEs - Outer Fold 4"
        },
        "width": 800,
        "xaxis": {
         "tickangle": -90
        },
        "yaxis": {
         "title": {
          "text": "Validation RMSE"
         }
        }
       }
      }
     },
     "metadata": {},
     "output_type": "display_data"
    },
    {
     "name": "stdout",
     "output_type": "stream",
     "text": [
      "\n",
      "[Outer Fold 4] Test RMSE: 1.4046\n",
      "\n",
      "========== OUTER FOLD 5/5 ==========\n",
      "  Config 1/4 | Inner Mean RMSE: 1.2057\n",
      "  Config 2/4 | Inner Mean RMSE: 1.0073\n",
      "  Config 3/4 | Inner Mean RMSE: 1.0575\n",
      "  Config 4/4 | Inner Mean RMSE: 1.1561\n",
      "\n",
      "✅ Best config for outer fold 5:\n",
      "{'input_size': 13, 'hidden_sizes': [5, 5], 'output_size': 1, 'population_size': 10, 'tournament_size': 3, 'generations': 30, 'mutation_rate': 0.7}\n",
      "Best inner RMSE: 1.0073\n",
      "\n",
      "Statistical test on inner fold scores:\n",
      "Friedman test statistic: 5.4000, p-value: 0.1447\n",
      "No significant differences found between configs.\n"
     ]
    },
    {
     "data": {
      "application/vnd.plotly.v1+json": {
       "config": {
        "plotlyServerURL": "https://plot.ly"
       },
       "data": [
        {
         "boxpoints": "all",
         "fillcolor": "rgba(108, 140, 200, 0.3)",
         "jitter": 0,
         "line": {
          "color": "rgba(108, 140, 200, 1)"
         },
         "marker": {
          "color": "rgba(108, 140, 200, 1)"
         },
         "pointpos": 0,
         "type": "box",
         "x": [
          "Config 1<br>input_size: 13<br>hidden_sizes: [5, 5]<br>output_size: 1<br>population_size: 10<br>tournament_size: 3<br>generations: 30<br>mutation_rate: 0.5",
          "Config 1<br>input_size: 13<br>hidden_sizes: [5, 5]<br>output_size: 1<br>population_size: 10<br>tournament_size: 3<br>generations: 30<br>mutation_rate: 0.5",
          "Config 1<br>input_size: 13<br>hidden_sizes: [5, 5]<br>output_size: 1<br>population_size: 10<br>tournament_size: 3<br>generations: 30<br>mutation_rate: 0.5",
          "Config 2<br>input_size: 13<br>hidden_sizes: [5, 5]<br>output_size: 1<br>population_size: 10<br>tournament_size: 3<br>generations: 30<br>mutation_rate: 0.7",
          "Config 2<br>input_size: 13<br>hidden_sizes: [5, 5]<br>output_size: 1<br>population_size: 10<br>tournament_size: 3<br>generations: 30<br>mutation_rate: 0.7",
          "Config 2<br>input_size: 13<br>hidden_sizes: [5, 5]<br>output_size: 1<br>population_size: 10<br>tournament_size: 3<br>generations: 30<br>mutation_rate: 0.7",
          "Config 3<br>input_size: 13<br>hidden_sizes: [5, 5]<br>output_size: 1<br>population_size: 10<br>tournament_size: 3<br>generations: 50<br>mutation_rate: 0.5",
          "Config 3<br>input_size: 13<br>hidden_sizes: [5, 5]<br>output_size: 1<br>population_size: 10<br>tournament_size: 3<br>generations: 50<br>mutation_rate: 0.5",
          "Config 3<br>input_size: 13<br>hidden_sizes: [5, 5]<br>output_size: 1<br>population_size: 10<br>tournament_size: 3<br>generations: 50<br>mutation_rate: 0.5",
          "Config 4<br>input_size: 13<br>hidden_sizes: [5, 5]<br>output_size: 1<br>population_size: 10<br>tournament_size: 3<br>generations: 50<br>mutation_rate: 0.7",
          "Config 4<br>input_size: 13<br>hidden_sizes: [5, 5]<br>output_size: 1<br>population_size: 10<br>tournament_size: 3<br>generations: 50<br>mutation_rate: 0.7",
          "Config 4<br>input_size: 13<br>hidden_sizes: [5, 5]<br>output_size: 1<br>population_size: 10<br>tournament_size: 3<br>generations: 50<br>mutation_rate: 0.7"
         ],
         "y": {
          "bdata": "clPvERYp/D+BJZecgJbrP+1wk6IR1+8/QykmhdAK+j92xKPlTdPhP4AVVMlSyeo/dV22CJai+j9QsnS6j0foP7mVKCWY+ec/f6asmSRY/T9h/otakqnjP9MYXr8qUfA/",
          "dtype": "f8"
         }
        }
       ],
       "layout": {
        "height": 400,
        "margin": {
         "b": 20,
         "l": 50,
         "r": 50,
         "t": 50
        },
        "plot_bgcolor": "#f1f1f1",
        "showlegend": false,
        "template": {
         "data": {
          "bar": [
           {
            "error_x": {
             "color": "#2a3f5f"
            },
            "error_y": {
             "color": "#2a3f5f"
            },
            "marker": {
             "line": {
              "color": "#E5ECF6",
              "width": 0.5
             },
             "pattern": {
              "fillmode": "overlay",
              "size": 10,
              "solidity": 0.2
             }
            },
            "type": "bar"
           }
          ],
          "barpolar": [
           {
            "marker": {
             "line": {
              "color": "#E5ECF6",
              "width": 0.5
             },
             "pattern": {
              "fillmode": "overlay",
              "size": 10,
              "solidity": 0.2
             }
            },
            "type": "barpolar"
           }
          ],
          "carpet": [
           {
            "aaxis": {
             "endlinecolor": "#2a3f5f",
             "gridcolor": "white",
             "linecolor": "white",
             "minorgridcolor": "white",
             "startlinecolor": "#2a3f5f"
            },
            "baxis": {
             "endlinecolor": "#2a3f5f",
             "gridcolor": "white",
             "linecolor": "white",
             "minorgridcolor": "white",
             "startlinecolor": "#2a3f5f"
            },
            "type": "carpet"
           }
          ],
          "choropleth": [
           {
            "colorbar": {
             "outlinewidth": 0,
             "ticks": ""
            },
            "type": "choropleth"
           }
          ],
          "contour": [
           {
            "colorbar": {
             "outlinewidth": 0,
             "ticks": ""
            },
            "colorscale": [
             [
              0,
              "#0d0887"
             ],
             [
              0.1111111111111111,
              "#46039f"
             ],
             [
              0.2222222222222222,
              "#7201a8"
             ],
             [
              0.3333333333333333,
              "#9c179e"
             ],
             [
              0.4444444444444444,
              "#bd3786"
             ],
             [
              0.5555555555555556,
              "#d8576b"
             ],
             [
              0.6666666666666666,
              "#ed7953"
             ],
             [
              0.7777777777777778,
              "#fb9f3a"
             ],
             [
              0.8888888888888888,
              "#fdca26"
             ],
             [
              1,
              "#f0f921"
             ]
            ],
            "type": "contour"
           }
          ],
          "contourcarpet": [
           {
            "colorbar": {
             "outlinewidth": 0,
             "ticks": ""
            },
            "type": "contourcarpet"
           }
          ],
          "heatmap": [
           {
            "colorbar": {
             "outlinewidth": 0,
             "ticks": ""
            },
            "colorscale": [
             [
              0,
              "#0d0887"
             ],
             [
              0.1111111111111111,
              "#46039f"
             ],
             [
              0.2222222222222222,
              "#7201a8"
             ],
             [
              0.3333333333333333,
              "#9c179e"
             ],
             [
              0.4444444444444444,
              "#bd3786"
             ],
             [
              0.5555555555555556,
              "#d8576b"
             ],
             [
              0.6666666666666666,
              "#ed7953"
             ],
             [
              0.7777777777777778,
              "#fb9f3a"
             ],
             [
              0.8888888888888888,
              "#fdca26"
             ],
             [
              1,
              "#f0f921"
             ]
            ],
            "type": "heatmap"
           }
          ],
          "histogram": [
           {
            "marker": {
             "pattern": {
              "fillmode": "overlay",
              "size": 10,
              "solidity": 0.2
             }
            },
            "type": "histogram"
           }
          ],
          "histogram2d": [
           {
            "colorbar": {
             "outlinewidth": 0,
             "ticks": ""
            },
            "colorscale": [
             [
              0,
              "#0d0887"
             ],
             [
              0.1111111111111111,
              "#46039f"
             ],
             [
              0.2222222222222222,
              "#7201a8"
             ],
             [
              0.3333333333333333,
              "#9c179e"
             ],
             [
              0.4444444444444444,
              "#bd3786"
             ],
             [
              0.5555555555555556,
              "#d8576b"
             ],
             [
              0.6666666666666666,
              "#ed7953"
             ],
             [
              0.7777777777777778,
              "#fb9f3a"
             ],
             [
              0.8888888888888888,
              "#fdca26"
             ],
             [
              1,
              "#f0f921"
             ]
            ],
            "type": "histogram2d"
           }
          ],
          "histogram2dcontour": [
           {
            "colorbar": {
             "outlinewidth": 0,
             "ticks": ""
            },
            "colorscale": [
             [
              0,
              "#0d0887"
             ],
             [
              0.1111111111111111,
              "#46039f"
             ],
             [
              0.2222222222222222,
              "#7201a8"
             ],
             [
              0.3333333333333333,
              "#9c179e"
             ],
             [
              0.4444444444444444,
              "#bd3786"
             ],
             [
              0.5555555555555556,
              "#d8576b"
             ],
             [
              0.6666666666666666,
              "#ed7953"
             ],
             [
              0.7777777777777778,
              "#fb9f3a"
             ],
             [
              0.8888888888888888,
              "#fdca26"
             ],
             [
              1,
              "#f0f921"
             ]
            ],
            "type": "histogram2dcontour"
           }
          ],
          "mesh3d": [
           {
            "colorbar": {
             "outlinewidth": 0,
             "ticks": ""
            },
            "type": "mesh3d"
           }
          ],
          "parcoords": [
           {
            "line": {
             "colorbar": {
              "outlinewidth": 0,
              "ticks": ""
             }
            },
            "type": "parcoords"
           }
          ],
          "pie": [
           {
            "automargin": true,
            "type": "pie"
           }
          ],
          "scatter": [
           {
            "fillpattern": {
             "fillmode": "overlay",
             "size": 10,
             "solidity": 0.2
            },
            "type": "scatter"
           }
          ],
          "scatter3d": [
           {
            "line": {
             "colorbar": {
              "outlinewidth": 0,
              "ticks": ""
             }
            },
            "marker": {
             "colorbar": {
              "outlinewidth": 0,
              "ticks": ""
             }
            },
            "type": "scatter3d"
           }
          ],
          "scattercarpet": [
           {
            "marker": {
             "colorbar": {
              "outlinewidth": 0,
              "ticks": ""
             }
            },
            "type": "scattercarpet"
           }
          ],
          "scattergeo": [
           {
            "marker": {
             "colorbar": {
              "outlinewidth": 0,
              "ticks": ""
             }
            },
            "type": "scattergeo"
           }
          ],
          "scattergl": [
           {
            "marker": {
             "colorbar": {
              "outlinewidth": 0,
              "ticks": ""
             }
            },
            "type": "scattergl"
           }
          ],
          "scattermap": [
           {
            "marker": {
             "colorbar": {
              "outlinewidth": 0,
              "ticks": ""
             }
            },
            "type": "scattermap"
           }
          ],
          "scattermapbox": [
           {
            "marker": {
             "colorbar": {
              "outlinewidth": 0,
              "ticks": ""
             }
            },
            "type": "scattermapbox"
           }
          ],
          "scatterpolar": [
           {
            "marker": {
             "colorbar": {
              "outlinewidth": 0,
              "ticks": ""
             }
            },
            "type": "scatterpolar"
           }
          ],
          "scatterpolargl": [
           {
            "marker": {
             "colorbar": {
              "outlinewidth": 0,
              "ticks": ""
             }
            },
            "type": "scatterpolargl"
           }
          ],
          "scatterternary": [
           {
            "marker": {
             "colorbar": {
              "outlinewidth": 0,
              "ticks": ""
             }
            },
            "type": "scatterternary"
           }
          ],
          "surface": [
           {
            "colorbar": {
             "outlinewidth": 0,
             "ticks": ""
            },
            "colorscale": [
             [
              0,
              "#0d0887"
             ],
             [
              0.1111111111111111,
              "#46039f"
             ],
             [
              0.2222222222222222,
              "#7201a8"
             ],
             [
              0.3333333333333333,
              "#9c179e"
             ],
             [
              0.4444444444444444,
              "#bd3786"
             ],
             [
              0.5555555555555556,
              "#d8576b"
             ],
             [
              0.6666666666666666,
              "#ed7953"
             ],
             [
              0.7777777777777778,
              "#fb9f3a"
             ],
             [
              0.8888888888888888,
              "#fdca26"
             ],
             [
              1,
              "#f0f921"
             ]
            ],
            "type": "surface"
           }
          ],
          "table": [
           {
            "cells": {
             "fill": {
              "color": "#EBF0F8"
             },
             "line": {
              "color": "white"
             }
            },
            "header": {
             "fill": {
              "color": "#C8D4E3"
             },
             "line": {
              "color": "white"
             }
            },
            "type": "table"
           }
          ]
         },
         "layout": {
          "annotationdefaults": {
           "arrowcolor": "#2a3f5f",
           "arrowhead": 0,
           "arrowwidth": 1
          },
          "autotypenumbers": "strict",
          "coloraxis": {
           "colorbar": {
            "outlinewidth": 0,
            "ticks": ""
           }
          },
          "colorscale": {
           "diverging": [
            [
             0,
             "#8e0152"
            ],
            [
             0.1,
             "#c51b7d"
            ],
            [
             0.2,
             "#de77ae"
            ],
            [
             0.3,
             "#f1b6da"
            ],
            [
             0.4,
             "#fde0ef"
            ],
            [
             0.5,
             "#f7f7f7"
            ],
            [
             0.6,
             "#e6f5d0"
            ],
            [
             0.7,
             "#b8e186"
            ],
            [
             0.8,
             "#7fbc41"
            ],
            [
             0.9,
             "#4d9221"
            ],
            [
             1,
             "#276419"
            ]
           ],
           "sequential": [
            [
             0,
             "#0d0887"
            ],
            [
             0.1111111111111111,
             "#46039f"
            ],
            [
             0.2222222222222222,
             "#7201a8"
            ],
            [
             0.3333333333333333,
             "#9c179e"
            ],
            [
             0.4444444444444444,
             "#bd3786"
            ],
            [
             0.5555555555555556,
             "#d8576b"
            ],
            [
             0.6666666666666666,
             "#ed7953"
            ],
            [
             0.7777777777777778,
             "#fb9f3a"
            ],
            [
             0.8888888888888888,
             "#fdca26"
            ],
            [
             1,
             "#f0f921"
            ]
           ],
           "sequentialminus": [
            [
             0,
             "#0d0887"
            ],
            [
             0.1111111111111111,
             "#46039f"
            ],
            [
             0.2222222222222222,
             "#7201a8"
            ],
            [
             0.3333333333333333,
             "#9c179e"
            ],
            [
             0.4444444444444444,
             "#bd3786"
            ],
            [
             0.5555555555555556,
             "#d8576b"
            ],
            [
             0.6666666666666666,
             "#ed7953"
            ],
            [
             0.7777777777777778,
             "#fb9f3a"
            ],
            [
             0.8888888888888888,
             "#fdca26"
            ],
            [
             1,
             "#f0f921"
            ]
           ]
          },
          "colorway": [
           "#636efa",
           "#EF553B",
           "#00cc96",
           "#ab63fa",
           "#FFA15A",
           "#19d3f3",
           "#FF6692",
           "#B6E880",
           "#FF97FF",
           "#FECB52"
          ],
          "font": {
           "color": "#2a3f5f"
          },
          "geo": {
           "bgcolor": "white",
           "lakecolor": "white",
           "landcolor": "#E5ECF6",
           "showlakes": true,
           "showland": true,
           "subunitcolor": "white"
          },
          "hoverlabel": {
           "align": "left"
          },
          "hovermode": "closest",
          "mapbox": {
           "style": "light"
          },
          "paper_bgcolor": "white",
          "plot_bgcolor": "#E5ECF6",
          "polar": {
           "angularaxis": {
            "gridcolor": "white",
            "linecolor": "white",
            "ticks": ""
           },
           "bgcolor": "#E5ECF6",
           "radialaxis": {
            "gridcolor": "white",
            "linecolor": "white",
            "ticks": ""
           }
          },
          "scene": {
           "xaxis": {
            "backgroundcolor": "#E5ECF6",
            "gridcolor": "white",
            "gridwidth": 2,
            "linecolor": "white",
            "showbackground": true,
            "ticks": "",
            "zerolinecolor": "white"
           },
           "yaxis": {
            "backgroundcolor": "#E5ECF6",
            "gridcolor": "white",
            "gridwidth": 2,
            "linecolor": "white",
            "showbackground": true,
            "ticks": "",
            "zerolinecolor": "white"
           },
           "zaxis": {
            "backgroundcolor": "#E5ECF6",
            "gridcolor": "white",
            "gridwidth": 2,
            "linecolor": "white",
            "showbackground": true,
            "ticks": "",
            "zerolinecolor": "white"
           }
          },
          "shapedefaults": {
           "line": {
            "color": "#2a3f5f"
           }
          },
          "ternary": {
           "aaxis": {
            "gridcolor": "white",
            "linecolor": "white",
            "ticks": ""
           },
           "baxis": {
            "gridcolor": "white",
            "linecolor": "white",
            "ticks": ""
           },
           "bgcolor": "#E5ECF6",
           "caxis": {
            "gridcolor": "white",
            "linecolor": "white",
            "ticks": ""
           }
          },
          "title": {
           "x": 0.05
          },
          "xaxis": {
           "automargin": true,
           "gridcolor": "white",
           "linecolor": "white",
           "ticks": "",
           "title": {
            "standoff": 15
           },
           "zerolinecolor": "white",
           "zerolinewidth": 2
          },
          "yaxis": {
           "automargin": true,
           "gridcolor": "white",
           "linecolor": "white",
           "ticks": "",
           "title": {
            "standoff": 15
           },
           "zerolinecolor": "white",
           "zerolinewidth": 2
          }
         }
        },
        "title": {
         "text": "Inner CV RMSEs - Outer Fold 5"
        },
        "width": 800,
        "xaxis": {
         "tickangle": -90
        },
        "yaxis": {
         "title": {
          "text": "Validation RMSE"
         }
        }
       }
      }
     },
     "metadata": {},
     "output_type": "display_data"
    },
    {
     "name": "stdout",
     "output_type": "stream",
     "text": [
      "\n",
      "[Outer Fold 5] Test RMSE: 1.1074\n",
      "\n",
      "================ Final Results ================\n",
      "Mean RMSE: 1.7393 ± 0.7800\n",
      "\n",
      "=== Running with seed: 123 ===\n",
      "\n",
      "\n",
      "========== OUTER FOLD 1/5 ==========\n",
      "  Config 1/4 | Inner Mean RMSE: 0.6741\n",
      "  Config 2/4 | Inner Mean RMSE: 0.5669\n",
      "  Config 3/4 | Inner Mean RMSE: 0.6016\n",
      "  Config 4/4 | Inner Mean RMSE: 0.5754\n",
      "\n",
      "✅ Best config for outer fold 1:\n",
      "{'input_size': 13, 'hidden_sizes': [5, 5], 'output_size': 1, 'population_size': 10, 'tournament_size': 3, 'generations': 30, 'mutation_rate': 0.7}\n",
      "Best inner RMSE: 0.5669\n",
      "\n",
      "Statistical test on inner fold scores:\n",
      "Friedman test statistic: 3.8000, p-value: 0.2839\n",
      "No significant differences found between configs.\n"
     ]
    },
    {
     "data": {
      "application/vnd.plotly.v1+json": {
       "config": {
        "plotlyServerURL": "https://plot.ly"
       },
       "data": [
        {
         "boxpoints": "all",
         "fillcolor": "rgba(108, 140, 200, 0.3)",
         "jitter": 0,
         "line": {
          "color": "rgba(108, 140, 200, 1)"
         },
         "marker": {
          "color": "rgba(108, 140, 200, 1)"
         },
         "pointpos": 0,
         "type": "box",
         "x": [
          "Config 1<br>input_size: 13<br>hidden_sizes: [5, 5]<br>output_size: 1<br>population_size: 10<br>tournament_size: 3<br>generations: 30<br>mutation_rate: 0.5",
          "Config 1<br>input_size: 13<br>hidden_sizes: [5, 5]<br>output_size: 1<br>population_size: 10<br>tournament_size: 3<br>generations: 30<br>mutation_rate: 0.5",
          "Config 1<br>input_size: 13<br>hidden_sizes: [5, 5]<br>output_size: 1<br>population_size: 10<br>tournament_size: 3<br>generations: 30<br>mutation_rate: 0.5",
          "Config 2<br>input_size: 13<br>hidden_sizes: [5, 5]<br>output_size: 1<br>population_size: 10<br>tournament_size: 3<br>generations: 30<br>mutation_rate: 0.7",
          "Config 2<br>input_size: 13<br>hidden_sizes: [5, 5]<br>output_size: 1<br>population_size: 10<br>tournament_size: 3<br>generations: 30<br>mutation_rate: 0.7",
          "Config 2<br>input_size: 13<br>hidden_sizes: [5, 5]<br>output_size: 1<br>population_size: 10<br>tournament_size: 3<br>generations: 30<br>mutation_rate: 0.7",
          "Config 3<br>input_size: 13<br>hidden_sizes: [5, 5]<br>output_size: 1<br>population_size: 10<br>tournament_size: 3<br>generations: 50<br>mutation_rate: 0.5",
          "Config 3<br>input_size: 13<br>hidden_sizes: [5, 5]<br>output_size: 1<br>population_size: 10<br>tournament_size: 3<br>generations: 50<br>mutation_rate: 0.5",
          "Config 3<br>input_size: 13<br>hidden_sizes: [5, 5]<br>output_size: 1<br>population_size: 10<br>tournament_size: 3<br>generations: 50<br>mutation_rate: 0.5",
          "Config 4<br>input_size: 13<br>hidden_sizes: [5, 5]<br>output_size: 1<br>population_size: 10<br>tournament_size: 3<br>generations: 50<br>mutation_rate: 0.7",
          "Config 4<br>input_size: 13<br>hidden_sizes: [5, 5]<br>output_size: 1<br>population_size: 10<br>tournament_size: 3<br>generations: 50<br>mutation_rate: 0.7",
          "Config 4<br>input_size: 13<br>hidden_sizes: [5, 5]<br>output_size: 1<br>population_size: 10<br>tournament_size: 3<br>generations: 50<br>mutation_rate: 0.7"
         ],
         "y": {
          "bdata": "GABtrLuQ6D89+vJGZSjmPwl4jwrg/eE/vkvkKp+O5T8BYJnnk1PhP4Tr2JnVFd8/iUNR+R904z+9HAVLp0viP/BpJRMBAeQ/BVk+6J+d4z/QjRuheSvjP4401/O/cuA/",
          "dtype": "f8"
         }
        }
       ],
       "layout": {
        "height": 400,
        "margin": {
         "b": 20,
         "l": 50,
         "r": 50,
         "t": 50
        },
        "plot_bgcolor": "#f1f1f1",
        "showlegend": false,
        "template": {
         "data": {
          "bar": [
           {
            "error_x": {
             "color": "#2a3f5f"
            },
            "error_y": {
             "color": "#2a3f5f"
            },
            "marker": {
             "line": {
              "color": "#E5ECF6",
              "width": 0.5
             },
             "pattern": {
              "fillmode": "overlay",
              "size": 10,
              "solidity": 0.2
             }
            },
            "type": "bar"
           }
          ],
          "barpolar": [
           {
            "marker": {
             "line": {
              "color": "#E5ECF6",
              "width": 0.5
             },
             "pattern": {
              "fillmode": "overlay",
              "size": 10,
              "solidity": 0.2
             }
            },
            "type": "barpolar"
           }
          ],
          "carpet": [
           {
            "aaxis": {
             "endlinecolor": "#2a3f5f",
             "gridcolor": "white",
             "linecolor": "white",
             "minorgridcolor": "white",
             "startlinecolor": "#2a3f5f"
            },
            "baxis": {
             "endlinecolor": "#2a3f5f",
             "gridcolor": "white",
             "linecolor": "white",
             "minorgridcolor": "white",
             "startlinecolor": "#2a3f5f"
            },
            "type": "carpet"
           }
          ],
          "choropleth": [
           {
            "colorbar": {
             "outlinewidth": 0,
             "ticks": ""
            },
            "type": "choropleth"
           }
          ],
          "contour": [
           {
            "colorbar": {
             "outlinewidth": 0,
             "ticks": ""
            },
            "colorscale": [
             [
              0,
              "#0d0887"
             ],
             [
              0.1111111111111111,
              "#46039f"
             ],
             [
              0.2222222222222222,
              "#7201a8"
             ],
             [
              0.3333333333333333,
              "#9c179e"
             ],
             [
              0.4444444444444444,
              "#bd3786"
             ],
             [
              0.5555555555555556,
              "#d8576b"
             ],
             [
              0.6666666666666666,
              "#ed7953"
             ],
             [
              0.7777777777777778,
              "#fb9f3a"
             ],
             [
              0.8888888888888888,
              "#fdca26"
             ],
             [
              1,
              "#f0f921"
             ]
            ],
            "type": "contour"
           }
          ],
          "contourcarpet": [
           {
            "colorbar": {
             "outlinewidth": 0,
             "ticks": ""
            },
            "type": "contourcarpet"
           }
          ],
          "heatmap": [
           {
            "colorbar": {
             "outlinewidth": 0,
             "ticks": ""
            },
            "colorscale": [
             [
              0,
              "#0d0887"
             ],
             [
              0.1111111111111111,
              "#46039f"
             ],
             [
              0.2222222222222222,
              "#7201a8"
             ],
             [
              0.3333333333333333,
              "#9c179e"
             ],
             [
              0.4444444444444444,
              "#bd3786"
             ],
             [
              0.5555555555555556,
              "#d8576b"
             ],
             [
              0.6666666666666666,
              "#ed7953"
             ],
             [
              0.7777777777777778,
              "#fb9f3a"
             ],
             [
              0.8888888888888888,
              "#fdca26"
             ],
             [
              1,
              "#f0f921"
             ]
            ],
            "type": "heatmap"
           }
          ],
          "histogram": [
           {
            "marker": {
             "pattern": {
              "fillmode": "overlay",
              "size": 10,
              "solidity": 0.2
             }
            },
            "type": "histogram"
           }
          ],
          "histogram2d": [
           {
            "colorbar": {
             "outlinewidth": 0,
             "ticks": ""
            },
            "colorscale": [
             [
              0,
              "#0d0887"
             ],
             [
              0.1111111111111111,
              "#46039f"
             ],
             [
              0.2222222222222222,
              "#7201a8"
             ],
             [
              0.3333333333333333,
              "#9c179e"
             ],
             [
              0.4444444444444444,
              "#bd3786"
             ],
             [
              0.5555555555555556,
              "#d8576b"
             ],
             [
              0.6666666666666666,
              "#ed7953"
             ],
             [
              0.7777777777777778,
              "#fb9f3a"
             ],
             [
              0.8888888888888888,
              "#fdca26"
             ],
             [
              1,
              "#f0f921"
             ]
            ],
            "type": "histogram2d"
           }
          ],
          "histogram2dcontour": [
           {
            "colorbar": {
             "outlinewidth": 0,
             "ticks": ""
            },
            "colorscale": [
             [
              0,
              "#0d0887"
             ],
             [
              0.1111111111111111,
              "#46039f"
             ],
             [
              0.2222222222222222,
              "#7201a8"
             ],
             [
              0.3333333333333333,
              "#9c179e"
             ],
             [
              0.4444444444444444,
              "#bd3786"
             ],
             [
              0.5555555555555556,
              "#d8576b"
             ],
             [
              0.6666666666666666,
              "#ed7953"
             ],
             [
              0.7777777777777778,
              "#fb9f3a"
             ],
             [
              0.8888888888888888,
              "#fdca26"
             ],
             [
              1,
              "#f0f921"
             ]
            ],
            "type": "histogram2dcontour"
           }
          ],
          "mesh3d": [
           {
            "colorbar": {
             "outlinewidth": 0,
             "ticks": ""
            },
            "type": "mesh3d"
           }
          ],
          "parcoords": [
           {
            "line": {
             "colorbar": {
              "outlinewidth": 0,
              "ticks": ""
             }
            },
            "type": "parcoords"
           }
          ],
          "pie": [
           {
            "automargin": true,
            "type": "pie"
           }
          ],
          "scatter": [
           {
            "fillpattern": {
             "fillmode": "overlay",
             "size": 10,
             "solidity": 0.2
            },
            "type": "scatter"
           }
          ],
          "scatter3d": [
           {
            "line": {
             "colorbar": {
              "outlinewidth": 0,
              "ticks": ""
             }
            },
            "marker": {
             "colorbar": {
              "outlinewidth": 0,
              "ticks": ""
             }
            },
            "type": "scatter3d"
           }
          ],
          "scattercarpet": [
           {
            "marker": {
             "colorbar": {
              "outlinewidth": 0,
              "ticks": ""
             }
            },
            "type": "scattercarpet"
           }
          ],
          "scattergeo": [
           {
            "marker": {
             "colorbar": {
              "outlinewidth": 0,
              "ticks": ""
             }
            },
            "type": "scattergeo"
           }
          ],
          "scattergl": [
           {
            "marker": {
             "colorbar": {
              "outlinewidth": 0,
              "ticks": ""
             }
            },
            "type": "scattergl"
           }
          ],
          "scattermap": [
           {
            "marker": {
             "colorbar": {
              "outlinewidth": 0,
              "ticks": ""
             }
            },
            "type": "scattermap"
           }
          ],
          "scattermapbox": [
           {
            "marker": {
             "colorbar": {
              "outlinewidth": 0,
              "ticks": ""
             }
            },
            "type": "scattermapbox"
           }
          ],
          "scatterpolar": [
           {
            "marker": {
             "colorbar": {
              "outlinewidth": 0,
              "ticks": ""
             }
            },
            "type": "scatterpolar"
           }
          ],
          "scatterpolargl": [
           {
            "marker": {
             "colorbar": {
              "outlinewidth": 0,
              "ticks": ""
             }
            },
            "type": "scatterpolargl"
           }
          ],
          "scatterternary": [
           {
            "marker": {
             "colorbar": {
              "outlinewidth": 0,
              "ticks": ""
             }
            },
            "type": "scatterternary"
           }
          ],
          "surface": [
           {
            "colorbar": {
             "outlinewidth": 0,
             "ticks": ""
            },
            "colorscale": [
             [
              0,
              "#0d0887"
             ],
             [
              0.1111111111111111,
              "#46039f"
             ],
             [
              0.2222222222222222,
              "#7201a8"
             ],
             [
              0.3333333333333333,
              "#9c179e"
             ],
             [
              0.4444444444444444,
              "#bd3786"
             ],
             [
              0.5555555555555556,
              "#d8576b"
             ],
             [
              0.6666666666666666,
              "#ed7953"
             ],
             [
              0.7777777777777778,
              "#fb9f3a"
             ],
             [
              0.8888888888888888,
              "#fdca26"
             ],
             [
              1,
              "#f0f921"
             ]
            ],
            "type": "surface"
           }
          ],
          "table": [
           {
            "cells": {
             "fill": {
              "color": "#EBF0F8"
             },
             "line": {
              "color": "white"
             }
            },
            "header": {
             "fill": {
              "color": "#C8D4E3"
             },
             "line": {
              "color": "white"
             }
            },
            "type": "table"
           }
          ]
         },
         "layout": {
          "annotationdefaults": {
           "arrowcolor": "#2a3f5f",
           "arrowhead": 0,
           "arrowwidth": 1
          },
          "autotypenumbers": "strict",
          "coloraxis": {
           "colorbar": {
            "outlinewidth": 0,
            "ticks": ""
           }
          },
          "colorscale": {
           "diverging": [
            [
             0,
             "#8e0152"
            ],
            [
             0.1,
             "#c51b7d"
            ],
            [
             0.2,
             "#de77ae"
            ],
            [
             0.3,
             "#f1b6da"
            ],
            [
             0.4,
             "#fde0ef"
            ],
            [
             0.5,
             "#f7f7f7"
            ],
            [
             0.6,
             "#e6f5d0"
            ],
            [
             0.7,
             "#b8e186"
            ],
            [
             0.8,
             "#7fbc41"
            ],
            [
             0.9,
             "#4d9221"
            ],
            [
             1,
             "#276419"
            ]
           ],
           "sequential": [
            [
             0,
             "#0d0887"
            ],
            [
             0.1111111111111111,
             "#46039f"
            ],
            [
             0.2222222222222222,
             "#7201a8"
            ],
            [
             0.3333333333333333,
             "#9c179e"
            ],
            [
             0.4444444444444444,
             "#bd3786"
            ],
            [
             0.5555555555555556,
             "#d8576b"
            ],
            [
             0.6666666666666666,
             "#ed7953"
            ],
            [
             0.7777777777777778,
             "#fb9f3a"
            ],
            [
             0.8888888888888888,
             "#fdca26"
            ],
            [
             1,
             "#f0f921"
            ]
           ],
           "sequentialminus": [
            [
             0,
             "#0d0887"
            ],
            [
             0.1111111111111111,
             "#46039f"
            ],
            [
             0.2222222222222222,
             "#7201a8"
            ],
            [
             0.3333333333333333,
             "#9c179e"
            ],
            [
             0.4444444444444444,
             "#bd3786"
            ],
            [
             0.5555555555555556,
             "#d8576b"
            ],
            [
             0.6666666666666666,
             "#ed7953"
            ],
            [
             0.7777777777777778,
             "#fb9f3a"
            ],
            [
             0.8888888888888888,
             "#fdca26"
            ],
            [
             1,
             "#f0f921"
            ]
           ]
          },
          "colorway": [
           "#636efa",
           "#EF553B",
           "#00cc96",
           "#ab63fa",
           "#FFA15A",
           "#19d3f3",
           "#FF6692",
           "#B6E880",
           "#FF97FF",
           "#FECB52"
          ],
          "font": {
           "color": "#2a3f5f"
          },
          "geo": {
           "bgcolor": "white",
           "lakecolor": "white",
           "landcolor": "#E5ECF6",
           "showlakes": true,
           "showland": true,
           "subunitcolor": "white"
          },
          "hoverlabel": {
           "align": "left"
          },
          "hovermode": "closest",
          "mapbox": {
           "style": "light"
          },
          "paper_bgcolor": "white",
          "plot_bgcolor": "#E5ECF6",
          "polar": {
           "angularaxis": {
            "gridcolor": "white",
            "linecolor": "white",
            "ticks": ""
           },
           "bgcolor": "#E5ECF6",
           "radialaxis": {
            "gridcolor": "white",
            "linecolor": "white",
            "ticks": ""
           }
          },
          "scene": {
           "xaxis": {
            "backgroundcolor": "#E5ECF6",
            "gridcolor": "white",
            "gridwidth": 2,
            "linecolor": "white",
            "showbackground": true,
            "ticks": "",
            "zerolinecolor": "white"
           },
           "yaxis": {
            "backgroundcolor": "#E5ECF6",
            "gridcolor": "white",
            "gridwidth": 2,
            "linecolor": "white",
            "showbackground": true,
            "ticks": "",
            "zerolinecolor": "white"
           },
           "zaxis": {
            "backgroundcolor": "#E5ECF6",
            "gridcolor": "white",
            "gridwidth": 2,
            "linecolor": "white",
            "showbackground": true,
            "ticks": "",
            "zerolinecolor": "white"
           }
          },
          "shapedefaults": {
           "line": {
            "color": "#2a3f5f"
           }
          },
          "ternary": {
           "aaxis": {
            "gridcolor": "white",
            "linecolor": "white",
            "ticks": ""
           },
           "baxis": {
            "gridcolor": "white",
            "linecolor": "white",
            "ticks": ""
           },
           "bgcolor": "#E5ECF6",
           "caxis": {
            "gridcolor": "white",
            "linecolor": "white",
            "ticks": ""
           }
          },
          "title": {
           "x": 0.05
          },
          "xaxis": {
           "automargin": true,
           "gridcolor": "white",
           "linecolor": "white",
           "ticks": "",
           "title": {
            "standoff": 15
           },
           "zerolinecolor": "white",
           "zerolinewidth": 2
          },
          "yaxis": {
           "automargin": true,
           "gridcolor": "white",
           "linecolor": "white",
           "ticks": "",
           "title": {
            "standoff": 15
           },
           "zerolinecolor": "white",
           "zerolinewidth": 2
          }
         }
        },
        "title": {
         "text": "Inner CV RMSEs - Outer Fold 1"
        },
        "width": 800,
        "xaxis": {
         "tickangle": -90
        },
        "yaxis": {
         "title": {
          "text": "Validation RMSE"
         }
        }
       }
      }
     },
     "metadata": {},
     "output_type": "display_data"
    },
    {
     "name": "stdout",
     "output_type": "stream",
     "text": [
      "\n",
      "[Outer Fold 1] Test RMSE: 3.0734\n",
      "\n",
      "========== OUTER FOLD 2/5 ==========\n",
      "  Config 1/4 | Inner Mean RMSE: 1.1069\n",
      "  Config 2/4 | Inner Mean RMSE: 1.0102\n",
      "  Config 3/4 | Inner Mean RMSE: 1.0532\n",
      "  Config 4/4 | Inner Mean RMSE: 1.0114\n",
      "\n",
      "✅ Best config for outer fold 2:\n",
      "{'input_size': 13, 'hidden_sizes': [5, 5], 'output_size': 1, 'population_size': 10, 'tournament_size': 3, 'generations': 30, 'mutation_rate': 0.7}\n",
      "Best inner RMSE: 1.0102\n",
      "\n",
      "Statistical test on inner fold scores:\n",
      "Friedman test statistic: 2.2000, p-value: 0.5319\n",
      "No significant differences found between configs.\n"
     ]
    },
    {
     "data": {
      "application/vnd.plotly.v1+json": {
       "config": {
        "plotlyServerURL": "https://plot.ly"
       },
       "data": [
        {
         "boxpoints": "all",
         "fillcolor": "rgba(108, 140, 200, 0.3)",
         "jitter": 0,
         "line": {
          "color": "rgba(108, 140, 200, 1)"
         },
         "marker": {
          "color": "rgba(108, 140, 200, 1)"
         },
         "pointpos": 0,
         "type": "box",
         "x": [
          "Config 1<br>input_size: 13<br>hidden_sizes: [5, 5]<br>output_size: 1<br>population_size: 10<br>tournament_size: 3<br>generations: 30<br>mutation_rate: 0.5",
          "Config 1<br>input_size: 13<br>hidden_sizes: [5, 5]<br>output_size: 1<br>population_size: 10<br>tournament_size: 3<br>generations: 30<br>mutation_rate: 0.5",
          "Config 1<br>input_size: 13<br>hidden_sizes: [5, 5]<br>output_size: 1<br>population_size: 10<br>tournament_size: 3<br>generations: 30<br>mutation_rate: 0.5",
          "Config 2<br>input_size: 13<br>hidden_sizes: [5, 5]<br>output_size: 1<br>population_size: 10<br>tournament_size: 3<br>generations: 30<br>mutation_rate: 0.7",
          "Config 2<br>input_size: 13<br>hidden_sizes: [5, 5]<br>output_size: 1<br>population_size: 10<br>tournament_size: 3<br>generations: 30<br>mutation_rate: 0.7",
          "Config 2<br>input_size: 13<br>hidden_sizes: [5, 5]<br>output_size: 1<br>population_size: 10<br>tournament_size: 3<br>generations: 30<br>mutation_rate: 0.7",
          "Config 3<br>input_size: 13<br>hidden_sizes: [5, 5]<br>output_size: 1<br>population_size: 10<br>tournament_size: 3<br>generations: 50<br>mutation_rate: 0.5",
          "Config 3<br>input_size: 13<br>hidden_sizes: [5, 5]<br>output_size: 1<br>population_size: 10<br>tournament_size: 3<br>generations: 50<br>mutation_rate: 0.5",
          "Config 3<br>input_size: 13<br>hidden_sizes: [5, 5]<br>output_size: 1<br>population_size: 10<br>tournament_size: 3<br>generations: 50<br>mutation_rate: 0.5",
          "Config 4<br>input_size: 13<br>hidden_sizes: [5, 5]<br>output_size: 1<br>population_size: 10<br>tournament_size: 3<br>generations: 50<br>mutation_rate: 0.7",
          "Config 4<br>input_size: 13<br>hidden_sizes: [5, 5]<br>output_size: 1<br>population_size: 10<br>tournament_size: 3<br>generations: 50<br>mutation_rate: 0.7",
          "Config 4<br>input_size: 13<br>hidden_sizes: [5, 5]<br>output_size: 1<br>population_size: 10<br>tournament_size: 3<br>generations: 50<br>mutation_rate: 0.7"
         ],
         "y": {
          "bdata": "M39fv6yY8z8ndkftJz73P+pcg/XgleQ/zuliSRi88j/ZQLl620n2P4QWefF0290/ZZ9q3Wpg8D9clbw6k/T4P5qZh1GAcuI/d5a63ygv8D8KBsO8n0H0P8JbGPuTN+g/",
          "dtype": "f8"
         }
        }
       ],
       "layout": {
        "height": 400,
        "margin": {
         "b": 20,
         "l": 50,
         "r": 50,
         "t": 50
        },
        "plot_bgcolor": "#f1f1f1",
        "showlegend": false,
        "template": {
         "data": {
          "bar": [
           {
            "error_x": {
             "color": "#2a3f5f"
            },
            "error_y": {
             "color": "#2a3f5f"
            },
            "marker": {
             "line": {
              "color": "#E5ECF6",
              "width": 0.5
             },
             "pattern": {
              "fillmode": "overlay",
              "size": 10,
              "solidity": 0.2
             }
            },
            "type": "bar"
           }
          ],
          "barpolar": [
           {
            "marker": {
             "line": {
              "color": "#E5ECF6",
              "width": 0.5
             },
             "pattern": {
              "fillmode": "overlay",
              "size": 10,
              "solidity": 0.2
             }
            },
            "type": "barpolar"
           }
          ],
          "carpet": [
           {
            "aaxis": {
             "endlinecolor": "#2a3f5f",
             "gridcolor": "white",
             "linecolor": "white",
             "minorgridcolor": "white",
             "startlinecolor": "#2a3f5f"
            },
            "baxis": {
             "endlinecolor": "#2a3f5f",
             "gridcolor": "white",
             "linecolor": "white",
             "minorgridcolor": "white",
             "startlinecolor": "#2a3f5f"
            },
            "type": "carpet"
           }
          ],
          "choropleth": [
           {
            "colorbar": {
             "outlinewidth": 0,
             "ticks": ""
            },
            "type": "choropleth"
           }
          ],
          "contour": [
           {
            "colorbar": {
             "outlinewidth": 0,
             "ticks": ""
            },
            "colorscale": [
             [
              0,
              "#0d0887"
             ],
             [
              0.1111111111111111,
              "#46039f"
             ],
             [
              0.2222222222222222,
              "#7201a8"
             ],
             [
              0.3333333333333333,
              "#9c179e"
             ],
             [
              0.4444444444444444,
              "#bd3786"
             ],
             [
              0.5555555555555556,
              "#d8576b"
             ],
             [
              0.6666666666666666,
              "#ed7953"
             ],
             [
              0.7777777777777778,
              "#fb9f3a"
             ],
             [
              0.8888888888888888,
              "#fdca26"
             ],
             [
              1,
              "#f0f921"
             ]
            ],
            "type": "contour"
           }
          ],
          "contourcarpet": [
           {
            "colorbar": {
             "outlinewidth": 0,
             "ticks": ""
            },
            "type": "contourcarpet"
           }
          ],
          "heatmap": [
           {
            "colorbar": {
             "outlinewidth": 0,
             "ticks": ""
            },
            "colorscale": [
             [
              0,
              "#0d0887"
             ],
             [
              0.1111111111111111,
              "#46039f"
             ],
             [
              0.2222222222222222,
              "#7201a8"
             ],
             [
              0.3333333333333333,
              "#9c179e"
             ],
             [
              0.4444444444444444,
              "#bd3786"
             ],
             [
              0.5555555555555556,
              "#d8576b"
             ],
             [
              0.6666666666666666,
              "#ed7953"
             ],
             [
              0.7777777777777778,
              "#fb9f3a"
             ],
             [
              0.8888888888888888,
              "#fdca26"
             ],
             [
              1,
              "#f0f921"
             ]
            ],
            "type": "heatmap"
           }
          ],
          "histogram": [
           {
            "marker": {
             "pattern": {
              "fillmode": "overlay",
              "size": 10,
              "solidity": 0.2
             }
            },
            "type": "histogram"
           }
          ],
          "histogram2d": [
           {
            "colorbar": {
             "outlinewidth": 0,
             "ticks": ""
            },
            "colorscale": [
             [
              0,
              "#0d0887"
             ],
             [
              0.1111111111111111,
              "#46039f"
             ],
             [
              0.2222222222222222,
              "#7201a8"
             ],
             [
              0.3333333333333333,
              "#9c179e"
             ],
             [
              0.4444444444444444,
              "#bd3786"
             ],
             [
              0.5555555555555556,
              "#d8576b"
             ],
             [
              0.6666666666666666,
              "#ed7953"
             ],
             [
              0.7777777777777778,
              "#fb9f3a"
             ],
             [
              0.8888888888888888,
              "#fdca26"
             ],
             [
              1,
              "#f0f921"
             ]
            ],
            "type": "histogram2d"
           }
          ],
          "histogram2dcontour": [
           {
            "colorbar": {
             "outlinewidth": 0,
             "ticks": ""
            },
            "colorscale": [
             [
              0,
              "#0d0887"
             ],
             [
              0.1111111111111111,
              "#46039f"
             ],
             [
              0.2222222222222222,
              "#7201a8"
             ],
             [
              0.3333333333333333,
              "#9c179e"
             ],
             [
              0.4444444444444444,
              "#bd3786"
             ],
             [
              0.5555555555555556,
              "#d8576b"
             ],
             [
              0.6666666666666666,
              "#ed7953"
             ],
             [
              0.7777777777777778,
              "#fb9f3a"
             ],
             [
              0.8888888888888888,
              "#fdca26"
             ],
             [
              1,
              "#f0f921"
             ]
            ],
            "type": "histogram2dcontour"
           }
          ],
          "mesh3d": [
           {
            "colorbar": {
             "outlinewidth": 0,
             "ticks": ""
            },
            "type": "mesh3d"
           }
          ],
          "parcoords": [
           {
            "line": {
             "colorbar": {
              "outlinewidth": 0,
              "ticks": ""
             }
            },
            "type": "parcoords"
           }
          ],
          "pie": [
           {
            "automargin": true,
            "type": "pie"
           }
          ],
          "scatter": [
           {
            "fillpattern": {
             "fillmode": "overlay",
             "size": 10,
             "solidity": 0.2
            },
            "type": "scatter"
           }
          ],
          "scatter3d": [
           {
            "line": {
             "colorbar": {
              "outlinewidth": 0,
              "ticks": ""
             }
            },
            "marker": {
             "colorbar": {
              "outlinewidth": 0,
              "ticks": ""
             }
            },
            "type": "scatter3d"
           }
          ],
          "scattercarpet": [
           {
            "marker": {
             "colorbar": {
              "outlinewidth": 0,
              "ticks": ""
             }
            },
            "type": "scattercarpet"
           }
          ],
          "scattergeo": [
           {
            "marker": {
             "colorbar": {
              "outlinewidth": 0,
              "ticks": ""
             }
            },
            "type": "scattergeo"
           }
          ],
          "scattergl": [
           {
            "marker": {
             "colorbar": {
              "outlinewidth": 0,
              "ticks": ""
             }
            },
            "type": "scattergl"
           }
          ],
          "scattermap": [
           {
            "marker": {
             "colorbar": {
              "outlinewidth": 0,
              "ticks": ""
             }
            },
            "type": "scattermap"
           }
          ],
          "scattermapbox": [
           {
            "marker": {
             "colorbar": {
              "outlinewidth": 0,
              "ticks": ""
             }
            },
            "type": "scattermapbox"
           }
          ],
          "scatterpolar": [
           {
            "marker": {
             "colorbar": {
              "outlinewidth": 0,
              "ticks": ""
             }
            },
            "type": "scatterpolar"
           }
          ],
          "scatterpolargl": [
           {
            "marker": {
             "colorbar": {
              "outlinewidth": 0,
              "ticks": ""
             }
            },
            "type": "scatterpolargl"
           }
          ],
          "scatterternary": [
           {
            "marker": {
             "colorbar": {
              "outlinewidth": 0,
              "ticks": ""
             }
            },
            "type": "scatterternary"
           }
          ],
          "surface": [
           {
            "colorbar": {
             "outlinewidth": 0,
             "ticks": ""
            },
            "colorscale": [
             [
              0,
              "#0d0887"
             ],
             [
              0.1111111111111111,
              "#46039f"
             ],
             [
              0.2222222222222222,
              "#7201a8"
             ],
             [
              0.3333333333333333,
              "#9c179e"
             ],
             [
              0.4444444444444444,
              "#bd3786"
             ],
             [
              0.5555555555555556,
              "#d8576b"
             ],
             [
              0.6666666666666666,
              "#ed7953"
             ],
             [
              0.7777777777777778,
              "#fb9f3a"
             ],
             [
              0.8888888888888888,
              "#fdca26"
             ],
             [
              1,
              "#f0f921"
             ]
            ],
            "type": "surface"
           }
          ],
          "table": [
           {
            "cells": {
             "fill": {
              "color": "#EBF0F8"
             },
             "line": {
              "color": "white"
             }
            },
            "header": {
             "fill": {
              "color": "#C8D4E3"
             },
             "line": {
              "color": "white"
             }
            },
            "type": "table"
           }
          ]
         },
         "layout": {
          "annotationdefaults": {
           "arrowcolor": "#2a3f5f",
           "arrowhead": 0,
           "arrowwidth": 1
          },
          "autotypenumbers": "strict",
          "coloraxis": {
           "colorbar": {
            "outlinewidth": 0,
            "ticks": ""
           }
          },
          "colorscale": {
           "diverging": [
            [
             0,
             "#8e0152"
            ],
            [
             0.1,
             "#c51b7d"
            ],
            [
             0.2,
             "#de77ae"
            ],
            [
             0.3,
             "#f1b6da"
            ],
            [
             0.4,
             "#fde0ef"
            ],
            [
             0.5,
             "#f7f7f7"
            ],
            [
             0.6,
             "#e6f5d0"
            ],
            [
             0.7,
             "#b8e186"
            ],
            [
             0.8,
             "#7fbc41"
            ],
            [
             0.9,
             "#4d9221"
            ],
            [
             1,
             "#276419"
            ]
           ],
           "sequential": [
            [
             0,
             "#0d0887"
            ],
            [
             0.1111111111111111,
             "#46039f"
            ],
            [
             0.2222222222222222,
             "#7201a8"
            ],
            [
             0.3333333333333333,
             "#9c179e"
            ],
            [
             0.4444444444444444,
             "#bd3786"
            ],
            [
             0.5555555555555556,
             "#d8576b"
            ],
            [
             0.6666666666666666,
             "#ed7953"
            ],
            [
             0.7777777777777778,
             "#fb9f3a"
            ],
            [
             0.8888888888888888,
             "#fdca26"
            ],
            [
             1,
             "#f0f921"
            ]
           ],
           "sequentialminus": [
            [
             0,
             "#0d0887"
            ],
            [
             0.1111111111111111,
             "#46039f"
            ],
            [
             0.2222222222222222,
             "#7201a8"
            ],
            [
             0.3333333333333333,
             "#9c179e"
            ],
            [
             0.4444444444444444,
             "#bd3786"
            ],
            [
             0.5555555555555556,
             "#d8576b"
            ],
            [
             0.6666666666666666,
             "#ed7953"
            ],
            [
             0.7777777777777778,
             "#fb9f3a"
            ],
            [
             0.8888888888888888,
             "#fdca26"
            ],
            [
             1,
             "#f0f921"
            ]
           ]
          },
          "colorway": [
           "#636efa",
           "#EF553B",
           "#00cc96",
           "#ab63fa",
           "#FFA15A",
           "#19d3f3",
           "#FF6692",
           "#B6E880",
           "#FF97FF",
           "#FECB52"
          ],
          "font": {
           "color": "#2a3f5f"
          },
          "geo": {
           "bgcolor": "white",
           "lakecolor": "white",
           "landcolor": "#E5ECF6",
           "showlakes": true,
           "showland": true,
           "subunitcolor": "white"
          },
          "hoverlabel": {
           "align": "left"
          },
          "hovermode": "closest",
          "mapbox": {
           "style": "light"
          },
          "paper_bgcolor": "white",
          "plot_bgcolor": "#E5ECF6",
          "polar": {
           "angularaxis": {
            "gridcolor": "white",
            "linecolor": "white",
            "ticks": ""
           },
           "bgcolor": "#E5ECF6",
           "radialaxis": {
            "gridcolor": "white",
            "linecolor": "white",
            "ticks": ""
           }
          },
          "scene": {
           "xaxis": {
            "backgroundcolor": "#E5ECF6",
            "gridcolor": "white",
            "gridwidth": 2,
            "linecolor": "white",
            "showbackground": true,
            "ticks": "",
            "zerolinecolor": "white"
           },
           "yaxis": {
            "backgroundcolor": "#E5ECF6",
            "gridcolor": "white",
            "gridwidth": 2,
            "linecolor": "white",
            "showbackground": true,
            "ticks": "",
            "zerolinecolor": "white"
           },
           "zaxis": {
            "backgroundcolor": "#E5ECF6",
            "gridcolor": "white",
            "gridwidth": 2,
            "linecolor": "white",
            "showbackground": true,
            "ticks": "",
            "zerolinecolor": "white"
           }
          },
          "shapedefaults": {
           "line": {
            "color": "#2a3f5f"
           }
          },
          "ternary": {
           "aaxis": {
            "gridcolor": "white",
            "linecolor": "white",
            "ticks": ""
           },
           "baxis": {
            "gridcolor": "white",
            "linecolor": "white",
            "ticks": ""
           },
           "bgcolor": "#E5ECF6",
           "caxis": {
            "gridcolor": "white",
            "linecolor": "white",
            "ticks": ""
           }
          },
          "title": {
           "x": 0.05
          },
          "xaxis": {
           "automargin": true,
           "gridcolor": "white",
           "linecolor": "white",
           "ticks": "",
           "title": {
            "standoff": 15
           },
           "zerolinecolor": "white",
           "zerolinewidth": 2
          },
          "yaxis": {
           "automargin": true,
           "gridcolor": "white",
           "linecolor": "white",
           "ticks": "",
           "title": {
            "standoff": 15
           },
           "zerolinecolor": "white",
           "zerolinewidth": 2
          }
         }
        },
        "title": {
         "text": "Inner CV RMSEs - Outer Fold 2"
        },
        "width": 800,
        "xaxis": {
         "tickangle": -90
        },
        "yaxis": {
         "title": {
          "text": "Validation RMSE"
         }
        }
       }
      }
     },
     "metadata": {},
     "output_type": "display_data"
    },
    {
     "name": "stdout",
     "output_type": "stream",
     "text": [
      "\n",
      "[Outer Fold 2] Test RMSE: 1.3079\n",
      "\n",
      "========== OUTER FOLD 3/5 ==========\n",
      "  Config 1/4 | Inner Mean RMSE: 1.1057\n",
      "  Config 2/4 | Inner Mean RMSE: 0.9897\n",
      "  Config 3/4 | Inner Mean RMSE: 1.0062\n",
      "  Config 4/4 | Inner Mean RMSE: 1.2695\n",
      "\n",
      "✅ Best config for outer fold 3:\n",
      "{'input_size': 13, 'hidden_sizes': [5, 5], 'output_size': 1, 'population_size': 10, 'tournament_size': 3, 'generations': 30, 'mutation_rate': 0.7}\n",
      "Best inner RMSE: 0.9897\n",
      "\n",
      "Statistical test on inner fold scores:\n",
      "Friedman test statistic: 4.2000, p-value: 0.2407\n",
      "No significant differences found between configs.\n"
     ]
    },
    {
     "data": {
      "application/vnd.plotly.v1+json": {
       "config": {
        "plotlyServerURL": "https://plot.ly"
       },
       "data": [
        {
         "boxpoints": "all",
         "fillcolor": "rgba(108, 140, 200, 0.3)",
         "jitter": 0,
         "line": {
          "color": "rgba(108, 140, 200, 1)"
         },
         "marker": {
          "color": "rgba(108, 140, 200, 1)"
         },
         "pointpos": 0,
         "type": "box",
         "x": [
          "Config 1<br>input_size: 13<br>hidden_sizes: [5, 5]<br>output_size: 1<br>population_size: 10<br>tournament_size: 3<br>generations: 30<br>mutation_rate: 0.5",
          "Config 1<br>input_size: 13<br>hidden_sizes: [5, 5]<br>output_size: 1<br>population_size: 10<br>tournament_size: 3<br>generations: 30<br>mutation_rate: 0.5",
          "Config 1<br>input_size: 13<br>hidden_sizes: [5, 5]<br>output_size: 1<br>population_size: 10<br>tournament_size: 3<br>generations: 30<br>mutation_rate: 0.5",
          "Config 2<br>input_size: 13<br>hidden_sizes: [5, 5]<br>output_size: 1<br>population_size: 10<br>tournament_size: 3<br>generations: 30<br>mutation_rate: 0.7",
          "Config 2<br>input_size: 13<br>hidden_sizes: [5, 5]<br>output_size: 1<br>population_size: 10<br>tournament_size: 3<br>generations: 30<br>mutation_rate: 0.7",
          "Config 2<br>input_size: 13<br>hidden_sizes: [5, 5]<br>output_size: 1<br>population_size: 10<br>tournament_size: 3<br>generations: 30<br>mutation_rate: 0.7",
          "Config 3<br>input_size: 13<br>hidden_sizes: [5, 5]<br>output_size: 1<br>population_size: 10<br>tournament_size: 3<br>generations: 50<br>mutation_rate: 0.5",
          "Config 3<br>input_size: 13<br>hidden_sizes: [5, 5]<br>output_size: 1<br>population_size: 10<br>tournament_size: 3<br>generations: 50<br>mutation_rate: 0.5",
          "Config 3<br>input_size: 13<br>hidden_sizes: [5, 5]<br>output_size: 1<br>population_size: 10<br>tournament_size: 3<br>generations: 50<br>mutation_rate: 0.5",
          "Config 4<br>input_size: 13<br>hidden_sizes: [5, 5]<br>output_size: 1<br>population_size: 10<br>tournament_size: 3<br>generations: 50<br>mutation_rate: 0.7",
          "Config 4<br>input_size: 13<br>hidden_sizes: [5, 5]<br>output_size: 1<br>population_size: 10<br>tournament_size: 3<br>generations: 50<br>mutation_rate: 0.7",
          "Config 4<br>input_size: 13<br>hidden_sizes: [5, 5]<br>output_size: 1<br>population_size: 10<br>tournament_size: 3<br>generations: 50<br>mutation_rate: 0.7"
         ],
         "y": {
          "bdata": "zzkB71PC+T+Vx3rXb5XxPzdllH0wdeM/JZBFKLE0+D9dnj7gI4rrP95sxvujD+M/89aPSooH+j9Dq1umMk3pP8txC0EhO+M/F446qlZd+D+jp3OORrLwP1Bpz6Xv3/M/",
          "dtype": "f8"
         }
        }
       ],
       "layout": {
        "height": 400,
        "margin": {
         "b": 20,
         "l": 50,
         "r": 50,
         "t": 50
        },
        "plot_bgcolor": "#f1f1f1",
        "showlegend": false,
        "template": {
         "data": {
          "bar": [
           {
            "error_x": {
             "color": "#2a3f5f"
            },
            "error_y": {
             "color": "#2a3f5f"
            },
            "marker": {
             "line": {
              "color": "#E5ECF6",
              "width": 0.5
             },
             "pattern": {
              "fillmode": "overlay",
              "size": 10,
              "solidity": 0.2
             }
            },
            "type": "bar"
           }
          ],
          "barpolar": [
           {
            "marker": {
             "line": {
              "color": "#E5ECF6",
              "width": 0.5
             },
             "pattern": {
              "fillmode": "overlay",
              "size": 10,
              "solidity": 0.2
             }
            },
            "type": "barpolar"
           }
          ],
          "carpet": [
           {
            "aaxis": {
             "endlinecolor": "#2a3f5f",
             "gridcolor": "white",
             "linecolor": "white",
             "minorgridcolor": "white",
             "startlinecolor": "#2a3f5f"
            },
            "baxis": {
             "endlinecolor": "#2a3f5f",
             "gridcolor": "white",
             "linecolor": "white",
             "minorgridcolor": "white",
             "startlinecolor": "#2a3f5f"
            },
            "type": "carpet"
           }
          ],
          "choropleth": [
           {
            "colorbar": {
             "outlinewidth": 0,
             "ticks": ""
            },
            "type": "choropleth"
           }
          ],
          "contour": [
           {
            "colorbar": {
             "outlinewidth": 0,
             "ticks": ""
            },
            "colorscale": [
             [
              0,
              "#0d0887"
             ],
             [
              0.1111111111111111,
              "#46039f"
             ],
             [
              0.2222222222222222,
              "#7201a8"
             ],
             [
              0.3333333333333333,
              "#9c179e"
             ],
             [
              0.4444444444444444,
              "#bd3786"
             ],
             [
              0.5555555555555556,
              "#d8576b"
             ],
             [
              0.6666666666666666,
              "#ed7953"
             ],
             [
              0.7777777777777778,
              "#fb9f3a"
             ],
             [
              0.8888888888888888,
              "#fdca26"
             ],
             [
              1,
              "#f0f921"
             ]
            ],
            "type": "contour"
           }
          ],
          "contourcarpet": [
           {
            "colorbar": {
             "outlinewidth": 0,
             "ticks": ""
            },
            "type": "contourcarpet"
           }
          ],
          "heatmap": [
           {
            "colorbar": {
             "outlinewidth": 0,
             "ticks": ""
            },
            "colorscale": [
             [
              0,
              "#0d0887"
             ],
             [
              0.1111111111111111,
              "#46039f"
             ],
             [
              0.2222222222222222,
              "#7201a8"
             ],
             [
              0.3333333333333333,
              "#9c179e"
             ],
             [
              0.4444444444444444,
              "#bd3786"
             ],
             [
              0.5555555555555556,
              "#d8576b"
             ],
             [
              0.6666666666666666,
              "#ed7953"
             ],
             [
              0.7777777777777778,
              "#fb9f3a"
             ],
             [
              0.8888888888888888,
              "#fdca26"
             ],
             [
              1,
              "#f0f921"
             ]
            ],
            "type": "heatmap"
           }
          ],
          "histogram": [
           {
            "marker": {
             "pattern": {
              "fillmode": "overlay",
              "size": 10,
              "solidity": 0.2
             }
            },
            "type": "histogram"
           }
          ],
          "histogram2d": [
           {
            "colorbar": {
             "outlinewidth": 0,
             "ticks": ""
            },
            "colorscale": [
             [
              0,
              "#0d0887"
             ],
             [
              0.1111111111111111,
              "#46039f"
             ],
             [
              0.2222222222222222,
              "#7201a8"
             ],
             [
              0.3333333333333333,
              "#9c179e"
             ],
             [
              0.4444444444444444,
              "#bd3786"
             ],
             [
              0.5555555555555556,
              "#d8576b"
             ],
             [
              0.6666666666666666,
              "#ed7953"
             ],
             [
              0.7777777777777778,
              "#fb9f3a"
             ],
             [
              0.8888888888888888,
              "#fdca26"
             ],
             [
              1,
              "#f0f921"
             ]
            ],
            "type": "histogram2d"
           }
          ],
          "histogram2dcontour": [
           {
            "colorbar": {
             "outlinewidth": 0,
             "ticks": ""
            },
            "colorscale": [
             [
              0,
              "#0d0887"
             ],
             [
              0.1111111111111111,
              "#46039f"
             ],
             [
              0.2222222222222222,
              "#7201a8"
             ],
             [
              0.3333333333333333,
              "#9c179e"
             ],
             [
              0.4444444444444444,
              "#bd3786"
             ],
             [
              0.5555555555555556,
              "#d8576b"
             ],
             [
              0.6666666666666666,
              "#ed7953"
             ],
             [
              0.7777777777777778,
              "#fb9f3a"
             ],
             [
              0.8888888888888888,
              "#fdca26"
             ],
             [
              1,
              "#f0f921"
             ]
            ],
            "type": "histogram2dcontour"
           }
          ],
          "mesh3d": [
           {
            "colorbar": {
             "outlinewidth": 0,
             "ticks": ""
            },
            "type": "mesh3d"
           }
          ],
          "parcoords": [
           {
            "line": {
             "colorbar": {
              "outlinewidth": 0,
              "ticks": ""
             }
            },
            "type": "parcoords"
           }
          ],
          "pie": [
           {
            "automargin": true,
            "type": "pie"
           }
          ],
          "scatter": [
           {
            "fillpattern": {
             "fillmode": "overlay",
             "size": 10,
             "solidity": 0.2
            },
            "type": "scatter"
           }
          ],
          "scatter3d": [
           {
            "line": {
             "colorbar": {
              "outlinewidth": 0,
              "ticks": ""
             }
            },
            "marker": {
             "colorbar": {
              "outlinewidth": 0,
              "ticks": ""
             }
            },
            "type": "scatter3d"
           }
          ],
          "scattercarpet": [
           {
            "marker": {
             "colorbar": {
              "outlinewidth": 0,
              "ticks": ""
             }
            },
            "type": "scattercarpet"
           }
          ],
          "scattergeo": [
           {
            "marker": {
             "colorbar": {
              "outlinewidth": 0,
              "ticks": ""
             }
            },
            "type": "scattergeo"
           }
          ],
          "scattergl": [
           {
            "marker": {
             "colorbar": {
              "outlinewidth": 0,
              "ticks": ""
             }
            },
            "type": "scattergl"
           }
          ],
          "scattermap": [
           {
            "marker": {
             "colorbar": {
              "outlinewidth": 0,
              "ticks": ""
             }
            },
            "type": "scattermap"
           }
          ],
          "scattermapbox": [
           {
            "marker": {
             "colorbar": {
              "outlinewidth": 0,
              "ticks": ""
             }
            },
            "type": "scattermapbox"
           }
          ],
          "scatterpolar": [
           {
            "marker": {
             "colorbar": {
              "outlinewidth": 0,
              "ticks": ""
             }
            },
            "type": "scatterpolar"
           }
          ],
          "scatterpolargl": [
           {
            "marker": {
             "colorbar": {
              "outlinewidth": 0,
              "ticks": ""
             }
            },
            "type": "scatterpolargl"
           }
          ],
          "scatterternary": [
           {
            "marker": {
             "colorbar": {
              "outlinewidth": 0,
              "ticks": ""
             }
            },
            "type": "scatterternary"
           }
          ],
          "surface": [
           {
            "colorbar": {
             "outlinewidth": 0,
             "ticks": ""
            },
            "colorscale": [
             [
              0,
              "#0d0887"
             ],
             [
              0.1111111111111111,
              "#46039f"
             ],
             [
              0.2222222222222222,
              "#7201a8"
             ],
             [
              0.3333333333333333,
              "#9c179e"
             ],
             [
              0.4444444444444444,
              "#bd3786"
             ],
             [
              0.5555555555555556,
              "#d8576b"
             ],
             [
              0.6666666666666666,
              "#ed7953"
             ],
             [
              0.7777777777777778,
              "#fb9f3a"
             ],
             [
              0.8888888888888888,
              "#fdca26"
             ],
             [
              1,
              "#f0f921"
             ]
            ],
            "type": "surface"
           }
          ],
          "table": [
           {
            "cells": {
             "fill": {
              "color": "#EBF0F8"
             },
             "line": {
              "color": "white"
             }
            },
            "header": {
             "fill": {
              "color": "#C8D4E3"
             },
             "line": {
              "color": "white"
             }
            },
            "type": "table"
           }
          ]
         },
         "layout": {
          "annotationdefaults": {
           "arrowcolor": "#2a3f5f",
           "arrowhead": 0,
           "arrowwidth": 1
          },
          "autotypenumbers": "strict",
          "coloraxis": {
           "colorbar": {
            "outlinewidth": 0,
            "ticks": ""
           }
          },
          "colorscale": {
           "diverging": [
            [
             0,
             "#8e0152"
            ],
            [
             0.1,
             "#c51b7d"
            ],
            [
             0.2,
             "#de77ae"
            ],
            [
             0.3,
             "#f1b6da"
            ],
            [
             0.4,
             "#fde0ef"
            ],
            [
             0.5,
             "#f7f7f7"
            ],
            [
             0.6,
             "#e6f5d0"
            ],
            [
             0.7,
             "#b8e186"
            ],
            [
             0.8,
             "#7fbc41"
            ],
            [
             0.9,
             "#4d9221"
            ],
            [
             1,
             "#276419"
            ]
           ],
           "sequential": [
            [
             0,
             "#0d0887"
            ],
            [
             0.1111111111111111,
             "#46039f"
            ],
            [
             0.2222222222222222,
             "#7201a8"
            ],
            [
             0.3333333333333333,
             "#9c179e"
            ],
            [
             0.4444444444444444,
             "#bd3786"
            ],
            [
             0.5555555555555556,
             "#d8576b"
            ],
            [
             0.6666666666666666,
             "#ed7953"
            ],
            [
             0.7777777777777778,
             "#fb9f3a"
            ],
            [
             0.8888888888888888,
             "#fdca26"
            ],
            [
             1,
             "#f0f921"
            ]
           ],
           "sequentialminus": [
            [
             0,
             "#0d0887"
            ],
            [
             0.1111111111111111,
             "#46039f"
            ],
            [
             0.2222222222222222,
             "#7201a8"
            ],
            [
             0.3333333333333333,
             "#9c179e"
            ],
            [
             0.4444444444444444,
             "#bd3786"
            ],
            [
             0.5555555555555556,
             "#d8576b"
            ],
            [
             0.6666666666666666,
             "#ed7953"
            ],
            [
             0.7777777777777778,
             "#fb9f3a"
            ],
            [
             0.8888888888888888,
             "#fdca26"
            ],
            [
             1,
             "#f0f921"
            ]
           ]
          },
          "colorway": [
           "#636efa",
           "#EF553B",
           "#00cc96",
           "#ab63fa",
           "#FFA15A",
           "#19d3f3",
           "#FF6692",
           "#B6E880",
           "#FF97FF",
           "#FECB52"
          ],
          "font": {
           "color": "#2a3f5f"
          },
          "geo": {
           "bgcolor": "white",
           "lakecolor": "white",
           "landcolor": "#E5ECF6",
           "showlakes": true,
           "showland": true,
           "subunitcolor": "white"
          },
          "hoverlabel": {
           "align": "left"
          },
          "hovermode": "closest",
          "mapbox": {
           "style": "light"
          },
          "paper_bgcolor": "white",
          "plot_bgcolor": "#E5ECF6",
          "polar": {
           "angularaxis": {
            "gridcolor": "white",
            "linecolor": "white",
            "ticks": ""
           },
           "bgcolor": "#E5ECF6",
           "radialaxis": {
            "gridcolor": "white",
            "linecolor": "white",
            "ticks": ""
           }
          },
          "scene": {
           "xaxis": {
            "backgroundcolor": "#E5ECF6",
            "gridcolor": "white",
            "gridwidth": 2,
            "linecolor": "white",
            "showbackground": true,
            "ticks": "",
            "zerolinecolor": "white"
           },
           "yaxis": {
            "backgroundcolor": "#E5ECF6",
            "gridcolor": "white",
            "gridwidth": 2,
            "linecolor": "white",
            "showbackground": true,
            "ticks": "",
            "zerolinecolor": "white"
           },
           "zaxis": {
            "backgroundcolor": "#E5ECF6",
            "gridcolor": "white",
            "gridwidth": 2,
            "linecolor": "white",
            "showbackground": true,
            "ticks": "",
            "zerolinecolor": "white"
           }
          },
          "shapedefaults": {
           "line": {
            "color": "#2a3f5f"
           }
          },
          "ternary": {
           "aaxis": {
            "gridcolor": "white",
            "linecolor": "white",
            "ticks": ""
           },
           "baxis": {
            "gridcolor": "white",
            "linecolor": "white",
            "ticks": ""
           },
           "bgcolor": "#E5ECF6",
           "caxis": {
            "gridcolor": "white",
            "linecolor": "white",
            "ticks": ""
           }
          },
          "title": {
           "x": 0.05
          },
          "xaxis": {
           "automargin": true,
           "gridcolor": "white",
           "linecolor": "white",
           "ticks": "",
           "title": {
            "standoff": 15
           },
           "zerolinecolor": "white",
           "zerolinewidth": 2
          },
          "yaxis": {
           "automargin": true,
           "gridcolor": "white",
           "linecolor": "white",
           "ticks": "",
           "title": {
            "standoff": 15
           },
           "zerolinecolor": "white",
           "zerolinewidth": 2
          }
         }
        },
        "title": {
         "text": "Inner CV RMSEs - Outer Fold 3"
        },
        "width": 800,
        "xaxis": {
         "tickangle": -90
        },
        "yaxis": {
         "title": {
          "text": "Validation RMSE"
         }
        }
       }
      }
     },
     "metadata": {},
     "output_type": "display_data"
    },
    {
     "name": "stdout",
     "output_type": "stream",
     "text": [
      "\n",
      "[Outer Fold 3] Test RMSE: 1.2042\n",
      "\n",
      "========== OUTER FOLD 4/5 ==========\n",
      "  Config 1/4 | Inner Mean RMSE: 0.9851\n",
      "  Config 2/4 | Inner Mean RMSE: 0.9283\n",
      "  Config 3/4 | Inner Mean RMSE: 0.9113\n",
      "  Config 4/4 | Inner Mean RMSE: 0.9384\n",
      "\n",
      "✅ Best config for outer fold 4:\n",
      "{'input_size': 13, 'hidden_sizes': [5, 5], 'output_size': 1, 'population_size': 10, 'tournament_size': 3, 'generations': 50, 'mutation_rate': 0.5}\n",
      "Best inner RMSE: 0.9113\n",
      "\n",
      "Statistical test on inner fold scores:\n",
      "Friedman test statistic: 1.0000, p-value: 0.8013\n",
      "No significant differences found between configs.\n"
     ]
    },
    {
     "data": {
      "application/vnd.plotly.v1+json": {
       "config": {
        "plotlyServerURL": "https://plot.ly"
       },
       "data": [
        {
         "boxpoints": "all",
         "fillcolor": "rgba(108, 140, 200, 0.3)",
         "jitter": 0,
         "line": {
          "color": "rgba(108, 140, 200, 1)"
         },
         "marker": {
          "color": "rgba(108, 140, 200, 1)"
         },
         "pointpos": 0,
         "type": "box",
         "x": [
          "Config 1<br>input_size: 13<br>hidden_sizes: [5, 5]<br>output_size: 1<br>population_size: 10<br>tournament_size: 3<br>generations: 30<br>mutation_rate: 0.5",
          "Config 1<br>input_size: 13<br>hidden_sizes: [5, 5]<br>output_size: 1<br>population_size: 10<br>tournament_size: 3<br>generations: 30<br>mutation_rate: 0.5",
          "Config 1<br>input_size: 13<br>hidden_sizes: [5, 5]<br>output_size: 1<br>population_size: 10<br>tournament_size: 3<br>generations: 30<br>mutation_rate: 0.5",
          "Config 2<br>input_size: 13<br>hidden_sizes: [5, 5]<br>output_size: 1<br>population_size: 10<br>tournament_size: 3<br>generations: 30<br>mutation_rate: 0.7",
          "Config 2<br>input_size: 13<br>hidden_sizes: [5, 5]<br>output_size: 1<br>population_size: 10<br>tournament_size: 3<br>generations: 30<br>mutation_rate: 0.7",
          "Config 2<br>input_size: 13<br>hidden_sizes: [5, 5]<br>output_size: 1<br>population_size: 10<br>tournament_size: 3<br>generations: 30<br>mutation_rate: 0.7",
          "Config 3<br>input_size: 13<br>hidden_sizes: [5, 5]<br>output_size: 1<br>population_size: 10<br>tournament_size: 3<br>generations: 50<br>mutation_rate: 0.5",
          "Config 3<br>input_size: 13<br>hidden_sizes: [5, 5]<br>output_size: 1<br>population_size: 10<br>tournament_size: 3<br>generations: 50<br>mutation_rate: 0.5",
          "Config 3<br>input_size: 13<br>hidden_sizes: [5, 5]<br>output_size: 1<br>population_size: 10<br>tournament_size: 3<br>generations: 50<br>mutation_rate: 0.5",
          "Config 4<br>input_size: 13<br>hidden_sizes: [5, 5]<br>output_size: 1<br>population_size: 10<br>tournament_size: 3<br>generations: 50<br>mutation_rate: 0.7",
          "Config 4<br>input_size: 13<br>hidden_sizes: [5, 5]<br>output_size: 1<br>population_size: 10<br>tournament_size: 3<br>generations: 50<br>mutation_rate: 0.7",
          "Config 4<br>input_size: 13<br>hidden_sizes: [5, 5]<br>output_size: 1<br>population_size: 10<br>tournament_size: 3<br>generations: 50<br>mutation_rate: 0.7"
         ],
         "y": {
          "bdata": "55MUZzxG9T+o7JFUrGflPw4p++URnu4/72f8mh698j91/HeDPeHuPzd72PsKwuQ/hM6FsA/u8j+uJtnGLLHtP69VFsAW7+M/FBr6iJqX8z9UtJ/I69LrP9NUQthDE+c/",
          "dtype": "f8"
         }
        }
       ],
       "layout": {
        "height": 400,
        "margin": {
         "b": 20,
         "l": 50,
         "r": 50,
         "t": 50
        },
        "plot_bgcolor": "#f1f1f1",
        "showlegend": false,
        "template": {
         "data": {
          "bar": [
           {
            "error_x": {
             "color": "#2a3f5f"
            },
            "error_y": {
             "color": "#2a3f5f"
            },
            "marker": {
             "line": {
              "color": "#E5ECF6",
              "width": 0.5
             },
             "pattern": {
              "fillmode": "overlay",
              "size": 10,
              "solidity": 0.2
             }
            },
            "type": "bar"
           }
          ],
          "barpolar": [
           {
            "marker": {
             "line": {
              "color": "#E5ECF6",
              "width": 0.5
             },
             "pattern": {
              "fillmode": "overlay",
              "size": 10,
              "solidity": 0.2
             }
            },
            "type": "barpolar"
           }
          ],
          "carpet": [
           {
            "aaxis": {
             "endlinecolor": "#2a3f5f",
             "gridcolor": "white",
             "linecolor": "white",
             "minorgridcolor": "white",
             "startlinecolor": "#2a3f5f"
            },
            "baxis": {
             "endlinecolor": "#2a3f5f",
             "gridcolor": "white",
             "linecolor": "white",
             "minorgridcolor": "white",
             "startlinecolor": "#2a3f5f"
            },
            "type": "carpet"
           }
          ],
          "choropleth": [
           {
            "colorbar": {
             "outlinewidth": 0,
             "ticks": ""
            },
            "type": "choropleth"
           }
          ],
          "contour": [
           {
            "colorbar": {
             "outlinewidth": 0,
             "ticks": ""
            },
            "colorscale": [
             [
              0,
              "#0d0887"
             ],
             [
              0.1111111111111111,
              "#46039f"
             ],
             [
              0.2222222222222222,
              "#7201a8"
             ],
             [
              0.3333333333333333,
              "#9c179e"
             ],
             [
              0.4444444444444444,
              "#bd3786"
             ],
             [
              0.5555555555555556,
              "#d8576b"
             ],
             [
              0.6666666666666666,
              "#ed7953"
             ],
             [
              0.7777777777777778,
              "#fb9f3a"
             ],
             [
              0.8888888888888888,
              "#fdca26"
             ],
             [
              1,
              "#f0f921"
             ]
            ],
            "type": "contour"
           }
          ],
          "contourcarpet": [
           {
            "colorbar": {
             "outlinewidth": 0,
             "ticks": ""
            },
            "type": "contourcarpet"
           }
          ],
          "heatmap": [
           {
            "colorbar": {
             "outlinewidth": 0,
             "ticks": ""
            },
            "colorscale": [
             [
              0,
              "#0d0887"
             ],
             [
              0.1111111111111111,
              "#46039f"
             ],
             [
              0.2222222222222222,
              "#7201a8"
             ],
             [
              0.3333333333333333,
              "#9c179e"
             ],
             [
              0.4444444444444444,
              "#bd3786"
             ],
             [
              0.5555555555555556,
              "#d8576b"
             ],
             [
              0.6666666666666666,
              "#ed7953"
             ],
             [
              0.7777777777777778,
              "#fb9f3a"
             ],
             [
              0.8888888888888888,
              "#fdca26"
             ],
             [
              1,
              "#f0f921"
             ]
            ],
            "type": "heatmap"
           }
          ],
          "histogram": [
           {
            "marker": {
             "pattern": {
              "fillmode": "overlay",
              "size": 10,
              "solidity": 0.2
             }
            },
            "type": "histogram"
           }
          ],
          "histogram2d": [
           {
            "colorbar": {
             "outlinewidth": 0,
             "ticks": ""
            },
            "colorscale": [
             [
              0,
              "#0d0887"
             ],
             [
              0.1111111111111111,
              "#46039f"
             ],
             [
              0.2222222222222222,
              "#7201a8"
             ],
             [
              0.3333333333333333,
              "#9c179e"
             ],
             [
              0.4444444444444444,
              "#bd3786"
             ],
             [
              0.5555555555555556,
              "#d8576b"
             ],
             [
              0.6666666666666666,
              "#ed7953"
             ],
             [
              0.7777777777777778,
              "#fb9f3a"
             ],
             [
              0.8888888888888888,
              "#fdca26"
             ],
             [
              1,
              "#f0f921"
             ]
            ],
            "type": "histogram2d"
           }
          ],
          "histogram2dcontour": [
           {
            "colorbar": {
             "outlinewidth": 0,
             "ticks": ""
            },
            "colorscale": [
             [
              0,
              "#0d0887"
             ],
             [
              0.1111111111111111,
              "#46039f"
             ],
             [
              0.2222222222222222,
              "#7201a8"
             ],
             [
              0.3333333333333333,
              "#9c179e"
             ],
             [
              0.4444444444444444,
              "#bd3786"
             ],
             [
              0.5555555555555556,
              "#d8576b"
             ],
             [
              0.6666666666666666,
              "#ed7953"
             ],
             [
              0.7777777777777778,
              "#fb9f3a"
             ],
             [
              0.8888888888888888,
              "#fdca26"
             ],
             [
              1,
              "#f0f921"
             ]
            ],
            "type": "histogram2dcontour"
           }
          ],
          "mesh3d": [
           {
            "colorbar": {
             "outlinewidth": 0,
             "ticks": ""
            },
            "type": "mesh3d"
           }
          ],
          "parcoords": [
           {
            "line": {
             "colorbar": {
              "outlinewidth": 0,
              "ticks": ""
             }
            },
            "type": "parcoords"
           }
          ],
          "pie": [
           {
            "automargin": true,
            "type": "pie"
           }
          ],
          "scatter": [
           {
            "fillpattern": {
             "fillmode": "overlay",
             "size": 10,
             "solidity": 0.2
            },
            "type": "scatter"
           }
          ],
          "scatter3d": [
           {
            "line": {
             "colorbar": {
              "outlinewidth": 0,
              "ticks": ""
             }
            },
            "marker": {
             "colorbar": {
              "outlinewidth": 0,
              "ticks": ""
             }
            },
            "type": "scatter3d"
           }
          ],
          "scattercarpet": [
           {
            "marker": {
             "colorbar": {
              "outlinewidth": 0,
              "ticks": ""
             }
            },
            "type": "scattercarpet"
           }
          ],
          "scattergeo": [
           {
            "marker": {
             "colorbar": {
              "outlinewidth": 0,
              "ticks": ""
             }
            },
            "type": "scattergeo"
           }
          ],
          "scattergl": [
           {
            "marker": {
             "colorbar": {
              "outlinewidth": 0,
              "ticks": ""
             }
            },
            "type": "scattergl"
           }
          ],
          "scattermap": [
           {
            "marker": {
             "colorbar": {
              "outlinewidth": 0,
              "ticks": ""
             }
            },
            "type": "scattermap"
           }
          ],
          "scattermapbox": [
           {
            "marker": {
             "colorbar": {
              "outlinewidth": 0,
              "ticks": ""
             }
            },
            "type": "scattermapbox"
           }
          ],
          "scatterpolar": [
           {
            "marker": {
             "colorbar": {
              "outlinewidth": 0,
              "ticks": ""
             }
            },
            "type": "scatterpolar"
           }
          ],
          "scatterpolargl": [
           {
            "marker": {
             "colorbar": {
              "outlinewidth": 0,
              "ticks": ""
             }
            },
            "type": "scatterpolargl"
           }
          ],
          "scatterternary": [
           {
            "marker": {
             "colorbar": {
              "outlinewidth": 0,
              "ticks": ""
             }
            },
            "type": "scatterternary"
           }
          ],
          "surface": [
           {
            "colorbar": {
             "outlinewidth": 0,
             "ticks": ""
            },
            "colorscale": [
             [
              0,
              "#0d0887"
             ],
             [
              0.1111111111111111,
              "#46039f"
             ],
             [
              0.2222222222222222,
              "#7201a8"
             ],
             [
              0.3333333333333333,
              "#9c179e"
             ],
             [
              0.4444444444444444,
              "#bd3786"
             ],
             [
              0.5555555555555556,
              "#d8576b"
             ],
             [
              0.6666666666666666,
              "#ed7953"
             ],
             [
              0.7777777777777778,
              "#fb9f3a"
             ],
             [
              0.8888888888888888,
              "#fdca26"
             ],
             [
              1,
              "#f0f921"
             ]
            ],
            "type": "surface"
           }
          ],
          "table": [
           {
            "cells": {
             "fill": {
              "color": "#EBF0F8"
             },
             "line": {
              "color": "white"
             }
            },
            "header": {
             "fill": {
              "color": "#C8D4E3"
             },
             "line": {
              "color": "white"
             }
            },
            "type": "table"
           }
          ]
         },
         "layout": {
          "annotationdefaults": {
           "arrowcolor": "#2a3f5f",
           "arrowhead": 0,
           "arrowwidth": 1
          },
          "autotypenumbers": "strict",
          "coloraxis": {
           "colorbar": {
            "outlinewidth": 0,
            "ticks": ""
           }
          },
          "colorscale": {
           "diverging": [
            [
             0,
             "#8e0152"
            ],
            [
             0.1,
             "#c51b7d"
            ],
            [
             0.2,
             "#de77ae"
            ],
            [
             0.3,
             "#f1b6da"
            ],
            [
             0.4,
             "#fde0ef"
            ],
            [
             0.5,
             "#f7f7f7"
            ],
            [
             0.6,
             "#e6f5d0"
            ],
            [
             0.7,
             "#b8e186"
            ],
            [
             0.8,
             "#7fbc41"
            ],
            [
             0.9,
             "#4d9221"
            ],
            [
             1,
             "#276419"
            ]
           ],
           "sequential": [
            [
             0,
             "#0d0887"
            ],
            [
             0.1111111111111111,
             "#46039f"
            ],
            [
             0.2222222222222222,
             "#7201a8"
            ],
            [
             0.3333333333333333,
             "#9c179e"
            ],
            [
             0.4444444444444444,
             "#bd3786"
            ],
            [
             0.5555555555555556,
             "#d8576b"
            ],
            [
             0.6666666666666666,
             "#ed7953"
            ],
            [
             0.7777777777777778,
             "#fb9f3a"
            ],
            [
             0.8888888888888888,
             "#fdca26"
            ],
            [
             1,
             "#f0f921"
            ]
           ],
           "sequentialminus": [
            [
             0,
             "#0d0887"
            ],
            [
             0.1111111111111111,
             "#46039f"
            ],
            [
             0.2222222222222222,
             "#7201a8"
            ],
            [
             0.3333333333333333,
             "#9c179e"
            ],
            [
             0.4444444444444444,
             "#bd3786"
            ],
            [
             0.5555555555555556,
             "#d8576b"
            ],
            [
             0.6666666666666666,
             "#ed7953"
            ],
            [
             0.7777777777777778,
             "#fb9f3a"
            ],
            [
             0.8888888888888888,
             "#fdca26"
            ],
            [
             1,
             "#f0f921"
            ]
           ]
          },
          "colorway": [
           "#636efa",
           "#EF553B",
           "#00cc96",
           "#ab63fa",
           "#FFA15A",
           "#19d3f3",
           "#FF6692",
           "#B6E880",
           "#FF97FF",
           "#FECB52"
          ],
          "font": {
           "color": "#2a3f5f"
          },
          "geo": {
           "bgcolor": "white",
           "lakecolor": "white",
           "landcolor": "#E5ECF6",
           "showlakes": true,
           "showland": true,
           "subunitcolor": "white"
          },
          "hoverlabel": {
           "align": "left"
          },
          "hovermode": "closest",
          "mapbox": {
           "style": "light"
          },
          "paper_bgcolor": "white",
          "plot_bgcolor": "#E5ECF6",
          "polar": {
           "angularaxis": {
            "gridcolor": "white",
            "linecolor": "white",
            "ticks": ""
           },
           "bgcolor": "#E5ECF6",
           "radialaxis": {
            "gridcolor": "white",
            "linecolor": "white",
            "ticks": ""
           }
          },
          "scene": {
           "xaxis": {
            "backgroundcolor": "#E5ECF6",
            "gridcolor": "white",
            "gridwidth": 2,
            "linecolor": "white",
            "showbackground": true,
            "ticks": "",
            "zerolinecolor": "white"
           },
           "yaxis": {
            "backgroundcolor": "#E5ECF6",
            "gridcolor": "white",
            "gridwidth": 2,
            "linecolor": "white",
            "showbackground": true,
            "ticks": "",
            "zerolinecolor": "white"
           },
           "zaxis": {
            "backgroundcolor": "#E5ECF6",
            "gridcolor": "white",
            "gridwidth": 2,
            "linecolor": "white",
            "showbackground": true,
            "ticks": "",
            "zerolinecolor": "white"
           }
          },
          "shapedefaults": {
           "line": {
            "color": "#2a3f5f"
           }
          },
          "ternary": {
           "aaxis": {
            "gridcolor": "white",
            "linecolor": "white",
            "ticks": ""
           },
           "baxis": {
            "gridcolor": "white",
            "linecolor": "white",
            "ticks": ""
           },
           "bgcolor": "#E5ECF6",
           "caxis": {
            "gridcolor": "white",
            "linecolor": "white",
            "ticks": ""
           }
          },
          "title": {
           "x": 0.05
          },
          "xaxis": {
           "automargin": true,
           "gridcolor": "white",
           "linecolor": "white",
           "ticks": "",
           "title": {
            "standoff": 15
           },
           "zerolinecolor": "white",
           "zerolinewidth": 2
          },
          "yaxis": {
           "automargin": true,
           "gridcolor": "white",
           "linecolor": "white",
           "ticks": "",
           "title": {
            "standoff": 15
           },
           "zerolinecolor": "white",
           "zerolinewidth": 2
          }
         }
        },
        "title": {
         "text": "Inner CV RMSEs - Outer Fold 4"
        },
        "width": 800,
        "xaxis": {
         "tickangle": -90
        },
        "yaxis": {
         "title": {
          "text": "Validation RMSE"
         }
        }
       }
      }
     },
     "metadata": {},
     "output_type": "display_data"
    },
    {
     "name": "stdout",
     "output_type": "stream",
     "text": [
      "\n",
      "[Outer Fold 4] Test RMSE: 2.2421\n",
      "\n",
      "========== OUTER FOLD 5/5 ==========\n",
      "  Config 1/4 | Inner Mean RMSE: 1.0082\n",
      "  Config 2/4 | Inner Mean RMSE: 1.0078\n",
      "  Config 3/4 | Inner Mean RMSE: 1.0605\n",
      "  Config 4/4 | Inner Mean RMSE: 1.0247\n",
      "\n",
      "✅ Best config for outer fold 5:\n",
      "{'input_size': 13, 'hidden_sizes': [5, 5], 'output_size': 1, 'population_size': 10, 'tournament_size': 3, 'generations': 30, 'mutation_rate': 0.7}\n",
      "Best inner RMSE: 1.0078\n",
      "\n",
      "Statistical test on inner fold scores:\n",
      "Friedman test statistic: 1.0000, p-value: 0.8013\n",
      "No significant differences found between configs.\n"
     ]
    },
    {
     "data": {
      "application/vnd.plotly.v1+json": {
       "config": {
        "plotlyServerURL": "https://plot.ly"
       },
       "data": [
        {
         "boxpoints": "all",
         "fillcolor": "rgba(108, 140, 200, 0.3)",
         "jitter": 0,
         "line": {
          "color": "rgba(108, 140, 200, 1)"
         },
         "marker": {
          "color": "rgba(108, 140, 200, 1)"
         },
         "pointpos": 0,
         "type": "box",
         "x": [
          "Config 1<br>input_size: 13<br>hidden_sizes: [5, 5]<br>output_size: 1<br>population_size: 10<br>tournament_size: 3<br>generations: 30<br>mutation_rate: 0.5",
          "Config 1<br>input_size: 13<br>hidden_sizes: [5, 5]<br>output_size: 1<br>population_size: 10<br>tournament_size: 3<br>generations: 30<br>mutation_rate: 0.5",
          "Config 1<br>input_size: 13<br>hidden_sizes: [5, 5]<br>output_size: 1<br>population_size: 10<br>tournament_size: 3<br>generations: 30<br>mutation_rate: 0.5",
          "Config 2<br>input_size: 13<br>hidden_sizes: [5, 5]<br>output_size: 1<br>population_size: 10<br>tournament_size: 3<br>generations: 30<br>mutation_rate: 0.7",
          "Config 2<br>input_size: 13<br>hidden_sizes: [5, 5]<br>output_size: 1<br>population_size: 10<br>tournament_size: 3<br>generations: 30<br>mutation_rate: 0.7",
          "Config 2<br>input_size: 13<br>hidden_sizes: [5, 5]<br>output_size: 1<br>population_size: 10<br>tournament_size: 3<br>generations: 30<br>mutation_rate: 0.7",
          "Config 3<br>input_size: 13<br>hidden_sizes: [5, 5]<br>output_size: 1<br>population_size: 10<br>tournament_size: 3<br>generations: 50<br>mutation_rate: 0.5",
          "Config 3<br>input_size: 13<br>hidden_sizes: [5, 5]<br>output_size: 1<br>population_size: 10<br>tournament_size: 3<br>generations: 50<br>mutation_rate: 0.5",
          "Config 3<br>input_size: 13<br>hidden_sizes: [5, 5]<br>output_size: 1<br>population_size: 10<br>tournament_size: 3<br>generations: 50<br>mutation_rate: 0.5",
          "Config 4<br>input_size: 13<br>hidden_sizes: [5, 5]<br>output_size: 1<br>population_size: 10<br>tournament_size: 3<br>generations: 50<br>mutation_rate: 0.7",
          "Config 4<br>input_size: 13<br>hidden_sizes: [5, 5]<br>output_size: 1<br>population_size: 10<br>tournament_size: 3<br>generations: 50<br>mutation_rate: 0.7",
          "Config 4<br>input_size: 13<br>hidden_sizes: [5, 5]<br>output_size: 1<br>population_size: 10<br>tournament_size: 3<br>generations: 50<br>mutation_rate: 0.7"
         ],
         "y": {
          "bdata": "hArI5Om28D8cU+szeSz0P5e34JG2A+c/UTeA7qGH8D9YXcS4uzT3PyLQ55ChRuE/l+oCRSco8j/W9Ct5sPfzP5T8IUf1jek/9NnyX1cJ6T+qP8YEiSj4P69gCVXsA+k/",
          "dtype": "f8"
         }
        }
       ],
       "layout": {
        "height": 400,
        "margin": {
         "b": 20,
         "l": 50,
         "r": 50,
         "t": 50
        },
        "plot_bgcolor": "#f1f1f1",
        "showlegend": false,
        "template": {
         "data": {
          "bar": [
           {
            "error_x": {
             "color": "#2a3f5f"
            },
            "error_y": {
             "color": "#2a3f5f"
            },
            "marker": {
             "line": {
              "color": "#E5ECF6",
              "width": 0.5
             },
             "pattern": {
              "fillmode": "overlay",
              "size": 10,
              "solidity": 0.2
             }
            },
            "type": "bar"
           }
          ],
          "barpolar": [
           {
            "marker": {
             "line": {
              "color": "#E5ECF6",
              "width": 0.5
             },
             "pattern": {
              "fillmode": "overlay",
              "size": 10,
              "solidity": 0.2
             }
            },
            "type": "barpolar"
           }
          ],
          "carpet": [
           {
            "aaxis": {
             "endlinecolor": "#2a3f5f",
             "gridcolor": "white",
             "linecolor": "white",
             "minorgridcolor": "white",
             "startlinecolor": "#2a3f5f"
            },
            "baxis": {
             "endlinecolor": "#2a3f5f",
             "gridcolor": "white",
             "linecolor": "white",
             "minorgridcolor": "white",
             "startlinecolor": "#2a3f5f"
            },
            "type": "carpet"
           }
          ],
          "choropleth": [
           {
            "colorbar": {
             "outlinewidth": 0,
             "ticks": ""
            },
            "type": "choropleth"
           }
          ],
          "contour": [
           {
            "colorbar": {
             "outlinewidth": 0,
             "ticks": ""
            },
            "colorscale": [
             [
              0,
              "#0d0887"
             ],
             [
              0.1111111111111111,
              "#46039f"
             ],
             [
              0.2222222222222222,
              "#7201a8"
             ],
             [
              0.3333333333333333,
              "#9c179e"
             ],
             [
              0.4444444444444444,
              "#bd3786"
             ],
             [
              0.5555555555555556,
              "#d8576b"
             ],
             [
              0.6666666666666666,
              "#ed7953"
             ],
             [
              0.7777777777777778,
              "#fb9f3a"
             ],
             [
              0.8888888888888888,
              "#fdca26"
             ],
             [
              1,
              "#f0f921"
             ]
            ],
            "type": "contour"
           }
          ],
          "contourcarpet": [
           {
            "colorbar": {
             "outlinewidth": 0,
             "ticks": ""
            },
            "type": "contourcarpet"
           }
          ],
          "heatmap": [
           {
            "colorbar": {
             "outlinewidth": 0,
             "ticks": ""
            },
            "colorscale": [
             [
              0,
              "#0d0887"
             ],
             [
              0.1111111111111111,
              "#46039f"
             ],
             [
              0.2222222222222222,
              "#7201a8"
             ],
             [
              0.3333333333333333,
              "#9c179e"
             ],
             [
              0.4444444444444444,
              "#bd3786"
             ],
             [
              0.5555555555555556,
              "#d8576b"
             ],
             [
              0.6666666666666666,
              "#ed7953"
             ],
             [
              0.7777777777777778,
              "#fb9f3a"
             ],
             [
              0.8888888888888888,
              "#fdca26"
             ],
             [
              1,
              "#f0f921"
             ]
            ],
            "type": "heatmap"
           }
          ],
          "histogram": [
           {
            "marker": {
             "pattern": {
              "fillmode": "overlay",
              "size": 10,
              "solidity": 0.2
             }
            },
            "type": "histogram"
           }
          ],
          "histogram2d": [
           {
            "colorbar": {
             "outlinewidth": 0,
             "ticks": ""
            },
            "colorscale": [
             [
              0,
              "#0d0887"
             ],
             [
              0.1111111111111111,
              "#46039f"
             ],
             [
              0.2222222222222222,
              "#7201a8"
             ],
             [
              0.3333333333333333,
              "#9c179e"
             ],
             [
              0.4444444444444444,
              "#bd3786"
             ],
             [
              0.5555555555555556,
              "#d8576b"
             ],
             [
              0.6666666666666666,
              "#ed7953"
             ],
             [
              0.7777777777777778,
              "#fb9f3a"
             ],
             [
              0.8888888888888888,
              "#fdca26"
             ],
             [
              1,
              "#f0f921"
             ]
            ],
            "type": "histogram2d"
           }
          ],
          "histogram2dcontour": [
           {
            "colorbar": {
             "outlinewidth": 0,
             "ticks": ""
            },
            "colorscale": [
             [
              0,
              "#0d0887"
             ],
             [
              0.1111111111111111,
              "#46039f"
             ],
             [
              0.2222222222222222,
              "#7201a8"
             ],
             [
              0.3333333333333333,
              "#9c179e"
             ],
             [
              0.4444444444444444,
              "#bd3786"
             ],
             [
              0.5555555555555556,
              "#d8576b"
             ],
             [
              0.6666666666666666,
              "#ed7953"
             ],
             [
              0.7777777777777778,
              "#fb9f3a"
             ],
             [
              0.8888888888888888,
              "#fdca26"
             ],
             [
              1,
              "#f0f921"
             ]
            ],
            "type": "histogram2dcontour"
           }
          ],
          "mesh3d": [
           {
            "colorbar": {
             "outlinewidth": 0,
             "ticks": ""
            },
            "type": "mesh3d"
           }
          ],
          "parcoords": [
           {
            "line": {
             "colorbar": {
              "outlinewidth": 0,
              "ticks": ""
             }
            },
            "type": "parcoords"
           }
          ],
          "pie": [
           {
            "automargin": true,
            "type": "pie"
           }
          ],
          "scatter": [
           {
            "fillpattern": {
             "fillmode": "overlay",
             "size": 10,
             "solidity": 0.2
            },
            "type": "scatter"
           }
          ],
          "scatter3d": [
           {
            "line": {
             "colorbar": {
              "outlinewidth": 0,
              "ticks": ""
             }
            },
            "marker": {
             "colorbar": {
              "outlinewidth": 0,
              "ticks": ""
             }
            },
            "type": "scatter3d"
           }
          ],
          "scattercarpet": [
           {
            "marker": {
             "colorbar": {
              "outlinewidth": 0,
              "ticks": ""
             }
            },
            "type": "scattercarpet"
           }
          ],
          "scattergeo": [
           {
            "marker": {
             "colorbar": {
              "outlinewidth": 0,
              "ticks": ""
             }
            },
            "type": "scattergeo"
           }
          ],
          "scattergl": [
           {
            "marker": {
             "colorbar": {
              "outlinewidth": 0,
              "ticks": ""
             }
            },
            "type": "scattergl"
           }
          ],
          "scattermap": [
           {
            "marker": {
             "colorbar": {
              "outlinewidth": 0,
              "ticks": ""
             }
            },
            "type": "scattermap"
           }
          ],
          "scattermapbox": [
           {
            "marker": {
             "colorbar": {
              "outlinewidth": 0,
              "ticks": ""
             }
            },
            "type": "scattermapbox"
           }
          ],
          "scatterpolar": [
           {
            "marker": {
             "colorbar": {
              "outlinewidth": 0,
              "ticks": ""
             }
            },
            "type": "scatterpolar"
           }
          ],
          "scatterpolargl": [
           {
            "marker": {
             "colorbar": {
              "outlinewidth": 0,
              "ticks": ""
             }
            },
            "type": "scatterpolargl"
           }
          ],
          "scatterternary": [
           {
            "marker": {
             "colorbar": {
              "outlinewidth": 0,
              "ticks": ""
             }
            },
            "type": "scatterternary"
           }
          ],
          "surface": [
           {
            "colorbar": {
             "outlinewidth": 0,
             "ticks": ""
            },
            "colorscale": [
             [
              0,
              "#0d0887"
             ],
             [
              0.1111111111111111,
              "#46039f"
             ],
             [
              0.2222222222222222,
              "#7201a8"
             ],
             [
              0.3333333333333333,
              "#9c179e"
             ],
             [
              0.4444444444444444,
              "#bd3786"
             ],
             [
              0.5555555555555556,
              "#d8576b"
             ],
             [
              0.6666666666666666,
              "#ed7953"
             ],
             [
              0.7777777777777778,
              "#fb9f3a"
             ],
             [
              0.8888888888888888,
              "#fdca26"
             ],
             [
              1,
              "#f0f921"
             ]
            ],
            "type": "surface"
           }
          ],
          "table": [
           {
            "cells": {
             "fill": {
              "color": "#EBF0F8"
             },
             "line": {
              "color": "white"
             }
            },
            "header": {
             "fill": {
              "color": "#C8D4E3"
             },
             "line": {
              "color": "white"
             }
            },
            "type": "table"
           }
          ]
         },
         "layout": {
          "annotationdefaults": {
           "arrowcolor": "#2a3f5f",
           "arrowhead": 0,
           "arrowwidth": 1
          },
          "autotypenumbers": "strict",
          "coloraxis": {
           "colorbar": {
            "outlinewidth": 0,
            "ticks": ""
           }
          },
          "colorscale": {
           "diverging": [
            [
             0,
             "#8e0152"
            ],
            [
             0.1,
             "#c51b7d"
            ],
            [
             0.2,
             "#de77ae"
            ],
            [
             0.3,
             "#f1b6da"
            ],
            [
             0.4,
             "#fde0ef"
            ],
            [
             0.5,
             "#f7f7f7"
            ],
            [
             0.6,
             "#e6f5d0"
            ],
            [
             0.7,
             "#b8e186"
            ],
            [
             0.8,
             "#7fbc41"
            ],
            [
             0.9,
             "#4d9221"
            ],
            [
             1,
             "#276419"
            ]
           ],
           "sequential": [
            [
             0,
             "#0d0887"
            ],
            [
             0.1111111111111111,
             "#46039f"
            ],
            [
             0.2222222222222222,
             "#7201a8"
            ],
            [
             0.3333333333333333,
             "#9c179e"
            ],
            [
             0.4444444444444444,
             "#bd3786"
            ],
            [
             0.5555555555555556,
             "#d8576b"
            ],
            [
             0.6666666666666666,
             "#ed7953"
            ],
            [
             0.7777777777777778,
             "#fb9f3a"
            ],
            [
             0.8888888888888888,
             "#fdca26"
            ],
            [
             1,
             "#f0f921"
            ]
           ],
           "sequentialminus": [
            [
             0,
             "#0d0887"
            ],
            [
             0.1111111111111111,
             "#46039f"
            ],
            [
             0.2222222222222222,
             "#7201a8"
            ],
            [
             0.3333333333333333,
             "#9c179e"
            ],
            [
             0.4444444444444444,
             "#bd3786"
            ],
            [
             0.5555555555555556,
             "#d8576b"
            ],
            [
             0.6666666666666666,
             "#ed7953"
            ],
            [
             0.7777777777777778,
             "#fb9f3a"
            ],
            [
             0.8888888888888888,
             "#fdca26"
            ],
            [
             1,
             "#f0f921"
            ]
           ]
          },
          "colorway": [
           "#636efa",
           "#EF553B",
           "#00cc96",
           "#ab63fa",
           "#FFA15A",
           "#19d3f3",
           "#FF6692",
           "#B6E880",
           "#FF97FF",
           "#FECB52"
          ],
          "font": {
           "color": "#2a3f5f"
          },
          "geo": {
           "bgcolor": "white",
           "lakecolor": "white",
           "landcolor": "#E5ECF6",
           "showlakes": true,
           "showland": true,
           "subunitcolor": "white"
          },
          "hoverlabel": {
           "align": "left"
          },
          "hovermode": "closest",
          "mapbox": {
           "style": "light"
          },
          "paper_bgcolor": "white",
          "plot_bgcolor": "#E5ECF6",
          "polar": {
           "angularaxis": {
            "gridcolor": "white",
            "linecolor": "white",
            "ticks": ""
           },
           "bgcolor": "#E5ECF6",
           "radialaxis": {
            "gridcolor": "white",
            "linecolor": "white",
            "ticks": ""
           }
          },
          "scene": {
           "xaxis": {
            "backgroundcolor": "#E5ECF6",
            "gridcolor": "white",
            "gridwidth": 2,
            "linecolor": "white",
            "showbackground": true,
            "ticks": "",
            "zerolinecolor": "white"
           },
           "yaxis": {
            "backgroundcolor": "#E5ECF6",
            "gridcolor": "white",
            "gridwidth": 2,
            "linecolor": "white",
            "showbackground": true,
            "ticks": "",
            "zerolinecolor": "white"
           },
           "zaxis": {
            "backgroundcolor": "#E5ECF6",
            "gridcolor": "white",
            "gridwidth": 2,
            "linecolor": "white",
            "showbackground": true,
            "ticks": "",
            "zerolinecolor": "white"
           }
          },
          "shapedefaults": {
           "line": {
            "color": "#2a3f5f"
           }
          },
          "ternary": {
           "aaxis": {
            "gridcolor": "white",
            "linecolor": "white",
            "ticks": ""
           },
           "baxis": {
            "gridcolor": "white",
            "linecolor": "white",
            "ticks": ""
           },
           "bgcolor": "#E5ECF6",
           "caxis": {
            "gridcolor": "white",
            "linecolor": "white",
            "ticks": ""
           }
          },
          "title": {
           "x": 0.05
          },
          "xaxis": {
           "automargin": true,
           "gridcolor": "white",
           "linecolor": "white",
           "ticks": "",
           "title": {
            "standoff": 15
           },
           "zerolinecolor": "white",
           "zerolinewidth": 2
          },
          "yaxis": {
           "automargin": true,
           "gridcolor": "white",
           "linecolor": "white",
           "ticks": "",
           "title": {
            "standoff": 15
           },
           "zerolinecolor": "white",
           "zerolinewidth": 2
          }
         }
        },
        "title": {
         "text": "Inner CV RMSEs - Outer Fold 5"
        },
        "width": 800,
        "xaxis": {
         "tickangle": -90
        },
        "yaxis": {
         "title": {
          "text": "Validation RMSE"
         }
        }
       }
      }
     },
     "metadata": {},
     "output_type": "display_data"
    },
    {
     "name": "stdout",
     "output_type": "stream",
     "text": [
      "\n",
      "[Outer Fold 5] Test RMSE: 1.2403\n",
      "\n",
      "================ Final Results ================\n",
      "Mean RMSE: 1.8136 ± 0.7385\n",
      "\n",
      "=== Running with seed: 456 ===\n",
      "\n",
      "\n",
      "========== OUTER FOLD 1/5 ==========\n",
      "  Config 1/4 | Inner Mean RMSE: 0.7841\n",
      "  Config 2/4 | Inner Mean RMSE: 0.7473\n",
      "  Config 3/4 | Inner Mean RMSE: 0.6577\n",
      "  Config 4/4 | Inner Mean RMSE: 0.8543\n",
      "\n",
      "✅ Best config for outer fold 1:\n",
      "{'input_size': 13, 'hidden_sizes': [5, 5], 'output_size': 1, 'population_size': 10, 'tournament_size': 3, 'generations': 50, 'mutation_rate': 0.5}\n",
      "Best inner RMSE: 0.6577\n",
      "\n",
      "Statistical test on inner fold scores:\n",
      "Friedman test statistic: 1.8000, p-value: 0.6149\n",
      "No significant differences found between configs.\n"
     ]
    },
    {
     "data": {
      "application/vnd.plotly.v1+json": {
       "config": {
        "plotlyServerURL": "https://plot.ly"
       },
       "data": [
        {
         "boxpoints": "all",
         "fillcolor": "rgba(108, 140, 200, 0.3)",
         "jitter": 0,
         "line": {
          "color": "rgba(108, 140, 200, 1)"
         },
         "marker": {
          "color": "rgba(108, 140, 200, 1)"
         },
         "pointpos": 0,
         "type": "box",
         "x": [
          "Config 1<br>input_size: 13<br>hidden_sizes: [5, 5]<br>output_size: 1<br>population_size: 10<br>tournament_size: 3<br>generations: 30<br>mutation_rate: 0.5",
          "Config 1<br>input_size: 13<br>hidden_sizes: [5, 5]<br>output_size: 1<br>population_size: 10<br>tournament_size: 3<br>generations: 30<br>mutation_rate: 0.5",
          "Config 1<br>input_size: 13<br>hidden_sizes: [5, 5]<br>output_size: 1<br>population_size: 10<br>tournament_size: 3<br>generations: 30<br>mutation_rate: 0.5",
          "Config 2<br>input_size: 13<br>hidden_sizes: [5, 5]<br>output_size: 1<br>population_size: 10<br>tournament_size: 3<br>generations: 30<br>mutation_rate: 0.7",
          "Config 2<br>input_size: 13<br>hidden_sizes: [5, 5]<br>output_size: 1<br>population_size: 10<br>tournament_size: 3<br>generations: 30<br>mutation_rate: 0.7",
          "Config 2<br>input_size: 13<br>hidden_sizes: [5, 5]<br>output_size: 1<br>population_size: 10<br>tournament_size: 3<br>generations: 30<br>mutation_rate: 0.7",
          "Config 3<br>input_size: 13<br>hidden_sizes: [5, 5]<br>output_size: 1<br>population_size: 10<br>tournament_size: 3<br>generations: 50<br>mutation_rate: 0.5",
          "Config 3<br>input_size: 13<br>hidden_sizes: [5, 5]<br>output_size: 1<br>population_size: 10<br>tournament_size: 3<br>generations: 50<br>mutation_rate: 0.5",
          "Config 3<br>input_size: 13<br>hidden_sizes: [5, 5]<br>output_size: 1<br>population_size: 10<br>tournament_size: 3<br>generations: 50<br>mutation_rate: 0.5",
          "Config 4<br>input_size: 13<br>hidden_sizes: [5, 5]<br>output_size: 1<br>population_size: 10<br>tournament_size: 3<br>generations: 50<br>mutation_rate: 0.7",
          "Config 4<br>input_size: 13<br>hidden_sizes: [5, 5]<br>output_size: 1<br>population_size: 10<br>tournament_size: 3<br>generations: 50<br>mutation_rate: 0.7",
          "Config 4<br>input_size: 13<br>hidden_sizes: [5, 5]<br>output_size: 1<br>population_size: 10<br>tournament_size: 3<br>generations: 50<br>mutation_rate: 0.7"
         ],
         "y": {
          "bdata": "MyXejMJW8T8OnkfYKl/mPwa5HHU7OeI/z1JiNIL+8j+4uuQDuQvjP6ze92m6aN0/lYb6HKrm6j+kzxnGTAHhPx0mZ9TxOuM/tXEddQ649T/1szxerHDkP2H7fqPlIeI/",
          "dtype": "f8"
         }
        }
       ],
       "layout": {
        "height": 400,
        "margin": {
         "b": 20,
         "l": 50,
         "r": 50,
         "t": 50
        },
        "plot_bgcolor": "#f1f1f1",
        "showlegend": false,
        "template": {
         "data": {
          "bar": [
           {
            "error_x": {
             "color": "#2a3f5f"
            },
            "error_y": {
             "color": "#2a3f5f"
            },
            "marker": {
             "line": {
              "color": "#E5ECF6",
              "width": 0.5
             },
             "pattern": {
              "fillmode": "overlay",
              "size": 10,
              "solidity": 0.2
             }
            },
            "type": "bar"
           }
          ],
          "barpolar": [
           {
            "marker": {
             "line": {
              "color": "#E5ECF6",
              "width": 0.5
             },
             "pattern": {
              "fillmode": "overlay",
              "size": 10,
              "solidity": 0.2
             }
            },
            "type": "barpolar"
           }
          ],
          "carpet": [
           {
            "aaxis": {
             "endlinecolor": "#2a3f5f",
             "gridcolor": "white",
             "linecolor": "white",
             "minorgridcolor": "white",
             "startlinecolor": "#2a3f5f"
            },
            "baxis": {
             "endlinecolor": "#2a3f5f",
             "gridcolor": "white",
             "linecolor": "white",
             "minorgridcolor": "white",
             "startlinecolor": "#2a3f5f"
            },
            "type": "carpet"
           }
          ],
          "choropleth": [
           {
            "colorbar": {
             "outlinewidth": 0,
             "ticks": ""
            },
            "type": "choropleth"
           }
          ],
          "contour": [
           {
            "colorbar": {
             "outlinewidth": 0,
             "ticks": ""
            },
            "colorscale": [
             [
              0,
              "#0d0887"
             ],
             [
              0.1111111111111111,
              "#46039f"
             ],
             [
              0.2222222222222222,
              "#7201a8"
             ],
             [
              0.3333333333333333,
              "#9c179e"
             ],
             [
              0.4444444444444444,
              "#bd3786"
             ],
             [
              0.5555555555555556,
              "#d8576b"
             ],
             [
              0.6666666666666666,
              "#ed7953"
             ],
             [
              0.7777777777777778,
              "#fb9f3a"
             ],
             [
              0.8888888888888888,
              "#fdca26"
             ],
             [
              1,
              "#f0f921"
             ]
            ],
            "type": "contour"
           }
          ],
          "contourcarpet": [
           {
            "colorbar": {
             "outlinewidth": 0,
             "ticks": ""
            },
            "type": "contourcarpet"
           }
          ],
          "heatmap": [
           {
            "colorbar": {
             "outlinewidth": 0,
             "ticks": ""
            },
            "colorscale": [
             [
              0,
              "#0d0887"
             ],
             [
              0.1111111111111111,
              "#46039f"
             ],
             [
              0.2222222222222222,
              "#7201a8"
             ],
             [
              0.3333333333333333,
              "#9c179e"
             ],
             [
              0.4444444444444444,
              "#bd3786"
             ],
             [
              0.5555555555555556,
              "#d8576b"
             ],
             [
              0.6666666666666666,
              "#ed7953"
             ],
             [
              0.7777777777777778,
              "#fb9f3a"
             ],
             [
              0.8888888888888888,
              "#fdca26"
             ],
             [
              1,
              "#f0f921"
             ]
            ],
            "type": "heatmap"
           }
          ],
          "histogram": [
           {
            "marker": {
             "pattern": {
              "fillmode": "overlay",
              "size": 10,
              "solidity": 0.2
             }
            },
            "type": "histogram"
           }
          ],
          "histogram2d": [
           {
            "colorbar": {
             "outlinewidth": 0,
             "ticks": ""
            },
            "colorscale": [
             [
              0,
              "#0d0887"
             ],
             [
              0.1111111111111111,
              "#46039f"
             ],
             [
              0.2222222222222222,
              "#7201a8"
             ],
             [
              0.3333333333333333,
              "#9c179e"
             ],
             [
              0.4444444444444444,
              "#bd3786"
             ],
             [
              0.5555555555555556,
              "#d8576b"
             ],
             [
              0.6666666666666666,
              "#ed7953"
             ],
             [
              0.7777777777777778,
              "#fb9f3a"
             ],
             [
              0.8888888888888888,
              "#fdca26"
             ],
             [
              1,
              "#f0f921"
             ]
            ],
            "type": "histogram2d"
           }
          ],
          "histogram2dcontour": [
           {
            "colorbar": {
             "outlinewidth": 0,
             "ticks": ""
            },
            "colorscale": [
             [
              0,
              "#0d0887"
             ],
             [
              0.1111111111111111,
              "#46039f"
             ],
             [
              0.2222222222222222,
              "#7201a8"
             ],
             [
              0.3333333333333333,
              "#9c179e"
             ],
             [
              0.4444444444444444,
              "#bd3786"
             ],
             [
              0.5555555555555556,
              "#d8576b"
             ],
             [
              0.6666666666666666,
              "#ed7953"
             ],
             [
              0.7777777777777778,
              "#fb9f3a"
             ],
             [
              0.8888888888888888,
              "#fdca26"
             ],
             [
              1,
              "#f0f921"
             ]
            ],
            "type": "histogram2dcontour"
           }
          ],
          "mesh3d": [
           {
            "colorbar": {
             "outlinewidth": 0,
             "ticks": ""
            },
            "type": "mesh3d"
           }
          ],
          "parcoords": [
           {
            "line": {
             "colorbar": {
              "outlinewidth": 0,
              "ticks": ""
             }
            },
            "type": "parcoords"
           }
          ],
          "pie": [
           {
            "automargin": true,
            "type": "pie"
           }
          ],
          "scatter": [
           {
            "fillpattern": {
             "fillmode": "overlay",
             "size": 10,
             "solidity": 0.2
            },
            "type": "scatter"
           }
          ],
          "scatter3d": [
           {
            "line": {
             "colorbar": {
              "outlinewidth": 0,
              "ticks": ""
             }
            },
            "marker": {
             "colorbar": {
              "outlinewidth": 0,
              "ticks": ""
             }
            },
            "type": "scatter3d"
           }
          ],
          "scattercarpet": [
           {
            "marker": {
             "colorbar": {
              "outlinewidth": 0,
              "ticks": ""
             }
            },
            "type": "scattercarpet"
           }
          ],
          "scattergeo": [
           {
            "marker": {
             "colorbar": {
              "outlinewidth": 0,
              "ticks": ""
             }
            },
            "type": "scattergeo"
           }
          ],
          "scattergl": [
           {
            "marker": {
             "colorbar": {
              "outlinewidth": 0,
              "ticks": ""
             }
            },
            "type": "scattergl"
           }
          ],
          "scattermap": [
           {
            "marker": {
             "colorbar": {
              "outlinewidth": 0,
              "ticks": ""
             }
            },
            "type": "scattermap"
           }
          ],
          "scattermapbox": [
           {
            "marker": {
             "colorbar": {
              "outlinewidth": 0,
              "ticks": ""
             }
            },
            "type": "scattermapbox"
           }
          ],
          "scatterpolar": [
           {
            "marker": {
             "colorbar": {
              "outlinewidth": 0,
              "ticks": ""
             }
            },
            "type": "scatterpolar"
           }
          ],
          "scatterpolargl": [
           {
            "marker": {
             "colorbar": {
              "outlinewidth": 0,
              "ticks": ""
             }
            },
            "type": "scatterpolargl"
           }
          ],
          "scatterternary": [
           {
            "marker": {
             "colorbar": {
              "outlinewidth": 0,
              "ticks": ""
             }
            },
            "type": "scatterternary"
           }
          ],
          "surface": [
           {
            "colorbar": {
             "outlinewidth": 0,
             "ticks": ""
            },
            "colorscale": [
             [
              0,
              "#0d0887"
             ],
             [
              0.1111111111111111,
              "#46039f"
             ],
             [
              0.2222222222222222,
              "#7201a8"
             ],
             [
              0.3333333333333333,
              "#9c179e"
             ],
             [
              0.4444444444444444,
              "#bd3786"
             ],
             [
              0.5555555555555556,
              "#d8576b"
             ],
             [
              0.6666666666666666,
              "#ed7953"
             ],
             [
              0.7777777777777778,
              "#fb9f3a"
             ],
             [
              0.8888888888888888,
              "#fdca26"
             ],
             [
              1,
              "#f0f921"
             ]
            ],
            "type": "surface"
           }
          ],
          "table": [
           {
            "cells": {
             "fill": {
              "color": "#EBF0F8"
             },
             "line": {
              "color": "white"
             }
            },
            "header": {
             "fill": {
              "color": "#C8D4E3"
             },
             "line": {
              "color": "white"
             }
            },
            "type": "table"
           }
          ]
         },
         "layout": {
          "annotationdefaults": {
           "arrowcolor": "#2a3f5f",
           "arrowhead": 0,
           "arrowwidth": 1
          },
          "autotypenumbers": "strict",
          "coloraxis": {
           "colorbar": {
            "outlinewidth": 0,
            "ticks": ""
           }
          },
          "colorscale": {
           "diverging": [
            [
             0,
             "#8e0152"
            ],
            [
             0.1,
             "#c51b7d"
            ],
            [
             0.2,
             "#de77ae"
            ],
            [
             0.3,
             "#f1b6da"
            ],
            [
             0.4,
             "#fde0ef"
            ],
            [
             0.5,
             "#f7f7f7"
            ],
            [
             0.6,
             "#e6f5d0"
            ],
            [
             0.7,
             "#b8e186"
            ],
            [
             0.8,
             "#7fbc41"
            ],
            [
             0.9,
             "#4d9221"
            ],
            [
             1,
             "#276419"
            ]
           ],
           "sequential": [
            [
             0,
             "#0d0887"
            ],
            [
             0.1111111111111111,
             "#46039f"
            ],
            [
             0.2222222222222222,
             "#7201a8"
            ],
            [
             0.3333333333333333,
             "#9c179e"
            ],
            [
             0.4444444444444444,
             "#bd3786"
            ],
            [
             0.5555555555555556,
             "#d8576b"
            ],
            [
             0.6666666666666666,
             "#ed7953"
            ],
            [
             0.7777777777777778,
             "#fb9f3a"
            ],
            [
             0.8888888888888888,
             "#fdca26"
            ],
            [
             1,
             "#f0f921"
            ]
           ],
           "sequentialminus": [
            [
             0,
             "#0d0887"
            ],
            [
             0.1111111111111111,
             "#46039f"
            ],
            [
             0.2222222222222222,
             "#7201a8"
            ],
            [
             0.3333333333333333,
             "#9c179e"
            ],
            [
             0.4444444444444444,
             "#bd3786"
            ],
            [
             0.5555555555555556,
             "#d8576b"
            ],
            [
             0.6666666666666666,
             "#ed7953"
            ],
            [
             0.7777777777777778,
             "#fb9f3a"
            ],
            [
             0.8888888888888888,
             "#fdca26"
            ],
            [
             1,
             "#f0f921"
            ]
           ]
          },
          "colorway": [
           "#636efa",
           "#EF553B",
           "#00cc96",
           "#ab63fa",
           "#FFA15A",
           "#19d3f3",
           "#FF6692",
           "#B6E880",
           "#FF97FF",
           "#FECB52"
          ],
          "font": {
           "color": "#2a3f5f"
          },
          "geo": {
           "bgcolor": "white",
           "lakecolor": "white",
           "landcolor": "#E5ECF6",
           "showlakes": true,
           "showland": true,
           "subunitcolor": "white"
          },
          "hoverlabel": {
           "align": "left"
          },
          "hovermode": "closest",
          "mapbox": {
           "style": "light"
          },
          "paper_bgcolor": "white",
          "plot_bgcolor": "#E5ECF6",
          "polar": {
           "angularaxis": {
            "gridcolor": "white",
            "linecolor": "white",
            "ticks": ""
           },
           "bgcolor": "#E5ECF6",
           "radialaxis": {
            "gridcolor": "white",
            "linecolor": "white",
            "ticks": ""
           }
          },
          "scene": {
           "xaxis": {
            "backgroundcolor": "#E5ECF6",
            "gridcolor": "white",
            "gridwidth": 2,
            "linecolor": "white",
            "showbackground": true,
            "ticks": "",
            "zerolinecolor": "white"
           },
           "yaxis": {
            "backgroundcolor": "#E5ECF6",
            "gridcolor": "white",
            "gridwidth": 2,
            "linecolor": "white",
            "showbackground": true,
            "ticks": "",
            "zerolinecolor": "white"
           },
           "zaxis": {
            "backgroundcolor": "#E5ECF6",
            "gridcolor": "white",
            "gridwidth": 2,
            "linecolor": "white",
            "showbackground": true,
            "ticks": "",
            "zerolinecolor": "white"
           }
          },
          "shapedefaults": {
           "line": {
            "color": "#2a3f5f"
           }
          },
          "ternary": {
           "aaxis": {
            "gridcolor": "white",
            "linecolor": "white",
            "ticks": ""
           },
           "baxis": {
            "gridcolor": "white",
            "linecolor": "white",
            "ticks": ""
           },
           "bgcolor": "#E5ECF6",
           "caxis": {
            "gridcolor": "white",
            "linecolor": "white",
            "ticks": ""
           }
          },
          "title": {
           "x": 0.05
          },
          "xaxis": {
           "automargin": true,
           "gridcolor": "white",
           "linecolor": "white",
           "ticks": "",
           "title": {
            "standoff": 15
           },
           "zerolinecolor": "white",
           "zerolinewidth": 2
          },
          "yaxis": {
           "automargin": true,
           "gridcolor": "white",
           "linecolor": "white",
           "ticks": "",
           "title": {
            "standoff": 15
           },
           "zerolinecolor": "white",
           "zerolinewidth": 2
          }
         }
        },
        "title": {
         "text": "Inner CV RMSEs - Outer Fold 1"
        },
        "width": 800,
        "xaxis": {
         "tickangle": -90
        },
        "yaxis": {
         "title": {
          "text": "Validation RMSE"
         }
        }
       }
      }
     },
     "metadata": {},
     "output_type": "display_data"
    },
    {
     "name": "stdout",
     "output_type": "stream",
     "text": [
      "\n",
      "[Outer Fold 1] Test RMSE: 2.9685\n",
      "\n",
      "========== OUTER FOLD 2/5 ==========\n",
      "  Config 1/4 | Inner Mean RMSE: 0.9433\n",
      "  Config 2/4 | Inner Mean RMSE: 0.9171\n",
      "  Config 3/4 | Inner Mean RMSE: 0.9844\n",
      "  Config 4/4 | Inner Mean RMSE: 1.1103\n",
      "\n",
      "✅ Best config for outer fold 2:\n",
      "{'input_size': 13, 'hidden_sizes': [5, 5], 'output_size': 1, 'population_size': 10, 'tournament_size': 3, 'generations': 30, 'mutation_rate': 0.7}\n",
      "Best inner RMSE: 0.9171\n",
      "\n",
      "Statistical test on inner fold scores:\n",
      "Friedman test statistic: 1.0000, p-value: 0.8013\n",
      "No significant differences found between configs.\n"
     ]
    },
    {
     "data": {
      "application/vnd.plotly.v1+json": {
       "config": {
        "plotlyServerURL": "https://plot.ly"
       },
       "data": [
        {
         "boxpoints": "all",
         "fillcolor": "rgba(108, 140, 200, 0.3)",
         "jitter": 0,
         "line": {
          "color": "rgba(108, 140, 200, 1)"
         },
         "marker": {
          "color": "rgba(108, 140, 200, 1)"
         },
         "pointpos": 0,
         "type": "box",
         "x": [
          "Config 1<br>input_size: 13<br>hidden_sizes: [5, 5]<br>output_size: 1<br>population_size: 10<br>tournament_size: 3<br>generations: 30<br>mutation_rate: 0.5",
          "Config 1<br>input_size: 13<br>hidden_sizes: [5, 5]<br>output_size: 1<br>population_size: 10<br>tournament_size: 3<br>generations: 30<br>mutation_rate: 0.5",
          "Config 1<br>input_size: 13<br>hidden_sizes: [5, 5]<br>output_size: 1<br>population_size: 10<br>tournament_size: 3<br>generations: 30<br>mutation_rate: 0.5",
          "Config 2<br>input_size: 13<br>hidden_sizes: [5, 5]<br>output_size: 1<br>population_size: 10<br>tournament_size: 3<br>generations: 30<br>mutation_rate: 0.7",
          "Config 2<br>input_size: 13<br>hidden_sizes: [5, 5]<br>output_size: 1<br>population_size: 10<br>tournament_size: 3<br>generations: 30<br>mutation_rate: 0.7",
          "Config 2<br>input_size: 13<br>hidden_sizes: [5, 5]<br>output_size: 1<br>population_size: 10<br>tournament_size: 3<br>generations: 30<br>mutation_rate: 0.7",
          "Config 3<br>input_size: 13<br>hidden_sizes: [5, 5]<br>output_size: 1<br>population_size: 10<br>tournament_size: 3<br>generations: 50<br>mutation_rate: 0.5",
          "Config 3<br>input_size: 13<br>hidden_sizes: [5, 5]<br>output_size: 1<br>population_size: 10<br>tournament_size: 3<br>generations: 50<br>mutation_rate: 0.5",
          "Config 3<br>input_size: 13<br>hidden_sizes: [5, 5]<br>output_size: 1<br>population_size: 10<br>tournament_size: 3<br>generations: 50<br>mutation_rate: 0.5",
          "Config 4<br>input_size: 13<br>hidden_sizes: [5, 5]<br>output_size: 1<br>population_size: 10<br>tournament_size: 3<br>generations: 50<br>mutation_rate: 0.7",
          "Config 4<br>input_size: 13<br>hidden_sizes: [5, 5]<br>output_size: 1<br>population_size: 10<br>tournament_size: 3<br>generations: 50<br>mutation_rate: 0.7",
          "Config 4<br>input_size: 13<br>hidden_sizes: [5, 5]<br>output_size: 1<br>population_size: 10<br>tournament_size: 3<br>generations: 50<br>mutation_rate: 0.7"
         ],
         "y": {
          "bdata": "vCz+LwuF6T+Dap/cs8j0P8mJwxTtd+c/mKbafmg27D/34qxVkgL0P9dDv9y2z+M/ddPql8Mz6D/YXZjcPAH0PygOqEknSu4/TqqaxfTv+D9APdBV/LDyP/jMYkSsVeM/",
          "dtype": "f8"
         }
        }
       ],
       "layout": {
        "height": 400,
        "margin": {
         "b": 20,
         "l": 50,
         "r": 50,
         "t": 50
        },
        "plot_bgcolor": "#f1f1f1",
        "showlegend": false,
        "template": {
         "data": {
          "bar": [
           {
            "error_x": {
             "color": "#2a3f5f"
            },
            "error_y": {
             "color": "#2a3f5f"
            },
            "marker": {
             "line": {
              "color": "#E5ECF6",
              "width": 0.5
             },
             "pattern": {
              "fillmode": "overlay",
              "size": 10,
              "solidity": 0.2
             }
            },
            "type": "bar"
           }
          ],
          "barpolar": [
           {
            "marker": {
             "line": {
              "color": "#E5ECF6",
              "width": 0.5
             },
             "pattern": {
              "fillmode": "overlay",
              "size": 10,
              "solidity": 0.2
             }
            },
            "type": "barpolar"
           }
          ],
          "carpet": [
           {
            "aaxis": {
             "endlinecolor": "#2a3f5f",
             "gridcolor": "white",
             "linecolor": "white",
             "minorgridcolor": "white",
             "startlinecolor": "#2a3f5f"
            },
            "baxis": {
             "endlinecolor": "#2a3f5f",
             "gridcolor": "white",
             "linecolor": "white",
             "minorgridcolor": "white",
             "startlinecolor": "#2a3f5f"
            },
            "type": "carpet"
           }
          ],
          "choropleth": [
           {
            "colorbar": {
             "outlinewidth": 0,
             "ticks": ""
            },
            "type": "choropleth"
           }
          ],
          "contour": [
           {
            "colorbar": {
             "outlinewidth": 0,
             "ticks": ""
            },
            "colorscale": [
             [
              0,
              "#0d0887"
             ],
             [
              0.1111111111111111,
              "#46039f"
             ],
             [
              0.2222222222222222,
              "#7201a8"
             ],
             [
              0.3333333333333333,
              "#9c179e"
             ],
             [
              0.4444444444444444,
              "#bd3786"
             ],
             [
              0.5555555555555556,
              "#d8576b"
             ],
             [
              0.6666666666666666,
              "#ed7953"
             ],
             [
              0.7777777777777778,
              "#fb9f3a"
             ],
             [
              0.8888888888888888,
              "#fdca26"
             ],
             [
              1,
              "#f0f921"
             ]
            ],
            "type": "contour"
           }
          ],
          "contourcarpet": [
           {
            "colorbar": {
             "outlinewidth": 0,
             "ticks": ""
            },
            "type": "contourcarpet"
           }
          ],
          "heatmap": [
           {
            "colorbar": {
             "outlinewidth": 0,
             "ticks": ""
            },
            "colorscale": [
             [
              0,
              "#0d0887"
             ],
             [
              0.1111111111111111,
              "#46039f"
             ],
             [
              0.2222222222222222,
              "#7201a8"
             ],
             [
              0.3333333333333333,
              "#9c179e"
             ],
             [
              0.4444444444444444,
              "#bd3786"
             ],
             [
              0.5555555555555556,
              "#d8576b"
             ],
             [
              0.6666666666666666,
              "#ed7953"
             ],
             [
              0.7777777777777778,
              "#fb9f3a"
             ],
             [
              0.8888888888888888,
              "#fdca26"
             ],
             [
              1,
              "#f0f921"
             ]
            ],
            "type": "heatmap"
           }
          ],
          "histogram": [
           {
            "marker": {
             "pattern": {
              "fillmode": "overlay",
              "size": 10,
              "solidity": 0.2
             }
            },
            "type": "histogram"
           }
          ],
          "histogram2d": [
           {
            "colorbar": {
             "outlinewidth": 0,
             "ticks": ""
            },
            "colorscale": [
             [
              0,
              "#0d0887"
             ],
             [
              0.1111111111111111,
              "#46039f"
             ],
             [
              0.2222222222222222,
              "#7201a8"
             ],
             [
              0.3333333333333333,
              "#9c179e"
             ],
             [
              0.4444444444444444,
              "#bd3786"
             ],
             [
              0.5555555555555556,
              "#d8576b"
             ],
             [
              0.6666666666666666,
              "#ed7953"
             ],
             [
              0.7777777777777778,
              "#fb9f3a"
             ],
             [
              0.8888888888888888,
              "#fdca26"
             ],
             [
              1,
              "#f0f921"
             ]
            ],
            "type": "histogram2d"
           }
          ],
          "histogram2dcontour": [
           {
            "colorbar": {
             "outlinewidth": 0,
             "ticks": ""
            },
            "colorscale": [
             [
              0,
              "#0d0887"
             ],
             [
              0.1111111111111111,
              "#46039f"
             ],
             [
              0.2222222222222222,
              "#7201a8"
             ],
             [
              0.3333333333333333,
              "#9c179e"
             ],
             [
              0.4444444444444444,
              "#bd3786"
             ],
             [
              0.5555555555555556,
              "#d8576b"
             ],
             [
              0.6666666666666666,
              "#ed7953"
             ],
             [
              0.7777777777777778,
              "#fb9f3a"
             ],
             [
              0.8888888888888888,
              "#fdca26"
             ],
             [
              1,
              "#f0f921"
             ]
            ],
            "type": "histogram2dcontour"
           }
          ],
          "mesh3d": [
           {
            "colorbar": {
             "outlinewidth": 0,
             "ticks": ""
            },
            "type": "mesh3d"
           }
          ],
          "parcoords": [
           {
            "line": {
             "colorbar": {
              "outlinewidth": 0,
              "ticks": ""
             }
            },
            "type": "parcoords"
           }
          ],
          "pie": [
           {
            "automargin": true,
            "type": "pie"
           }
          ],
          "scatter": [
           {
            "fillpattern": {
             "fillmode": "overlay",
             "size": 10,
             "solidity": 0.2
            },
            "type": "scatter"
           }
          ],
          "scatter3d": [
           {
            "line": {
             "colorbar": {
              "outlinewidth": 0,
              "ticks": ""
             }
            },
            "marker": {
             "colorbar": {
              "outlinewidth": 0,
              "ticks": ""
             }
            },
            "type": "scatter3d"
           }
          ],
          "scattercarpet": [
           {
            "marker": {
             "colorbar": {
              "outlinewidth": 0,
              "ticks": ""
             }
            },
            "type": "scattercarpet"
           }
          ],
          "scattergeo": [
           {
            "marker": {
             "colorbar": {
              "outlinewidth": 0,
              "ticks": ""
             }
            },
            "type": "scattergeo"
           }
          ],
          "scattergl": [
           {
            "marker": {
             "colorbar": {
              "outlinewidth": 0,
              "ticks": ""
             }
            },
            "type": "scattergl"
           }
          ],
          "scattermap": [
           {
            "marker": {
             "colorbar": {
              "outlinewidth": 0,
              "ticks": ""
             }
            },
            "type": "scattermap"
           }
          ],
          "scattermapbox": [
           {
            "marker": {
             "colorbar": {
              "outlinewidth": 0,
              "ticks": ""
             }
            },
            "type": "scattermapbox"
           }
          ],
          "scatterpolar": [
           {
            "marker": {
             "colorbar": {
              "outlinewidth": 0,
              "ticks": ""
             }
            },
            "type": "scatterpolar"
           }
          ],
          "scatterpolargl": [
           {
            "marker": {
             "colorbar": {
              "outlinewidth": 0,
              "ticks": ""
             }
            },
            "type": "scatterpolargl"
           }
          ],
          "scatterternary": [
           {
            "marker": {
             "colorbar": {
              "outlinewidth": 0,
              "ticks": ""
             }
            },
            "type": "scatterternary"
           }
          ],
          "surface": [
           {
            "colorbar": {
             "outlinewidth": 0,
             "ticks": ""
            },
            "colorscale": [
             [
              0,
              "#0d0887"
             ],
             [
              0.1111111111111111,
              "#46039f"
             ],
             [
              0.2222222222222222,
              "#7201a8"
             ],
             [
              0.3333333333333333,
              "#9c179e"
             ],
             [
              0.4444444444444444,
              "#bd3786"
             ],
             [
              0.5555555555555556,
              "#d8576b"
             ],
             [
              0.6666666666666666,
              "#ed7953"
             ],
             [
              0.7777777777777778,
              "#fb9f3a"
             ],
             [
              0.8888888888888888,
              "#fdca26"
             ],
             [
              1,
              "#f0f921"
             ]
            ],
            "type": "surface"
           }
          ],
          "table": [
           {
            "cells": {
             "fill": {
              "color": "#EBF0F8"
             },
             "line": {
              "color": "white"
             }
            },
            "header": {
             "fill": {
              "color": "#C8D4E3"
             },
             "line": {
              "color": "white"
             }
            },
            "type": "table"
           }
          ]
         },
         "layout": {
          "annotationdefaults": {
           "arrowcolor": "#2a3f5f",
           "arrowhead": 0,
           "arrowwidth": 1
          },
          "autotypenumbers": "strict",
          "coloraxis": {
           "colorbar": {
            "outlinewidth": 0,
            "ticks": ""
           }
          },
          "colorscale": {
           "diverging": [
            [
             0,
             "#8e0152"
            ],
            [
             0.1,
             "#c51b7d"
            ],
            [
             0.2,
             "#de77ae"
            ],
            [
             0.3,
             "#f1b6da"
            ],
            [
             0.4,
             "#fde0ef"
            ],
            [
             0.5,
             "#f7f7f7"
            ],
            [
             0.6,
             "#e6f5d0"
            ],
            [
             0.7,
             "#b8e186"
            ],
            [
             0.8,
             "#7fbc41"
            ],
            [
             0.9,
             "#4d9221"
            ],
            [
             1,
             "#276419"
            ]
           ],
           "sequential": [
            [
             0,
             "#0d0887"
            ],
            [
             0.1111111111111111,
             "#46039f"
            ],
            [
             0.2222222222222222,
             "#7201a8"
            ],
            [
             0.3333333333333333,
             "#9c179e"
            ],
            [
             0.4444444444444444,
             "#bd3786"
            ],
            [
             0.5555555555555556,
             "#d8576b"
            ],
            [
             0.6666666666666666,
             "#ed7953"
            ],
            [
             0.7777777777777778,
             "#fb9f3a"
            ],
            [
             0.8888888888888888,
             "#fdca26"
            ],
            [
             1,
             "#f0f921"
            ]
           ],
           "sequentialminus": [
            [
             0,
             "#0d0887"
            ],
            [
             0.1111111111111111,
             "#46039f"
            ],
            [
             0.2222222222222222,
             "#7201a8"
            ],
            [
             0.3333333333333333,
             "#9c179e"
            ],
            [
             0.4444444444444444,
             "#bd3786"
            ],
            [
             0.5555555555555556,
             "#d8576b"
            ],
            [
             0.6666666666666666,
             "#ed7953"
            ],
            [
             0.7777777777777778,
             "#fb9f3a"
            ],
            [
             0.8888888888888888,
             "#fdca26"
            ],
            [
             1,
             "#f0f921"
            ]
           ]
          },
          "colorway": [
           "#636efa",
           "#EF553B",
           "#00cc96",
           "#ab63fa",
           "#FFA15A",
           "#19d3f3",
           "#FF6692",
           "#B6E880",
           "#FF97FF",
           "#FECB52"
          ],
          "font": {
           "color": "#2a3f5f"
          },
          "geo": {
           "bgcolor": "white",
           "lakecolor": "white",
           "landcolor": "#E5ECF6",
           "showlakes": true,
           "showland": true,
           "subunitcolor": "white"
          },
          "hoverlabel": {
           "align": "left"
          },
          "hovermode": "closest",
          "mapbox": {
           "style": "light"
          },
          "paper_bgcolor": "white",
          "plot_bgcolor": "#E5ECF6",
          "polar": {
           "angularaxis": {
            "gridcolor": "white",
            "linecolor": "white",
            "ticks": ""
           },
           "bgcolor": "#E5ECF6",
           "radialaxis": {
            "gridcolor": "white",
            "linecolor": "white",
            "ticks": ""
           }
          },
          "scene": {
           "xaxis": {
            "backgroundcolor": "#E5ECF6",
            "gridcolor": "white",
            "gridwidth": 2,
            "linecolor": "white",
            "showbackground": true,
            "ticks": "",
            "zerolinecolor": "white"
           },
           "yaxis": {
            "backgroundcolor": "#E5ECF6",
            "gridcolor": "white",
            "gridwidth": 2,
            "linecolor": "white",
            "showbackground": true,
            "ticks": "",
            "zerolinecolor": "white"
           },
           "zaxis": {
            "backgroundcolor": "#E5ECF6",
            "gridcolor": "white",
            "gridwidth": 2,
            "linecolor": "white",
            "showbackground": true,
            "ticks": "",
            "zerolinecolor": "white"
           }
          },
          "shapedefaults": {
           "line": {
            "color": "#2a3f5f"
           }
          },
          "ternary": {
           "aaxis": {
            "gridcolor": "white",
            "linecolor": "white",
            "ticks": ""
           },
           "baxis": {
            "gridcolor": "white",
            "linecolor": "white",
            "ticks": ""
           },
           "bgcolor": "#E5ECF6",
           "caxis": {
            "gridcolor": "white",
            "linecolor": "white",
            "ticks": ""
           }
          },
          "title": {
           "x": 0.05
          },
          "xaxis": {
           "automargin": true,
           "gridcolor": "white",
           "linecolor": "white",
           "ticks": "",
           "title": {
            "standoff": 15
           },
           "zerolinecolor": "white",
           "zerolinewidth": 2
          },
          "yaxis": {
           "automargin": true,
           "gridcolor": "white",
           "linecolor": "white",
           "ticks": "",
           "title": {
            "standoff": 15
           },
           "zerolinecolor": "white",
           "zerolinewidth": 2
          }
         }
        },
        "title": {
         "text": "Inner CV RMSEs - Outer Fold 2"
        },
        "width": 800,
        "xaxis": {
         "tickangle": -90
        },
        "yaxis": {
         "title": {
          "text": "Validation RMSE"
         }
        }
       }
      }
     },
     "metadata": {},
     "output_type": "display_data"
    },
    {
     "name": "stdout",
     "output_type": "stream",
     "text": [
      "\n",
      "[Outer Fold 2] Test RMSE: 1.3200\n",
      "\n",
      "========== OUTER FOLD 3/5 ==========\n",
      "  Config 1/4 | Inner Mean RMSE: 0.9648\n",
      "  Config 2/4 | Inner Mean RMSE: 1.1111\n",
      "  Config 3/4 | Inner Mean RMSE: 1.0880\n",
      "  Config 4/4 | Inner Mean RMSE: 1.2407\n",
      "\n",
      "✅ Best config for outer fold 3:\n",
      "{'input_size': 13, 'hidden_sizes': [5, 5], 'output_size': 1, 'population_size': 10, 'tournament_size': 3, 'generations': 30, 'mutation_rate': 0.5}\n",
      "Best inner RMSE: 0.9648\n",
      "\n",
      "Statistical test on inner fold scores:\n",
      "Friedman test statistic: 2.2000, p-value: 0.5319\n",
      "No significant differences found between configs.\n"
     ]
    },
    {
     "data": {
      "application/vnd.plotly.v1+json": {
       "config": {
        "plotlyServerURL": "https://plot.ly"
       },
       "data": [
        {
         "boxpoints": "all",
         "fillcolor": "rgba(108, 140, 200, 0.3)",
         "jitter": 0,
         "line": {
          "color": "rgba(108, 140, 200, 1)"
         },
         "marker": {
          "color": "rgba(108, 140, 200, 1)"
         },
         "pointpos": 0,
         "type": "box",
         "x": [
          "Config 1<br>input_size: 13<br>hidden_sizes: [5, 5]<br>output_size: 1<br>population_size: 10<br>tournament_size: 3<br>generations: 30<br>mutation_rate: 0.5",
          "Config 1<br>input_size: 13<br>hidden_sizes: [5, 5]<br>output_size: 1<br>population_size: 10<br>tournament_size: 3<br>generations: 30<br>mutation_rate: 0.5",
          "Config 1<br>input_size: 13<br>hidden_sizes: [5, 5]<br>output_size: 1<br>population_size: 10<br>tournament_size: 3<br>generations: 30<br>mutation_rate: 0.5",
          "Config 2<br>input_size: 13<br>hidden_sizes: [5, 5]<br>output_size: 1<br>population_size: 10<br>tournament_size: 3<br>generations: 30<br>mutation_rate: 0.7",
          "Config 2<br>input_size: 13<br>hidden_sizes: [5, 5]<br>output_size: 1<br>population_size: 10<br>tournament_size: 3<br>generations: 30<br>mutation_rate: 0.7",
          "Config 2<br>input_size: 13<br>hidden_sizes: [5, 5]<br>output_size: 1<br>population_size: 10<br>tournament_size: 3<br>generations: 30<br>mutation_rate: 0.7",
          "Config 3<br>input_size: 13<br>hidden_sizes: [5, 5]<br>output_size: 1<br>population_size: 10<br>tournament_size: 3<br>generations: 50<br>mutation_rate: 0.5",
          "Config 3<br>input_size: 13<br>hidden_sizes: [5, 5]<br>output_size: 1<br>population_size: 10<br>tournament_size: 3<br>generations: 50<br>mutation_rate: 0.5",
          "Config 3<br>input_size: 13<br>hidden_sizes: [5, 5]<br>output_size: 1<br>population_size: 10<br>tournament_size: 3<br>generations: 50<br>mutation_rate: 0.5",
          "Config 4<br>input_size: 13<br>hidden_sizes: [5, 5]<br>output_size: 1<br>population_size: 10<br>tournament_size: 3<br>generations: 50<br>mutation_rate: 0.7",
          "Config 4<br>input_size: 13<br>hidden_sizes: [5, 5]<br>output_size: 1<br>population_size: 10<br>tournament_size: 3<br>generations: 50<br>mutation_rate: 0.7",
          "Config 4<br>input_size: 13<br>hidden_sizes: [5, 5]<br>output_size: 1<br>population_size: 10<br>tournament_size: 3<br>generations: 50<br>mutation_rate: 0.7"
         ],
         "y": {
          "bdata": "TUOPsz+S/D8Vvzrfl53mPwn5BAswutk/i7QUj77R/D+StID099frPwx5I/7kLeU/sLbOS6cl+D8j7y6hwdbmP8yoowrFp/A/kQKV+VSp+j+ms92bm/f0P5W4jQkh2uc/",
          "dtype": "f8"
         }
        }
       ],
       "layout": {
        "height": 400,
        "margin": {
         "b": 20,
         "l": 50,
         "r": 50,
         "t": 50
        },
        "plot_bgcolor": "#f1f1f1",
        "showlegend": false,
        "template": {
         "data": {
          "bar": [
           {
            "error_x": {
             "color": "#2a3f5f"
            },
            "error_y": {
             "color": "#2a3f5f"
            },
            "marker": {
             "line": {
              "color": "#E5ECF6",
              "width": 0.5
             },
             "pattern": {
              "fillmode": "overlay",
              "size": 10,
              "solidity": 0.2
             }
            },
            "type": "bar"
           }
          ],
          "barpolar": [
           {
            "marker": {
             "line": {
              "color": "#E5ECF6",
              "width": 0.5
             },
             "pattern": {
              "fillmode": "overlay",
              "size": 10,
              "solidity": 0.2
             }
            },
            "type": "barpolar"
           }
          ],
          "carpet": [
           {
            "aaxis": {
             "endlinecolor": "#2a3f5f",
             "gridcolor": "white",
             "linecolor": "white",
             "minorgridcolor": "white",
             "startlinecolor": "#2a3f5f"
            },
            "baxis": {
             "endlinecolor": "#2a3f5f",
             "gridcolor": "white",
             "linecolor": "white",
             "minorgridcolor": "white",
             "startlinecolor": "#2a3f5f"
            },
            "type": "carpet"
           }
          ],
          "choropleth": [
           {
            "colorbar": {
             "outlinewidth": 0,
             "ticks": ""
            },
            "type": "choropleth"
           }
          ],
          "contour": [
           {
            "colorbar": {
             "outlinewidth": 0,
             "ticks": ""
            },
            "colorscale": [
             [
              0,
              "#0d0887"
             ],
             [
              0.1111111111111111,
              "#46039f"
             ],
             [
              0.2222222222222222,
              "#7201a8"
             ],
             [
              0.3333333333333333,
              "#9c179e"
             ],
             [
              0.4444444444444444,
              "#bd3786"
             ],
             [
              0.5555555555555556,
              "#d8576b"
             ],
             [
              0.6666666666666666,
              "#ed7953"
             ],
             [
              0.7777777777777778,
              "#fb9f3a"
             ],
             [
              0.8888888888888888,
              "#fdca26"
             ],
             [
              1,
              "#f0f921"
             ]
            ],
            "type": "contour"
           }
          ],
          "contourcarpet": [
           {
            "colorbar": {
             "outlinewidth": 0,
             "ticks": ""
            },
            "type": "contourcarpet"
           }
          ],
          "heatmap": [
           {
            "colorbar": {
             "outlinewidth": 0,
             "ticks": ""
            },
            "colorscale": [
             [
              0,
              "#0d0887"
             ],
             [
              0.1111111111111111,
              "#46039f"
             ],
             [
              0.2222222222222222,
              "#7201a8"
             ],
             [
              0.3333333333333333,
              "#9c179e"
             ],
             [
              0.4444444444444444,
              "#bd3786"
             ],
             [
              0.5555555555555556,
              "#d8576b"
             ],
             [
              0.6666666666666666,
              "#ed7953"
             ],
             [
              0.7777777777777778,
              "#fb9f3a"
             ],
             [
              0.8888888888888888,
              "#fdca26"
             ],
             [
              1,
              "#f0f921"
             ]
            ],
            "type": "heatmap"
           }
          ],
          "histogram": [
           {
            "marker": {
             "pattern": {
              "fillmode": "overlay",
              "size": 10,
              "solidity": 0.2
             }
            },
            "type": "histogram"
           }
          ],
          "histogram2d": [
           {
            "colorbar": {
             "outlinewidth": 0,
             "ticks": ""
            },
            "colorscale": [
             [
              0,
              "#0d0887"
             ],
             [
              0.1111111111111111,
              "#46039f"
             ],
             [
              0.2222222222222222,
              "#7201a8"
             ],
             [
              0.3333333333333333,
              "#9c179e"
             ],
             [
              0.4444444444444444,
              "#bd3786"
             ],
             [
              0.5555555555555556,
              "#d8576b"
             ],
             [
              0.6666666666666666,
              "#ed7953"
             ],
             [
              0.7777777777777778,
              "#fb9f3a"
             ],
             [
              0.8888888888888888,
              "#fdca26"
             ],
             [
              1,
              "#f0f921"
             ]
            ],
            "type": "histogram2d"
           }
          ],
          "histogram2dcontour": [
           {
            "colorbar": {
             "outlinewidth": 0,
             "ticks": ""
            },
            "colorscale": [
             [
              0,
              "#0d0887"
             ],
             [
              0.1111111111111111,
              "#46039f"
             ],
             [
              0.2222222222222222,
              "#7201a8"
             ],
             [
              0.3333333333333333,
              "#9c179e"
             ],
             [
              0.4444444444444444,
              "#bd3786"
             ],
             [
              0.5555555555555556,
              "#d8576b"
             ],
             [
              0.6666666666666666,
              "#ed7953"
             ],
             [
              0.7777777777777778,
              "#fb9f3a"
             ],
             [
              0.8888888888888888,
              "#fdca26"
             ],
             [
              1,
              "#f0f921"
             ]
            ],
            "type": "histogram2dcontour"
           }
          ],
          "mesh3d": [
           {
            "colorbar": {
             "outlinewidth": 0,
             "ticks": ""
            },
            "type": "mesh3d"
           }
          ],
          "parcoords": [
           {
            "line": {
             "colorbar": {
              "outlinewidth": 0,
              "ticks": ""
             }
            },
            "type": "parcoords"
           }
          ],
          "pie": [
           {
            "automargin": true,
            "type": "pie"
           }
          ],
          "scatter": [
           {
            "fillpattern": {
             "fillmode": "overlay",
             "size": 10,
             "solidity": 0.2
            },
            "type": "scatter"
           }
          ],
          "scatter3d": [
           {
            "line": {
             "colorbar": {
              "outlinewidth": 0,
              "ticks": ""
             }
            },
            "marker": {
             "colorbar": {
              "outlinewidth": 0,
              "ticks": ""
             }
            },
            "type": "scatter3d"
           }
          ],
          "scattercarpet": [
           {
            "marker": {
             "colorbar": {
              "outlinewidth": 0,
              "ticks": ""
             }
            },
            "type": "scattercarpet"
           }
          ],
          "scattergeo": [
           {
            "marker": {
             "colorbar": {
              "outlinewidth": 0,
              "ticks": ""
             }
            },
            "type": "scattergeo"
           }
          ],
          "scattergl": [
           {
            "marker": {
             "colorbar": {
              "outlinewidth": 0,
              "ticks": ""
             }
            },
            "type": "scattergl"
           }
          ],
          "scattermap": [
           {
            "marker": {
             "colorbar": {
              "outlinewidth": 0,
              "ticks": ""
             }
            },
            "type": "scattermap"
           }
          ],
          "scattermapbox": [
           {
            "marker": {
             "colorbar": {
              "outlinewidth": 0,
              "ticks": ""
             }
            },
            "type": "scattermapbox"
           }
          ],
          "scatterpolar": [
           {
            "marker": {
             "colorbar": {
              "outlinewidth": 0,
              "ticks": ""
             }
            },
            "type": "scatterpolar"
           }
          ],
          "scatterpolargl": [
           {
            "marker": {
             "colorbar": {
              "outlinewidth": 0,
              "ticks": ""
             }
            },
            "type": "scatterpolargl"
           }
          ],
          "scatterternary": [
           {
            "marker": {
             "colorbar": {
              "outlinewidth": 0,
              "ticks": ""
             }
            },
            "type": "scatterternary"
           }
          ],
          "surface": [
           {
            "colorbar": {
             "outlinewidth": 0,
             "ticks": ""
            },
            "colorscale": [
             [
              0,
              "#0d0887"
             ],
             [
              0.1111111111111111,
              "#46039f"
             ],
             [
              0.2222222222222222,
              "#7201a8"
             ],
             [
              0.3333333333333333,
              "#9c179e"
             ],
             [
              0.4444444444444444,
              "#bd3786"
             ],
             [
              0.5555555555555556,
              "#d8576b"
             ],
             [
              0.6666666666666666,
              "#ed7953"
             ],
             [
              0.7777777777777778,
              "#fb9f3a"
             ],
             [
              0.8888888888888888,
              "#fdca26"
             ],
             [
              1,
              "#f0f921"
             ]
            ],
            "type": "surface"
           }
          ],
          "table": [
           {
            "cells": {
             "fill": {
              "color": "#EBF0F8"
             },
             "line": {
              "color": "white"
             }
            },
            "header": {
             "fill": {
              "color": "#C8D4E3"
             },
             "line": {
              "color": "white"
             }
            },
            "type": "table"
           }
          ]
         },
         "layout": {
          "annotationdefaults": {
           "arrowcolor": "#2a3f5f",
           "arrowhead": 0,
           "arrowwidth": 1
          },
          "autotypenumbers": "strict",
          "coloraxis": {
           "colorbar": {
            "outlinewidth": 0,
            "ticks": ""
           }
          },
          "colorscale": {
           "diverging": [
            [
             0,
             "#8e0152"
            ],
            [
             0.1,
             "#c51b7d"
            ],
            [
             0.2,
             "#de77ae"
            ],
            [
             0.3,
             "#f1b6da"
            ],
            [
             0.4,
             "#fde0ef"
            ],
            [
             0.5,
             "#f7f7f7"
            ],
            [
             0.6,
             "#e6f5d0"
            ],
            [
             0.7,
             "#b8e186"
            ],
            [
             0.8,
             "#7fbc41"
            ],
            [
             0.9,
             "#4d9221"
            ],
            [
             1,
             "#276419"
            ]
           ],
           "sequential": [
            [
             0,
             "#0d0887"
            ],
            [
             0.1111111111111111,
             "#46039f"
            ],
            [
             0.2222222222222222,
             "#7201a8"
            ],
            [
             0.3333333333333333,
             "#9c179e"
            ],
            [
             0.4444444444444444,
             "#bd3786"
            ],
            [
             0.5555555555555556,
             "#d8576b"
            ],
            [
             0.6666666666666666,
             "#ed7953"
            ],
            [
             0.7777777777777778,
             "#fb9f3a"
            ],
            [
             0.8888888888888888,
             "#fdca26"
            ],
            [
             1,
             "#f0f921"
            ]
           ],
           "sequentialminus": [
            [
             0,
             "#0d0887"
            ],
            [
             0.1111111111111111,
             "#46039f"
            ],
            [
             0.2222222222222222,
             "#7201a8"
            ],
            [
             0.3333333333333333,
             "#9c179e"
            ],
            [
             0.4444444444444444,
             "#bd3786"
            ],
            [
             0.5555555555555556,
             "#d8576b"
            ],
            [
             0.6666666666666666,
             "#ed7953"
            ],
            [
             0.7777777777777778,
             "#fb9f3a"
            ],
            [
             0.8888888888888888,
             "#fdca26"
            ],
            [
             1,
             "#f0f921"
            ]
           ]
          },
          "colorway": [
           "#636efa",
           "#EF553B",
           "#00cc96",
           "#ab63fa",
           "#FFA15A",
           "#19d3f3",
           "#FF6692",
           "#B6E880",
           "#FF97FF",
           "#FECB52"
          ],
          "font": {
           "color": "#2a3f5f"
          },
          "geo": {
           "bgcolor": "white",
           "lakecolor": "white",
           "landcolor": "#E5ECF6",
           "showlakes": true,
           "showland": true,
           "subunitcolor": "white"
          },
          "hoverlabel": {
           "align": "left"
          },
          "hovermode": "closest",
          "mapbox": {
           "style": "light"
          },
          "paper_bgcolor": "white",
          "plot_bgcolor": "#E5ECF6",
          "polar": {
           "angularaxis": {
            "gridcolor": "white",
            "linecolor": "white",
            "ticks": ""
           },
           "bgcolor": "#E5ECF6",
           "radialaxis": {
            "gridcolor": "white",
            "linecolor": "white",
            "ticks": ""
           }
          },
          "scene": {
           "xaxis": {
            "backgroundcolor": "#E5ECF6",
            "gridcolor": "white",
            "gridwidth": 2,
            "linecolor": "white",
            "showbackground": true,
            "ticks": "",
            "zerolinecolor": "white"
           },
           "yaxis": {
            "backgroundcolor": "#E5ECF6",
            "gridcolor": "white",
            "gridwidth": 2,
            "linecolor": "white",
            "showbackground": true,
            "ticks": "",
            "zerolinecolor": "white"
           },
           "zaxis": {
            "backgroundcolor": "#E5ECF6",
            "gridcolor": "white",
            "gridwidth": 2,
            "linecolor": "white",
            "showbackground": true,
            "ticks": "",
            "zerolinecolor": "white"
           }
          },
          "shapedefaults": {
           "line": {
            "color": "#2a3f5f"
           }
          },
          "ternary": {
           "aaxis": {
            "gridcolor": "white",
            "linecolor": "white",
            "ticks": ""
           },
           "baxis": {
            "gridcolor": "white",
            "linecolor": "white",
            "ticks": ""
           },
           "bgcolor": "#E5ECF6",
           "caxis": {
            "gridcolor": "white",
            "linecolor": "white",
            "ticks": ""
           }
          },
          "title": {
           "x": 0.05
          },
          "xaxis": {
           "automargin": true,
           "gridcolor": "white",
           "linecolor": "white",
           "ticks": "",
           "title": {
            "standoff": 15
           },
           "zerolinecolor": "white",
           "zerolinewidth": 2
          },
          "yaxis": {
           "automargin": true,
           "gridcolor": "white",
           "linecolor": "white",
           "ticks": "",
           "title": {
            "standoff": 15
           },
           "zerolinecolor": "white",
           "zerolinewidth": 2
          }
         }
        },
        "title": {
         "text": "Inner CV RMSEs - Outer Fold 3"
        },
        "width": 800,
        "xaxis": {
         "tickangle": -90
        },
        "yaxis": {
         "title": {
          "text": "Validation RMSE"
         }
        }
       }
      }
     },
     "metadata": {},
     "output_type": "display_data"
    },
    {
     "name": "stdout",
     "output_type": "stream",
     "text": [
      "\n",
      "[Outer Fold 3] Test RMSE: 1.5653\n",
      "\n",
      "========== OUTER FOLD 4/5 ==========\n",
      "  Config 1/4 | Inner Mean RMSE: 0.9671\n",
      "  Config 2/4 | Inner Mean RMSE: 0.8235\n",
      "  Config 3/4 | Inner Mean RMSE: 0.8699\n",
      "  Config 4/4 | Inner Mean RMSE: 0.9868\n",
      "\n",
      "✅ Best config for outer fold 4:\n",
      "{'input_size': 13, 'hidden_sizes': [5, 5], 'output_size': 1, 'population_size': 10, 'tournament_size': 3, 'generations': 30, 'mutation_rate': 0.7}\n",
      "Best inner RMSE: 0.8235\n",
      "\n",
      "Statistical test on inner fold scores:\n",
      "Friedman test statistic: 2.2000, p-value: 0.5319\n",
      "No significant differences found between configs.\n"
     ]
    },
    {
     "data": {
      "application/vnd.plotly.v1+json": {
       "config": {
        "plotlyServerURL": "https://plot.ly"
       },
       "data": [
        {
         "boxpoints": "all",
         "fillcolor": "rgba(108, 140, 200, 0.3)",
         "jitter": 0,
         "line": {
          "color": "rgba(108, 140, 200, 1)"
         },
         "marker": {
          "color": "rgba(108, 140, 200, 1)"
         },
         "pointpos": 0,
         "type": "box",
         "x": [
          "Config 1<br>input_size: 13<br>hidden_sizes: [5, 5]<br>output_size: 1<br>population_size: 10<br>tournament_size: 3<br>generations: 30<br>mutation_rate: 0.5",
          "Config 1<br>input_size: 13<br>hidden_sizes: [5, 5]<br>output_size: 1<br>population_size: 10<br>tournament_size: 3<br>generations: 30<br>mutation_rate: 0.5",
          "Config 1<br>input_size: 13<br>hidden_sizes: [5, 5]<br>output_size: 1<br>population_size: 10<br>tournament_size: 3<br>generations: 30<br>mutation_rate: 0.5",
          "Config 2<br>input_size: 13<br>hidden_sizes: [5, 5]<br>output_size: 1<br>population_size: 10<br>tournament_size: 3<br>generations: 30<br>mutation_rate: 0.7",
          "Config 2<br>input_size: 13<br>hidden_sizes: [5, 5]<br>output_size: 1<br>population_size: 10<br>tournament_size: 3<br>generations: 30<br>mutation_rate: 0.7",
          "Config 2<br>input_size: 13<br>hidden_sizes: [5, 5]<br>output_size: 1<br>population_size: 10<br>tournament_size: 3<br>generations: 30<br>mutation_rate: 0.7",
          "Config 3<br>input_size: 13<br>hidden_sizes: [5, 5]<br>output_size: 1<br>population_size: 10<br>tournament_size: 3<br>generations: 50<br>mutation_rate: 0.5",
          "Config 3<br>input_size: 13<br>hidden_sizes: [5, 5]<br>output_size: 1<br>population_size: 10<br>tournament_size: 3<br>generations: 50<br>mutation_rate: 0.5",
          "Config 3<br>input_size: 13<br>hidden_sizes: [5, 5]<br>output_size: 1<br>population_size: 10<br>tournament_size: 3<br>generations: 50<br>mutation_rate: 0.5",
          "Config 4<br>input_size: 13<br>hidden_sizes: [5, 5]<br>output_size: 1<br>population_size: 10<br>tournament_size: 3<br>generations: 50<br>mutation_rate: 0.7",
          "Config 4<br>input_size: 13<br>hidden_sizes: [5, 5]<br>output_size: 1<br>population_size: 10<br>tournament_size: 3<br>generations: 50<br>mutation_rate: 0.7",
          "Config 4<br>input_size: 13<br>hidden_sizes: [5, 5]<br>output_size: 1<br>population_size: 10<br>tournament_size: 3<br>generations: 50<br>mutation_rate: 0.7"
         ],
         "y": {
          "bdata": "KnOzeiiq4z/sctQ3Jff1P/zUV6fvPe0/GAfA3XKf5j88Oy9N/KfyP7Ir0rx2H+M/8sPwO0An5D8tmoPtPIT0PwXSFzYKVOY/4GR8H1CN6z9Zdwp8bBHzPw5zgO6+C+0/",
          "dtype": "f8"
         }
        }
       ],
       "layout": {
        "height": 400,
        "margin": {
         "b": 20,
         "l": 50,
         "r": 50,
         "t": 50
        },
        "plot_bgcolor": "#f1f1f1",
        "showlegend": false,
        "template": {
         "data": {
          "bar": [
           {
            "error_x": {
             "color": "#2a3f5f"
            },
            "error_y": {
             "color": "#2a3f5f"
            },
            "marker": {
             "line": {
              "color": "#E5ECF6",
              "width": 0.5
             },
             "pattern": {
              "fillmode": "overlay",
              "size": 10,
              "solidity": 0.2
             }
            },
            "type": "bar"
           }
          ],
          "barpolar": [
           {
            "marker": {
             "line": {
              "color": "#E5ECF6",
              "width": 0.5
             },
             "pattern": {
              "fillmode": "overlay",
              "size": 10,
              "solidity": 0.2
             }
            },
            "type": "barpolar"
           }
          ],
          "carpet": [
           {
            "aaxis": {
             "endlinecolor": "#2a3f5f",
             "gridcolor": "white",
             "linecolor": "white",
             "minorgridcolor": "white",
             "startlinecolor": "#2a3f5f"
            },
            "baxis": {
             "endlinecolor": "#2a3f5f",
             "gridcolor": "white",
             "linecolor": "white",
             "minorgridcolor": "white",
             "startlinecolor": "#2a3f5f"
            },
            "type": "carpet"
           }
          ],
          "choropleth": [
           {
            "colorbar": {
             "outlinewidth": 0,
             "ticks": ""
            },
            "type": "choropleth"
           }
          ],
          "contour": [
           {
            "colorbar": {
             "outlinewidth": 0,
             "ticks": ""
            },
            "colorscale": [
             [
              0,
              "#0d0887"
             ],
             [
              0.1111111111111111,
              "#46039f"
             ],
             [
              0.2222222222222222,
              "#7201a8"
             ],
             [
              0.3333333333333333,
              "#9c179e"
             ],
             [
              0.4444444444444444,
              "#bd3786"
             ],
             [
              0.5555555555555556,
              "#d8576b"
             ],
             [
              0.6666666666666666,
              "#ed7953"
             ],
             [
              0.7777777777777778,
              "#fb9f3a"
             ],
             [
              0.8888888888888888,
              "#fdca26"
             ],
             [
              1,
              "#f0f921"
             ]
            ],
            "type": "contour"
           }
          ],
          "contourcarpet": [
           {
            "colorbar": {
             "outlinewidth": 0,
             "ticks": ""
            },
            "type": "contourcarpet"
           }
          ],
          "heatmap": [
           {
            "colorbar": {
             "outlinewidth": 0,
             "ticks": ""
            },
            "colorscale": [
             [
              0,
              "#0d0887"
             ],
             [
              0.1111111111111111,
              "#46039f"
             ],
             [
              0.2222222222222222,
              "#7201a8"
             ],
             [
              0.3333333333333333,
              "#9c179e"
             ],
             [
              0.4444444444444444,
              "#bd3786"
             ],
             [
              0.5555555555555556,
              "#d8576b"
             ],
             [
              0.6666666666666666,
              "#ed7953"
             ],
             [
              0.7777777777777778,
              "#fb9f3a"
             ],
             [
              0.8888888888888888,
              "#fdca26"
             ],
             [
              1,
              "#f0f921"
             ]
            ],
            "type": "heatmap"
           }
          ],
          "histogram": [
           {
            "marker": {
             "pattern": {
              "fillmode": "overlay",
              "size": 10,
              "solidity": 0.2
             }
            },
            "type": "histogram"
           }
          ],
          "histogram2d": [
           {
            "colorbar": {
             "outlinewidth": 0,
             "ticks": ""
            },
            "colorscale": [
             [
              0,
              "#0d0887"
             ],
             [
              0.1111111111111111,
              "#46039f"
             ],
             [
              0.2222222222222222,
              "#7201a8"
             ],
             [
              0.3333333333333333,
              "#9c179e"
             ],
             [
              0.4444444444444444,
              "#bd3786"
             ],
             [
              0.5555555555555556,
              "#d8576b"
             ],
             [
              0.6666666666666666,
              "#ed7953"
             ],
             [
              0.7777777777777778,
              "#fb9f3a"
             ],
             [
              0.8888888888888888,
              "#fdca26"
             ],
             [
              1,
              "#f0f921"
             ]
            ],
            "type": "histogram2d"
           }
          ],
          "histogram2dcontour": [
           {
            "colorbar": {
             "outlinewidth": 0,
             "ticks": ""
            },
            "colorscale": [
             [
              0,
              "#0d0887"
             ],
             [
              0.1111111111111111,
              "#46039f"
             ],
             [
              0.2222222222222222,
              "#7201a8"
             ],
             [
              0.3333333333333333,
              "#9c179e"
             ],
             [
              0.4444444444444444,
              "#bd3786"
             ],
             [
              0.5555555555555556,
              "#d8576b"
             ],
             [
              0.6666666666666666,
              "#ed7953"
             ],
             [
              0.7777777777777778,
              "#fb9f3a"
             ],
             [
              0.8888888888888888,
              "#fdca26"
             ],
             [
              1,
              "#f0f921"
             ]
            ],
            "type": "histogram2dcontour"
           }
          ],
          "mesh3d": [
           {
            "colorbar": {
             "outlinewidth": 0,
             "ticks": ""
            },
            "type": "mesh3d"
           }
          ],
          "parcoords": [
           {
            "line": {
             "colorbar": {
              "outlinewidth": 0,
              "ticks": ""
             }
            },
            "type": "parcoords"
           }
          ],
          "pie": [
           {
            "automargin": true,
            "type": "pie"
           }
          ],
          "scatter": [
           {
            "fillpattern": {
             "fillmode": "overlay",
             "size": 10,
             "solidity": 0.2
            },
            "type": "scatter"
           }
          ],
          "scatter3d": [
           {
            "line": {
             "colorbar": {
              "outlinewidth": 0,
              "ticks": ""
             }
            },
            "marker": {
             "colorbar": {
              "outlinewidth": 0,
              "ticks": ""
             }
            },
            "type": "scatter3d"
           }
          ],
          "scattercarpet": [
           {
            "marker": {
             "colorbar": {
              "outlinewidth": 0,
              "ticks": ""
             }
            },
            "type": "scattercarpet"
           }
          ],
          "scattergeo": [
           {
            "marker": {
             "colorbar": {
              "outlinewidth": 0,
              "ticks": ""
             }
            },
            "type": "scattergeo"
           }
          ],
          "scattergl": [
           {
            "marker": {
             "colorbar": {
              "outlinewidth": 0,
              "ticks": ""
             }
            },
            "type": "scattergl"
           }
          ],
          "scattermap": [
           {
            "marker": {
             "colorbar": {
              "outlinewidth": 0,
              "ticks": ""
             }
            },
            "type": "scattermap"
           }
          ],
          "scattermapbox": [
           {
            "marker": {
             "colorbar": {
              "outlinewidth": 0,
              "ticks": ""
             }
            },
            "type": "scattermapbox"
           }
          ],
          "scatterpolar": [
           {
            "marker": {
             "colorbar": {
              "outlinewidth": 0,
              "ticks": ""
             }
            },
            "type": "scatterpolar"
           }
          ],
          "scatterpolargl": [
           {
            "marker": {
             "colorbar": {
              "outlinewidth": 0,
              "ticks": ""
             }
            },
            "type": "scatterpolargl"
           }
          ],
          "scatterternary": [
           {
            "marker": {
             "colorbar": {
              "outlinewidth": 0,
              "ticks": ""
             }
            },
            "type": "scatterternary"
           }
          ],
          "surface": [
           {
            "colorbar": {
             "outlinewidth": 0,
             "ticks": ""
            },
            "colorscale": [
             [
              0,
              "#0d0887"
             ],
             [
              0.1111111111111111,
              "#46039f"
             ],
             [
              0.2222222222222222,
              "#7201a8"
             ],
             [
              0.3333333333333333,
              "#9c179e"
             ],
             [
              0.4444444444444444,
              "#bd3786"
             ],
             [
              0.5555555555555556,
              "#d8576b"
             ],
             [
              0.6666666666666666,
              "#ed7953"
             ],
             [
              0.7777777777777778,
              "#fb9f3a"
             ],
             [
              0.8888888888888888,
              "#fdca26"
             ],
             [
              1,
              "#f0f921"
             ]
            ],
            "type": "surface"
           }
          ],
          "table": [
           {
            "cells": {
             "fill": {
              "color": "#EBF0F8"
             },
             "line": {
              "color": "white"
             }
            },
            "header": {
             "fill": {
              "color": "#C8D4E3"
             },
             "line": {
              "color": "white"
             }
            },
            "type": "table"
           }
          ]
         },
         "layout": {
          "annotationdefaults": {
           "arrowcolor": "#2a3f5f",
           "arrowhead": 0,
           "arrowwidth": 1
          },
          "autotypenumbers": "strict",
          "coloraxis": {
           "colorbar": {
            "outlinewidth": 0,
            "ticks": ""
           }
          },
          "colorscale": {
           "diverging": [
            [
             0,
             "#8e0152"
            ],
            [
             0.1,
             "#c51b7d"
            ],
            [
             0.2,
             "#de77ae"
            ],
            [
             0.3,
             "#f1b6da"
            ],
            [
             0.4,
             "#fde0ef"
            ],
            [
             0.5,
             "#f7f7f7"
            ],
            [
             0.6,
             "#e6f5d0"
            ],
            [
             0.7,
             "#b8e186"
            ],
            [
             0.8,
             "#7fbc41"
            ],
            [
             0.9,
             "#4d9221"
            ],
            [
             1,
             "#276419"
            ]
           ],
           "sequential": [
            [
             0,
             "#0d0887"
            ],
            [
             0.1111111111111111,
             "#46039f"
            ],
            [
             0.2222222222222222,
             "#7201a8"
            ],
            [
             0.3333333333333333,
             "#9c179e"
            ],
            [
             0.4444444444444444,
             "#bd3786"
            ],
            [
             0.5555555555555556,
             "#d8576b"
            ],
            [
             0.6666666666666666,
             "#ed7953"
            ],
            [
             0.7777777777777778,
             "#fb9f3a"
            ],
            [
             0.8888888888888888,
             "#fdca26"
            ],
            [
             1,
             "#f0f921"
            ]
           ],
           "sequentialminus": [
            [
             0,
             "#0d0887"
            ],
            [
             0.1111111111111111,
             "#46039f"
            ],
            [
             0.2222222222222222,
             "#7201a8"
            ],
            [
             0.3333333333333333,
             "#9c179e"
            ],
            [
             0.4444444444444444,
             "#bd3786"
            ],
            [
             0.5555555555555556,
             "#d8576b"
            ],
            [
             0.6666666666666666,
             "#ed7953"
            ],
            [
             0.7777777777777778,
             "#fb9f3a"
            ],
            [
             0.8888888888888888,
             "#fdca26"
            ],
            [
             1,
             "#f0f921"
            ]
           ]
          },
          "colorway": [
           "#636efa",
           "#EF553B",
           "#00cc96",
           "#ab63fa",
           "#FFA15A",
           "#19d3f3",
           "#FF6692",
           "#B6E880",
           "#FF97FF",
           "#FECB52"
          ],
          "font": {
           "color": "#2a3f5f"
          },
          "geo": {
           "bgcolor": "white",
           "lakecolor": "white",
           "landcolor": "#E5ECF6",
           "showlakes": true,
           "showland": true,
           "subunitcolor": "white"
          },
          "hoverlabel": {
           "align": "left"
          },
          "hovermode": "closest",
          "mapbox": {
           "style": "light"
          },
          "paper_bgcolor": "white",
          "plot_bgcolor": "#E5ECF6",
          "polar": {
           "angularaxis": {
            "gridcolor": "white",
            "linecolor": "white",
            "ticks": ""
           },
           "bgcolor": "#E5ECF6",
           "radialaxis": {
            "gridcolor": "white",
            "linecolor": "white",
            "ticks": ""
           }
          },
          "scene": {
           "xaxis": {
            "backgroundcolor": "#E5ECF6",
            "gridcolor": "white",
            "gridwidth": 2,
            "linecolor": "white",
            "showbackground": true,
            "ticks": "",
            "zerolinecolor": "white"
           },
           "yaxis": {
            "backgroundcolor": "#E5ECF6",
            "gridcolor": "white",
            "gridwidth": 2,
            "linecolor": "white",
            "showbackground": true,
            "ticks": "",
            "zerolinecolor": "white"
           },
           "zaxis": {
            "backgroundcolor": "#E5ECF6",
            "gridcolor": "white",
            "gridwidth": 2,
            "linecolor": "white",
            "showbackground": true,
            "ticks": "",
            "zerolinecolor": "white"
           }
          },
          "shapedefaults": {
           "line": {
            "color": "#2a3f5f"
           }
          },
          "ternary": {
           "aaxis": {
            "gridcolor": "white",
            "linecolor": "white",
            "ticks": ""
           },
           "baxis": {
            "gridcolor": "white",
            "linecolor": "white",
            "ticks": ""
           },
           "bgcolor": "#E5ECF6",
           "caxis": {
            "gridcolor": "white",
            "linecolor": "white",
            "ticks": ""
           }
          },
          "title": {
           "x": 0.05
          },
          "xaxis": {
           "automargin": true,
           "gridcolor": "white",
           "linecolor": "white",
           "ticks": "",
           "title": {
            "standoff": 15
           },
           "zerolinecolor": "white",
           "zerolinewidth": 2
          },
          "yaxis": {
           "automargin": true,
           "gridcolor": "white",
           "linecolor": "white",
           "ticks": "",
           "title": {
            "standoff": 15
           },
           "zerolinecolor": "white",
           "zerolinewidth": 2
          }
         }
        },
        "title": {
         "text": "Inner CV RMSEs - Outer Fold 4"
        },
        "width": 800,
        "xaxis": {
         "tickangle": -90
        },
        "yaxis": {
         "title": {
          "text": "Validation RMSE"
         }
        }
       }
      }
     },
     "metadata": {},
     "output_type": "display_data"
    },
    {
     "name": "stdout",
     "output_type": "stream",
     "text": [
      "\n",
      "[Outer Fold 4] Test RMSE: 1.1205\n",
      "\n",
      "========== OUTER FOLD 5/5 ==========\n",
      "  Config 1/4 | Inner Mean RMSE: 1.0480\n",
      "  Config 2/4 | Inner Mean RMSE: 0.9020\n",
      "  Config 3/4 | Inner Mean RMSE: 0.9893\n",
      "  Config 4/4 | Inner Mean RMSE: 1.1517\n",
      "\n",
      "✅ Best config for outer fold 5:\n",
      "{'input_size': 13, 'hidden_sizes': [5, 5], 'output_size': 1, 'population_size': 10, 'tournament_size': 3, 'generations': 30, 'mutation_rate': 0.7}\n",
      "Best inner RMSE: 0.9020\n",
      "\n",
      "Statistical test on inner fold scores:\n",
      "Friedman test statistic: 4.2000, p-value: 0.2407\n",
      "No significant differences found between configs.\n"
     ]
    },
    {
     "data": {
      "application/vnd.plotly.v1+json": {
       "config": {
        "plotlyServerURL": "https://plot.ly"
       },
       "data": [
        {
         "boxpoints": "all",
         "fillcolor": "rgba(108, 140, 200, 0.3)",
         "jitter": 0,
         "line": {
          "color": "rgba(108, 140, 200, 1)"
         },
         "marker": {
          "color": "rgba(108, 140, 200, 1)"
         },
         "pointpos": 0,
         "type": "box",
         "x": [
          "Config 1<br>input_size: 13<br>hidden_sizes: [5, 5]<br>output_size: 1<br>population_size: 10<br>tournament_size: 3<br>generations: 30<br>mutation_rate: 0.5",
          "Config 1<br>input_size: 13<br>hidden_sizes: [5, 5]<br>output_size: 1<br>population_size: 10<br>tournament_size: 3<br>generations: 30<br>mutation_rate: 0.5",
          "Config 1<br>input_size: 13<br>hidden_sizes: [5, 5]<br>output_size: 1<br>population_size: 10<br>tournament_size: 3<br>generations: 30<br>mutation_rate: 0.5",
          "Config 2<br>input_size: 13<br>hidden_sizes: [5, 5]<br>output_size: 1<br>population_size: 10<br>tournament_size: 3<br>generations: 30<br>mutation_rate: 0.7",
          "Config 2<br>input_size: 13<br>hidden_sizes: [5, 5]<br>output_size: 1<br>population_size: 10<br>tournament_size: 3<br>generations: 30<br>mutation_rate: 0.7",
          "Config 2<br>input_size: 13<br>hidden_sizes: [5, 5]<br>output_size: 1<br>population_size: 10<br>tournament_size: 3<br>generations: 30<br>mutation_rate: 0.7",
          "Config 3<br>input_size: 13<br>hidden_sizes: [5, 5]<br>output_size: 1<br>population_size: 10<br>tournament_size: 3<br>generations: 50<br>mutation_rate: 0.5",
          "Config 3<br>input_size: 13<br>hidden_sizes: [5, 5]<br>output_size: 1<br>population_size: 10<br>tournament_size: 3<br>generations: 50<br>mutation_rate: 0.5",
          "Config 3<br>input_size: 13<br>hidden_sizes: [5, 5]<br>output_size: 1<br>population_size: 10<br>tournament_size: 3<br>generations: 50<br>mutation_rate: 0.5",
          "Config 4<br>input_size: 13<br>hidden_sizes: [5, 5]<br>output_size: 1<br>population_size: 10<br>tournament_size: 3<br>generations: 50<br>mutation_rate: 0.7",
          "Config 4<br>input_size: 13<br>hidden_sizes: [5, 5]<br>output_size: 1<br>population_size: 10<br>tournament_size: 3<br>generations: 50<br>mutation_rate: 0.7",
          "Config 4<br>input_size: 13<br>hidden_sizes: [5, 5]<br>output_size: 1<br>population_size: 10<br>tournament_size: 3<br>generations: 50<br>mutation_rate: 0.7"
         ],
         "y": {
          "bdata": "8HwaSPVt6z9LrubAPrP6P/x0yBl8x+M/higVc5aD5z+WOvr/gvX2P8VqBI1QKOE/8/rM/2068j8cPyVrs5b3P2BHuNJYq9Y/ho8XCIH96z9AbhF0ZCn5P8VBsqb8H/A/",
          "dtype": "f8"
         }
        }
       ],
       "layout": {
        "height": 400,
        "margin": {
         "b": 20,
         "l": 50,
         "r": 50,
         "t": 50
        },
        "plot_bgcolor": "#f1f1f1",
        "showlegend": false,
        "template": {
         "data": {
          "bar": [
           {
            "error_x": {
             "color": "#2a3f5f"
            },
            "error_y": {
             "color": "#2a3f5f"
            },
            "marker": {
             "line": {
              "color": "#E5ECF6",
              "width": 0.5
             },
             "pattern": {
              "fillmode": "overlay",
              "size": 10,
              "solidity": 0.2
             }
            },
            "type": "bar"
           }
          ],
          "barpolar": [
           {
            "marker": {
             "line": {
              "color": "#E5ECF6",
              "width": 0.5
             },
             "pattern": {
              "fillmode": "overlay",
              "size": 10,
              "solidity": 0.2
             }
            },
            "type": "barpolar"
           }
          ],
          "carpet": [
           {
            "aaxis": {
             "endlinecolor": "#2a3f5f",
             "gridcolor": "white",
             "linecolor": "white",
             "minorgridcolor": "white",
             "startlinecolor": "#2a3f5f"
            },
            "baxis": {
             "endlinecolor": "#2a3f5f",
             "gridcolor": "white",
             "linecolor": "white",
             "minorgridcolor": "white",
             "startlinecolor": "#2a3f5f"
            },
            "type": "carpet"
           }
          ],
          "choropleth": [
           {
            "colorbar": {
             "outlinewidth": 0,
             "ticks": ""
            },
            "type": "choropleth"
           }
          ],
          "contour": [
           {
            "colorbar": {
             "outlinewidth": 0,
             "ticks": ""
            },
            "colorscale": [
             [
              0,
              "#0d0887"
             ],
             [
              0.1111111111111111,
              "#46039f"
             ],
             [
              0.2222222222222222,
              "#7201a8"
             ],
             [
              0.3333333333333333,
              "#9c179e"
             ],
             [
              0.4444444444444444,
              "#bd3786"
             ],
             [
              0.5555555555555556,
              "#d8576b"
             ],
             [
              0.6666666666666666,
              "#ed7953"
             ],
             [
              0.7777777777777778,
              "#fb9f3a"
             ],
             [
              0.8888888888888888,
              "#fdca26"
             ],
             [
              1,
              "#f0f921"
             ]
            ],
            "type": "contour"
           }
          ],
          "contourcarpet": [
           {
            "colorbar": {
             "outlinewidth": 0,
             "ticks": ""
            },
            "type": "contourcarpet"
           }
          ],
          "heatmap": [
           {
            "colorbar": {
             "outlinewidth": 0,
             "ticks": ""
            },
            "colorscale": [
             [
              0,
              "#0d0887"
             ],
             [
              0.1111111111111111,
              "#46039f"
             ],
             [
              0.2222222222222222,
              "#7201a8"
             ],
             [
              0.3333333333333333,
              "#9c179e"
             ],
             [
              0.4444444444444444,
              "#bd3786"
             ],
             [
              0.5555555555555556,
              "#d8576b"
             ],
             [
              0.6666666666666666,
              "#ed7953"
             ],
             [
              0.7777777777777778,
              "#fb9f3a"
             ],
             [
              0.8888888888888888,
              "#fdca26"
             ],
             [
              1,
              "#f0f921"
             ]
            ],
            "type": "heatmap"
           }
          ],
          "histogram": [
           {
            "marker": {
             "pattern": {
              "fillmode": "overlay",
              "size": 10,
              "solidity": 0.2
             }
            },
            "type": "histogram"
           }
          ],
          "histogram2d": [
           {
            "colorbar": {
             "outlinewidth": 0,
             "ticks": ""
            },
            "colorscale": [
             [
              0,
              "#0d0887"
             ],
             [
              0.1111111111111111,
              "#46039f"
             ],
             [
              0.2222222222222222,
              "#7201a8"
             ],
             [
              0.3333333333333333,
              "#9c179e"
             ],
             [
              0.4444444444444444,
              "#bd3786"
             ],
             [
              0.5555555555555556,
              "#d8576b"
             ],
             [
              0.6666666666666666,
              "#ed7953"
             ],
             [
              0.7777777777777778,
              "#fb9f3a"
             ],
             [
              0.8888888888888888,
              "#fdca26"
             ],
             [
              1,
              "#f0f921"
             ]
            ],
            "type": "histogram2d"
           }
          ],
          "histogram2dcontour": [
           {
            "colorbar": {
             "outlinewidth": 0,
             "ticks": ""
            },
            "colorscale": [
             [
              0,
              "#0d0887"
             ],
             [
              0.1111111111111111,
              "#46039f"
             ],
             [
              0.2222222222222222,
              "#7201a8"
             ],
             [
              0.3333333333333333,
              "#9c179e"
             ],
             [
              0.4444444444444444,
              "#bd3786"
             ],
             [
              0.5555555555555556,
              "#d8576b"
             ],
             [
              0.6666666666666666,
              "#ed7953"
             ],
             [
              0.7777777777777778,
              "#fb9f3a"
             ],
             [
              0.8888888888888888,
              "#fdca26"
             ],
             [
              1,
              "#f0f921"
             ]
            ],
            "type": "histogram2dcontour"
           }
          ],
          "mesh3d": [
           {
            "colorbar": {
             "outlinewidth": 0,
             "ticks": ""
            },
            "type": "mesh3d"
           }
          ],
          "parcoords": [
           {
            "line": {
             "colorbar": {
              "outlinewidth": 0,
              "ticks": ""
             }
            },
            "type": "parcoords"
           }
          ],
          "pie": [
           {
            "automargin": true,
            "type": "pie"
           }
          ],
          "scatter": [
           {
            "fillpattern": {
             "fillmode": "overlay",
             "size": 10,
             "solidity": 0.2
            },
            "type": "scatter"
           }
          ],
          "scatter3d": [
           {
            "line": {
             "colorbar": {
              "outlinewidth": 0,
              "ticks": ""
             }
            },
            "marker": {
             "colorbar": {
              "outlinewidth": 0,
              "ticks": ""
             }
            },
            "type": "scatter3d"
           }
          ],
          "scattercarpet": [
           {
            "marker": {
             "colorbar": {
              "outlinewidth": 0,
              "ticks": ""
             }
            },
            "type": "scattercarpet"
           }
          ],
          "scattergeo": [
           {
            "marker": {
             "colorbar": {
              "outlinewidth": 0,
              "ticks": ""
             }
            },
            "type": "scattergeo"
           }
          ],
          "scattergl": [
           {
            "marker": {
             "colorbar": {
              "outlinewidth": 0,
              "ticks": ""
             }
            },
            "type": "scattergl"
           }
          ],
          "scattermap": [
           {
            "marker": {
             "colorbar": {
              "outlinewidth": 0,
              "ticks": ""
             }
            },
            "type": "scattermap"
           }
          ],
          "scattermapbox": [
           {
            "marker": {
             "colorbar": {
              "outlinewidth": 0,
              "ticks": ""
             }
            },
            "type": "scattermapbox"
           }
          ],
          "scatterpolar": [
           {
            "marker": {
             "colorbar": {
              "outlinewidth": 0,
              "ticks": ""
             }
            },
            "type": "scatterpolar"
           }
          ],
          "scatterpolargl": [
           {
            "marker": {
             "colorbar": {
              "outlinewidth": 0,
              "ticks": ""
             }
            },
            "type": "scatterpolargl"
           }
          ],
          "scatterternary": [
           {
            "marker": {
             "colorbar": {
              "outlinewidth": 0,
              "ticks": ""
             }
            },
            "type": "scatterternary"
           }
          ],
          "surface": [
           {
            "colorbar": {
             "outlinewidth": 0,
             "ticks": ""
            },
            "colorscale": [
             [
              0,
              "#0d0887"
             ],
             [
              0.1111111111111111,
              "#46039f"
             ],
             [
              0.2222222222222222,
              "#7201a8"
             ],
             [
              0.3333333333333333,
              "#9c179e"
             ],
             [
              0.4444444444444444,
              "#bd3786"
             ],
             [
              0.5555555555555556,
              "#d8576b"
             ],
             [
              0.6666666666666666,
              "#ed7953"
             ],
             [
              0.7777777777777778,
              "#fb9f3a"
             ],
             [
              0.8888888888888888,
              "#fdca26"
             ],
             [
              1,
              "#f0f921"
             ]
            ],
            "type": "surface"
           }
          ],
          "table": [
           {
            "cells": {
             "fill": {
              "color": "#EBF0F8"
             },
             "line": {
              "color": "white"
             }
            },
            "header": {
             "fill": {
              "color": "#C8D4E3"
             },
             "line": {
              "color": "white"
             }
            },
            "type": "table"
           }
          ]
         },
         "layout": {
          "annotationdefaults": {
           "arrowcolor": "#2a3f5f",
           "arrowhead": 0,
           "arrowwidth": 1
          },
          "autotypenumbers": "strict",
          "coloraxis": {
           "colorbar": {
            "outlinewidth": 0,
            "ticks": ""
           }
          },
          "colorscale": {
           "diverging": [
            [
             0,
             "#8e0152"
            ],
            [
             0.1,
             "#c51b7d"
            ],
            [
             0.2,
             "#de77ae"
            ],
            [
             0.3,
             "#f1b6da"
            ],
            [
             0.4,
             "#fde0ef"
            ],
            [
             0.5,
             "#f7f7f7"
            ],
            [
             0.6,
             "#e6f5d0"
            ],
            [
             0.7,
             "#b8e186"
            ],
            [
             0.8,
             "#7fbc41"
            ],
            [
             0.9,
             "#4d9221"
            ],
            [
             1,
             "#276419"
            ]
           ],
           "sequential": [
            [
             0,
             "#0d0887"
            ],
            [
             0.1111111111111111,
             "#46039f"
            ],
            [
             0.2222222222222222,
             "#7201a8"
            ],
            [
             0.3333333333333333,
             "#9c179e"
            ],
            [
             0.4444444444444444,
             "#bd3786"
            ],
            [
             0.5555555555555556,
             "#d8576b"
            ],
            [
             0.6666666666666666,
             "#ed7953"
            ],
            [
             0.7777777777777778,
             "#fb9f3a"
            ],
            [
             0.8888888888888888,
             "#fdca26"
            ],
            [
             1,
             "#f0f921"
            ]
           ],
           "sequentialminus": [
            [
             0,
             "#0d0887"
            ],
            [
             0.1111111111111111,
             "#46039f"
            ],
            [
             0.2222222222222222,
             "#7201a8"
            ],
            [
             0.3333333333333333,
             "#9c179e"
            ],
            [
             0.4444444444444444,
             "#bd3786"
            ],
            [
             0.5555555555555556,
             "#d8576b"
            ],
            [
             0.6666666666666666,
             "#ed7953"
            ],
            [
             0.7777777777777778,
             "#fb9f3a"
            ],
            [
             0.8888888888888888,
             "#fdca26"
            ],
            [
             1,
             "#f0f921"
            ]
           ]
          },
          "colorway": [
           "#636efa",
           "#EF553B",
           "#00cc96",
           "#ab63fa",
           "#FFA15A",
           "#19d3f3",
           "#FF6692",
           "#B6E880",
           "#FF97FF",
           "#FECB52"
          ],
          "font": {
           "color": "#2a3f5f"
          },
          "geo": {
           "bgcolor": "white",
           "lakecolor": "white",
           "landcolor": "#E5ECF6",
           "showlakes": true,
           "showland": true,
           "subunitcolor": "white"
          },
          "hoverlabel": {
           "align": "left"
          },
          "hovermode": "closest",
          "mapbox": {
           "style": "light"
          },
          "paper_bgcolor": "white",
          "plot_bgcolor": "#E5ECF6",
          "polar": {
           "angularaxis": {
            "gridcolor": "white",
            "linecolor": "white",
            "ticks": ""
           },
           "bgcolor": "#E5ECF6",
           "radialaxis": {
            "gridcolor": "white",
            "linecolor": "white",
            "ticks": ""
           }
          },
          "scene": {
           "xaxis": {
            "backgroundcolor": "#E5ECF6",
            "gridcolor": "white",
            "gridwidth": 2,
            "linecolor": "white",
            "showbackground": true,
            "ticks": "",
            "zerolinecolor": "white"
           },
           "yaxis": {
            "backgroundcolor": "#E5ECF6",
            "gridcolor": "white",
            "gridwidth": 2,
            "linecolor": "white",
            "showbackground": true,
            "ticks": "",
            "zerolinecolor": "white"
           },
           "zaxis": {
            "backgroundcolor": "#E5ECF6",
            "gridcolor": "white",
            "gridwidth": 2,
            "linecolor": "white",
            "showbackground": true,
            "ticks": "",
            "zerolinecolor": "white"
           }
          },
          "shapedefaults": {
           "line": {
            "color": "#2a3f5f"
           }
          },
          "ternary": {
           "aaxis": {
            "gridcolor": "white",
            "linecolor": "white",
            "ticks": ""
           },
           "baxis": {
            "gridcolor": "white",
            "linecolor": "white",
            "ticks": ""
           },
           "bgcolor": "#E5ECF6",
           "caxis": {
            "gridcolor": "white",
            "linecolor": "white",
            "ticks": ""
           }
          },
          "title": {
           "x": 0.05
          },
          "xaxis": {
           "automargin": true,
           "gridcolor": "white",
           "linecolor": "white",
           "ticks": "",
           "title": {
            "standoff": 15
           },
           "zerolinecolor": "white",
           "zerolinewidth": 2
          },
          "yaxis": {
           "automargin": true,
           "gridcolor": "white",
           "linecolor": "white",
           "ticks": "",
           "title": {
            "standoff": 15
           },
           "zerolinecolor": "white",
           "zerolinewidth": 2
          }
         }
        },
        "title": {
         "text": "Inner CV RMSEs - Outer Fold 5"
        },
        "width": 800,
        "xaxis": {
         "tickangle": -90
        },
        "yaxis": {
         "title": {
          "text": "Validation RMSE"
         }
        }
       }
      }
     },
     "metadata": {},
     "output_type": "display_data"
    },
    {
     "name": "stdout",
     "output_type": "stream",
     "text": [
      "\n",
      "[Outer Fold 5] Test RMSE: 1.2973\n",
      "\n",
      "================ Final Results ================\n",
      "Mean RMSE: 1.6543 ± 0.6722\n"
     ]
    }
   ],
   "source": [
    "# TREE_CONSTANTS = [random.uniform(0, 1) for _ in range(9)] + [-1.]\n",
    "# SLIM_VERSIONS = ['SLIM+SIG2', 'SLIM+SIG1', 'SLIM+ABS', 'SLIM*SIG2', 'SLIM*SIG1','SLIM*ABS']\n",
    "\n",
    "\n",
    "# Grid of parameters to test\n",
    "# param_grid = {\n",
    "#     'initializer': ['grow', 'rhh'],                   \n",
    "#     'sspace.p_constants': [0.1, 0.5],                \n",
    "#     'sspace.max_init_depth': [3],                                          \n",
    "#     'sspace.tree_constants': [TREE_CONSTANTS],        \n",
    "#     'pop_size': [50],                                                                       \n",
    "#     'generations': [30, 50],                         \n",
    "#     'ms_lower': [0],                               \n",
    "#     'ms_upper': [1],                               \n",
    "#     'reconstruct': [True],                   \n",
    "#     'slim_version': SLIM_VERSIONS,                                   \n",
    "#     'p_inflate': [0.5],                               \n",
    "#     'copy_parent': [True, False]                            \n",
    "# }\n",
    "\n",
    "# input_size = 13 \n",
    "\n",
    "param_grid = {\n",
    "    'input_size': [13],\n",
    "    'hidden_sizes': [[5, 5]], \n",
    "    'output_size': [1],\n",
    "    'population_size': [10],\n",
    "    'tournament_size': [3],\n",
    "    'generations': [30, 50],\n",
    "    'mutation_rate': [0.5, 0.7]\n",
    "}\n",
    "\n",
    "# Seeds to test for reproducibility and robustness\n",
    "seeds = [42, 123, 456]\n",
    "\n",
    "# Collecting results across seeds\n",
    "all_scores = []\n",
    "all_best_models = []\n",
    "all_results = []\n",
    "all_validation = []\n",
    "\n",
    "# Cross-validation loop with multiple seeds\n",
    "for seed in seeds:\n",
    "    print(f\"\\n=== Running with seed: {seed} ===\\n\")\n",
    "\n",
    "    # Ensuring reproducibility\n",
    "    random.seed(seed)\n",
    "    np.random.seed(seed)\n",
    "    torch.manual_seed(seed)\n",
    "\n",
    "    # Run nested cross-validation\n",
    "    scores, best_models, df_results, val_results = nested_cv_nn(\n",
    "        X=X, y=y,\n",
    "        param_grid=param_grid,\n",
    "        gp_class=slim,\n",
    "        k_outer=5, k_inner=3,\n",
    "        seed=seed\n",
    "    )\n",
    "\n",
    "    # Store results\n",
    "    all_scores.append(scores)\n",
    "    all_best_models.append(best_models)\n",
    "    all_results.append(df_results)\n",
    "    all_validation.append(val_results)"
   ]
  },
  {
   "cell_type": "code",
   "execution_count": 35,
   "id": "ce928a13",
   "metadata": {},
   "outputs": [
    {
     "name": "stdout",
     "output_type": "stream",
     "text": [
      "\n",
      "=== Final Results ===\n",
      "Mean RMSE across seeds: 1.7357 ± 0.4158\n",
      "\n",
      "Best configuration found in most runs:\n",
      "  generations: 30\n",
      "  hidden_sizes: (5, 5)\n",
      "  input_size: 13\n",
      "  mutation_rate: 0.7\n",
      "  output_size: 1\n",
      "  population_size: 10\n",
      "  tournament_size: 3\n"
     ]
    }
   ],
   "source": [
    "def dict_to_hashable(d):\n",
    "    def make_hashable(value):\n",
    "        if isinstance(value, dict):\n",
    "            return tuple(sorted((k, make_hashable(v)) for k, v in value.items()))\n",
    "        elif isinstance(value, list):\n",
    "            return tuple(make_hashable(x) for x in value)\n",
    "        elif isinstance(value, set):\n",
    "            return tuple(sorted(make_hashable(x) for x in value))\n",
    "        else:\n",
    "            return value\n",
    "    \n",
    "    return tuple(sorted((k, make_hashable(v)) for k, v in d.items()))\n",
    "\n",
    "# Now process the results\n",
    "mean_scores = np.mean([scores for scores in all_scores], axis=0)\n",
    "std_scores = np.std([scores for scores in all_scores], axis=0)\n",
    "\n",
    "try:\n",
    "    all_configs_hashed = [dict_to_hashable(config) for seed_models in all_best_models for config in seed_models]\n",
    "    config_counts = Counter(all_configs_hashed)\n",
    "    \n",
    "    if config_counts:\n",
    "        most_common_config_hash = config_counts.most_common(1)[0][0]\n",
    "        best_config = dict(most_common_config_hash)\n",
    "        # best_config = dict((k, dict(v) if isinstance(v, tuple) else v) \n",
    "        #                 for k, v in most_common_config_hash)\n",
    "        print(\"\\n=== Final Results ===\")\n",
    "        print(f\"Mean RMSE across seeds: {np.mean(mean_scores):.4f} ± {np.mean(std_scores):.4f}\")\n",
    "        print(\"\\nBest configuration found in most runs:\")\n",
    "        for k, v in best_config.items():\n",
    "            if isinstance(v, dict):\n",
    "                print(f\"  {k}:\")\n",
    "                for sub_k, sub_v in v.items():\n",
    "                    print(f\"    {sub_k}: {sub_v}\")\n",
    "            else:\n",
    "                print(f\"  {k}: {v}\")\n",
    "    else:\n",
    "        print(\"No valid configurations found in all_best_models\")\n",
    "except Exception as e:\n",
    "    print(f\"Error processing configurations: {str(e)}\")"
   ]
  },
  {
   "cell_type": "code",
   "execution_count": 37,
   "id": "8a2c8290",
   "metadata": {},
   "outputs": [],
   "source": [
    "best_config = {\n",
    "    'generations': 30,\n",
    "    'hidden_sizes': (5, 5),\n",
    "    'input_size': 13,\n",
    "    'mutation_rate': 0.7,\n",
    "    'output_size': 1,\n",
    "    'population_size': 10,\n",
    "    'tournament_size': 3\n",
    "}"
   ]
  },
  {
   "cell_type": "code",
   "execution_count": 38,
   "id": "15a88454",
   "metadata": {},
   "outputs": [],
   "source": [
    "def evaluate_gp_with_best_config(X, y, best_config, gp_class, k_outer=5, seed=42, verbose=True):\n",
    "    \n",
    "    outer_cv = KFold(n_splits=k_outer, shuffle=True, random_state=seed)\n",
    "    outer_scores = []\n",
    "    models = []\n",
    "\n",
    "    for fold_idx, (train_idx, test_idx) in enumerate(outer_cv.split(X)):\n",
    "        print(f\"\\n=== Outer Fold {fold_idx+1}/{k_outer} ===\")\n",
    "\n",
    "        X_train, X_test = X.iloc[train_idx], X.iloc[test_idx]\n",
    "        y_train, y_test = y.iloc[train_idx], y.iloc[test_idx]\n",
    "\n",
    "        # Scaling\n",
    "        x_scaler = RobustScaler()\n",
    "        y_scaler = RobustScaler()\n",
    "        X_train_scaled = x_scaler.fit_transform(X_train)\n",
    "        y_train_scaled = y_scaler.fit_transform(y_train.values.reshape(-1, 1)).flatten()\n",
    "        X_test_scaled = x_scaler.transform(X_test)\n",
    "        y_test_scaled = y_scaler.transform(y_test.values.reshape(-1, 1)).flatten()\n",
    "\n",
    "        X_train_tensor = torch.tensor(X_train_scaled, dtype=torch.float32)\n",
    "        y_train_tensor = torch.tensor(y_train_scaled, dtype=torch.float32)\n",
    "        X_test_tensor = torch.tensor(X_test_scaled, dtype=torch.float32)\n",
    "        y_test_tensor = torch.tensor(y_test_scaled, dtype=torch.float32)\n",
    "\n",
    "        model = CustomNN(\n",
    "            input_size=best_config['input_size'],\n",
    "            hidden_sizes=best_config['hidden_sizes'],\n",
    "            output_size=best_config['output_size']\n",
    "        )\n",
    "\n",
    "        criterion = nn.MSELoss()\n",
    "        optimizer = torch.optim.Adam(model.parameters(), lr=0.01)\n",
    "\n",
    "        for epoch in range(best_config['generations']):\n",
    "            model.train()\n",
    "            optimizer.zero_grad()\n",
    "            output = model(X_train_tensor).squeeze()\n",
    "            loss = criterion(output, y_train_tensor)\n",
    "            loss.backward()\n",
    "            optimizer.step()\n",
    "\n",
    "        model.eval()\n",
    "        models.append(model)\n",
    "\n",
    "        with torch.no_grad():\n",
    "            y_pred_scaled = model(X_test_tensor).squeeze().numpy()\n",
    "            y_pred_rescaled = y_scaler.inverse_transform(y_pred_scaled.reshape(-1, 1)).flatten()\n",
    "            rmse = np.sqrt(mean_squared_error(y_test, y_pred_rescaled))\n",
    "        print(f'Predicted Values: {y_pred_rescaled}')\n",
    "        print(f'Real Values: {y_test}')\n",
    "        print(f\"Fold {fold_idx+1} RMSE: {rmse:.4f}\")\n",
    "        outer_scores.append(rmse)\n",
    "\n",
    "    print(f\"\\n✅ Final RMSE across {k_outer} folds: {np.mean(outer_scores):.4f} ± {np.std(outer_scores):.4f}\")\n",
    "    return outer_scores, models"
   ]
  },
  {
   "cell_type": "code",
   "execution_count": 39,
   "id": "dd95de94",
   "metadata": {},
   "outputs": [
    {
     "name": "stdout",
     "output_type": "stream",
     "text": [
      "\n",
      "=== Outer Fold 1/5 ===\n",
      "Predicted Values: [87.79932  82.50595  86.66019  84.11343  84.30011  87.010056 84.64847\n",
      " 83.32999  87.78658  87.92191  86.43607  87.97793  87.97793  86.366516\n",
      " 87.97073  88.02166  87.94791  88.16615  87.97793  87.97793 ]\n",
      "Real Values: wing_tag\n",
      "G403    86.105469\n",
      "G428    81.693637\n",
      "G461    87.786195\n",
      "R407    86.161074\n",
      "R429    85.012931\n",
      "R466    87.113372\n",
      "B466    84.837126\n",
      "B463    83.464706\n",
      "B429    86.337352\n",
      "B402    87.896807\n",
      "V459    87.599568\n",
      "G468    87.594968\n",
      "R469    88.391720\n",
      "R464    87.450378\n",
      "B465    89.447581\n",
      "B427    89.010650\n",
      "B486    89.486007\n",
      "B438    88.984262\n",
      "V445    87.438467\n",
      "V490    91.211353\n",
      "Name: crude_protein, dtype: float64\n",
      "Fold 1 RMSE: 1.2540\n",
      "\n",
      "=== Outer Fold 2/5 ===\n",
      "Predicted Values: [87.802505 87.3916   87.82458  86.12674  85.53428  87.84663  87.66674\n",
      " 87.80059  83.5922   87.63764  87.87655  86.22123  87.8626   86.950005\n",
      " 87.66624  85.94905  88.73468  87.42146  86.95611 ]\n",
      "Real Values: wing_tag\n",
      "G424    87.533066\n",
      "G489    88.192384\n",
      "G494    86.246418\n",
      "R448    84.995081\n",
      "R442    86.381162\n",
      "B417    87.480878\n",
      "B444    87.418794\n",
      "V410    85.942517\n",
      "V437    86.555375\n",
      "V458    88.353869\n",
      "V483    87.264209\n",
      "V480    85.269934\n",
      "G473    87.897727\n",
      "G493    86.577366\n",
      "R427    87.278634\n",
      "R479    87.554925\n",
      "R421    88.330669\n",
      "B474    86.868516\n",
      "V436    88.842123\n",
      "Name: crude_protein, dtype: float64\n",
      "Fold 2 RMSE: 1.1769\n",
      "\n",
      "=== Outer Fold 3/5 ===\n",
      "Predicted Values: [88.16607  85.48107  87.10952  87.13203  85.98043  86.61037  86.436584\n",
      " 85.321754 87.34273  87.137436 86.78105  87.18353  85.173004 86.95584\n",
      " 89.0714   87.23199  79.334404 89.44556  89.310974]\n",
      "Real Values: wing_tag\n",
      "G465    85.959935\n",
      "G422    86.840986\n",
      "G480    88.246799\n",
      "G436    87.539881\n",
      "R471    86.511538\n",
      "R460    88.510242\n",
      "R478    85.978428\n",
      "B453    85.509742\n",
      "B477    87.162651\n",
      "B422    86.898559\n",
      "B495    88.564247\n",
      "V406    87.976444\n",
      "V439    73.837184\n",
      "R431    86.045111\n",
      "B425    87.666851\n",
      "B497    89.624502\n",
      "V419    86.577366\n",
      "V442    88.831522\n",
      "V476    88.999126\n",
      "Name: crude_protein, dtype: float64\n",
      "Fold 3 RMSE: 3.2941\n",
      "\n",
      "=== Outer Fold 4/5 ===\n",
      "Predicted Values: [87.12957  87.63431  85.49833  86.10964  87.646416 86.67977  86.97527\n",
      " 87.74543  88.91492  86.73025  87.60325  86.60196  87.95079  85.15305\n",
      " 87.65351  89.3112   87.69334  88.50218  88.26374 ]\n",
      "Real Values: wing_tag\n",
      "B410    86.587245\n",
      "V432    87.647804\n",
      "V453    86.172801\n",
      "V420    86.719745\n",
      "G487    87.758640\n",
      "G460    88.169092\n",
      "A631    87.937925\n",
      "G474    87.362812\n",
      "G423    88.581755\n",
      "A470    89.530410\n",
      "G415    87.147569\n",
      "R433    87.804272\n",
      "R476    89.009598\n",
      "R275    85.028494\n",
      "B483    87.694013\n",
      "B401    90.240536\n",
      "V403    87.820954\n",
      "V425    90.375587\n",
      "V428    88.825045\n",
      "Name: crude_protein, dtype: float64\n",
      "Fold 4 RMSE: 1.0227\n",
      "\n",
      "=== Outer Fold 5/5 ===\n",
      "Predicted Values: [87.49355  88.13214  85.77134  87.80506  87.22199  88.11424  88.07122\n",
      " 86.74495  88.57198  87.60106  86.8915   88.02075  88.04809  88.871765\n",
      " 88.20861  88.56143  87.91025  88.01226  88.109634]\n",
      "Real Values: wing_tag\n",
      "G439    86.143472\n",
      "G454    86.416898\n",
      "R497    86.836578\n",
      "R463    88.966240\n",
      "R191    84.750742\n",
      "R434    87.265701\n",
      "B411    88.209459\n",
      "V462    84.674187\n",
      "G448    88.437500\n",
      "G421    87.127568\n",
      "R445    87.966937\n",
      "R449    88.721884\n",
      "R462    89.077733\n",
      "B469    88.608826\n",
      "B493    88.430599\n",
      "B461    88.636682\n",
      "V465    88.909255\n",
      "V418    88.725712\n",
      "V454    88.507288\n",
      "Name: crude_protein, dtype: float64\n",
      "Fold 5 RMSE: 1.1032\n",
      "\n",
      "✅ Final RMSE across 5 folds: 1.5702 ± 0.8654\n"
     ]
    }
   ],
   "source": [
    "outer_scores, models = evaluate_gp_with_best_config(X, y, best_config, gp_class=slim, k_outer=5)"
   ]
  },
  {
   "cell_type": "markdown",
   "id": "4bab84e3",
   "metadata": {},
   "source": [
    "## <a id=\"error-estimation\"></a> \n",
    "<div style=\"background-color: hsla(120, 71.40%, 43.90%, 0.30); padding: 10px; border-radius: 8px; text-align: center; margin-top: 20px; margin-bottom: 20px;\">\n",
    "    <h3 style=\"color: white; margin: 0;\">Estimating the predictive error</h3>\n",
    "</div>\n",
    "\n",
    "[Back to Index](#idx)"
   ]
  },
  {
   "cell_type": "markdown",
   "id": "fa7f75e0",
   "metadata": {},
   "source": [
    "Why Rmse: RMSE assigns a higher weight to larger errors as errors are squared before they are averaged. This indicates that RMSE is much more useful when large errors are present and they drastically affect the model’s performance."
   ]
  }
 ],
 "metadata": {
  "kernelspec": {
   "display_name": "base",
   "language": "python",
   "name": "python3"
  },
  "language_info": {
   "codemirror_mode": {
    "name": "ipython",
    "version": 3
   },
   "file_extension": ".py",
   "mimetype": "text/x-python",
   "name": "python",
   "nbconvert_exporter": "python",
   "pygments_lexer": "ipython3",
   "version": "3.10.16"
  }
 },
 "nbformat": 4,
 "nbformat_minor": 5
}
