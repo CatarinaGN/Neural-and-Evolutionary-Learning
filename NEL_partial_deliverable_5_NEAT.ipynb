{
 "cells": [
  {
   "cell_type": "markdown",
   "id": "843c7148",
   "metadata": {},
   "source": [
    "<div style=\"display: flex; flex-direction: column; align-items: center; max-width: 100%; padding: 20px 0; margin: auto;\">\n",
    "    <img src=\"https://media.licdn.com/dms/image/v2/D4D3DAQFGx0XnuUvugA/image-scale_191_1128/image-scale_191_1128/0/1662458005755/nova_ims_information_management_school_cover?e=2147483647&v=beta&t=J3Q4LlZi36_4UAFhj2019QdtfXLn0kQwaX25jgaBhOQ\" \n",
    "         alt=\"Logo\" \n",
    "         style=\"width: 100%; max-width: 800px; height: auto; max-height: 150px; object-fit: cover; border: 3px solid hsla(120, 71.40%, 43.90%, 0.30); border-radius: 5px;\">\n",
    "    <div style=\"text-align: center; padding: 10px 0; max-width: 800px;\">\n",
    "        <h5 style=\"margin: 10px 0;\">This analysis is conducted as part of the <b><i>Neural and Evolutionary Learning</i></b> course, a component of the Master's program in Data Science and Advanced Analytics at the <b><u>Nova Information Management School</u></b>.</h5>\n",
    "    </div>\n",
    "    <h1 style=\"color: hsla(120, 71.40%, 43.90%, 0.30); margin: 10px 0;\"><b>Predict the Crude Protein Weight</b></h1>\n",
    "</div>"
   ]
  },
  {
   "cell_type": "markdown",
   "id": "487dd71d",
   "metadata": {},
   "source": [
    "<div style=\"text-align: center; margin: 20px 0;\">\n",
    "    <h3 style=\"margin-bottom: 15px;\"><u>Group 22</u></h3>\n",
    "    <table style=\"margin: 0 auto; border-collapse: collapse; width: 80%; max-width: 500px;\">\n",
    "        <thead>\n",
    "            <tr>\n",
    "                <th style=\"border-bottom: 1px solid #ddd; padding: 8px;\">Student Name</th>\n",
    "                <th style=\"border-bottom: 1px solid #ddd; padding: 8px;\">Student ID</th>\n",
    "            </tr>\n",
    "        </thead>\n",
    "        <tbody>\n",
    "            <tr>\n",
    "                <td style=\"border-bottom: 1px solid #ddd; padding: 8px;\">Catarina Nunes</td>\n",
    "                <td style=\"border-bottom: 1px solid #ddd; padding: 8px;\">20230083</td>\n",
    "            </tr>\n",
    "            <tr>\n",
    "                <td style=\"border-bottom: 1px solid #ddd; padding: 8px;\">Sofia Jacinto</td>\n",
    "                <td style=\"border-bottom: 1px solid #ddd; padding: 8px;\">20240598</td>\n",
    "            </tr>\n",
    "            <tr>\n",
    "                <td style=\"padding: 8px;\">José Cavaco</td>\n",
    "                <td style=\"padding: 8px;\"> 20240513</td>\n",
    "            </tr>\n",
    "        </tbody>\n",
    "    </table>\n",
    "</div>"
   ]
  },
  {
   "cell_type": "markdown",
   "id": "a6b8d4b7",
   "metadata": {},
   "source": [
    "<a id=\"idx\"></a>\n",
    "<div style=\"background-color: hsla(120, 71.40%, 43.90%, 0.30); padding: 10px; border-radius: 8px; text-align: center; margin-top: 20px; margin-bottom: 20px;\">\n",
    "    <h1 style=\"color: white; margin: 0;\">Index</h1>\n",
    "</div>\n",
    "\n",
    "1. [Preprocessing the data](#preprocessing)\n",
    "2. [Choosing the method and parameters](#method-selection)\n",
    "3. [Estimating the predictive error](#error-estimation)\n",
    "4. [Inducing the final model](#model-induction)\n",
    "5. [Testing the final model](#final-testing)"
   ]
  },
  {
   "cell_type": "markdown",
   "id": "1051ba14",
   "metadata": {},
   "source": [
    "#### Metadata"
   ]
  },
  {
   "cell_type": "markdown",
   "id": "b2dd9eb1",
   "metadata": {},
   "source": [
    "|Feature |Definition|\n",
    "|----|-----|\n",
    "|wing_tag |Chicken unique ID|\n",
    "|weight |The chicken total weight|\n",
    "|hot_carcass_weight |The weight of the carcass immediately after slaughter|\n",
    "|carcass_weight_with_head_and_legs |The weight of the carcass including the head and legs|\n",
    "|cold_carcass_weight| The weight of the carcass after cooling|\n",
    "|breast_weight |The weight of the breast meat of the chicken|\n",
    "|thigh_weight |The weight of the thigh meat of the chicken|\n",
    "|spleen |The weight of the chicken’s spleen|\n",
    "|liver |The weight of the chicken’s liver|\n",
    "|heart |The weight of the chicken’s heart|\n",
    "|intestine |The weight of the chicken’s intestine|\n",
    "|empty_muscular_stomach| Indicates the presence or absence of the empty muscular stomach of the chicken|\n",
    "|glandular_stomach |The weight of the chicken’s glandular stomach|\n",
    "|crude_protein| The weight of crude protein in the carcass|\n",
    "|ether_extract |The weight of ether extract, which measures the total fat in the carcass|"
   ]
  },
  {
   "cell_type": "markdown",
   "id": "9c90016a",
   "metadata": {},
   "source": [
    "#### Imports & Settings"
   ]
  },
  {
   "cell_type": "code",
   "execution_count": 1,
   "id": "6bdef737",
   "metadata": {},
   "outputs": [],
   "source": [
    "#pip install -r requirements.txt\n",
    "# pip install neat-python"
   ]
  },
  {
   "cell_type": "code",
   "execution_count": 2,
   "id": "7589b895",
   "metadata": {},
   "outputs": [
    {
     "name": "stderr",
     "output_type": "stream",
     "text": [
      "C:\\Users\\catar\\AppData\\Local\\Temp\\ipykernel_35532\\1765553042.py:59: DeprecationWarning: The `gsgp_slim` package is deprecated. Please use the `slim_gsgp` package instead: https://pypi.org/project/slim_gsgp/\n",
      "  from slim.main_gp import gp\n"
     ]
    }
   ],
   "source": [
    "# Standard library imports\n",
    "import os\n",
    "import gc\n",
    "import pickle\n",
    "import datetime\n",
    "import random\n",
    "import warnings\n",
    "from collections import Counter\n",
    "from itertools import product\n",
    "\n",
    "# Third-party numerical/scientific computing\n",
    "import numpy as np\n",
    "import pandas as pd\n",
    "import scikit_posthocs as sp\n",
    "from scipy.stats import wilcoxon, friedmanchisquare\n",
    "\n",
    "# Visualization\n",
    "import matplotlib.pyplot as plt\n",
    "import seaborn as sns\n",
    "from mlxtend.plotting import plot_decision_regions\n",
    "import plotly.express as px\n",
    "import plotly.graph_objects as go\n",
    "from plotly.subplots import make_subplots\n",
    "from tqdm import tqdm\n",
    "from IPython.display import display, HTML\n",
    "\n",
    "# Machine Learning\n",
    "from sklearn.datasets import fetch_openml\n",
    "from sklearn.model_selection import GridSearchCV, cross_val_score, KFold\n",
    "from sklearn.preprocessing import RobustScaler\n",
    "from sklearn.pipeline import Pipeline\n",
    "from sklearn.metrics import mean_squared_error, make_scorer\n",
    "\n",
    "# Deep Learning (PyTorch)\n",
    "import torch\n",
    "import torch.nn as nn\n",
    "import torch.nn.functional as F\n",
    "from torch.utils.data import DataLoader, TensorDataset\n",
    "\n",
    "# Deep Learning (TensorFlow/Keras)\n",
    "import tensorflow as tf\n",
    "from tensorflow import keras\n",
    "from tensorflow.keras.layers import Dense\n",
    "from tensorflow.keras.models import Model, Sequential\n",
    "from tensorflow.keras.optimizers import SGD, RMSprop, Adam\n",
    "\n",
    "#NEAT\n",
    "import sys\n",
    "import torch\n",
    "import neat\n",
    "import visualize\n",
    "import json\n",
    "import shutil\n",
    "import ast\n",
    "from neat import nn, Config, DefaultGenome, DefaultReproduction, DefaultSpeciesSet, DefaultStagnation\n",
    "import visualize\n",
    "\n",
    "# Custom/local imports\n",
    "from slim.main_gp import gp\n",
    "from slim_gsgp.main_gsgp import gsgp\n",
    "from slim_gsgp.main_slim import slim\n",
    "from slim_gsgp.datasets.data_loader import *\n",
    "from slim.evaluators.fitness_functions import rmse\n",
    "from slim.utils.utils import train_test_split\n",
    "\n",
    "import time\n",
    "\n",
    "# Suppress warnings\n",
    "warnings.filterwarnings('ignore')"
   ]
  },
  {
   "cell_type": "code",
   "execution_count": 3,
   "id": "c388334b",
   "metadata": {},
   "outputs": [],
   "source": [
    "os.environ[\"PATH\"] += os.pathsep + \"C:\\\\Program Files\\\\Graphviz\\\\bin\""
   ]
  },
  {
   "cell_type": "code",
   "execution_count": 4,
   "id": "efdc1f21",
   "metadata": {},
   "outputs": [],
   "source": [
    "seed = 42\n",
    "np.random.seed(seed)\n",
    "random.seed(seed)"
   ]
  },
  {
   "cell_type": "code",
   "execution_count": 5,
   "id": "3c8e08c1",
   "metadata": {},
   "outputs": [],
   "source": [
    "train_color = 'blue'\n",
    "test_color = 'orange'"
   ]
  },
  {
   "cell_type": "code",
   "execution_count": 6,
   "id": "249987e7",
   "metadata": {},
   "outputs": [],
   "source": [
    "#! ls"
   ]
  },
  {
   "cell_type": "markdown",
   "id": "bc9b75e4",
   "metadata": {},
   "source": [
    "#### Helpfull Functions"
   ]
  },
  {
   "cell_type": "code",
   "execution_count": 7,
   "id": "c5cbfb01",
   "metadata": {},
   "outputs": [],
   "source": [
    "def plot_boxplots(df_clients, columns):\n",
    "    \"\"\"\n",
    "    Plot multiple boxplots horizontally with scrolling enabled.\n",
    "    \"\"\"\n",
    "    n_cols = len(columns)\n",
    "    \n",
    "    fig = make_subplots(\n",
    "        rows=1,\n",
    "        cols=n_cols,\n",
    "        shared_yaxes=False,\n",
    "        horizontal_spacing=0.05,  # space between boxplots\n",
    "        subplot_titles=[col.replace(\"_\", \" \").title() for col in columns]\n",
    "    )\n",
    "\n",
    "    for idx, column in enumerate(columns, start=1):\n",
    "        fig.add_trace(\n",
    "            go.Box(\n",
    "                y=df_clients[column],\n",
    "                name=column.replace(\"_\", \" \").title(),\n",
    "                boxpoints='outliers',  # only show outliers\n",
    "                whiskerwidth=0.2,\n",
    "                marker_color='mediumseagreen',\n",
    "                line_color='seagreen',\n",
    "                fillcolor='rgba(60,179,113,0.3)',\n",
    "                marker_size=4\n",
    "            ),\n",
    "            row=1,\n",
    "            col=idx\n",
    "        )\n",
    "\n",
    "    fig.update_layout(\n",
    "        title='Outliers Analysis',\n",
    "        title_font_size=24,\n",
    "        plot_bgcolor='white',\n",
    "        height=600,\n",
    "        width=300 * n_cols,  # make width proportional to number of boxplots\n",
    "        showlegend=False\n",
    "    )\n",
    "\n",
    "    fig.update_yaxes(zeroline=False)\n",
    "\n",
    "    fig.show()"
   ]
  },
  {
   "cell_type": "markdown",
   "id": "9fc75bc9",
   "metadata": {},
   "source": [
    "### <a id=\"preprocessing\"></a> \n",
    "<div style=\"background-color: hsla(120, 71.40%, 43.90%, 0.30); padding: 10px; border-radius: 8px; text-align: center; margin-top: 20px; margin-bottom: 20px;\">\n",
    "    <h3 style=\"color: white; margin: 0;\">Preprocessing the data</h3>\n",
    "</div>\n",
    "\n",
    "[Back to Index](#idx)"
   ]
  },
  {
   "cell_type": "markdown",
   "id": "1fc3fc36",
   "metadata": {},
   "source": [
    "#### Data Loading"
   ]
  },
  {
   "cell_type": "code",
   "execution_count": 8,
   "id": "e956dc3a",
   "metadata": {},
   "outputs": [],
   "source": [
    "df = pd.read_excel(r\"data\\sustavianfeed.xlsx\")"
   ]
  },
  {
   "cell_type": "code",
   "execution_count": 9,
   "id": "8b2a4775",
   "metadata": {},
   "outputs": [
    {
     "data": {
      "text/html": [
       "<div>\n",
       "<style scoped>\n",
       "    .dataframe tbody tr th:only-of-type {\n",
       "        vertical-align: middle;\n",
       "    }\n",
       "\n",
       "    .dataframe tbody tr th {\n",
       "        vertical-align: top;\n",
       "    }\n",
       "\n",
       "    .dataframe thead th {\n",
       "        text-align: right;\n",
       "    }\n",
       "</style>\n",
       "<table border=\"1\" class=\"dataframe\">\n",
       "  <thead>\n",
       "    <tr style=\"text-align: right;\">\n",
       "      <th></th>\n",
       "      <th>WING TAG</th>\n",
       "      <th>WEIGHT</th>\n",
       "      <th>HOT CARCASS WEIGHT</th>\n",
       "      <th>CARCASS WEIGHT WITH HEAD AND LEGS</th>\n",
       "      <th>COLD CARCASS WEIGHT</th>\n",
       "      <th>BREAST WEIGHT (2)</th>\n",
       "      <th>THIGH WEIGHT (2)</th>\n",
       "      <th>SPLEEN</th>\n",
       "      <th>LIVER</th>\n",
       "      <th>HEART</th>\n",
       "      <th>INTESTINE</th>\n",
       "      <th>EMPTY MUSCULAR STOMACH</th>\n",
       "      <th>GLANDULAR STOMACH</th>\n",
       "      <th>CRUDE PROTEIN</th>\n",
       "      <th>ETHER EXTRACT</th>\n",
       "    </tr>\n",
       "  </thead>\n",
       "  <tbody>\n",
       "    <tr>\n",
       "      <th>0</th>\n",
       "      <td>G403</td>\n",
       "      <td>2223.3</td>\n",
       "      <td>1429.6</td>\n",
       "      <td>1725.6</td>\n",
       "      <td>1394.0</td>\n",
       "      <td>214.0</td>\n",
       "      <td>489.4</td>\n",
       "      <td>3.716</td>\n",
       "      <td>38.636</td>\n",
       "      <td>9.305</td>\n",
       "      <td>123.171</td>\n",
       "      <td>/</td>\n",
       "      <td>13.170</td>\n",
       "      <td>86.105469</td>\n",
       "      <td>0.38</td>\n",
       "    </tr>\n",
       "    <tr>\n",
       "      <th>1</th>\n",
       "      <td>G439</td>\n",
       "      <td>2201.9</td>\n",
       "      <td>1450.2</td>\n",
       "      <td>1769.8</td>\n",
       "      <td>1405.4</td>\n",
       "      <td>236.0</td>\n",
       "      <td>538.7</td>\n",
       "      <td>3.494</td>\n",
       "      <td>34.725</td>\n",
       "      <td>10.084</td>\n",
       "      <td>71.800</td>\n",
       "      <td>45.273</td>\n",
       "      <td>9.781</td>\n",
       "      <td>86.143472</td>\n",
       "      <td>1.66</td>\n",
       "    </tr>\n",
       "    <tr>\n",
       "      <th>2</th>\n",
       "      <td>G454</td>\n",
       "      <td>2159.9</td>\n",
       "      <td>1398.4</td>\n",
       "      <td>1724.9</td>\n",
       "      <td>1461.7</td>\n",
       "      <td>241.8</td>\n",
       "      <td>512.1</td>\n",
       "      <td>4.023</td>\n",
       "      <td>31.932</td>\n",
       "      <td>10.635</td>\n",
       "      <td>61.380</td>\n",
       "      <td>/</td>\n",
       "      <td>6.217</td>\n",
       "      <td>86.416898</td>\n",
       "      <td>0.98</td>\n",
       "    </tr>\n",
       "    <tr>\n",
       "      <th>3</th>\n",
       "      <td>G465</td>\n",
       "      <td>2198.7</td>\n",
       "      <td>1473.9</td>\n",
       "      <td>1800.4</td>\n",
       "      <td>1425.1</td>\n",
       "      <td>227.7</td>\n",
       "      <td>549.9</td>\n",
       "      <td>3.087</td>\n",
       "      <td>32.326</td>\n",
       "      <td>11.927</td>\n",
       "      <td>64.879</td>\n",
       "      <td>35.861</td>\n",
       "      <td>8.358</td>\n",
       "      <td>85.959935</td>\n",
       "      <td>1.10</td>\n",
       "    </tr>\n",
       "    <tr>\n",
       "      <th>4</th>\n",
       "      <td>G428</td>\n",
       "      <td>2003.2</td>\n",
       "      <td>1291.2</td>\n",
       "      <td>1581.6</td>\n",
       "      <td>1260.1</td>\n",
       "      <td>224.7</td>\n",
       "      <td>473.2</td>\n",
       "      <td>3.723</td>\n",
       "      <td>30.105</td>\n",
       "      <td>9.855</td>\n",
       "      <td>68.562</td>\n",
       "      <td>36.526</td>\n",
       "      <td>7.572</td>\n",
       "      <td>81.693637</td>\n",
       "      <td>6.34</td>\n",
       "    </tr>\n",
       "  </tbody>\n",
       "</table>\n",
       "</div>"
      ],
      "text/plain": [
       "  WING TAG  WEIGHT  HOT CARCASS WEIGHT  CARCASS WEIGHT WITH HEAD AND LEGS  \\\n",
       "0     G403  2223.3              1429.6                             1725.6   \n",
       "1     G439  2201.9              1450.2                             1769.8   \n",
       "2     G454  2159.9              1398.4                             1724.9   \n",
       "3     G465  2198.7              1473.9                             1800.4   \n",
       "4     G428  2003.2              1291.2                             1581.6   \n",
       "\n",
       "   COLD CARCASS WEIGHT  BREAST WEIGHT (2)  THIGH WEIGHT (2)  SPLEEN   LIVER  \\\n",
       "0               1394.0              214.0             489.4   3.716  38.636   \n",
       "1               1405.4              236.0             538.7   3.494  34.725   \n",
       "2               1461.7              241.8             512.1   4.023  31.932   \n",
       "3               1425.1              227.7             549.9   3.087  32.326   \n",
       "4               1260.1              224.7             473.2   3.723  30.105   \n",
       "\n",
       "    HEART  INTESTINE EMPTY MUSCULAR STOMACH  GLANDULAR STOMACH  CRUDE PROTEIN  \\\n",
       "0   9.305    123.171                      /             13.170      86.105469   \n",
       "1  10.084     71.800                 45.273              9.781      86.143472   \n",
       "2  10.635     61.380                      /              6.217      86.416898   \n",
       "3  11.927     64.879                 35.861              8.358      85.959935   \n",
       "4   9.855     68.562                 36.526              7.572      81.693637   \n",
       "\n",
       "   ETHER EXTRACT  \n",
       "0           0.38  \n",
       "1           1.66  \n",
       "2           0.98  \n",
       "3           1.10  \n",
       "4           6.34  "
      ]
     },
     "execution_count": 9,
     "metadata": {},
     "output_type": "execute_result"
    }
   ],
   "source": [
    "df.head()"
   ]
  },
  {
   "cell_type": "markdown",
   "id": "f66f636e",
   "metadata": {},
   "source": [
    "lets rename the columns according to the metadata:"
   ]
  },
  {
   "cell_type": "code",
   "execution_count": 10,
   "id": "72e69326",
   "metadata": {},
   "outputs": [],
   "source": [
    "# column name mapping\n",
    "column_mapping = {\n",
    "    'WING TAG': 'wing_tag',\n",
    "    'WEIGHT': 'weight',\n",
    "    'HOT CARCASS WEIGHT': 'hot_carcass_weight',\n",
    "    'CARCASS WEIGHT WITH HEAD AND LEGS': 'carcass_weight_with_head_and_legs',\n",
    "    'COLD CARCASS WEIGHT': 'cold_carcass_weight',\n",
    "    'BREAST WEIGHT (2)': 'breast_weight',\n",
    "    'THIGH WEIGHT (2)': 'thigh_weight',\n",
    "    'SPLEEN': 'spleen',\n",
    "    'LIVER': 'liver',\n",
    "    'HEART': 'heart',\n",
    "    'INTESTINE': 'intestine',\n",
    "    'EMPTY MUSCULAR STOMACH': 'empty_muscular_stomach',\n",
    "    'GLANDULAR STOMACH': 'glandular_stomach',\n",
    "    'CRUDE PROTEIN': 'crude_protein',\n",
    "    'ETHER EXTRACT': 'ether_extract'\n",
    "}\n",
    "\n",
    "df = df.rename(columns=column_mapping)"
   ]
  },
  {
   "cell_type": "markdown",
   "id": "b5673d90",
   "metadata": {},
   "source": [
    "#### Descriptive Summary"
   ]
  },
  {
   "cell_type": "code",
   "execution_count": 11,
   "id": "d6e50c13",
   "metadata": {},
   "outputs": [
    {
     "data": {
      "text/html": [
       "<div>\n",
       "<style scoped>\n",
       "    .dataframe tbody tr th:only-of-type {\n",
       "        vertical-align: middle;\n",
       "    }\n",
       "\n",
       "    .dataframe tbody tr th {\n",
       "        vertical-align: top;\n",
       "    }\n",
       "\n",
       "    .dataframe thead th {\n",
       "        text-align: right;\n",
       "    }\n",
       "</style>\n",
       "<table border=\"1\" class=\"dataframe\">\n",
       "  <thead>\n",
       "    <tr style=\"text-align: right;\">\n",
       "      <th></th>\n",
       "      <th>count</th>\n",
       "      <th>mean</th>\n",
       "      <th>std</th>\n",
       "      <th>min</th>\n",
       "      <th>25%</th>\n",
       "      <th>50%</th>\n",
       "      <th>75%</th>\n",
       "      <th>max</th>\n",
       "    </tr>\n",
       "  </thead>\n",
       "  <tbody>\n",
       "    <tr>\n",
       "      <th>weight</th>\n",
       "      <td>96.0</td>\n",
       "      <td>2339.682292</td>\n",
       "      <td>200.943424</td>\n",
       "      <td>1968.400000</td>\n",
       "      <td>2201.775000</td>\n",
       "      <td>2299.500000</td>\n",
       "      <td>2473.800000</td>\n",
       "      <td>2890.500000</td>\n",
       "    </tr>\n",
       "    <tr>\n",
       "      <th>hot_carcass_weight</th>\n",
       "      <td>96.0</td>\n",
       "      <td>1521.955208</td>\n",
       "      <td>144.126939</td>\n",
       "      <td>1284.900000</td>\n",
       "      <td>1425.775000</td>\n",
       "      <td>1493.050000</td>\n",
       "      <td>1608.400000</td>\n",
       "      <td>1929.400000</td>\n",
       "    </tr>\n",
       "    <tr>\n",
       "      <th>carcass_weight_with_head_and_legs</th>\n",
       "      <td>96.0</td>\n",
       "      <td>1833.378125</td>\n",
       "      <td>154.000550</td>\n",
       "      <td>1554.400000</td>\n",
       "      <td>1723.800000</td>\n",
       "      <td>1809.400000</td>\n",
       "      <td>1922.725000</td>\n",
       "      <td>2262.800000</td>\n",
       "    </tr>\n",
       "    <tr>\n",
       "      <th>cold_carcass_weight</th>\n",
       "      <td>96.0</td>\n",
       "      <td>1481.479167</td>\n",
       "      <td>142.830115</td>\n",
       "      <td>1252.600000</td>\n",
       "      <td>1380.825000</td>\n",
       "      <td>1452.800000</td>\n",
       "      <td>1573.700000</td>\n",
       "      <td>1891.700000</td>\n",
       "    </tr>\n",
       "    <tr>\n",
       "      <th>breast_weight</th>\n",
       "      <td>96.0</td>\n",
       "      <td>234.116667</td>\n",
       "      <td>37.818405</td>\n",
       "      <td>177.100000</td>\n",
       "      <td>218.775000</td>\n",
       "      <td>231.550000</td>\n",
       "      <td>243.275000</td>\n",
       "      <td>533.200000</td>\n",
       "    </tr>\n",
       "    <tr>\n",
       "      <th>thigh_weight</th>\n",
       "      <td>96.0</td>\n",
       "      <td>542.205208</td>\n",
       "      <td>60.994468</td>\n",
       "      <td>177.800000</td>\n",
       "      <td>508.225000</td>\n",
       "      <td>538.100000</td>\n",
       "      <td>573.850000</td>\n",
       "      <td>690.600000</td>\n",
       "    </tr>\n",
       "    <tr>\n",
       "      <th>spleen</th>\n",
       "      <td>96.0</td>\n",
       "      <td>4.219917</td>\n",
       "      <td>0.998836</td>\n",
       "      <td>2.464000</td>\n",
       "      <td>3.534250</td>\n",
       "      <td>4.048000</td>\n",
       "      <td>4.817000</td>\n",
       "      <td>7.758000</td>\n",
       "    </tr>\n",
       "    <tr>\n",
       "      <th>liver</th>\n",
       "      <td>96.0</td>\n",
       "      <td>36.781427</td>\n",
       "      <td>5.438894</td>\n",
       "      <td>25.916000</td>\n",
       "      <td>33.053000</td>\n",
       "      <td>35.936000</td>\n",
       "      <td>40.485000</td>\n",
       "      <td>53.133000</td>\n",
       "    </tr>\n",
       "    <tr>\n",
       "      <th>heart</th>\n",
       "      <td>96.0</td>\n",
       "      <td>12.059240</td>\n",
       "      <td>1.932239</td>\n",
       "      <td>8.561000</td>\n",
       "      <td>10.584250</td>\n",
       "      <td>11.679000</td>\n",
       "      <td>13.449750</td>\n",
       "      <td>17.194000</td>\n",
       "    </tr>\n",
       "    <tr>\n",
       "      <th>intestine</th>\n",
       "      <td>96.0</td>\n",
       "      <td>69.149156</td>\n",
       "      <td>11.727467</td>\n",
       "      <td>44.133000</td>\n",
       "      <td>62.274250</td>\n",
       "      <td>68.019500</td>\n",
       "      <td>75.103000</td>\n",
       "      <td>123.171000</td>\n",
       "    </tr>\n",
       "    <tr>\n",
       "      <th>glandular_stomach</th>\n",
       "      <td>96.0</td>\n",
       "      <td>8.184677</td>\n",
       "      <td>1.697425</td>\n",
       "      <td>5.425000</td>\n",
       "      <td>7.012750</td>\n",
       "      <td>7.809500</td>\n",
       "      <td>9.016750</td>\n",
       "      <td>13.170000</td>\n",
       "    </tr>\n",
       "    <tr>\n",
       "      <th>crude_protein</th>\n",
       "      <td>96.0</td>\n",
       "      <td>87.313708</td>\n",
       "      <td>2.043895</td>\n",
       "      <td>73.837184</td>\n",
       "      <td>86.544416</td>\n",
       "      <td>87.574947</td>\n",
       "      <td>88.508026</td>\n",
       "      <td>91.211353</td>\n",
       "    </tr>\n",
       "    <tr>\n",
       "      <th>ether_extract</th>\n",
       "      <td>96.0</td>\n",
       "      <td>2.090417</td>\n",
       "      <td>1.351645</td>\n",
       "      <td>0.320000</td>\n",
       "      <td>1.130000</td>\n",
       "      <td>1.710000</td>\n",
       "      <td>2.527500</td>\n",
       "      <td>6.680000</td>\n",
       "    </tr>\n",
       "  </tbody>\n",
       "</table>\n",
       "</div>"
      ],
      "text/plain": [
       "                                   count         mean         std  \\\n",
       "weight                              96.0  2339.682292  200.943424   \n",
       "hot_carcass_weight                  96.0  1521.955208  144.126939   \n",
       "carcass_weight_with_head_and_legs   96.0  1833.378125  154.000550   \n",
       "cold_carcass_weight                 96.0  1481.479167  142.830115   \n",
       "breast_weight                       96.0   234.116667   37.818405   \n",
       "thigh_weight                        96.0   542.205208   60.994468   \n",
       "spleen                              96.0     4.219917    0.998836   \n",
       "liver                               96.0    36.781427    5.438894   \n",
       "heart                               96.0    12.059240    1.932239   \n",
       "intestine                           96.0    69.149156   11.727467   \n",
       "glandular_stomach                   96.0     8.184677    1.697425   \n",
       "crude_protein                       96.0    87.313708    2.043895   \n",
       "ether_extract                       96.0     2.090417    1.351645   \n",
       "\n",
       "                                           min          25%          50%  \\\n",
       "weight                             1968.400000  2201.775000  2299.500000   \n",
       "hot_carcass_weight                 1284.900000  1425.775000  1493.050000   \n",
       "carcass_weight_with_head_and_legs  1554.400000  1723.800000  1809.400000   \n",
       "cold_carcass_weight                1252.600000  1380.825000  1452.800000   \n",
       "breast_weight                       177.100000   218.775000   231.550000   \n",
       "thigh_weight                        177.800000   508.225000   538.100000   \n",
       "spleen                                2.464000     3.534250     4.048000   \n",
       "liver                                25.916000    33.053000    35.936000   \n",
       "heart                                 8.561000    10.584250    11.679000   \n",
       "intestine                            44.133000    62.274250    68.019500   \n",
       "glandular_stomach                     5.425000     7.012750     7.809500   \n",
       "crude_protein                        73.837184    86.544416    87.574947   \n",
       "ether_extract                         0.320000     1.130000     1.710000   \n",
       "\n",
       "                                           75%          max  \n",
       "weight                             2473.800000  2890.500000  \n",
       "hot_carcass_weight                 1608.400000  1929.400000  \n",
       "carcass_weight_with_head_and_legs  1922.725000  2262.800000  \n",
       "cold_carcass_weight                1573.700000  1891.700000  \n",
       "breast_weight                       243.275000   533.200000  \n",
       "thigh_weight                        573.850000   690.600000  \n",
       "spleen                                4.817000     7.758000  \n",
       "liver                                40.485000    53.133000  \n",
       "heart                                13.449750    17.194000  \n",
       "intestine                            75.103000   123.171000  \n",
       "glandular_stomach                     9.016750    13.170000  \n",
       "crude_protein                        88.508026    91.211353  \n",
       "ether_extract                         2.527500     6.680000  "
      ]
     },
     "execution_count": 11,
     "metadata": {},
     "output_type": "execute_result"
    }
   ],
   "source": [
    "df.describe().T"
   ]
  },
  {
   "cell_type": "code",
   "execution_count": 12,
   "id": "0a12b2c4",
   "metadata": {},
   "outputs": [
    {
     "data": {
      "text/html": [
       "<div>\n",
       "<style scoped>\n",
       "    .dataframe tbody tr th:only-of-type {\n",
       "        vertical-align: middle;\n",
       "    }\n",
       "\n",
       "    .dataframe tbody tr th {\n",
       "        vertical-align: top;\n",
       "    }\n",
       "\n",
       "    .dataframe thead th {\n",
       "        text-align: right;\n",
       "    }\n",
       "</style>\n",
       "<table border=\"1\" class=\"dataframe\">\n",
       "  <thead>\n",
       "    <tr style=\"text-align: right;\">\n",
       "      <th></th>\n",
       "      <th>count</th>\n",
       "      <th>unique</th>\n",
       "      <th>top</th>\n",
       "      <th>freq</th>\n",
       "    </tr>\n",
       "  </thead>\n",
       "  <tbody>\n",
       "    <tr>\n",
       "      <th>wing_tag</th>\n",
       "      <td>96</td>\n",
       "      <td>96</td>\n",
       "      <td>G403</td>\n",
       "      <td>1</td>\n",
       "    </tr>\n",
       "    <tr>\n",
       "      <th>empty_muscular_stomach</th>\n",
       "      <td>96</td>\n",
       "      <td>91</td>\n",
       "      <td>/</td>\n",
       "      <td>5</td>\n",
       "    </tr>\n",
       "  </tbody>\n",
       "</table>\n",
       "</div>"
      ],
      "text/plain": [
       "                       count unique   top freq\n",
       "wing_tag                  96     96  G403    1\n",
       "empty_muscular_stomach    96     91     /    5"
      ]
     },
     "execution_count": 12,
     "metadata": {},
     "output_type": "execute_result"
    }
   ],
   "source": [
    "df.describe(include='O').T"
   ]
  },
  {
   "cell_type": "code",
   "execution_count": 13,
   "id": "0578a0a6",
   "metadata": {},
   "outputs": [
    {
     "data": {
      "text/plain": [
       "wing_tag                             0\n",
       "weight                               0\n",
       "hot_carcass_weight                   0\n",
       "carcass_weight_with_head_and_legs    0\n",
       "cold_carcass_weight                  0\n",
       "breast_weight                        0\n",
       "thigh_weight                         0\n",
       "spleen                               0\n",
       "liver                                0\n",
       "heart                                0\n",
       "intestine                            0\n",
       "empty_muscular_stomach               0\n",
       "glandular_stomach                    0\n",
       "crude_protein                        0\n",
       "ether_extract                        0\n",
       "dtype: int64"
      ]
     },
     "execution_count": 13,
     "metadata": {},
     "output_type": "execute_result"
    }
   ],
   "source": [
    "df.isna().sum()"
   ]
  },
  {
   "cell_type": "markdown",
   "id": "9f617eff",
   "metadata": {},
   "source": [
    "- no missing values\n",
    "- `wing_tag` uniquely represents each chicken so can be placed as index."
   ]
  },
  {
   "cell_type": "code",
   "execution_count": 14,
   "id": "505e4797",
   "metadata": {},
   "outputs": [],
   "source": [
    "df.set_index('wing_tag', inplace = True)"
   ]
  },
  {
   "cell_type": "code",
   "execution_count": 15,
   "id": "e1659a62",
   "metadata": {},
   "outputs": [
    {
     "data": {
      "text/plain": [
       "0"
      ]
     },
     "execution_count": 15,
     "metadata": {},
     "output_type": "execute_result"
    }
   ],
   "source": [
    "df.duplicated().sum()"
   ]
  },
  {
   "cell_type": "markdown",
   "id": "a9c57940",
   "metadata": {},
   "source": [
    "#### Data Types"
   ]
  },
  {
   "cell_type": "code",
   "execution_count": 16,
   "id": "240b8c76",
   "metadata": {},
   "outputs": [
    {
     "name": "stdout",
     "output_type": "stream",
     "text": [
      "<class 'pandas.core.frame.DataFrame'>\n",
      "Index: 96 entries, G403 to V428\n",
      "Data columns (total 14 columns):\n",
      " #   Column                             Non-Null Count  Dtype  \n",
      "---  ------                             --------------  -----  \n",
      " 0   weight                             96 non-null     float64\n",
      " 1   hot_carcass_weight                 96 non-null     float64\n",
      " 2   carcass_weight_with_head_and_legs  96 non-null     float64\n",
      " 3   cold_carcass_weight                96 non-null     float64\n",
      " 4   breast_weight                      96 non-null     float64\n",
      " 5   thigh_weight                       96 non-null     float64\n",
      " 6   spleen                             96 non-null     float64\n",
      " 7   liver                              96 non-null     float64\n",
      " 8   heart                              96 non-null     float64\n",
      " 9   intestine                          96 non-null     float64\n",
      " 10  empty_muscular_stomach             96 non-null     object \n",
      " 11  glandular_stomach                  96 non-null     float64\n",
      " 12  crude_protein                      96 non-null     float64\n",
      " 13  ether_extract                      96 non-null     float64\n",
      "dtypes: float64(13), object(1)\n",
      "memory usage: 11.2+ KB\n"
     ]
    }
   ],
   "source": [
    "df.info()"
   ]
  },
  {
   "cell_type": "code",
   "execution_count": 17,
   "id": "7b568cd4",
   "metadata": {},
   "outputs": [
    {
     "data": {
      "text/plain": [
       "array(['/', 45.273, 35.861, 36.526, 40.993, 40.949, 45.323, 42.091,\n",
       "       49.148, 46.807, 31.103, 49.057, 39.621, 43.128, 53.485, 38.836,\n",
       "       44.487, 47.665, 50.006, 43.695, 59.547, 61.306, 61.702, 60.063,\n",
       "       45.428, 53.456, 43.586, 49.648, 63.571, 47.523, 63.86, 64.538,\n",
       "       42.852, 50.119, 32.665, 35.164, 46.656, 44.855, 44.962, 51.851,\n",
       "       45.507, 50.136, 43.821, 66.616, 29.712, 40.936, 52.518, 35.408,\n",
       "       51.944, 41.483, 56.23, 55.663, 42.66, 32.12, 43.964, 75.767,\n",
       "       45.327, 42.129, 47.964, 44.811, 32.599, 32.947, 38.155, 48.009,\n",
       "       56.347, 59.583, 51.322, 58.708, 41.917, 40.425, 51.903, 56.698,\n",
       "       40.7, 45.321, 55.671, 68.602, 44.006, 54.71, 45.636, 34.692,\n",
       "       48.933, 45.045, 48.02, 42.632, 45.366, 52.457, 49.281, 54.021,\n",
       "       42.173, 49.7, 46.816], dtype=object)"
      ]
     },
     "execution_count": 17,
     "metadata": {},
     "output_type": "execute_result"
    }
   ],
   "source": [
    "df['empty_muscular_stomach'].unique()"
   ]
  },
  {
   "cell_type": "markdown",
   "id": "c221bf9e",
   "metadata": {},
   "source": [
    "The metadata for the column `empty_muscular_stomach` specifies that it should be a binary flag, '_Indicates the presence or absence of the empty muscular stomach of the chicken_'. However, the data contains a '/' that represents 'yes' for an empty stomach, and other values that indicate that the stomach is not empty, such as percentages or grams. We will evaluate whether it is more valuable to maintain this column as a float or a binary flag, based on its correlation with the target variable. Ultimately, we plan to adhere to the guidance provided in the metadata, but lets see:"
   ]
  },
  {
   "cell_type": "code",
   "execution_count": 18,
   "id": "88304528",
   "metadata": {},
   "outputs": [],
   "source": [
    "df['empty_muscular_stomach_bin'] = np.where(\n",
    "    df['empty_muscular_stomach'] == '/', 1, 0\n",
    ").astype(int)"
   ]
  },
  {
   "cell_type": "code",
   "execution_count": 19,
   "id": "11b8b022",
   "metadata": {},
   "outputs": [],
   "source": [
    "df['empty_muscular_stomach_float'] = df['empty_muscular_stomach'].replace('/', 0).astype(float)"
   ]
  },
  {
   "cell_type": "markdown",
   "id": "3ee6172b",
   "metadata": {},
   "source": [
    "#### Outliers"
   ]
  },
  {
   "cell_type": "code",
   "execution_count": 20,
   "id": "972eb1aa",
   "metadata": {},
   "outputs": [
    {
     "data": {
      "application/vnd.plotly.v1+json": {
       "config": {
        "plotlyServerURL": "https://plot.ly"
       },
       "data": [
        {
         "boxpoints": "outliers",
         "fillcolor": "rgba(60,179,113,0.3)",
         "line": {
          "color": "seagreen"
         },
         "marker": {
          "color": "mediumseagreen",
          "size": 4
         },
         "name": "Weight",
         "type": "box",
         "whiskerwidth": 0.2,
         "xaxis": "x",
         "y": [
          2223.3,
          2201.9,
          2159.9,
          2198.7,
          2003.2,
          2090.6,
          2063.6,
          2251.6,
          2235.9,
          2278.4,
          2085.1,
          2059,
          2141.5,
          2106.3,
          1968.4,
          2213.2,
          2234.6,
          2262.3,
          2118.3,
          2163.6,
          2177,
          2347.2,
          2226.1,
          2260.9,
          2116.7,
          2308.2,
          2136.2,
          2374.1,
          2221.1,
          2271.1,
          2145,
          2395.6,
          2259.3,
          2337.4,
          2268.4,
          2310.8,
          2230.9,
          2412.1,
          2086.4,
          2368.8,
          2023.8,
          2258,
          2195,
          2201.4,
          2308.2,
          2314.4,
          2139.1,
          2379.7,
          2295,
          2593,
          2206.7,
          2480.6,
          2226.9,
          2416.7,
          2494.3,
          2572.4,
          2573.5,
          2587,
          2197.2,
          2418,
          2300.3,
          2303.9,
          2602.3,
          2519.9,
          2374.8,
          2298.7,
          2212.2,
          2653,
          2036.6,
          2406.6,
          2467.4,
          2575.7,
          2364,
          2521.5,
          2645.5,
          2890.5,
          2145.3,
          2777.8,
          2419.6,
          2362.3,
          2721.5,
          2633.4,
          2475.6,
          2824.3,
          2261.7,
          2473.2,
          2615.2,
          2459.9,
          2230.6,
          2703.6,
          2544.6,
          2633.1,
          2346.2,
          2648.2,
          2262.6,
          2704.3
         ],
         "yaxis": "y"
        },
        {
         "boxpoints": "outliers",
         "fillcolor": "rgba(60,179,113,0.3)",
         "line": {
          "color": "seagreen"
         },
         "marker": {
          "color": "mediumseagreen",
          "size": 4
         },
         "name": "Hot Carcass Weight",
         "type": "box",
         "whiskerwidth": 0.2,
         "xaxis": "x2",
         "y": [
          1429.6,
          1450.2,
          1398.4,
          1473.9,
          1291.2,
          1486.7,
          1333.3,
          1428.8,
          1442.5,
          1448.3,
          1357.8,
          1366.1,
          1306.5,
          1324.6,
          1333.5,
          1425.4,
          1419.1,
          1485.5,
          1407.8,
          1450.3,
          1472.5,
          1521.6,
          1462.6,
          1471.6,
          1334.9,
          1472.6,
          1450.5,
          1564.9,
          1404.7,
          1510.4,
          1360.8,
          1576.8,
          1481.2,
          1461.6,
          1442.7,
          1501.4,
          1495.6,
          1514.6,
          1284.9,
          1597.8,
          1339.8,
          1490.5,
          1419.1,
          1435.4,
          1566.8,
          1532.6,
          1310.2,
          1523.7,
          1556.3,
          1693.1,
          1397.7,
          1630.5,
          1443.7,
          1573.2,
          1575.3,
          1622.9,
          1718.5,
          1718.5,
          1391.6,
          1572.4,
          1394.1,
          1456.4,
          1720.5,
          1651.8,
          1561.5,
          1520.1,
          1372.9,
          1744.8,
          1292.1,
          1425.9,
          1607.8,
          1830.7,
          1530.5,
          1678.2,
          1633.3,
          1929.4,
          1392.6,
          1808.8,
          1592.2,
          1501.9,
          1780.9,
          1738.9,
          1656.7,
          1892.8,
          1431.5,
          1610.2,
          1744.8,
          1560.3,
          1447.8,
          1817.2,
          1674.9,
          1683.2,
          1547.8,
          1722.9,
          1498.5,
          1698.8
         ],
         "yaxis": "y2"
        },
        {
         "boxpoints": "outliers",
         "fillcolor": "rgba(60,179,113,0.3)",
         "line": {
          "color": "seagreen"
         },
         "marker": {
          "color": "mediumseagreen",
          "size": 4
         },
         "name": "Carcass Weight With Head And Legs",
         "type": "box",
         "whiskerwidth": 0.2,
         "xaxis": "x3",
         "y": [
          1725.6,
          1769.8,
          1724.9,
          1800.4,
          1581.6,
          1679.8,
          1596.4,
          1749.9,
          1741.1,
          1755.8,
          1667.8,
          1644.4,
          1636.1,
          1654.8,
          1598.1,
          1765.8,
          1717.8,
          1781.4,
          1714.5,
          1740.2,
          1742.7,
          1888.7,
          1720.5,
          1758.6,
          1662,
          1804.9,
          1699.9,
          1892.8,
          1740.2,
          1834.4,
          1669.2,
          1904.9,
          1741.2,
          1780.7,
          1744.8,
          1852.4,
          1801.3,
          1852.6,
          1599.8,
          1908.6,
          1645.6,
          1837.4,
          1745.9,
          1746.6,
          1865.1,
          1880.8,
          1669.2,
          1852.6,
          1833.3,
          2031.7,
          1688.2,
          1941.7,
          1706.7,
          1877.5,
          1887.4,
          1945.8,
          2010.2,
          2030.9,
          1694.4,
          1887.1,
          1668.1,
          1774.5,
          2053.1,
          1958.9,
          1894.8,
          1842.1,
          1658.4,
          2037.1,
          1554.4,
          1753.3,
          1906.6,
          2114.8,
          1847.5,
          2031,
          2011.1,
          2262.8,
          1696.3,
          2158.6,
          1882.5,
          1826.5,
          2117.8,
          2033.9,
          1964.4,
          2226.2,
          1740,
          1944.4,
          2032.9,
          1916.4,
          1760.4,
          2142.2,
          2012.5,
          2034.1,
          1819.5,
          2050,
          1813.9,
          2038.8
         ],
         "yaxis": "y3"
        },
        {
         "boxpoints": "outliers",
         "fillcolor": "rgba(60,179,113,0.3)",
         "line": {
          "color": "seagreen"
         },
         "marker": {
          "color": "mediumseagreen",
          "size": 4
         },
         "name": "Cold Carcass Weight",
         "type": "box",
         "whiskerwidth": 0.2,
         "xaxis": "x4",
         "y": [
          1394,
          1405.4,
          1461.7,
          1425.1,
          1260.1,
          1344.7,
          1293.6,
          1381.5,
          1401.7,
          1407.7,
          1308.2,
          1327.6,
          1300.5,
          1281.7,
          1418.5,
          1378.8,
          1378.2,
          1443.5,
          1372.7,
          1407.2,
          1436.7,
          1471.9,
          1425.2,
          1425.7,
          1270.5,
          1429.6,
          1303.9,
          1519.6,
          1364.7,
          1445.9,
          1322.7,
          1533.9,
          1422.7,
          1426.2,
          1396,
          1463.2,
          1360.5,
          1474,
          1252.6,
          1549.1,
          1303.6,
          1460.5,
          1387.2,
          1399.6,
          1527.5,
          1495.7,
          1266,
          1481,
          1519.5,
          1656,
          1367.1,
          1596,
          1413.8,
          1534.6,
          1543.3,
          1578,
          1684.9,
          1677.7,
          1362.8,
          1526.5,
          1357.8,
          1421,
          1687.6,
          1616.7,
          1529.3,
          1484.6,
          1340,
          1697.1,
          1266.6,
          1383.3,
          1573.7,
          1771.9,
          1495.8,
          1639.3,
          1599.1,
          1891.7,
          1362,
          1760,
          1550.6,
          1459.7,
          1752.4,
          1676.8,
          1617.7,
          1844.3,
          1398.1,
          1573.7,
          1715,
          1514.6,
          1420.2,
          1768.4,
          1642.9,
          1637.2,
          1511.2,
          1669.8,
          1468,
          1655.6
         ],
         "yaxis": "y4"
        },
        {
         "boxpoints": "outliers",
         "fillcolor": "rgba(60,179,113,0.3)",
         "line": {
          "color": "seagreen"
         },
         "marker": {
          "color": "mediumseagreen",
          "size": 4
         },
         "name": "Breast Weight",
         "type": "box",
         "whiskerwidth": 0.2,
         "xaxis": "x5",
         "y": [
          214,
          236,
          241.8,
          227.7,
          224.7,
          230.2,
          205.7,
          241.5,
          229.9,
          253.8,
          229.7,
          228,
          207.4,
          210.4,
          239.2,
          224.6,
          230.7,
          277.7,
          228.3,
          235.4,
          256.4,
          242.2,
          248,
          232.8,
          199.1,
          228.3,
          234.6,
          248.4,
          241.5,
          236.8,
          215.4,
          271.2,
          227.9,
          221.3,
          219.9,
          244,
          215.1,
          238.8,
          209.8,
          247.8,
          209.4,
          242.2,
          227.1,
          239.2,
          268.7,
          239.1,
          195.8,
          237.3,
          245.2,
          256.9,
          186.2,
          207.3,
          220.2,
          220.4,
          237.1,
          229,
          243.8,
          243.1,
          177.1,
          234.8,
          210.4,
          188,
          268.1,
          242.4,
          228.5,
          225.4,
          192,
          257.6,
          189.8,
          195.7,
          212.6,
          287,
          221.9,
          235,
          236,
          275.4,
          186.6,
          248.9,
          233.8,
          196.8,
          244.2,
          232.4,
          229.5,
          273.6,
          533.2,
          226.9,
          267,
          234.8,
          205.3,
          259.4,
          228.4,
          213.8,
          228,
          253.1,
          212.1,
          245.7
         ],
         "yaxis": "y5"
        },
        {
         "boxpoints": "outliers",
         "fillcolor": "rgba(60,179,113,0.3)",
         "line": {
          "color": "seagreen"
         },
         "marker": {
          "color": "mediumseagreen",
          "size": 4
         },
         "name": "Thigh Weight",
         "type": "box",
         "whiskerwidth": 0.2,
         "xaxis": "x6",
         "y": [
          489.4,
          538.7,
          512.1,
          549.9,
          473.2,
          523.5,
          487.8,
          510.7,
          506.7,
          537.5,
          498.6,
          506.2,
          470.7,
          495.3,
          511.3,
          516.6,
          532.8,
          524.2,
          507.6,
          485.8,
          529.4,
          549.2,
          519.4,
          545,
          490,
          542.6,
          481.4,
          565.8,
          503.2,
          556.8,
          508.4,
          574,
          497,
          515.7,
          526.2,
          569.4,
          500.1,
          553.7,
          468.1,
          573.8,
          490.9,
          565,
          513.5,
          517,
          557.9,
          571.3,
          495.4,
          531.2,
          591.9,
          604.3,
          510.9,
          604.2,
          526.6,
          565.4,
          545.6,
          610.8,
          614.3,
          593.6,
          522.2,
          554.3,
          487.5,
          533.8,
          582.5,
          555.8,
          563.1,
          563.4,
          482.1,
          610.5,
          444.9,
          525,
          528.3,
          634.8,
          552.1,
          608.5,
          580.9,
          665.1,
          507.7,
          637,
          537.3,
          555.1,
          587.6,
          559.5,
          598.7,
          690.6,
          177.8,
          575.8,
          650.5,
          569.1,
          505.8,
          628.3,
          614.1,
          610.9,
          528.2,
          610,
          548.4,
          606.9
         ],
         "yaxis": "y6"
        },
        {
         "boxpoints": "outliers",
         "fillcolor": "rgba(60,179,113,0.3)",
         "line": {
          "color": "seagreen"
         },
         "marker": {
          "color": "mediumseagreen",
          "size": 4
         },
         "name": "Spleen",
         "type": "box",
         "whiskerwidth": 0.2,
         "xaxis": "x7",
         "y": [
          3.716,
          3.494,
          4.023,
          3.087,
          3.723,
          3.794,
          3.745,
          2.542,
          4.294,
          4.457,
          3.677,
          3.754,
          5.79,
          3.343,
          2.661,
          7.758,
          4.1,
          5.581,
          4.404,
          4.701,
          2.865,
          3.725,
          4.366,
          4.292,
          3.248,
          4.933,
          4.403,
          4.019,
          4.718,
          4.014,
          4.796,
          5.11,
          4.433,
          2.464,
          4.728,
          3.829,
          4.073,
          6.666,
          3.262,
          5.388,
          2.649,
          4.722,
          5.711,
          3.063,
          3.496,
          3.485,
          5.09,
          4.377,
          3.86,
          4.893,
          4.417,
          3.628,
          3.57,
          4.582,
          3.547,
          3.101,
          4.471,
          4.688,
          2.917,
          5.96,
          3.304,
          3.995,
          3.258,
          2.997,
          5.113,
          3.664,
          3.124,
          5.952,
          3.794,
          3.873,
          3.663,
          4.946,
          4.187,
          4.733,
          6.043,
          3.638,
          4.557,
          4.968,
          4.88,
          3.957,
          5.415,
          3.406,
          4.008,
          6.59,
          3.225,
          4.295,
          5.108,
          2.967,
          2.959,
          4.976,
          4.899,
          4.777,
          3.673,
          5.176,
          2.829,
          5.96
         ],
         "yaxis": "y7"
        },
        {
         "boxpoints": "outliers",
         "fillcolor": "rgba(60,179,113,0.3)",
         "line": {
          "color": "seagreen"
         },
         "marker": {
          "color": "mediumseagreen",
          "size": 4
         },
         "name": "Liver",
         "type": "box",
         "whiskerwidth": 0.2,
         "xaxis": "x8",
         "y": [
          38.636,
          34.725,
          31.932,
          32.326,
          30.105,
          25.916,
          32.193,
          33.326,
          34.976,
          36.808,
          29.986,
          35.883,
          49.603,
          33.504,
          36.056,
          36.687,
          33.731,
          31.624,
          34.423,
          32.43,
          30.874,
          31.388,
          26.827,
          33.316,
          38.367,
          44.37,
          35.35,
          32.123,
          34.387,
          29.016,
          29.238,
          32.316,
          34.959,
          34.926,
          35.989,
          33.687,
          34.564,
          37.79,
          36.798,
          34.287,
          36.906,
          30.864,
          29.52,
          33.208,
          43.004,
          30.388,
          38.268,
          37.679,
          32.052,
          42.89,
          34.082,
          36.009,
          35.255,
          41.09,
          40.86,
          43.263,
          38.17,
          43.069,
          41.955,
          40.922,
          33.573,
          41.659,
          40.34,
          34.739,
          35.849,
          29.157,
          43.689,
          44.001,
          32.442,
          53.133,
          39.768,
          34.897,
          47.639,
          39.233,
          51.161,
          38.77,
          32.588,
          44.706,
          36.563,
          42.504,
          36.965,
          36.364,
          41.204,
          36.965,
          43.454,
          38.853,
          36.165,
          41.033,
          30.909,
          34.663,
          40.36,
          45.992,
          35.09,
          50.505,
          30.266,
          40.922
         ],
         "yaxis": "y8"
        },
        {
         "boxpoints": "outliers",
         "fillcolor": "rgba(60,179,113,0.3)",
         "line": {
          "color": "seagreen"
         },
         "marker": {
          "color": "mediumseagreen",
          "size": 4
         },
         "name": "Heart",
         "type": "box",
         "whiskerwidth": 0.2,
         "xaxis": "x9",
         "y": [
          9.305,
          10.084,
          10.635,
          11.927,
          9.855,
          14.799,
          10.954,
          11.547,
          10.466,
          9.801,
          8.765,
          14.2,
          10.871,
          11.431,
          9.066,
          13.392,
          10.601,
          12.192,
          11.429,
          13.155,
          10.05,
          10,
          12.972,
          11.04,
          10.083,
          13.613,
          11.075,
          14.1,
          10.3,
          11.284,
          9.356,
          13.29,
          9.551,
          11.573,
          11.977,
          12.023,
          10.898,
          14.102,
          9.498,
          14.385,
          10.13,
          13.795,
          11.82,
          14.592,
          10.534,
          13.455,
          10.248,
          13.055,
          11.476,
          14.129,
          13.904,
          13.231,
          9.451,
          11.533,
          14.354,
          9.923,
          10.662,
          13.447,
          10.429,
          16.19,
          14.471,
          12.55,
          15.335,
          10.852,
          11.512,
          12.625,
          15.169,
          11.252,
          10.026,
          8.561,
          12.103,
          17.083,
          12.888,
          12.279,
          11.569,
          12.36,
          12.021,
          14.185,
          10.697,
          10.362,
          11.603,
          14.053,
          13.448,
          14.265,
          13.066,
          12.781,
          11.755,
          11.098,
          8.821,
          13.985,
          14.096,
          12.796,
          11.504,
          17.194,
          11.129,
          16.19
         ],
         "yaxis": "y9"
        },
        {
         "boxpoints": "outliers",
         "fillcolor": "rgba(60,179,113,0.3)",
         "line": {
          "color": "seagreen"
         },
         "marker": {
          "color": "mediumseagreen",
          "size": 4
         },
         "name": "Intestine",
         "type": "box",
         "whiskerwidth": 0.2,
         "xaxis": "x10",
         "y": [
          123.171,
          71.8,
          61.38,
          64.879,
          68.562,
          58.011,
          72.148,
          72.605,
          82.072,
          87.439,
          54.074,
          56.671,
          104.403,
          61.847,
          62.338,
          76.261,
          68.477,
          65.48,
          57.655,
          64.903,
          66.687,
          64.748,
          72.052,
          64.971,
          73.434,
          77.686,
          64.431,
          66.168,
          50.568,
          53.15,
          62.789,
          56.131,
          72.468,
          85.991,
          79.361,
          67.207,
          64.891,
          68.686,
          69.725,
          57.47,
          93.602,
          52.861,
          60.434,
          65.833,
          63.424,
          66.629,
          68.054,
          72.512,
          53.684,
          86.202,
          70.526,
          68.339,
          62.557,
          61.451,
          80.102,
          76.682,
          64.2,
          81.521,
          75.748,
          72.783,
          44.133,
          67.985,
          60.697,
          69.4,
          61.281,
          50.05,
          56.349,
          76.283,
          60.47,
          78.876,
          69,
          68.516,
          85.77,
          62.282,
          88.831,
          80.954,
          47.955,
          80.961,
          66.436,
          68.32,
          78.162,
          78.271,
          61.12,
          70.521,
          82.294,
          67.503,
          70.848,
          67.694,
          62.251,
          66.565,
          67.968,
          74.888,
          68.455,
          81.502,
          53.011,
          72.783
         ],
         "yaxis": "y10"
        },
        {
         "boxpoints": "outliers",
         "fillcolor": "rgba(60,179,113,0.3)",
         "line": {
          "color": "seagreen"
         },
         "marker": {
          "color": "mediumseagreen",
          "size": 4
         },
         "name": "Empty Muscular Stomach",
         "type": "box",
         "whiskerwidth": 0.2,
         "xaxis": "x11",
         "y": [
          "/",
          45.273,
          "/",
          35.861,
          36.526,
          40.993,
          40.949,
          45.323,
          42.091,
          49.148,
          46.807,
          31.103,
          "/",
          49.057,
          39.621,
          43.128,
          53.485,
          38.836,
          44.487,
          47.665,
          50.006,
          43.695,
          59.547,
          61.306,
          "/",
          61.702,
          60.063,
          45.428,
          53.456,
          43.586,
          49.648,
          63.571,
          47.523,
          63.86,
          64.538,
          42.852,
          "/",
          50.119,
          32.665,
          35.164,
          46.656,
          44.855,
          44.962,
          51.851,
          45.507,
          50.136,
          43.821,
          66.616,
          29.712,
          40.936,
          52.518,
          35.408,
          51.944,
          41.483,
          56.23,
          55.663,
          42.66,
          32.12,
          43.964,
          75.767,
          45.327,
          42.129,
          47.964,
          44.811,
          32.599,
          32.947,
          38.155,
          48.009,
          56.347,
          59.583,
          51.322,
          58.708,
          41.917,
          40.425,
          51.903,
          56.698,
          40.7,
          45.321,
          55.671,
          68.602,
          44.006,
          54.71,
          45.636,
          34.692,
          48.933,
          45.045,
          48.02,
          42.632,
          45.366,
          52.457,
          49.281,
          54.021,
          42.173,
          49.7,
          46.816,
          75.767
         ],
         "yaxis": "y11"
        },
        {
         "boxpoints": "outliers",
         "fillcolor": "rgba(60,179,113,0.3)",
         "line": {
          "color": "seagreen"
         },
         "marker": {
          "color": "mediumseagreen",
          "size": 4
         },
         "name": "Glandular Stomach",
         "type": "box",
         "whiskerwidth": 0.2,
         "xaxis": "x12",
         "y": [
          13.17,
          9.781,
          6.217,
          8.358,
          7.572,
          8.435,
          6.689,
          8.589,
          11.836,
          11.169,
          7.655,
          6.423,
          9.647,
          7.177,
          10.339,
          7.239,
          6.138,
          9.662,
          7.518,
          10.858,
          8.451,
          8.157,
          8.708,
          6.798,
          6.353,
          10.498,
          8.072,
          12.254,
          8.355,
          6.745,
          6.699,
          6.518,
          8.732,
          11.23,
          7.715,
          7.882,
          13.056,
          10.406,
          7.75,
          9.172,
          8.1,
          7.501,
          9.356,
          7.745,
          7.952,
          8.796,
          10.598,
          10.119,
          7.782,
          7.589,
          8.664,
          6.604,
          6.312,
          6.562,
          11.57,
          6.992,
          7.248,
          12.371,
          7.172,
          7.42,
          7.095,
          8.356,
          7.264,
          7.903,
          6.19,
          5.497,
          6.147,
          6.786,
          6.541,
          7.017,
          7,
          9.849,
          7.195,
          8.269,
          6.261,
          9.55,
          5.58,
          7.097,
          7.488,
          9.263,
          8.109,
          8.837,
          6.94,
          8.105,
          7.635,
          8.965,
          9.31,
          7.432,
          6.322,
          8.013,
          9.366,
          7.857,
          7.837,
          7.332,
          5.425,
          7.42
         ],
         "yaxis": "y12"
        },
        {
         "boxpoints": "outliers",
         "fillcolor": "rgba(60,179,113,0.3)",
         "line": {
          "color": "seagreen"
         },
         "marker": {
          "color": "mediumseagreen",
          "size": 4
         },
         "name": "Crude Protein",
         "type": "box",
         "whiskerwidth": 0.2,
         "xaxis": "x13",
         "y": [
          86.10546875,
          86.14347234814144,
          86.41689847009737,
          85.95993515516443,
          81.69363716424483,
          87.53306565895136,
          86.84098639455785,
          88.24679943100998,
          87.53988149498633,
          88.1923837784372,
          87.7861952861953,
          86.24641833810888,
          86.16107382550335,
          86.51153846153846,
          86.83657786885246,
          84.99508116084604,
          86.38116154221572,
          88.51024208566109,
          85.01293103448275,
          85.97842750766536,
          88.96623952686053,
          84.7507422068283,
          87.11337209302327,
          87.26570107108083,
          85.50974173085638,
          87.16265060240966,
          84.83712628290942,
          86.89855875831486,
          87.4808784965035,
          88.20945945945947,
          83.46470588235294,
          86.33735236220474,
          86.58724513987673,
          87.89680703378066,
          88.5642471799902,
          87.4187935034803,
          87.97644412878789,
          84.67418689876318,
          73.83718395815173,
          85.94251652502362,
          86.55537459283387,
          87.64780405405406,
          87.59956759217114,
          86.17280138339922,
          88.35386890093643,
          87.2642087212151,
          86.71974522292994,
          85.26993355481729,
          87.75864029104139,
          87.8977272727273,
          88.16909225456341,
          88.43750000000003,
          87.1275684931507,
          87.5949679329058,
          87.93792517006803,
          86.5773663560569,
          87.36281234688879,
          88.58175473579264,
          89.53041035661946,
          87.14756944444446,
          87.9669373549884,
          87.80427223050175,
          86.04511100614079,
          88.7218837863168,
          88.39171974522293,
          89.00959759481961,
          85.0284935579782,
          87.27863385464582,
          87.55492515692902,
          87.45037807183365,
          88.33066896212493,
          89.0777330809276,
          86.8685160126297,
          89.4475806451613,
          88.60882614495333,
          87.66685144124169,
          87.6940133037694,
          89.01065022421525,
          89.62450155073105,
          89.48600705156457,
          88.98426237385873,
          88.4305993690852,
          88.63668224299066,
          90.24053627760254,
          86.5773663560569,
          87.43846694796063,
          88.90925480769234,
          88.72571170356983,
          88.84212344541686,
          88.83152173913044,
          87.82095369096746,
          88.99912587412588,
          88.50728754940712,
          90.3755868544601,
          91.21135265700484,
          88.8250448028674
         ],
         "yaxis": "y13"
        },
        {
         "boxpoints": "outliers",
         "fillcolor": "rgba(60,179,113,0.3)",
         "line": {
          "color": "seagreen"
         },
         "marker": {
          "color": "mediumseagreen",
          "size": 4
         },
         "name": "Ether Extract",
         "type": "box",
         "whiskerwidth": 0.2,
         "xaxis": "x14",
         "y": [
          0.38,
          1.66,
          0.98,
          1.1,
          6.34,
          1.93,
          3.21,
          0.85,
          0.96,
          1.45,
          2.07,
          0.81,
          2.35,
          3.08,
          1.71,
          3.48,
          2.79,
          2.28,
          5.73,
          3.12,
          1.02,
          4.31,
          2.96,
          0.93,
          4.17,
          1.36,
          3.72,
          2.11,
          1.25,
          1.62,
          6.68,
          3.89,
          1.17,
          2.2,
          1.41,
          1.78,
          2.05,
          5.74,
          3.76,
          3.59,
          4.04,
          2.44,
          2.27,
          3.88,
          0.82,
          1.82,
          1.13,
          5.31,
          0.96,
          1.15,
          0.93,
          0.91,
          1.17,
          2.09,
          1.85,
          2.87,
          1.02,
          1.54,
          0.77,
          1.67,
          0.94,
          1.78,
          4.71,
          0.78,
          1.69,
          1.64,
          2.86,
          2.31,
          1.19,
          2.91,
          1.17,
          0.99,
          1.3,
          0.68,
          1.7,
          1.89,
          1.97,
          1.71,
          1.87,
          0.57,
          1.71,
          1.15,
          1.58,
          0.32,
          3.98,
          1.94,
          0.6,
          1.6,
          1.8,
          0.48,
          2.39,
          1.07,
          1.13,
          1.91,
          2.21,
          1.51
         ],
         "yaxis": "y14"
        },
        {
         "boxpoints": "outliers",
         "fillcolor": "rgba(60,179,113,0.3)",
         "line": {
          "color": "seagreen"
         },
         "marker": {
          "color": "mediumseagreen",
          "size": 4
         },
         "name": "Empty Muscular Stomach Bin",
         "type": "box",
         "whiskerwidth": 0.2,
         "xaxis": "x15",
         "y": [
          1,
          0,
          1,
          0,
          0,
          0,
          0,
          0,
          0,
          0,
          0,
          0,
          1,
          0,
          0,
          0,
          0,
          0,
          0,
          0,
          0,
          0,
          0,
          0,
          1,
          0,
          0,
          0,
          0,
          0,
          0,
          0,
          0,
          0,
          0,
          0,
          1,
          0,
          0,
          0,
          0,
          0,
          0,
          0,
          0,
          0,
          0,
          0,
          0,
          0,
          0,
          0,
          0,
          0,
          0,
          0,
          0,
          0,
          0,
          0,
          0,
          0,
          0,
          0,
          0,
          0,
          0,
          0,
          0,
          0,
          0,
          0,
          0,
          0,
          0,
          0,
          0,
          0,
          0,
          0,
          0,
          0,
          0,
          0,
          0,
          0,
          0,
          0,
          0,
          0,
          0,
          0,
          0,
          0,
          0,
          0
         ],
         "yaxis": "y15"
        },
        {
         "boxpoints": "outliers",
         "fillcolor": "rgba(60,179,113,0.3)",
         "line": {
          "color": "seagreen"
         },
         "marker": {
          "color": "mediumseagreen",
          "size": 4
         },
         "name": "Empty Muscular Stomach Float",
         "type": "box",
         "whiskerwidth": 0.2,
         "xaxis": "x16",
         "y": [
          0,
          45.273,
          0,
          35.861,
          36.526,
          40.993,
          40.949,
          45.323,
          42.091,
          49.148,
          46.807,
          31.103,
          0,
          49.057,
          39.621,
          43.128,
          53.485,
          38.836,
          44.487,
          47.665,
          50.006,
          43.695,
          59.547,
          61.306,
          0,
          61.702,
          60.063,
          45.428,
          53.456,
          43.586,
          49.648,
          63.571,
          47.523,
          63.86,
          64.538,
          42.852,
          0,
          50.119,
          32.665,
          35.164,
          46.656,
          44.855,
          44.962,
          51.851,
          45.507,
          50.136,
          43.821,
          66.616,
          29.712,
          40.936,
          52.518,
          35.408,
          51.944,
          41.483,
          56.23,
          55.663,
          42.66,
          32.12,
          43.964,
          75.767,
          45.327,
          42.129,
          47.964,
          44.811,
          32.599,
          32.947,
          38.155,
          48.009,
          56.347,
          59.583,
          51.322,
          58.708,
          41.917,
          40.425,
          51.903,
          56.698,
          40.7,
          45.321,
          55.671,
          68.602,
          44.006,
          54.71,
          45.636,
          34.692,
          48.933,
          45.045,
          48.02,
          42.632,
          45.366,
          52.457,
          49.281,
          54.021,
          42.173,
          49.7,
          46.816,
          75.767
         ],
         "yaxis": "y16"
        }
       ],
       "layout": {
        "annotations": [
         {
          "font": {
           "size": 16
          },
          "showarrow": false,
          "text": "Weight",
          "x": 0.0078125,
          "xanchor": "center",
          "xref": "paper",
          "y": 1,
          "yanchor": "bottom",
          "yref": "paper"
         },
         {
          "font": {
           "size": 16
          },
          "showarrow": false,
          "text": "Hot Carcass Weight",
          "x": 0.0734375,
          "xanchor": "center",
          "xref": "paper",
          "y": 1,
          "yanchor": "bottom",
          "yref": "paper"
         },
         {
          "font": {
           "size": 16
          },
          "showarrow": false,
          "text": "Carcass Weight With Head And Legs",
          "x": 0.1390625,
          "xanchor": "center",
          "xref": "paper",
          "y": 1,
          "yanchor": "bottom",
          "yref": "paper"
         },
         {
          "font": {
           "size": 16
          },
          "showarrow": false,
          "text": "Cold Carcass Weight",
          "x": 0.20468750000000002,
          "xanchor": "center",
          "xref": "paper",
          "y": 1,
          "yanchor": "bottom",
          "yref": "paper"
         },
         {
          "font": {
           "size": 16
          },
          "showarrow": false,
          "text": "Breast Weight",
          "x": 0.2703125,
          "xanchor": "center",
          "xref": "paper",
          "y": 1,
          "yanchor": "bottom",
          "yref": "paper"
         },
         {
          "font": {
           "size": 16
          },
          "showarrow": false,
          "text": "Thigh Weight",
          "x": 0.3359375,
          "xanchor": "center",
          "xref": "paper",
          "y": 1,
          "yanchor": "bottom",
          "yref": "paper"
         },
         {
          "font": {
           "size": 16
          },
          "showarrow": false,
          "text": "Spleen",
          "x": 0.40156250000000004,
          "xanchor": "center",
          "xref": "paper",
          "y": 1,
          "yanchor": "bottom",
          "yref": "paper"
         },
         {
          "font": {
           "size": 16
          },
          "showarrow": false,
          "text": "Liver",
          "x": 0.46718750000000003,
          "xanchor": "center",
          "xref": "paper",
          "y": 1,
          "yanchor": "bottom",
          "yref": "paper"
         },
         {
          "font": {
           "size": 16
          },
          "showarrow": false,
          "text": "Heart",
          "x": 0.5328125,
          "xanchor": "center",
          "xref": "paper",
          "y": 1,
          "yanchor": "bottom",
          "yref": "paper"
         },
         {
          "font": {
           "size": 16
          },
          "showarrow": false,
          "text": "Intestine",
          "x": 0.5984375,
          "xanchor": "center",
          "xref": "paper",
          "y": 1,
          "yanchor": "bottom",
          "yref": "paper"
         },
         {
          "font": {
           "size": 16
          },
          "showarrow": false,
          "text": "Empty Muscular Stomach",
          "x": 0.6640625,
          "xanchor": "center",
          "xref": "paper",
          "y": 1,
          "yanchor": "bottom",
          "yref": "paper"
         },
         {
          "font": {
           "size": 16
          },
          "showarrow": false,
          "text": "Glandular Stomach",
          "x": 0.7296875,
          "xanchor": "center",
          "xref": "paper",
          "y": 1,
          "yanchor": "bottom",
          "yref": "paper"
         },
         {
          "font": {
           "size": 16
          },
          "showarrow": false,
          "text": "Crude Protein",
          "x": 0.7953125000000001,
          "xanchor": "center",
          "xref": "paper",
          "y": 1,
          "yanchor": "bottom",
          "yref": "paper"
         },
         {
          "font": {
           "size": 16
          },
          "showarrow": false,
          "text": "Ether Extract",
          "x": 0.8609375,
          "xanchor": "center",
          "xref": "paper",
          "y": 1,
          "yanchor": "bottom",
          "yref": "paper"
         },
         {
          "font": {
           "size": 16
          },
          "showarrow": false,
          "text": "Empty Muscular Stomach Bin",
          "x": 0.9265625000000001,
          "xanchor": "center",
          "xref": "paper",
          "y": 1,
          "yanchor": "bottom",
          "yref": "paper"
         },
         {
          "font": {
           "size": 16
          },
          "showarrow": false,
          "text": "Empty Muscular Stomach Float",
          "x": 0.9921875,
          "xanchor": "center",
          "xref": "paper",
          "y": 1,
          "yanchor": "bottom",
          "yref": "paper"
         }
        ],
        "height": 600,
        "plot_bgcolor": "white",
        "showlegend": false,
        "template": {
         "data": {
          "bar": [
           {
            "error_x": {
             "color": "#2a3f5f"
            },
            "error_y": {
             "color": "#2a3f5f"
            },
            "marker": {
             "line": {
              "color": "#E5ECF6",
              "width": 0.5
             },
             "pattern": {
              "fillmode": "overlay",
              "size": 10,
              "solidity": 0.2
             }
            },
            "type": "bar"
           }
          ],
          "barpolar": [
           {
            "marker": {
             "line": {
              "color": "#E5ECF6",
              "width": 0.5
             },
             "pattern": {
              "fillmode": "overlay",
              "size": 10,
              "solidity": 0.2
             }
            },
            "type": "barpolar"
           }
          ],
          "carpet": [
           {
            "aaxis": {
             "endlinecolor": "#2a3f5f",
             "gridcolor": "white",
             "linecolor": "white",
             "minorgridcolor": "white",
             "startlinecolor": "#2a3f5f"
            },
            "baxis": {
             "endlinecolor": "#2a3f5f",
             "gridcolor": "white",
             "linecolor": "white",
             "minorgridcolor": "white",
             "startlinecolor": "#2a3f5f"
            },
            "type": "carpet"
           }
          ],
          "choropleth": [
           {
            "colorbar": {
             "outlinewidth": 0,
             "ticks": ""
            },
            "type": "choropleth"
           }
          ],
          "contour": [
           {
            "colorbar": {
             "outlinewidth": 0,
             "ticks": ""
            },
            "colorscale": [
             [
              0,
              "#0d0887"
             ],
             [
              0.1111111111111111,
              "#46039f"
             ],
             [
              0.2222222222222222,
              "#7201a8"
             ],
             [
              0.3333333333333333,
              "#9c179e"
             ],
             [
              0.4444444444444444,
              "#bd3786"
             ],
             [
              0.5555555555555556,
              "#d8576b"
             ],
             [
              0.6666666666666666,
              "#ed7953"
             ],
             [
              0.7777777777777778,
              "#fb9f3a"
             ],
             [
              0.8888888888888888,
              "#fdca26"
             ],
             [
              1,
              "#f0f921"
             ]
            ],
            "type": "contour"
           }
          ],
          "contourcarpet": [
           {
            "colorbar": {
             "outlinewidth": 0,
             "ticks": ""
            },
            "type": "contourcarpet"
           }
          ],
          "heatmap": [
           {
            "colorbar": {
             "outlinewidth": 0,
             "ticks": ""
            },
            "colorscale": [
             [
              0,
              "#0d0887"
             ],
             [
              0.1111111111111111,
              "#46039f"
             ],
             [
              0.2222222222222222,
              "#7201a8"
             ],
             [
              0.3333333333333333,
              "#9c179e"
             ],
             [
              0.4444444444444444,
              "#bd3786"
             ],
             [
              0.5555555555555556,
              "#d8576b"
             ],
             [
              0.6666666666666666,
              "#ed7953"
             ],
             [
              0.7777777777777778,
              "#fb9f3a"
             ],
             [
              0.8888888888888888,
              "#fdca26"
             ],
             [
              1,
              "#f0f921"
             ]
            ],
            "type": "heatmap"
           }
          ],
          "heatmapgl": [
           {
            "colorbar": {
             "outlinewidth": 0,
             "ticks": ""
            },
            "colorscale": [
             [
              0,
              "#0d0887"
             ],
             [
              0.1111111111111111,
              "#46039f"
             ],
             [
              0.2222222222222222,
              "#7201a8"
             ],
             [
              0.3333333333333333,
              "#9c179e"
             ],
             [
              0.4444444444444444,
              "#bd3786"
             ],
             [
              0.5555555555555556,
              "#d8576b"
             ],
             [
              0.6666666666666666,
              "#ed7953"
             ],
             [
              0.7777777777777778,
              "#fb9f3a"
             ],
             [
              0.8888888888888888,
              "#fdca26"
             ],
             [
              1,
              "#f0f921"
             ]
            ],
            "type": "heatmapgl"
           }
          ],
          "histogram": [
           {
            "marker": {
             "pattern": {
              "fillmode": "overlay",
              "size": 10,
              "solidity": 0.2
             }
            },
            "type": "histogram"
           }
          ],
          "histogram2d": [
           {
            "colorbar": {
             "outlinewidth": 0,
             "ticks": ""
            },
            "colorscale": [
             [
              0,
              "#0d0887"
             ],
             [
              0.1111111111111111,
              "#46039f"
             ],
             [
              0.2222222222222222,
              "#7201a8"
             ],
             [
              0.3333333333333333,
              "#9c179e"
             ],
             [
              0.4444444444444444,
              "#bd3786"
             ],
             [
              0.5555555555555556,
              "#d8576b"
             ],
             [
              0.6666666666666666,
              "#ed7953"
             ],
             [
              0.7777777777777778,
              "#fb9f3a"
             ],
             [
              0.8888888888888888,
              "#fdca26"
             ],
             [
              1,
              "#f0f921"
             ]
            ],
            "type": "histogram2d"
           }
          ],
          "histogram2dcontour": [
           {
            "colorbar": {
             "outlinewidth": 0,
             "ticks": ""
            },
            "colorscale": [
             [
              0,
              "#0d0887"
             ],
             [
              0.1111111111111111,
              "#46039f"
             ],
             [
              0.2222222222222222,
              "#7201a8"
             ],
             [
              0.3333333333333333,
              "#9c179e"
             ],
             [
              0.4444444444444444,
              "#bd3786"
             ],
             [
              0.5555555555555556,
              "#d8576b"
             ],
             [
              0.6666666666666666,
              "#ed7953"
             ],
             [
              0.7777777777777778,
              "#fb9f3a"
             ],
             [
              0.8888888888888888,
              "#fdca26"
             ],
             [
              1,
              "#f0f921"
             ]
            ],
            "type": "histogram2dcontour"
           }
          ],
          "mesh3d": [
           {
            "colorbar": {
             "outlinewidth": 0,
             "ticks": ""
            },
            "type": "mesh3d"
           }
          ],
          "parcoords": [
           {
            "line": {
             "colorbar": {
              "outlinewidth": 0,
              "ticks": ""
             }
            },
            "type": "parcoords"
           }
          ],
          "pie": [
           {
            "automargin": true,
            "type": "pie"
           }
          ],
          "scatter": [
           {
            "fillpattern": {
             "fillmode": "overlay",
             "size": 10,
             "solidity": 0.2
            },
            "type": "scatter"
           }
          ],
          "scatter3d": [
           {
            "line": {
             "colorbar": {
              "outlinewidth": 0,
              "ticks": ""
             }
            },
            "marker": {
             "colorbar": {
              "outlinewidth": 0,
              "ticks": ""
             }
            },
            "type": "scatter3d"
           }
          ],
          "scattercarpet": [
           {
            "marker": {
             "colorbar": {
              "outlinewidth": 0,
              "ticks": ""
             }
            },
            "type": "scattercarpet"
           }
          ],
          "scattergeo": [
           {
            "marker": {
             "colorbar": {
              "outlinewidth": 0,
              "ticks": ""
             }
            },
            "type": "scattergeo"
           }
          ],
          "scattergl": [
           {
            "marker": {
             "colorbar": {
              "outlinewidth": 0,
              "ticks": ""
             }
            },
            "type": "scattergl"
           }
          ],
          "scattermapbox": [
           {
            "marker": {
             "colorbar": {
              "outlinewidth": 0,
              "ticks": ""
             }
            },
            "type": "scattermapbox"
           }
          ],
          "scatterpolar": [
           {
            "marker": {
             "colorbar": {
              "outlinewidth": 0,
              "ticks": ""
             }
            },
            "type": "scatterpolar"
           }
          ],
          "scatterpolargl": [
           {
            "marker": {
             "colorbar": {
              "outlinewidth": 0,
              "ticks": ""
             }
            },
            "type": "scatterpolargl"
           }
          ],
          "scatterternary": [
           {
            "marker": {
             "colorbar": {
              "outlinewidth": 0,
              "ticks": ""
             }
            },
            "type": "scatterternary"
           }
          ],
          "surface": [
           {
            "colorbar": {
             "outlinewidth": 0,
             "ticks": ""
            },
            "colorscale": [
             [
              0,
              "#0d0887"
             ],
             [
              0.1111111111111111,
              "#46039f"
             ],
             [
              0.2222222222222222,
              "#7201a8"
             ],
             [
              0.3333333333333333,
              "#9c179e"
             ],
             [
              0.4444444444444444,
              "#bd3786"
             ],
             [
              0.5555555555555556,
              "#d8576b"
             ],
             [
              0.6666666666666666,
              "#ed7953"
             ],
             [
              0.7777777777777778,
              "#fb9f3a"
             ],
             [
              0.8888888888888888,
              "#fdca26"
             ],
             [
              1,
              "#f0f921"
             ]
            ],
            "type": "surface"
           }
          ],
          "table": [
           {
            "cells": {
             "fill": {
              "color": "#EBF0F8"
             },
             "line": {
              "color": "white"
             }
            },
            "header": {
             "fill": {
              "color": "#C8D4E3"
             },
             "line": {
              "color": "white"
             }
            },
            "type": "table"
           }
          ]
         },
         "layout": {
          "annotationdefaults": {
           "arrowcolor": "#2a3f5f",
           "arrowhead": 0,
           "arrowwidth": 1
          },
          "autotypenumbers": "strict",
          "coloraxis": {
           "colorbar": {
            "outlinewidth": 0,
            "ticks": ""
           }
          },
          "colorscale": {
           "diverging": [
            [
             0,
             "#8e0152"
            ],
            [
             0.1,
             "#c51b7d"
            ],
            [
             0.2,
             "#de77ae"
            ],
            [
             0.3,
             "#f1b6da"
            ],
            [
             0.4,
             "#fde0ef"
            ],
            [
             0.5,
             "#f7f7f7"
            ],
            [
             0.6,
             "#e6f5d0"
            ],
            [
             0.7,
             "#b8e186"
            ],
            [
             0.8,
             "#7fbc41"
            ],
            [
             0.9,
             "#4d9221"
            ],
            [
             1,
             "#276419"
            ]
           ],
           "sequential": [
            [
             0,
             "#0d0887"
            ],
            [
             0.1111111111111111,
             "#46039f"
            ],
            [
             0.2222222222222222,
             "#7201a8"
            ],
            [
             0.3333333333333333,
             "#9c179e"
            ],
            [
             0.4444444444444444,
             "#bd3786"
            ],
            [
             0.5555555555555556,
             "#d8576b"
            ],
            [
             0.6666666666666666,
             "#ed7953"
            ],
            [
             0.7777777777777778,
             "#fb9f3a"
            ],
            [
             0.8888888888888888,
             "#fdca26"
            ],
            [
             1,
             "#f0f921"
            ]
           ],
           "sequentialminus": [
            [
             0,
             "#0d0887"
            ],
            [
             0.1111111111111111,
             "#46039f"
            ],
            [
             0.2222222222222222,
             "#7201a8"
            ],
            [
             0.3333333333333333,
             "#9c179e"
            ],
            [
             0.4444444444444444,
             "#bd3786"
            ],
            [
             0.5555555555555556,
             "#d8576b"
            ],
            [
             0.6666666666666666,
             "#ed7953"
            ],
            [
             0.7777777777777778,
             "#fb9f3a"
            ],
            [
             0.8888888888888888,
             "#fdca26"
            ],
            [
             1,
             "#f0f921"
            ]
           ]
          },
          "colorway": [
           "#636efa",
           "#EF553B",
           "#00cc96",
           "#ab63fa",
           "#FFA15A",
           "#19d3f3",
           "#FF6692",
           "#B6E880",
           "#FF97FF",
           "#FECB52"
          ],
          "font": {
           "color": "#2a3f5f"
          },
          "geo": {
           "bgcolor": "white",
           "lakecolor": "white",
           "landcolor": "#E5ECF6",
           "showlakes": true,
           "showland": true,
           "subunitcolor": "white"
          },
          "hoverlabel": {
           "align": "left"
          },
          "hovermode": "closest",
          "mapbox": {
           "style": "light"
          },
          "paper_bgcolor": "white",
          "plot_bgcolor": "#E5ECF6",
          "polar": {
           "angularaxis": {
            "gridcolor": "white",
            "linecolor": "white",
            "ticks": ""
           },
           "bgcolor": "#E5ECF6",
           "radialaxis": {
            "gridcolor": "white",
            "linecolor": "white",
            "ticks": ""
           }
          },
          "scene": {
           "xaxis": {
            "backgroundcolor": "#E5ECF6",
            "gridcolor": "white",
            "gridwidth": 2,
            "linecolor": "white",
            "showbackground": true,
            "ticks": "",
            "zerolinecolor": "white"
           },
           "yaxis": {
            "backgroundcolor": "#E5ECF6",
            "gridcolor": "white",
            "gridwidth": 2,
            "linecolor": "white",
            "showbackground": true,
            "ticks": "",
            "zerolinecolor": "white"
           },
           "zaxis": {
            "backgroundcolor": "#E5ECF6",
            "gridcolor": "white",
            "gridwidth": 2,
            "linecolor": "white",
            "showbackground": true,
            "ticks": "",
            "zerolinecolor": "white"
           }
          },
          "shapedefaults": {
           "line": {
            "color": "#2a3f5f"
           }
          },
          "ternary": {
           "aaxis": {
            "gridcolor": "white",
            "linecolor": "white",
            "ticks": ""
           },
           "baxis": {
            "gridcolor": "white",
            "linecolor": "white",
            "ticks": ""
           },
           "bgcolor": "#E5ECF6",
           "caxis": {
            "gridcolor": "white",
            "linecolor": "white",
            "ticks": ""
           }
          },
          "title": {
           "x": 0.05
          },
          "xaxis": {
           "automargin": true,
           "gridcolor": "white",
           "linecolor": "white",
           "ticks": "",
           "title": {
            "standoff": 15
           },
           "zerolinecolor": "white",
           "zerolinewidth": 2
          },
          "yaxis": {
           "automargin": true,
           "gridcolor": "white",
           "linecolor": "white",
           "ticks": "",
           "title": {
            "standoff": 15
           },
           "zerolinecolor": "white",
           "zerolinewidth": 2
          }
         }
        },
        "title": {
         "font": {
          "size": 24
         },
         "text": "Outliers Analysis"
        },
        "width": 4800,
        "xaxis": {
         "anchor": "y",
         "domain": [
          0,
          0.015625
         ]
        },
        "xaxis10": {
         "anchor": "y10",
         "domain": [
          0.590625,
          0.60625
         ]
        },
        "xaxis11": {
         "anchor": "y11",
         "domain": [
          0.65625,
          0.671875
         ]
        },
        "xaxis12": {
         "anchor": "y12",
         "domain": [
          0.721875,
          0.7375
         ]
        },
        "xaxis13": {
         "anchor": "y13",
         "domain": [
          0.7875000000000001,
          0.8031250000000001
         ]
        },
        "xaxis14": {
         "anchor": "y14",
         "domain": [
          0.853125,
          0.86875
         ]
        },
        "xaxis15": {
         "anchor": "y15",
         "domain": [
          0.9187500000000001,
          0.9343750000000001
         ]
        },
        "xaxis16": {
         "anchor": "y16",
         "domain": [
          0.984375,
          1
         ]
        },
        "xaxis2": {
         "anchor": "y2",
         "domain": [
          0.065625,
          0.08125
         ]
        },
        "xaxis3": {
         "anchor": "y3",
         "domain": [
          0.13125,
          0.146875
         ]
        },
        "xaxis4": {
         "anchor": "y4",
         "domain": [
          0.19687500000000002,
          0.21250000000000002
         ]
        },
        "xaxis5": {
         "anchor": "y5",
         "domain": [
          0.2625,
          0.278125
         ]
        },
        "xaxis6": {
         "anchor": "y6",
         "domain": [
          0.328125,
          0.34375
         ]
        },
        "xaxis7": {
         "anchor": "y7",
         "domain": [
          0.39375000000000004,
          0.40937500000000004
         ]
        },
        "xaxis8": {
         "anchor": "y8",
         "domain": [
          0.45937500000000003,
          0.47500000000000003
         ]
        },
        "xaxis9": {
         "anchor": "y9",
         "domain": [
          0.525,
          0.540625
         ]
        },
        "yaxis": {
         "anchor": "x",
         "domain": [
          0,
          1
         ],
         "zeroline": false
        },
        "yaxis10": {
         "anchor": "x10",
         "domain": [
          0,
          1
         ],
         "zeroline": false
        },
        "yaxis11": {
         "anchor": "x11",
         "domain": [
          0,
          1
         ],
         "zeroline": false
        },
        "yaxis12": {
         "anchor": "x12",
         "domain": [
          0,
          1
         ],
         "zeroline": false
        },
        "yaxis13": {
         "anchor": "x13",
         "domain": [
          0,
          1
         ],
         "zeroline": false
        },
        "yaxis14": {
         "anchor": "x14",
         "domain": [
          0,
          1
         ],
         "zeroline": false
        },
        "yaxis15": {
         "anchor": "x15",
         "domain": [
          0,
          1
         ],
         "zeroline": false
        },
        "yaxis16": {
         "anchor": "x16",
         "domain": [
          0,
          1
         ],
         "zeroline": false
        },
        "yaxis2": {
         "anchor": "x2",
         "domain": [
          0,
          1
         ],
         "zeroline": false
        },
        "yaxis3": {
         "anchor": "x3",
         "domain": [
          0,
          1
         ],
         "zeroline": false
        },
        "yaxis4": {
         "anchor": "x4",
         "domain": [
          0,
          1
         ],
         "zeroline": false
        },
        "yaxis5": {
         "anchor": "x5",
         "domain": [
          0,
          1
         ],
         "zeroline": false
        },
        "yaxis6": {
         "anchor": "x6",
         "domain": [
          0,
          1
         ],
         "zeroline": false
        },
        "yaxis7": {
         "anchor": "x7",
         "domain": [
          0,
          1
         ],
         "zeroline": false
        },
        "yaxis8": {
         "anchor": "x8",
         "domain": [
          0,
          1
         ],
         "zeroline": false
        },
        "yaxis9": {
         "anchor": "x9",
         "domain": [
          0,
          1
         ],
         "zeroline": false
        }
       }
      }
     },
     "metadata": {},
     "output_type": "display_data"
    }
   ],
   "source": [
    "plot_boxplots(df, df.columns)"
   ]
  },
  {
   "cell_type": "markdown",
   "id": "a703ba75",
   "metadata": {},
   "source": [
    "Given the presence of outliers and the small size of the dataset, the best approach is to incorporate the Robust Scaler into the model's pipeline."
   ]
  },
  {
   "cell_type": "markdown",
   "id": "9236cefb",
   "metadata": {},
   "source": [
    "#### Correlations"
   ]
  },
  {
   "cell_type": "code",
   "execution_count": 21,
   "id": "24949271",
   "metadata": {},
   "outputs": [
    {
     "data": {
      "image/png": "[encoded data removed]",
      "text/plain": [
       "<Figure size 2000x1500 with 9 Axes>"
      ]
     },
     "metadata": {},
     "output_type": "display_data"
    },
    {
     "name": "stdout",
     "output_type": "stream",
     "text": [
      "Correlations with crude_protein:\n"
     ]
    },
    {
     "data": {
      "text/html": [
       "<style type=\"text/css\">\n",
       "#T_9dbc5_row0_col0 {\n",
       "  background-color: #d4efec;\n",
       "  color: #000000;\n",
       "}\n",
       "#T_9dbc5_row0_col1 {\n",
       "  background-color: #d8f0ef;\n",
       "  color: #000000;\n",
       "}\n",
       "#T_9dbc5_row1_col0 {\n",
       "  background-color: #208843;\n",
       "  color: #f1f1f1;\n",
       "}\n",
       "#T_9dbc5_row1_col1 {\n",
       "  background-color: #2b9452;\n",
       "  color: #f1f1f1;\n",
       "}\n",
       "#T_9dbc5_row2_col0, #T_9dbc5_row3_col0 {\n",
       "  background-color: #218944;\n",
       "  color: #f1f1f1;\n",
       "}\n",
       "#T_9dbc5_row2_col1, #T_9dbc5_row3_col1 {\n",
       "  background-color: #27904c;\n",
       "  color: #f1f1f1;\n",
       "}\n",
       "#T_9dbc5_row4_col0 {\n",
       "  background-color: #238b45;\n",
       "  color: #f1f1f1;\n",
       "}\n",
       "#T_9dbc5_row4_col1 {\n",
       "  background-color: #29924f;\n",
       "  color: #f1f1f1;\n",
       "}\n",
       "#T_9dbc5_row5_col0 {\n",
       "  background-color: #248c47;\n",
       "  color: #f1f1f1;\n",
       "}\n",
       "#T_9dbc5_row5_col1 {\n",
       "  background-color: #319c5c;\n",
       "  color: #f1f1f1;\n",
       "}\n",
       "#T_9dbc5_row6_col0 {\n",
       "  background-color: #8dd3c0;\n",
       "  color: #000000;\n",
       "}\n",
       "#T_9dbc5_row6_col1 {\n",
       "  background-color: #7acbb3;\n",
       "  color: #000000;\n",
       "}\n",
       "#T_9dbc5_row7_col0 {\n",
       "  background-color: #4fb688;\n",
       "  color: #f1f1f1;\n",
       "}\n",
       "#T_9dbc5_row7_col1 {\n",
       "  background-color: #47b17e;\n",
       "  color: #f1f1f1;\n",
       "}\n",
       "#T_9dbc5_row8_col0 {\n",
       "  background-color: #51b689;\n",
       "  color: #f1f1f1;\n",
       "}\n",
       "#T_9dbc5_row8_col1 {\n",
       "  background-color: #54b88e;\n",
       "  color: #f1f1f1;\n",
       "}\n",
       "#T_9dbc5_row9_col0 {\n",
       "  background-color: #52b78b;\n",
       "  color: #f1f1f1;\n",
       "}\n",
       "#T_9dbc5_row9_col1 {\n",
       "  background-color: #5dbd99;\n",
       "  color: #000000;\n",
       "}\n",
       "#T_9dbc5_row10_col0 {\n",
       "  background-color: #55b98f;\n",
       "  color: #f1f1f1;\n",
       "}\n",
       "#T_9dbc5_row10_col1 {\n",
       "  background-color: #4db585;\n",
       "  color: #f1f1f1;\n",
       "}\n",
       "#T_9dbc5_row11_col0 {\n",
       "  background-color: #59bb93;\n",
       "  color: #f1f1f1;\n",
       "}\n",
       "#T_9dbc5_row11_col1 {\n",
       "  background-color: #5cbd98;\n",
       "  color: #f1f1f1;\n",
       "}\n",
       "#T_9dbc5_row12_col0 {\n",
       "  background-color: #5bbc96;\n",
       "  color: #f1f1f1;\n",
       "}\n",
       "#T_9dbc5_row12_col1 {\n",
       "  background-color: #67c2a5;\n",
       "  color: #000000;\n",
       "}\n",
       "#T_9dbc5_row13_col0 {\n",
       "  background-color: #6dc5a9;\n",
       "  color: #000000;\n",
       "}\n",
       "#T_9dbc5_row13_col1 {\n",
       "  background-color: #6ac4a7;\n",
       "  color: #000000;\n",
       "}\n",
       "</style>\n",
       "<table id=\"T_9dbc5\">\n",
       "  <thead>\n",
       "    <tr>\n",
       "      <th class=\"blank level0\" >&nbsp;</th>\n",
       "      <th id=\"T_9dbc5_level0_col0\" class=\"col_heading level0 col0\" >spearman</th>\n",
       "      <th id=\"T_9dbc5_level0_col1\" class=\"col_heading level0 col1\" >pearson</th>\n",
       "    </tr>\n",
       "    <tr>\n",
       "      <th class=\"index_name level0\" >feature</th>\n",
       "      <th class=\"blank col0\" >&nbsp;</th>\n",
       "      <th class=\"blank col1\" >&nbsp;</th>\n",
       "    </tr>\n",
       "  </thead>\n",
       "  <tbody>\n",
       "    <tr>\n",
       "      <th id=\"T_9dbc5_level0_row0\" class=\"row_heading level0 row0\" >ether_extract</th>\n",
       "      <td id=\"T_9dbc5_row0_col0\" class=\"data row0 col0\" >-0.582762</td>\n",
       "      <td id=\"T_9dbc5_row0_col1\" class=\"data row0 col1\" >-0.612023</td>\n",
       "    </tr>\n",
       "    <tr>\n",
       "      <th id=\"T_9dbc5_level0_row1\" class=\"row_heading level0 row1\" >weight</th>\n",
       "      <td id=\"T_9dbc5_row1_col0\" class=\"data row1 col0\" >0.519340</td>\n",
       "      <td id=\"T_9dbc5_row1_col1\" class=\"data row1 col1\" >0.435335</td>\n",
       "    </tr>\n",
       "    <tr>\n",
       "      <th id=\"T_9dbc5_level0_row2\" class=\"row_heading level0 row2\" >cold_carcass_weight</th>\n",
       "      <td id=\"T_9dbc5_row2_col0\" class=\"data row2 col0\" >0.509838</td>\n",
       "      <td id=\"T_9dbc5_row2_col1\" class=\"data row2 col1\" >0.467681</td>\n",
       "    </tr>\n",
       "    <tr>\n",
       "      <th id=\"T_9dbc5_level0_row3\" class=\"row_heading level0 row3\" >hot_carcass_weight</th>\n",
       "      <td id=\"T_9dbc5_row3_col0\" class=\"data row3 col0\" >0.508193</td>\n",
       "      <td id=\"T_9dbc5_row3_col1\" class=\"data row3 col1\" >0.466773</td>\n",
       "    </tr>\n",
       "    <tr>\n",
       "      <th id=\"T_9dbc5_level0_row4\" class=\"row_heading level0 row4\" >carcass_weight_with_head_and_legs</th>\n",
       "      <td id=\"T_9dbc5_row4_col0\" class=\"data row4 col0\" >0.498589</td>\n",
       "      <td id=\"T_9dbc5_row4_col1\" class=\"data row4 col1\" >0.446827</td>\n",
       "    </tr>\n",
       "    <tr>\n",
       "      <th id=\"T_9dbc5_level0_row5\" class=\"row_heading level0 row5\" >thigh_weight</th>\n",
       "      <td id=\"T_9dbc5_row5_col0\" class=\"data row5 col0\" >0.485786</td>\n",
       "      <td id=\"T_9dbc5_row5_col1\" class=\"data row5 col1\" >0.379469</td>\n",
       "    </tr>\n",
       "    <tr>\n",
       "      <th id=\"T_9dbc5_level0_row6\" class=\"row_heading level0 row6\" >empty_muscular_stomach_bin</th>\n",
       "      <td id=\"T_9dbc5_row6_col0\" class=\"data row6 col0\" >-0.190323</td>\n",
       "      <td id=\"T_9dbc5_row6_col1\" class=\"data row6 col1\" >-0.101427</td>\n",
       "    </tr>\n",
       "    <tr>\n",
       "      <th id=\"T_9dbc5_level0_row7\" class=\"row_heading level0 row7\" >heart</th>\n",
       "      <td id=\"T_9dbc5_row7_col0\" class=\"data row7 col0\" >0.153040</td>\n",
       "      <td id=\"T_9dbc5_row7_col1\" class=\"data row7 col1\" >0.205162</td>\n",
       "    </tr>\n",
       "    <tr>\n",
       "      <th id=\"T_9dbc5_level0_row8\" class=\"row_heading level0 row8\" >liver</th>\n",
       "      <td id=\"T_9dbc5_row8_col0\" class=\"data row8 col0\" >0.145050</td>\n",
       "      <td id=\"T_9dbc5_row8_col1\" class=\"data row8 col1\" >0.123440</td>\n",
       "    </tr>\n",
       "    <tr>\n",
       "      <th id=\"T_9dbc5_level0_row9\" class=\"row_heading level0 row9\" >breast_weight</th>\n",
       "      <td id=\"T_9dbc5_row9_col0\" class=\"data row9 col0\" >0.134438</td>\n",
       "      <td id=\"T_9dbc5_row9_col1\" class=\"data row9 col1\" >0.059441</td>\n",
       "    </tr>\n",
       "    <tr>\n",
       "      <th id=\"T_9dbc5_level0_row10\" class=\"row_heading level0 row10\" >empty_muscular_stomach_float</th>\n",
       "      <td id=\"T_9dbc5_row10_col0\" class=\"data row10 col0\" >0.113200</td>\n",
       "      <td id=\"T_9dbc5_row10_col1\" class=\"data row10 col1\" >0.170888</td>\n",
       "    </tr>\n",
       "    <tr>\n",
       "      <th id=\"T_9dbc5_level0_row11\" class=\"row_heading level0 row11\" >spleen</th>\n",
       "      <td id=\"T_9dbc5_row11_col0\" class=\"data row11 col0\" >0.090275</td>\n",
       "      <td id=\"T_9dbc5_row11_col1\" class=\"data row11 col1\" >0.068333</td>\n",
       "    </tr>\n",
       "    <tr>\n",
       "      <th id=\"T_9dbc5_level0_row12\" class=\"row_heading level0 row12\" >intestine</th>\n",
       "      <td id=\"T_9dbc5_row12_col0\" class=\"data row12 col0\" >0.073427</td>\n",
       "      <td id=\"T_9dbc5_row12_col1\" class=\"data row12 col1\" >-0.007255</td>\n",
       "    </tr>\n",
       "    <tr>\n",
       "      <th id=\"T_9dbc5_level0_row13\" class=\"row_heading level0 row13\" >glandular_stomach</th>\n",
       "      <td id=\"T_9dbc5_row13_col0\" class=\"data row13 col0\" >-0.032895</td>\n",
       "      <td id=\"T_9dbc5_row13_col1\" class=\"data row13 col1\" >-0.021580</td>\n",
       "    </tr>\n",
       "  </tbody>\n",
       "</table>\n"
      ],
      "text/plain": [
       "<pandas.io.formats.style.Styler at 0x25dfbc83680>"
      ]
     },
     "metadata": {},
     "output_type": "display_data"
    }
   ],
   "source": [
    "#code adapted from previous work\n",
    "\n",
    "# correlations with crude_protein\n",
    "target = 'crude_protein'\n",
    "numeric_cols = df.select_dtypes(include=['number']).columns\n",
    "features = [col for col in numeric_cols if col != target] \n",
    "\n",
    "# both correlation types\n",
    "corr_data = df[features + [target]]  # Note: target needs to be in a list\n",
    "spearman_corr = corr_data.corr(method='spearman')[target]\n",
    "pearson_corr = corr_data.corr(method='pearson')[target]\n",
    "\n",
    "# Combine into a DataFrame for easier analysis\n",
    "corr_df = pd.DataFrame({\n",
    "    'feature': features,\n",
    "    'spearman': spearman_corr[features],\n",
    "    'pearson': pearson_corr[features]\n",
    "}).sort_values(by='spearman', key=abs, ascending=False)\n",
    "\n",
    "# Set threshold (adjust as needed)\n",
    "threshold = 0.15\n",
    "significant_features = corr_df[(abs(corr_df['spearman']) >= threshold) | \n",
    "                             (abs(corr_df['pearson']) >= threshold)]\n",
    "\n",
    "# Plot settings\n",
    "num_features = len(significant_features)\n",
    "num_cols = 3\n",
    "num_rows = (num_features + num_cols - 1) // num_cols\n",
    "fig, axes = plt.subplots(num_rows, num_cols, figsize=(20, 5*num_rows))\n",
    "if num_features > 0:  # Only proceed if there are significant features\n",
    "    if num_rows == 1:\n",
    "        axes = axes.reshape(1, -1)  # Ensure axes is always 2D\n",
    "\n",
    "    # Plot each significant feature against target\n",
    "    for i, (_, row) in enumerate(significant_features.iterrows()):\n",
    "        ax = axes[i//num_cols, i%num_cols]\n",
    "        feature = row['feature']\n",
    "        \n",
    "        # Scatterplot\n",
    "        sns.scatterplot(x=df[feature], y=df[target], ax=ax, color='mediumseagreen', alpha=0.6)\n",
    "        \n",
    "        # Regression line if possible\n",
    "        if df[feature].nunique() > 1:\n",
    "            try:\n",
    "                sns.regplot(x=df[feature], y=df[target], ax=ax, \n",
    "                            scatter=False, color='red', line_kws={'linewidth':2})\n",
    "            except:\n",
    "                pass\n",
    "        \n",
    "        # Add correlation info to title\n",
    "        ax.set_title(f\"{feature}\\nSpearman: {row['spearman']:.2f} | Pearson: {row['pearson']:.2f}\")\n",
    "        ax.set_xlabel('')\n",
    "        ax.set_ylabel('crude_protein')\n",
    "\n",
    "    # Hide empty subplots\n",
    "    for j in range(i+1, num_rows*num_cols):\n",
    "        fig.delaxes(axes.flatten()[j])\n",
    "\n",
    "    plt.tight_layout()\n",
    "    plt.show()\n",
    "\n",
    "    # Show correlation table\n",
    "    corr_df = corr_df.set_index('feature')\n",
    "    print(\"Correlations with crude_protein:\")\n",
    "    display(corr_df.style.background_gradient(cmap='BuGn', vmin=-1, vmax=1))\n",
    "else:\n",
    "    print(f\"No features found with correlation >= {threshold}\")"
   ]
  },
  {
   "cell_type": "markdown",
   "id": "2b3ab7b6",
   "metadata": {},
   "source": [
    "When  picking features for modeling, it's crucial to give a special focus on those that have the strongest correlation with the target variable, since they tend to boost predictive performance the most.\n",
    "\n",
    "In this scenario, features like ether_extract, weight, cold_carcass_weight, hot_carcass_weight, carcass_weight_with_head_and_legs, and thigh_weight stand out with the highest correlation to the target, making them key candidates for inclusion. \n",
    "\n",
    "But just because a feature has a high correlation doesn’t mean thy are useless, features that might seem less significant on their own—like heart, liver, or breast_weight—can still bring value when paired with others, especially in non-linear models or when considering interaction effects. So, while the strongest features lay a solid groundwork, it’s wise not to overlook the weaker ones too quickly without doing some additional testing in the modeling process."
   ]
  },
  {
   "cell_type": "code",
   "execution_count": 22,
   "id": "abd66ccc",
   "metadata": {},
   "outputs": [
    {
     "data": {
      "image/png": "[encoded data removed]",
      "text/plain": [
       "<Figure size 1200x800 with 2 Axes>"
      ]
     },
     "metadata": {},
     "output_type": "display_data"
    }
   ],
   "source": [
    "corr = df[features].corr().round(2)\n",
    "fig = plt.figure(figsize=(12, 8))\n",
    "\n",
    "# annotation matrix - values above |0.3| will appear in the plot\n",
    "mask_annot = np.absolute(corr.values) >= 0.3\n",
    "annot = np.where(mask_annot, corr.values, np.full(corr.shape, ''))\n",
    "sns.heatmap(data = corr, annot = annot, cmap = 'BuGn', fmt = 's', vmin = -1, vmax = 1, center = 0, square = True, linewidths = 0, annot_kws = {'size': 12})\n",
    "\n",
    "fig.subplots_adjust(top = 0.95)\n",
    "fig.suptitle('Final Correlation matrix');"
   ]
  },
  {
   "cell_type": "markdown",
   "id": "2790f27e",
   "metadata": {},
   "source": [
    "The correlation matrix reveals some strong linear relationships among various variables, which points to possible redundancy in the dataset:\n",
    "\n",
    "- For example, weight, hot_carcass_weight, carcass_weight_with_head_and_legs, and cold_carcass_weight are all highly correlated with each other, with values ranging from 0.94 to 0.98, very high. This indicates that including all four in a model or analysis could lead to multicollinearity issues.\n",
    "\n",
    "- So, to simplify, we might want to keep just one representative variable—like hot_carcass_weight—and leave the others out.. Similarly, thigh_weight has a strong correlation with the carcass weights (up to 0.77), suggesting it could also be somewhat redundant if we already have carcass weight in the mix.\n",
    "\n"
   ]
  },
  {
   "cell_type": "markdown",
   "id": "2b9dd0d4",
   "metadata": {},
   "source": [
    "We are going to keep `empty_muscular_stomach_bin` since it has a better correlation witht the target."
   ]
  },
  {
   "cell_type": "code",
   "execution_count": 23,
   "id": "7e57862a",
   "metadata": {},
   "outputs": [],
   "source": [
    "df['empty_muscular_stomach'] = df['empty_muscular_stomach_bin'] "
   ]
  },
  {
   "cell_type": "code",
   "execution_count": 24,
   "id": "ca4bc978",
   "metadata": {},
   "outputs": [],
   "source": [
    "df = df.drop(columns=['empty_muscular_stomach_float', 'empty_muscular_stomach_bin'])"
   ]
  },
  {
   "cell_type": "markdown",
   "id": "ff3534d5",
   "metadata": {},
   "source": [
    "`IMPORTANT:`the project description spcifically says \"predict the crude protein weight using the remaining features in the dataset, excluding the animal ID.\" so we corrected the `empty_muscular_stomach` but we will not perform feature selection at this stage, basically we ll have this initial approach were we will test the models with all the features. If futher instructions state otherwise we will follow the analysis above."
   ]
  },
  {
   "cell_type": "markdown",
   "id": "d8214f95",
   "metadata": {},
   "source": [
    "### <a id=\"method-selection\"></a> \n",
    "<div style=\"background-color: hsla(120, 71.40%, 43.90%, 0.30); padding: 10px; border-radius: 8px; text-align: center; margin-top: 20px; margin-bottom: 20px;\">\n",
    "    <h3 style=\"color: white; margin: 0;\">Choosing the method and parameters for each model</h3>\n",
    "</div>\n",
    "\n",
    "[Back to Index](#idx)"
   ]
  },
  {
   "cell_type": "markdown",
   "id": "da7aae71",
   "metadata": {},
   "source": [
    "- [1. Nested cross-validation vs. Monte Carlo cross-validation](#method) \n",
    "- [2. Genetic Programming (GP)](#gp) - Delivery 1 (Done)\n",
    "- [3. Geometric Semantic Geometric Programming (GSGP)](#gsgp) - Delivery 2 (Done)\n",
    "- [4. Semantic Learning algorithm with Inflate and deflate Mutations (SLIM)](#slim) - Delivery 3 (Done)\n",
    "- [5. Neural Network (NN)](#nn) - Delivery 4 (Done)\n",
    "- [6. NeuroEvolution of Augmenting Topologies (NEAT)](#neat) - Delivery 4 (Done)"
   ]
  },
  {
   "cell_type": "markdown",
   "id": "6b4f622f",
   "metadata": {},
   "source": [
    "#### <a id=\"method\"></a> \n",
    "<div style=\"background-color: hsla(120, 71.40%, 43.90%, 0.30); padding: 10px; border-radius: 8px; text-align: left; margin-top: 20px; margin-bottom: 20px;\">\n",
    "    <h4 style=\"color: white; margin: 0;\">1. Nested cross-validation vs. Monte Carlo cross-validatio</h4>\n",
    "</div>\n",
    "\n",
    "[Back to Index](#idx)"
   ]
  },
  {
   "cell_type": "markdown",
   "id": "e3c7d5c0",
   "metadata": {},
   "source": [
    "In this project, we opted for **nested cross-validation (nested CV)** as our dataset partitioning strategy for both model selection (hyperparameter tuning) and performance evaluation.\n",
    "\n",
    "This decision was based on the following considerations:\n",
    "\n",
    "1. **Final Comparative Evaluation Across Algorithms**  \n",
    "   At the end of the project, _\"the same partitions should be used across all the algorithms to be studied\"_, we will compare Genetic Programming (GP) and Geometric Semantic Genetic Programming (GSGP) and other machine learning algorithms.  \n",
    "   To ensure a **fair and unbiased comparison**, the **same dataset partitions** must be used across all algorithms (are all evaluated under the same conditions basically) - Nested CV provides a systematic and reproducible way to maintain this consistency.\n",
    "\n",
    "2. **Separation of Concerns: Tuning vs. Evaluation**  \n",
    "   Nested CV explicitly separates the hyperparameter optimization (inner loop) from the model evaluation (outer loop).  \n",
    "   This avoids **information leakage** and reduces the risk of **overfitting during model selection**, which is particularly relevant for algorithms like GP that are prone to overfitting and premature convergence.\n",
    "   \"the advantage of doing several iterations in cross-validation is that it allows us to obtain an error estimate that is not dependent on a single data splitting and a particular choice of the training data\"_ (Vanneschi & Silva, Sec. 5.3, p.130). Nested CV extends this robustness by adding an inner loop for model selection, which further reduces the risk of biased or optimistic performance estimation.\n",
    "\n",
    "3. **Avoiding Pitfalls of Monte Carlo CV in This Context**\n",
    "   Although Monte Carlo cross-validation (or repeated random subsampling) can be viewd as an alternative (Vanneschi & Silva, p.130-131), it comes with a notable limitation: _\"some observations may never be selected for the test set, while others will be selected more than once\"_. In this project, where a **comparative and reproducible evaluation across multiple algorithms is required**, this irregularity makes Monte Carlo CV less appropriate than nested CV.  Using a **K-Fold outer loop** (e.g., `K=10`) ensures that every instance in the dataset is used for testing exactly once, and for training K-1 times, and combined with an **inner K-Fold** (e.g., `K=5`) for tuning, this strategy enables robust **statistical comparisons** (e.g., Wilcoxon tests, Friedman + Nemenyi post-hoc), which are essential to draw valid conclusions about performance differences between models.\n",
    "\n",
    "   The  different CV strategies may be appropriate for different phases: _\"it may make sense to use 5-fold or 10-fold cross-validation for choosing the method and parameters (...) and then use Monte Carlo (...) for a thorough estimation of the error\"_ (p.131).  \n",
    "   However, since our pipeline includes both tuning and evaluation as part of the **same CV process**, and comparison across methods is the final goal, we apply nested CV consistently for both.\n",
    "\n",
    "4. Despite the relatively small size of our dataset (96 instances), we argue that nested cross-validation remains a justified choice. As pointed out by Vanneschi & Silva (Section 5.3), the reliability of performance estimation is a crucial concern when data is scarce. Nested CV is particularly effective in avoiding overfitting during hyperparameter tuning, which becomes even more critical under these circumstances.\n",
    "\n",
    "The training and test sets generated in each fold still preserve enough data to fit and evaluate meaningful models. Moreover, since the dataset is small, the computational overhead introduced by nested CV is negligible.\n",
    "\n",
    "In summary, while some may consider using Monte Carlo cross-validation to reduce computational cost or avoid small folds, the benefits of using nested cross-validation — particularly in terms of fair model selection and unbiased generalization error estimation — outweigh the drawbacks, especially when working with limited data.\n"
   ]
  },
  {
   "cell_type": "code",
   "execution_count": 25,
   "id": "5f4ef174",
   "metadata": {},
   "outputs": [],
   "source": [
    "target = 'crude_protein'\n",
    "X = df.drop(columns=[target])\n",
    "y = df[target]"
   ]
  },
  {
   "cell_type": "code",
   "execution_count": 26,
   "id": "b0b16aec",
   "metadata": {},
   "outputs": [
    {
     "name": "stdout",
     "output_type": "stream",
     "text": [
      "Total Instances:\t96\n",
      "--\n",
      "Outer Train set:\t77\n",
      "Test set:\t\t19\n",
      "--\n",
      "Inner Train set:\t52\n",
      "Validation set:\t\t25\n",
      "\n"
     ]
    }
   ],
   "source": [
    "k_outer = 5\n",
    "k_inner = 3\n",
    "# https://scikit-learn.org/stable/modules/generated/sklearn.model_selection.KFold.html\n",
    "outer_cv = KFold(n_splits=k_outer, shuffle=True, random_state=seed)\n",
    "inner_cv = KFold(n_splits=k_inner, shuffle=True, random_state=seed)\n",
    "\n",
    "total_instances = X.shape[0]\n",
    "outer_test_size = total_instances // k_outer\n",
    "outer_train_size = total_instances - outer_test_size\n",
    "inner_val_size = outer_train_size // k_inner\n",
    "inner_train_size = outer_train_size - inner_val_size\n",
    "\n",
    "print(f'Total Instances:\\t{total_instances}\\n--')\n",
    "print(f'Outer Train set:\\t{outer_train_size}')\n",
    "print(f'Test set:\\t\\t{outer_test_size}\\n--')\n",
    "print(f'Inner Train set:\\t{inner_train_size}')\n",
    "print(f'Validation set:\\t\\t{inner_val_size}\\n')"
   ]
  },
  {
   "cell_type": "markdown",
   "id": "43374ba8",
   "metadata": {},
   "source": [
    "- Dataset size: 96 samples -> GP can overfit easily on small data if trees get too big or the population too complex"
   ]
  },
  {
   "cell_type": "code",
   "execution_count": 27,
   "id": "197d249a",
   "metadata": {},
   "outputs": [],
   "source": [
    "# ===================== Nested CV Generator =====================\n",
    "def nested_cv_generator(X, y, k_outer=10, k_inner=3, random_state=None):\n",
    "    \"\"\" https://machinelearningmastery.com/nested-cross-validation-for-machine-learning-with-python/\"\"\"\n",
    "    outer_cv = KFold(n_splits=k_outer, shuffle=True, random_state=random_state)\n",
    "    for outer_train_idx, outer_test_idx in outer_cv.split(X):\n",
    "        X_outer_train = X.iloc[outer_train_idx].reset_index(drop=True)\n",
    "        y_outer_train = y.iloc[outer_train_idx].reset_index(drop=True)\n",
    "        X_test = X.iloc[outer_test_idx].reset_index(drop=True)\n",
    "        y_test = y.iloc[outer_test_idx].reset_index(drop=True)\n",
    "\n",
    "        inner_cv = KFold(n_splits=k_inner, shuffle=True, random_state=random_state)\n",
    "        inner_splits = list(inner_cv.split(X_outer_train))\n",
    "\n",
    "        yield {\n",
    "            'X_outer_train': X_outer_train,\n",
    "            'y_outer_train': y_outer_train,\n",
    "            'X_test': X_test,\n",
    "            'y_test': y_test,\n",
    "            'inner_splits': inner_splits,\n",
    "        }"
   ]
  },
  {
   "cell_type": "markdown",
   "id": "dfb3099b",
   "metadata": {},
   "source": [
    "#### <a id=\"gp\"></a> \n",
    "<div style=\"background-color: hsla(120, 71.40%, 43.90%, 0.30); padding: 10px; border-radius: 8px; text-align: left; margin-top: 20px; margin-bottom: 20px;\">\n",
    "    <h4 style=\"color: white; margin: 0;\">2. Genetic Programming (GP)</h4>\n",
    "</div>\n",
    "\n",
    "[Back to Index](#idx)"
   ]
  },
  {
   "cell_type": "raw",
   "id": "8e6e92fa",
   "metadata": {
    "vscode": {
     "languageId": "raw"
    }
   },
   "source": [
    "# ========== Safe Inverse Transform ========== #\n",
    "def safe_inverse_transform(scaler, y):\n",
    "    if y.ndim == 1:\n",
    "        y = y.reshape(-1, 1)\n",
    "    return scaler.inverse_transform(y).flatten()"
   ]
  },
  {
   "cell_type": "markdown",
   "id": "6c5434d1",
   "metadata": {},
   "source": [
    "> since this delivery i about GP we will keep this massive code in here to be easier to evaluate but in the final project we will do it in python file and import the function (if its ok of course) to make the notebook cleaner"
   ]
  },
  {
   "cell_type": "raw",
   "id": "2b36b372",
   "metadata": {
    "vscode": {
     "languageId": "raw"
    }
   },
   "source": [
    "def nested_cv_gp_slim_gsgp(\n",
    "    X, y, param_grid, k_outer=5, k_inner=3, dataset_name=\"Chicken\", gp_class=None, seed=42, alpha_sig=0.05\n",
    "):\n",
    "    X = X.reset_index(drop=True)\n",
    "    y = y.reset_index(drop=True)\n",
    "    outer_scores = []\n",
    "    best_grid_models = []\n",
    "    validation_results = []  # This will store detailed results for analysis\n",
    "    detailed_results = []  # New: will store all fold results for all configs\n",
    "\n",
    "    os.makedirs(\"./log/GP/\", exist_ok=True)\n",
    "\n",
    "    keys, values = zip(*param_grid.items())\n",
    "    param_combos = [dict(zip(keys, v)) for v in product(*values)]\n",
    "\n",
    "    for fold_idx, fold_data in enumerate(nested_cv_generator(X, y, k_outer=k_outer, k_inner=k_inner, random_state=seed)):\n",
    "        print(f\"\\n========== OUTER FOLD {fold_idx+1}/{k_outer} ==========\")\n",
    "\n",
    "        best_config = None\n",
    "        best_val_score = float('inf')\n",
    "        all_inner_fold_scores = []  # will be list of [k_inner] RMSEs per config\n",
    "\n",
    "        # ============ Grid Search on Inner CV ============ #\n",
    "        for config_id, flat_config in enumerate(param_combos):\n",
    "            gp_config = {\n",
    "                'initializer': flat_config['initializer'],\n",
    "                'sspace': {\n",
    "                    'p_constants': flat_config['sspace.p_constants'],\n",
    "                    'max_init_depth': flat_config['sspace.max_init_depth'],\n",
    "                    'max_depth': flat_config['sspace.max_depth'],\n",
    "                    'tree_constants': flat_config['sspace.tree_constants'],\n",
    "                },\n",
    "                'pop_size': flat_config['pop_size'],\n",
    "                'xo_prob': flat_config['xo_prob'],\n",
    "                'generations': flat_config['generations'],\n",
    "                'seed': seed\n",
    "            }\n",
    "\n",
    "            inner_fold_rmses = []\n",
    "\n",
    "            for inner_fold_idx, (inner_train_idx, inner_val_idx) in enumerate(fold_data['inner_splits']):\n",
    "                X_train = fold_data['X_outer_train'].iloc[inner_train_idx]\n",
    "                y_train = fold_data['y_outer_train'].iloc[inner_train_idx]\n",
    "                X_val = fold_data['X_outer_train'].iloc[inner_val_idx]\n",
    "                y_val = fold_data['y_outer_train'].iloc[inner_val_idx]\n",
    "\n",
    "                # Scaling\n",
    "                x_scaler = RobustScaler()\n",
    "                y_scaler = RobustScaler()\n",
    "                X_train_scaled = x_scaler.fit_transform(X_train)\n",
    "                X_val_scaled = x_scaler.transform(X_val)\n",
    "                y_train_scaled = y_scaler.fit_transform(y_train.values.reshape(-1, 1)).flatten()\n",
    "                y_val_scaled = y_scaler.transform(y_val.values.reshape(-1, 1)).flatten()\n",
    "\n",
    "                # Tensors\n",
    "                X_train_tensor = torch.tensor(X_train_scaled, dtype=torch.float32)\n",
    "                y_train_tensor = torch.tensor(y_train_scaled, dtype=torch.float32)\n",
    "                X_val_tensor = torch.tensor(X_val_scaled, dtype=torch.float32)\n",
    "                y_val_tensor = torch.tensor(y_val_scaled, dtype=torch.float32)\n",
    "\n",
    "                # Model training\n",
    "                model = gp_class(\n",
    "                    X_train=X_train_tensor, y_train=y_train_tensor,\n",
    "                    X_test=X_val_tensor, y_test=y_val_tensor,\n",
    "                    dataset_name=dataset_name,\n",
    "                    fitness_function='rmse',\n",
    "                    minimization=True,\n",
    "                    initializer=gp_config['initializer'],\n",
    "                    tree_constants=gp_config['sspace']['tree_constants'],\n",
    "                    tree_functions=['add', 'subtract', 'multiply', 'divide'],\n",
    "                    prob_const=gp_config['sspace']['p_constants'],\n",
    "                    init_depth=gp_config['sspace']['max_init_depth'],\n",
    "                    max_depth=gp_config['sspace']['max_depth'],\n",
    "                    pop_size=gp_config['pop_size'],\n",
    "                    p_xo=gp_config['xo_prob'],\n",
    "                    elitism=True,\n",
    "                    n_elites=1,\n",
    "                    tournament_size=2,\n",
    "                    n_iter=gp_config['generations'],\n",
    "                    test_elite=True,\n",
    "                    log_level=0,\n",
    "                    verbose=0,\n",
    "                    n_jobs=1,\n",
    "                    seed=gp_config['seed']\n",
    "                )\n",
    "\n",
    "                # Evaluation\n",
    "                with torch.no_grad():\n",
    "                    y_pred = model.predict(X_val_tensor).numpy().reshape(-1, 1)\n",
    "                    y_true = y_val_tensor.numpy().reshape(-1, 1)\n",
    "                    rmse = np.sqrt(mean_squared_error(y_true, y_pred))\n",
    "                    inner_fold_rmses.append(rmse)\n",
    "                    \n",
    "                    # Store detailed results for this fold and config\n",
    "                    detailed_results.append({\n",
    "                        'outer_fold': fold_idx + 1,\n",
    "                        'inner_fold': inner_fold_idx + 1,\n",
    "                        'config_id': config_id,\n",
    "                        'config': str(flat_config),  # String representation\n",
    "                        'rmse': rmse\n",
    "                    })\n",
    "\n",
    "            avg_val_rmse = np.mean(inner_fold_rmses)\n",
    "            all_inner_fold_scores.append(inner_fold_rmses)\n",
    "\n",
    "            print(f\"  Config {config_id+1}/{len(param_combos)} | Inner Mean RMSE: {avg_val_rmse:.4f}\")\n",
    "\n",
    "            if avg_val_rmse < best_val_score:\n",
    "                best_val_score = avg_val_rmse\n",
    "                best_config = gp_config\n",
    "\n",
    "        print(f\"\\n✅ Best config for outer fold {fold_idx+1}:\")\n",
    "        print(best_config)\n",
    "        print(f\"Best inner RMSE: {best_val_score:.4f}\")\n",
    "        best_grid_models.append(best_config)\n",
    "\n",
    "        # Convert to DataFrame for statistical tests\n",
    "        df_inner_scores = pd.DataFrame(all_inner_fold_scores).T  # shape: (k_inner, n_configs)\n",
    "        validation_results.append(df_inner_scores)\n",
    "\n",
    "        # ============ Statistical Tests ============ #\n",
    "        print(\"\\nStatistical test on inner fold scores:\")\n",
    "        stat, p = friedmanchisquare(*[df_inner_scores[col] for col in df_inner_scores.columns])\n",
    "        print(f\"Friedman test statistic: {stat:.4f}, p-value: {p:.4f}\")\n",
    "        if p < alpha_sig:\n",
    "            posthoc_result = sp.posthoc_nemenyi_friedman(df_inner_scores.to_numpy())\n",
    "            significant_columns = posthoc_result.columns[posthoc_result.lt(0.05).any(axis=0)]\n",
    "            filtered_result = posthoc_result[posthoc_result < alpha_sig]\n",
    "            filtered_result = filtered_result.dropna(how='all').dropna(axis=1, how='all').fillna('-')\n",
    "            print(\"P-values of significant differences:\")\n",
    "            print(filtered_result)\n",
    "        else:\n",
    "            print(\"No significant differences found between configs.\")\n",
    "\n",
    "        # ============ Boxplot ============ #\n",
    "        # Convert detailed results to DataFrame for this outer fold\n",
    "        df_fold_results = pd.DataFrame([r for r in detailed_results if r['outer_fold'] == fold_idx + 1])\n",
    "        \n",
    "        # Create labels for configurations\n",
    "        config_labels = {\n",
    "            i: f\"Config {i+1}<br>\" + \"<br>\".join(\n",
    "                [f\"{k}: {v}\"[:30] for k, v in param_combos[i].items()]  # Corta cada item em 30 chars\n",
    "            )\n",
    "            for i in range(len(param_combos))\n",
    "        }\n",
    "        df_fold_results['config_label'] = df_fold_results['config_id'].map(config_labels)\n",
    "\n",
    "        fig = go.Figure()\n",
    "        fig.add_trace(go.Box(\n",
    "            x=df_fold_results['config_label'],\n",
    "            y=df_fold_results['rmse'],\n",
    "            fillcolor='rgba(108, 140, 200, 0.3)',\n",
    "            line=dict(color='rgba(108, 140, 200, 1)'),\n",
    "            boxpoints='all',\n",
    "            jitter=0,\n",
    "            pointpos=0,\n",
    "            marker=dict(color='rgba(108, 140, 200, 1)')\n",
    "        ))\n",
    "        fig.update_layout(\n",
    "            title=f'Inner CV RMSEs - Outer Fold {fold_idx+1}',\n",
    "            yaxis_title='Validation RMSE',\n",
    "            width=200 * len(param_combos),\n",
    "            height=400,\n",
    "            plot_bgcolor='#f1f1f1',\n",
    "            xaxis_tickangle=-90,\n",
    "            margin=dict(l=50, r=50, t=50, b=20),\n",
    "            showlegend=False\n",
    "        )\n",
    "        fig.show()\n",
    "\n",
    "\n",
    "        # ============ Retrain on Outer Train, Evaluate on Outer Test ============ #\n",
    "        x_scaler = RobustScaler()\n",
    "        y_scaler = RobustScaler()\n",
    "        X_outer_train_scaled = x_scaler.fit_transform(fold_data['X_outer_train'])\n",
    "        X_test_scaled = x_scaler.transform(fold_data['X_test'])\n",
    "        y_outer_train_scaled = y_scaler.fit_transform(fold_data['y_outer_train'].values.reshape(-1, 1)).flatten()\n",
    "        y_test_scaled = y_scaler.transform(fold_data['y_test'].values.reshape(-1, 1)).flatten()\n",
    "\n",
    "        X_outer_train_tensor = torch.tensor(X_outer_train_scaled, dtype=torch.float32)\n",
    "        y_outer_train_tensor = torch.tensor(y_outer_train_scaled, dtype=torch.float32)\n",
    "        X_test_tensor = torch.tensor(X_test_scaled, dtype=torch.float32)\n",
    "        y_test_tensor = torch.tensor(y_test_scaled, dtype=torch.float32)\n",
    "\n",
    "        model = gp_class(\n",
    "            X_train=X_outer_train_tensor, y_train=y_outer_train_tensor,\n",
    "            X_test=X_test_tensor, y_test=y_test_tensor,\n",
    "            dataset_name=dataset_name,\n",
    "            fitness_function='rmse',\n",
    "            minimization=True,\n",
    "            initializer=best_config['initializer'],\n",
    "            tree_constants=best_config['sspace']['tree_constants'],\n",
    "            tree_functions=['add', 'subtract', 'multiply', 'divide'],\n",
    "            prob_const=best_config['sspace']['p_constants'],\n",
    "            init_depth=best_config['sspace']['max_init_depth'],\n",
    "            max_depth=best_config['sspace']['max_depth'],\n",
    "            pop_size=best_config['pop_size'],\n",
    "            p_xo=best_config['xo_prob'],\n",
    "            elitism=True,\n",
    "            n_elites=1,\n",
    "            tournament_size=2,\n",
    "            n_iter=best_config['generations'],\n",
    "            test_elite=True,\n",
    "            log_level=0,\n",
    "            verbose=0,\n",
    "            n_jobs=1,\n",
    "            seed=best_config['seed']\n",
    "        )\n",
    "\n",
    "        with torch.no_grad():\n",
    "            y_pred_scaled = model.predict(X_test_tensor).numpy()\n",
    "            y_pred_rescaled = safe_inverse_transform(y_scaler, y_pred_scaled)\n",
    "            test_rmse = np.sqrt(mean_squared_error(fold_data['y_test'], y_pred_rescaled))\n",
    "\n",
    "        print(f\"\\n[Outer Fold {fold_idx+1}] Test RMSE: {test_rmse:.4f}\")\n",
    "        outer_scores.append(test_rmse)\n",
    "        gc.collect()\n",
    "\n",
    "    print(f\"\\n================ Final Results ================\\nMean RMSE: {np.mean(outer_scores):.4f} ± {np.std(outer_scores):.4f}\")\n",
    "    df_all_results = pd.DataFrame(detailed_results)\n",
    "    return np.array(outer_scores), best_grid_models, df_all_results, validation_results"
   ]
  },
  {
   "cell_type": "markdown",
   "id": "b48e9c39",
   "metadata": {},
   "source": [
    "| **Parameter**        | **Test Values**                                | **Why ??**                                                                                             |\n",
    "| -------------------- | ----------------------------------------------------- | ----------------------------------------------------------------------------------------------------------------------------------------------- |\n",
    "| `init_depth`         | `[3, 5]`                                              | Smaller initial trees (shallow depth) reduce the risk of overfitting early on. With 96 entries, you want simplicity and better generalization.  |\n",
    "| `max_depth`          | `[10]`                                             | Limits the model's complexity. Deep trees overfit easily on small datasets. Capping depth avoids bloated or overly specific programs.           |\n",
    "| `tree_constants`     | `[random.uniform(0, 1) for _ in range(9)] + [-1.]`    | Constants allow models to fine-tune predictions. Using a limited, balanced range prevents excessive reliance on constants (avoids \"bloat\").     |\n",
    "| `p_constants`        | `[0.1, 0.5]`                                          | High constant probability makes the tree more about constants than structure. This is dangerous for small data — prefer 10–20% range.           |\n",
    "| `tree_functions`     | `['add', 'subtract', 'multiply', 'divide']` | Basic arithmetic gives expressive power. `protected_divide` avoids runtime errors. Don’t add too many functions — it increases search space.    |\n",
    "| `pop_size`           | `[20, 30, 50]`                                        | Small datasets don’t need huge populations. Lower sizes = faster runs and still enough diversity. 20–50 is a good starting point.               |\n",
    "| `p_xo`               | `[0.7, 0.9]`                                          | Crossover (recombination) promotes diversity and generalization. On small data, too much crossover (close to 1.0) might disrupt good solutions. |\n",
    "| `initializer`        | `\"grow\", \"rhh\"`                                       | `grow` creates variable-sized trees. `rhh` mixes it with `full`, adding diversity. `full` alone — it tends to create deep, overfit trees. |\n",
    "| `elitism`            | `[True]`                                              | Keep the best solution in each generation. With few samples, losing the best-performing individual can seriously hurt performance.              |\n",
    "| `n_iter`             | `30`                                                  | Reasonable trade-off between computation and convergence. Too many iterations with small data can lead to overfitting.                          |\n"
   ]
  },
  {
   "cell_type": "raw",
   "id": "7eb77adc",
   "metadata": {
    "vscode": {
     "languageId": "raw"
    }
   },
   "source": [
    "TREE_CONSTANTS = [random.uniform(0, 1) for _ in range(9)] + [-1.]\n",
    "param_grid = {\n",
    "    'initializer': ['grow', 'rhh'],\n",
    "    'sspace.p_constants': [0.1, 0.5], \n",
    "    'sspace.max_init_depth': [3, 5],\n",
    "    'sspace.max_depth': [10],\n",
    "    'sspace.tree_constants': [TREE_CONSTANTS],\n",
    "    'pop_size': [30, 50],\n",
    "    'xo_prob': [0.7, 0.9],\n",
    "    'generations': [30],\n",
    "}\n",
    "\n",
    "# Seeds to test\n",
    "seeds = [42, 123, 456]  # You can change these to any seeds you prefer\n",
    "\n",
    "# Store results from all seeds\n",
    "all_scores = []\n",
    "all_best_models = []\n",
    "all_results = []\n",
    "all_validation = []\n",
    "\n",
    "for seed in seeds:\n",
    "    print(f\"\\n=== Running with seed: {seed} ===\\n\")\n",
    "    \n",
    "    # Set random seeds for reproducibility\n",
    "    random.seed(seed)\n",
    "    np.random.seed(seed)\n",
    "    torch.manual_seed(seed)\n",
    "    \n",
    "    # Run the experiment\n",
    "    scores, best_models, df_results, val_results = nested_cv_gp_slim_gsgp(\n",
    "        X=X, y=y,\n",
    "        param_grid=param_grid,\n",
    "        gp_class=gp,\n",
    "        k_outer=5, k_inner=3,\n",
    "        seed=seed\n",
    "    )\n",
    "    \n",
    "    # Store results\n",
    "    all_scores.append(scores)\n",
    "    all_best_models.append(best_models)\n",
    "    all_results.append(df_results)\n",
    "    all_validation.append(val_results)"
   ]
  },
  {
   "cell_type": "markdown",
   "id": "7b0910e1",
   "metadata": {},
   "source": [
    "Running the full CV 3 times with different seeds to mitigate randomness from GP (e.g., in init, selection, mutation), and get statistically more reliable average performance (like doing 30 folds total) -> common trick in evolutionary algorithms due to their stochastic nature."
   ]
  },
  {
   "cell_type": "raw",
   "id": "1d95d1d5",
   "metadata": {
    "vscode": {
     "languageId": "raw"
    }
   },
   "source": [
    "def dict_to_hashable(d):\n",
    "    def make_hashable(value):\n",
    "        if isinstance(value, dict):\n",
    "            return tuple(sorted((k, make_hashable(v)) for k, v in value.items()))\n",
    "        elif isinstance(value, list):\n",
    "            return tuple(make_hashable(x) for x in value)\n",
    "        elif isinstance(value, set):\n",
    "            return tuple(sorted(make_hashable(x) for x in value))\n",
    "        else:\n",
    "            return value\n",
    "    \n",
    "    return tuple(sorted((k, make_hashable(v)) for k, v in d.items()))\n",
    "\n",
    "# Now process the results\n",
    "mean_scores = np.mean([scores for scores in all_scores], axis=0)\n",
    "std_scores = np.std([scores for scores in all_scores], axis=0)\n",
    "\n",
    "try:\n",
    "    all_configs_hashed = [dict_to_hashable(config) for seed_models in all_best_models for config in seed_models]\n",
    "    config_counts = Counter(all_configs_hashed)\n",
    "    \n",
    "    if config_counts:\n",
    "        most_common_config_hash = config_counts.most_common(1)[0][0]\n",
    "        best_config = dict((k, dict(v) if isinstance(v, tuple) else v) \n",
    "                        for k, v in most_common_config_hash)\n",
    "        \n",
    "        print(\"\\n=== Final Results ===\")\n",
    "        print(f\"Mean RMSE across seeds: {np.mean(mean_scores):.4f} ± {np.mean(std_scores):.4f}\")\n",
    "        print(\"\\nBest configuration found in most runs:\")\n",
    "        for k, v in best_config.items():\n",
    "            if isinstance(v, dict):\n",
    "                print(f\"  {k}:\")\n",
    "                for sub_k, sub_v in v.items():\n",
    "                    print(f\"    {sub_k}: {sub_v}\")\n",
    "            else:\n",
    "                print(f\"  {k}: {v}\")\n",
    "    else:\n",
    "        print(\"No valid configurations found in all_best_models\")\n",
    "except Exception as e:\n",
    "    print(f\"Error processing configurations: {str(e)}\")\n"
   ]
  },
  {
   "cell_type": "markdown",
   "id": "4d41f032",
   "metadata": {},
   "source": [
    "> Running GP with Best Config  "
   ]
  },
  {
   "cell_type": "raw",
   "id": "3f5d7f3b",
   "metadata": {
    "vscode": {
     "languageId": "raw"
    }
   },
   "source": [
    "# ========== Config from Best Run ==========\n",
    "best_config = {\n",
    "    'initializer': 'rhh',\n",
    "    'prob_const': 0.5,\n",
    "    'init_depth': 5,\n",
    "    'max_depth': 10,\n",
    "    'tree_constants': [\n",
    "        0.6394267984578837, 0.025010755222666936, 0.27502931836911926,\n",
    "        0.22321073814882275, 0.7364712141640124, 0.6766994874229113,\n",
    "        0.8921795677048454, 0.08693883262941615, 0.4219218196852704, -1.0\n",
    "    ],\n",
    "    'pop_size': 50,\n",
    "    'xo_prob': 0.9,\n",
    "    'generations': 30,\n",
    "    'seed': 456\n",
    "}"
   ]
  },
  {
   "cell_type": "raw",
   "id": "0a08147e",
   "metadata": {
    "vscode": {
     "languageId": "raw"
    }
   },
   "source": [
    "def evaluate_gp_with_best_config(X, y, best_config, gp_class, k_outer=5, seed=42, verbose=True):\n",
    "    \n",
    "    outer_cv = KFold(n_splits=k_outer, shuffle=True, random_state=seed)\n",
    "    outer_scores = []\n",
    "    models = []\n",
    "\n",
    "    for fold_idx, (train_idx, test_idx) in enumerate(outer_cv.split(X)):\n",
    "        print(f\"\\n=== Outer Fold {fold_idx+1}/{k_outer} ===\")\n",
    "\n",
    "        X_train, X_test = X.iloc[train_idx], X.iloc[test_idx]\n",
    "        y_train, y_test = y.iloc[train_idx], y.iloc[test_idx]\n",
    "\n",
    "        # Scaling\n",
    "        x_scaler = RobustScaler()\n",
    "        y_scaler = RobustScaler()\n",
    "        X_train_scaled = x_scaler.fit_transform(X_train)\n",
    "        y_train_scaled = y_scaler.fit_transform(y_train.values.reshape(-1, 1)).flatten()\n",
    "        X_test_scaled = x_scaler.transform(X_test)\n",
    "        y_test_scaled = y_scaler.transform(y_test.values.reshape(-1, 1)).flatten()\n",
    "\n",
    "        X_train_tensor = torch.tensor(X_train_scaled, dtype=torch.float32)\n",
    "        y_train_tensor = torch.tensor(y_train_scaled, dtype=torch.float32)\n",
    "        X_test_tensor = torch.tensor(X_test_scaled, dtype=torch.float32)\n",
    "        y_test_tensor = torch.tensor(y_test_scaled, dtype=torch.float32)\n",
    "\n",
    "        model = gp_class(\n",
    "            X_train=X_train_tensor, y_train=y_train_tensor,\n",
    "            X_test=X_test_tensor, y_test=y_test_tensor,\n",
    "            dataset_name=\"🐓 Chicken 🐓\",\n",
    "            fitness_function='rmse',\n",
    "            minimization=True,\n",
    "            initializer=best_config['initializer'],\n",
    "            tree_constants=best_config['tree_constants'],\n",
    "            tree_functions=['add', 'subtract', 'multiply', 'divide'],\n",
    "            prob_const=best_config['prob_const'],\n",
    "            init_depth=best_config['init_depth'],\n",
    "            max_depth=best_config['max_depth'],\n",
    "            pop_size=best_config['pop_size'],\n",
    "            p_xo=best_config['xo_prob'],\n",
    "            elitism=True,\n",
    "            n_elites=1,\n",
    "            tournament_size=2,\n",
    "            n_iter=best_config['generations'],\n",
    "            test_elite=True,\n",
    "            log_level=2,\n",
    "            log_path=f\"./log/GP/fold_{fold_idx+1}.csv\",\n",
    "            verbose=1 if verbose else 0,\n",
    "            n_jobs=1,\n",
    "            seed=best_config['seed']\n",
    "        )\n",
    "\n",
    "        models.append(model)\n",
    "\n",
    "        with torch.no_grad():\n",
    "            y_pred_scaled = model.predict(X_test_tensor).numpy()\n",
    "            y_pred_rescaled = safe_inverse_transform(y_scaler, y_pred_scaled)\n",
    "            rmse = np.sqrt(mean_squared_error(y_test, y_pred_rescaled))\n",
    "        print(f'Predicted Values: {y_pred_rescaled}')\n",
    "        print(f'Real Values: {y_test}')\n",
    "        print(f\"Fold {fold_idx+1} RMSE: {rmse:.4f}\")\n",
    "        outer_scores.append(rmse)\n",
    "\n",
    "    print(f\"\\n✅ Final RMSE across {k_outer} folds: {np.mean(outer_scores):.4f} ± {np.std(outer_scores):.4f}\")\n",
    "    return outer_scores, models"
   ]
  },
  {
   "cell_type": "raw",
   "id": "86f76a6d",
   "metadata": {
    "vscode": {
     "languageId": "raw"
    }
   },
   "source": [
    "outer_scores, models = evaluate_gp_with_best_config(X, y, best_config, gp_class=gp, k_outer=5)"
   ]
  },
  {
   "cell_type": "raw",
   "id": "540b4f6e",
   "metadata": {
    "vscode": {
     "languageId": "raw"
    }
   },
   "source": [
    "for fold_idx, model in enumerate(models, start=1):\n",
    "    print(f\"\\n=== Tree Representation (Fold {fold_idx}) ===\")\n",
    "    if hasattr(model, 'print_tree_representation'):\n",
    "        model.print_tree_representation()  # Direct print if available\n",
    "    else:\n",
    "        # Fallback for unsupported methods\n",
    "        print(\"No tree printing method found. Try manual inspection:\")\n",
    "        print(\"Model attributes:\", [attr for attr in dir(model) if not attr.startswith('_')])"
   ]
  },
  {
   "cell_type": "raw",
   "id": "ad25802f",
   "metadata": {
    "vscode": {
     "languageId": "raw"
    }
   },
   "source": [
    "LOG_DIR = \"log/GP/\"\n",
    "folds = [pd.read_csv(f\"{LOG_DIR}fold_{i}.csv\", header=None) for i in range(1, 6)]"
   ]
  },
  {
   "cell_type": "raw",
   "id": "f647c848",
   "metadata": {
    "vscode": {
     "languageId": "raw"
    }
   },
   "source": [
    "COLUMN_NAMES = [\n",
    "    \"Algorithm\",      # 0\n",
    "    \"Instance_ID\",    # 1\n",
    "    \"Dataset\",        # 2\n",
    "    \"Seed\",           # 3\n",
    "    \"Generation\",     # 4\n",
    "    \"Fitness\",        # 5 (Train RMSE)\n",
    "    \"Running_time\",   # 6\n",
    "    \"Population_nodes\", # 7\n",
    "    \"Test_fitness\",   # 8 (Test RMSE)\n",
    "    \"Elite_nodes\",    # 9 (Tree size)\n",
    "    \"Niche_entropy\",  # 10\n",
    "    \"SD_pop_fit\",     # 11 (Fitness diversity)\n",
    "    \"Log_level\"       # 12\n",
    "]\n",
    "\n",
    "# Load all folds with column names\n",
    "folds = []\n",
    "for i in range(1, 6):\n",
    "    df = pd.read_csv(f\"log/GP/fold_{i}.csv\", header=None)\n",
    "    df.columns = COLUMN_NAMES  # Assign column names\n",
    "    folds.append(df)"
   ]
  },
  {
   "cell_type": "raw",
   "id": "d5377274",
   "metadata": {
    "vscode": {
     "languageId": "raw"
    }
   },
   "source": [
    "folds[0].head()\n",
    "#folds[0]['Niche_entropy'].unique() --- always 0"
   ]
  },
  {
   "cell_type": "raw",
   "id": "8001c205",
   "metadata": {
    "vscode": {
     "languageId": "raw"
    }
   },
   "source": [
    "NUMERIC_COLS = [\"Generation\", \"Fitness\", \"Running_time\", \"Population_nodes\", \n",
    "                \"Test_fitness\", \"Elite_nodes\", \"Niche_entropy\", \"SD_pop_fit\"]\n",
    "numeric_folds = [df[NUMERIC_COLS] for df in folds]"
   ]
  },
  {
   "cell_type": "raw",
   "id": "bfd9b957",
   "metadata": {
    "vscode": {
     "languageId": "raw"
    }
   },
   "source": [
    "numeric_folds[0].head()"
   ]
  },
  {
   "cell_type": "raw",
   "id": "87bd8b79",
   "metadata": {
    "vscode": {
     "languageId": "raw"
    }
   },
   "source": [
    "all_data = np.stack([df.values for df in numeric_folds])\n",
    "\n",
    "#  mean and std across folds\n",
    "mean = np.mean(all_data, axis=0)  \n",
    "std = np.std(all_data, axis=0)\n",
    "mean_df = pd.DataFrame(mean, columns=NUMERIC_COLS)\n",
    "std_df = pd.DataFrame(std, columns=NUMERIC_COLS)"
   ]
  },
  {
   "cell_type": "raw",
   "id": "a1f87db4",
   "metadata": {
    "vscode": {
     "languageId": "raw"
    }
   },
   "source": [
    "fig = go.Figure()\n",
    "\n",
    "# Train Fitness (mean ± std)\n",
    "fig.add_trace(go.Scatter(\n",
    "    x=mean_df[\"Generation\"],\n",
    "    y=mean_df[\"Fitness\"],\n",
    "    mode='lines',\n",
    "    name='Train RMSE (mean)',\n",
    "    line=dict(color='blue', width=2)\n",
    "))\n",
    "# Add std as a shaded region (light blue)\n",
    "fig.add_trace(go.Scatter(\n",
    "    x=mean_df[\"Generation\"],\n",
    "    y=mean_df[\"Fitness\"] + std_df[\"Fitness\"],\n",
    "    mode='lines',\n",
    "    line=dict(width=0),\n",
    "    showlegend=False,\n",
    "    fillcolor='rgba(0, 100, 255, 0.2)',\n",
    "    fill='tonexty'\n",
    "))\n",
    "fig.add_trace(go.Scatter(\n",
    "    x=mean_df[\"Generation\"],\n",
    "    y=mean_df[\"Fitness\"] - std_df[\"Fitness\"],\n",
    "    mode='lines',\n",
    "    line=dict(width=0),\n",
    "    name='±1 std (Train)',\n",
    "    fillcolor='rgba(0, 100, 255, 0.2)'\n",
    "))\n",
    "\n",
    "# Test Fitness (mean ± std)\n",
    "fig.add_trace(go.Scatter(\n",
    "    x=mean_df[\"Generation\"],\n",
    "    y=mean_df[\"Test_fitness\"],\n",
    "    mode='lines',\n",
    "    name='Test RMSE (mean)',\n",
    "    line=dict(color='red', width=2)\n",
    "))\n",
    "# Add std as a shaded region (light red)\n",
    "fig.add_trace(go.Scatter(\n",
    "    x=mean_df[\"Generation\"],\n",
    "    y=mean_df[\"Test_fitness\"] + std_df[\"Test_fitness\"],\n",
    "    mode='lines',\n",
    "    line=dict(width=0),\n",
    "    showlegend=False,\n",
    "    fillcolor='rgba(255, 50, 50, 0.2)',\n",
    "    fill='tonexty'\n",
    "))\n",
    "fig.add_trace(go.Scatter(\n",
    "    x=mean_df[\"Generation\"],\n",
    "    y=mean_df[\"Test_fitness\"] - std_df[\"Test_fitness\"],\n",
    "    mode='lines',\n",
    "    line=dict(width=0),\n",
    "    name='±1 std (Test)',\n",
    "    fillcolor='rgba(255, 50, 50, 0.2)'\n",
    "))\n",
    "\n",
    "fig.update_layout(\n",
    "    title=f'GP Fitness Evolution (Chicken Datset, 5-fold mean ± std)',\n",
    "    xaxis_title='Generation',\n",
    "    yaxis_title='RMSE',\n",
    "    hovermode='x unified',\n",
    "    height=400,\n",
    "    width=800\n",
    ")\n",
    "fig.show()"
   ]
  },
  {
   "cell_type": "raw",
   "id": "91f099bc",
   "metadata": {
    "vscode": {
     "languageId": "raw"
    }
   },
   "source": [
    "fig = go.Figure()\n",
    "\n",
    "# Mean Size (Elite_nodes)\n",
    "fig.add_trace(go.Scatter(\n",
    "    x=mean_df[\"Generation\"],\n",
    "    y=mean_df[\"Elite_nodes\"],\n",
    "    mode='lines',\n",
    "    name='Size (mean)',\n",
    "    line=dict(color='green', width=2)\n",
    "))\n",
    "\n",
    "# Std as shaded region (light green)\n",
    "fig.add_trace(go.Scatter(\n",
    "    x=mean_df[\"Generation\"],\n",
    "    y=mean_df[\"Elite_nodes\"] + std_df[\"Elite_nodes\"],\n",
    "    mode='lines',\n",
    "    line=dict(width=0),\n",
    "    showlegend=False,\n",
    "    fillcolor='rgba(50, 200, 50, 0.2)',\n",
    "    fill='tonexty'\n",
    "))\n",
    "fig.add_trace(go.Scatter(\n",
    "    x=mean_df[\"Generation\"],\n",
    "    y=mean_df[\"Elite_nodes\"] - std_df[\"Elite_nodes\"],\n",
    "    mode='lines',\n",
    "    line=dict(width=0),\n",
    "    name='±1 std',\n",
    "    fillcolor='rgba(50, 200, 50, 0.2)'\n",
    "))\n",
    "\n",
    "fig.update_layout(\n",
    "    title=f'GP - Size Evolution (Chicken Dataset, 5-fold mean ± std)',\n",
    "    xaxis_title='Generation',\n",
    "    yaxis_title='Number of Nodes',\n",
    "    yaxis_range=[0, None],  # Start y-axis at 0\n",
    "    height=400,\n",
    "    width=800,\n",
    "    margin=dict(t=50),\n",
    "    hovermode='x unified'\n",
    ")\n",
    "fig.show()"
   ]
  },
  {
   "cell_type": "raw",
   "id": "6be50fce",
   "metadata": {
    "vscode": {
     "languageId": "raw"
    }
   },
   "source": [
    "fig = go.Figure()\n",
    "fig.add_trace(go.Scatter(\n",
    "    x=mean_df[\"Generation\"],\n",
    "    y=mean_df[\"Niche_entropy\"],\n",
    "    mode='lines',\n",
    "    name='Niche Entropy (mean)',\n",
    "    line=dict(color='purple', width=2)\n",
    "))\n",
    "# Add std as dashed lines (dark purple)\n",
    "fig.add_trace(go.Scatter(\n",
    "    x=mean_df[\"Generation\"],\n",
    "    y=mean_df[\"Niche_entropy\"] + std_df[\"Niche_entropy\"],\n",
    "    mode='lines',\n",
    "    line=dict(color='purple', width=1, dash='dash'),\n",
    "    name='+1 std',\n",
    "    opacity=0.6\n",
    "))\n",
    "fig.add_trace(go.Scatter(\n",
    "    x=mean_df[\"Generation\"],\n",
    "    y=mean_df[\"Niche_entropy\"] - std_df[\"Niche_entropy\"],\n",
    "    mode='lines',\n",
    "    line=dict(color='purple', width=1, dash='dash'),\n",
    "    name='-1 std',\n",
    "    opacity=0.6\n",
    "))\n",
    "\n",
    "fig.update_layout(\n",
    "    title=f'GP - Niche Entropy (Chicken Dataset, 5-fold mean)',\n",
    "    xaxis_title='Generation',\n",
    "    yaxis_title='Entropy',\n",
    "    yaxis_range=[0, None],\n",
    "    height=400,\n",
    "    width=800,\n",
    "    margin=dict(t=50)\n",
    ")\n",
    "fig.show()"
   ]
  },
  {
   "cell_type": "markdown",
   "id": "861765a7",
   "metadata": {},
   "source": [
    "Although the best-performing configuration was found after the tuning, we ended up testing it again this time with the verbose parameter so we can analyze the generations across folds more in depth - we used the **5-fold outer cross-validation** to get am unbiased estimate of how well the model would perform on completely unseen data (as we explained before) -> Again, this helps avoid the trap of getting overly optimistic results from a single lucky train-test split.\n",
    "\n",
    "---\n",
    "\n",
    "**Per fold Analysis: Overfitting, Bloat and Premature Convergence**\n",
    "\n",
    "- **Outer Fold 1**\n",
    "\n",
    "This fold showed some interesting early behavior. The algorithm converged too quickly, locking onto a solution by the second generation. Training fitness dropped from 1.03 to 0.94 right away, then had small variations for the rest of the 30 generations. That kind of 'stagnation' can mean the population lost diversity early on and didn’t explore better parts of the solution space.\n",
    "\n",
    "There was also a hint of overfitting between generations 5 and 7—training error kept going down, but test error briefly spiked above 1.12. but in generation 10, both errors settled around 0.73, showing the model found a decently generalizable solution.\n",
    "\n",
    "As for **bloat**, there wasn’t any. The tree sizes stayed small and consistent, growing from 5 to 7 nodes early on and holding steady -> That’s a good sign the model was penalizing complexity.\n",
    "\n",
    "\n",
    "- **Outer Fold 2**\n",
    "\n",
    "After the first generation, test fitness dropped and went around 0.4125.. by generation 11. We thibnk the model got stuck in a local minimum or converged too early, and the training fitness kept improving slightly, which again hints at some overfitting.\n",
    "\n",
    "Tree size didn’t grow—it stayed at 5 nodes during the plateau—so the model didn’t try to increase complexity to escape the stagnation. Still, it predicted reasonably well overall, with a final RMSE of 0.8379, which isn’t bad.\n",
    "\n",
    "\n",
    "- **Outer Fold 3**\n",
    "\n",
    "This one struggled, the training fitness got better (0.7010), the test fitness stayed high—around 1.6185. This shows overfitting as the model learned the training data but failed to generalize at all. On top of that, bloat became a problem bc the trees ballooned to 29 nodes by the end, the model added to much complexity and that extra complexity didn’t help. \n",
    "\n",
    "Outliers in the test data, like a very low crude protein value of 73.84, probably made things worse. Since we used the robust scaler this should had helped. This extra complexity can also indicate that we have too much features and the model tries too hard to learn all the patterns, a feature selection can maybe imporve this.\n",
    "\n",
    "- **Outer Fold 4**\n",
    "\n",
    "This fold saw a consistent reduction in training and test fitness at the beginning, so the model was learning at first. Training error declined from 0.998 to 0.857 and test error declined from 0.77 to 0.52 from generation 0 to generation 5 wich is a positive indicators of convergence. But after generation 6 train fitness fell into a stagnation phase and test started to get worse stabilizing at gen 12.Again, this suggests premature convergence the population could have lost diversity or wasn't under evolutionary pressure to escape the local optima.\n",
    "\n",
    "There is a faint sign of overfitting after generation 12 and the model still explores more extensive trees -> node size grows from 9 to 31, and this added complexity did not contribute to generalization as the test fitness actually get worse.5198. So this inconsistency among increased complexity and worsening test performance is evidence of mild overfitting.\n",
    "\n",
    "In terms of Bloat is obviasly more severe in this case. The early trees were tiny (5–11 nodes), but the model tried a 49-node tree in generation 8, and then stuck with bloated 31-node trees for no improvement in fitness. So, bloat without benefit, more complexity, but not better performance.\n",
    "\n",
    "- **Outer Fold 5**\n",
    "\n",
    "This fold showed early convergence, with improvements in training / test fitness over several generations. From generation 0 to 3, test fitness dropped from 0.8197 to 0.5241. But from generation 6 onwards, the model actually ceased to get better altogether —> a sure indication of premature convergence.\n",
    "\n",
    "Bloat was completely avoided here. The model continued to hold a very small 3-node tree from generation 1 to generation 30. Although this is excellent at controlling complexity, it is also indicative of lacking exploration, and the model might have only settled on very shallow solution that was \"good enough\" and never moved further beyond.\n",
    "\n",
    "Overfitting was small, good generalization with no significant gap between training and testing fitness.\n",
    "\n",
    "\n",
    "\n",
    "**Final notes for GP**: So this solution needs some improvment to generalize better and avoid overcomplicate the size of the solution, our best approach would be to perfom feature selecion to try to help the model not to focus in every patter and generalize better, at the same time avoiding multicollinearity and features that add noise moree noise than help to the prediction."
   ]
  },
  {
   "cell_type": "markdown",
   "id": "0750c571",
   "metadata": {},
   "source": [
    "#### <a id=\"gsgp\"></a> \n",
    "<div style=\"background-color: hsla(120, 71.40%, 43.90%, 0.30); padding: 10px; border-radius: 8px; text-align: left; margin-top: 20px; margin-bottom: 20px;\">\n",
    "    <h4 style=\"color: white; margin: 0;\">3. Geometric Semantic Geometric Programming (GSGP)</h4>\n",
    "</div>\n",
    "\n",
    "[Back to Index](#idx)"
   ]
  },
  {
   "cell_type": "raw",
   "id": "d6a8233d",
   "metadata": {},
   "source": [
    "# ========== Safe Inverse Transform ========== #\n",
    "def safe_inverse_transform(scaler, y):\n",
    "    if y.ndim == 1:\n",
    "        y = y.reshape(-1, 1)\n",
    "    return scaler.inverse_transform(y).flatten()"
   ]
  },
  {
   "cell_type": "markdown",
   "id": "649960c2",
   "metadata": {},
   "source": [
    "> since this delivery i about GSGP we will keep this massive code in here to be easier to evaluate but in the final project we will do it in python file and import the function (if its ok of course) to make the notebook cleaner"
   ]
  },
  {
   "cell_type": "raw",
   "id": "d52fc25e",
   "metadata": {},
   "source": [
    "def nested_cv_gp_slim_gsgp(\n",
    "    X, y, param_grid, k_outer=5, k_inner=3, dataset_name=\"Chicken\", gp_class=None, seed=42, alpha_sig=0.05\n",
    "):\n",
    "    X = X.reset_index(drop=True)\n",
    "    y = y.reset_index(drop=True)\n",
    "    outer_scores = []\n",
    "    best_grid_models = []\n",
    "    validation_results = []  # This will store detailed results for analysis\n",
    "    detailed_results = []  # New: will store all fold results for all configs\n",
    "\n",
    "    os.makedirs(\"./log/GSGP/\", exist_ok=True)\n",
    "\n",
    "    keys, values = zip(*param_grid.items())\n",
    "    param_combos = [dict(zip(keys, v)) for v in product(*values)]\n",
    "\n",
    "    for fold_idx, fold_data in enumerate(nested_cv_generator(X, y, k_outer=k_outer, k_inner=k_inner, random_state=seed)):\n",
    "        print(f\"\\n========== OUTER FOLD {fold_idx+1}/{k_outer} ==========\")\n",
    "\n",
    "        best_config = None\n",
    "        best_val_score = float('inf')\n",
    "        all_inner_fold_scores = []  # will be list of [k_inner] RMSEs per config\n",
    "\n",
    "        # ============ Grid Search on Inner CV ============ #\n",
    "        for config_id, flat_config in enumerate(param_combos):\n",
    "            gp_config = {\n",
    "                'initializer': flat_config['initializer'],\n",
    "                'sspace': {\n",
    "                    'p_constants': flat_config['sspace.p_constants'],\n",
    "                    'max_init_depth': flat_config['sspace.max_init_depth'],\n",
    "                    #'max_depth': flat_config['sspace.max_depth'],\n",
    "                    'tree_constants': flat_config['sspace.tree_constants'],\n",
    "                },\n",
    "                'pop_size': flat_config['pop_size'],\n",
    "                'xo_prob': flat_config['xo_prob'],\n",
    "                'generations': flat_config['generations'],\n",
    "                'ms_lower': flat_config['ms_lower'],\n",
    "                'ms_upper': flat_config['ms_upper'],\n",
    "                'reconstruct': flat_config['reconstruct'],\n",
    "                'seed': seed\n",
    "            }\n",
    "\n",
    "            inner_fold_rmses = []\n",
    "\n",
    "            for inner_fold_idx, (inner_train_idx, inner_val_idx) in enumerate(fold_data['inner_splits']):\n",
    "                X_train = fold_data['X_outer_train'].iloc[inner_train_idx]\n",
    "                y_train = fold_data['y_outer_train'].iloc[inner_train_idx]\n",
    "                X_val = fold_data['X_outer_train'].iloc[inner_val_idx]\n",
    "                y_val = fold_data['y_outer_train'].iloc[inner_val_idx]\n",
    "\n",
    "                # Scaling\n",
    "                x_scaler = RobustScaler()\n",
    "                y_scaler = RobustScaler()\n",
    "                X_train_scaled = x_scaler.fit_transform(X_train)\n",
    "                X_val_scaled = x_scaler.transform(X_val)\n",
    "                y_train_scaled = y_scaler.fit_transform(y_train.values.reshape(-1, 1)).flatten()\n",
    "                y_val_scaled = y_scaler.transform(y_val.values.reshape(-1, 1)).flatten()\n",
    "\n",
    "                # Tensors\n",
    "                X_train_tensor = torch.tensor(X_train_scaled, dtype=torch.float32)\n",
    "                y_train_tensor = torch.tensor(y_train_scaled, dtype=torch.float32)\n",
    "                X_val_tensor = torch.tensor(X_val_scaled, dtype=torch.float32)\n",
    "                y_val_tensor = torch.tensor(y_val_scaled, dtype=torch.float32)\n",
    "\n",
    "                # Model training\n",
    "                model = gp_class(\n",
    "                    # Problem Instance\n",
    "                    X_train=X_train_tensor, y_train=y_train_tensor,\n",
    "                    X_test=X_val_tensor, y_test=y_val_tensor,\n",
    "                    dataset_name=dataset_name,\n",
    "                    fitness_function='rmse',\n",
    "                    minimization=True,\n",
    "\n",
    "                    # Search Space\n",
    "                    tree_constants=gp_config['sspace']['tree_constants'],\n",
    "                    tree_functions=['add', 'subtract', 'multiply', 'divide'],\n",
    "                    prob_const=gp_config['sspace']['p_constants'],\n",
    "                    init_depth=gp_config['sspace']['max_init_depth'],\n",
    "                    #max_depth=gp_config['sspace']['max_depth'],\n",
    "\n",
    "                    # GSGP instance\n",
    "                    pop_size=gp_config['pop_size'],\n",
    "                    p_xo=gp_config['xo_prob'],\n",
    "                    initializer=gp_config['initializer'],\n",
    "                    tournament_size=2,\n",
    "                    ms_lower = gp_config['ms_lower'], #`ms_lower`: lower bound for generating the random number used as mutation step.\n",
    "                    ms_upper = gp_config['ms_upper'], #`ms_upper`: upper bound for generating the random number used as mutation step.\n",
    "                    reconstruct = gp_config['reconstruct'],\n",
    "\n",
    "                    # Solve settings\n",
    "                    n_iter=gp_config['generations'],\n",
    "                    elitism=True,\n",
    "                    n_elites=1,\n",
    "                    test_elite=True,\n",
    "                    log_level=0,\n",
    "                    verbose=0,\n",
    "                    n_jobs=1,\n",
    "                    seed=gp_config['seed']\n",
    "                )\n",
    "\n",
    "                # Evaluation\n",
    "                with torch.no_grad():\n",
    "                    y_pred_scaled = model.predict(X_val_tensor).numpy()\n",
    "                    y_true_scaled = y_val_tensor.numpy()\n",
    "\n",
    "                    # Inverse transform to original scale\n",
    "                    y_pred = safe_inverse_transform(y_scaler, y_pred_scaled)\n",
    "                    y_true = safe_inverse_transform(y_scaler, y_true_scaled)\n",
    "\n",
    "                    rmse = np.sqrt(mean_squared_error(y_true, y_pred))\n",
    "                    inner_fold_rmses.append(rmse)\n",
    "                    \n",
    "                    # Store detailed results for this fold and config\n",
    "                    detailed_results.append({\n",
    "                        'outer_fold': fold_idx + 1,\n",
    "                        'inner_fold': inner_fold_idx + 1,\n",
    "                        'config_id': config_id,\n",
    "                        'config': str(flat_config),  # String representation\n",
    "                        'rmse': rmse\n",
    "                    })\n",
    "\n",
    "            avg_val_rmse = np.mean(inner_fold_rmses)\n",
    "            all_inner_fold_scores.append(inner_fold_rmses)\n",
    "\n",
    "            print(f\"  Config {config_id+1}/{len(param_combos)} | Inner Mean RMSE: {avg_val_rmse:.4f}\")\n",
    "\n",
    "            if avg_val_rmse < best_val_score:\n",
    "                best_val_score = avg_val_rmse\n",
    "                best_config = gp_config\n",
    "\n",
    "        print(f\"\\n✅ Best config for outer fold {fold_idx+1}:\")\n",
    "        print(best_config)\n",
    "        print(f\"Best inner RMSE: {best_val_score:.4f}\")\n",
    "        best_grid_models.append(best_config)\n",
    "\n",
    "        # Convert to DataFrame for statistical tests\n",
    "        df_inner_scores = pd.DataFrame(all_inner_fold_scores).T  # shape: (k_inner, n_configs)\n",
    "        validation_results.append(df_inner_scores)\n",
    "\n",
    "        # ============ Statistical Tests ============ #\n",
    "        print(\"\\nStatistical test on inner fold scores:\")\n",
    "        stat, p = friedmanchisquare(*[df_inner_scores[col] for col in df_inner_scores.columns])\n",
    "        print(f\"Friedman test statistic: {stat:.4f}, p-value: {p:.4f}\")\n",
    "        if p < alpha_sig:\n",
    "            posthoc_result = sp.posthoc_nemenyi_friedman(df_inner_scores.to_numpy())\n",
    "            significant_columns = posthoc_result.columns[posthoc_result.lt(0.05).any(axis=0)]\n",
    "            filtered_result = posthoc_result[posthoc_result < alpha_sig]\n",
    "            filtered_result = filtered_result.dropna(how='all').dropna(axis=1, how='all').fillna('-')\n",
    "            print(\"P-values of significant differences:\")\n",
    "            print(filtered_result)\n",
    "        else:\n",
    "            print(\"No significant differences found between configs.\")\n",
    "\n",
    "        # ============ Boxplot ============ #\n",
    "        # Convert detailed results to DataFrame for this outer fold\n",
    "        df_fold_results = pd.DataFrame([r for r in detailed_results if r['outer_fold'] == fold_idx + 1])\n",
    "        \n",
    "        # Create labels for configurations\n",
    "        config_labels = {\n",
    "            i: f\"Config {i+1}<br>\" + \"<br>\".join(\n",
    "                [f\"{k}: {v}\"[:30] for k, v in param_combos[i].items()]  # Corta cada item em 30 chars\n",
    "            )\n",
    "            for i in range(len(param_combos))\n",
    "        }\n",
    "        df_fold_results['config_label'] = df_fold_results['config_id'].map(config_labels)\n",
    "\n",
    "        fig = go.Figure()\n",
    "        fig.add_trace(go.Box(\n",
    "            x=df_fold_results['config_label'],\n",
    "            y=df_fold_results['rmse'],\n",
    "            fillcolor='rgba(108, 140, 200, 0.3)',\n",
    "            line=dict(color='rgba(108, 140, 200, 1)'),\n",
    "            boxpoints='all',\n",
    "            jitter=0,\n",
    "            pointpos=0,\n",
    "            marker=dict(color='rgba(108, 140, 200, 1)')\n",
    "        ))\n",
    "        fig.update_layout(\n",
    "            title=f'Inner CV RMSEs - Outer Fold {fold_idx+1}',\n",
    "            yaxis_title='Validation RMSE',\n",
    "            width=200 * len(param_combos),\n",
    "            height=400,\n",
    "            plot_bgcolor='#f1f1f1',\n",
    "            xaxis_tickangle=-90,\n",
    "            margin=dict(l=50, r=50, t=50, b=20),\n",
    "            showlegend=False\n",
    "        )\n",
    "        fig.show()\n",
    "\n",
    "\n",
    "        # ============ Retrain on Outer Train, Evaluate on Outer Test ============ #\n",
    "        x_scaler = RobustScaler()\n",
    "        y_scaler = RobustScaler()\n",
    "        X_outer_train_scaled = x_scaler.fit_transform(fold_data['X_outer_train'])\n",
    "        X_test_scaled = x_scaler.transform(fold_data['X_test'])\n",
    "        y_outer_train_scaled = y_scaler.fit_transform(fold_data['y_outer_train'].values.reshape(-1, 1)).flatten()\n",
    "        y_test_scaled = y_scaler.transform(fold_data['y_test'].values.reshape(-1, 1)).flatten()\n",
    "\n",
    "        X_outer_train_tensor = torch.tensor(X_outer_train_scaled, dtype=torch.float32)\n",
    "        y_outer_train_tensor = torch.tensor(y_outer_train_scaled, dtype=torch.float32)\n",
    "        X_test_tensor = torch.tensor(X_test_scaled, dtype=torch.float32)\n",
    "        y_test_tensor = torch.tensor(y_test_scaled, dtype=torch.float32)\n",
    "\n",
    "        model = gp_class(\n",
    "            # Problem Instance\n",
    "            X_train=X_outer_train_tensor, y_train=y_outer_train_tensor,\n",
    "            X_test=X_test_tensor, y_test=y_test_tensor,\n",
    "            dataset_name=dataset_name,\n",
    "            fitness_function='rmse',\n",
    "            minimization=True,\n",
    "            \n",
    "            # Search Space\n",
    "            tree_constants=best_config['sspace']['tree_constants'],\n",
    "            tree_functions=['add', 'subtract', 'multiply', 'divide'],\n",
    "            prob_const=best_config['sspace']['p_constants'],\n",
    "            init_depth=best_config['sspace']['max_init_depth'],\n",
    "            #max_depth=best_config['sspace']['max_depth'],\n",
    "\n",
    "            # GSGP instance\n",
    "            pop_size=best_config['pop_size'],\n",
    "            p_xo=best_config['xo_prob'],\n",
    "            initializer=best_config['initializer'],\n",
    "            tournament_size=2,\n",
    "            ms_lower = best_config['ms_lower'], #`ms_lower`: lower bound for generating the random number used as mutation step.\n",
    "            ms_upper = best_config['ms_upper'], #`ms_upper`: upper bound for generating the random number used as mutation step.\n",
    "            reconstruct = best_config['reconstruct'],\n",
    "\n",
    "            # Solve settings\n",
    "            n_iter=best_config['generations'],\n",
    "            elitism=True,\n",
    "            n_elites=1,\n",
    "            test_elite=True,\n",
    "            log_level=0,\n",
    "            verbose=0,\n",
    "            n_jobs=1,\n",
    "            seed=best_config['seed']\n",
    "        )\n",
    "\n",
    "        with torch.no_grad():\n",
    "            y_pred_scaled = model.predict(X_test_tensor).numpy()\n",
    "            y_pred_rescaled = safe_inverse_transform(y_scaler, y_pred_scaled)\n",
    "            test_rmse = np.sqrt(mean_squared_error(fold_data['y_test'], y_pred_rescaled))\n",
    "\n",
    "        print(f\"\\n[Outer Fold {fold_idx+1}] Test RMSE: {test_rmse:.4f}\")\n",
    "        outer_scores.append(test_rmse)\n",
    "        gc.collect()\n",
    "\n",
    "    print(f\"\\n================ Final Results ================\\nMean RMSE: {np.mean(outer_scores):.4f} ± {np.std(outer_scores):.4f}\")\n",
    "    df_all_results = pd.DataFrame(detailed_results)\n",
    "    return np.array(outer_scores), best_grid_models, df_all_results, validation_results"
   ]
  },
  {
   "cell_type": "markdown",
   "id": "812a2ee5",
   "metadata": {},
   "source": [
    "| **Parameter**        | **Test Values**                                | **Why ??**                                                                                             |\n",
    "| -------------------- | ----------------------------------------------------- | ----------------------------------------------------------------------------------------------------------------------------------------------- |\n",
    "| `init_depth`         | `[3, 5]`                                              | Smaller initial trees (shallow depth) reduce the risk of overfitting early on. With 96 entries, you want simplicity and better generalization.  |\n",
    "| `tree_constants`     | `[random.uniform(0, 1) for _ in range(9)] + [-1.]`    | Constants allow models to fine-tune predictions. Using a limited, balanced range prevents excessive reliance on constants (avoids \"bloat\").     |\n",
    "| `p_constants`        | `[0.1, 0.5]`                                          | High constant probability makes the tree more about constants than structure. This is dangerous for small data — prefer 10–20% range.           |\n",
    "| `tree_functions`     | `['add', 'subtract', 'multiply', 'divide']` | Basic arithmetic gives expressive power. `protected_divide` avoids runtime errors. Don’t add too many functions — it increases search space.    |\n",
    "| `pop_size`           | `[20, 30, 50]`                                        | Small datasets don’t need huge populations. Lower sizes = faster runs and still enough diversity. 20–50 is a good starting point.               |\n",
    "| `p_xo`               | `[0.7, 0.9]`                                          | Crossover (recombination) promotes diversity and generalization. On small data, too much crossover (close to 1.0) might disrupt good solutions. |\n",
    "| `initializer`        | `\"grow\", \"rhh\"`                                       | `grow` creates variable-sized trees. `rhh` mixes it with `full`, adding diversity. `full` alone — it tends to create deep, overfit trees. |\n",
    "| `elitism`            | `[True]`                                              | Keep the best solution in each generation. With few samples, losing the best-performing individual can seriously hurt performance.              |\n",
    "| `n_iter`             | `[10, 15]`                                                  | Has to be lower than in regular GP, given that there is no maximum depth GSGP tends to bloat very quickly                        |\n",
    "| `reconstruct`             | `True`                                                  | GSGP requires this parameter to store the trees' structure to construct the new generation                        |"
   ]
  },
  {
   "cell_type": "raw",
   "id": "063d545e",
   "metadata": {},
   "source": [
    "TREE_CONSTANTS = [random.uniform(0, 1) for _ in range(9)] + [-1.]\n",
    "\n",
    "param_grid = {\n",
    "    'initializer': ['grow', 'rhh'],\n",
    "    'sspace.p_constants': [0.1, 0.5], \n",
    "    'sspace.max_init_depth': [3, 5],\n",
    "    'sspace.tree_constants': [TREE_CONSTANTS],\n",
    "    'pop_size': [30, 50],\n",
    "    'xo_prob': [0.7, 0.9],\n",
    "    'generations': [10],\n",
    "    'ms_lower': [0],\n",
    "    'ms_upper': [1],\n",
    "    'reconstruct': [True]\n",
    "}\n",
    "\n",
    "# Seeds to test\n",
    "seeds = [42, 123, 456]  # You can change these to any seeds you prefer\n",
    "\n",
    "# Store results from all seeds\n",
    "all_scores = []\n",
    "all_best_models = []\n",
    "all_results = []\n",
    "all_validation = []\n",
    "\n",
    "for seed in seeds:\n",
    "    print(f\"\\n=== Running with seed: {seed} ===\\n\")\n",
    "    \n",
    "    # Set random seeds for reproducibility\n",
    "    random.seed(seed)\n",
    "    np.random.seed(seed)\n",
    "    torch.manual_seed(seed)\n",
    "    \n",
    "    # Run the experiment\n",
    "    scores, best_models, df_results, val_results = nested_cv_gp_slim_gsgp(\n",
    "        X=X, y=y,\n",
    "        param_grid=param_grid,\n",
    "        gp_class=gsgp,\n",
    "        k_outer=5, k_inner=3,\n",
    "        seed=seed\n",
    "    )\n",
    "    \n",
    "    # Store results\n",
    "    all_scores.append(scores)\n",
    "    all_best_models.append(best_models)\n",
    "    all_results.append(df_results)\n",
    "    all_validation.append(val_results)"
   ]
  },
  {
   "cell_type": "markdown",
   "id": "43b98bba",
   "metadata": {},
   "source": [
    "Running the full CV 3 times with different seeds to mitigate randomness from GP (e.g., in init, selection, mutation), and get statistically more reliable average performance (like doing 30 folds total) -> common trick in evolutionary algorithms due to their stochastic nature."
   ]
  },
  {
   "cell_type": "raw",
   "id": "4e55d88a",
   "metadata": {},
   "source": [
    "def dict_to_hashable(d):\n",
    "    def make_hashable(value):\n",
    "        if isinstance(value, dict):\n",
    "            return tuple(sorted((k, make_hashable(v)) for k, v in value.items()))\n",
    "        elif isinstance(value, list):\n",
    "            return tuple(make_hashable(x) for x in value)\n",
    "        elif isinstance(value, set):\n",
    "            return tuple(sorted(make_hashable(x) for x in value))\n",
    "        else:\n",
    "            return value\n",
    "    \n",
    "    return tuple(sorted((k, make_hashable(v)) for k, v in d.items()))\n",
    "\n",
    "# Now process the results\n",
    "mean_scores = np.mean([scores for scores in all_scores], axis=0)\n",
    "std_scores = np.std([scores for scores in all_scores], axis=0)\n",
    "\n",
    "try:\n",
    "    all_configs_hashed = [dict_to_hashable(config) for seed_models in all_best_models for config in seed_models]\n",
    "    config_counts = Counter(all_configs_hashed)\n",
    "    \n",
    "    if config_counts:\n",
    "        most_common_config_hash = config_counts.most_common(1)[0][0]\n",
    "        best_config = dict((k, dict(v) if isinstance(v, tuple) else v) \n",
    "                        for k, v in most_common_config_hash)\n",
    "        \n",
    "        print(\"\\n=== Final Results ===\")\n",
    "        print(f\"Mean RMSE across seeds: {np.mean(mean_scores):.4f} ± {np.mean(std_scores):.4f}\")\n",
    "        print(\"\\nBest configuration found in most runs:\")\n",
    "        for k, v in best_config.items():\n",
    "            if isinstance(v, dict):\n",
    "                print(f\"  {k}:\")\n",
    "                for sub_k, sub_v in v.items():\n",
    "                    print(f\"    {sub_k}: {sub_v}\")\n",
    "            else:\n",
    "                print(f\"  {k}: {v}\")\n",
    "    else:\n",
    "        print(\"No valid configurations found in all_best_models\")\n",
    "except Exception as e:\n",
    "    print(f\"Error processing configurations: {str(e)}\")"
   ]
  },
  {
   "cell_type": "markdown",
   "id": "8fcac268",
   "metadata": {},
   "source": [
    "> GSGP best configuration"
   ]
  },
  {
   "cell_type": "raw",
   "id": "3ca6c582",
   "metadata": {},
   "source": [
    "# ========== Config from Best Run ==========\n",
    "best_config = {\n",
    "    'initializer': 'grow',\n",
    "    'prob_const': 0.1,\n",
    "    'init_depth': 5,\n",
    "    'tree_constants': [0.6394267984578837, 0.025010755222666936, 0.27502931836911926,\n",
    "                       0.22321073814882275, 0.7364712141640124, 0.6766994874229113,\n",
    "                       0.8921795677048454, 0.08693883262941615, 0.4219218196852704, -1.0],\n",
    "    'pop_size': 30,\n",
    "    'xo_prob': 0.9,\n",
    "    'generations': 10,\n",
    "    'ms_lower': 0,\n",
    "    'ms_upper': 1,\n",
    "    'reconstruct': True,\n",
    "    'seed': 123\n",
    "}"
   ]
  },
  {
   "cell_type": "raw",
   "id": "191c9a6a",
   "metadata": {},
   "source": [
    "def evaluate_gp_with_best_config(X, y, best_config, gp_class, k_outer=5, seed=42, verbose=True):\n",
    "    \n",
    "    outer_cv = KFold(n_splits=k_outer, shuffle=True, random_state=seed)\n",
    "    outer_scores = []\n",
    "    models = []\n",
    "\n",
    "    for fold_idx, (train_idx, test_idx) in enumerate(outer_cv.split(X)):\n",
    "        print(f\"\\n=== Outer Fold {fold_idx+1}/{k_outer} ===\")\n",
    "\n",
    "        X_train, X_test = X.iloc[train_idx], X.iloc[test_idx]\n",
    "        y_train, y_test = y.iloc[train_idx], y.iloc[test_idx]\n",
    "\n",
    "        # Scaling\n",
    "        x_scaler = RobustScaler()\n",
    "        y_scaler = RobustScaler()\n",
    "        X_train_scaled = x_scaler.fit_transform(X_train)\n",
    "        y_train_scaled = y_scaler.fit_transform(y_train.values.reshape(-1, 1)).flatten()\n",
    "        X_test_scaled = x_scaler.transform(X_test)\n",
    "        y_test_scaled = y_scaler.transform(y_test.values.reshape(-1, 1)).flatten()\n",
    "\n",
    "        X_train_tensor = torch.tensor(X_train_scaled, dtype=torch.float32)\n",
    "        y_train_tensor = torch.tensor(y_train_scaled, dtype=torch.float32)\n",
    "        X_test_tensor = torch.tensor(X_test_scaled, dtype=torch.float32)\n",
    "        y_test_tensor = torch.tensor(y_test_scaled, dtype=torch.float32)\n",
    "\n",
    "        model = gp_class(\n",
    "            # Problem Instance\n",
    "            X_train=X_train_tensor, y_train=y_train_tensor,\n",
    "            X_test=X_test_tensor, y_test=y_test_tensor,\n",
    "            dataset_name=\"🐓 Chicken 🐓\",\n",
    "            fitness_function='rmse',\n",
    "            minimization=True,\n",
    "\n",
    "            # Search Space\n",
    "            tree_constants=best_config['tree_constants'],\n",
    "            tree_functions=['add', 'subtract', 'multiply', 'divide'],\n",
    "            prob_const=best_config['prob_const'],\n",
    "            init_depth=best_config['init_depth'],\n",
    "            #max_depth=best_config['max_depth'],\n",
    "\n",
    "            # GSGP instance\n",
    "            pop_size=best_config['pop_size'],\n",
    "            p_xo=best_config['xo_prob'],\n",
    "            initializer=best_config['initializer'],\n",
    "            tournament_size=2,\n",
    "            ms_lower = best_config['ms_lower'], #`ms_lower`: lower bound for generating the random number used as mutation step.\n",
    "            ms_upper = best_config['ms_upper'], #`ms_upper`: upper bound for generating the random number used as mutation step.\n",
    "            reconstruct = best_config['reconstruct'],\n",
    "\n",
    "            # Solve settings\n",
    "            n_iter=best_config['generations'],\n",
    "            elitism=True,\n",
    "            n_elites=1,\n",
    "            test_elite=True,\n",
    "            log_level=2,\n",
    "            log_path=f\"./log/GSGP/fold_{fold_idx+1}.csv\",\n",
    "            verbose=1 if verbose else 0,\n",
    "            n_jobs=1,\n",
    "            seed=best_config['seed']\n",
    "        )\n",
    "\n",
    "        models.append(model)\n",
    "\n",
    "        with torch.no_grad():\n",
    "            y_pred_scaled = model.predict(X_test_tensor).numpy()\n",
    "            y_pred_rescaled = safe_inverse_transform(y_scaler, y_pred_scaled)\n",
    "            rmse = np.sqrt(mean_squared_error(y_test, y_pred_rescaled))\n",
    "        print(f'Predicted Values: {y_pred_rescaled}')\n",
    "        print(f'Real Values: {y_test}')\n",
    "        print(f\"Fold {fold_idx+1} RMSE: {rmse:.4f}\")\n",
    "        outer_scores.append(rmse)\n",
    "\n",
    "    print(f\"\\n✅ Final RMSE across {k_outer} folds: {np.mean(outer_scores):.4f} ± {np.std(outer_scores):.4f}\")\n",
    "    return outer_scores, models"
   ]
  },
  {
   "cell_type": "raw",
   "id": "1c55ac33",
   "metadata": {},
   "source": [
    "outer_scores, models = evaluate_gp_with_best_config(X, y, best_config, gp_class=gsgp, k_outer=5)"
   ]
  },
  {
   "cell_type": "raw",
   "id": "0adf20b1",
   "metadata": {},
   "source": [
    "# Log level 2\n",
    "# -----------\n",
    "# 0  - Algorithm\n",
    "# 1  - Instance ID\n",
    "# 2  - Dataset\n",
    "# 3  - Seed\n",
    "# 4  - Generation\n",
    "# 5  - Fitness\n",
    "# 6  - Running time\n",
    "# 7  - Population nodes\n",
    "# 8  - Test fitness\n",
    "# 9  - Elite nodes\n",
    "# 10 - Genotype diversity: gsgp_pop_div_from_vectors (Calculate the diversity of a population from semantic vectors)\n",
    "# 11 - Phenotype diversity: sd(pop.fit)\n",
    "# 12 - Log level\n",
    "\n",
    "COLUMN_NAMES = [\n",
    "    \"Algorithm\",      # 0\n",
    "    \"Instance_ID\",    # 1\n",
    "    \"Dataset\",        # 2\n",
    "    \"Seed\",           # 3\n",
    "    \"Generation\",     # 4\n",
    "    \"Fitness\",        # 5 (Train RMSE)\n",
    "    \"Running_time\",   # 6\n",
    "    \"Population_nodes\", # 7\n",
    "    \"Test_fitness\",   # 8 (Test RMSE)\n",
    "    \"Elite_nodes\",    # 9 (Tree size)\n",
    "    \"Genotype_diversity\",  # 10\n",
    "    \"Phenotype_diversity\",     # 11 (Fitness diversity)\n",
    "    \"Log_level\"       # 12\n",
    "]\n",
    "\n",
    "# Load all folds with column names\n",
    "folds = []\n",
    "for i in range(1, 6):\n",
    "    df = pd.read_csv(f\"log/GSGP/fold_{i}.csv\", header=None)\n",
    "    df.columns = COLUMN_NAMES  # Assign column names\n",
    "    folds.append(df)"
   ]
  },
  {
   "cell_type": "raw",
   "id": "46990d38",
   "metadata": {},
   "source": [
    "folds[0].head()"
   ]
  },
  {
   "cell_type": "raw",
   "id": "5ca3a436",
   "metadata": {},
   "source": [
    "for fold_idx, model in enumerate(models, start=1):\n",
    "    print(f\"\\n=== Tree Representation (Fold {fold_idx}) ===\")\n",
    "    print(str(model.structure))\n",
    "    print(model.structure[1].structure)"
   ]
  },
  {
   "cell_type": "raw",
   "id": "5de1bdb4",
   "metadata": {},
   "source": [
    "NUMERIC_COLS = [\"Generation\", \"Fitness\", \"Running_time\", \"Population_nodes\", \n",
    "                \"Test_fitness\", \"Elite_nodes\", \"Genotype_diversity\", \"Phenotype_diversity\"]\n",
    "numeric_folds = [df[NUMERIC_COLS] for df in folds]"
   ]
  },
  {
   "cell_type": "raw",
   "id": "e89b7228",
   "metadata": {},
   "source": [
    "numeric_folds[0].head()"
   ]
  },
  {
   "cell_type": "raw",
   "id": "55baed18",
   "metadata": {},
   "source": [
    "# all_data = np.stack([df.values for df in numeric_folds])\n",
    "\n",
    "all_data = [df[NUMERIC_COLS].apply(pd.to_numeric, errors='coerce') for df in folds]\n",
    "\n",
    "#  mean and std across folds\n",
    "mean = np.mean(all_data, axis=0)  \n",
    "std = np.std(all_data, axis=0)\n",
    "mean_df = pd.DataFrame(mean, columns=NUMERIC_COLS)\n",
    "std_df = pd.DataFrame(std, columns=NUMERIC_COLS)"
   ]
  },
  {
   "cell_type": "raw",
   "id": "842a15ca",
   "metadata": {},
   "source": [
    "DATASET_NAME = 'Chicken Dataset'\n",
    "fig = go.Figure()\n",
    "\n",
    "# Train Fitness (mean ± std)\n",
    "fig.add_trace(go.Scatter(\n",
    "    x=mean_df[\"Generation\"],\n",
    "    y=mean_df[\"Fitness\"],\n",
    "    mode='lines',\n",
    "    name='Train RMSE (mean)',\n",
    "    line=dict(color='blue', width=2)\n",
    "))\n",
    "# Add std as a shaded region (light blue)\n",
    "fig.add_trace(go.Scatter(\n",
    "    x=mean_df[\"Generation\"],\n",
    "    y=mean_df[\"Fitness\"] + std_df[\"Fitness\"],\n",
    "    mode='lines',\n",
    "    line=dict(width=0),\n",
    "    showlegend=False,\n",
    "    fillcolor='rgba(0, 100, 255, 0.2)',\n",
    "    fill='tonexty'\n",
    "))\n",
    "fig.add_trace(go.Scatter(\n",
    "    x=mean_df[\"Generation\"],\n",
    "    y=mean_df[\"Fitness\"] - std_df[\"Fitness\"],\n",
    "    mode='lines',\n",
    "    line=dict(width=0),\n",
    "    name='±1 std (Train)',\n",
    "    fillcolor='rgba(0, 100, 255, 0.2)'\n",
    "))\n",
    "\n",
    "# Test Fitness (mean ± std)\n",
    "fig.add_trace(go.Scatter(\n",
    "    x=mean_df[\"Generation\"],\n",
    "    y=mean_df[\"Test_fitness\"],\n",
    "    mode='lines',\n",
    "    name='Test RMSE (mean)',\n",
    "    line=dict(color='red', width=2)\n",
    "))\n",
    "# Add std as a shaded region (light red)\n",
    "fig.add_trace(go.Scatter(\n",
    "    x=mean_df[\"Generation\"],\n",
    "    y=mean_df[\"Test_fitness\"] + std_df[\"Test_fitness\"],\n",
    "    mode='lines',\n",
    "    line=dict(width=0),\n",
    "    showlegend=False,\n",
    "    fillcolor='rgba(255, 50, 50, 0.2)',\n",
    "    fill='tonexty'\n",
    "))\n",
    "fig.add_trace(go.Scatter(\n",
    "    x=mean_df[\"Generation\"],\n",
    "    y=mean_df[\"Test_fitness\"] - std_df[\"Test_fitness\"],\n",
    "    mode='lines',\n",
    "    line=dict(width=0),\n",
    "    name='±1 std (Test)',\n",
    "    fillcolor='rgba(255, 50, 50, 0.2)'\n",
    "))\n",
    "\n",
    "fig.update_layout(\n",
    "    title=f'GSGP Fitness Evolution ({DATASET_NAME}, 5-fold mean ± std)',\n",
    "    xaxis_title='Generation',\n",
    "    yaxis_title='RMSE',\n",
    "    hovermode='x unified',\n",
    "    height=400,\n",
    "    width=800\n",
    ")\n",
    "fig.show()"
   ]
  },
  {
   "cell_type": "raw",
   "id": "28feb00c",
   "metadata": {},
   "source": [
    "fig = go.Figure()\n",
    "\n",
    "# Mean Size (Elite_nodes)\n",
    "fig.add_trace(go.Scatter(\n",
    "    x=mean_df[\"Generation\"],\n",
    "    y=mean_df[\"Elite_nodes\"],\n",
    "    mode='lines',\n",
    "    name='Size (mean)',\n",
    "    line=dict(color='green', width=2)\n",
    "))\n",
    "\n",
    "# Std as shaded region (light green)\n",
    "fig.add_trace(go.Scatter(\n",
    "    x=mean_df[\"Generation\"],\n",
    "    y=mean_df[\"Elite_nodes\"] + std_df[\"Elite_nodes\"],\n",
    "    mode='lines',\n",
    "    line=dict(width=0),\n",
    "    showlegend=False,\n",
    "    fillcolor='rgba(50, 200, 50, 0.2)',\n",
    "    fill='tonexty'\n",
    "))\n",
    "fig.add_trace(go.Scatter(\n",
    "    x=mean_df[\"Generation\"],\n",
    "    y=mean_df[\"Elite_nodes\"] - std_df[\"Elite_nodes\"],\n",
    "    mode='lines',\n",
    "    line=dict(width=0),\n",
    "    name='±1 std',\n",
    "    fillcolor='rgba(50, 200, 50, 0.2)'\n",
    "))\n",
    "\n",
    "fig.update_layout(\n",
    "    title=f'GSGP - Size Evolution ({DATASET_NAME}, 5-fold mean ± std)',\n",
    "    xaxis_title='Generation',\n",
    "    yaxis_title='Number of Nodes',\n",
    "    yaxis_range=[0, None],  # Start y-axis at 0\n",
    "    height=400,\n",
    "    width=800,\n",
    "    margin=dict(t=50),\n",
    "    hovermode='x unified'\n",
    ")\n",
    "fig.show()"
   ]
  },
  {
   "cell_type": "raw",
   "id": "33225fab",
   "metadata": {},
   "source": [
    "fig = go.Figure()\n",
    "\n",
    "# Mean Size (Elite_nodes)\n",
    "fig.add_trace(go.Scatter(\n",
    "    x=mean_df[\"Generation\"],\n",
    "    y=mean_df[\"Phenotype_diversity\"],\n",
    "    mode='lines',\n",
    "    name='Size (mean)',\n",
    "    line=dict(color='green', width=2)\n",
    "))\n",
    "\n",
    "# Std as shaded region (light green)\n",
    "fig.add_trace(go.Scatter(\n",
    "    x=mean_df[\"Generation\"],\n",
    "    y=mean_df[\"Phenotype_diversity\"] + std_df[\"Phenotype_diversity\"],\n",
    "    mode='lines',\n",
    "    line=dict(width=0),\n",
    "    showlegend=False,\n",
    "    fillcolor='rgba(50, 200, 50, 0.2)',\n",
    "    fill='tonexty'\n",
    "))\n",
    "fig.add_trace(go.Scatter(\n",
    "    x=mean_df[\"Generation\"],\n",
    "    y=mean_df[\"Phenotype_diversity\"] - std_df[\"Phenotype_diversity\"],\n",
    "    mode='lines',\n",
    "    line=dict(width=0),\n",
    "    name='±1 std',\n",
    "    fillcolor='rgba(50, 200, 50, 0.2)'\n",
    "))\n",
    "\n",
    "fig.update_layout(\n",
    "    title=f'GSGP - Population Fitness Diversity ({DATASET_NAME}, 5-fold mean ± std)',\n",
    "    xaxis_title='Generation',\n",
    "    yaxis_title='Fitness Standard Deviation',\n",
    "    yaxis_range=[0, None],  # Start y-axis at 0\n",
    "    height=400,\n",
    "    width=800,\n",
    "    margin=dict(t=50),\n",
    "    hovermode='x unified'\n",
    ")\n",
    "fig.show()"
   ]
  },
  {
   "cell_type": "markdown",
   "id": "da93d936",
   "metadata": {},
   "source": [
    "`Geral Notes:` We notice that using a large population size or a high number of iterations in GSGP lead to a significant bloating, doing some research lead to the conclusion that since its generation introduces new semantic components without reducing the complexity of the existing structure this is normal so to reduce the big node count we used a smaller initial population and generations. \n",
    "\n",
    "Also, like for GP, although the best-performing configuration was found after the tuning, we ended up testing it again this time with the verbose parameter so we can analyze the generations across folds more in depth - we used the **5-fold outer cross-validation** to get am unbiased estimate of how well the model would perform on completely unseen data (as we explained before) -> Again, this helps avoid the trap of getting overly optimistic results from a single lucky train-test split.\n",
    "\n",
    "---\n",
    "\n",
    "- **Outer Fold 1 and Outer Fold 2 (More bloat in this one beacause the model tried to excape local opt more than one time)**\n",
    "\n",
    "This fold initially performed quite well, showing promise in the early generations, it converged on generation 9. But, at the beginning, from generation 0 to 3, the test fitness drooped from 0.94 → 0.62 and training fitness from 0.94 → 0.83, and then in generation 4, the model began to overfit → the training fitness kept decreasing, but the test fitness did increase a bit 0.62 → 0.78 → 0.75.This suggests the model failed to generalize better despite training improvements.\n",
    "\n",
    "Bloat was significant but the gsgp model is also more prone to that, we did have imporvements with some adjustments we did during the tunning, specifically experimenting with poppulation and interaction sizes, but we can explore that further. The increased complexity started when the signs of overfitting appear so we conclude that the model tried to increase complexity to improve the test score but without benefit from it.\n",
    "\n",
    "Basically the model found a good region early but lacked mechanisms to control complexity or escape local optima.\n",
    "\n",
    "- **Outer Fold 3**\n",
    "\n",
    "This was the worst-performing fold in terms of rmse  so far, like in gp this fols with the low test value of 73 usually leads to problems, in this case the model converged early in gen 4/5 and then started to increase complexity / bloat to try to escape this lcocal optima, in the end did imporve a little bit but the trade off btw complexity and and the score was not worthed.\n",
    "\n",
    "Training fitness, on the other hand, kept improving (0.76 → 0.45), indicating overfitting.\n",
    "\n",
    "- **Outer Fold 4**\n",
    "\n",
    "Again, it converged early in generations 4/5 and like in the other folds it started to add complexity to escape this local opt leading it to bloat, it did converged again on generation 9 but the score is worse than in generation 5, and since the training kept decreasing we can conclude the existance of overfitting. \n",
    "\n",
    "In the end, this fold demonstrates one of the best trade-offs between accuracy and complexity.\n",
    "\n",
    "- **Outer Fold 5**\n",
    "\n",
    "Similar thing happen in this fold, but the model was able to escape the local optmia with the increased bloat.\n",
    "\n"
   ]
  },
  {
   "cell_type": "markdown",
   "id": "a9a27577",
   "metadata": {},
   "source": [
    "#### <a id=\"slim\"></a> \n",
    "<div style=\"background-color: hsla(120, 71.40%, 43.90%, 0.30); padding: 10px; border-radius: 8px; text-align: left; margin-top: 20px; margin-bottom: 20px;\">\n",
    "    <h4 style=\"color: white; margin: 0;\">4. Semantic Learning algorithm with Inflate and deflate Mutations (SLIM)</h4>\n",
    "</div>\n",
    "\n",
    "[Back to Index](#idx)"
   ]
  },
  {
   "cell_type": "raw",
   "id": "dbdfced1",
   "metadata": {
    "vscode": {
     "languageId": "raw"
    }
   },
   "source": [
    "# ========== Safe Inverse Transform ========== #\n",
    "def safe_inverse_transform(scaler, y):\n",
    "    if y.ndim == 1:\n",
    "        y = y.reshape(-1, 1)\n",
    "    return scaler.inverse_transform(y).flatten()"
   ]
  },
  {
   "cell_type": "raw",
   "id": "2ed82a4c",
   "metadata": {
    "vscode": {
     "languageId": "raw"
    }
   },
   "source": [
    "def nested_cv_gp_slim_gsgp(\n",
    "    X, y, param_grid, k_outer=5, k_inner=3, dataset_name=\"Chicken\", gp_class=None, seed=42, alpha_sig=0.05\n",
    "):\n",
    "    X = X.reset_index(drop=True)\n",
    "    y = y.reset_index(drop=True)\n",
    "    outer_scores = []\n",
    "    best_grid_models = []\n",
    "    validation_results = []  # Stores validation RMSEs for each inner fold and config\n",
    "    detailed_results = []  # Stores all inner fold results for all configs\n",
    "\n",
    "    os.makedirs(\"./log/SLIM/\", exist_ok=True)\n",
    "\n",
    "    # Generate all parameter combinations for grid search\n",
    "    keys, values = zip(*param_grid.items())\n",
    "    param_combos = [dict(zip(keys, v)) for v in product(*values)]\n",
    "\n",
    "    for fold_idx, fold_data in enumerate(nested_cv_generator(X, y, k_outer=k_outer, k_inner=k_inner, random_state=seed)):\n",
    "        print(f\"\\n========== OUTER FOLD {fold_idx+1}/{k_outer} ==========\")\n",
    "\n",
    "        best_config = None\n",
    "        best_val_score = float('inf')\n",
    "        all_inner_fold_scores = []  # RMSEs for each config across inner folds\n",
    "\n",
    "        # ============ Grid Search on Inner CV ============ #\n",
    "        for config_id, flat_config in enumerate(param_combos):\n",
    "            # Build configuration dictionary\n",
    "            gp_config = {\n",
    "                'initializer': flat_config['initializer'],\n",
    "                'sspace': {\n",
    "                    'p_constants': flat_config['sspace.p_constants'],\n",
    "                    'max_init_depth': flat_config['sspace.max_init_depth'],\n",
    "                    'tree_constants': flat_config['sspace.tree_constants'],\n",
    "                    'max_depth': flat_config['sspace.max_init_depth'] + 6\n",
    "                },\n",
    "                'pop_size': flat_config['pop_size'],\n",
    "                'generations': flat_config['generations'],\n",
    "                'ms_lower': flat_config['ms_lower'],\n",
    "                'ms_upper': flat_config['ms_upper'],\n",
    "                'reconstruct': flat_config['reconstruct'],\n",
    "                'slim_version': flat_config['slim_version'],\n",
    "                'p_inflate': flat_config['p_inflate'],\n",
    "                'copy_parent': flat_config['copy_parent'],\n",
    "                'seed': seed\n",
    "            }\n",
    "\n",
    "            inner_fold_rmses = []\n",
    "\n",
    "            # Perform inner CV\n",
    "            for inner_fold_idx, (inner_train_idx, inner_val_idx) in enumerate(fold_data['inner_splits']):\n",
    "                X_train = fold_data['X_outer_train'].iloc[inner_train_idx]\n",
    "                y_train = fold_data['y_outer_train'].iloc[inner_train_idx]\n",
    "                X_val = fold_data['X_outer_train'].iloc[inner_val_idx]\n",
    "                y_val = fold_data['y_outer_train'].iloc[inner_val_idx]\n",
    "\n",
    "                # Scale features and target\n",
    "                x_scaler = RobustScaler()\n",
    "                y_scaler = RobustScaler()\n",
    "                X_train_scaled = x_scaler.fit_transform(X_train)\n",
    "                X_val_scaled = x_scaler.transform(X_val)\n",
    "                y_train_scaled = y_scaler.fit_transform(y_train.values.reshape(-1, 1)).flatten()\n",
    "                y_val_scaled = y_scaler.transform(y_val.values.reshape(-1, 1)).flatten()\n",
    "\n",
    "                # Convert to tensors\n",
    "                X_train_tensor = torch.tensor(X_train_scaled, dtype=torch.float32)\n",
    "                y_train_tensor = torch.tensor(y_train_scaled, dtype=torch.float32)\n",
    "                X_val_tensor = torch.tensor(X_val_scaled, dtype=torch.float32)\n",
    "                y_val_tensor = torch.tensor(y_val_scaled, dtype=torch.float32)\n",
    "\n",
    "                # Train SLIM model with current configuration\n",
    "                model = gp_class(\n",
    "                    # Problem Instance\n",
    "                    X_train=X_train_tensor, y_train=y_train_tensor,\n",
    "                    X_test=X_val_tensor, y_test=y_val_tensor,\n",
    "                    dataset_name=dataset_name,\n",
    "                    fitness_function='rmse',\n",
    "                    minimization=True,\n",
    "\n",
    "                    # Search space\n",
    "                    init_depth=gp_config['sspace']['max_init_depth'],\n",
    "                    max_depth=gp_config['sspace']['max_depth'],\n",
    "                    tree_constants=gp_config['sspace']['tree_constants'],\n",
    "                    tree_functions=['add', 'subtract', 'multiply', 'divide'],\n",
    "                    prob_const=gp_config['sspace']['p_constants'],\n",
    "                    initializer=gp_config['initializer'],\n",
    "\n",
    "                    # SLIM instance\n",
    "                    pop_size=gp_config['pop_size'],\n",
    "                    tournament_size=2,\n",
    "                    ms_lower=gp_config['ms_lower'],\n",
    "                    ms_upper=gp_config['ms_upper'],\n",
    "                    reconstruct=gp_config['reconstruct'],\n",
    "                    slim_version=gp_config['slim_version'],\n",
    "                    p_inflate = gp_config['p_inflate'],\n",
    "                    copy_parent = gp_config['copy_parent'],\n",
    "\n",
    "                    # Solve settings\n",
    "                    n_iter=gp_config['generations'],\n",
    "                    elitism=True,\n",
    "                    n_elites=1,\n",
    "                    test_elite=True,\n",
    "                    log_path=\"./log/SLIM/\",\n",
    "                    log_level=0,\n",
    "                    verbose=0,\n",
    "                    n_jobs=1,\n",
    "                    seed=gp_config['seed']\n",
    "                )\n",
    "\n",
    "                # Evaluate on validation set\n",
    "                with torch.no_grad():\n",
    "                    y_pred_scaled = model.predict(X_val_tensor).numpy()\n",
    "                    y_true_scaled = y_val_tensor.numpy()\n",
    "\n",
    "                    y_pred = safe_inverse_transform(y_scaler, y_pred_scaled)\n",
    "                    y_true = safe_inverse_transform(y_scaler, y_true_scaled)\n",
    "\n",
    "                    rmse = np.sqrt(mean_squared_error(y_true, y_pred))\n",
    "                    inner_fold_rmses.append(rmse)\n",
    "\n",
    "                    # Save detailed result\n",
    "                    detailed_results.append({\n",
    "                        'outer_fold': fold_idx + 1,\n",
    "                        'inner_fold': inner_fold_idx + 1,\n",
    "                        'config_id': config_id,\n",
    "                        'config': str(flat_config),\n",
    "                        'rmse': rmse\n",
    "                    })\n",
    "\n",
    "            avg_val_rmse = np.mean(inner_fold_rmses)\n",
    "            all_inner_fold_scores.append(inner_fold_rmses)\n",
    "\n",
    "            print(f\"  Config {config_id+1}/{len(param_combos)} | Inner Mean RMSE: {avg_val_rmse:.4f}\")\n",
    "\n",
    "            # Update best configuration\n",
    "            if avg_val_rmse < best_val_score:\n",
    "                best_val_score = avg_val_rmse\n",
    "                best_config = gp_config\n",
    "\n",
    "        print(f\"\\n✅ Best config for outer fold {fold_idx+1}:\")\n",
    "        print(best_config)\n",
    "        print(f\"Best inner RMSE: {best_val_score:.4f}\")\n",
    "        best_grid_models.append(best_config)\n",
    "\n",
    "        # Save validation RMSEs\n",
    "        df_inner_scores = pd.DataFrame(all_inner_fold_scores).T\n",
    "        validation_results.append(df_inner_scores)\n",
    "\n",
    "        # ============ Friedman & Posthoc Tests ============ #\n",
    "        print(\"\\nStatistical test on inner fold scores:\")\n",
    "        stat, p = friedmanchisquare(*[df_inner_scores[col] for col in df_inner_scores.columns])\n",
    "        print(f\"Friedman test statistic: {stat:.4f}, p-value: {p:.4f}\")\n",
    "        if p < alpha_sig:\n",
    "            posthoc_result = sp.posthoc_nemenyi_friedman(df_inner_scores.to_numpy())\n",
    "            #print(\"\\nFull posthoc Nemenyi test p-values:\")\n",
    "            #print(posthoc_result.round(4))\n",
    "\n",
    "            significant_mask = posthoc_result < alpha_sig\n",
    "            if significant_mask.values.any():\n",
    "                 print(\"\\nSignificant pairwise differences (p < alpha):\")\n",
    "                 sig_table = posthoc_result.where(significant_mask).dropna(how='all').dropna(axis=1, how='all')\n",
    "                 display(sig_table.round(4))\n",
    "            else:\n",
    "                 print(\"Friedman test was significant, but no significant pairwise differences found.\")\n",
    "        else:\n",
    "            print(\"No significant differences found between configs.\")\n",
    "\n",
    "        # ============ Boxplot ============ #\n",
    "        df_fold_results = pd.DataFrame([r for r in detailed_results if r['outer_fold'] == fold_idx + 1])\n",
    "        config_labels = {\n",
    "            i: f\"Config {i+1}<br>\" + \"<br>\".join([f\"{k}: {v}\"[:30] for k, v in param_combos[i].items()])\n",
    "            for i in range(len(param_combos))\n",
    "        }\n",
    "        df_fold_results['config_label'] = df_fold_results['config_id'].map(config_labels)\n",
    "\n",
    "        fig = go.Figure()\n",
    "        fig.add_trace(go.Box(\n",
    "            x=df_fold_results['config_label'],\n",
    "            y=df_fold_results['rmse'],\n",
    "            fillcolor='rgba(108, 140, 200, 0.3)',\n",
    "            line=dict(color='rgba(108, 140, 200, 1)'),\n",
    "            boxpoints='all',\n",
    "            jitter=0,\n",
    "            pointpos=0,\n",
    "            marker=dict(color='rgba(108, 140, 200, 1)')\n",
    "        ))\n",
    "        fig.update_layout(\n",
    "            title=f'Inner CV RMSEs - Outer Fold {fold_idx+1}',\n",
    "            yaxis_title='Validation RMSE',\n",
    "            width=300 * len(param_combos),\n",
    "            height=400,\n",
    "            plot_bgcolor='#f1f1f1',\n",
    "            xaxis_tickangle=-90,\n",
    "            margin=dict(l=50, r=50, t=50, b=20),\n",
    "            showlegend=False\n",
    "        )\n",
    "        fig.show()\n",
    "\n",
    "        # ============ Retrain on Outer Train, Evaluate on Outer Test ============ #\n",
    "        x_scaler = RobustScaler()\n",
    "        y_scaler = RobustScaler()\n",
    "        X_outer_train_scaled = x_scaler.fit_transform(fold_data['X_outer_train'])\n",
    "        X_test_scaled = x_scaler.transform(fold_data['X_test'])\n",
    "        y_outer_train_scaled = y_scaler.fit_transform(fold_data['y_outer_train'].values.reshape(-1, 1)).flatten()\n",
    "        y_test_scaled = y_scaler.transform(fold_data['y_test'].values.reshape(-1, 1)).flatten()\n",
    "\n",
    "        X_outer_train_tensor = torch.tensor(X_outer_train_scaled, dtype=torch.float32)\n",
    "        y_outer_train_tensor = torch.tensor(y_outer_train_scaled, dtype=torch.float32)\n",
    "        X_test_tensor = torch.tensor(X_test_scaled, dtype=torch.float32)\n",
    "        y_test_tensor = torch.tensor(y_test_scaled, dtype=torch.float32)\n",
    "\n",
    "        model = gp_class(\n",
    "            # Problem Instance\n",
    "            X_train=X_outer_train_tensor, y_train=y_outer_train_tensor,\n",
    "            X_test=X_test_tensor, y_test=y_test_tensor,\n",
    "            dataset_name=dataset_name,\n",
    "            fitness_function='rmse',\n",
    "            minimization=True,\n",
    "\n",
    "            # Search space\n",
    "            init_depth=best_config['sspace']['max_init_depth'],\n",
    "            max_depth=best_config['sspace']['max_depth'],\n",
    "            tree_constants=best_config['sspace']['tree_constants'],\n",
    "            tree_functions=['add', 'subtract', 'multiply', 'divide'],\n",
    "            prob_const=best_config['sspace']['p_constants'],\n",
    "            initializer=best_config['initializer'],\n",
    "\n",
    "            # SLIM instance\n",
    "            pop_size=best_config['pop_size'],\n",
    "            tournament_size=2,\n",
    "            ms_lower=best_config['ms_lower'],\n",
    "            ms_upper=best_config['ms_upper'],\n",
    "            reconstruct=best_config['reconstruct'],\n",
    "            slim_version=best_config['slim_version'],\n",
    "            p_inflate=best_config['p_inflate'],\n",
    "            copy_parent=best_config['copy_parent'],\n",
    "\n",
    "            # Solve settings\n",
    "            n_iter=best_config['generations'],\n",
    "            elitism=True,\n",
    "            n_elites=1,\n",
    "            test_elite=True,\n",
    "            log_path=\"./log/SLIM/\",\n",
    "            log_level=0,\n",
    "            verbose=0,\n",
    "            n_jobs=1,\n",
    "            seed=best_config['seed']\n",
    "        )\n",
    "\n",
    "        with torch.no_grad():\n",
    "            y_pred_scaled = model.predict(X_test_tensor).numpy()\n",
    "            y_pred_rescaled = safe_inverse_transform(y_scaler, y_pred_scaled)\n",
    "            test_rmse = np.sqrt(mean_squared_error(fold_data['y_test'], y_pred_rescaled))\n",
    "\n",
    "        print(f\"\\n[Outer Fold {fold_idx+1}] Test RMSE: {test_rmse:.4f}\")\n",
    "        outer_scores.append(test_rmse)\n",
    "        gc.collect()\n",
    "\n",
    "    print(f\"\\n================ Final Results ================\\nMean RMSE: {np.mean(outer_scores):.4f} ± {np.std(outer_scores):.4f}\")\n",
    "    df_all_results = pd.DataFrame(detailed_results)\n",
    "    return np.array(outer_scores), best_grid_models, df_all_results, validation_results\n"
   ]
  },
  {
   "cell_type": "markdown",
   "id": "8f16757c",
   "metadata": {},
   "source": [
    "We already talked abou the other parameters above but for slim specific parameters:\n",
    "\n",
    "| **Parameter**  | **Test Values**                                                                | **Why?**                                                                                                                                    |\n",
    "| -------------- | ------------------------------------------------------------------------------ | ------------------------------------------------------------------------------------------------------------------------------------------- |\n",
    "| `slim_version` | `['SLIM+SIG2', 'SLIM+SIG1', 'SLIM+ABS', 'SLIM*SIG2', 'SLIM*SIG1', 'SLIM*ABS']` | These cover both the standard and modified variants of SLIM with different mutation strategies, giving a broad view of performance impacts. |\n",
    "| `p_inflate`    | `0.5`                                                                          | A balanced value to give equal chances to inflate and deflate mutations, supporting diverse structural exploration.                         |\n",
    "| `copy_parent`  | `True`, `False`                                                                | `True` helps preserve valid individuals when mutation fails (good for stability). `False` increases selection pressure by discarding them.  |\n",
    "\n",
    "\n"
   ]
  },
  {
   "cell_type": "raw",
   "id": "7fe63922",
   "metadata": {
    "vscode": {
     "languageId": "raw"
    }
   },
   "source": [
    "TREE_CONSTANTS = [random.uniform(0, 1) for _ in range(9)] + [-1.]\n",
    "SLIM_VERSIONS = ['SLIM+SIG2', 'SLIM+SIG1', 'SLIM+ABS', 'SLIM*SIG2', 'SLIM*SIG1','SLIM*ABS']\n",
    "\n",
    "\n",
    "# Grid of parameters to test\n",
    "param_grid = {\n",
    "    'initializer': ['grow', 'rhh'],                   \n",
    "    'sspace.p_constants': [0.1, 0.5],                \n",
    "    'sspace.max_init_depth': [3],                                          \n",
    "    'sspace.tree_constants': [TREE_CONSTANTS],        \n",
    "    'pop_size': [50],                                                                       \n",
    "    'generations': [30, 50],                         \n",
    "    'ms_lower': [0],                               \n",
    "    'ms_upper': [1],                               \n",
    "    'reconstruct': [True],                   \n",
    "    'slim_version': SLIM_VERSIONS,                                   \n",
    "    'p_inflate': [0.5],                               \n",
    "    'copy_parent': [True, False]                            \n",
    "\n",
    "}\n",
    "\n",
    "# Seeds to test for reproducibility and robustness\n",
    "seeds = [42, 123, 456]\n",
    "\n",
    "# Collecting results across seeds\n",
    "all_scores = []\n",
    "all_best_models = []\n",
    "all_results = []\n",
    "all_validation = []\n",
    "\n",
    "# Cross-validation loop with multiple seeds\n",
    "for seed in seeds:\n",
    "    print(f\"\\n=== Running with seed: {seed} ===\\n\")\n",
    "\n",
    "    # Ensuring reproducibility\n",
    "    random.seed(seed)\n",
    "    np.random.seed(seed)\n",
    "    torch.manual_seed(seed)\n",
    "\n",
    "    # Run nested cross-validation using SLIM-GSGP\n",
    "    scores, best_models, df_results, val_results = nested_cv_gp_slim_gsgp(\n",
    "        X=X, y=y,\n",
    "        param_grid=param_grid,\n",
    "        gp_class=slim,\n",
    "        k_outer=5, k_inner=3,\n",
    "        seed=seed\n",
    "    )\n",
    "\n",
    "    # Store results\n",
    "    all_scores.append(scores)\n",
    "    all_best_models.append(best_models)\n",
    "    all_results.append(df_results)\n",
    "    all_validation.append(val_results)"
   ]
  },
  {
   "cell_type": "markdown",
   "id": "2831cedf",
   "metadata": {},
   "source": [
    "> We originally tested over 300 parameter combinations during the tuning phase. However, since re-running all of them would be extremely time-consuming, we narrowed the parameter space to include only the most promising configurations. For example, we found that using 20 generations consistently produced suboptimal results across all folds, so we excluded it. Also, an initial tree depth of 3 performed better than depth 5 that often led to higher and more inconsistent boxplot distributions. We also tested a population size of 30, but it didn't offer any advantage and was removed as well. The final set of parameters reflects those that showed more consistent and efficient performance (in this way is more manageable to run this notebook again for the evaluation)."
   ]
  },
  {
   "cell_type": "raw",
   "id": "a1826fb5",
   "metadata": {
    "vscode": {
     "languageId": "raw"
    }
   },
   "source": [
    "def dict_to_hashable(d):\n",
    "    def make_hashable(value):\n",
    "        if isinstance(value, dict):\n",
    "            return tuple(sorted((k, make_hashable(v)) for k, v in value.items()))\n",
    "        elif isinstance(value, list):\n",
    "            return tuple(make_hashable(x) for x in value)\n",
    "        elif isinstance(value, set):\n",
    "            return tuple(sorted(make_hashable(x) for x in value))\n",
    "        else:\n",
    "            return value\n",
    "    \n",
    "    return tuple(sorted((k, make_hashable(v)) for k, v in d.items()))\n",
    "\n",
    "# Now process the results\n",
    "mean_scores = np.mean([scores for scores in all_scores], axis=0)\n",
    "std_scores = np.std([scores for scores in all_scores], axis=0)\n",
    "\n",
    "try:\n",
    "    all_configs_hashed = [dict_to_hashable(config) for seed_models in all_best_models for config in seed_models]\n",
    "    config_counts = Counter(all_configs_hashed)\n",
    "    \n",
    "    if config_counts:\n",
    "        most_common_config_hash = config_counts.most_common(1)[0][0]\n",
    "        best_config = dict((k, dict(v) if isinstance(v, tuple) else v) \n",
    "                        for k, v in most_common_config_hash)\n",
    "        \n",
    "        print(\"\\n=== Final Results ===\")\n",
    "        print(f\"Mean RMSE across seeds: {np.mean(mean_scores):.4f} ± {np.mean(std_scores):.4f}\")\n",
    "        print(\"\\nBest configuration found in most runs:\")\n",
    "        for k, v in best_config.items():\n",
    "            if isinstance(v, dict):\n",
    "                print(f\"  {k}:\")\n",
    "                for sub_k, sub_v in v.items():\n",
    "                    print(f\"    {sub_k}: {sub_v}\")\n",
    "            else:\n",
    "                print(f\"  {k}: {v}\")\n",
    "    else:\n",
    "        print(\"No valid configurations found in all_best_models\")\n",
    "except Exception as e:\n",
    "    print(f\"Error processing configurations: {str(e)}\")"
   ]
  },
  {
   "cell_type": "markdown",
   "id": "f9042f25",
   "metadata": {},
   "source": [
    "> SLIM best configuration"
   ]
  },
  {
   "cell_type": "raw",
   "id": "546b49a8",
   "metadata": {
    "vscode": {
     "languageId": "raw"
    }
   },
   "source": [
    "# ========== Config from Best Run ==========\n",
    "best_config = {\n",
    "    'initializer': 'grow',\n",
    "    'prob_const': 0.5,\n",
    "    'init_depth': 3,\n",
    "    'max_depth': 9,\n",
    "    'tree_constants': [0.6394267984578837, 0.025010755222666936, 0.27502931836911926,\n",
    "                       0.22321073814882275, 0.7364712141640124, 0.6766994874229113,\n",
    "                       0.8921795677048454, 0.08693883262941615, 0.4219218196852704, -1.0],\n",
    "    'pop_size': 50,\n",
    "    'generations': 50,\n",
    "    'ms_lower': 0,\n",
    "    'ms_upper': 1,\n",
    "    'reconstruct': True,\n",
    "    'slim_version': 'SLIM+ABS',\n",
    "    'p_inflate': 0.5,\n",
    "    'copy_parent': False,\n",
    "    'seed': 456\n",
    "}"
   ]
  },
  {
   "cell_type": "raw",
   "id": "60aede3a",
   "metadata": {
    "vscode": {
     "languageId": "raw"
    }
   },
   "source": [
    "def evaluate_gp_with_best_config(X, y, best_config, gp_class, k_outer=5, seed=42, verbose=True):\n",
    "    \n",
    "    outer_cv = KFold(n_splits=k_outer, shuffle=True, random_state=seed)\n",
    "    outer_scores = []\n",
    "    models = []\n",
    "\n",
    "    for fold_idx, (train_idx, test_idx) in enumerate(outer_cv.split(X)):\n",
    "        print(f\"\\n=== Outer Fold {fold_idx+1}/{k_outer} ===\")\n",
    "\n",
    "        X_train, X_test = X.iloc[train_idx], X.iloc[test_idx]\n",
    "        y_train, y_test = y.iloc[train_idx], y.iloc[test_idx]\n",
    "\n",
    "        # Scaling\n",
    "        x_scaler = RobustScaler()\n",
    "        y_scaler = RobustScaler()\n",
    "        X_train_scaled = x_scaler.fit_transform(X_train)\n",
    "        y_train_scaled = y_scaler.fit_transform(y_train.values.reshape(-1, 1)).flatten()\n",
    "        X_test_scaled = x_scaler.transform(X_test)\n",
    "        y_test_scaled = y_scaler.transform(y_test.values.reshape(-1, 1)).flatten()\n",
    "\n",
    "        X_train_tensor = torch.tensor(X_train_scaled, dtype=torch.float32)\n",
    "        y_train_tensor = torch.tensor(y_train_scaled, dtype=torch.float32)\n",
    "        X_test_tensor = torch.tensor(X_test_scaled, dtype=torch.float32)\n",
    "        y_test_tensor = torch.tensor(y_test_scaled, dtype=torch.float32)\n",
    "\n",
    "        model = gp_class(\n",
    "            # Problem Instance\n",
    "            X_train=X_train_tensor, y_train=y_train_tensor,\n",
    "            X_test=X_test_tensor, y_test=y_test_tensor,\n",
    "            dataset_name=\"🐓 Chicken 🐓\",\n",
    "            fitness_function='rmse',\n",
    "            minimization=True,\n",
    "\n",
    "            # Search Space\n",
    "            tree_constants=best_config['tree_constants'],\n",
    "            tree_functions=['add', 'subtract', 'multiply', 'divide'],\n",
    "            prob_const=best_config['prob_const'],\n",
    "            init_depth=best_config['init_depth'],\n",
    "            max_depth=best_config['max_depth'],\n",
    "\n",
    "            # GSGP instance\n",
    "            pop_size=best_config['pop_size'],\n",
    "            initializer=best_config['initializer'],\n",
    "            tournament_size=2,\n",
    "            ms_lower = best_config['ms_lower'], #`ms_lower`: lower bound for generating the random number used as mutation step.\n",
    "            ms_upper = best_config['ms_upper'], #`ms_upper`: upper bound for generating the random number used as mutation step.\n",
    "            reconstruct = best_config['reconstruct'],\n",
    "            slim_version=best_config['slim_version'],\n",
    "            p_inflate=best_config['p_inflate'],\n",
    "            copy_parent=best_config['copy_parent'],\n",
    "\n",
    "            # Solve settings\n",
    "            n_iter=best_config['generations'],\n",
    "            elitism=True,\n",
    "            n_elites=1,\n",
    "            test_elite=True,\n",
    "            log_level=2,\n",
    "            log_path=f\"./log/SLIM/fold_{fold_idx+1}.csv\",\n",
    "            verbose=1 if verbose else 0,\n",
    "            n_jobs=1,\n",
    "            seed=best_config['seed']\n",
    "        )\n",
    "\n",
    "        models.append(model)\n",
    "\n",
    "        with torch.no_grad():\n",
    "            y_pred_scaled = model.predict(X_test_tensor).numpy()\n",
    "            y_pred_rescaled = safe_inverse_transform(y_scaler, y_pred_scaled)\n",
    "            rmse = np.sqrt(mean_squared_error(y_test, y_pred_rescaled))\n",
    "        print(f'Predicted Values: {y_pred_rescaled}')\n",
    "        print(f'Real Values: {y_test}')\n",
    "        print(f\"Fold {fold_idx+1} RMSE: {rmse:.4f}\")\n",
    "        outer_scores.append(rmse)\n",
    "\n",
    "    print(f\"\\n✅ Final RMSE across {k_outer} folds: {np.mean(outer_scores):.4f} ± {np.std(outer_scores):.4f}\")\n",
    "    return outer_scores, models"
   ]
  },
  {
   "cell_type": "raw",
   "id": "417d8831",
   "metadata": {
    "vscode": {
     "languageId": "raw"
    }
   },
   "source": [
    "outer_scores, models = evaluate_gp_with_best_config(X, y, best_config, gp_class=slim, k_outer=5)"
   ]
  },
  {
   "cell_type": "raw",
   "id": "26f26728",
   "metadata": {
    "vscode": {
     "languageId": "raw"
    }
   },
   "source": [
    "# Log level 2\n",
    "# -----------\n",
    "# 0  - Algorithm\n",
    "# 1  - Instance ID\n",
    "# 2  - Dataset\n",
    "# 3  - Seed\n",
    "# 4  - Generation\n",
    "# 5  - Fitness\n",
    "# 6  - Running time\n",
    "# 7  - Population nodes\n",
    "# 8  - Test fitness\n",
    "# 9  - Elite nodes\n",
    "# 10 - Genotype diversity: gsgp_pop_div_from_vectors (Calculate the diversity of a population from semantic vectors)\n",
    "# 11 - Phenotype diversity: sd(pop.fit)\n",
    "# 12 - Log level\n",
    "\n",
    "COLUMN_NAMES = [\n",
    "    \"Algorithm\",      # 0\n",
    "    \"Instance_ID\",    # 1\n",
    "    \"Dataset\",        # 2\n",
    "    \"Seed\",           # 3\n",
    "    \"Generation\",     # 4\n",
    "    \"Fitness\",        # 5 (Train RMSE)\n",
    "    \"Running_time\",   # 6\n",
    "    \"Population_nodes\", # 7\n",
    "    \"Test_fitness\",   # 8 (Test RMSE)\n",
    "    \"Elite_nodes\",    # 9 (Tree size)\n",
    "    \"Genotype_diversity\",  # 10\n",
    "    \"Phenotype_diversity\",     # 11 (Fitness diversity)\n",
    "    \"Log_level\"       # 12\n",
    "]\n",
    "\n",
    "# Load all folds with column names\n",
    "folds = []\n",
    "for i in range(1, 6):\n",
    "    df = pd.read_csv(f\"log/SLIM/fold_{i}.csv\", header=None)\n",
    "    df.columns = COLUMN_NAMES  # Assign column names\n",
    "    folds.append(df)"
   ]
  },
  {
   "cell_type": "raw",
   "id": "28e4d4db",
   "metadata": {
    "vscode": {
     "languageId": "raw"
    }
   },
   "source": [
    "NUMERIC_COLS = [\"Generation\", \"Fitness\", \"Running_time\", \"Population_nodes\", \n",
    "                \"Test_fitness\", \"Elite_nodes\", \"Genotype_diversity\", \"Phenotype_diversity\"]\n",
    "numeric_folds = [df[NUMERIC_COLS] for df in folds]"
   ]
  },
  {
   "cell_type": "raw",
   "id": "aad252ca",
   "metadata": {
    "vscode": {
     "languageId": "raw"
    }
   },
   "source": [
    "numeric_folds[0].head()"
   ]
  },
  {
   "cell_type": "raw",
   "id": "05515f44",
   "metadata": {
    "vscode": {
     "languageId": "raw"
    }
   },
   "source": [
    "# all_data = np.stack([df.values for df in numeric_folds])\n",
    "\n",
    "all_data = [df[NUMERIC_COLS].apply(pd.to_numeric, errors='coerce') for df in folds]\n",
    "\n",
    "#  mean and std across folds\n",
    "mean = np.mean(all_data, axis=0)  \n",
    "std = np.std(all_data, axis=0)\n",
    "mean_df = pd.DataFrame(mean, columns=NUMERIC_COLS)\n",
    "std_df = pd.DataFrame(std, columns=NUMERIC_COLS)"
   ]
  },
  {
   "cell_type": "raw",
   "id": "12f4edce",
   "metadata": {
    "vscode": {
     "languageId": "raw"
    }
   },
   "source": [
    "DATASET_NAME = 'Chicken Dataset'\n",
    "fig = go.Figure()\n",
    "\n",
    "# Train Fitness (mean ± std)\n",
    "fig.add_trace(go.Scatter(\n",
    "    x=mean_df[\"Generation\"],\n",
    "    y=mean_df[\"Fitness\"],\n",
    "    mode='lines',\n",
    "    name='Train RMSE (mean)',\n",
    "    line=dict(color='blue', width=2)\n",
    "))\n",
    "# Add std as a shaded region (light blue)\n",
    "fig.add_trace(go.Scatter(\n",
    "    x=mean_df[\"Generation\"],\n",
    "    y=mean_df[\"Fitness\"] + std_df[\"Fitness\"],\n",
    "    mode='lines',\n",
    "    line=dict(width=0),\n",
    "    showlegend=False,\n",
    "    fillcolor='rgba(0, 100, 255, 0.2)',\n",
    "    fill='tonexty'\n",
    "))\n",
    "fig.add_trace(go.Scatter(\n",
    "    x=mean_df[\"Generation\"],\n",
    "    y=mean_df[\"Fitness\"] - std_df[\"Fitness\"],\n",
    "    mode='lines',\n",
    "    line=dict(width=0),\n",
    "    name='±1 std (Train)',\n",
    "    fillcolor='rgba(0, 100, 255, 0.2)'\n",
    "))\n",
    "\n",
    "# Test Fitness (mean ± std)\n",
    "fig.add_trace(go.Scatter(\n",
    "    x=mean_df[\"Generation\"],\n",
    "    y=mean_df[\"Test_fitness\"],\n",
    "    mode='lines',\n",
    "    name='Test RMSE (mean)',\n",
    "    line=dict(color='red', width=2)\n",
    "))\n",
    "# Add std as a shaded region (light red)\n",
    "fig.add_trace(go.Scatter(\n",
    "    x=mean_df[\"Generation\"],\n",
    "    y=mean_df[\"Test_fitness\"] + std_df[\"Test_fitness\"],\n",
    "    mode='lines',\n",
    "    line=dict(width=0),\n",
    "    showlegend=False,\n",
    "    fillcolor='rgba(255, 50, 50, 0.2)',\n",
    "    fill='tonexty'\n",
    "))\n",
    "fig.add_trace(go.Scatter(\n",
    "    x=mean_df[\"Generation\"],\n",
    "    y=mean_df[\"Test_fitness\"] - std_df[\"Test_fitness\"],\n",
    "    mode='lines',\n",
    "    line=dict(width=0),\n",
    "    name='±1 std (Test)',\n",
    "    fillcolor='rgba(255, 50, 50, 0.2)'\n",
    "))\n",
    "\n",
    "fig.update_layout(\n",
    "    title=f'SLIM Fitness Evolution ({DATASET_NAME}, 5-fold mean ± std)',\n",
    "    xaxis_title='Generation',\n",
    "    yaxis_title='RMSE',\n",
    "    hovermode='x unified',\n",
    "    height=400,\n",
    "    width=800\n",
    ")\n",
    "fig.show()"
   ]
  },
  {
   "cell_type": "raw",
   "id": "0b3db038",
   "metadata": {
    "vscode": {
     "languageId": "raw"
    }
   },
   "source": [
    "fig = go.Figure()\n",
    "\n",
    "# Mean Size (Elite_nodes)\n",
    "fig.add_trace(go.Scatter(\n",
    "    x=mean_df[\"Generation\"],\n",
    "    y=mean_df[\"Elite_nodes\"],\n",
    "    mode='lines',\n",
    "    name='Size (mean)',\n",
    "    line=dict(color='green', width=2)\n",
    "))\n",
    "\n",
    "# Std as shaded region (light green)\n",
    "fig.add_trace(go.Scatter(\n",
    "    x=mean_df[\"Generation\"],\n",
    "    y=mean_df[\"Elite_nodes\"] + std_df[\"Elite_nodes\"],\n",
    "    mode='lines',\n",
    "    line=dict(width=0),\n",
    "    showlegend=False,\n",
    "    fillcolor='rgba(50, 200, 50, 0.2)',\n",
    "    fill='tonexty'\n",
    "))\n",
    "fig.add_trace(go.Scatter(\n",
    "    x=mean_df[\"Generation\"],\n",
    "    y=mean_df[\"Elite_nodes\"] - std_df[\"Elite_nodes\"],\n",
    "    mode='lines',\n",
    "    line=dict(width=0),\n",
    "    name='±1 std',\n",
    "    fillcolor='rgba(50, 200, 50, 0.2)'\n",
    "))\n",
    "\n",
    "fig.update_layout(\n",
    "    title=f'SLIM - Size Evolution ({DATASET_NAME}, 5-fold mean ± std)',\n",
    "    xaxis_title='Generation',\n",
    "    yaxis_title='Number of Nodes',\n",
    "    yaxis_range=[0, None],  # Start y-axis at 0\n",
    "    height=400,\n",
    "    width=800,\n",
    "    margin=dict(t=50),\n",
    "    hovermode='x unified'\n",
    ")\n",
    "fig.show()"
   ]
  },
  {
   "cell_type": "markdown",
   "id": "dc1995ec",
   "metadata": {},
   "source": [
    "we can see that the size stabilized after the gen 30. "
   ]
  },
  {
   "cell_type": "raw",
   "id": "d2cce31b",
   "metadata": {
    "vscode": {
     "languageId": "raw"
    }
   },
   "source": [
    "fig = go.Figure()\n",
    "\n",
    "# Mean Size (Elite_nodes)\n",
    "fig.add_trace(go.Scatter(\n",
    "    x=mean_df[\"Generation\"],\n",
    "    y=mean_df[\"Phenotype_diversity\"],\n",
    "    mode='lines',\n",
    "    name='Size (mean)',\n",
    "    line=dict(color='green', width=2)\n",
    "))\n",
    "\n",
    "# Std as shaded region (light green)\n",
    "fig.add_trace(go.Scatter(\n",
    "    x=mean_df[\"Generation\"],\n",
    "    y=mean_df[\"Phenotype_diversity\"] + std_df[\"Phenotype_diversity\"],\n",
    "    mode='lines',\n",
    "    line=dict(width=0),\n",
    "    showlegend=False,\n",
    "    fillcolor='rgba(50, 200, 50, 0.2)',\n",
    "    fill='tonexty'\n",
    "))\n",
    "fig.add_trace(go.Scatter(\n",
    "    x=mean_df[\"Generation\"],\n",
    "    y=mean_df[\"Phenotype_diversity\"] - std_df[\"Phenotype_diversity\"],\n",
    "    mode='lines',\n",
    "    line=dict(width=0),\n",
    "    name='±1 std',\n",
    "    fillcolor='rgba(50, 200, 50, 0.2)'\n",
    "))\n",
    "\n",
    "fig.update_layout(\n",
    "    title=f'SLIM - Population Fitness Diversity ({DATASET_NAME}, 5-fold mean ± std)',\n",
    "    xaxis_title='Generation',\n",
    "    yaxis_title='Fitness Standard Deviation',\n",
    "    yaxis_range=[0, None],  # Start y-axis at 0\n",
    "    height=400,\n",
    "    width=800,\n",
    "    margin=dict(t=50),\n",
    "    hovermode='x unified'\n",
    ")\n",
    "fig.show()"
   ]
  },
  {
   "cell_type": "markdown",
   "id": "ec7aaf0c",
   "metadata": {},
   "source": [
    "Like for GP and GSGP, although the best-performing configuration was found after the tuning, we ended up testing it again this time with the verbose parameter so we can analyze the generations across folds more in depth - we used the **5-fold outer cross-validation** to get am unbiased estimate of how well the model would perform on completely unseen data (as we explained before) -> Again, this helps avoid the trap of getting overly optimistic results from a single lucky train-test split.\n",
    "\n",
    "---\n",
    "\n",
    "- **Outer Fold 1**\n",
    "\n",
    "The model tries to escape a local optima right after the generation 1, incresing the node count to 20, this lead to the increase of complexity without benefit in terms of test performance since, althought the train fitness kept decreasing, the test fitness gave us a hint of overfitting since it start increasing from 0.73 to 0.77, an later after a considerate bloat reaching 46 nodes it increased again when the model started o decrease the node count. The model gets stuck with no further improvement in test fitness and minimal changes in train fitness (at 0.7847) at generation 17, the node count stabilizes at 35 nodes, slightly lower than the peak we reffer but still significantly bloated compared to the starting point -> this plateau suggests early convergence and persistent overfitting. The fitness values remain constant for over 30 generations.\n",
    "\n",
    "As an overfitting evidence, tthe predicted values clustered tightly around the central values ~82–89, while the real values had more spread from 82 to 91, showing a loss of nuance in prediction — again a sign the model over-learned patterns from training data and failed to generalize well.\n",
    "\n",
    "The model found a moderately promising region by generation 3 but lacked mechanisms (like parsimony pressure or semantic simplification) to control bloat or escape its local optimum, and the small improvement in predictions in gen 17 did not justify the increasing complexity.\n",
    "\n",
    "\n",
    "- **Outer Fold 2**\n",
    "\n",
    "Similiar behaviour to fold 1 at the beginning, the model initially shows signs of overfitting early on, as it increases in complexity/ node count jumping from 5 to 31 by generation 13 without significant gains in test performance. After a brief improvement until generation 19, where test fitness reaches its best value, the model the model tries to escape this optima invreasing the complexity and enters a prolonged plateau with no further gains, in fact the worse performance is reached here, despite increasing complexity to 48 nodes. This extended stagnation over 15 generations shows a classic bloat and overfitting behavior, where additional structure only improves train fitness while test performance keps getting worse or has no improvements. It ended with a worse fitness when considering the test set.\n",
    "\n",
    "- **Outer Fold 3**\n",
    "\n",
    "This fold was very straightforward, at generation 14 it was able to reach the best test fitness with less complexity, but since it tried to escape the local optima it end up increasing the model complexity at generation 25, with a slight decrease in test fitness. So the early convergence made the model tried to escape the local minimum and this actually led to a decrease in generalization (overfitting sincce the trin score kept decreasing) and more complexity, wich is not good. This is also proven since we can see the predictions cannot reach the real value of 73 althought the predicted value was the lowest in this case (84).\n",
    "\n",
    "- **Outer Fold 4**\n",
    "\n",
    "Again, very similiar the model tries to escape the local optima after a early convergence at generation 5 -> 0.47, reaching the best test fitness at this stage with 33 nodes, althought the model is able to get back from the decrease in test fitness and increased bloating from generation 9 to 41, at generation 42 it goes back to 33 nodes but with a slightly higher rmse -> 0.49. the train fitness kept decreasing and converged on this same generation 42, indicating overfitting since the test did get worse from the local optima at the beginning.\n",
    "\n",
    "- **Outer Fold 5**\n",
    "\n",
    "This fold clearly illustrates the core issue with the model -> early convergence followed by unsuccessful attempts to escape a local optimum. After an initial phase where a decent test fitness is achieved with low complexity, the model begins to overfit, increasing node count significantly to improve training fitness while test performance stagnates or worsens. Despite stabilizing the node count in later generations, the model continues to focus on optimizing training fitness, which results in poor generalization. This persistent overfitting, combined with unnecessary bloat, mirrors the inefficiencies seen across the other folds.\n",
    "\n",
    "\n",
    "**Final notes**: \n",
    "\n",
    "Across all five folds, the model consistently exhibits early convergence followed by attempts to escape local optima through increased complexity (bloat). These attempts often result in overfitting, where training fitness improves at the cost of test performance. The model lacks mechanisms to effectively regulate complexity, such as parsimony pressure or semantic guidance, leading to unnecessarily bloat with minimal or negative gains in generalization. Predictions tend to cluster narrowly around central values, failing to capture the full range of real outputs, another indicator of overfitting. The folds collectively show that while the model can initially identify promising regions of the search space, its inability to control bloat or maintain generalization ultimately limits its performance.\n",
    "\n",
    "So this solution needs some improvment to generalize better and avoid improving the train fitness at the expense of the test fitness, our best approach would be to perfom feature selecion to try to help the model not to focus in every patter and generalize better, at the same time avoiding multicollinearity and features that add noise moree noise than help to the prediction. We tested with less generations and the problem still persisted. "
   ]
  },
  {
   "cell_type": "markdown",
   "id": "eeaba138",
   "metadata": {},
   "source": [
    "#### <a id=\"NN\"></a> \n",
    "<div style=\"background-color: hsla(120, 71.40%, 43.90%, 0.30); padding: 10px; border-radius: 8px; text-align: left; margin-top: 20px; margin-bottom: 20px;\">\n",
    "    <h4 style=\"color: white; margin: 0;\">5. Neural Network (NN)</h4>\n",
    "</div>\n",
    "\n",
    "[Back to Index](#idx)"
   ]
  },
  {
   "cell_type": "raw",
   "id": "e5901aad",
   "metadata": {
    "vscode": {
     "languageId": "raw"
    }
   },
   "source": [
    "# ========== Safe Inverse Transform ========== #\n",
    "def safe_inverse_transform(scaler, y):\n",
    "    if y.ndim == 1:\n",
    "        y = y.reshape(-1, 1)\n",
    "    return scaler.inverse_transform(y).flatten()"
   ]
  },
  {
   "cell_type": "markdown",
   "id": "bf32a09d",
   "metadata": {},
   "source": [
    ">  4.1. Network architecture\n",
    "\n",
    "NN with three **linear layers**:\n",
    "\n",
    "- The first will upscale the 2 input layer nodes (2 features in the dataset) to 3 nodes.\n",
    "- The second will upscale to 4 nodes.\n",
    "- The third (output) will, then, downscale to 1 node.\n",
    "\n",
    "Besides that, the **activation functions** should be:\n",
    "\n",
    "- The ReLU function in the hidden layer, and\n",
    "- The sigmoid function in the output layer."
   ]
  },
  {
   "cell_type": "markdown",
   "id": "c21a1d34",
   "metadata": {},
   "source": [
    "> 4.2. Weights and bias initialization\n",
    "\n",
    "For the weights and bias initialization, let's use methods that are already available in the PyTorch library. However, notice that you can easily implement your own initialization methods.\n",
    "\n",
    "- Weights: let's use the Xavier Uniform Initialization method. It maintains the variance of the activations remain the same across the layers of the network.\n",
    "- Bias: bias will be initializes with zeros."
   ]
  },
  {
   "cell_type": "markdown",
   "id": "0b096c7b",
   "metadata": {},
   "source": [
    "> 4.3. Forward pass\n",
    "\n",
    "This step sets how the linear combination of the inputs and weights of each layer should work and how the combination of the linear step should be combined with the activation functions:"
   ]
  },
  {
   "cell_type": "markdown",
   "id": "68155612",
   "metadata": {},
   "source": [
    ">4.4. Training loop\n",
    "\n",
    "Having defined the Neural Network topology, the initialization method, and the feedforward pass, the behavior of the backpropagation should be set in the training loop.\n",
    "\n",
    "For that, Pytorch has some useful methods:\n",
    "\n",
    "- The `backward()` method calculates the derivative of the Error in respect to the NN weights applying the chain rule for hidden neurons;\n",
    "- The `step()` method updates the weights and bias based on the computed gradients."
   ]
  },
  {
   "cell_type": "raw",
   "id": "4a5c7637",
   "metadata": {
    "vscode": {
     "languageId": "raw"
    }
   },
   "source": [
    "# -------- Neural Network Definition --------\n",
    "\n",
    "class CustomNN(nn.Module):\n",
    "    def __init__(self, input_size, hidden_sizes, output_size):\n",
    "        super(CustomNN, self).__init__()\n",
    "        self.hidden_layers = nn.ModuleList()\n",
    "\n",
    "        # First hidden layer\n",
    "        self.hidden_layers.append(nn.Linear(input_size, hidden_sizes[0]))\n",
    "\n",
    "        # Additional hidden layers (if any)\n",
    "        for i in range(1, len(hidden_sizes)):\n",
    "            self.hidden_layers.append(nn.Linear(hidden_sizes[i - 1], hidden_sizes[i]))\n",
    "\n",
    "        # Output layer (no activation for regression)\n",
    "        self.output_layer = nn.Linear(hidden_sizes[-1], output_size)\n",
    "\n",
    "        # Weight initialization\n",
    "        self.apply(self._init_weights)\n",
    "\n",
    "    def _init_weights(self, layer):\n",
    "        if isinstance(layer, nn.Linear):\n",
    "            nn.init.xavier_uniform_(layer.weight)\n",
    "            nn.init.zeros_(layer.bias)\n",
    "\n",
    "    def forward(self, x):\n",
    "        for layer in self.hidden_layers:\n",
    "            x = F.relu(layer(x))\n",
    "        return self.output_layer(x)  # No activation — regression output\n",
    "\n",
    "# -------- RMSE Utility Function (Unified) --------\n",
    "def compute_rmse(y_true, y_pred):\n",
    "    \"\"\"Compute RMSE using NumPy + sklearn.\"\"\"\n",
    "    y_true = np.array(y_true)\n",
    "    y_pred = np.array(y_pred)\n",
    "    return np.sqrt(mean_squared_error(y_true, y_pred))\n",
    "\n",
    "\n",
    "# -------- Train Function --------\n",
    "\n",
    "def train_model(model, criterion, optimizer, dataloader, num_epochs=100):\n",
    "    model.train()\n",
    "    train_rmses = []\n",
    "\n",
    "    for epoch in range(num_epochs):\n",
    "        y_preds, y_trues = [], []\n",
    "\n",
    "        for X_batch, y_batch in dataloader:\n",
    "            optimizer.zero_grad()\n",
    "            y_pred = model(X_batch).squeeze()\n",
    "            loss = criterion(y_pred, y_batch)\n",
    "            loss.backward()\n",
    "            optimizer.step()\n",
    "\n",
    "            y_preds.extend(np.atleast_1d(y_pred.detach().cpu().numpy()))\n",
    "            y_trues.extend(y_batch.detach().cpu().numpy())\n",
    "\n",
    "        epoch_rmse = compute_rmse(y_trues, y_preds)\n",
    "        train_rmses.append(epoch_rmse)\n",
    "\n",
    "    final_rmse = compute_rmse(y_trues, y_preds)\n",
    "    return train_rmses, final_rmse\n",
    "\n",
    "\n",
    "# -------- Evaluate Function --------\n",
    "def evaluate_model(model, criterion, dataloader):\n",
    "    model.eval()\n",
    "    total_loss = 0\n",
    "    y_preds, y_trues = [], []\n",
    "\n",
    "    with torch.no_grad():\n",
    "        for X_batch, y_batch in dataloader:\n",
    "            y_pred = model(X_batch).squeeze()\n",
    "            loss = criterion(y_pred, y_batch)\n",
    "            total_loss += loss.item()\n",
    "            y_preds.extend(y_pred.cpu().numpy())\n",
    "            y_trues.extend(y_batch.cpu().numpy())\n",
    "\n",
    "    rmse = compute_rmse(y_trues, y_preds)\n",
    "    return total_loss / len(dataloader), rmse\n",
    "\n",
    "\n",
    "# -------- Fitness Evaluator (No DataLoader) --------\n",
    "def nn_fitness(model, data_tensor, target_tensor):\n",
    "    model.eval()\n",
    "    with torch.no_grad():\n",
    "        predictions = model(data_tensor).squeeze()\n",
    "        predictions_np = predictions.cpu().numpy()\n",
    "        targets_np = target_tensor.cpu().numpy()\n",
    "        rmse = compute_rmse(targets_np, predictions_np)\n",
    "    return rmse"
   ]
  },
  {
   "cell_type": "raw",
   "id": "0dfeff6a",
   "metadata": {
    "vscode": {
     "languageId": "raw"
    }
   },
   "source": [
    "def build_optimizer(name, model, lr):\n",
    "    if name == 'GD':\n",
    "        return torch.optim.SGD(model.parameters(), lr=lr)\n",
    "    elif name == 'SGD':\n",
    "        return torch.optim.SGD(model.parameters(), lr=lr)\n",
    "    elif name == 'MiniSGD':\n",
    "        return torch.optim.SGD(model.parameters(), lr=lr)\n",
    "    elif name == 'ASGD':\n",
    "        return torch.optim.ASGD(model.parameters(), lr=lr)\n",
    "    elif name == 'RMSprop':\n",
    "        return torch.optim.RMSprop(model.parameters(), lr=lr)\n",
    "    elif name == 'Adam':\n",
    "        return torch.optim.Adam(model.parameters(), lr=lr)\n",
    "    else:\n",
    "        raise ValueError(f\"Unknown optimizer: {name}\")\n",
    "\n",
    "def nested_cv_nn(X, y, param_grid, nested_cv_generator, CustomNN, k_outer=5, k_inner=3, seed=42, alpha_sig=0.05, device='cpu'):\n",
    "    os.makedirs(\"./log/NN/\", exist_ok=True)\n",
    "\n",
    "    outer_scores = []\n",
    "    best_grid_models = []\n",
    "    validation_results = []\n",
    "    detailed_results = []\n",
    "\n",
    "    keys, values = zip(*param_grid.items())\n",
    "    param_combos = [dict(zip(keys, v)) for v in product(*values)]\n",
    "\n",
    "    for fold_idx, fold_data in enumerate(nested_cv_generator(X, y, k_outer=k_outer, k_inner=k_inner, random_state=seed)):\n",
    "        print(f\"\\n========== OUTER FOLD {fold_idx+1}/{k_outer} ==========\")\n",
    "\n",
    "        best_config = None\n",
    "        best_val_score = float('inf')\n",
    "        all_inner_fold_scores = []\n",
    "\n",
    "        for config_id, config in enumerate(param_combos):\n",
    "            hidden_sizes = config[\"hidden_sizes\"]\n",
    "            lr = config[\"learning_rate\"]\n",
    "            optimizer_name = config[\"optimizer\"]\n",
    "            num_epochs = config[\"num_epochs\"]\n",
    "\n",
    "            inner_fold_rmses = []\n",
    "\n",
    "            for inner_idx, (train_idx, val_idx) in enumerate(fold_data[\"inner_splits\"]):\n",
    "                X_train, y_train = fold_data[\"X_outer_train\"].iloc[train_idx], fold_data[\"y_outer_train\"].iloc[train_idx]\n",
    "                X_val, y_val = fold_data[\"X_outer_train\"].iloc[val_idx], fold_data[\"y_outer_train\"].iloc[val_idx]\n",
    "\n",
    "                x_scaler, y_scaler = RobustScaler(), RobustScaler()\n",
    "                X_train_scaled = x_scaler.fit_transform(X_train)\n",
    "                X_val_scaled = x_scaler.transform(X_val)\n",
    "                y_train_scaled = y_scaler.fit_transform(y_train.values.reshape(-1, 1)).flatten()\n",
    "                y_val_scaled = y_scaler.transform(y_val.values.reshape(-1, 1)).flatten()\n",
    "\n",
    "                # <<< Batch Size Logic Here >>>\n",
    "                if optimizer_name == 'GD':\n",
    "                    batch_size = len(X_train)\n",
    "                elif optimizer_name == 'SGD':\n",
    "                    batch_size = 1\n",
    "                else:  # MiniSGD, RMSprop, Adam, etc.\n",
    "                    batch_size = config[\"batch_size\"]\n",
    "\n",
    "                # Tensor conversion\n",
    "                X_train_tensor = torch.tensor(X_train_scaled, dtype=torch.float32)\n",
    "                y_train_tensor = torch.tensor(y_train_scaled, dtype=torch.float32)\n",
    "                X_val_tensor = torch.tensor(X_val_scaled, dtype=torch.float32)\n",
    "                y_val_tensor = torch.tensor(y_val_scaled, dtype=torch.float32)\n",
    "\n",
    "                train_dataset = TensorDataset(X_train_tensor, y_train_tensor)\n",
    "                train_loader = DataLoader(train_dataset, batch_size=batch_size, shuffle=True)\n",
    "\n",
    "                model = CustomNN(X.shape[1], hidden_sizes, 1).to(device)\n",
    "                criterion = torch.nn.MSELoss()\n",
    "                optimizer = build_optimizer(optimizer_name, model, lr)\n",
    "\n",
    "                start_time = time.time()\n",
    "                train_losses, _ = train_model(model, criterion, optimizer, train_loader, num_epochs=num_epochs)\n",
    "                train_duration = time.time() - start_time\n",
    "\n",
    "                #fig = go.Figure()\n",
    "                #fig.add_trace(go.Scatter(\n",
    "                #    y=train_losses,\n",
    "                #    mode='lines+markers',\n",
    "                #    name=f\"Inner {inner_idx+1} Config {config_id}\"\n",
    "                #))\n",
    "                #fig.update_layout(\n",
    "                #    title=f\"Training Loss (Inner Fold {inner_idx+1}, Config {config_id})\",\n",
    "                #    xaxis_title=\"Epoch\",\n",
    "                #    yaxis_title=\"Loss\"\n",
    "                #)\n",
    "                #fig.show()\n",
    "                print(f\"⏱ Training time (Inner Fold {inner_idx+1}): {train_duration:.2f} seconds\")\n",
    "\n",
    "                # Evaluation\n",
    "                model.eval()\n",
    "                with torch.no_grad():\n",
    "                    preds = model(X_val_tensor).squeeze().cpu().numpy()\n",
    "                    y_val_rescaled = safe_inverse_transform(y_scaler, y_val_tensor.numpy())\n",
    "                    preds_rescaled = safe_inverse_transform(y_scaler, preds)\n",
    "                    rmse = np.sqrt(mean_squared_error(y_val_rescaled, preds_rescaled))\n",
    "                    inner_fold_rmses.append(rmse)\n",
    "\n",
    "                    detailed_results.append({\n",
    "                        'outer_fold': fold_idx + 1,\n",
    "                        'inner_fold': inner_idx + 1,\n",
    "                        'config_id': config_id,\n",
    "                        'config': str(config),\n",
    "                        'rmse': rmse\n",
    "                    })\n",
    "\n",
    "            avg_rmse = np.mean(inner_fold_rmses)\n",
    "            all_inner_fold_scores.append(inner_fold_rmses)\n",
    "\n",
    "            if avg_rmse < best_val_score:\n",
    "                best_val_score = avg_rmse\n",
    "                best_config = config\n",
    "\n",
    "        print(f\"\\n✅ Best config for outer fold {fold_idx+1}: {best_config}\")\n",
    "        best_grid_models.append(best_config)\n",
    "        df_inner_scores = pd.DataFrame(all_inner_fold_scores).T\n",
    "        validation_results.append(df_inner_scores)\n",
    "\n",
    "\n",
    "         # ============ Friedman & Posthoc Tests ============ #\n",
    "        print(\"\\nStatistical test on inner fold scores:\")\n",
    "        stat, p = friedmanchisquare(*[df_inner_scores[col] for col in df_inner_scores.columns])\n",
    "        print(f\"Friedman test statistic: {stat:.4f}, p-value: {p:.4f}\")\n",
    "        if p < alpha_sig:\n",
    "            posthoc_result = sp.posthoc_nemenyi_friedman(df_inner_scores.to_numpy())\n",
    "            #print(\"\\nFull posthoc Nemenyi test p-values:\")\n",
    "            #print(posthoc_result.round(4))\n",
    "\n",
    "            significant_mask = posthoc_result < alpha_sig\n",
    "            if significant_mask.values.any():\n",
    "                 print(\"\\nSignificant pairwise differences (p < alpha):\")\n",
    "                 sig_table = posthoc_result.where(significant_mask).dropna(how='all').dropna(axis=1, how='all')\n",
    "                 display(sig_table.round(4))\n",
    "            else:\n",
    "                 print(\"Friedman test was significant, but no significant pairwise differences found.\")\n",
    "        else:\n",
    "            print(\"No significant differences found between configs.\")\n",
    "\n",
    "        # ============ Boxplot ============ #\n",
    "        df_fold_results = pd.DataFrame([r for r in detailed_results if r['outer_fold'] == fold_idx + 1])\n",
    "        config_labels = {\n",
    "            i: f\"Config {i+1}<br>\" + \"<br>\".join([f\"{k}: {v}\"[:30] for k, v in param_combos[i].items()])\n",
    "            for i in range(len(param_combos))\n",
    "        }\n",
    "        df_fold_results['config_label'] = df_fold_results['config_id'].map(config_labels)\n",
    "\n",
    "        fig = go.Figure()\n",
    "        fig.add_trace(go.Box(\n",
    "            x=df_fold_results['config_label'],\n",
    "            y=df_fold_results['rmse'],\n",
    "            fillcolor='rgba(108, 140, 200, 0.3)',\n",
    "            line=dict(color='rgba(108, 140, 200, 1)'),\n",
    "            boxpoints='all',\n",
    "            jitter=0,\n",
    "            pointpos=0,\n",
    "            marker=dict(color='rgba(108, 140, 200, 1)')\n",
    "        ))\n",
    "        fig.update_layout(\n",
    "            title=f'Inner CV RMSEs - Outer Fold {fold_idx+1}',\n",
    "            yaxis_title='Validation RMSE',\n",
    "            width=300 * len(param_combos),\n",
    "            height=400,\n",
    "            plot_bgcolor='#f1f1f1',\n",
    "            xaxis_tickangle=-90,\n",
    "            margin=dict(l=50, r=50, t=50, b=20),\n",
    "            showlegend=False\n",
    "        )\n",
    "        fig.show()\n",
    "\n",
    "\n",
    "        # ============ Retrain on Outer Train, Evaluate on Outer Test ============ #\n",
    "        print(\"Retraining best model on full outer train set...\")\n",
    "\n",
    "        x_scaler = RobustScaler()\n",
    "        y_scaler = RobustScaler()\n",
    "\n",
    "        X_train_scaled = x_scaler.fit_transform(fold_data[\"X_outer_train\"])\n",
    "        X_test_scaled = x_scaler.transform(fold_data[\"X_test\"])\n",
    "        y_train_scaled = y_scaler.fit_transform(fold_data[\"y_outer_train\"].values.reshape(-1, 1)).flatten()\n",
    "        y_test = fold_data[\"y_test\"].values\n",
    "\n",
    "        X_train_tensor = torch.tensor(X_train_scaled, dtype=torch.float32)\n",
    "        y_train_tensor = torch.tensor(y_train_scaled, dtype=torch.float32)\n",
    "        X_test_tensor = torch.tensor(X_test_scaled, dtype=torch.float32)\n",
    "\n",
    "        # <<< Batch Size Logic fpr GD and SGD >>>\n",
    "        optimizer_name = best_config[\"optimizer\"]\n",
    "        if optimizer_name == 'GD':\n",
    "            batch_size = len(fold_data[\"X_outer_train\"])\n",
    "        elif optimizer_name == 'SGD':\n",
    "            batch_size = 1\n",
    "        else:\n",
    "            batch_size = best_config[\"batch_size\"]\n",
    "\n",
    "        train_dataset = TensorDataset(X_train_tensor, y_train_tensor)\n",
    "        train_loader = DataLoader(train_dataset, batch_size=batch_size, shuffle=True)\n",
    "\n",
    "        model = CustomNN(X.shape[1], best_config[\"hidden_sizes\"], 1).to(device)\n",
    "        criterion = torch.nn.MSELoss()\n",
    "        optimizer = build_optimizer(optimizer_name, model, best_config[\"learning_rate\"])\n",
    "\n",
    "        start_time = time.time()\n",
    "        train_losses, _ = train_model(model, criterion, optimizer, train_loader, num_epochs=best_config[\"num_epochs\"])\n",
    "        train_duration = time.time() - start_time\n",
    "\n",
    "        fig = go.Figure()\n",
    "        fig.add_trace(go.Scatter(\n",
    "            y=train_losses,\n",
    "            mode='lines+markers',\n",
    "            name=f\"Outer Fold {fold_idx+1}\"\n",
    "        ))\n",
    "        fig.update_layout(\n",
    "            title=f\"Training Loss (Outer Fold {fold_idx+1})\",\n",
    "            xaxis_title=\"Epoch\",\n",
    "            yaxis_title=\"Loss\"\n",
    "        )\n",
    "        fig.show()\n",
    "        print(f\"⏱ Training time (Outer Fold {fold_idx+1}): {train_duration:.2f} seconds\")\n",
    "\n",
    "        with torch.no_grad():\n",
    "            y_pred_scaled = model(X_test_tensor).squeeze().cpu().numpy()\n",
    "            y_pred_rescaled = safe_inverse_transform(y_scaler, y_pred_scaled)\n",
    "            test_rmse = np.sqrt(mean_squared_error(y_test, y_pred_rescaled))\n",
    "\n",
    "        print(f\"✅ Outer Fold {fold_idx+1} Test RMSE: {test_rmse:.4f}\")\n",
    "        outer_scores.append(test_rmse)\n",
    "        gc.collect()\n",
    "\n",
    "    print(f\"\\n================ FINAL RESULTS ================\\nMean RMSE: {np.mean(outer_scores):.4f} ± {np.std(outer_scores):.4f}\")\n",
    "    df_all_results = pd.DataFrame(detailed_results)\n",
    "    return np.array(outer_scores), best_grid_models, df_all_results, validation_results\n"
   ]
  },
  {
   "cell_type": "raw",
   "id": "b2785263",
   "metadata": {
    "vscode": {
     "languageId": "raw"
    }
   },
   "source": [
    "# Neural Network parameter grid\n",
    "param_grid = {\n",
    "    'hidden_sizes': [[4], [4, 3]],\n",
    "    'learning_rate': [0.01, 0.001],\n",
    "    'batch_size': [8],\n",
    "    'num_epochs': [100],\n",
    "    'optimizer': ['Adam', 'SGD']\n",
    "}\n",
    "\n",
    "# Single seed for reproducibility\n",
    "seed = 42\n",
    "\n",
    "# Ensure reproducibility\n",
    "random.seed(seed)\n",
    "np.random.seed(seed)\n",
    "torch.manual_seed(seed)\n",
    "\n",
    "# Run nested cross-validation\n",
    "scores, best_models, df_results, val_results = nested_cv_nn(\n",
    "    X=X, y=y,\n",
    "    param_grid=param_grid,\n",
    "    nested_cv_generator=nested_cv_generator,  # Ensure you have defined this\n",
    "    CustomNN=CustomNN,\n",
    "    k_outer=5, k_inner=3,\n",
    "    seed=seed,\n",
    "    alpha_sig=0.05,\n",
    "    device='cuda' if torch.cuda.is_available() else 'cpu'\n",
    ")\n",
    "\n",
    "# Print final summary\n",
    "print(\"\\n=== Final Results ===\")\n",
    "print(f\"Mean RMSE: {np.mean(scores):.4f} ± {np.std(scores):.4f}\")\n",
    "\n",
    "print(\"\\nBest configurations per fold:\")\n",
    "for i, cfg in enumerate(best_models):\n",
    "    print(f\"  Fold {i+1}: {cfg}\")"
   ]
  },
  {
   "cell_type": "raw",
   "id": "ef0b10d1",
   "metadata": {
    "vscode": {
     "languageId": "raw"
    }
   },
   "source": [
    "image_paths = [f\"NN plots/newplot_{i}.png\" for i in range(1, 6)]\n",
    "\n",
    "html = '<div style=\"display: flex; overflow-x: auto; white-space: nowrap; gap: 10px;\">'\n",
    "for path in image_paths:\n",
    "    html += f'<img src=\"{path}\" style=\"height: 300px; display: inline-block;\">'\n",
    "html += '</div>'\n",
    "\n",
    "display(HTML(html))"
   ]
  },
  {
   "cell_type": "markdown",
   "id": "5c2860b3",
   "metadata": {},
   "source": [
    "- **Fold 1**: Loss decreases well in the firts 20 iteractions then to 0.7, showing good convergence.\n",
    "- **Fold 2**: Loss drops from 1.4 to 0.8, good but slower convergence comparing to fold 1.\n",
    "- **Fold 3**: Loss improves well in the firts 20 iteractions from 0.9 to 0.5, demonstrating good convergence.\n",
    "- **Fold 4**: Loss declines from 1.2 to 0.8, but a very gradual convergence.\n",
    "- **Fold 5**: Loss reduces from 1.3 to 0.8, showing consistent but slower convergence.\n",
    "\n",
    "\n",
    "- Overall all folds show a decreasing trend pn the loss function, confirming the model is learning.\n",
    "\n",
    "- folds (1, 3) converge faster: Fold 3: {'hidden_sizes': [4], 'learning_rate': 0.001, 'batch_size': 8, 'num_epochs': 100, 'optimizer': 'SGD'}. So this should be our ideal configuration.\n",
    "\n",
    "Nevertheless, we will conduct a more in-depth analysis in the final report (adding some other vizualizations to help.)"
   ]
  },
  {
   "cell_type": "markdown",
   "id": "a258dbfd",
   "metadata": {},
   "source": [
    "#### <a id=\"NEAT\"></a> \n",
    "<div style=\"background-color: hsla(120, 71.40%, 43.90%, 0.30); padding: 10px; border-radius: 8px; text-align: left; margin-top: 20px; margin-bottom: 20px;\">\n",
    "    <h4 style=\"color: white; margin: 0;\">6. NeuroEvolution of Augmenting Topologies (NEAT)</h4>\n",
    "</div>\n",
    "\n",
    "[Back to Index](#idx)"
   ]
  },
  {
   "cell_type": "code",
   "execution_count": 28,
   "id": "3afac6f4",
   "metadata": {},
   "outputs": [],
   "source": [
    "# ========== Safe Inverse Transform ========== #\n",
    "def safe_inverse_transform(scaler, y):\n",
    "    if y.ndim == 1:\n",
    "        y = y.reshape(-1, 1)\n",
    "    return scaler.inverse_transform(y).flatten()"
   ]
  },
  {
   "cell_type": "code",
   "execution_count": 29,
   "id": "40876150",
   "metadata": {},
   "outputs": [],
   "source": [
    "# ========== Utility Functions ========== #\n",
    "\n",
    "def eval_rmse(net, X, y):\n",
    "    '''\n",
    "    Auxiliary funciton to evaluate the RMSE.\n",
    "    '''\n",
    "    fit = 0.\n",
    "    for xi, xo in zip(X, y):\n",
    "        output = net.activate(xi)\n",
    "        fit += (output[0] - xo)**2\n",
    "    # RMSE\n",
    "    return (fit/y.shape[0])**.5\n",
    "\n",
    "# ========== Nested CV with NEAT ========== #\n",
    "\n",
    "def make_eval_genomes(X_train, y_train, X_val, y_val):\n",
    "    def eval_genomes(genomes, config):\n",
    "        for genome_id, genome in genomes:\n",
    "            net = neat.nn.FeedForwardNetwork.create(genome, config)\n",
    "            # Train fitness\n",
    "            genome.fitness = -eval_rmse(net, X_train, y_train)\n",
    "            # Validation fitness\n",
    "            genome.fitness_val = -eval_rmse(net, X_val, y_val)\n",
    "    return eval_genomes\n",
    "\n",
    "def generate_neat_config(template_path, hyperparams, output_path):\n",
    "    with open(template_path, 'r') as f:\n",
    "        config_str = f.read()\n",
    "\n",
    "    for key, value in hyperparams.items():\n",
    "        config_str = config_str.replace(f\"<{key}>\", str(value))\n",
    "\n",
    "    with open(output_path, 'w') as f:\n",
    "        f.write(config_str)"
   ]
  },
  {
   "cell_type": "code",
   "execution_count": 30,
   "id": "0a3e4183",
   "metadata": {},
   "outputs": [],
   "source": [
    "def nested_cv_neat(\n",
    "    X, y, param_grid, k_outer=5, k_inner=3, dataset_name=\"Dataset\",\n",
    "    neat_template_path=\"neat_template.ini\", seed=42, alpha_sig=0.05,\n",
    "):\n",
    "    # Create directory first to fail early if there are permission issues\n",
    "    os.makedirs(f\"./log/NEAT/{dataset_name}/\", exist_ok=True)\n",
    "\n",
    "    X = X.reset_index(drop=True)\n",
    "    y = y.reset_index(drop=True)\n",
    "    outer_scores = []\n",
    "    best_grid_models = []\n",
    "    validation_results = []\n",
    "    detailed_results = []\n",
    "\n",
    "    keys, values = zip(*param_grid.items())\n",
    "    param_combos = [dict(zip(keys, v)) for v in product(*values)]\n",
    "\n",
    "    for fold_idx, fold_data in enumerate(nested_cv_generator(X, y, k_outer, k_inner, seed)):\n",
    "        print(f\"\\n========== OUTER FOLD {fold_idx+1}/{k_outer} ==========\")\n",
    "        best_config = None\n",
    "        best_val_score = float(\"inf\")\n",
    "        all_inner_fold_scores = []\n",
    "\n",
    "        for config_id, flat_config in enumerate(param_combos):\n",
    "            inner_fold_rmses = []\n",
    "\n",
    "            for inner_fold_idx, (inner_train_idx, inner_val_idx) in enumerate(fold_data['inner_splits']):\n",
    "                X_train = fold_data['X_outer_train'].iloc[inner_train_idx]\n",
    "                y_train = fold_data['y_outer_train'].iloc[inner_train_idx]\n",
    "                X_val = fold_data['X_outer_train'].iloc[inner_val_idx]\n",
    "                y_val = fold_data['y_outer_train'].iloc[inner_val_idx]\n",
    "\n",
    "                # Scale\n",
    "                x_scaler = RobustScaler()\n",
    "                y_scaler = RobustScaler()\n",
    "                X_train_scaled = x_scaler.fit_transform(X_train)\n",
    "                X_val_scaled = x_scaler.transform(X_val)\n",
    "                y_train_scaled = y_scaler.fit_transform(y_train.values.reshape(-1, 1)).flatten()\n",
    "                y_val_scaled = y_scaler.transform(y_val.values.reshape(-1, 1)).flatten()\n",
    "\n",
    "                # Generate NEAT config\n",
    "                neat_config_path = f\"./log/NEAT/{dataset_name}/config_fold{fold_idx}_config{config_id}.ini\"\n",
    "                generate_neat_config(neat_template_path, flat_config, neat_config_path)\n",
    "\n",
    "                # Load config and evolve\n",
    "                neat_config = neat.Config(\n",
    "                    neat.DefaultGenome,\n",
    "                    neat.DefaultReproduction,\n",
    "                    neat.DefaultSpeciesSet,\n",
    "                    neat.DefaultStagnation,\n",
    "                    neat_config_path\n",
    "                )\n",
    "\n",
    "                eval_genomes = make_eval_genomes(X_train_scaled, y_train_scaled, X_val_scaled, y_val_scaled)\n",
    "                p = neat.Population(neat_config)\n",
    "                p.add_reporter(neat.StdOutReporter(False))\n",
    "                p.add_reporter(neat.StatisticsReporter())\n",
    "                winner = p.run(eval_genomes, flat_config.get(\"generations\", 50))\n",
    "\n",
    "                net = neat.nn.FeedForwardNetwork.create(winner, neat_config)\n",
    "                val_rmse = eval_rmse(net, X_val_scaled, y_val_scaled)\n",
    "                inner_fold_rmses.append(val_rmse)\n",
    "\n",
    "                detailed_results.append({\n",
    "                    'outer_fold': fold_idx + 1,\n",
    "                    'inner_fold': inner_fold_idx + 1,\n",
    "                    'config_id': config_id,\n",
    "                    'config': str(flat_config),\n",
    "                    'rmse': val_rmse,\n",
    "                })\n",
    "\n",
    "            avg_val_rmse = np.mean(inner_fold_rmses)\n",
    "            all_inner_fold_scores.append(inner_fold_rmses)\n",
    "\n",
    "            print(f\"  Config {config_id+1}/{len(param_combos)} | Mean RMSE: {avg_val_rmse:.4f}\")\n",
    "            if avg_val_rmse < best_val_score:\n",
    "                best_val_score = avg_val_rmse\n",
    "                best_config = flat_config\n",
    "\n",
    "        print(f\"\\n✅ Best config for outer fold {fold_idx+1}: {best_config}\")\n",
    "        print(f\"Best inner RMSE: {best_val_score:.4f}\")\n",
    "        best_grid_models.append(best_config)\n",
    "        df_inner_scores = pd.DataFrame(all_inner_fold_scores).T\n",
    "        validation_results.append(df_inner_scores)\n",
    "\n",
    "        # Statistical test\n",
    "        if len(param_combos) > 1:  # Only perform if we have multiple configs to compare\n",
    "            print(\"\\nStatistical test on inner fold scores:\")\n",
    "            try:\n",
    "                stat, p = friedmanchisquare(*[df_inner_scores[col] for col in df_inner_scores.columns])\n",
    "                print(f\"Friedman test statistic: {stat:.4f}, p-value: {p:.4f}\")\n",
    "                if p < alpha_sig:\n",
    "                    posthoc_result = sp.posthoc_nemenyi_friedman(df_inner_scores.to_numpy())\n",
    "                    significant_mask = posthoc_result < alpha_sig\n",
    "                    if significant_mask.values.any():\n",
    "                        sig_table = posthoc_result.where(significant_mask).dropna(how='all').dropna(axis=1, how='all')\n",
    "                        print(\"\\nSignificant pairwise differences (p < alpha):\")\n",
    "                        print(sig_table.round(4))\n",
    "                    else:\n",
    "                        print(\"Friedman significant, but no pairwise differences found.\")\n",
    "                else:\n",
    "                    print(\"No significant differences between configs.\")\n",
    "            except Exception as e:\n",
    "                print(f\"Statistical test failed: {e}\")\n",
    "\n",
    "        # Retrain on full outer train set\n",
    "        x_scaler = RobustScaler()\n",
    "        y_scaler = RobustScaler()\n",
    "        X_outer_train_scaled = x_scaler.fit_transform(fold_data['X_outer_train'])\n",
    "        X_test_scaled = x_scaler.transform(fold_data['X_test'])\n",
    "        y_outer_train_scaled = y_scaler.fit_transform(fold_data['y_outer_train'].values.reshape(-1, 1)).flatten()\n",
    "        y_test_scaled = y_scaler.transform(fold_data['y_test'].values.reshape(-1, 1)).flatten()\n",
    "\n",
    "        neat_config_path = f\"./log/NEAT/{dataset_name}/best_config_fold{fold_idx}.ini\"\n",
    "        generate_neat_config(neat_template_path, best_config, neat_config_path)\n",
    "\n",
    "        neat_config = neat.Config(\n",
    "            neat.DefaultGenome,\n",
    "            neat.DefaultReproduction,\n",
    "            neat.DefaultSpeciesSet,\n",
    "            neat.DefaultStagnation,\n",
    "            neat_config_path\n",
    "        )\n",
    "\n",
    "        eval_genomes = make_eval_genomes(X_outer_train_scaled, y_outer_train_scaled, X_test_scaled, y_test_scaled)\n",
    "        p = neat.Population(neat_config)\n",
    "        p.add_reporter(neat.StdOutReporter(False))\n",
    "        p.add_reporter(neat.StatisticsReporter())\n",
    "        winner = p.run(eval_genomes, best_config.get(\"generations\", 50))\n",
    "\n",
    "        net = neat.nn.FeedForwardNetwork.create(winner, neat_config)\n",
    "        test_rmse = eval_rmse(net, X_test_scaled, y_test_scaled)\n",
    "        print(f\"[Outer Fold {fold_idx+1}] Test RMSE: {test_rmse:.4f}\")\n",
    "        outer_scores.append(test_rmse)\n",
    "        gc.collect()\n",
    "\n",
    "    print(f\"\\n================ Final Results ================\\nMean RMSE: {np.mean(outer_scores):.4f} ± {np.std(outer_scores):.4f}\")\n",
    "    df_all_results = pd.DataFrame(detailed_results)\n",
    "    return np.array(outer_scores), best_grid_models, df_all_results, validation_results"
   ]
  },
  {
   "cell_type": "code",
   "execution_count": 31,
   "id": "6c92af2e",
   "metadata": {},
   "outputs": [],
   "source": [
    "param_grid = {\n",
    "    'pop_size': [50, 100],\n",
    "    'activation_default': ['relu', 'tanh']\n",
    "}"
   ]
  },
  {
   "cell_type": "raw",
   "id": "2a5384c3",
   "metadata": {
    "vscode": {
     "languageId": "raw"
    }
   },
   "source": [
    "seed = 42\n",
    "\n",
    "scores, best_models, df_results, val_results = nested_cv_neat(\n",
    "    X=X,\n",
    "    y=y,\n",
    "    param_grid=param_grid,\n",
    "    k_outer=5,\n",
    "    k_inner=3,\n",
    "    dataset_name=\"🐔Chicken🐔\",\n",
    "    neat_template_path=\"neat_template.ini\",\n",
    "    seed=seed\n",
    ")"
   ]
  },
  {
   "cell_type": "code",
   "execution_count": 32,
   "id": "fba0ce3e",
   "metadata": {},
   "outputs": [],
   "source": [
    "neat_log_dir = \"log/NEAT/🐔Chicken🐔/\"\n",
    "results_dir = os.path.join(neat_log_dir, \"analysis_results\")"
   ]
  },
  {
   "cell_type": "raw",
   "id": "ceef1478",
   "metadata": {
    "vscode": {
     "languageId": "raw"
    }
   },
   "source": [
    "os.makedirs(results_dir, exist_ok=True)\n",
    "\n",
    "def save_results(df_results, best_models, scores, val_results, param_grid):\n",
    "    # Save detailed results\n",
    "    df_results.to_csv(os.path.join(results_dir, \"detailed_results.csv\"), index=False)\n",
    "    \n",
    "    # Save best models with proper JSON serialization\n",
    "    with open(os.path.join(results_dir, \"best_models.json\"), \"w\") as f:\n",
    "        json.dump(best_models, f, indent=4)\n",
    "    \n",
    "    # Save outer scores\n",
    "    pd.DataFrame({\"outer_fold\": range(1, len(scores)+1), \"rmse\": scores}).to_csv(\n",
    "        os.path.join(results_dir, \"outer_scores.csv\"), index=False)\n",
    "    \n",
    "    # Save param grid\n",
    "    with open(os.path.join(results_dir, \"param_grid.json\"), \"w\") as f:\n",
    "        json.dump(param_grid, f, indent=4)\n",
    "    \n",
    "    # Copy all NEAT config files to results directory\n",
    "    config_files = [f for f in os.listdir(neat_log_dir) if f.endswith(\".ini\")]\n",
    "    for file in config_files:\n",
    "        shutil.copy2(os.path.join(neat_log_dir, file), results_dir)\n",
    "    \n",
    "    print(f\"All results saved to: {results_dir}\")\n",
    "\n",
    "save_results(df_results, best_models, scores, val_results, param_grid)"
   ]
  },
  {
   "cell_type": "code",
   "execution_count": 33,
   "id": "8dd66b34",
   "metadata": {},
   "outputs": [],
   "source": [
    "def load_results():\n",
    "    results_dir = \"log/NEAT/🐔Chicken🐔/analysis_results/\"\n",
    "    df_results = pd.read_csv(os.path.join(results_dir, \"detailed_results.csv\"))\n",
    "    with open(os.path.join(results_dir, \"best_models.json\"), \"r\") as f:\n",
    "        best_models = json.load(f)\n",
    "    outer_scores = pd.read_csv(os.path.join(results_dir, \"outer_scores.csv\"))\n",
    "    with open(os.path.join(results_dir, \"param_grid.json\"), \"r\") as f:\n",
    "        param_grid = json.load(f)\n",
    "    return df_results, best_models, outer_scores, param_grid\n",
    "\n",
    "df_results, best_models, outer_scores, param_grid = load_results()"
   ]
  },
  {
   "cell_type": "code",
   "execution_count": 34,
   "id": "eee9624d",
   "metadata": {},
   "outputs": [
    {
     "name": "stdout",
     "output_type": "stream",
     "text": [
      "=== Best Configurations ===\n",
      "\n",
      "Outer Fold 1:\n",
      "pop_size: 100\n",
      "activation_default: tanh\n",
      "\n",
      "Outer Fold 2:\n",
      "pop_size: 100\n",
      "activation_default: tanh\n",
      "\n",
      "Outer Fold 3:\n",
      "pop_size: 100\n",
      "activation_default: tanh\n",
      "\n",
      "Outer Fold 4:\n",
      "pop_size: 100\n",
      "activation_default: tanh\n",
      "\n",
      "Outer Fold 5:\n",
      "pop_size: 50\n",
      "activation_default: tanh\n",
      "\n",
      "Most frequently selected configuration:\n",
      "activation_default: tanh\n",
      "pop_size: 100\n"
     ]
    }
   ],
   "source": [
    "# 1. Best Configurations Analysis\n",
    "print(\"=== Best Configurations ===\")\n",
    "for i, config in enumerate(best_models, 1):\n",
    "    print(f\"\\nOuter Fold {i}:\")\n",
    "    for k, v in config.items():\n",
    "        print(f\"{k}: {v}\")\n",
    "\n",
    "# Find most common best config\n",
    "config_counts = Counter(tuple(sorted(config.items())) for config in best_models)\n",
    "most_common_config = dict(config_counts.most_common(1)[0][0])\n",
    "print(\"\\nMost frequently selected configuration:\")\n",
    "for k, v in most_common_config.items():\n",
    "    print(f\"{k}: {v}\")"
   ]
  },
  {
   "cell_type": "code",
   "execution_count": 35,
   "id": "a5bd111d",
   "metadata": {},
   "outputs": [
    {
     "name": "stdout",
     "output_type": "stream",
     "text": [
      "\n",
      "=== Performance Summary ===\n",
      "Mean RMSE: 0.8075 ± 0.4432\n",
      "Range: 0.5071 - 1.5503\n"
     ]
    }
   ],
   "source": [
    "# 2. Performance Summary\n",
    "print(\"\\n=== Performance Summary ===\")\n",
    "print(f\"Mean RMSE: {outer_scores['rmse'].mean():.4f} ± {outer_scores['rmse'].std():.4f}\")\n",
    "print(f\"Range: {outer_scores['rmse'].min():.4f} - {outer_scores['rmse'].max():.4f}\")\n"
   ]
  },
  {
   "cell_type": "code",
   "execution_count": 36,
   "id": "911f15d3",
   "metadata": {},
   "outputs": [
    {
     "data": {
      "application/vnd.plotly.v1+json": {
       "config": {
        "plotlyServerURL": "https://plot.ly"
       },
       "data": [
        {
         "boxpoints": "all",
         "jitter": 0.3,
         "line": {
          "color": "rgb(7,40,89)"
         },
         "marker": {
          "color": "rgb(7,40,89)"
         },
         "type": "box",
         "x": [
          "Config 1\npop_size: 50\nactivation_default: ",
          "Config 1\npop_size: 50\nactivation_default: ",
          "Config 1\npop_size: 50\nactivation_default: ",
          "Config 2\npop_size: 50\nactivation_default: ",
          "Config 2\npop_size: 50\nactivation_default: ",
          "Config 2\npop_size: 50\nactivation_default: ",
          "Config 3\npop_size: 100\nactivation_default: ",
          "Config 3\npop_size: 100\nactivation_default: ",
          "Config 3\npop_size: 100\nactivation_default: ",
          "Config 4\npop_size: 100\nactivation_default: ",
          "Config 4\npop_size: 100\nactivation_default: ",
          "Config 4\npop_size: 100\nactivation_default: "
         ],
         "y": [
          1.902874703456052,
          0.6704716344034098,
          0.7911714504039755,
          1.9195246516238549,
          0.7117466049094805,
          0.6157117763574281,
          1.928745405700483,
          0.5917970255406939,
          0.7828077035426018,
          1.7282634520210092,
          0.66866500030142,
          0.6244927293944228
         ]
        },
        {
         "marker": {
          "color": "red",
          "size": 10
         },
         "mode": "markers",
         "name": "Best Config",
         "type": "scatter",
         "x": [],
         "y": []
        }
       ],
       "layout": {
        "height": 500,
        "showlegend": false,
        "template": {
         "data": {
          "bar": [
           {
            "error_x": {
             "color": "#2a3f5f"
            },
            "error_y": {
             "color": "#2a3f5f"
            },
            "marker": {
             "line": {
              "color": "#E5ECF6",
              "width": 0.5
             },
             "pattern": {
              "fillmode": "overlay",
              "size": 10,
              "solidity": 0.2
             }
            },
            "type": "bar"
           }
          ],
          "barpolar": [
           {
            "marker": {
             "line": {
              "color": "#E5ECF6",
              "width": 0.5
             },
             "pattern": {
              "fillmode": "overlay",
              "size": 10,
              "solidity": 0.2
             }
            },
            "type": "barpolar"
           }
          ],
          "carpet": [
           {
            "aaxis": {
             "endlinecolor": "#2a3f5f",
             "gridcolor": "white",
             "linecolor": "white",
             "minorgridcolor": "white",
             "startlinecolor": "#2a3f5f"
            },
            "baxis": {
             "endlinecolor": "#2a3f5f",
             "gridcolor": "white",
             "linecolor": "white",
             "minorgridcolor": "white",
             "startlinecolor": "#2a3f5f"
            },
            "type": "carpet"
           }
          ],
          "choropleth": [
           {
            "colorbar": {
             "outlinewidth": 0,
             "ticks": ""
            },
            "type": "choropleth"
           }
          ],
          "contour": [
           {
            "colorbar": {
             "outlinewidth": 0,
             "ticks": ""
            },
            "colorscale": [
             [
              0,
              "#0d0887"
             ],
             [
              0.1111111111111111,
              "#46039f"
             ],
             [
              0.2222222222222222,
              "#7201a8"
             ],
             [
              0.3333333333333333,
              "#9c179e"
             ],
             [
              0.4444444444444444,
              "#bd3786"
             ],
             [
              0.5555555555555556,
              "#d8576b"
             ],
             [
              0.6666666666666666,
              "#ed7953"
             ],
             [
              0.7777777777777778,
              "#fb9f3a"
             ],
             [
              0.8888888888888888,
              "#fdca26"
             ],
             [
              1,
              "#f0f921"
             ]
            ],
            "type": "contour"
           }
          ],
          "contourcarpet": [
           {
            "colorbar": {
             "outlinewidth": 0,
             "ticks": ""
            },
            "type": "contourcarpet"
           }
          ],
          "heatmap": [
           {
            "colorbar": {
             "outlinewidth": 0,
             "ticks": ""
            },
            "colorscale": [
             [
              0,
              "#0d0887"
             ],
             [
              0.1111111111111111,
              "#46039f"
             ],
             [
              0.2222222222222222,
              "#7201a8"
             ],
             [
              0.3333333333333333,
              "#9c179e"
             ],
             [
              0.4444444444444444,
              "#bd3786"
             ],
             [
              0.5555555555555556,
              "#d8576b"
             ],
             [
              0.6666666666666666,
              "#ed7953"
             ],
             [
              0.7777777777777778,
              "#fb9f3a"
             ],
             [
              0.8888888888888888,
              "#fdca26"
             ],
             [
              1,
              "#f0f921"
             ]
            ],
            "type": "heatmap"
           }
          ],
          "heatmapgl": [
           {
            "colorbar": {
             "outlinewidth": 0,
             "ticks": ""
            },
            "colorscale": [
             [
              0,
              "#0d0887"
             ],
             [
              0.1111111111111111,
              "#46039f"
             ],
             [
              0.2222222222222222,
              "#7201a8"
             ],
             [
              0.3333333333333333,
              "#9c179e"
             ],
             [
              0.4444444444444444,
              "#bd3786"
             ],
             [
              0.5555555555555556,
              "#d8576b"
             ],
             [
              0.6666666666666666,
              "#ed7953"
             ],
             [
              0.7777777777777778,
              "#fb9f3a"
             ],
             [
              0.8888888888888888,
              "#fdca26"
             ],
             [
              1,
              "#f0f921"
             ]
            ],
            "type": "heatmapgl"
           }
          ],
          "histogram": [
           {
            "marker": {
             "pattern": {
              "fillmode": "overlay",
              "size": 10,
              "solidity": 0.2
             }
            },
            "type": "histogram"
           }
          ],
          "histogram2d": [
           {
            "colorbar": {
             "outlinewidth": 0,
             "ticks": ""
            },
            "colorscale": [
             [
              0,
              "#0d0887"
             ],
             [
              0.1111111111111111,
              "#46039f"
             ],
             [
              0.2222222222222222,
              "#7201a8"
             ],
             [
              0.3333333333333333,
              "#9c179e"
             ],
             [
              0.4444444444444444,
              "#bd3786"
             ],
             [
              0.5555555555555556,
              "#d8576b"
             ],
             [
              0.6666666666666666,
              "#ed7953"
             ],
             [
              0.7777777777777778,
              "#fb9f3a"
             ],
             [
              0.8888888888888888,
              "#fdca26"
             ],
             [
              1,
              "#f0f921"
             ]
            ],
            "type": "histogram2d"
           }
          ],
          "histogram2dcontour": [
           {
            "colorbar": {
             "outlinewidth": 0,
             "ticks": ""
            },
            "colorscale": [
             [
              0,
              "#0d0887"
             ],
             [
              0.1111111111111111,
              "#46039f"
             ],
             [
              0.2222222222222222,
              "#7201a8"
             ],
             [
              0.3333333333333333,
              "#9c179e"
             ],
             [
              0.4444444444444444,
              "#bd3786"
             ],
             [
              0.5555555555555556,
              "#d8576b"
             ],
             [
              0.6666666666666666,
              "#ed7953"
             ],
             [
              0.7777777777777778,
              "#fb9f3a"
             ],
             [
              0.8888888888888888,
              "#fdca26"
             ],
             [
              1,
              "#f0f921"
             ]
            ],
            "type": "histogram2dcontour"
           }
          ],
          "mesh3d": [
           {
            "colorbar": {
             "outlinewidth": 0,
             "ticks": ""
            },
            "type": "mesh3d"
           }
          ],
          "parcoords": [
           {
            "line": {
             "colorbar": {
              "outlinewidth": 0,
              "ticks": ""
             }
            },
            "type": "parcoords"
           }
          ],
          "pie": [
           {
            "automargin": true,
            "type": "pie"
           }
          ],
          "scatter": [
           {
            "fillpattern": {
             "fillmode": "overlay",
             "size": 10,
             "solidity": 0.2
            },
            "type": "scatter"
           }
          ],
          "scatter3d": [
           {
            "line": {
             "colorbar": {
              "outlinewidth": 0,
              "ticks": ""
             }
            },
            "marker": {
             "colorbar": {
              "outlinewidth": 0,
              "ticks": ""
             }
            },
            "type": "scatter3d"
           }
          ],
          "scattercarpet": [
           {
            "marker": {
             "colorbar": {
              "outlinewidth": 0,
              "ticks": ""
             }
            },
            "type": "scattercarpet"
           }
          ],
          "scattergeo": [
           {
            "marker": {
             "colorbar": {
              "outlinewidth": 0,
              "ticks": ""
             }
            },
            "type": "scattergeo"
           }
          ],
          "scattergl": [
           {
            "marker": {
             "colorbar": {
              "outlinewidth": 0,
              "ticks": ""
             }
            },
            "type": "scattergl"
           }
          ],
          "scattermapbox": [
           {
            "marker": {
             "colorbar": {
              "outlinewidth": 0,
              "ticks": ""
             }
            },
            "type": "scattermapbox"
           }
          ],
          "scatterpolar": [
           {
            "marker": {
             "colorbar": {
              "outlinewidth": 0,
              "ticks": ""
             }
            },
            "type": "scatterpolar"
           }
          ],
          "scatterpolargl": [
           {
            "marker": {
             "colorbar": {
              "outlinewidth": 0,
              "ticks": ""
             }
            },
            "type": "scatterpolargl"
           }
          ],
          "scatterternary": [
           {
            "marker": {
             "colorbar": {
              "outlinewidth": 0,
              "ticks": ""
             }
            },
            "type": "scatterternary"
           }
          ],
          "surface": [
           {
            "colorbar": {
             "outlinewidth": 0,
             "ticks": ""
            },
            "colorscale": [
             [
              0,
              "#0d0887"
             ],
             [
              0.1111111111111111,
              "#46039f"
             ],
             [
              0.2222222222222222,
              "#7201a8"
             ],
             [
              0.3333333333333333,
              "#9c179e"
             ],
             [
              0.4444444444444444,
              "#bd3786"
             ],
             [
              0.5555555555555556,
              "#d8576b"
             ],
             [
              0.6666666666666666,
              "#ed7953"
             ],
             [
              0.7777777777777778,
              "#fb9f3a"
             ],
             [
              0.8888888888888888,
              "#fdca26"
             ],
             [
              1,
              "#f0f921"
             ]
            ],
            "type": "surface"
           }
          ],
          "table": [
           {
            "cells": {
             "fill": {
              "color": "#EBF0F8"
             },
             "line": {
              "color": "white"
             }
            },
            "header": {
             "fill": {
              "color": "#C8D4E3"
             },
             "line": {
              "color": "white"
             }
            },
            "type": "table"
           }
          ]
         },
         "layout": {
          "annotationdefaults": {
           "arrowcolor": "#2a3f5f",
           "arrowhead": 0,
           "arrowwidth": 1
          },
          "autotypenumbers": "strict",
          "coloraxis": {
           "colorbar": {
            "outlinewidth": 0,
            "ticks": ""
           }
          },
          "colorscale": {
           "diverging": [
            [
             0,
             "#8e0152"
            ],
            [
             0.1,
             "#c51b7d"
            ],
            [
             0.2,
             "#de77ae"
            ],
            [
             0.3,
             "#f1b6da"
            ],
            [
             0.4,
             "#fde0ef"
            ],
            [
             0.5,
             "#f7f7f7"
            ],
            [
             0.6,
             "#e6f5d0"
            ],
            [
             0.7,
             "#b8e186"
            ],
            [
             0.8,
             "#7fbc41"
            ],
            [
             0.9,
             "#4d9221"
            ],
            [
             1,
             "#276419"
            ]
           ],
           "sequential": [
            [
             0,
             "#0d0887"
            ],
            [
             0.1111111111111111,
             "#46039f"
            ],
            [
             0.2222222222222222,
             "#7201a8"
            ],
            [
             0.3333333333333333,
             "#9c179e"
            ],
            [
             0.4444444444444444,
             "#bd3786"
            ],
            [
             0.5555555555555556,
             "#d8576b"
            ],
            [
             0.6666666666666666,
             "#ed7953"
            ],
            [
             0.7777777777777778,
             "#fb9f3a"
            ],
            [
             0.8888888888888888,
             "#fdca26"
            ],
            [
             1,
             "#f0f921"
            ]
           ],
           "sequentialminus": [
            [
             0,
             "#0d0887"
            ],
            [
             0.1111111111111111,
             "#46039f"
            ],
            [
             0.2222222222222222,
             "#7201a8"
            ],
            [
             0.3333333333333333,
             "#9c179e"
            ],
            [
             0.4444444444444444,
             "#bd3786"
            ],
            [
             0.5555555555555556,
             "#d8576b"
            ],
            [
             0.6666666666666666,
             "#ed7953"
            ],
            [
             0.7777777777777778,
             "#fb9f3a"
            ],
            [
             0.8888888888888888,
             "#fdca26"
            ],
            [
             1,
             "#f0f921"
            ]
           ]
          },
          "colorway": [
           "#636efa",
           "#EF553B",
           "#00cc96",
           "#ab63fa",
           "#FFA15A",
           "#19d3f3",
           "#FF6692",
           "#B6E880",
           "#FF97FF",
           "#FECB52"
          ],
          "font": {
           "color": "#2a3f5f"
          },
          "geo": {
           "bgcolor": "white",
           "lakecolor": "white",
           "landcolor": "#E5ECF6",
           "showlakes": true,
           "showland": true,
           "subunitcolor": "white"
          },
          "hoverlabel": {
           "align": "left"
          },
          "hovermode": "closest",
          "mapbox": {
           "style": "light"
          },
          "paper_bgcolor": "white",
          "plot_bgcolor": "#E5ECF6",
          "polar": {
           "angularaxis": {
            "gridcolor": "white",
            "linecolor": "white",
            "ticks": ""
           },
           "bgcolor": "#E5ECF6",
           "radialaxis": {
            "gridcolor": "white",
            "linecolor": "white",
            "ticks": ""
           }
          },
          "scene": {
           "xaxis": {
            "backgroundcolor": "#E5ECF6",
            "gridcolor": "white",
            "gridwidth": 2,
            "linecolor": "white",
            "showbackground": true,
            "ticks": "",
            "zerolinecolor": "white"
           },
           "yaxis": {
            "backgroundcolor": "#E5ECF6",
            "gridcolor": "white",
            "gridwidth": 2,
            "linecolor": "white",
            "showbackground": true,
            "ticks": "",
            "zerolinecolor": "white"
           },
           "zaxis": {
            "backgroundcolor": "#E5ECF6",
            "gridcolor": "white",
            "gridwidth": 2,
            "linecolor": "white",
            "showbackground": true,
            "ticks": "",
            "zerolinecolor": "white"
           }
          },
          "shapedefaults": {
           "line": {
            "color": "#2a3f5f"
           }
          },
          "ternary": {
           "aaxis": {
            "gridcolor": "white",
            "linecolor": "white",
            "ticks": ""
           },
           "baxis": {
            "gridcolor": "white",
            "linecolor": "white",
            "ticks": ""
           },
           "bgcolor": "#E5ECF6",
           "caxis": {
            "gridcolor": "white",
            "linecolor": "white",
            "ticks": ""
           }
          },
          "title": {
           "x": 0.05
          },
          "xaxis": {
           "automargin": true,
           "gridcolor": "white",
           "linecolor": "white",
           "ticks": "",
           "title": {
            "standoff": 15
           },
           "zerolinecolor": "white",
           "zerolinewidth": 2
          },
          "yaxis": {
           "automargin": true,
           "gridcolor": "white",
           "linecolor": "white",
           "ticks": "",
           "title": {
            "standoff": 15
           },
           "zerolinecolor": "white",
           "zerolinewidth": 2
          }
         }
        },
        "title": {
         "text": "Outer Fold 1 - Configuration Comparison"
        },
        "width": 800,
        "xaxis": {
         "title": {
          "text": "Configuration"
         }
        },
        "yaxis": {
         "title": {
          "text": "RMSE"
         }
        }
       }
      }
     },
     "metadata": {},
     "output_type": "display_data"
    },
    {
     "data": {
      "application/vnd.plotly.v1+json": {
       "config": {
        "plotlyServerURL": "https://plot.ly"
       },
       "data": [
        {
         "boxpoints": "all",
         "jitter": 0.3,
         "line": {
          "color": "rgb(7,40,89)"
         },
         "marker": {
          "color": "rgb(7,40,89)"
         },
         "type": "box",
         "x": [
          "Config 1\npop_size: 50\nactivation_default: ",
          "Config 1\npop_size: 50\nactivation_default: ",
          "Config 1\npop_size: 50\nactivation_default: ",
          "Config 2\npop_size: 50\nactivation_default: ",
          "Config 2\npop_size: 50\nactivation_default: ",
          "Config 2\npop_size: 50\nactivation_default: ",
          "Config 3\npop_size: 100\nactivation_default: ",
          "Config 3\npop_size: 100\nactivation_default: ",
          "Config 3\npop_size: 100\nactivation_default: ",
          "Config 4\npop_size: 100\nactivation_default: ",
          "Config 4\npop_size: 100\nactivation_default: ",
          "Config 4\npop_size: 100\nactivation_default: "
         ],
         "y": [
          0.9711736648972376,
          1.5245100988520748,
          0.8456588601188054,
          0.6113932329185086,
          1.3454670296290234,
          0.5953345292598191,
          0.9664145576441272,
          1.5567669352994755,
          0.8216542274570953,
          0.6228903944787263,
          1.3257057024756136,
          0.5676132701894869
         ]
        },
        {
         "marker": {
          "color": "red",
          "size": 10
         },
         "mode": "markers",
         "name": "Best Config",
         "type": "scatter",
         "x": [],
         "y": []
        }
       ],
       "layout": {
        "height": 500,
        "showlegend": false,
        "template": {
         "data": {
          "bar": [
           {
            "error_x": {
             "color": "#2a3f5f"
            },
            "error_y": {
             "color": "#2a3f5f"
            },
            "marker": {
             "line": {
              "color": "#E5ECF6",
              "width": 0.5
             },
             "pattern": {
              "fillmode": "overlay",
              "size": 10,
              "solidity": 0.2
             }
            },
            "type": "bar"
           }
          ],
          "barpolar": [
           {
            "marker": {
             "line": {
              "color": "#E5ECF6",
              "width": 0.5
             },
             "pattern": {
              "fillmode": "overlay",
              "size": 10,
              "solidity": 0.2
             }
            },
            "type": "barpolar"
           }
          ],
          "carpet": [
           {
            "aaxis": {
             "endlinecolor": "#2a3f5f",
             "gridcolor": "white",
             "linecolor": "white",
             "minorgridcolor": "white",
             "startlinecolor": "#2a3f5f"
            },
            "baxis": {
             "endlinecolor": "#2a3f5f",
             "gridcolor": "white",
             "linecolor": "white",
             "minorgridcolor": "white",
             "startlinecolor": "#2a3f5f"
            },
            "type": "carpet"
           }
          ],
          "choropleth": [
           {
            "colorbar": {
             "outlinewidth": 0,
             "ticks": ""
            },
            "type": "choropleth"
           }
          ],
          "contour": [
           {
            "colorbar": {
             "outlinewidth": 0,
             "ticks": ""
            },
            "colorscale": [
             [
              0,
              "#0d0887"
             ],
             [
              0.1111111111111111,
              "#46039f"
             ],
             [
              0.2222222222222222,
              "#7201a8"
             ],
             [
              0.3333333333333333,
              "#9c179e"
             ],
             [
              0.4444444444444444,
              "#bd3786"
             ],
             [
              0.5555555555555556,
              "#d8576b"
             ],
             [
              0.6666666666666666,
              "#ed7953"
             ],
             [
              0.7777777777777778,
              "#fb9f3a"
             ],
             [
              0.8888888888888888,
              "#fdca26"
             ],
             [
              1,
              "#f0f921"
             ]
            ],
            "type": "contour"
           }
          ],
          "contourcarpet": [
           {
            "colorbar": {
             "outlinewidth": 0,
             "ticks": ""
            },
            "type": "contourcarpet"
           }
          ],
          "heatmap": [
           {
            "colorbar": {
             "outlinewidth": 0,
             "ticks": ""
            },
            "colorscale": [
             [
              0,
              "#0d0887"
             ],
             [
              0.1111111111111111,
              "#46039f"
             ],
             [
              0.2222222222222222,
              "#7201a8"
             ],
             [
              0.3333333333333333,
              "#9c179e"
             ],
             [
              0.4444444444444444,
              "#bd3786"
             ],
             [
              0.5555555555555556,
              "#d8576b"
             ],
             [
              0.6666666666666666,
              "#ed7953"
             ],
             [
              0.7777777777777778,
              "#fb9f3a"
             ],
             [
              0.8888888888888888,
              "#fdca26"
             ],
             [
              1,
              "#f0f921"
             ]
            ],
            "type": "heatmap"
           }
          ],
          "heatmapgl": [
           {
            "colorbar": {
             "outlinewidth": 0,
             "ticks": ""
            },
            "colorscale": [
             [
              0,
              "#0d0887"
             ],
             [
              0.1111111111111111,
              "#46039f"
             ],
             [
              0.2222222222222222,
              "#7201a8"
             ],
             [
              0.3333333333333333,
              "#9c179e"
             ],
             [
              0.4444444444444444,
              "#bd3786"
             ],
             [
              0.5555555555555556,
              "#d8576b"
             ],
             [
              0.6666666666666666,
              "#ed7953"
             ],
             [
              0.7777777777777778,
              "#fb9f3a"
             ],
             [
              0.8888888888888888,
              "#fdca26"
             ],
             [
              1,
              "#f0f921"
             ]
            ],
            "type": "heatmapgl"
           }
          ],
          "histogram": [
           {
            "marker": {
             "pattern": {
              "fillmode": "overlay",
              "size": 10,
              "solidity": 0.2
             }
            },
            "type": "histogram"
           }
          ],
          "histogram2d": [
           {
            "colorbar": {
             "outlinewidth": 0,
             "ticks": ""
            },
            "colorscale": [
             [
              0,
              "#0d0887"
             ],
             [
              0.1111111111111111,
              "#46039f"
             ],
             [
              0.2222222222222222,
              "#7201a8"
             ],
             [
              0.3333333333333333,
              "#9c179e"
             ],
             [
              0.4444444444444444,
              "#bd3786"
             ],
             [
              0.5555555555555556,
              "#d8576b"
             ],
             [
              0.6666666666666666,
              "#ed7953"
             ],
             [
              0.7777777777777778,
              "#fb9f3a"
             ],
             [
              0.8888888888888888,
              "#fdca26"
             ],
             [
              1,
              "#f0f921"
             ]
            ],
            "type": "histogram2d"
           }
          ],
          "histogram2dcontour": [
           {
            "colorbar": {
             "outlinewidth": 0,
             "ticks": ""
            },
            "colorscale": [
             [
              0,
              "#0d0887"
             ],
             [
              0.1111111111111111,
              "#46039f"
             ],
             [
              0.2222222222222222,
              "#7201a8"
             ],
             [
              0.3333333333333333,
              "#9c179e"
             ],
             [
              0.4444444444444444,
              "#bd3786"
             ],
             [
              0.5555555555555556,
              "#d8576b"
             ],
             [
              0.6666666666666666,
              "#ed7953"
             ],
             [
              0.7777777777777778,
              "#fb9f3a"
             ],
             [
              0.8888888888888888,
              "#fdca26"
             ],
             [
              1,
              "#f0f921"
             ]
            ],
            "type": "histogram2dcontour"
           }
          ],
          "mesh3d": [
           {
            "colorbar": {
             "outlinewidth": 0,
             "ticks": ""
            },
            "type": "mesh3d"
           }
          ],
          "parcoords": [
           {
            "line": {
             "colorbar": {
              "outlinewidth": 0,
              "ticks": ""
             }
            },
            "type": "parcoords"
           }
          ],
          "pie": [
           {
            "automargin": true,
            "type": "pie"
           }
          ],
          "scatter": [
           {
            "fillpattern": {
             "fillmode": "overlay",
             "size": 10,
             "solidity": 0.2
            },
            "type": "scatter"
           }
          ],
          "scatter3d": [
           {
            "line": {
             "colorbar": {
              "outlinewidth": 0,
              "ticks": ""
             }
            },
            "marker": {
             "colorbar": {
              "outlinewidth": 0,
              "ticks": ""
             }
            },
            "type": "scatter3d"
           }
          ],
          "scattercarpet": [
           {
            "marker": {
             "colorbar": {
              "outlinewidth": 0,
              "ticks": ""
             }
            },
            "type": "scattercarpet"
           }
          ],
          "scattergeo": [
           {
            "marker": {
             "colorbar": {
              "outlinewidth": 0,
              "ticks": ""
             }
            },
            "type": "scattergeo"
           }
          ],
          "scattergl": [
           {
            "marker": {
             "colorbar": {
              "outlinewidth": 0,
              "ticks": ""
             }
            },
            "type": "scattergl"
           }
          ],
          "scattermapbox": [
           {
            "marker": {
             "colorbar": {
              "outlinewidth": 0,
              "ticks": ""
             }
            },
            "type": "scattermapbox"
           }
          ],
          "scatterpolar": [
           {
            "marker": {
             "colorbar": {
              "outlinewidth": 0,
              "ticks": ""
             }
            },
            "type": "scatterpolar"
           }
          ],
          "scatterpolargl": [
           {
            "marker": {
             "colorbar": {
              "outlinewidth": 0,
              "ticks": ""
             }
            },
            "type": "scatterpolargl"
           }
          ],
          "scatterternary": [
           {
            "marker": {
             "colorbar": {
              "outlinewidth": 0,
              "ticks": ""
             }
            },
            "type": "scatterternary"
           }
          ],
          "surface": [
           {
            "colorbar": {
             "outlinewidth": 0,
             "ticks": ""
            },
            "colorscale": [
             [
              0,
              "#0d0887"
             ],
             [
              0.1111111111111111,
              "#46039f"
             ],
             [
              0.2222222222222222,
              "#7201a8"
             ],
             [
              0.3333333333333333,
              "#9c179e"
             ],
             [
              0.4444444444444444,
              "#bd3786"
             ],
             [
              0.5555555555555556,
              "#d8576b"
             ],
             [
              0.6666666666666666,
              "#ed7953"
             ],
             [
              0.7777777777777778,
              "#fb9f3a"
             ],
             [
              0.8888888888888888,
              "#fdca26"
             ],
             [
              1,
              "#f0f921"
             ]
            ],
            "type": "surface"
           }
          ],
          "table": [
           {
            "cells": {
             "fill": {
              "color": "#EBF0F8"
             },
             "line": {
              "color": "white"
             }
            },
            "header": {
             "fill": {
              "color": "#C8D4E3"
             },
             "line": {
              "color": "white"
             }
            },
            "type": "table"
           }
          ]
         },
         "layout": {
          "annotationdefaults": {
           "arrowcolor": "#2a3f5f",
           "arrowhead": 0,
           "arrowwidth": 1
          },
          "autotypenumbers": "strict",
          "coloraxis": {
           "colorbar": {
            "outlinewidth": 0,
            "ticks": ""
           }
          },
          "colorscale": {
           "diverging": [
            [
             0,
             "#8e0152"
            ],
            [
             0.1,
             "#c51b7d"
            ],
            [
             0.2,
             "#de77ae"
            ],
            [
             0.3,
             "#f1b6da"
            ],
            [
             0.4,
             "#fde0ef"
            ],
            [
             0.5,
             "#f7f7f7"
            ],
            [
             0.6,
             "#e6f5d0"
            ],
            [
             0.7,
             "#b8e186"
            ],
            [
             0.8,
             "#7fbc41"
            ],
            [
             0.9,
             "#4d9221"
            ],
            [
             1,
             "#276419"
            ]
           ],
           "sequential": [
            [
             0,
             "#0d0887"
            ],
            [
             0.1111111111111111,
             "#46039f"
            ],
            [
             0.2222222222222222,
             "#7201a8"
            ],
            [
             0.3333333333333333,
             "#9c179e"
            ],
            [
             0.4444444444444444,
             "#bd3786"
            ],
            [
             0.5555555555555556,
             "#d8576b"
            ],
            [
             0.6666666666666666,
             "#ed7953"
            ],
            [
             0.7777777777777778,
             "#fb9f3a"
            ],
            [
             0.8888888888888888,
             "#fdca26"
            ],
            [
             1,
             "#f0f921"
            ]
           ],
           "sequentialminus": [
            [
             0,
             "#0d0887"
            ],
            [
             0.1111111111111111,
             "#46039f"
            ],
            [
             0.2222222222222222,
             "#7201a8"
            ],
            [
             0.3333333333333333,
             "#9c179e"
            ],
            [
             0.4444444444444444,
             "#bd3786"
            ],
            [
             0.5555555555555556,
             "#d8576b"
            ],
            [
             0.6666666666666666,
             "#ed7953"
            ],
            [
             0.7777777777777778,
             "#fb9f3a"
            ],
            [
             0.8888888888888888,
             "#fdca26"
            ],
            [
             1,
             "#f0f921"
            ]
           ]
          },
          "colorway": [
           "#636efa",
           "#EF553B",
           "#00cc96",
           "#ab63fa",
           "#FFA15A",
           "#19d3f3",
           "#FF6692",
           "#B6E880",
           "#FF97FF",
           "#FECB52"
          ],
          "font": {
           "color": "#2a3f5f"
          },
          "geo": {
           "bgcolor": "white",
           "lakecolor": "white",
           "landcolor": "#E5ECF6",
           "showlakes": true,
           "showland": true,
           "subunitcolor": "white"
          },
          "hoverlabel": {
           "align": "left"
          },
          "hovermode": "closest",
          "mapbox": {
           "style": "light"
          },
          "paper_bgcolor": "white",
          "plot_bgcolor": "#E5ECF6",
          "polar": {
           "angularaxis": {
            "gridcolor": "white",
            "linecolor": "white",
            "ticks": ""
           },
           "bgcolor": "#E5ECF6",
           "radialaxis": {
            "gridcolor": "white",
            "linecolor": "white",
            "ticks": ""
           }
          },
          "scene": {
           "xaxis": {
            "backgroundcolor": "#E5ECF6",
            "gridcolor": "white",
            "gridwidth": 2,
            "linecolor": "white",
            "showbackground": true,
            "ticks": "",
            "zerolinecolor": "white"
           },
           "yaxis": {
            "backgroundcolor": "#E5ECF6",
            "gridcolor": "white",
            "gridwidth": 2,
            "linecolor": "white",
            "showbackground": true,
            "ticks": "",
            "zerolinecolor": "white"
           },
           "zaxis": {
            "backgroundcolor": "#E5ECF6",
            "gridcolor": "white",
            "gridwidth": 2,
            "linecolor": "white",
            "showbackground": true,
            "ticks": "",
            "zerolinecolor": "white"
           }
          },
          "shapedefaults": {
           "line": {
            "color": "#2a3f5f"
           }
          },
          "ternary": {
           "aaxis": {
            "gridcolor": "white",
            "linecolor": "white",
            "ticks": ""
           },
           "baxis": {
            "gridcolor": "white",
            "linecolor": "white",
            "ticks": ""
           },
           "bgcolor": "#E5ECF6",
           "caxis": {
            "gridcolor": "white",
            "linecolor": "white",
            "ticks": ""
           }
          },
          "title": {
           "x": 0.05
          },
          "xaxis": {
           "automargin": true,
           "gridcolor": "white",
           "linecolor": "white",
           "ticks": "",
           "title": {
            "standoff": 15
           },
           "zerolinecolor": "white",
           "zerolinewidth": 2
          },
          "yaxis": {
           "automargin": true,
           "gridcolor": "white",
           "linecolor": "white",
           "ticks": "",
           "title": {
            "standoff": 15
           },
           "zerolinecolor": "white",
           "zerolinewidth": 2
          }
         }
        },
        "title": {
         "text": "Outer Fold 2 - Configuration Comparison"
        },
        "width": 800,
        "xaxis": {
         "title": {
          "text": "Configuration"
         }
        },
        "yaxis": {
         "title": {
          "text": "RMSE"
         }
        }
       }
      }
     },
     "metadata": {},
     "output_type": "display_data"
    },
    {
     "data": {
      "application/vnd.plotly.v1+json": {
       "config": {
        "plotlyServerURL": "https://plot.ly"
       },
       "data": [
        {
         "boxpoints": "all",
         "jitter": 0.3,
         "line": {
          "color": "rgb(7,40,89)"
         },
         "marker": {
          "color": "rgb(7,40,89)"
         },
         "type": "box",
         "x": [
          "Config 1\npop_size: 50\nactivation_default: ",
          "Config 1\npop_size: 50\nactivation_default: ",
          "Config 1\npop_size: 50\nactivation_default: ",
          "Config 2\npop_size: 50\nactivation_default: ",
          "Config 2\npop_size: 50\nactivation_default: ",
          "Config 2\npop_size: 50\nactivation_default: ",
          "Config 3\npop_size: 100\nactivation_default: ",
          "Config 3\npop_size: 100\nactivation_default: ",
          "Config 3\npop_size: 100\nactivation_default: ",
          "Config 4\npop_size: 100\nactivation_default: ",
          "Config 4\npop_size: 100\nactivation_default: ",
          "Config 4\npop_size: 100\nactivation_default: "
         ],
         "y": [
          0.6349442972659206,
          0.9895939227394854,
          0.8985627075136787,
          0.5892506298588128,
          0.9768719677649642,
          0.5969518575066848,
          0.5889182501828781,
          0.97693996855403,
          0.8613253054616281,
          0.4373387817090998,
          0.7417658972286054,
          0.6467961862521154
         ]
        },
        {
         "marker": {
          "color": "red",
          "size": 10
         },
         "mode": "markers",
         "name": "Best Config",
         "type": "scatter",
         "x": [],
         "y": []
        }
       ],
       "layout": {
        "height": 500,
        "showlegend": false,
        "template": {
         "data": {
          "bar": [
           {
            "error_x": {
             "color": "#2a3f5f"
            },
            "error_y": {
             "color": "#2a3f5f"
            },
            "marker": {
             "line": {
              "color": "#E5ECF6",
              "width": 0.5
             },
             "pattern": {
              "fillmode": "overlay",
              "size": 10,
              "solidity": 0.2
             }
            },
            "type": "bar"
           }
          ],
          "barpolar": [
           {
            "marker": {
             "line": {
              "color": "#E5ECF6",
              "width": 0.5
             },
             "pattern": {
              "fillmode": "overlay",
              "size": 10,
              "solidity": 0.2
             }
            },
            "type": "barpolar"
           }
          ],
          "carpet": [
           {
            "aaxis": {
             "endlinecolor": "#2a3f5f",
             "gridcolor": "white",
             "linecolor": "white",
             "minorgridcolor": "white",
             "startlinecolor": "#2a3f5f"
            },
            "baxis": {
             "endlinecolor": "#2a3f5f",
             "gridcolor": "white",
             "linecolor": "white",
             "minorgridcolor": "white",
             "startlinecolor": "#2a3f5f"
            },
            "type": "carpet"
           }
          ],
          "choropleth": [
           {
            "colorbar": {
             "outlinewidth": 0,
             "ticks": ""
            },
            "type": "choropleth"
           }
          ],
          "contour": [
           {
            "colorbar": {
             "outlinewidth": 0,
             "ticks": ""
            },
            "colorscale": [
             [
              0,
              "#0d0887"
             ],
             [
              0.1111111111111111,
              "#46039f"
             ],
             [
              0.2222222222222222,
              "#7201a8"
             ],
             [
              0.3333333333333333,
              "#9c179e"
             ],
             [
              0.4444444444444444,
              "#bd3786"
             ],
             [
              0.5555555555555556,
              "#d8576b"
             ],
             [
              0.6666666666666666,
              "#ed7953"
             ],
             [
              0.7777777777777778,
              "#fb9f3a"
             ],
             [
              0.8888888888888888,
              "#fdca26"
             ],
             [
              1,
              "#f0f921"
             ]
            ],
            "type": "contour"
           }
          ],
          "contourcarpet": [
           {
            "colorbar": {
             "outlinewidth": 0,
             "ticks": ""
            },
            "type": "contourcarpet"
           }
          ],
          "heatmap": [
           {
            "colorbar": {
             "outlinewidth": 0,
             "ticks": ""
            },
            "colorscale": [
             [
              0,
              "#0d0887"
             ],
             [
              0.1111111111111111,
              "#46039f"
             ],
             [
              0.2222222222222222,
              "#7201a8"
             ],
             [
              0.3333333333333333,
              "#9c179e"
             ],
             [
              0.4444444444444444,
              "#bd3786"
             ],
             [
              0.5555555555555556,
              "#d8576b"
             ],
             [
              0.6666666666666666,
              "#ed7953"
             ],
             [
              0.7777777777777778,
              "#fb9f3a"
             ],
             [
              0.8888888888888888,
              "#fdca26"
             ],
             [
              1,
              "#f0f921"
             ]
            ],
            "type": "heatmap"
           }
          ],
          "heatmapgl": [
           {
            "colorbar": {
             "outlinewidth": 0,
             "ticks": ""
            },
            "colorscale": [
             [
              0,
              "#0d0887"
             ],
             [
              0.1111111111111111,
              "#46039f"
             ],
             [
              0.2222222222222222,
              "#7201a8"
             ],
             [
              0.3333333333333333,
              "#9c179e"
             ],
             [
              0.4444444444444444,
              "#bd3786"
             ],
             [
              0.5555555555555556,
              "#d8576b"
             ],
             [
              0.6666666666666666,
              "#ed7953"
             ],
             [
              0.7777777777777778,
              "#fb9f3a"
             ],
             [
              0.8888888888888888,
              "#fdca26"
             ],
             [
              1,
              "#f0f921"
             ]
            ],
            "type": "heatmapgl"
           }
          ],
          "histogram": [
           {
            "marker": {
             "pattern": {
              "fillmode": "overlay",
              "size": 10,
              "solidity": 0.2
             }
            },
            "type": "histogram"
           }
          ],
          "histogram2d": [
           {
            "colorbar": {
             "outlinewidth": 0,
             "ticks": ""
            },
            "colorscale": [
             [
              0,
              "#0d0887"
             ],
             [
              0.1111111111111111,
              "#46039f"
             ],
             [
              0.2222222222222222,
              "#7201a8"
             ],
             [
              0.3333333333333333,
              "#9c179e"
             ],
             [
              0.4444444444444444,
              "#bd3786"
             ],
             [
              0.5555555555555556,
              "#d8576b"
             ],
             [
              0.6666666666666666,
              "#ed7953"
             ],
             [
              0.7777777777777778,
              "#fb9f3a"
             ],
             [
              0.8888888888888888,
              "#fdca26"
             ],
             [
              1,
              "#f0f921"
             ]
            ],
            "type": "histogram2d"
           }
          ],
          "histogram2dcontour": [
           {
            "colorbar": {
             "outlinewidth": 0,
             "ticks": ""
            },
            "colorscale": [
             [
              0,
              "#0d0887"
             ],
             [
              0.1111111111111111,
              "#46039f"
             ],
             [
              0.2222222222222222,
              "#7201a8"
             ],
             [
              0.3333333333333333,
              "#9c179e"
             ],
             [
              0.4444444444444444,
              "#bd3786"
             ],
             [
              0.5555555555555556,
              "#d8576b"
             ],
             [
              0.6666666666666666,
              "#ed7953"
             ],
             [
              0.7777777777777778,
              "#fb9f3a"
             ],
             [
              0.8888888888888888,
              "#fdca26"
             ],
             [
              1,
              "#f0f921"
             ]
            ],
            "type": "histogram2dcontour"
           }
          ],
          "mesh3d": [
           {
            "colorbar": {
             "outlinewidth": 0,
             "ticks": ""
            },
            "type": "mesh3d"
           }
          ],
          "parcoords": [
           {
            "line": {
             "colorbar": {
              "outlinewidth": 0,
              "ticks": ""
             }
            },
            "type": "parcoords"
           }
          ],
          "pie": [
           {
            "automargin": true,
            "type": "pie"
           }
          ],
          "scatter": [
           {
            "fillpattern": {
             "fillmode": "overlay",
             "size": 10,
             "solidity": 0.2
            },
            "type": "scatter"
           }
          ],
          "scatter3d": [
           {
            "line": {
             "colorbar": {
              "outlinewidth": 0,
              "ticks": ""
             }
            },
            "marker": {
             "colorbar": {
              "outlinewidth": 0,
              "ticks": ""
             }
            },
            "type": "scatter3d"
           }
          ],
          "scattercarpet": [
           {
            "marker": {
             "colorbar": {
              "outlinewidth": 0,
              "ticks": ""
             }
            },
            "type": "scattercarpet"
           }
          ],
          "scattergeo": [
           {
            "marker": {
             "colorbar": {
              "outlinewidth": 0,
              "ticks": ""
             }
            },
            "type": "scattergeo"
           }
          ],
          "scattergl": [
           {
            "marker": {
             "colorbar": {
              "outlinewidth": 0,
              "ticks": ""
             }
            },
            "type": "scattergl"
           }
          ],
          "scattermapbox": [
           {
            "marker": {
             "colorbar": {
              "outlinewidth": 0,
              "ticks": ""
             }
            },
            "type": "scattermapbox"
           }
          ],
          "scatterpolar": [
           {
            "marker": {
             "colorbar": {
              "outlinewidth": 0,
              "ticks": ""
             }
            },
            "type": "scatterpolar"
           }
          ],
          "scatterpolargl": [
           {
            "marker": {
             "colorbar": {
              "outlinewidth": 0,
              "ticks": ""
             }
            },
            "type": "scatterpolargl"
           }
          ],
          "scatterternary": [
           {
            "marker": {
             "colorbar": {
              "outlinewidth": 0,
              "ticks": ""
             }
            },
            "type": "scatterternary"
           }
          ],
          "surface": [
           {
            "colorbar": {
             "outlinewidth": 0,
             "ticks": ""
            },
            "colorscale": [
             [
              0,
              "#0d0887"
             ],
             [
              0.1111111111111111,
              "#46039f"
             ],
             [
              0.2222222222222222,
              "#7201a8"
             ],
             [
              0.3333333333333333,
              "#9c179e"
             ],
             [
              0.4444444444444444,
              "#bd3786"
             ],
             [
              0.5555555555555556,
              "#d8576b"
             ],
             [
              0.6666666666666666,
              "#ed7953"
             ],
             [
              0.7777777777777778,
              "#fb9f3a"
             ],
             [
              0.8888888888888888,
              "#fdca26"
             ],
             [
              1,
              "#f0f921"
             ]
            ],
            "type": "surface"
           }
          ],
          "table": [
           {
            "cells": {
             "fill": {
              "color": "#EBF0F8"
             },
             "line": {
              "color": "white"
             }
            },
            "header": {
             "fill": {
              "color": "#C8D4E3"
             },
             "line": {
              "color": "white"
             }
            },
            "type": "table"
           }
          ]
         },
         "layout": {
          "annotationdefaults": {
           "arrowcolor": "#2a3f5f",
           "arrowhead": 0,
           "arrowwidth": 1
          },
          "autotypenumbers": "strict",
          "coloraxis": {
           "colorbar": {
            "outlinewidth": 0,
            "ticks": ""
           }
          },
          "colorscale": {
           "diverging": [
            [
             0,
             "#8e0152"
            ],
            [
             0.1,
             "#c51b7d"
            ],
            [
             0.2,
             "#de77ae"
            ],
            [
             0.3,
             "#f1b6da"
            ],
            [
             0.4,
             "#fde0ef"
            ],
            [
             0.5,
             "#f7f7f7"
            ],
            [
             0.6,
             "#e6f5d0"
            ],
            [
             0.7,
             "#b8e186"
            ],
            [
             0.8,
             "#7fbc41"
            ],
            [
             0.9,
             "#4d9221"
            ],
            [
             1,
             "#276419"
            ]
           ],
           "sequential": [
            [
             0,
             "#0d0887"
            ],
            [
             0.1111111111111111,
             "#46039f"
            ],
            [
             0.2222222222222222,
             "#7201a8"
            ],
            [
             0.3333333333333333,
             "#9c179e"
            ],
            [
             0.4444444444444444,
             "#bd3786"
            ],
            [
             0.5555555555555556,
             "#d8576b"
            ],
            [
             0.6666666666666666,
             "#ed7953"
            ],
            [
             0.7777777777777778,
             "#fb9f3a"
            ],
            [
             0.8888888888888888,
             "#fdca26"
            ],
            [
             1,
             "#f0f921"
            ]
           ],
           "sequentialminus": [
            [
             0,
             "#0d0887"
            ],
            [
             0.1111111111111111,
             "#46039f"
            ],
            [
             0.2222222222222222,
             "#7201a8"
            ],
            [
             0.3333333333333333,
             "#9c179e"
            ],
            [
             0.4444444444444444,
             "#bd3786"
            ],
            [
             0.5555555555555556,
             "#d8576b"
            ],
            [
             0.6666666666666666,
             "#ed7953"
            ],
            [
             0.7777777777777778,
             "#fb9f3a"
            ],
            [
             0.8888888888888888,
             "#fdca26"
            ],
            [
             1,
             "#f0f921"
            ]
           ]
          },
          "colorway": [
           "#636efa",
           "#EF553B",
           "#00cc96",
           "#ab63fa",
           "#FFA15A",
           "#19d3f3",
           "#FF6692",
           "#B6E880",
           "#FF97FF",
           "#FECB52"
          ],
          "font": {
           "color": "#2a3f5f"
          },
          "geo": {
           "bgcolor": "white",
           "lakecolor": "white",
           "landcolor": "#E5ECF6",
           "showlakes": true,
           "showland": true,
           "subunitcolor": "white"
          },
          "hoverlabel": {
           "align": "left"
          },
          "hovermode": "closest",
          "mapbox": {
           "style": "light"
          },
          "paper_bgcolor": "white",
          "plot_bgcolor": "#E5ECF6",
          "polar": {
           "angularaxis": {
            "gridcolor": "white",
            "linecolor": "white",
            "ticks": ""
           },
           "bgcolor": "#E5ECF6",
           "radialaxis": {
            "gridcolor": "white",
            "linecolor": "white",
            "ticks": ""
           }
          },
          "scene": {
           "xaxis": {
            "backgroundcolor": "#E5ECF6",
            "gridcolor": "white",
            "gridwidth": 2,
            "linecolor": "white",
            "showbackground": true,
            "ticks": "",
            "zerolinecolor": "white"
           },
           "yaxis": {
            "backgroundcolor": "#E5ECF6",
            "gridcolor": "white",
            "gridwidth": 2,
            "linecolor": "white",
            "showbackground": true,
            "ticks": "",
            "zerolinecolor": "white"
           },
           "zaxis": {
            "backgroundcolor": "#E5ECF6",
            "gridcolor": "white",
            "gridwidth": 2,
            "linecolor": "white",
            "showbackground": true,
            "ticks": "",
            "zerolinecolor": "white"
           }
          },
          "shapedefaults": {
           "line": {
            "color": "#2a3f5f"
           }
          },
          "ternary": {
           "aaxis": {
            "gridcolor": "white",
            "linecolor": "white",
            "ticks": ""
           },
           "baxis": {
            "gridcolor": "white",
            "linecolor": "white",
            "ticks": ""
           },
           "bgcolor": "#E5ECF6",
           "caxis": {
            "gridcolor": "white",
            "linecolor": "white",
            "ticks": ""
           }
          },
          "title": {
           "x": 0.05
          },
          "xaxis": {
           "automargin": true,
           "gridcolor": "white",
           "linecolor": "white",
           "ticks": "",
           "title": {
            "standoff": 15
           },
           "zerolinecolor": "white",
           "zerolinewidth": 2
          },
          "yaxis": {
           "automargin": true,
           "gridcolor": "white",
           "linecolor": "white",
           "ticks": "",
           "title": {
            "standoff": 15
           },
           "zerolinecolor": "white",
           "zerolinewidth": 2
          }
         }
        },
        "title": {
         "text": "Outer Fold 3 - Configuration Comparison"
        },
        "width": 800,
        "xaxis": {
         "title": {
          "text": "Configuration"
         }
        },
        "yaxis": {
         "title": {
          "text": "RMSE"
         }
        }
       }
      }
     },
     "metadata": {},
     "output_type": "display_data"
    },
    {
     "data": {
      "application/vnd.plotly.v1+json": {
       "config": {
        "plotlyServerURL": "https://plot.ly"
       },
       "data": [
        {
         "boxpoints": "all",
         "jitter": 0.3,
         "line": {
          "color": "rgb(7,40,89)"
         },
         "marker": {
          "color": "rgb(7,40,89)"
         },
         "type": "box",
         "x": [
          "Config 1\npop_size: 50\nactivation_default: ",
          "Config 1\npop_size: 50\nactivation_default: ",
          "Config 1\npop_size: 50\nactivation_default: ",
          "Config 2\npop_size: 50\nactivation_default: ",
          "Config 2\npop_size: 50\nactivation_default: ",
          "Config 2\npop_size: 50\nactivation_default: ",
          "Config 3\npop_size: 100\nactivation_default: ",
          "Config 3\npop_size: 100\nactivation_default: ",
          "Config 3\npop_size: 100\nactivation_default: ",
          "Config 4\npop_size: 100\nactivation_default: ",
          "Config 4\npop_size: 100\nactivation_default: ",
          "Config 4\npop_size: 100\nactivation_default: "
         ],
         "y": [
          0.7739189326167418,
          0.620773969357893,
          1.6885051770520072,
          0.6777462084449641,
          0.6375944352267264,
          1.4294458358918642,
          0.7481019024157621,
          0.6338678380144589,
          1.7036279420452645,
          0.5802058370552102,
          0.6240775890200502,
          1.4860921042177986
         ]
        },
        {
         "marker": {
          "color": "red",
          "size": 10
         },
         "mode": "markers",
         "name": "Best Config",
         "type": "scatter",
         "x": [],
         "y": []
        }
       ],
       "layout": {
        "height": 500,
        "showlegend": false,
        "template": {
         "data": {
          "bar": [
           {
            "error_x": {
             "color": "#2a3f5f"
            },
            "error_y": {
             "color": "#2a3f5f"
            },
            "marker": {
             "line": {
              "color": "#E5ECF6",
              "width": 0.5
             },
             "pattern": {
              "fillmode": "overlay",
              "size": 10,
              "solidity": 0.2
             }
            },
            "type": "bar"
           }
          ],
          "barpolar": [
           {
            "marker": {
             "line": {
              "color": "#E5ECF6",
              "width": 0.5
             },
             "pattern": {
              "fillmode": "overlay",
              "size": 10,
              "solidity": 0.2
             }
            },
            "type": "barpolar"
           }
          ],
          "carpet": [
           {
            "aaxis": {
             "endlinecolor": "#2a3f5f",
             "gridcolor": "white",
             "linecolor": "white",
             "minorgridcolor": "white",
             "startlinecolor": "#2a3f5f"
            },
            "baxis": {
             "endlinecolor": "#2a3f5f",
             "gridcolor": "white",
             "linecolor": "white",
             "minorgridcolor": "white",
             "startlinecolor": "#2a3f5f"
            },
            "type": "carpet"
           }
          ],
          "choropleth": [
           {
            "colorbar": {
             "outlinewidth": 0,
             "ticks": ""
            },
            "type": "choropleth"
           }
          ],
          "contour": [
           {
            "colorbar": {
             "outlinewidth": 0,
             "ticks": ""
            },
            "colorscale": [
             [
              0,
              "#0d0887"
             ],
             [
              0.1111111111111111,
              "#46039f"
             ],
             [
              0.2222222222222222,
              "#7201a8"
             ],
             [
              0.3333333333333333,
              "#9c179e"
             ],
             [
              0.4444444444444444,
              "#bd3786"
             ],
             [
              0.5555555555555556,
              "#d8576b"
             ],
             [
              0.6666666666666666,
              "#ed7953"
             ],
             [
              0.7777777777777778,
              "#fb9f3a"
             ],
             [
              0.8888888888888888,
              "#fdca26"
             ],
             [
              1,
              "#f0f921"
             ]
            ],
            "type": "contour"
           }
          ],
          "contourcarpet": [
           {
            "colorbar": {
             "outlinewidth": 0,
             "ticks": ""
            },
            "type": "contourcarpet"
           }
          ],
          "heatmap": [
           {
            "colorbar": {
             "outlinewidth": 0,
             "ticks": ""
            },
            "colorscale": [
             [
              0,
              "#0d0887"
             ],
             [
              0.1111111111111111,
              "#46039f"
             ],
             [
              0.2222222222222222,
              "#7201a8"
             ],
             [
              0.3333333333333333,
              "#9c179e"
             ],
             [
              0.4444444444444444,
              "#bd3786"
             ],
             [
              0.5555555555555556,
              "#d8576b"
             ],
             [
              0.6666666666666666,
              "#ed7953"
             ],
             [
              0.7777777777777778,
              "#fb9f3a"
             ],
             [
              0.8888888888888888,
              "#fdca26"
             ],
             [
              1,
              "#f0f921"
             ]
            ],
            "type": "heatmap"
           }
          ],
          "heatmapgl": [
           {
            "colorbar": {
             "outlinewidth": 0,
             "ticks": ""
            },
            "colorscale": [
             [
              0,
              "#0d0887"
             ],
             [
              0.1111111111111111,
              "#46039f"
             ],
             [
              0.2222222222222222,
              "#7201a8"
             ],
             [
              0.3333333333333333,
              "#9c179e"
             ],
             [
              0.4444444444444444,
              "#bd3786"
             ],
             [
              0.5555555555555556,
              "#d8576b"
             ],
             [
              0.6666666666666666,
              "#ed7953"
             ],
             [
              0.7777777777777778,
              "#fb9f3a"
             ],
             [
              0.8888888888888888,
              "#fdca26"
             ],
             [
              1,
              "#f0f921"
             ]
            ],
            "type": "heatmapgl"
           }
          ],
          "histogram": [
           {
            "marker": {
             "pattern": {
              "fillmode": "overlay",
              "size": 10,
              "solidity": 0.2
             }
            },
            "type": "histogram"
           }
          ],
          "histogram2d": [
           {
            "colorbar": {
             "outlinewidth": 0,
             "ticks": ""
            },
            "colorscale": [
             [
              0,
              "#0d0887"
             ],
             [
              0.1111111111111111,
              "#46039f"
             ],
             [
              0.2222222222222222,
              "#7201a8"
             ],
             [
              0.3333333333333333,
              "#9c179e"
             ],
             [
              0.4444444444444444,
              "#bd3786"
             ],
             [
              0.5555555555555556,
              "#d8576b"
             ],
             [
              0.6666666666666666,
              "#ed7953"
             ],
             [
              0.7777777777777778,
              "#fb9f3a"
             ],
             [
              0.8888888888888888,
              "#fdca26"
             ],
             [
              1,
              "#f0f921"
             ]
            ],
            "type": "histogram2d"
           }
          ],
          "histogram2dcontour": [
           {
            "colorbar": {
             "outlinewidth": 0,
             "ticks": ""
            },
            "colorscale": [
             [
              0,
              "#0d0887"
             ],
             [
              0.1111111111111111,
              "#46039f"
             ],
             [
              0.2222222222222222,
              "#7201a8"
             ],
             [
              0.3333333333333333,
              "#9c179e"
             ],
             [
              0.4444444444444444,
              "#bd3786"
             ],
             [
              0.5555555555555556,
              "#d8576b"
             ],
             [
              0.6666666666666666,
              "#ed7953"
             ],
             [
              0.7777777777777778,
              "#fb9f3a"
             ],
             [
              0.8888888888888888,
              "#fdca26"
             ],
             [
              1,
              "#f0f921"
             ]
            ],
            "type": "histogram2dcontour"
           }
          ],
          "mesh3d": [
           {
            "colorbar": {
             "outlinewidth": 0,
             "ticks": ""
            },
            "type": "mesh3d"
           }
          ],
          "parcoords": [
           {
            "line": {
             "colorbar": {
              "outlinewidth": 0,
              "ticks": ""
             }
            },
            "type": "parcoords"
           }
          ],
          "pie": [
           {
            "automargin": true,
            "type": "pie"
           }
          ],
          "scatter": [
           {
            "fillpattern": {
             "fillmode": "overlay",
             "size": 10,
             "solidity": 0.2
            },
            "type": "scatter"
           }
          ],
          "scatter3d": [
           {
            "line": {
             "colorbar": {
              "outlinewidth": 0,
              "ticks": ""
             }
            },
            "marker": {
             "colorbar": {
              "outlinewidth": 0,
              "ticks": ""
             }
            },
            "type": "scatter3d"
           }
          ],
          "scattercarpet": [
           {
            "marker": {
             "colorbar": {
              "outlinewidth": 0,
              "ticks": ""
             }
            },
            "type": "scattercarpet"
           }
          ],
          "scattergeo": [
           {
            "marker": {
             "colorbar": {
              "outlinewidth": 0,
              "ticks": ""
             }
            },
            "type": "scattergeo"
           }
          ],
          "scattergl": [
           {
            "marker": {
             "colorbar": {
              "outlinewidth": 0,
              "ticks": ""
             }
            },
            "type": "scattergl"
           }
          ],
          "scattermapbox": [
           {
            "marker": {
             "colorbar": {
              "outlinewidth": 0,
              "ticks": ""
             }
            },
            "type": "scattermapbox"
           }
          ],
          "scatterpolar": [
           {
            "marker": {
             "colorbar": {
              "outlinewidth": 0,
              "ticks": ""
             }
            },
            "type": "scatterpolar"
           }
          ],
          "scatterpolargl": [
           {
            "marker": {
             "colorbar": {
              "outlinewidth": 0,
              "ticks": ""
             }
            },
            "type": "scatterpolargl"
           }
          ],
          "scatterternary": [
           {
            "marker": {
             "colorbar": {
              "outlinewidth": 0,
              "ticks": ""
             }
            },
            "type": "scatterternary"
           }
          ],
          "surface": [
           {
            "colorbar": {
             "outlinewidth": 0,
             "ticks": ""
            },
            "colorscale": [
             [
              0,
              "#0d0887"
             ],
             [
              0.1111111111111111,
              "#46039f"
             ],
             [
              0.2222222222222222,
              "#7201a8"
             ],
             [
              0.3333333333333333,
              "#9c179e"
             ],
             [
              0.4444444444444444,
              "#bd3786"
             ],
             [
              0.5555555555555556,
              "#d8576b"
             ],
             [
              0.6666666666666666,
              "#ed7953"
             ],
             [
              0.7777777777777778,
              "#fb9f3a"
             ],
             [
              0.8888888888888888,
              "#fdca26"
             ],
             [
              1,
              "#f0f921"
             ]
            ],
            "type": "surface"
           }
          ],
          "table": [
           {
            "cells": {
             "fill": {
              "color": "#EBF0F8"
             },
             "line": {
              "color": "white"
             }
            },
            "header": {
             "fill": {
              "color": "#C8D4E3"
             },
             "line": {
              "color": "white"
             }
            },
            "type": "table"
           }
          ]
         },
         "layout": {
          "annotationdefaults": {
           "arrowcolor": "#2a3f5f",
           "arrowhead": 0,
           "arrowwidth": 1
          },
          "autotypenumbers": "strict",
          "coloraxis": {
           "colorbar": {
            "outlinewidth": 0,
            "ticks": ""
           }
          },
          "colorscale": {
           "diverging": [
            [
             0,
             "#8e0152"
            ],
            [
             0.1,
             "#c51b7d"
            ],
            [
             0.2,
             "#de77ae"
            ],
            [
             0.3,
             "#f1b6da"
            ],
            [
             0.4,
             "#fde0ef"
            ],
            [
             0.5,
             "#f7f7f7"
            ],
            [
             0.6,
             "#e6f5d0"
            ],
            [
             0.7,
             "#b8e186"
            ],
            [
             0.8,
             "#7fbc41"
            ],
            [
             0.9,
             "#4d9221"
            ],
            [
             1,
             "#276419"
            ]
           ],
           "sequential": [
            [
             0,
             "#0d0887"
            ],
            [
             0.1111111111111111,
             "#46039f"
            ],
            [
             0.2222222222222222,
             "#7201a8"
            ],
            [
             0.3333333333333333,
             "#9c179e"
            ],
            [
             0.4444444444444444,
             "#bd3786"
            ],
            [
             0.5555555555555556,
             "#d8576b"
            ],
            [
             0.6666666666666666,
             "#ed7953"
            ],
            [
             0.7777777777777778,
             "#fb9f3a"
            ],
            [
             0.8888888888888888,
             "#fdca26"
            ],
            [
             1,
             "#f0f921"
            ]
           ],
           "sequentialminus": [
            [
             0,
             "#0d0887"
            ],
            [
             0.1111111111111111,
             "#46039f"
            ],
            [
             0.2222222222222222,
             "#7201a8"
            ],
            [
             0.3333333333333333,
             "#9c179e"
            ],
            [
             0.4444444444444444,
             "#bd3786"
            ],
            [
             0.5555555555555556,
             "#d8576b"
            ],
            [
             0.6666666666666666,
             "#ed7953"
            ],
            [
             0.7777777777777778,
             "#fb9f3a"
            ],
            [
             0.8888888888888888,
             "#fdca26"
            ],
            [
             1,
             "#f0f921"
            ]
           ]
          },
          "colorway": [
           "#636efa",
           "#EF553B",
           "#00cc96",
           "#ab63fa",
           "#FFA15A",
           "#19d3f3",
           "#FF6692",
           "#B6E880",
           "#FF97FF",
           "#FECB52"
          ],
          "font": {
           "color": "#2a3f5f"
          },
          "geo": {
           "bgcolor": "white",
           "lakecolor": "white",
           "landcolor": "#E5ECF6",
           "showlakes": true,
           "showland": true,
           "subunitcolor": "white"
          },
          "hoverlabel": {
           "align": "left"
          },
          "hovermode": "closest",
          "mapbox": {
           "style": "light"
          },
          "paper_bgcolor": "white",
          "plot_bgcolor": "#E5ECF6",
          "polar": {
           "angularaxis": {
            "gridcolor": "white",
            "linecolor": "white",
            "ticks": ""
           },
           "bgcolor": "#E5ECF6",
           "radialaxis": {
            "gridcolor": "white",
            "linecolor": "white",
            "ticks": ""
           }
          },
          "scene": {
           "xaxis": {
            "backgroundcolor": "#E5ECF6",
            "gridcolor": "white",
            "gridwidth": 2,
            "linecolor": "white",
            "showbackground": true,
            "ticks": "",
            "zerolinecolor": "white"
           },
           "yaxis": {
            "backgroundcolor": "#E5ECF6",
            "gridcolor": "white",
            "gridwidth": 2,
            "linecolor": "white",
            "showbackground": true,
            "ticks": "",
            "zerolinecolor": "white"
           },
           "zaxis": {
            "backgroundcolor": "#E5ECF6",
            "gridcolor": "white",
            "gridwidth": 2,
            "linecolor": "white",
            "showbackground": true,
            "ticks": "",
            "zerolinecolor": "white"
           }
          },
          "shapedefaults": {
           "line": {
            "color": "#2a3f5f"
           }
          },
          "ternary": {
           "aaxis": {
            "gridcolor": "white",
            "linecolor": "white",
            "ticks": ""
           },
           "baxis": {
            "gridcolor": "white",
            "linecolor": "white",
            "ticks": ""
           },
           "bgcolor": "#E5ECF6",
           "caxis": {
            "gridcolor": "white",
            "linecolor": "white",
            "ticks": ""
           }
          },
          "title": {
           "x": 0.05
          },
          "xaxis": {
           "automargin": true,
           "gridcolor": "white",
           "linecolor": "white",
           "ticks": "",
           "title": {
            "standoff": 15
           },
           "zerolinecolor": "white",
           "zerolinewidth": 2
          },
          "yaxis": {
           "automargin": true,
           "gridcolor": "white",
           "linecolor": "white",
           "ticks": "",
           "title": {
            "standoff": 15
           },
           "zerolinecolor": "white",
           "zerolinewidth": 2
          }
         }
        },
        "title": {
         "text": "Outer Fold 4 - Configuration Comparison"
        },
        "width": 800,
        "xaxis": {
         "title": {
          "text": "Configuration"
         }
        },
        "yaxis": {
         "title": {
          "text": "RMSE"
         }
        }
       }
      }
     },
     "metadata": {},
     "output_type": "display_data"
    },
    {
     "data": {
      "application/vnd.plotly.v1+json": {
       "config": {
        "plotlyServerURL": "https://plot.ly"
       },
       "data": [
        {
         "boxpoints": "all",
         "jitter": 0.3,
         "line": {
          "color": "rgb(7,40,89)"
         },
         "marker": {
          "color": "rgb(7,40,89)"
         },
         "type": "box",
         "x": [
          "Config 1\npop_size: 50\nactivation_default: ",
          "Config 1\npop_size: 50\nactivation_default: ",
          "Config 1\npop_size: 50\nactivation_default: ",
          "Config 2\npop_size: 50\nactivation_default: ",
          "Config 2\npop_size: 50\nactivation_default: ",
          "Config 2\npop_size: 50\nactivation_default: ",
          "Config 3\npop_size: 100\nactivation_default: ",
          "Config 3\npop_size: 100\nactivation_default: ",
          "Config 3\npop_size: 100\nactivation_default: ",
          "Config 4\npop_size: 100\nactivation_default: ",
          "Config 4\npop_size: 100\nactivation_default: ",
          "Config 4\npop_size: 100\nactivation_default: "
         ],
         "y": [
          1.9263273897747304,
          0.5976584214222435,
          1.1484381049605357,
          1.7405875611541335,
          0.6249222173150764,
          0.8161520726906768,
          1.9273918360487423,
          0.5730673632433521,
          1.1694438847250594,
          1.6828392135791292,
          0.6521300859360831,
          0.86109800503456
         ]
        },
        {
         "marker": {
          "color": "red",
          "size": 10
         },
         "mode": "markers",
         "name": "Best Config",
         "type": "scatter",
         "x": [],
         "y": []
        }
       ],
       "layout": {
        "height": 500,
        "showlegend": false,
        "template": {
         "data": {
          "bar": [
           {
            "error_x": {
             "color": "#2a3f5f"
            },
            "error_y": {
             "color": "#2a3f5f"
            },
            "marker": {
             "line": {
              "color": "#E5ECF6",
              "width": 0.5
             },
             "pattern": {
              "fillmode": "overlay",
              "size": 10,
              "solidity": 0.2
             }
            },
            "type": "bar"
           }
          ],
          "barpolar": [
           {
            "marker": {
             "line": {
              "color": "#E5ECF6",
              "width": 0.5
             },
             "pattern": {
              "fillmode": "overlay",
              "size": 10,
              "solidity": 0.2
             }
            },
            "type": "barpolar"
           }
          ],
          "carpet": [
           {
            "aaxis": {
             "endlinecolor": "#2a3f5f",
             "gridcolor": "white",
             "linecolor": "white",
             "minorgridcolor": "white",
             "startlinecolor": "#2a3f5f"
            },
            "baxis": {
             "endlinecolor": "#2a3f5f",
             "gridcolor": "white",
             "linecolor": "white",
             "minorgridcolor": "white",
             "startlinecolor": "#2a3f5f"
            },
            "type": "carpet"
           }
          ],
          "choropleth": [
           {
            "colorbar": {
             "outlinewidth": 0,
             "ticks": ""
            },
            "type": "choropleth"
           }
          ],
          "contour": [
           {
            "colorbar": {
             "outlinewidth": 0,
             "ticks": ""
            },
            "colorscale": [
             [
              0,
              "#0d0887"
             ],
             [
              0.1111111111111111,
              "#46039f"
             ],
             [
              0.2222222222222222,
              "#7201a8"
             ],
             [
              0.3333333333333333,
              "#9c179e"
             ],
             [
              0.4444444444444444,
              "#bd3786"
             ],
             [
              0.5555555555555556,
              "#d8576b"
             ],
             [
              0.6666666666666666,
              "#ed7953"
             ],
             [
              0.7777777777777778,
              "#fb9f3a"
             ],
             [
              0.8888888888888888,
              "#fdca26"
             ],
             [
              1,
              "#f0f921"
             ]
            ],
            "type": "contour"
           }
          ],
          "contourcarpet": [
           {
            "colorbar": {
             "outlinewidth": 0,
             "ticks": ""
            },
            "type": "contourcarpet"
           }
          ],
          "heatmap": [
           {
            "colorbar": {
             "outlinewidth": 0,
             "ticks": ""
            },
            "colorscale": [
             [
              0,
              "#0d0887"
             ],
             [
              0.1111111111111111,
              "#46039f"
             ],
             [
              0.2222222222222222,
              "#7201a8"
             ],
             [
              0.3333333333333333,
              "#9c179e"
             ],
             [
              0.4444444444444444,
              "#bd3786"
             ],
             [
              0.5555555555555556,
              "#d8576b"
             ],
             [
              0.6666666666666666,
              "#ed7953"
             ],
             [
              0.7777777777777778,
              "#fb9f3a"
             ],
             [
              0.8888888888888888,
              "#fdca26"
             ],
             [
              1,
              "#f0f921"
             ]
            ],
            "type": "heatmap"
           }
          ],
          "heatmapgl": [
           {
            "colorbar": {
             "outlinewidth": 0,
             "ticks": ""
            },
            "colorscale": [
             [
              0,
              "#0d0887"
             ],
             [
              0.1111111111111111,
              "#46039f"
             ],
             [
              0.2222222222222222,
              "#7201a8"
             ],
             [
              0.3333333333333333,
              "#9c179e"
             ],
             [
              0.4444444444444444,
              "#bd3786"
             ],
             [
              0.5555555555555556,
              "#d8576b"
             ],
             [
              0.6666666666666666,
              "#ed7953"
             ],
             [
              0.7777777777777778,
              "#fb9f3a"
             ],
             [
              0.8888888888888888,
              "#fdca26"
             ],
             [
              1,
              "#f0f921"
             ]
            ],
            "type": "heatmapgl"
           }
          ],
          "histogram": [
           {
            "marker": {
             "pattern": {
              "fillmode": "overlay",
              "size": 10,
              "solidity": 0.2
             }
            },
            "type": "histogram"
           }
          ],
          "histogram2d": [
           {
            "colorbar": {
             "outlinewidth": 0,
             "ticks": ""
            },
            "colorscale": [
             [
              0,
              "#0d0887"
             ],
             [
              0.1111111111111111,
              "#46039f"
             ],
             [
              0.2222222222222222,
              "#7201a8"
             ],
             [
              0.3333333333333333,
              "#9c179e"
             ],
             [
              0.4444444444444444,
              "#bd3786"
             ],
             [
              0.5555555555555556,
              "#d8576b"
             ],
             [
              0.6666666666666666,
              "#ed7953"
             ],
             [
              0.7777777777777778,
              "#fb9f3a"
             ],
             [
              0.8888888888888888,
              "#fdca26"
             ],
             [
              1,
              "#f0f921"
             ]
            ],
            "type": "histogram2d"
           }
          ],
          "histogram2dcontour": [
           {
            "colorbar": {
             "outlinewidth": 0,
             "ticks": ""
            },
            "colorscale": [
             [
              0,
              "#0d0887"
             ],
             [
              0.1111111111111111,
              "#46039f"
             ],
             [
              0.2222222222222222,
              "#7201a8"
             ],
             [
              0.3333333333333333,
              "#9c179e"
             ],
             [
              0.4444444444444444,
              "#bd3786"
             ],
             [
              0.5555555555555556,
              "#d8576b"
             ],
             [
              0.6666666666666666,
              "#ed7953"
             ],
             [
              0.7777777777777778,
              "#fb9f3a"
             ],
             [
              0.8888888888888888,
              "#fdca26"
             ],
             [
              1,
              "#f0f921"
             ]
            ],
            "type": "histogram2dcontour"
           }
          ],
          "mesh3d": [
           {
            "colorbar": {
             "outlinewidth": 0,
             "ticks": ""
            },
            "type": "mesh3d"
           }
          ],
          "parcoords": [
           {
            "line": {
             "colorbar": {
              "outlinewidth": 0,
              "ticks": ""
             }
            },
            "type": "parcoords"
           }
          ],
          "pie": [
           {
            "automargin": true,
            "type": "pie"
           }
          ],
          "scatter": [
           {
            "fillpattern": {
             "fillmode": "overlay",
             "size": 10,
             "solidity": 0.2
            },
            "type": "scatter"
           }
          ],
          "scatter3d": [
           {
            "line": {
             "colorbar": {
              "outlinewidth": 0,
              "ticks": ""
             }
            },
            "marker": {
             "colorbar": {
              "outlinewidth": 0,
              "ticks": ""
             }
            },
            "type": "scatter3d"
           }
          ],
          "scattercarpet": [
           {
            "marker": {
             "colorbar": {
              "outlinewidth": 0,
              "ticks": ""
             }
            },
            "type": "scattercarpet"
           }
          ],
          "scattergeo": [
           {
            "marker": {
             "colorbar": {
              "outlinewidth": 0,
              "ticks": ""
             }
            },
            "type": "scattergeo"
           }
          ],
          "scattergl": [
           {
            "marker": {
             "colorbar": {
              "outlinewidth": 0,
              "ticks": ""
             }
            },
            "type": "scattergl"
           }
          ],
          "scattermapbox": [
           {
            "marker": {
             "colorbar": {
              "outlinewidth": 0,
              "ticks": ""
             }
            },
            "type": "scattermapbox"
           }
          ],
          "scatterpolar": [
           {
            "marker": {
             "colorbar": {
              "outlinewidth": 0,
              "ticks": ""
             }
            },
            "type": "scatterpolar"
           }
          ],
          "scatterpolargl": [
           {
            "marker": {
             "colorbar": {
              "outlinewidth": 0,
              "ticks": ""
             }
            },
            "type": "scatterpolargl"
           }
          ],
          "scatterternary": [
           {
            "marker": {
             "colorbar": {
              "outlinewidth": 0,
              "ticks": ""
             }
            },
            "type": "scatterternary"
           }
          ],
          "surface": [
           {
            "colorbar": {
             "outlinewidth": 0,
             "ticks": ""
            },
            "colorscale": [
             [
              0,
              "#0d0887"
             ],
             [
              0.1111111111111111,
              "#46039f"
             ],
             [
              0.2222222222222222,
              "#7201a8"
             ],
             [
              0.3333333333333333,
              "#9c179e"
             ],
             [
              0.4444444444444444,
              "#bd3786"
             ],
             [
              0.5555555555555556,
              "#d8576b"
             ],
             [
              0.6666666666666666,
              "#ed7953"
             ],
             [
              0.7777777777777778,
              "#fb9f3a"
             ],
             [
              0.8888888888888888,
              "#fdca26"
             ],
             [
              1,
              "#f0f921"
             ]
            ],
            "type": "surface"
           }
          ],
          "table": [
           {
            "cells": {
             "fill": {
              "color": "#EBF0F8"
             },
             "line": {
              "color": "white"
             }
            },
            "header": {
             "fill": {
              "color": "#C8D4E3"
             },
             "line": {
              "color": "white"
             }
            },
            "type": "table"
           }
          ]
         },
         "layout": {
          "annotationdefaults": {
           "arrowcolor": "#2a3f5f",
           "arrowhead": 0,
           "arrowwidth": 1
          },
          "autotypenumbers": "strict",
          "coloraxis": {
           "colorbar": {
            "outlinewidth": 0,
            "ticks": ""
           }
          },
          "colorscale": {
           "diverging": [
            [
             0,
             "#8e0152"
            ],
            [
             0.1,
             "#c51b7d"
            ],
            [
             0.2,
             "#de77ae"
            ],
            [
             0.3,
             "#f1b6da"
            ],
            [
             0.4,
             "#fde0ef"
            ],
            [
             0.5,
             "#f7f7f7"
            ],
            [
             0.6,
             "#e6f5d0"
            ],
            [
             0.7,
             "#b8e186"
            ],
            [
             0.8,
             "#7fbc41"
            ],
            [
             0.9,
             "#4d9221"
            ],
            [
             1,
             "#276419"
            ]
           ],
           "sequential": [
            [
             0,
             "#0d0887"
            ],
            [
             0.1111111111111111,
             "#46039f"
            ],
            [
             0.2222222222222222,
             "#7201a8"
            ],
            [
             0.3333333333333333,
             "#9c179e"
            ],
            [
             0.4444444444444444,
             "#bd3786"
            ],
            [
             0.5555555555555556,
             "#d8576b"
            ],
            [
             0.6666666666666666,
             "#ed7953"
            ],
            [
             0.7777777777777778,
             "#fb9f3a"
            ],
            [
             0.8888888888888888,
             "#fdca26"
            ],
            [
             1,
             "#f0f921"
            ]
           ],
           "sequentialminus": [
            [
             0,
             "#0d0887"
            ],
            [
             0.1111111111111111,
             "#46039f"
            ],
            [
             0.2222222222222222,
             "#7201a8"
            ],
            [
             0.3333333333333333,
             "#9c179e"
            ],
            [
             0.4444444444444444,
             "#bd3786"
            ],
            [
             0.5555555555555556,
             "#d8576b"
            ],
            [
             0.6666666666666666,
             "#ed7953"
            ],
            [
             0.7777777777777778,
             "#fb9f3a"
            ],
            [
             0.8888888888888888,
             "#fdca26"
            ],
            [
             1,
             "#f0f921"
            ]
           ]
          },
          "colorway": [
           "#636efa",
           "#EF553B",
           "#00cc96",
           "#ab63fa",
           "#FFA15A",
           "#19d3f3",
           "#FF6692",
           "#B6E880",
           "#FF97FF",
           "#FECB52"
          ],
          "font": {
           "color": "#2a3f5f"
          },
          "geo": {
           "bgcolor": "white",
           "lakecolor": "white",
           "landcolor": "#E5ECF6",
           "showlakes": true,
           "showland": true,
           "subunitcolor": "white"
          },
          "hoverlabel": {
           "align": "left"
          },
          "hovermode": "closest",
          "mapbox": {
           "style": "light"
          },
          "paper_bgcolor": "white",
          "plot_bgcolor": "#E5ECF6",
          "polar": {
           "angularaxis": {
            "gridcolor": "white",
            "linecolor": "white",
            "ticks": ""
           },
           "bgcolor": "#E5ECF6",
           "radialaxis": {
            "gridcolor": "white",
            "linecolor": "white",
            "ticks": ""
           }
          },
          "scene": {
           "xaxis": {
            "backgroundcolor": "#E5ECF6",
            "gridcolor": "white",
            "gridwidth": 2,
            "linecolor": "white",
            "showbackground": true,
            "ticks": "",
            "zerolinecolor": "white"
           },
           "yaxis": {
            "backgroundcolor": "#E5ECF6",
            "gridcolor": "white",
            "gridwidth": 2,
            "linecolor": "white",
            "showbackground": true,
            "ticks": "",
            "zerolinecolor": "white"
           },
           "zaxis": {
            "backgroundcolor": "#E5ECF6",
            "gridcolor": "white",
            "gridwidth": 2,
            "linecolor": "white",
            "showbackground": true,
            "ticks": "",
            "zerolinecolor": "white"
           }
          },
          "shapedefaults": {
           "line": {
            "color": "#2a3f5f"
           }
          },
          "ternary": {
           "aaxis": {
            "gridcolor": "white",
            "linecolor": "white",
            "ticks": ""
           },
           "baxis": {
            "gridcolor": "white",
            "linecolor": "white",
            "ticks": ""
           },
           "bgcolor": "#E5ECF6",
           "caxis": {
            "gridcolor": "white",
            "linecolor": "white",
            "ticks": ""
           }
          },
          "title": {
           "x": 0.05
          },
          "xaxis": {
           "automargin": true,
           "gridcolor": "white",
           "linecolor": "white",
           "ticks": "",
           "title": {
            "standoff": 15
           },
           "zerolinecolor": "white",
           "zerolinewidth": 2
          },
          "yaxis": {
           "automargin": true,
           "gridcolor": "white",
           "linecolor": "white",
           "ticks": "",
           "title": {
            "standoff": 15
           },
           "zerolinecolor": "white",
           "zerolinewidth": 2
          }
         }
        },
        "title": {
         "text": "Outer Fold 5 - Configuration Comparison"
        },
        "width": 800,
        "xaxis": {
         "title": {
          "text": "Configuration"
         }
        },
        "yaxis": {
         "title": {
          "text": "RMSE"
         }
        }
       }
      }
     },
     "metadata": {},
     "output_type": "display_data"
    }
   ],
   "source": [
    "# 3. Create Configuration Comparison Plots\n",
    "def create_configuration_plots(df_results, best_models):\n",
    "    # Get unique configurations\n",
    "    unique_configs = df_results['config'].unique()\n",
    "    config_dicts = [ast.literal_eval(conf) for conf in unique_configs]\n",
    "    \n",
    "    for fold_idx in df_results['outer_fold'].unique():\n",
    "        df_fold = df_results[df_results['outer_fold'] == fold_idx].copy()\n",
    "        \n",
    "        # Create labels\n",
    "        config_labels = {\n",
    "            i: f\"Config {i+1}\\n\" + \"\\n\".join([f\"{k}: {v}\"[:20] for k, v in config_dicts[i].items()])\n",
    "            for i in range(len(config_dicts))\n",
    "        }\n",
    "        df_fold['config_label'] = df_fold['config'].apply(\n",
    "            lambda x: config_labels[list(unique_configs).index(x)])\n",
    "        \n",
    "        # Find best config\n",
    "        best_config_str = json.dumps(best_models[fold_idx-1])\n",
    "        best_mask = df_fold['config'] == best_config_str\n",
    "        \n",
    "        # Create plot\n",
    "        fig = go.Figure()\n",
    "        fig.add_trace(go.Box(\n",
    "            x=df_fold['config_label'],\n",
    "            y=df_fold['rmse'],\n",
    "            boxpoints='all',\n",
    "            jitter=0.3,\n",
    "            marker_color='rgb(7,40,89)',\n",
    "            line_color='rgb(7,40,89)'\n",
    "        ))\n",
    "        \n",
    "        # Highlight best\n",
    "        fig.add_trace(go.Scatter(\n",
    "            x=df_fold[best_mask]['config_label'],\n",
    "            y=df_fold[best_mask]['rmse'],\n",
    "            mode='markers',\n",
    "            marker=dict(color='red', size=10),\n",
    "            name='Best Config'\n",
    "        ))\n",
    "        \n",
    "        fig.update_layout(\n",
    "            title=f'Outer Fold {fold_idx} - Configuration Comparison',\n",
    "            yaxis_title='RMSE',\n",
    "            xaxis_title='Configuration',\n",
    "            width=800,\n",
    "            height=500,\n",
    "            showlegend=False\n",
    "        )\n",
    "        fig.show()\n",
    "\n",
    "create_configuration_plots(df_results, best_models)"
   ]
  },
  {
   "cell_type": "code",
   "execution_count": 37,
   "id": "aff77368",
   "metadata": {},
   "outputs": [
    {
     "data": {
      "application/vnd.plotly.v1+json": {
       "config": {
        "plotlyServerURL": "https://plot.ly"
       },
       "data": [
        {
         "line": {
          "color": "royalblue",
          "width": 2
         },
         "marker": {
          "size": 10
         },
         "mode": "lines+markers",
         "type": "scatter",
         "x": [
          1,
          2,
          3,
          4,
          5
         ],
         "y": [
          0.8879007183962805,
          0.5071150387027682,
          1.5503397667478496,
          0.5284012700078958,
          0.563876182889091
         ]
        }
       ],
       "layout": {
        "annotations": [
         {
          "showarrow": false,
          "text": "Mean RMSE: 0.8075",
          "x": 1,
          "xanchor": "right",
          "xref": "x domain",
          "y": 0.807526595348777,
          "yanchor": "top",
          "yref": "y"
         }
        ],
        "height": 400,
        "shapes": [
         {
          "line": {
           "dash": "dot"
          },
          "type": "line",
          "x0": 0,
          "x1": 1,
          "xref": "x domain",
          "y0": 0.807526595348777,
          "y1": 0.807526595348777,
          "yref": "y"
         }
        ],
        "template": {
         "data": {
          "bar": [
           {
            "error_x": {
             "color": "#2a3f5f"
            },
            "error_y": {
             "color": "#2a3f5f"
            },
            "marker": {
             "line": {
              "color": "#E5ECF6",
              "width": 0.5
             },
             "pattern": {
              "fillmode": "overlay",
              "size": 10,
              "solidity": 0.2
             }
            },
            "type": "bar"
           }
          ],
          "barpolar": [
           {
            "marker": {
             "line": {
              "color": "#E5ECF6",
              "width": 0.5
             },
             "pattern": {
              "fillmode": "overlay",
              "size": 10,
              "solidity": 0.2
             }
            },
            "type": "barpolar"
           }
          ],
          "carpet": [
           {
            "aaxis": {
             "endlinecolor": "#2a3f5f",
             "gridcolor": "white",
             "linecolor": "white",
             "minorgridcolor": "white",
             "startlinecolor": "#2a3f5f"
            },
            "baxis": {
             "endlinecolor": "#2a3f5f",
             "gridcolor": "white",
             "linecolor": "white",
             "minorgridcolor": "white",
             "startlinecolor": "#2a3f5f"
            },
            "type": "carpet"
           }
          ],
          "choropleth": [
           {
            "colorbar": {
             "outlinewidth": 0,
             "ticks": ""
            },
            "type": "choropleth"
           }
          ],
          "contour": [
           {
            "colorbar": {
             "outlinewidth": 0,
             "ticks": ""
            },
            "colorscale": [
             [
              0,
              "#0d0887"
             ],
             [
              0.1111111111111111,
              "#46039f"
             ],
             [
              0.2222222222222222,
              "#7201a8"
             ],
             [
              0.3333333333333333,
              "#9c179e"
             ],
             [
              0.4444444444444444,
              "#bd3786"
             ],
             [
              0.5555555555555556,
              "#d8576b"
             ],
             [
              0.6666666666666666,
              "#ed7953"
             ],
             [
              0.7777777777777778,
              "#fb9f3a"
             ],
             [
              0.8888888888888888,
              "#fdca26"
             ],
             [
              1,
              "#f0f921"
             ]
            ],
            "type": "contour"
           }
          ],
          "contourcarpet": [
           {
            "colorbar": {
             "outlinewidth": 0,
             "ticks": ""
            },
            "type": "contourcarpet"
           }
          ],
          "heatmap": [
           {
            "colorbar": {
             "outlinewidth": 0,
             "ticks": ""
            },
            "colorscale": [
             [
              0,
              "#0d0887"
             ],
             [
              0.1111111111111111,
              "#46039f"
             ],
             [
              0.2222222222222222,
              "#7201a8"
             ],
             [
              0.3333333333333333,
              "#9c179e"
             ],
             [
              0.4444444444444444,
              "#bd3786"
             ],
             [
              0.5555555555555556,
              "#d8576b"
             ],
             [
              0.6666666666666666,
              "#ed7953"
             ],
             [
              0.7777777777777778,
              "#fb9f3a"
             ],
             [
              0.8888888888888888,
              "#fdca26"
             ],
             [
              1,
              "#f0f921"
             ]
            ],
            "type": "heatmap"
           }
          ],
          "heatmapgl": [
           {
            "colorbar": {
             "outlinewidth": 0,
             "ticks": ""
            },
            "colorscale": [
             [
              0,
              "#0d0887"
             ],
             [
              0.1111111111111111,
              "#46039f"
             ],
             [
              0.2222222222222222,
              "#7201a8"
             ],
             [
              0.3333333333333333,
              "#9c179e"
             ],
             [
              0.4444444444444444,
              "#bd3786"
             ],
             [
              0.5555555555555556,
              "#d8576b"
             ],
             [
              0.6666666666666666,
              "#ed7953"
             ],
             [
              0.7777777777777778,
              "#fb9f3a"
             ],
             [
              0.8888888888888888,
              "#fdca26"
             ],
             [
              1,
              "#f0f921"
             ]
            ],
            "type": "heatmapgl"
           }
          ],
          "histogram": [
           {
            "marker": {
             "pattern": {
              "fillmode": "overlay",
              "size": 10,
              "solidity": 0.2
             }
            },
            "type": "histogram"
           }
          ],
          "histogram2d": [
           {
            "colorbar": {
             "outlinewidth": 0,
             "ticks": ""
            },
            "colorscale": [
             [
              0,
              "#0d0887"
             ],
             [
              0.1111111111111111,
              "#46039f"
             ],
             [
              0.2222222222222222,
              "#7201a8"
             ],
             [
              0.3333333333333333,
              "#9c179e"
             ],
             [
              0.4444444444444444,
              "#bd3786"
             ],
             [
              0.5555555555555556,
              "#d8576b"
             ],
             [
              0.6666666666666666,
              "#ed7953"
             ],
             [
              0.7777777777777778,
              "#fb9f3a"
             ],
             [
              0.8888888888888888,
              "#fdca26"
             ],
             [
              1,
              "#f0f921"
             ]
            ],
            "type": "histogram2d"
           }
          ],
          "histogram2dcontour": [
           {
            "colorbar": {
             "outlinewidth": 0,
             "ticks": ""
            },
            "colorscale": [
             [
              0,
              "#0d0887"
             ],
             [
              0.1111111111111111,
              "#46039f"
             ],
             [
              0.2222222222222222,
              "#7201a8"
             ],
             [
              0.3333333333333333,
              "#9c179e"
             ],
             [
              0.4444444444444444,
              "#bd3786"
             ],
             [
              0.5555555555555556,
              "#d8576b"
             ],
             [
              0.6666666666666666,
              "#ed7953"
             ],
             [
              0.7777777777777778,
              "#fb9f3a"
             ],
             [
              0.8888888888888888,
              "#fdca26"
             ],
             [
              1,
              "#f0f921"
             ]
            ],
            "type": "histogram2dcontour"
           }
          ],
          "mesh3d": [
           {
            "colorbar": {
             "outlinewidth": 0,
             "ticks": ""
            },
            "type": "mesh3d"
           }
          ],
          "parcoords": [
           {
            "line": {
             "colorbar": {
              "outlinewidth": 0,
              "ticks": ""
             }
            },
            "type": "parcoords"
           }
          ],
          "pie": [
           {
            "automargin": true,
            "type": "pie"
           }
          ],
          "scatter": [
           {
            "fillpattern": {
             "fillmode": "overlay",
             "size": 10,
             "solidity": 0.2
            },
            "type": "scatter"
           }
          ],
          "scatter3d": [
           {
            "line": {
             "colorbar": {
              "outlinewidth": 0,
              "ticks": ""
             }
            },
            "marker": {
             "colorbar": {
              "outlinewidth": 0,
              "ticks": ""
             }
            },
            "type": "scatter3d"
           }
          ],
          "scattercarpet": [
           {
            "marker": {
             "colorbar": {
              "outlinewidth": 0,
              "ticks": ""
             }
            },
            "type": "scattercarpet"
           }
          ],
          "scattergeo": [
           {
            "marker": {
             "colorbar": {
              "outlinewidth": 0,
              "ticks": ""
             }
            },
            "type": "scattergeo"
           }
          ],
          "scattergl": [
           {
            "marker": {
             "colorbar": {
              "outlinewidth": 0,
              "ticks": ""
             }
            },
            "type": "scattergl"
           }
          ],
          "scattermapbox": [
           {
            "marker": {
             "colorbar": {
              "outlinewidth": 0,
              "ticks": ""
             }
            },
            "type": "scattermapbox"
           }
          ],
          "scatterpolar": [
           {
            "marker": {
             "colorbar": {
              "outlinewidth": 0,
              "ticks": ""
             }
            },
            "type": "scatterpolar"
           }
          ],
          "scatterpolargl": [
           {
            "marker": {
             "colorbar": {
              "outlinewidth": 0,
              "ticks": ""
             }
            },
            "type": "scatterpolargl"
           }
          ],
          "scatterternary": [
           {
            "marker": {
             "colorbar": {
              "outlinewidth": 0,
              "ticks": ""
             }
            },
            "type": "scatterternary"
           }
          ],
          "surface": [
           {
            "colorbar": {
             "outlinewidth": 0,
             "ticks": ""
            },
            "colorscale": [
             [
              0,
              "#0d0887"
             ],
             [
              0.1111111111111111,
              "#46039f"
             ],
             [
              0.2222222222222222,
              "#7201a8"
             ],
             [
              0.3333333333333333,
              "#9c179e"
             ],
             [
              0.4444444444444444,
              "#bd3786"
             ],
             [
              0.5555555555555556,
              "#d8576b"
             ],
             [
              0.6666666666666666,
              "#ed7953"
             ],
             [
              0.7777777777777778,
              "#fb9f3a"
             ],
             [
              0.8888888888888888,
              "#fdca26"
             ],
             [
              1,
              "#f0f921"
             ]
            ],
            "type": "surface"
           }
          ],
          "table": [
           {
            "cells": {
             "fill": {
              "color": "#EBF0F8"
             },
             "line": {
              "color": "white"
             }
            },
            "header": {
             "fill": {
              "color": "#C8D4E3"
             },
             "line": {
              "color": "white"
             }
            },
            "type": "table"
           }
          ]
         },
         "layout": {
          "annotationdefaults": {
           "arrowcolor": "#2a3f5f",
           "arrowhead": 0,
           "arrowwidth": 1
          },
          "autotypenumbers": "strict",
          "coloraxis": {
           "colorbar": {
            "outlinewidth": 0,
            "ticks": ""
           }
          },
          "colorscale": {
           "diverging": [
            [
             0,
             "#8e0152"
            ],
            [
             0.1,
             "#c51b7d"
            ],
            [
             0.2,
             "#de77ae"
            ],
            [
             0.3,
             "#f1b6da"
            ],
            [
             0.4,
             "#fde0ef"
            ],
            [
             0.5,
             "#f7f7f7"
            ],
            [
             0.6,
             "#e6f5d0"
            ],
            [
             0.7,
             "#b8e186"
            ],
            [
             0.8,
             "#7fbc41"
            ],
            [
             0.9,
             "#4d9221"
            ],
            [
             1,
             "#276419"
            ]
           ],
           "sequential": [
            [
             0,
             "#0d0887"
            ],
            [
             0.1111111111111111,
             "#46039f"
            ],
            [
             0.2222222222222222,
             "#7201a8"
            ],
            [
             0.3333333333333333,
             "#9c179e"
            ],
            [
             0.4444444444444444,
             "#bd3786"
            ],
            [
             0.5555555555555556,
             "#d8576b"
            ],
            [
             0.6666666666666666,
             "#ed7953"
            ],
            [
             0.7777777777777778,
             "#fb9f3a"
            ],
            [
             0.8888888888888888,
             "#fdca26"
            ],
            [
             1,
             "#f0f921"
            ]
           ],
           "sequentialminus": [
            [
             0,
             "#0d0887"
            ],
            [
             0.1111111111111111,
             "#46039f"
            ],
            [
             0.2222222222222222,
             "#7201a8"
            ],
            [
             0.3333333333333333,
             "#9c179e"
            ],
            [
             0.4444444444444444,
             "#bd3786"
            ],
            [
             0.5555555555555556,
             "#d8576b"
            ],
            [
             0.6666666666666666,
             "#ed7953"
            ],
            [
             0.7777777777777778,
             "#fb9f3a"
            ],
            [
             0.8888888888888888,
             "#fdca26"
            ],
            [
             1,
             "#f0f921"
            ]
           ]
          },
          "colorway": [
           "#636efa",
           "#EF553B",
           "#00cc96",
           "#ab63fa",
           "#FFA15A",
           "#19d3f3",
           "#FF6692",
           "#B6E880",
           "#FF97FF",
           "#FECB52"
          ],
          "font": {
           "color": "#2a3f5f"
          },
          "geo": {
           "bgcolor": "white",
           "lakecolor": "white",
           "landcolor": "#E5ECF6",
           "showlakes": true,
           "showland": true,
           "subunitcolor": "white"
          },
          "hoverlabel": {
           "align": "left"
          },
          "hovermode": "closest",
          "mapbox": {
           "style": "light"
          },
          "paper_bgcolor": "white",
          "plot_bgcolor": "#E5ECF6",
          "polar": {
           "angularaxis": {
            "gridcolor": "white",
            "linecolor": "white",
            "ticks": ""
           },
           "bgcolor": "#E5ECF6",
           "radialaxis": {
            "gridcolor": "white",
            "linecolor": "white",
            "ticks": ""
           }
          },
          "scene": {
           "xaxis": {
            "backgroundcolor": "#E5ECF6",
            "gridcolor": "white",
            "gridwidth": 2,
            "linecolor": "white",
            "showbackground": true,
            "ticks": "",
            "zerolinecolor": "white"
           },
           "yaxis": {
            "backgroundcolor": "#E5ECF6",
            "gridcolor": "white",
            "gridwidth": 2,
            "linecolor": "white",
            "showbackground": true,
            "ticks": "",
            "zerolinecolor": "white"
           },
           "zaxis": {
            "backgroundcolor": "#E5ECF6",
            "gridcolor": "white",
            "gridwidth": 2,
            "linecolor": "white",
            "showbackground": true,
            "ticks": "",
            "zerolinecolor": "white"
           }
          },
          "shapedefaults": {
           "line": {
            "color": "#2a3f5f"
           }
          },
          "ternary": {
           "aaxis": {
            "gridcolor": "white",
            "linecolor": "white",
            "ticks": ""
           },
           "baxis": {
            "gridcolor": "white",
            "linecolor": "white",
            "ticks": ""
           },
           "bgcolor": "#E5ECF6",
           "caxis": {
            "gridcolor": "white",
            "linecolor": "white",
            "ticks": ""
           }
          },
          "title": {
           "x": 0.05
          },
          "xaxis": {
           "automargin": true,
           "gridcolor": "white",
           "linecolor": "white",
           "ticks": "",
           "title": {
            "standoff": 15
           },
           "zerolinecolor": "white",
           "zerolinewidth": 2
          },
          "yaxis": {
           "automargin": true,
           "gridcolor": "white",
           "linecolor": "white",
           "ticks": "",
           "title": {
            "standoff": 15
           },
           "zerolinecolor": "white",
           "zerolinewidth": 2
          }
         }
        },
        "title": {
         "text": "NEAT Performance Across Outer Folds"
        },
        "width": 800,
        "xaxis": {
         "title": {
          "text": "Outer Fold"
         }
        },
        "yaxis": {
         "title": {
          "text": "Test RMSE"
         }
        }
       }
      }
     },
     "metadata": {},
     "output_type": "display_data"
    }
   ],
   "source": [
    "# 4. Create Performance Trend Plot\n",
    "fig = go.Figure()\n",
    "fig.add_trace(go.Scatter(\n",
    "    x=outer_scores['outer_fold'],\n",
    "    y=outer_scores['rmse'],\n",
    "    mode='lines+markers',\n",
    "    line=dict(width=2, color='royalblue'),\n",
    "    marker=dict(size=10)\n",
    "))\n",
    "fig.add_hline(\n",
    "    y=outer_scores['rmse'].mean(),\n",
    "    line_dash=\"dot\",\n",
    "    annotation_text=f\"Mean RMSE: {outer_scores['rmse'].mean():.4f}\",\n",
    "    annotation_position=\"bottom right\"\n",
    ")\n",
    "fig.update_layout(\n",
    "    title='NEAT Performance Across Outer Folds',\n",
    "    xaxis_title='Outer Fold',\n",
    "    yaxis_title='Test RMSE',\n",
    "    width=800,\n",
    "    height=400\n",
    ")\n",
    "fig.show()"
   ]
  },
  {
   "cell_type": "markdown",
   "id": "104e3edf",
   "metadata": {},
   "source": [
    "we will now test with the best configuration:\n",
    "\n",
    "activation_default: tanh\n",
    "pop_size: 100"
   ]
  },
  {
   "cell_type": "code",
   "execution_count": 41,
   "id": "8e6ead53",
   "metadata": {},
   "outputs": [],
   "source": [
    "def evaluate_neat_with_best_config(X, y, best_config, neat_template_path=\"neat_template.ini\", k_outer=5, seed=42, node_names=None):\n",
    "\n",
    "    outer_cv = KFold(n_splits=k_outer, shuffle=True, random_state=seed)\n",
    "    outer_scores = []\n",
    "    winners = []\n",
    "    stats_list = []\n",
    "\n",
    "    for fold_idx, (train_idx, test_idx) in enumerate(outer_cv.split(X)):\n",
    "        print(f\"\\n=== Outer Fold {fold_idx + 1}/{k_outer} ===\")\n",
    "\n",
    "        X_train, X_test = X.iloc[train_idx], X.iloc[test_idx]\n",
    "        y_train, y_test = y.iloc[train_idx], y.iloc[test_idx]\n",
    "\n",
    "        # Scaling\n",
    "        x_scaler = RobustScaler()\n",
    "        y_scaler = RobustScaler()\n",
    "        X_train_scaled = x_scaler.fit_transform(X_train)\n",
    "        y_train_scaled = y_scaler.fit_transform(y_train.values.reshape(-1, 1)).flatten()\n",
    "        X_test_scaled = x_scaler.transform(X_test)\n",
    "        y_test_scaled = y_scaler.transform(y_test.values.reshape(-1, 1)).flatten()\n",
    "\n",
    "        # Prepare NEAT config path\n",
    "        log_dir = f\"./log/NEAT/BestRun/\"\n",
    "        os.makedirs(log_dir, exist_ok=True)\n",
    "        neat_config_path = os.path.join(log_dir, f\"best_config_fold{fold_idx}.ini\")\n",
    "\n",
    "        # Write config from best_config\n",
    "        generate_neat_config(neat_template_path, best_config, neat_config_path)\n",
    "\n",
    "        config = neat.Config(neat.DefaultGenome, neat.DefaultReproduction,\n",
    "                             neat.DefaultSpeciesSet, neat.DefaultStagnation, neat_config_path)\n",
    "\n",
    "        eval_genomes = make_eval_genomes(X_train_scaled, y_train_scaled, X_test_scaled, y_test_scaled)\n",
    "\n",
    "        p = neat.Population(config)\n",
    "        stats = neat.StatisticsReporter()\n",
    "        p.add_reporter(neat.StdOutReporter(False))\n",
    "        p.add_reporter(stats)\n",
    "\n",
    "        log_file = os.path.join(log_dir, f\"best_config_neat_output_fold{fold_idx}.txt\")\n",
    "        with open(log_file, 'w') as f:\n",
    "            original_stdout = sys.stdout\n",
    "            sys.stdout = f\n",
    "            try:\n",
    "                winner = p.run(eval_genomes, best_config.get(\"generations\", 50))\n",
    "            finally:\n",
    "                sys.stdout = original_stdout\n",
    "\n",
    "        # Save stats\n",
    "        stats_list.append(stats)\n",
    "        winners.append(winner)\n",
    "\n",
    "        # Evaluate on test set\n",
    "        net = nn.FeedForwardNetwork.create(winner, config)\n",
    "        predictions = np.array([net.activate(x)[0] for x in X_test_scaled])\n",
    "        predictions_orig = safe_inverse_transform(y_scaler, predictions)\n",
    "        y_test_orig = safe_inverse_transform(y_scaler, y_test_scaled)\n",
    "        test_rmse = np.sqrt(np.mean((predictions_orig - y_test_orig) ** 2))\n",
    "        print(f\"Fold {fold_idx+1} RMSE: {test_rmse:.4f}\")\n",
    "        outer_scores.append(test_rmse)\n",
    "\n",
    "        # === VISUALIZATION AND INSPECTION ===\n",
    "\n",
    "        # Print genome\n",
    "        print(\"\\nBest Genome:\")\n",
    "        print(winner)\n",
    "\n",
    "        # Visualize topology\n",
    "        node_names = node_names or {-1: 'A', -2: 'B', 0: 'A XOR B'}\n",
    "        visualize.draw_net(config, winner, view=False,\n",
    "                   node_names=node_names,\n",
    "                   prune_unused=False,\n",
    "                   filename=os.path.join(log_dir, f\"neat_net_fold{fold_idx}\"))\n",
    "\n",
    "        # Print sample output on training data\n",
    "        print(\"\\nOutput on First 3 Training Samples:\")\n",
    "        net = nn.FeedForwardNetwork.create(winner, config)\n",
    "        for xi, xo in zip(X_train_scaled[:3], y_train_scaled[:3]):\n",
    "            out = net.activate(xi)\n",
    "            print(f'  expected output {xo:.3f}, got {out[0]:.3f}')\n",
    "\n",
    "        # Collect all outputs for error inspection\n",
    "        out = [net.activate(xi)[0] for xi in X_train_scaled]\n",
    "        print(\"RMSE: {}\".format([winner.fitness, getattr(winner, 'fitness_val', None)]))\n",
    "\n",
    "        # Plot fitness stats\n",
    "        visualize.plot_stats(stats, ylog=False, show_pop=False,\n",
    "                     invert_y=True, view=False,\n",
    "                     filename=os.path.join(log_dir, f\"neat_stats_fold{fold_idx}\"))\n",
    "        gc.collect()\n",
    "\n",
    "    print(f\"\\n✅ Final RMSE across {k_outer} folds: {np.mean(outer_scores):.4f} ± {np.std(outer_scores):.4f}\")\n",
    "    return outer_scores, winners, stats_list"
   ]
  },
  {
   "cell_type": "code",
   "execution_count": 42,
   "id": "a9470477",
   "metadata": {},
   "outputs": [
    {
     "name": "stdout",
     "output_type": "stream",
     "text": [
      "\n",
      "=== Outer Fold 1/5 ===\n",
      "Fold 1 RMSE: 1.4595\n",
      "\n",
      "Best Genome:\n",
      "Key: 1900\n",
      "Fitness: -0.8528953928507562\n",
      "Nodes:\n",
      "\t0 DefaultNodeGene(key=0, bias=-0.011833586990807554, response=0.08059031256639564, activation=tanh, aggregation=sum)\n",
      "\t143 DefaultNodeGene(key=143, bias=-0.3927071181568226, response=2.5395988387679838, activation=gauss, aggregation=sum)\n",
      "\t232 DefaultNodeGene(key=232, bias=2.583421273081798, response=0.5647033723389551, activation=tanh, aggregation=sum)\n",
      "\t1337 DefaultNodeGene(key=1337, bias=2.986591098863232, response=-2.709461088823172, activation=gauss, aggregation=sum)\n",
      "\t1527 DefaultNodeGene(key=1527, bias=-2.0689051565805125, response=-1.7727349288704621, activation=tanh, aggregation=sum)\n",
      "Connections:\n",
      "\tDefaultConnectionGene(key=(-13, 0), weight=-3.035697385131277, enabled=True)\n",
      "\tDefaultConnectionGene(key=(-12, 0), weight=-1.0627437196494796, enabled=True)\n",
      "\tDefaultConnectionGene(key=(-12, 143), weight=0.9541634463555996, enabled=True)\n",
      "\tDefaultConnectionGene(key=(-11, 0), weight=-1.1499859356465547, enabled=True)\n",
      "\tDefaultConnectionGene(key=(-10, 0), weight=-2.4316307478473362, enabled=False)\n",
      "\tDefaultConnectionGene(key=(-9, 0), weight=-0.41370804706271413, enabled=True)\n",
      "\tDefaultConnectionGene(key=(-8, 0), weight=-2.0795187127934773, enabled=False)\n",
      "\tDefaultConnectionGene(key=(-8, 232), weight=-0.5134018689054012, enabled=True)\n",
      "\tDefaultConnectionGene(key=(-8, 1527), weight=1.0043620298416822, enabled=True)\n",
      "\tDefaultConnectionGene(key=(-7, 0), weight=0.23408715193995, enabled=True)\n",
      "\tDefaultConnectionGene(key=(-6, 0), weight=-1.1259341181407356, enabled=True)\n",
      "\tDefaultConnectionGene(key=(-5, 0), weight=0.004863648089079631, enabled=True)\n",
      "\tDefaultConnectionGene(key=(-5, 1337), weight=1.0407393258997086, enabled=True)\n",
      "\tDefaultConnectionGene(key=(-4, 0), weight=1.3701752473437565, enabled=True)\n",
      "\tDefaultConnectionGene(key=(-3, 0), weight=1.2313315059804988, enabled=True)\n",
      "\tDefaultConnectionGene(key=(-3, 143), weight=-0.8405804621489644, enabled=True)\n",
      "\tDefaultConnectionGene(key=(-2, 0), weight=-0.8699221820123124, enabled=False)\n",
      "\tDefaultConnectionGene(key=(-1, 0), weight=0.8856638497946776, enabled=True)\n",
      "\tDefaultConnectionGene(key=(143, 0), weight=-1.720280410642064, enabled=True)\n",
      "\tDefaultConnectionGene(key=(232, 0), weight=0.7716689922381968, enabled=True)\n",
      "\n",
      "Output on First 3 Training Samples:\n",
      "  expected output -0.755, got -0.286\n",
      "  expected output -0.614, got 0.310\n",
      "  expected output -0.850, got 0.053\n",
      "RMSE: [-0.8528953928507562, -0.7559582913601097]\n",
      "\n",
      "=== Outer Fold 2/5 ===\n",
      "Fold 2 RMSE: 1.1736\n",
      "\n",
      "Best Genome:\n",
      "Key: 4381\n",
      "Fitness: -0.8566044934971412\n",
      "Nodes:\n",
      "\t0 DefaultNodeGene(key=0, bias=0.10510441788543667, response=-0.07609101452639577, activation=tanh, aggregation=sum)\n",
      "\t114 DefaultNodeGene(key=114, bias=-0.009483128987038035, response=3.482894418793279, activation=relu, aggregation=sum)\n",
      "\t526 DefaultNodeGene(key=526, bias=1.2511315600676647, response=2.669645033980936, activation=gauss, aggregation=sum)\n",
      "\t661 DefaultNodeGene(key=661, bias=0.011613767895161775, response=-5.601451465619713, activation=relu, aggregation=sum)\n",
      "\t1278 DefaultNodeGene(key=1278, bias=0.5947781235652791, response=-0.23254349123848717, activation=gauss, aggregation=sum)\n",
      "\t1499 DefaultNodeGene(key=1499, bias=2.8770828422242567, response=-2.7722897682357974, activation=gauss, aggregation=sum)\n",
      "\t1564 DefaultNodeGene(key=1564, bias=-1.1307597752894178, response=-0.16735263750678203, activation=sigmoid, aggregation=sum)\n",
      "\t2319 DefaultNodeGene(key=2319, bias=-0.059550096518043216, response=-0.019641406131205685, activation=relu, aggregation=sum)\n",
      "\t3457 DefaultNodeGene(key=3457, bias=0.532885235064906, response=2.1788578763220667, activation=tanh, aggregation=sum)\n",
      "\t3530 DefaultNodeGene(key=3530, bias=-0.7208577052269962, response=0.16777553372609286, activation=sigmoid, aggregation=sum)\n",
      "Connections:\n",
      "\tDefaultConnectionGene(key=(-13, 0), weight=3.3835311623386506, enabled=True)\n",
      "\tDefaultConnectionGene(key=(-12, 0), weight=1.8676914445049404, enabled=True)\n",
      "\tDefaultConnectionGene(key=(-12, 114), weight=0.7850451463542512, enabled=True)\n",
      "\tDefaultConnectionGene(key=(-12, 1499), weight=-1.454655584076279, enabled=True)\n",
      "\tDefaultConnectionGene(key=(-11, 0), weight=4.526832397387676, enabled=True)\n",
      "\tDefaultConnectionGene(key=(-9, 0), weight=-0.7659003261579763, enabled=True)\n",
      "\tDefaultConnectionGene(key=(-8, 0), weight=-0.7491183462526259, enabled=False)\n",
      "\tDefaultConnectionGene(key=(-8, 114), weight=2.2012163706757883, enabled=False)\n",
      "\tDefaultConnectionGene(key=(-8, 526), weight=-0.5020387425513186, enabled=True)\n",
      "\tDefaultConnectionGene(key=(-7, 0), weight=-0.8177117734779136, enabled=True)\n",
      "\tDefaultConnectionGene(key=(-7, 114), weight=0.6995557346018626, enabled=False)\n",
      "\tDefaultConnectionGene(key=(-7, 1278), weight=-2.173353490236933, enabled=True)\n",
      "\tDefaultConnectionGene(key=(-6, 0), weight=0.6745920149832461, enabled=False)\n",
      "\tDefaultConnectionGene(key=(-6, 1564), weight=-1.8066843848897634, enabled=True)\n",
      "\tDefaultConnectionGene(key=(-5, 0), weight=-0.6008233674522299, enabled=False)\n",
      "\tDefaultConnectionGene(key=(-4, 0), weight=-0.3397122520851631, enabled=True)\n",
      "\tDefaultConnectionGene(key=(-4, 1499), weight=0.76439394637509, enabled=True)\n",
      "\tDefaultConnectionGene(key=(-3, 0), weight=-1.7688496603048964, enabled=True)\n",
      "\tDefaultConnectionGene(key=(-3, 661), weight=-0.6415228136105293, enabled=True)\n",
      "\tDefaultConnectionGene(key=(-3, 2319), weight=0.01926879427738909, enabled=True)\n",
      "\tDefaultConnectionGene(key=(-2, 0), weight=-0.5963684542126282, enabled=False)\n",
      "\tDefaultConnectionGene(key=(-2, 661), weight=0.06998337296154619, enabled=True)\n",
      "\tDefaultConnectionGene(key=(-1, 0), weight=1.6646154269911582, enabled=False)\n",
      "\tDefaultConnectionGene(key=(-1, 114), weight=3.3303665675782868, enabled=True)\n",
      "\tDefaultConnectionGene(key=(-1, 661), weight=-1.08692414656085, enabled=True)\n",
      "\tDefaultConnectionGene(key=(0, 526), weight=-1.1885625692030988, enabled=False)\n",
      "\tDefaultConnectionGene(key=(0, 2319), weight=-0.9673258643916729, enabled=True)\n",
      "\tDefaultConnectionGene(key=(526, 114), weight=1.0386925971722172, enabled=True)\n",
      "\tDefaultConnectionGene(key=(661, 0), weight=-0.5363540726496332, enabled=False)\n",
      "\tDefaultConnectionGene(key=(661, 3457), weight=0.3019345463509656, enabled=True)\n",
      "\tDefaultConnectionGene(key=(1278, 114), weight=-2.7720830983341784, enabled=True)\n",
      "\tDefaultConnectionGene(key=(1278, 1564), weight=1.0482106745614894, enabled=True)\n",
      "\tDefaultConnectionGene(key=(1499, 0), weight=0.44807251742537196, enabled=True)\n",
      "\tDefaultConnectionGene(key=(1499, 526), weight=-0.26808639624781244, enabled=True)\n",
      "\tDefaultConnectionGene(key=(1564, 0), weight=-0.27083825626454905, enabled=True)\n",
      "\tDefaultConnectionGene(key=(2319, 526), weight=1.7459967713801716, enabled=False)\n",
      "\tDefaultConnectionGene(key=(2319, 3530), weight=1.0, enabled=True)\n",
      "\tDefaultConnectionGene(key=(3457, 0), weight=0.7989503505720905, enabled=True)\n",
      "\tDefaultConnectionGene(key=(3530, 526), weight=0.5073837112185001, enabled=True)\n",
      "\n",
      "Output on First 3 Training Samples:\n",
      "  expected output -0.782, got -0.845\n",
      "  expected output -0.763, got -0.355\n",
      "  expected output -0.629, got -0.340\n",
      "RMSE: [-0.8566044934971412, -0.5777175029764284]\n",
      "\n",
      "=== Outer Fold 3/5 ===\n",
      "Fold 3 RMSE: 2.9817\n",
      "\n",
      "Best Genome:\n",
      "Key: 2166\n",
      "Fitness: -0.5572205748909337\n",
      "Nodes:\n",
      "\t0 DefaultNodeGene(key=0, bias=0.048437378706897675, response=-0.13293909143877847, activation=tanh, aggregation=sum)\n",
      "\t99 DefaultNodeGene(key=99, bias=-0.711006648462607, response=-0.057380342605235175, activation=sigmoid, aggregation=sum)\n",
      "\t223 DefaultNodeGene(key=223, bias=1.3062768805535991, response=0.5943428556545116, activation=tanh, aggregation=sum)\n",
      "\t268 DefaultNodeGene(key=268, bias=-0.9925679939524268, response=-3.5149091692652585, activation=gauss, aggregation=sum)\n",
      "\t613 DefaultNodeGene(key=613, bias=-1.9340066120683175, response=-2.776725808053531, activation=gauss, aggregation=sum)\n",
      "\t963 DefaultNodeGene(key=963, bias=-0.15675709047763484, response=0.6757393017208095, activation=sigmoid, aggregation=sum)\n",
      "\t1184 DefaultNodeGene(key=1184, bias=-0.7861886411192895, response=-0.7354030978204128, activation=relu, aggregation=sum)\n",
      "\t1257 DefaultNodeGene(key=1257, bias=1.1651980092106193, response=-0.49868011118098676, activation=tanh, aggregation=sum)\n",
      "\t1413 DefaultNodeGene(key=1413, bias=-0.9810190598968727, response=0.11135951375540915, activation=gauss, aggregation=sum)\n",
      "\t1772 DefaultNodeGene(key=1772, bias=1.3283089395819492, response=-1.3080198994183385, activation=relu, aggregation=sum)\n",
      "Connections:\n",
      "\tDefaultConnectionGene(key=(-13, 0), weight=1.931834754737063, enabled=True)\n",
      "\tDefaultConnectionGene(key=(-13, 99), weight=0.22285872903276605, enabled=True)\n",
      "\tDefaultConnectionGene(key=(-12, 0), weight=0.5229743837868901, enabled=False)\n",
      "\tDefaultConnectionGene(key=(-12, 99), weight=-0.17267042022323253, enabled=True)\n",
      "\tDefaultConnectionGene(key=(-11, 0), weight=0.5997423664065937, enabled=False)\n",
      "\tDefaultConnectionGene(key=(-11, 99), weight=1.3430464856390985, enabled=True)\n",
      "\tDefaultConnectionGene(key=(-11, 1257), weight=1.506152349218476, enabled=True)\n",
      "\tDefaultConnectionGene(key=(-10, 0), weight=0.6581338269073737, enabled=True)\n",
      "\tDefaultConnectionGene(key=(-10, 99), weight=-1.6927152051125702, enabled=True)\n",
      "\tDefaultConnectionGene(key=(-9, 0), weight=0.05192309259780467, enabled=True)\n",
      "\tDefaultConnectionGene(key=(-9, 99), weight=0.27488156158425175, enabled=True)\n",
      "\tDefaultConnectionGene(key=(-8, 0), weight=-0.2670744810538908, enabled=False)\n",
      "\tDefaultConnectionGene(key=(-8, 99), weight=-1.8973175462005045, enabled=False)\n",
      "\tDefaultConnectionGene(key=(-8, 613), weight=3.177125880972205, enabled=False)\n",
      "\tDefaultConnectionGene(key=(-8, 1184), weight=1.697492318373856, enabled=True)\n",
      "\tDefaultConnectionGene(key=(-8, 1772), weight=1.5734223036268213, enabled=True)\n",
      "\tDefaultConnectionGene(key=(-7, 0), weight=-1.0894532970581248, enabled=False)\n",
      "\tDefaultConnectionGene(key=(-7, 99), weight=-1.8262485446107908, enabled=True)\n",
      "\tDefaultConnectionGene(key=(-7, 963), weight=2.3609082412093745, enabled=True)\n",
      "\tDefaultConnectionGene(key=(-7, 1184), weight=-1.66409034123984, enabled=True)\n",
      "\tDefaultConnectionGene(key=(-6, 0), weight=2.634888242328695, enabled=False)\n",
      "\tDefaultConnectionGene(key=(-6, 99), weight=-2.3613576080905756, enabled=True)\n",
      "\tDefaultConnectionGene(key=(-5, 0), weight=0.4955499468895604, enabled=True)\n",
      "\tDefaultConnectionGene(key=(-5, 99), weight=2.1481996246735746, enabled=True)\n",
      "\tDefaultConnectionGene(key=(-4, 0), weight=-2.462637505328725, enabled=False)\n",
      "\tDefaultConnectionGene(key=(-4, 99), weight=0.9812787966362798, enabled=True)\n",
      "\tDefaultConnectionGene(key=(-4, 268), weight=-2.7700654413944457, enabled=True)\n",
      "\tDefaultConnectionGene(key=(-4, 1413), weight=0.3827367012298944, enabled=True)\n",
      "\tDefaultConnectionGene(key=(-3, 0), weight=-3.935301401458322, enabled=True)\n",
      "\tDefaultConnectionGene(key=(-3, 99), weight=2.1572894493423114, enabled=True)\n",
      "\tDefaultConnectionGene(key=(-2, 0), weight=0.6339335731764153, enabled=False)\n",
      "\tDefaultConnectionGene(key=(-2, 99), weight=-2.136089035171251, enabled=True)\n",
      "\tDefaultConnectionGene(key=(-1, 0), weight=0.6989299940429551, enabled=True)\n",
      "\tDefaultConnectionGene(key=(-1, 99), weight=-1.1527121024203664, enabled=False)\n",
      "\tDefaultConnectionGene(key=(-1, 223), weight=-0.5273618021723095, enabled=True)\n",
      "\tDefaultConnectionGene(key=(99, 0), weight=2.124984528915767, enabled=True)\n",
      "\tDefaultConnectionGene(key=(223, 99), weight=-2.3010212244803236, enabled=True)\n",
      "\tDefaultConnectionGene(key=(268, 99), weight=0.11090317124271377, enabled=True)\n",
      "\tDefaultConnectionGene(key=(268, 1184), weight=1.9489118009216517, enabled=True)\n",
      "\tDefaultConnectionGene(key=(613, 0), weight=1.9520842651714374, enabled=True)\n",
      "\tDefaultConnectionGene(key=(963, 0), weight=0.5330269814565258, enabled=True)\n",
      "\tDefaultConnectionGene(key=(1184, 613), weight=0.11553525696366967, enabled=True)\n",
      "\tDefaultConnectionGene(key=(1413, 0), weight=-1.2659572263744747, enabled=True)\n",
      "\tDefaultConnectionGene(key=(1772, 99), weight=-2.7909205731654443, enabled=True)\n",
      "\n",
      "Output on First 3 Training Samples:\n",
      "  expected output -0.774, got -0.748\n",
      "  expected output -0.754, got -0.334\n",
      "  expected output -0.613, got -0.051\n",
      "RMSE: [-0.5572205748909337, -1.5449889048743106]\n",
      "\n",
      "=== Outer Fold 4/5 ===\n",
      "Fold 4 RMSE: 1.0618\n",
      "\n",
      "Best Genome:\n",
      "Key: 3680\n",
      "Fitness: -0.8315144682480214\n",
      "Nodes:\n",
      "\t0 DefaultNodeGene(key=0, bias=0.01455833537746513, response=0.07556025560043392, activation=tanh, aggregation=sum)\n",
      "\t74 DefaultNodeGene(key=74, bias=-1.667466123650494, response=0.08099932100909135, activation=relu, aggregation=sum)\n",
      "\t1172 DefaultNodeGene(key=1172, bias=1.6779134179638049, response=3.5668116845613547, activation=tanh, aggregation=sum)\n",
      "\t1596 DefaultNodeGene(key=1596, bias=-1.2164235110078934, response=-1.1736058406477345, activation=sigmoid, aggregation=sum)\n",
      "\t2167 DefaultNodeGene(key=2167, bias=0.4533109733133674, response=-0.9797371154989196, activation=gauss, aggregation=sum)\n",
      "\t2981 DefaultNodeGene(key=2981, bias=-0.7286545329424119, response=0.10674208398239035, activation=tanh, aggregation=sum)\n",
      "Connections:\n",
      "\tDefaultConnectionGene(key=(-13, 0), weight=-4.385698367394725, enabled=True)\n",
      "\tDefaultConnectionGene(key=(-13, 74), weight=0.1737044762704556, enabled=False)\n",
      "\tDefaultConnectionGene(key=(-13, 1172), weight=-0.5757533732320202, enabled=True)\n",
      "\tDefaultConnectionGene(key=(-12, 0), weight=0.42145028007285124, enabled=True)\n",
      "\tDefaultConnectionGene(key=(-12, 74), weight=1.7521503721770562, enabled=True)\n",
      "\tDefaultConnectionGene(key=(-11, 74), weight=0.218534287818937, enabled=True)\n",
      "\tDefaultConnectionGene(key=(-11, 1596), weight=-0.12515822075241087, enabled=True)\n",
      "\tDefaultConnectionGene(key=(-10, 0), weight=-1.4287040335392118, enabled=True)\n",
      "\tDefaultConnectionGene(key=(-10, 74), weight=-1.8184510688087812, enabled=False)\n",
      "\tDefaultConnectionGene(key=(-10, 2167), weight=-0.9973758847183405, enabled=True)\n",
      "\tDefaultConnectionGene(key=(-9, 0), weight=-0.8283729354114444, enabled=False)\n",
      "\tDefaultConnectionGene(key=(-9, 74), weight=-0.15539158360274438, enabled=False)\n",
      "\tDefaultConnectionGene(key=(-9, 1172), weight=-3.3772117093288005, enabled=True)\n",
      "\tDefaultConnectionGene(key=(-9, 1596), weight=-0.8895069163969482, enabled=True)\n",
      "\tDefaultConnectionGene(key=(-8, 0), weight=0.4214043275892369, enabled=True)\n",
      "\tDefaultConnectionGene(key=(-8, 74), weight=0.34372358480859355, enabled=False)\n",
      "\tDefaultConnectionGene(key=(-7, 0), weight=-1.1256258990995307, enabled=True)\n",
      "\tDefaultConnectionGene(key=(-7, 74), weight=-0.920267921479452, enabled=False)\n",
      "\tDefaultConnectionGene(key=(-6, 0), weight=0.12450635842593161, enabled=False)\n",
      "\tDefaultConnectionGene(key=(-6, 74), weight=-0.6212546202624123, enabled=True)\n",
      "\tDefaultConnectionGene(key=(-5, 0), weight=0.05262879454997105, enabled=True)\n",
      "\tDefaultConnectionGene(key=(-5, 74), weight=0.09035878792024948, enabled=True)\n",
      "\tDefaultConnectionGene(key=(-4, 0), weight=0.9694047976743252, enabled=True)\n",
      "\tDefaultConnectionGene(key=(-4, 74), weight=4.576661483912896, enabled=False)\n",
      "\tDefaultConnectionGene(key=(-4, 2981), weight=0.6210059551717935, enabled=True)\n",
      "\tDefaultConnectionGene(key=(-3, 0), weight=0.19177785741021516, enabled=True)\n",
      "\tDefaultConnectionGene(key=(-3, 74), weight=-1.4426869979426327, enabled=False)\n",
      "\tDefaultConnectionGene(key=(-2, 0), weight=1.1568536193440735, enabled=True)\n",
      "\tDefaultConnectionGene(key=(-2, 74), weight=-2.3135315250012023, enabled=False)\n",
      "\tDefaultConnectionGene(key=(-1, 0), weight=0.2692759755067145, enabled=False)\n",
      "\tDefaultConnectionGene(key=(-1, 74), weight=-0.6886196697363853, enabled=True)\n",
      "\tDefaultConnectionGene(key=(74, 0), weight=0.5513086071326849, enabled=True)\n",
      "\tDefaultConnectionGene(key=(1172, 0), weight=0.5398267929213716, enabled=True)\n",
      "\tDefaultConnectionGene(key=(1596, 74), weight=-0.20491775491976616, enabled=True)\n",
      "\tDefaultConnectionGene(key=(2167, 74), weight=-2.327470350068547, enabled=True)\n",
      "\tDefaultConnectionGene(key=(2981, 74), weight=4.955810663713685, enabled=True)\n",
      "\n",
      "Output on First 3 Training Samples:\n",
      "  expected output -0.669, got -0.137\n",
      "  expected output -0.650, got 0.171\n",
      "  expected output -0.517, got 0.406\n",
      "RMSE: [-0.8315144682480214, -0.5163373521339027]\n",
      "\n",
      "=== Outer Fold 5/5 ===\n",
      "Fold 5 RMSE: 0.8041\n",
      "\n",
      "Best Genome:\n",
      "Key: 4287\n",
      "Fitness: -0.9733091030116456\n",
      "Nodes:\n",
      "\t0 DefaultNodeGene(key=0, bias=0.05824503671207677, response=-0.12958053720081475, activation=tanh, aggregation=sum)\n",
      "\t94 DefaultNodeGene(key=94, bias=-0.30146715545657743, response=-0.37792183934144613, activation=sigmoid, aggregation=sum)\n",
      "\t168 DefaultNodeGene(key=168, bias=0.9798511027478104, response=-3.481949860113873, activation=relu, aggregation=sum)\n",
      "\t806 DefaultNodeGene(key=806, bias=-0.7049239700249148, response=0.20310976824184976, activation=relu, aggregation=sum)\n",
      "\t2525 DefaultNodeGene(key=2525, bias=0.12938959715339796, response=-1.31232166536304, activation=gauss, aggregation=sum)\n",
      "\t3163 DefaultNodeGene(key=3163, bias=-0.148475073692671, response=1.8036538806494293, activation=relu, aggregation=sum)\n",
      "\t3235 DefaultNodeGene(key=3235, bias=0.47407364977509747, response=0.43085186680652865, activation=tanh, aggregation=sum)\n",
      "\t3308 DefaultNodeGene(key=3308, bias=0.3305863824679652, response=-0.1253524016671611, activation=tanh, aggregation=sum)\n",
      "\t3468 DefaultNodeGene(key=3468, bias=0.5008251599248477, response=-0.24920713889942164, activation=tanh, aggregation=sum)\n",
      "Connections:\n",
      "\tDefaultConnectionGene(key=(-13, 0), weight=3.0265615143815974, enabled=True)\n",
      "\tDefaultConnectionGene(key=(-13, 94), weight=1.5157368786719578, enabled=True)\n",
      "\tDefaultConnectionGene(key=(-12, 0), weight=0.8507297390441226, enabled=False)\n",
      "\tDefaultConnectionGene(key=(-12, 94), weight=1.422118368791066, enabled=False)\n",
      "\tDefaultConnectionGene(key=(-12, 168), weight=-0.8546845962269907, enabled=True)\n",
      "\tDefaultConnectionGene(key=(-11, 0), weight=-0.12478718371315063, enabled=True)\n",
      "\tDefaultConnectionGene(key=(-11, 94), weight=-1.5076840096426032, enabled=True)\n",
      "\tDefaultConnectionGene(key=(-10, 0), weight=0.6079972872880826, enabled=False)\n",
      "\tDefaultConnectionGene(key=(-10, 3468), weight=0.7699419261608148, enabled=True)\n",
      "\tDefaultConnectionGene(key=(-9, 0), weight=-1.063191867434889, enabled=False)\n",
      "\tDefaultConnectionGene(key=(-9, 94), weight=-2.0545626456299955, enabled=True)\n",
      "\tDefaultConnectionGene(key=(-9, 806), weight=0.8150828422502132, enabled=True)\n",
      "\tDefaultConnectionGene(key=(-8, 0), weight=0.7247588956506658, enabled=True)\n",
      "\tDefaultConnectionGene(key=(-8, 94), weight=0.9607856153302976, enabled=True)\n",
      "\tDefaultConnectionGene(key=(-7, 0), weight=0.9742887027237157, enabled=False)\n",
      "\tDefaultConnectionGene(key=(-7, 168), weight=-1.5887429183064865, enabled=True)\n",
      "\tDefaultConnectionGene(key=(-6, 0), weight=-1.527438112555897, enabled=True)\n",
      "\tDefaultConnectionGene(key=(-6, 94), weight=-1.5331050727193878, enabled=True)\n",
      "\tDefaultConnectionGene(key=(-5, 0), weight=1.9242784165233435, enabled=True)\n",
      "\tDefaultConnectionGene(key=(-5, 3163), weight=1.1507016997278718, enabled=True)\n",
      "\tDefaultConnectionGene(key=(-4, 0), weight=-0.417419792134311, enabled=True)\n",
      "\tDefaultConnectionGene(key=(-4, 94), weight=0.9388456600374218, enabled=True)\n",
      "\tDefaultConnectionGene(key=(-4, 3235), weight=-0.37512341448355885, enabled=True)\n",
      "\tDefaultConnectionGene(key=(-3, 0), weight=-0.22474800976368828, enabled=True)\n",
      "\tDefaultConnectionGene(key=(-3, 94), weight=3.135843939719313, enabled=True)\n",
      "\tDefaultConnectionGene(key=(-3, 806), weight=-0.7024763123539226, enabled=True)\n",
      "\tDefaultConnectionGene(key=(-3, 2525), weight=0.7018786402260174, enabled=True)\n",
      "\tDefaultConnectionGene(key=(-3, 3163), weight=-1.5364827972862514, enabled=True)\n",
      "\tDefaultConnectionGene(key=(-2, 0), weight=-1.2848212137896957, enabled=False)\n",
      "\tDefaultConnectionGene(key=(-2, 94), weight=-0.2692422599718839, enabled=False)\n",
      "\tDefaultConnectionGene(key=(-2, 3235), weight=-0.20194693745916742, enabled=False)\n",
      "\tDefaultConnectionGene(key=(-2, 3308), weight=1.2427754910153022, enabled=True)\n",
      "\tDefaultConnectionGene(key=(-1, 0), weight=-1.2912644506017406, enabled=True)\n",
      "\tDefaultConnectionGene(key=(-1, 94), weight=-0.33080793489269444, enabled=True)\n",
      "\tDefaultConnectionGene(key=(94, 0), weight=-0.9114840352092992, enabled=False)\n",
      "\tDefaultConnectionGene(key=(94, 806), weight=0.8710062255214543, enabled=True)\n",
      "\tDefaultConnectionGene(key=(168, 94), weight=1.4725185564814554, enabled=True)\n",
      "\tDefaultConnectionGene(key=(806, 0), weight=1.0387212668113468, enabled=True)\n",
      "\tDefaultConnectionGene(key=(2525, 94), weight=-0.4308841987612848, enabled=True)\n",
      "\tDefaultConnectionGene(key=(2525, 168), weight=-0.33011595971439756, enabled=True)\n",
      "\tDefaultConnectionGene(key=(3163, 0), weight=-0.41393228275258614, enabled=True)\n",
      "\tDefaultConnectionGene(key=(3235, 94), weight=1.8430636118449553, enabled=True)\n",
      "\tDefaultConnectionGene(key=(3308, 3235), weight=-0.014205338661198386, enabled=True)\n",
      "\tDefaultConnectionGene(key=(3468, 0), weight=1.0090852797497158, enabled=True)\n",
      "\n",
      "Output on First 3 Training Samples:\n",
      "  expected output -0.785, got 0.773\n",
      "  expected output -0.865, got 0.414\n",
      "  expected output -3.210, got -0.997\n",
      "RMSE: [-0.9733091030116456, -0.4420426045472077]\n",
      "\n",
      "✅ Final RMSE across 5 folds: 1.4961 ± 0.7720\n"
     ]
    }
   ],
   "source": [
    "best_config = {\n",
    "    \"activation_default\": \"tanh\",\n",
    "    \"pop_size\": 100,\n",
    "}\n",
    "\n",
    "scores, winners, stats = evaluate_neat_with_best_config(\n",
    "    X=X, y=y,\n",
    "    best_config=best_config,\n",
    "    neat_template_path=\"neat_template.ini\",\n",
    "    k_outer=5,\n",
    "    seed=42,\n",
    "    node_names={-1: 'A', -2: 'B', 0: 'A XOR B'}\n",
    ")\n"
   ]
  },
  {
   "cell_type": "code",
   "execution_count": 50,
   "id": "f208eb6d",
   "metadata": {},
   "outputs": [],
   "source": [
    "folds = 5"
   ]
  },
  {
   "cell_type": "code",
   "execution_count": 52,
   "id": "a2cfd4b4",
   "metadata": {},
   "outputs": [
    {
     "data": {
      "text/html": [
       "\n",
       "<h2>Network Topology per Fold</h2>\n",
       "<div style='white-space: nowrap; overflow-x: auto; padding: 10px;'>\n",
       "\n",
       "    <div style='display:inline-block; margin-right: 40px; text-align: center;'>\n",
       "        <h3>Fold 1</h3>\n",
       "        <img src='log/NEAT/BestRun/neat_net_fold0.svg' style='width:1000px; height:auto; border:1px solid #ccc; box-shadow: 2px 2px 10px rgba(0,0,0,0.1);'>\n",
       "    </div>\n",
       "    \n",
       "    <div style='display:inline-block; margin-right: 40px; text-align: center;'>\n",
       "        <h3>Fold 2</h3>\n",
       "        <img src='log/NEAT/BestRun/neat_net_fold1.svg' style='width:1000px; height:auto; border:1px solid #ccc; box-shadow: 2px 2px 10px rgba(0,0,0,0.1);'>\n",
       "    </div>\n",
       "    \n",
       "    <div style='display:inline-block; margin-right: 40px; text-align: center;'>\n",
       "        <h3>Fold 3</h3>\n",
       "        <img src='log/NEAT/BestRun/neat_net_fold2.svg' style='width:1000px; height:auto; border:1px solid #ccc; box-shadow: 2px 2px 10px rgba(0,0,0,0.1);'>\n",
       "    </div>\n",
       "    \n",
       "    <div style='display:inline-block; margin-right: 40px; text-align: center;'>\n",
       "        <h3>Fold 4</h3>\n",
       "        <img src='log/NEAT/BestRun/neat_net_fold3.svg' style='width:1000px; height:auto; border:1px solid #ccc; box-shadow: 2px 2px 10px rgba(0,0,0,0.1);'>\n",
       "    </div>\n",
       "    \n",
       "    <div style='display:inline-block; margin-right: 40px; text-align: center;'>\n",
       "        <h3>Fold 5</h3>\n",
       "        <img src='log/NEAT/BestRun/neat_net_fold4.svg' style='width:1000px; height:auto; border:1px solid #ccc; box-shadow: 2px 2px 10px rgba(0,0,0,0.1);'>\n",
       "    </div>\n",
       "    </div>"
      ],
      "text/plain": [
       "<IPython.core.display.HTML object>"
      ]
     },
     "metadata": {},
     "output_type": "display_data"
    }
   ],
   "source": [
    "net_html = \"\"\"\n",
    "<h2>Network Topology per Fold</h2>\n",
    "<div style='white-space: nowrap; overflow-x: auto; padding: 10px;'>\n",
    "\"\"\"\n",
    "\n",
    "for i in range(folds):\n",
    "    net_html += f\"\"\"\n",
    "    <div style='display:inline-block; margin-right: 40px; text-align: center;'>\n",
    "        <h3>Fold {i+1}</h3>\n",
    "        <img src='log/NEAT/BestRun/neat_net_fold{i}.svg' style='width:1000px; height:auto; border:1px solid #ccc; box-shadow: 2px 2px 10px rgba(0,0,0,0.1);'>\n",
    "    </div>\n",
    "    \"\"\"\n",
    "\n",
    "net_html += \"</div>\"\n",
    "display(HTML(net_html))"
   ]
  },
  {
   "cell_type": "markdown",
   "id": "792b3b4d",
   "metadata": {},
   "source": [
    "- Fold 1: Mostly one-layer deep; appears to represent a shallow structure -> minimal transformation.\n",
    "\n",
    "- Fold 2: In here the network is experimenting with alternate paths and deeper computation, increasing its capacity to generalize XOR behavior. \n",
    "\n",
    "- Fold 3/4/5: Looks like a mature, optimized NEAT genome that has fully explored its topological search space."
   ]
  },
  {
   "cell_type": "code",
   "execution_count": 54,
   "id": "75d5a230",
   "metadata": {},
   "outputs": [
    {
     "data": {
      "text/html": [
       "\n",
       "<h2>Evaluation Stats per Fold</h2>\n",
       "<div style='white-space: nowrap; overflow-x: auto; padding: 10px;'>\n",
       "\n",
       "    <div style='display:inline-block; margin-right: 40px; text-align: center;'>\n",
       "        <h3>Fold 1</h3>\n",
       "        <img src='log/NEAT/BestRun/neat_stats_fold0.png' style='width:600px; height:auto; border:1px solid #ccc; box-shadow: 2px 2px 10px rgba(0,0,0,0.1);'>\n",
       "    </div>\n",
       "    \n",
       "    <div style='display:inline-block; margin-right: 40px; text-align: center;'>\n",
       "        <h3>Fold 2</h3>\n",
       "        <img src='log/NEAT/BestRun/neat_stats_fold1.png' style='width:600px; height:auto; border:1px solid #ccc; box-shadow: 2px 2px 10px rgba(0,0,0,0.1);'>\n",
       "    </div>\n",
       "    \n",
       "    <div style='display:inline-block; margin-right: 40px; text-align: center;'>\n",
       "        <h3>Fold 3</h3>\n",
       "        <img src='log/NEAT/BestRun/neat_stats_fold2.png' style='width:600px; height:auto; border:1px solid #ccc; box-shadow: 2px 2px 10px rgba(0,0,0,0.1);'>\n",
       "    </div>\n",
       "    \n",
       "    <div style='display:inline-block; margin-right: 40px; text-align: center;'>\n",
       "        <h3>Fold 4</h3>\n",
       "        <img src='log/NEAT/BestRun/neat_stats_fold3.png' style='width:600px; height:auto; border:1px solid #ccc; box-shadow: 2px 2px 10px rgba(0,0,0,0.1);'>\n",
       "    </div>\n",
       "    \n",
       "    <div style='display:inline-block; margin-right: 40px; text-align: center;'>\n",
       "        <h3>Fold 5</h3>\n",
       "        <img src='log/NEAT/BestRun/neat_stats_fold4.png' style='width:600px; height:auto; border:1px solid #ccc; box-shadow: 2px 2px 10px rgba(0,0,0,0.1);'>\n",
       "    </div>\n",
       "    </div>"
      ],
      "text/plain": [
       "<IPython.core.display.HTML object>"
      ]
     },
     "metadata": {},
     "output_type": "display_data"
    }
   ],
   "source": [
    "stats_html = \"\"\"\n",
    "<h2>Evaluation Stats per Fold</h2>\n",
    "<div style='white-space: nowrap; overflow-x: auto; padding: 10px;'>\n",
    "\"\"\"\n",
    "\n",
    "for i in range(folds):\n",
    "    stats_html += f\"\"\"\n",
    "    <div style='display:inline-block; margin-right: 40px; text-align: center;'>\n",
    "        <h3>Fold {i+1}</h3>\n",
    "        <img src='log/NEAT/BestRun/neat_stats_fold{i}.png' style='width:600px; height:auto; border:1px solid #ccc; box-shadow: 2px 2px 10px rgba(0,0,0,0.1);'>\n",
    "    </div>\n",
    "    \"\"\"\n",
    "\n",
    "stats_html += \"</div>\"\n",
    "display(HTML(stats_html))"
   ]
  },
  {
   "cell_type": "markdown",
   "id": "4451b350",
   "metadata": {},
   "source": [
    "**Fold 1:** Fitness quickly converges around generation ~20 and stays stable. There’s a small gap between training and validation fitness (about 0.1), which remains stable, meaning that the etwork is not even fitting the training set as well as the validation set → mild under-fitting.\n",
    "\n",
    "**Fold 2:** Training fitness converges around generation 25, although thr validation fitness increses a lot at the end but was interrupted. Severe under-fitting, the genomes never reach the capacity needed to model the training distribution.\n",
    "\n",
    "**Fold 3:** Worst performing fold, textbook over-fitting, the model learns training set well but severly fais in generalize. The model converges but does no learn.\n",
    "\n",
    "**Fold 4:** Very gradual learning for the training set, the validation oscillates a lot (~0.6 → ~0.85 → ~0.5) but finishes around ~0.50. Under-fitting + instability\n",
    "\n",
    "**Fold 5:** Premature stagnation in the evolutionary process. Significant under-fitting."
   ]
  },
  {
   "cell_type": "markdown",
   "id": "4bab84e3",
   "metadata": {},
   "source": [
    "## <a id=\"error-estimation\"></a> \n",
    "<div style=\"background-color: hsla(120, 71.40%, 43.90%, 0.30); padding: 10px; border-radius: 8px; text-align: center; margin-top: 20px; margin-bottom: 20px;\">\n",
    "    <h3 style=\"color: white; margin: 0;\">Estimating the predictive error</h3>\n",
    "</div>\n",
    "\n",
    "[Back to Index](#idx)"
   ]
  },
  {
   "cell_type": "markdown",
   "id": "fa7f75e0",
   "metadata": {},
   "source": [
    "Why Rmse: RMSE assigns a higher weight to larger errors as errors are squared before they are averaged. This indicates that RMSE is much more useful when large errors are present and they drastically affect the model’s performance."
   ]
  }
 ],
 "metadata": {
  "kernelspec": {
   "display_name": "base",
   "language": "python",
   "name": "python3"
  },
  "language_info": {
   "codemirror_mode": {
    "name": "ipython",
    "version": 3
   },
   "file_extension": ".py",
   "mimetype": "text/x-python",
   "name": "python",
   "nbconvert_exporter": "python",
   "pygments_lexer": "ipython3",
   "version": "3.12.3"
  }
 },
 "nbformat": 4,
 "nbformat_minor": 5
}
